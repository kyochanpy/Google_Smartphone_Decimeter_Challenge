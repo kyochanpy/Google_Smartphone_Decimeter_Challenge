{
  "nbformat": 4,
  "nbformat_minor": 0,
  "metadata": {
    "colab": {
      "name": "Untitled125.ipynb",
      "provenance": [],
      "mount_file_id": "1kblRhgbT28HL4by4Ph6fjJSfnODPazZI",
      "authorship_tag": "ABX9TyNgIZRTm0VQp7VSmfi0WNr0",
      "include_colab_link": true
    },
    "kernelspec": {
      "name": "python3",
      "display_name": "Python 3"
    },
    "language_info": {
      "name": "python"
    },
    "widgets": {
      "application/vnd.jupyter.widget-state+json": {
        "1833e60f89b44e8eb6a628affebdf4b5": {
          "model_module": "@jupyter-widgets/controls",
          "model_name": "HBoxModel",
          "state": {
            "_view_name": "HBoxView",
            "_dom_classes": [],
            "_model_name": "HBoxModel",
            "_view_module": "@jupyter-widgets/controls",
            "_model_module_version": "1.5.0",
            "_view_count": null,
            "_view_module_version": "1.5.0",
            "box_style": "",
            "layout": "IPY_MODEL_bcada04714af48a7880e568d5c076dcc",
            "_model_module": "@jupyter-widgets/controls",
            "children": [
              "IPY_MODEL_37e02361b3bf47d8b655d3b23afa2360",
              "IPY_MODEL_31f042150cb54dbcb4631754518ef807"
            ]
          }
        },
        "bcada04714af48a7880e568d5c076dcc": {
          "model_module": "@jupyter-widgets/base",
          "model_name": "LayoutModel",
          "state": {
            "_view_name": "LayoutView",
            "grid_template_rows": null,
            "right": null,
            "justify_content": null,
            "_view_module": "@jupyter-widgets/base",
            "overflow": null,
            "_model_module_version": "1.2.0",
            "_view_count": null,
            "flex_flow": null,
            "width": null,
            "min_width": null,
            "border": null,
            "align_items": null,
            "bottom": null,
            "_model_module": "@jupyter-widgets/base",
            "top": null,
            "grid_column": null,
            "overflow_y": null,
            "overflow_x": null,
            "grid_auto_flow": null,
            "grid_area": null,
            "grid_template_columns": null,
            "flex": null,
            "_model_name": "LayoutModel",
            "justify_items": null,
            "grid_row": null,
            "max_height": null,
            "align_content": null,
            "visibility": null,
            "align_self": null,
            "height": null,
            "min_height": null,
            "padding": null,
            "grid_auto_rows": null,
            "grid_gap": null,
            "max_width": null,
            "order": null,
            "_view_module_version": "1.2.0",
            "grid_template_areas": null,
            "object_position": null,
            "object_fit": null,
            "grid_auto_columns": null,
            "margin": null,
            "display": null,
            "left": null
          }
        },
        "37e02361b3bf47d8b655d3b23afa2360": {
          "model_module": "@jupyter-widgets/controls",
          "model_name": "FloatProgressModel",
          "state": {
            "_view_name": "ProgressView",
            "style": "IPY_MODEL_f7ddbcee6aad4f1da9c18451523113ab",
            "_dom_classes": [],
            "description": "100%",
            "_model_name": "FloatProgressModel",
            "bar_style": "success",
            "max": 73,
            "_view_module": "@jupyter-widgets/controls",
            "_model_module_version": "1.5.0",
            "value": 73,
            "_view_count": null,
            "_view_module_version": "1.5.0",
            "orientation": "horizontal",
            "min": 0,
            "description_tooltip": null,
            "_model_module": "@jupyter-widgets/controls",
            "layout": "IPY_MODEL_736a795db3b140e9b2d88098bc9eb371"
          }
        },
        "31f042150cb54dbcb4631754518ef807": {
          "model_module": "@jupyter-widgets/controls",
          "model_name": "HTMLModel",
          "state": {
            "_view_name": "HTMLView",
            "style": "IPY_MODEL_89a953ac534c4caf906f568a0673d053",
            "_dom_classes": [],
            "description": "",
            "_model_name": "HTMLModel",
            "placeholder": "​",
            "_view_module": "@jupyter-widgets/controls",
            "_model_module_version": "1.5.0",
            "value": " 73/73 [04:06&lt;00:00,  3.38s/it]",
            "_view_count": null,
            "_view_module_version": "1.5.0",
            "description_tooltip": null,
            "_model_module": "@jupyter-widgets/controls",
            "layout": "IPY_MODEL_218f3a1fdb054221ad02a8b418b926b1"
          }
        },
        "f7ddbcee6aad4f1da9c18451523113ab": {
          "model_module": "@jupyter-widgets/controls",
          "model_name": "ProgressStyleModel",
          "state": {
            "_view_name": "StyleView",
            "_model_name": "ProgressStyleModel",
            "description_width": "initial",
            "_view_module": "@jupyter-widgets/base",
            "_model_module_version": "1.5.0",
            "_view_count": null,
            "_view_module_version": "1.2.0",
            "bar_color": null,
            "_model_module": "@jupyter-widgets/controls"
          }
        },
        "736a795db3b140e9b2d88098bc9eb371": {
          "model_module": "@jupyter-widgets/base",
          "model_name": "LayoutModel",
          "state": {
            "_view_name": "LayoutView",
            "grid_template_rows": null,
            "right": null,
            "justify_content": null,
            "_view_module": "@jupyter-widgets/base",
            "overflow": null,
            "_model_module_version": "1.2.0",
            "_view_count": null,
            "flex_flow": null,
            "width": null,
            "min_width": null,
            "border": null,
            "align_items": null,
            "bottom": null,
            "_model_module": "@jupyter-widgets/base",
            "top": null,
            "grid_column": null,
            "overflow_y": null,
            "overflow_x": null,
            "grid_auto_flow": null,
            "grid_area": null,
            "grid_template_columns": null,
            "flex": null,
            "_model_name": "LayoutModel",
            "justify_items": null,
            "grid_row": null,
            "max_height": null,
            "align_content": null,
            "visibility": null,
            "align_self": null,
            "height": null,
            "min_height": null,
            "padding": null,
            "grid_auto_rows": null,
            "grid_gap": null,
            "max_width": null,
            "order": null,
            "_view_module_version": "1.2.0",
            "grid_template_areas": null,
            "object_position": null,
            "object_fit": null,
            "grid_auto_columns": null,
            "margin": null,
            "display": null,
            "left": null
          }
        },
        "89a953ac534c4caf906f568a0673d053": {
          "model_module": "@jupyter-widgets/controls",
          "model_name": "DescriptionStyleModel",
          "state": {
            "_view_name": "StyleView",
            "_model_name": "DescriptionStyleModel",
            "description_width": "",
            "_view_module": "@jupyter-widgets/base",
            "_model_module_version": "1.5.0",
            "_view_count": null,
            "_view_module_version": "1.2.0",
            "_model_module": "@jupyter-widgets/controls"
          }
        },
        "218f3a1fdb054221ad02a8b418b926b1": {
          "model_module": "@jupyter-widgets/base",
          "model_name": "LayoutModel",
          "state": {
            "_view_name": "LayoutView",
            "grid_template_rows": null,
            "right": null,
            "justify_content": null,
            "_view_module": "@jupyter-widgets/base",
            "overflow": null,
            "_model_module_version": "1.2.0",
            "_view_count": null,
            "flex_flow": null,
            "width": null,
            "min_width": null,
            "border": null,
            "align_items": null,
            "bottom": null,
            "_model_module": "@jupyter-widgets/base",
            "top": null,
            "grid_column": null,
            "overflow_y": null,
            "overflow_x": null,
            "grid_auto_flow": null,
            "grid_area": null,
            "grid_template_columns": null,
            "flex": null,
            "_model_name": "LayoutModel",
            "justify_items": null,
            "grid_row": null,
            "max_height": null,
            "align_content": null,
            "visibility": null,
            "align_self": null,
            "height": null,
            "min_height": null,
            "padding": null,
            "grid_auto_rows": null,
            "grid_gap": null,
            "max_width": null,
            "order": null,
            "_view_module_version": "1.2.0",
            "grid_template_areas": null,
            "object_position": null,
            "object_fit": null,
            "grid_auto_columns": null,
            "margin": null,
            "display": null,
            "left": null
          }
        }
      }
    }
  },
  "cells": [
    {
      "cell_type": "markdown",
      "metadata": {
        "id": "view-in-github",
        "colab_type": "text"
      },
      "source": [
        "<a href=\"https://colab.research.google.com/github/kyochanpy/Google_Smartphone_Decimeter_Challenge/blob/main/PP/make_triangle_01.ipynb\" target=\"_parent\"><img src=\"https://colab.research.google.com/assets/colab-badge.svg\" alt=\"Open In Colab\"/></a>"
      ]
    },
    {
      "cell_type": "code",
      "metadata": {
        "id": "JjRw2q_irTr5"
      },
      "source": [
        "!pip install optuna > /dev/null\n",
        "!pip install pyproj > /dev/null\n",
        "!pip install simdkalman > /dev/null\n",
        "    \n",
        "import os\n",
        "from glob import glob\n",
        "from pathlib import Path\n",
        "\n",
        "import numpy as np\n",
        "import pandas as pd\n",
        "import matplotlib.pyplot as plt\n",
        "from matplotlib_venn import venn2, venn2_circles\n",
        "import seaborn as sns\n",
        "\n",
        "import optuna\n",
        "import plotly\n",
        "import plotly.express as px\n",
        "import pyproj\n",
        "from pathlib import Path\n",
        "from pyproj import Proj, transform\n",
        "from tqdm.notebook import tqdm\n",
        "import simdkalman"
      ],
      "execution_count": 1,
      "outputs": []
    },
    {
      "cell_type": "code",
      "metadata": {
        "colab": {
          "base_uri": "https://localhost:8080/",
          "height": 66,
          "referenced_widgets": [
            "1833e60f89b44e8eb6a628affebdf4b5",
            "bcada04714af48a7880e568d5c076dcc",
            "37e02361b3bf47d8b655d3b23afa2360",
            "31f042150cb54dbcb4631754518ef807",
            "f7ddbcee6aad4f1da9c18451523113ab",
            "736a795db3b140e9b2d88098bc9eb371",
            "89a953ac534c4caf906f568a0673d053",
            "218f3a1fdb054221ad02a8b418b926b1"
          ]
        },
        "id": "7GDoNS4lrU0Y",
        "outputId": "494fdb6e-88c6-467b-d0e0-7daf67259048"
      },
      "source": [
        "path = Path(\"/content/drive/MyDrive/GSDC\")\n",
        "#test_base = pd.read_csv(path / \"baseline_locations_test.csv\")\n",
        "test_base = pd.read_csv(\"/content/drive/MyDrive/GSDC/test_pre_next_move_closer_SJC.csv\")\n",
        "\n",
        "sub = pd.read_csv(path / \"sample_submission.csv\")\n",
        "\n",
        "truths = (path / \"train\").rglob(\"ground_truth.csv\")\n",
        "\n",
        "df_list = []\n",
        "cols = [\"collectionName\", \"phoneName\", \"millisSinceGpsEpoch\", \"latDeg\", \"lngDeg\"]\n",
        "\n",
        "for t in tqdm(truths, total=73):\n",
        "    df_phone = pd.read_csv(t, usecols=cols)\n",
        "    df_list.append(df_phone)\n",
        "df_truth = pd.concat(df_list, ignore_index=True)\n",
        "\n",
        "train_base = pd.read_csv(path / \"baseline_locations_train.csv\")\n",
        "all_df = df_truth.merge(train_base, how=\"inner\", on=cols[:3], suffixes=(\"_truth\", '_train_base'))"
      ],
      "execution_count": 2,
      "outputs": [
        {
          "output_type": "display_data",
          "data": {
            "application/vnd.jupyter.widget-view+json": {
              "model_id": "1833e60f89b44e8eb6a628affebdf4b5",
              "version_minor": 0,
              "version_major": 2
            },
            "text/plain": [
              "HBox(children=(FloatProgress(value=0.0, max=73.0), HTML(value='')))"
            ]
          },
          "metadata": {
            "tags": []
          }
        },
        {
          "output_type": "stream",
          "text": [
            "\n"
          ],
          "name": "stdout"
        }
      ]
    },
    {
      "cell_type": "code",
      "metadata": {
        "id": "4vB22Ah-rXnW"
      },
      "source": [
        "def get_groundtruth(path: Path) -> pd.DataFrame:\n",
        "        output_df = pd.DataFrame()\n",
        "        \n",
        "        for path in glob(str(path / 'train/*/*/ground_truth.csv')):\n",
        "            _df = pd.read_csv(path)\n",
        "            output_df = pd.concat([output_df, _df])\n",
        "        output_df = output_df.reset_index(drop=True)\n",
        "        \n",
        "        _columns = ['latDeg', 'lngDeg', 'heightAboveWgs84EllipsoidM']\n",
        "        output_df[['t_'+col for col in _columns]] = output_df[_columns]\n",
        "        output_df = output_df.drop(columns=_columns, axis=1)\n",
        "        return output_df\n",
        "\n",
        "train_base = train_base.merge(\n",
        "    get_groundtruth(path),\n",
        "    on=['collectionName', 'phoneName', 'millisSinceGpsEpoch']\n",
        ")"
      ],
      "execution_count": 3,
      "outputs": []
    },
    {
      "cell_type": "code",
      "metadata": {
        "id": "dsP2vXmXTHgo"
      },
      "source": [
        "def check_score(input_df: pd.DataFrame) -> pd.DataFrame:\n",
        "    output_df = input_df.copy()\n",
        "    \n",
        "    output_df['meter'] = input_df.apply(\n",
        "        lambda r: calc_haversine(\n",
        "            r.latDeg, r.lngDeg, r.t_latDeg, r.t_lngDeg\n",
        "        ),\n",
        "        axis=1\n",
        "    )\n",
        "\n",
        "    meter_score = output_df['meter'].mean()\n",
        "    print(f'error meter: {meter_score}')\n",
        "\n",
        "    scores = []\n",
        "    for phone in output_df['phone'].unique():\n",
        "        _index = output_df['phone']==phone\n",
        "        p_50 = np.percentile(output_df.loc[_index, 'meter'], 50)\n",
        "        p_95 = np.percentile(output_df.loc[_index, 'meter'], 95)\n",
        "        scores.append(p_50)\n",
        "        scores.append(p_95)\n",
        "\n",
        "    score = sum(scores) / len(scores)\n",
        "    print(f'score: {score}')\n",
        "    \n",
        "    return output_df"
      ],
      "execution_count": 54,
      "outputs": []
    },
    {
      "cell_type": "code",
      "metadata": {
        "id": "opVfY6i0rb6-"
      },
      "source": [
        "def calc_haversine(lat1, lon1, lat2, lon2):\n",
        "    RADIUS = 6_367_000\n",
        "    lat1, lon1, lat2, lon2 = map(np.radians, [lat1, lon1, lat2, lon2])\n",
        "    dlat = lat2 - lat1\n",
        "    dlon = lon2 - lon1\n",
        "    d = np.sin(dlat/2)**2 + np.cos(lat1) * np.cos(lat2) * np.sin(dlon/2)**2\n",
        "    dist = 2 * RADIUS * np.arcsin(d**0.5)\n",
        "    return dist"
      ],
      "execution_count": 4,
      "outputs": []
    },
    {
      "cell_type": "code",
      "metadata": {
        "id": "sZnmviyHryDY"
      },
      "source": [
        "def make_triangle_train(input_df):\n",
        "    output_df = input_df.copy()\n",
        "\n",
        "    def add_triangle_features(input_df):\n",
        "        output_df = input_df.copy()\n",
        "        output_df[\"latDeg_pro_1\"] = output_df[\"latDeg\"].shift(-1)\n",
        "        output_df[\"latDeg_pro_2\"] = output_df[\"latDeg\"].shift(-2)\n",
        "        output_df[\"lngDeg_pro_1\"] = output_df[\"lngDeg\"].shift(-1)\n",
        "        output_df[\"lngDeg_pro_2\"] = output_df[\"lngDeg\"].shift(-2)\n",
        "        output_df[\"millisSinceGpsEpoch_pro_1\"] = output_df[\"millisSinceGpsEpoch\"].shift(-1)\n",
        "        output_df[\"millisSinceGpsEpoch_pro_2\"] = output_df[\"millisSinceGpsEpoch\"].shift(-2)\n",
        "        output_df[\"latDeg_mean_point\"] = (output_df[\"latDeg\"] + ((output_df[\"latDeg_pro_2\"] - output_df[\"latDeg\"]) * \n",
        "                                                               ((output_df[\"millisSinceGpsEpoch_pro_1\"] - output_df[\"millisSinceGpsEpoch\"]) /\n",
        "                                                               (output_df[\"millisSinceGpsEpoch_pro_2\"] - output_df[\"millisSinceGpsEpoch\"])))).shift(1)\n",
        "        \n",
        "        output_df[\"lngDeg_mean_point\"] = (output_df[\"lngDeg\"] + ((output_df[\"lngDeg_pro_2\"] - output_df[\"lngDeg\"]) * \n",
        "                                                               ((output_df[\"millisSinceGpsEpoch_pro_1\"] - output_df[\"millisSinceGpsEpoch\"]) /\n",
        "                                                               (output_df[\"millisSinceGpsEpoch_pro_2\"] - output_df[\"millisSinceGpsEpoch\"])))).shift(1)\n",
        "\n",
        "\n",
        "        degree_list = []\n",
        "        for lat, lng, lat_1, lng_1, lat_2, lng_2 in zip(\n",
        "            output_df[\"latDeg\"].to_numpy(),\n",
        "            output_df[\"lngDeg\"].to_numpy(),\n",
        "            output_df[\"latDeg_pro_1\"].to_numpy(),\n",
        "            output_df[\"lngDeg_pro_1\"].to_numpy(),\n",
        "            output_df[\"latDeg_pro_2\"].to_numpy(),\n",
        "            output_df[\"lngDeg_pro_2\"].to_numpy()\n",
        "        ):\n",
        "            p0 = np.array([lat, lng])\n",
        "            p1 = np.array([lat_1, lng_1])\n",
        "            p2 = np.array([lat_2, lng_2])\n",
        "            \n",
        "            vec_p0 = p0 - p1\n",
        "            vec_p2 = p2 - p1\n",
        "            length_vec_p0 = np.linalg.norm(vec_p0)\n",
        "            length_vec_p2 = np.linalg.norm(vec_p2)\n",
        "            inner = np.inner(vec_p0, vec_p2)\n",
        "            degree = np.rad2deg(np.arccos(inner / (length_vec_p0 * length_vec_p2)))\n",
        "            degree_list.append(degree)\n",
        "        degree_list.insert(0, 180)\n",
        "        degree_list.pop(-1)\n",
        "        degree_list[-1] = 180\n",
        "        output_df[\"degree\"] = degree_list\n",
        "        return output_df\n",
        "\n",
        "    train_SJC_list = [\"2021-04-22-US-SJC-1\", \"2021-04-28-US-SJC-1\", \"2021-04-29-US-SJC-2\"]\n",
        "    lat_list = []\n",
        "    lng_list = []\n",
        "\n",
        "    for collection in output_df[\"collectionName\"].unique():\n",
        "        collection_df = output_df[output_df[\"collectionName\"] == collection]\n",
        "        if collection in train_SJC_list:\n",
        "            for phone in collection_df[\"phoneName\"].unique():\n",
        "                phone_df = collection_df[collection_df[\"phoneName\"] == phone]\n",
        "                triangle_df = add_triangle_features(phone_df)\n",
        "                for lat, lng, lat_mp, lng_mp, deg in zip(\n",
        "                    triangle_df[\"latDeg\"].to_numpy(),\n",
        "                    triangle_df[\"lngDeg\"].to_numpy(),\n",
        "                    triangle_df[\"latDeg_mean_point\"].to_numpy(),\n",
        "                    triangle_df[\"lngDeg_mean_point\"].to_numpy(),\n",
        "                    triangle_df[\"degree\"].to_numpy()\n",
        "                ):\n",
        "                    if deg < 140:\n",
        "                        lat_f = (lat + lat_mp)/2\n",
        "                        lng_f = (lng + lng_mp)/2\n",
        "                        lat_list.append(lat_f)\n",
        "                        lng_list.append(lng_f)\n",
        "                    else:\n",
        "                        lat_list.append(lat)\n",
        "                        lng_list.append(lng)\n",
        "        else:\n",
        "            for lat, lng in zip(\n",
        "                collection_df[\"latDeg\"].to_numpy(),\n",
        "                collection_df[\"lngDeg\"].to_numpy(),\n",
        "            ):\n",
        "                lat_list.append(lat)\n",
        "                lng_list.append(lng)\n",
        "    output_df[\"latDeg\"] = lat_list\n",
        "    output_df[\"lngDeg\"] = lng_list\n",
        "    return output_df"
      ],
      "execution_count": 200,
      "outputs": []
    },
    {
      "cell_type": "code",
      "metadata": {
        "colab": {
          "base_uri": "https://localhost:8080/"
        },
        "id": "BH6HyZ6IAAjs",
        "outputId": "5a22ccb6-d7a3-4abf-9267-902ae8af505b"
      },
      "source": [
        "a = make_triangle_train(train_base)"
      ],
      "execution_count": 201,
      "outputs": [
        {
          "output_type": "stream",
          "text": [
            "/usr/local/lib/python3.7/dist-packages/ipykernel_launcher.py:39: RuntimeWarning:\n",
            "\n",
            "invalid value encountered in double_scalars\n",
            "\n"
          ],
          "name": "stderr"
        }
      ]
    },
    {
      "cell_type": "code",
      "metadata": {
        "colab": {
          "base_uri": "https://localhost:8080/"
        },
        "id": "8Xo-zlA_TIcA",
        "outputId": "47bff011-6fe7-44f8-af12-b6338a1aaf68"
      },
      "source": [
        "base = check_score(train_base)"
      ],
      "execution_count": 190,
      "outputs": [
        {
          "output_type": "stream",
          "text": [
            "error meter: 3.846848374990627\n",
            "score: 5.287970649084159\n"
          ],
          "name": "stdout"
        }
      ]
    },
    {
      "cell_type": "code",
      "metadata": {
        "colab": {
          "base_uri": "https://localhost:8080/"
        },
        "id": "BUTDqxT1TM6j",
        "outputId": "880b90d5-b25d-4cfe-e88f-6a48de03cf03"
      },
      "source": [
        "_90 = check_score(a)"
      ],
      "execution_count": 193,
      "outputs": [
        {
          "output_type": "stream",
          "text": [
            "error meter: 3.8027141766770223\n",
            "score: 5.242640175801573\n"
          ],
          "name": "stdout"
        }
      ]
    },
    {
      "cell_type": "code",
      "metadata": {
        "colab": {
          "base_uri": "https://localhost:8080/"
        },
        "id": "dZbjTbp0qvYN",
        "outputId": "5b56b3c7-79dd-4fd6-c1aa-5d4efaeed04f"
      },
      "source": [
        "_110 = check_score(a)"
      ],
      "execution_count": 196,
      "outputs": [
        {
          "output_type": "stream",
          "text": [
            "error meter: 3.7981849849982394\n",
            "score: 5.238530893540435\n"
          ],
          "name": "stdout"
        }
      ]
    },
    {
      "cell_type": "code",
      "metadata": {
        "colab": {
          "base_uri": "https://localhost:8080/"
        },
        "id": "SfvvGj0oq6tO",
        "outputId": "4ebd4c34-0e23-48b5-85fe-18ae2806b054"
      },
      "source": [
        "_120 = check_score(a)"
      ],
      "execution_count": 199,
      "outputs": [
        {
          "output_type": "stream",
          "text": [
            "error meter: 3.7956901494229087\n",
            "score: 5.2352358059150434\n"
          ],
          "name": "stdout"
        }
      ]
    },
    {
      "cell_type": "code",
      "metadata": {
        "colab": {
          "base_uri": "https://localhost:8080/"
        },
        "id": "3312x48Eq-fE",
        "outputId": "f953ba1f-202f-42c4-80bf-a0c7ecce3405"
      },
      "source": [
        "_140 = check_score(a)"
      ],
      "execution_count": 202,
      "outputs": [
        {
          "output_type": "stream",
          "text": [
            "error meter: 3.7912517142085713\n",
            "score: 5.234516597130473\n"
          ],
          "name": "stdout"
        }
      ]
    },
    {
      "cell_type": "code",
      "metadata": {
        "colab": {
          "base_uri": "https://localhost:8080/"
        },
        "id": "DdeKns51AHHO",
        "outputId": "95f49e1b-3f8a-4ea7-841e-9c879b0c7942"
      },
      "source": [
        "a[\"degree\"].describe()"
      ],
      "execution_count": 25,
      "outputs": [
        {
          "output_type": "execute_result",
          "data": {
            "text/plain": [
              "count    131124.000000\n",
              "mean        148.272650\n",
              "std          51.138589\n",
              "min           0.000000\n",
              "25%         147.943917\n",
              "50%         174.732489\n",
              "75%         178.159469\n",
              "max         180.000000\n",
              "Name: degree, dtype: float64"
            ]
          },
          "metadata": {
            "tags": []
          },
          "execution_count": 25
        }
      ]
    },
    {
      "cell_type": "code",
      "metadata": {
        "colab": {
          "base_uri": "https://localhost:8080/",
          "height": 617
        },
        "id": "M7yiXqwwEWCu",
        "outputId": "e908df97-f695-41e1-9f42-4de8ed5f44f4"
      },
      "source": [
        "fig = px.scatter_mapbox(train_base[train_base[\"phone\"] == \"2021-04-29-US-SJC-2_SamsungS20Ultra\"],\n",
        "                            \n",
        "                        # Here, plotly gets, (x,y) coordinates\n",
        "                        lat=\"latDeg\",\n",
        "                        lon=\"lngDeg\",\n",
        "                            \n",
        "                        #Here, plotly detects color of series\n",
        "                        color=\"phoneName\",\n",
        "                        labels=\"phoneName\",\n",
        "                            \n",
        "                        zoom=400,\n",
        "                        height=600,\n",
        "                        width=800)\n",
        "fig.update_layout(mapbox_style='stamen-terrain')\n",
        "fig.update_layout(margin={\"r\": 0, \"t\": 0, \"l\": 0, \"b\": 0})\n",
        "fig.update_layout(title_text=\"GPS trafic\")\n",
        "fig.show()"
      ],
      "execution_count": 33,
      "outputs": [
        {
          "output_type": "display_data",
          "data": {
            "text/html": [
              "<html>\n",
              "<head><meta charset=\"utf-8\" /></head>\n",
              "<body>\n",
              "    <div>\n",
              "            <script src=\"https://cdnjs.cloudflare.com/ajax/libs/mathjax/2.7.5/MathJax.js?config=TeX-AMS-MML_SVG\"></script><script type=\"text/javascript\">if (window.MathJax) {MathJax.Hub.Config({SVG: {font: \"STIX-Web\"}});}</script>\n",
              "                <script type=\"text/javascript\">window.PlotlyConfig = {MathJaxConfig: 'local'};</script>\n",
              "        <script src=\"https://cdn.plot.ly/plotly-latest.min.js\"></script>    \n",
              "            <div id=\"26d53fef-8305-4855-a4b5-97e1af46f833\" class=\"plotly-graph-div\" style=\"height:600px; width:800px;\"></div>\n",
              "            <script type=\"text/javascript\">\n",
              "                \n",
              "                    window.PLOTLYENV=window.PLOTLYENV || {};\n",
              "                    \n",
              "                if (document.getElementById(\"26d53fef-8305-4855-a4b5-97e1af46f833\")) {\n",
              "                    Plotly.newPlot(\n",
              "                        '26d53fef-8305-4855-a4b5-97e1af46f833',\n",
              "                        [{\"hoverlabel\": {\"namelength\": 0}, \"hovertemplate\": \"phoneName=SamsungS20Ultra<br>latDeg=%{lat}<br>lngDeg=%{lon}\", \"lat\": [37.3344698, 37.334464399999995, 37.334480400000004, 37.3344842, 37.3344811, 37.3344665, 37.3344669, 37.33446729999999, 37.3344652, 37.334486600000005, 37.3344501, 37.3344744, 37.3344771, 37.334473100000004, 37.33445510000001, 37.3344573, 37.334458000000005, 37.3344739, 37.3344544, 37.3344536, 37.3344656, 37.3344593, 37.3344546, 37.3344526, 37.3344393, 37.3344417, 37.3344592, 37.3344404, 37.3344814, 37.334507, 37.3345304, 37.3345841, 37.3346131, 37.3346646, 37.3347011, 37.334748499999996, 37.3347974, 37.3348417, 37.3348731, 37.3349385, 37.3349846, 37.33503220000001, 37.3350489, 37.3351161, 37.335153000000005, 37.335172899999996, 37.3351786, 37.335206799999995, 37.335225200000004, 37.335240500000005, 37.3352445, 37.335250200000004, 37.3352673, 37.33528270000001, 37.3352899, 37.3352859, 37.33528, 37.3352777, 37.3352345, 37.3351351, 37.335184399999996, 37.3352753, 37.3353196, 37.335345200000006, 37.335319899999995, 37.3353424, 37.3353179, 37.3353375, 37.3353387, 37.3353408, 37.3353301, 37.335268299999996, 37.3352276, 37.3352647, 37.33512460000001, 37.335029399999996, 37.334931899999994, 37.334897399999996, 37.334830100000005, 37.3347261, 37.334649600000006, 37.334659, 37.3345977, 37.3345925, 37.3345131, 37.3343278, 37.3342102, 37.33419779999999, 37.334156899999996, 37.3340596, 37.3340549, 37.3340526, 37.334051, 37.334032, 37.3340399, 37.3340433, 37.3339095, 37.3338855, 37.333927200000005, 37.3339917, 37.333942, 37.3338951, 37.3339893, 37.3340395, 37.3339926, 37.333673100000006, 37.333928, 37.333694799999996, 37.3336278, 37.333827, 37.333841299999996, 37.333667600000005, 37.3338094, 37.33406420000001, 37.333968299999995, 37.3339735, 37.3340709, 37.33406289999999, 37.3340561, 37.3340526, 37.3340162, 37.3339994, 37.3340371, 37.33401129999999, 37.3340241, 37.3340521, 37.3340741, 37.3341317, 37.334120899999995, 37.3341044, 37.3340734, 37.334067100000006, 37.3340925, 37.334138700000004, 37.334082099999996, 37.334094, 37.3340655, 37.3340495, 37.3340283, 37.3340236, 37.3340435, 37.3340709, 37.334047999999996, 37.3340714, 37.3340944, 37.3340705, 37.334072799999994, 37.3340027, 37.3339981, 37.3339932, 37.3340183, 37.334174, 37.3342177, 37.334405700000005, 37.3346821, 37.3346552, 37.33470379999999, 37.3346721, 37.33453179999999, 37.3346083, 37.334649299999995, 37.33468679999999, 37.334719299999996, 37.3347691, 37.334832, 37.3348869, 37.334931299999994, 37.3349927, 37.3350376, 37.3350928, 37.335159499999996, 37.33526679999999, 37.335186, 37.3351679, 37.3351551, 37.335172899999996, 37.335201399999995, 37.3352886, 37.335283000000004, 37.335308399999995, 37.3353307, 37.3353486, 37.33535379999999, 37.3353773, 37.335351700000004, 37.335417299999996, 37.335380799999996, 37.3353835, 37.3353832, 37.335407000000004, 37.335384399999995, 37.3353804, 37.335337700000004, 37.3354311, 37.335354200000005, 37.3353176, 37.3353531, 37.335336299999994, 37.3354571, 37.3354348, 37.335353999999995, 37.335330799999994, 37.335361999999996, 37.3353375, 37.3353343, 37.3353584, 37.335336, 37.3353836, 37.3353437, 37.33535820000001, 37.3353489, 37.335335799999996, 37.335348700000004, 37.335373700000005, 37.335244200000005, 37.335311600000004, 37.3352779, 37.3352957, 37.335299799999994, 37.335343, 37.335311100000006, 37.335287799999996, 37.3353537, 37.3353486, 37.335345600000004, 37.335302899999995, 37.3353028, 37.3352995, 37.3353088, 37.3353574, 37.335313799999994, 37.3353424, 37.335366799999996, 37.335354200000005, 37.3353282, 37.33532520000001, 37.3353541, 37.3354397, 37.3354839, 37.335499299999995, 37.335533500000004, 37.335597, 37.3357, 37.3356558, 37.335715, 37.335821700000004, 37.335901, 37.335915, 37.335912799999996, 37.3359511, 37.3360811, 37.336019799999995, 37.3361066, 37.3361092, 37.336087, 37.3361236, 37.3361065, 37.3360951, 37.336104299999995, 37.3361366, 37.3361409, 37.3361484, 37.3361745, 37.3362794, 37.336250799999995, 37.336432200000004, 37.336439899999995, 37.3363695, 37.33638320000001, 37.336474, 37.3365142, 37.3364778, 37.3364505, 37.336523799999995, 37.3365443, 37.336477, 37.3364836, 37.336357299999996, 37.336372, 37.3364518, 37.3365911, 37.3364816, 37.3364555, 37.3364899, 37.3365037, 37.3364989, 37.3364524, 37.3364261, 37.3364205, 37.3364841, 37.336479700000005, 37.336482000000004, 37.3364565, 37.3364359, 37.3364639, 37.3363846, 37.336410799999996, 37.33638679999999, 37.336367200000005, 37.3364562, 37.336528799999996, 37.3365018, 37.3365141, 37.33658, 37.336552399999995, 37.336461, 37.3364889, 37.3364744, 37.3364156, 37.3363994, 37.3364403, 37.3364222, 37.3365235, 37.3365463, 37.336582299999996, 37.3365816, 37.3364565, 37.336570200000004, 37.3365215, 37.3365616, 37.336625, 37.336661799999995, 37.3367334, 37.33686229999999, 37.3369432, 37.337043, 37.3370875, 37.3370327, 37.33697960000001, 37.337028499999995, 37.3370233, 37.3370151, 37.336958700000004, 37.336937, 37.3368416, 37.3369099, 37.336868700000004, 37.336923999999996, 37.3369485, 37.3370042, 37.3369932, 37.337006099999996, 37.337014399999994, 37.3370148, 37.337022999999995, 37.3370294, 37.337021299999996, 37.3370489, 37.33703679999999, 37.3370545, 37.337067600000005, 37.33705560000001, 37.3370777, 37.3370969, 37.3371015, 37.3371013, 37.3370975, 37.3370906, 37.3371099, 37.337095700000006, 37.3370776, 37.33706420000001, 37.3370741, 37.3370456, 37.3370055, 37.3370302, 37.337050399999995, 37.3370515, 37.337047, 37.337019899999994, 37.3370017, 37.3370305, 37.3370346, 37.3370134, 37.3370374, 37.337019399999996, 37.3370565, 37.3369549, 37.3370121, 37.3370276, 37.3370436, 37.3370513, 37.3371011, 37.3371309, 37.3371086, 37.337148799999994, 37.3371966, 37.3372771, 37.337263799999995, 37.337261600000005, 37.3372805, 37.3373405, 37.3373391, 37.337325299999996, 37.3373526, 37.3373527, 37.33738889999999, 37.3374093, 37.3374982, 37.337534000000005, 37.3375616, 37.3375753, 37.3375624, 37.3375358, 37.3375685, 37.337513, 37.3374483, 37.3373877, 37.3373467, 37.3372628, 37.3371649, 37.3370564, 37.337052299999996, 37.3369808, 37.3369225, 37.336766499999996, 37.3366747, 37.336642299999994, 37.3365149, 37.3362952, 37.336294099999996, 37.3362172, 37.3361571, 37.3361366, 37.3361127, 37.336092799999996, 37.336005, 37.33589179999999, 37.33587429999999, 37.335914100000004, 37.3358345, 37.3358554, 37.3358044, 37.3352363, 37.3351445, 37.3351826, 37.3353052, 37.335809399999995, 37.3352436, 37.33518970000001, 37.3352143, 37.3357, 37.3352626, 37.3357052, 37.3357181, 37.33572410000001, 37.33573629999999, 37.335828799999994, 37.33587120000001, 37.3358363, 37.335925700000004, 37.335923, 37.335929799999995, 37.335927500000004, 37.335959, 37.3359039, 37.3358653, 37.335401399999995, 37.335702399999995, 37.3356755, 37.3356055, 37.335497600000004, 37.3352583, 37.3351905, 37.3351338, 37.335075599999996, 37.3350357, 37.3349268, 37.334818799999994, 37.334698700000004, 37.3346261, 37.334499, 37.334422700000005, 37.334287599999996, 37.3341786, 37.334079200000005, 37.3339816, 37.333886, 37.33378, 37.3336402, 37.333555, 37.333426700000004, 37.3333344, 37.333203999999995, 37.3331407, 37.3330141, 37.3329681, 37.3328593, 37.332736499999996, 37.33262620000001, 37.332524799999995, 37.332406799999994, 37.3322974, 37.332215500000004, 37.332099299999996, 37.331977200000004, 37.3319209, 37.3317841, 37.3316893, 37.3315797, 37.331468799999996, 37.331382, 37.331249799999995, 37.3311383, 37.331038299999996, 37.3309073, 37.330800700000005, 37.3307083, 37.3306121, 37.3305001, 37.330427, 37.330328, 37.3302498, 37.3302026, 37.3301315, 37.3301058, 37.33009129999999, 37.330074200000006, 37.3300318, 37.3300316, 37.330073299999995, 37.330073600000006, 37.330059999999996, 37.3300499, 37.330067299999996, 37.330033799999995, 37.3300409, 37.33002020000001, 37.3299543, 37.3299273, 37.3298631, 37.329817600000005, 37.329783500000005, 37.3297545, 37.3297083, 37.3296908, 37.3296954, 37.3296784, 37.329673799999995, 37.3296914, 37.3296731, 37.329691600000004, 37.3296836, 37.3296835, 37.3296717, 37.3296844, 37.329683700000004, 37.329682299999995, 37.3296867, 37.3296839, 37.3296744, 37.3296771, 37.329679399999996, 37.3296659, 37.3296578, 37.3296566, 37.329662400000004, 37.3296614, 37.3296544, 37.32964929999999, 37.3296545, 37.329651, 37.3296463, 37.3296537, 37.329640600000005, 37.329648399999996, 37.3296478, 37.329647200000004, 37.329659299999996, 37.329652200000005, 37.3296494, 37.3296656, 37.329661200000004, 37.3296639, 37.3296662, 37.3296744, 37.3296775, 37.3296773, 37.3296726, 37.3296744, 37.3296857, 37.3296664, 37.329687, 37.3296699, 37.3296757, 37.32966939999999, 37.3296951, 37.3296501, 37.329642299999996, 37.3296214, 37.3295925, 37.3295362, 37.3294939, 37.329457899999994, 37.329404600000004, 37.32936289999999, 37.329319, 37.3292781, 37.32924310000001, 37.3292365, 37.329193100000005, 37.3291828, 37.3291659, 37.3291832, 37.3291786, 37.329156700000006, 37.329164500000005, 37.329146200000004, 37.3291411, 37.329114600000004, 37.3290686, 37.329010600000004, 37.3289708, 37.3289119, 37.3288805, 37.3288227, 37.3287949, 37.328743599999996, 37.3287084, 37.3286777, 37.3286873, 37.3286594, 37.3286593, 37.3286604, 37.3286609, 37.3286184, 37.3285866, 37.328550899999996, 37.328541799999996, 37.3285255, 37.3285205, 37.328501200000005, 37.3285051, 37.3284955, 37.328484499999995, 37.328496200000004, 37.328503999999995, 37.328530799999996, 37.328591700000004, 37.328646299999996, 37.3286791, 37.3287513, 37.3287901, 37.328833200000005, 37.328843400000004, 37.32881679999999, 37.328871500000005, 37.3288705, 37.328872, 37.3288822, 37.3288503, 37.328859200000004, 37.32884779999999, 37.3288489, 37.3288658, 37.3288823, 37.3288922, 37.32887589999999, 37.3288794, 37.3288805, 37.3288665, 37.3288472, 37.32883820000001, 37.328859, 37.328844399999994, 37.3288568, 37.328867200000005, 37.3288588, 37.328874799999994, 37.3288656, 37.328874400000004, 37.3288542, 37.328897999999995, 37.3288678, 37.328823299999996, 37.328877500000004, 37.3289093, 37.328925500000004, 37.3290026, 37.329041600000004, 37.3290893, 37.3291374, 37.329148499999995, 37.3292226, 37.32926629999999, 37.329307, 37.3293436, 37.3293878, 37.3294333, 37.3294479, 37.3294964, 37.3294664, 37.329466700000005, 37.3294792, 37.329505299999994, 37.3295216, 37.3295718, 37.329599, 37.329692, 37.3297195, 37.329837700000006, 37.3299675, 37.3300203, 37.3300982, 37.3301738, 37.3302383, 37.330284999999996, 37.3303563, 37.330442100000006, 37.3304752, 37.3305873, 37.3306467, 37.3305615, 37.33048, 37.3304961, 37.3308325, 37.33091629999999, 37.331025200000006, 37.3311309, 37.3312364, 37.331355, 37.3314374, 37.33155120000001, 37.3316419, 37.3317511, 37.331862, 37.332044200000006, 37.3320817, 37.332176399999994, 37.332281200000004, 37.332337, 37.3324454, 37.3325092, 37.3326193, 37.3327466, 37.3328075, 37.33293, 37.3329936, 37.33305670000001, 37.3331718, 37.333225399999996, 37.333235200000004, 37.333281, 37.33331810000001, 37.333341600000004, 37.333350200000005, 37.333425, 37.3334778, 37.333575200000006, 37.3336586, 37.3337339, 37.3338659, 37.3339618, 37.3340378, 37.3341914, 37.334205700000005, 37.334317, 37.3343652, 37.334447499999996, 37.334496200000004, 37.334677500000005, 37.3347078, 37.3348055, 37.334869700000006, 37.335049700000006, 37.3350711, 37.3350414, 37.3351239, 37.3351606, 37.33515070000001, 37.335223, 37.3352116, 37.335237400000004, 37.3352375, 37.3350534, 37.3351121, 37.3351239, 37.335192600000006, 37.335234899999996, 37.3351969, 37.3352237, 37.3352117, 37.3352205, 37.3352058, 37.3351671, 37.3351591, 37.335208200000004, 37.3351599, 37.3351435, 37.3351525, 37.3351318, 37.3351304, 37.3351429, 37.3351699, 37.335226299999995, 37.3352311, 37.3352648, 37.3352866, 37.33546389999999, 37.33551920000001, 37.3354645, 37.3354959, 37.3355528, 37.3355266, 37.335593599999996, 37.3355209, 37.3355577, 37.3356367, 37.335576200000006, 37.335631299999996, 37.335725700000005, 37.3357701, 37.3358266, 37.335856799999995, 37.335918400000004, 37.3359211, 37.3359662, 37.3360427, 37.3360766, 37.3361437, 37.336217700000006, 37.336231899999994, 37.3363154, 37.3363648, 37.3363899, 37.3364409, 37.336514, 37.3364589, 37.3365278, 37.336546500000004, 37.3365737, 37.33657720000001, 37.3366063, 37.3366075, 37.3366456, 37.336648600000004, 37.3366544, 37.336644, 37.3366639, 37.33665429999999, 37.336649799999996, 37.336652799999996, 37.3366607, 37.336632, 37.3366129, 37.336578700000004, 37.336606200000006, 37.336614700000005, 37.3366353, 37.3366438, 37.3366406, 37.3366328, 37.3366126, 37.3366287, 37.3366081, 37.3366134, 37.3365593, 37.3365538, 37.336529799999994, 37.3365425, 37.336544700000005, 37.3365591, 37.33654779999999, 37.336525099999996, 37.336509, 37.3365049, 37.3365511, 37.3365596, 37.3365932, 37.336588899999995, 37.3366277, 37.336591299999995, 37.3365195, 37.3365026, 37.336408500000005, 37.3363763, 37.336283200000004, 37.3361901, 37.33604879999999, 37.3360472, 37.335922700000005, 37.335873299999996, 37.33571729999999, 37.3356445, 37.33558, 37.335555799999995, 37.3354654, 37.33536470000001, 37.335249100000006, 37.3352397, 37.3351578, 37.335060999999996, 37.3349987, 37.3349888, 37.3349612, 37.3349555, 37.334978, 37.3349491, 37.334942299999994, 37.3350153, 37.3349909, 37.335037, 37.3350372, 37.3350363, 37.3350586, 37.3350796, 37.3350643, 37.3350407, 37.334921200000004, 37.3349438, 37.3349065, 37.3349093, 37.3348977, 37.334814200000004, 37.3348596, 37.33482, 37.3347052, 37.3346377, 37.3345847, 37.3345055, 37.3344664, 37.3343499, 37.3343348, 37.334273700000004, 37.334188, 37.3341239, 37.3340661, 37.3339846, 37.333895399999996, 37.3338446, 37.3337667, 37.333707200000006, 37.3336059, 37.333560299999995, 37.333513399999994, 37.33341970000001, 37.333383700000006, 37.333250899999996, 37.3332336, 37.3332031, 37.3331652, 37.3330841, 37.333011799999994, 37.3329629, 37.3329127, 37.3328352, 37.3327818, 37.332695799999996, 37.3325559, 37.3324957, 37.332419099999996, 37.3323299, 37.3322875, 37.3322113, 37.332162100000005, 37.332119299999995, 37.3321101, 37.3321076, 37.3321402, 37.3321617, 37.332144299999996, 37.332119899999995, 37.3321894, 37.3322849, 37.332332799999996, 37.33226679999999, 37.3320782, 37.332105799999994, 37.3321072, 37.3321521, 37.332143, 37.3321103, 37.3321283, 37.3321604, 37.332190999999995, 37.3321766, 37.3322166, 37.332221000000004, 37.332246399999995, 37.332254799999994, 37.332293299999996, 37.3322791, 37.3322641, 37.3322964, 37.332260299999994, 37.3321299, 37.3321328, 37.3321406, 37.3321155, 37.332089700000004, 37.332047100000004, 37.3320204, 37.3319666, 37.3318935, 37.33182670000001, 37.331719, 37.3316435, 37.3315438, 37.3314824, 37.3313808, 37.33128129999999, 37.3311742, 37.3310887, 37.330976299999996, 37.330889500000005, 37.3308064, 37.330690000000004, 37.330587799999996, 37.3304982, 37.330393900000004, 37.3302893, 37.3301884, 37.3300975, 37.3299973, 37.3299021, 37.329789700000006, 37.3296961, 37.329617799999994, 37.3295264, 37.32946810000001, 37.3293821, 37.3292888, 37.3292386, 37.329200799999995, 37.3291752, 37.3291697, 37.3291546, 37.3291516, 37.3291429, 37.3291632, 37.3291352, 37.3291281, 37.3291093, 37.3290773, 37.3290706, 37.3290616, 37.329010600000004, 37.3290006, 37.3289263, 37.328902500000005, 37.3288446, 37.3288147, 37.3287722, 37.3287502, 37.328698700000004, 37.328670100000004, 37.328663899999995, 37.328661600000004, 37.328638700000006, 37.328652000000005, 37.328666299999995, 37.3286761, 37.3286922, 37.3287336, 37.3287786, 37.3288549, 37.328952, 37.3290386, 37.329114399999995, 37.329212899999995, 37.3292744, 37.329357, 37.329410700000004, 37.3295098, 37.329570399999994, 37.3296389, 37.329718799999995, 37.329800299999995, 37.329853299999996, 37.329933600000004, 37.33001229999999, 37.3300723, 37.3301344, 37.330202500000006, 37.3302646, 37.3303343, 37.3303138, 37.3303851, 37.330525099999996, 37.330639500000004, 37.3306942, 37.3307736, 37.330842499999996, 37.330907399999994, 37.3309726, 37.3310603, 37.3310826, 37.3311281, 37.3312975, 37.3313614, 37.331472999999995, 37.331491899999996, 37.331533, 37.33162279999999, 37.3317018, 37.3318067, 37.3318975, 37.332024700000005, 37.332114600000004, 37.33221760000001, 37.332346, 37.3323949, 37.3324773, 37.3325635, 37.3326191, 37.33273320000001, 37.3328875, 37.332955, 37.3329652, 37.333068700000005, 37.333121000000006, 37.3332268, 37.3333027, 37.333387200000004, 37.3334639, 37.3334809, 37.3334735, 37.333639500000004, 37.33373579999999, 37.333810299999996, 37.3339033, 37.333972100000004, 37.334027899999995, 37.3341025, 37.334164, 37.334287700000004, 37.3343659, 37.3344282, 37.334521, 37.3346282, 37.334740999999994, 37.334771, 37.3348975, 37.334976899999994, 37.3350809, 37.335184399999996, 37.335229999999996, 37.3353156, 37.3353568, 37.3354613, 37.3355485, 37.335644, 37.3356809, 37.3357684, 37.3358539, 37.3358925, 37.3359738, 37.336013, 37.3360126, 37.336081899999996, 37.33606029999999, 37.336192499999996, 37.3362843, 37.336273299999995, 37.336253899999996, 37.336109, 37.3361145, 37.336081799999995, 37.3361838, 37.3361777, 37.3361604, 37.33618679999999, 37.3362505, 37.3362535, 37.3362752, 37.3362974, 37.3363843, 37.33616370000001, 37.3362625, 37.3361302, 37.3363346, 37.3360791, 37.336226200000006, 37.3360303, 37.3361848, 37.3361229, 37.3360883, 37.3361162, 37.3362949, 37.33628970000001, 37.3362018, 37.336168900000004, 37.336193200000004, 37.33618370000001, 37.3361966, 37.3362206, 37.3362626, 37.336098, 37.3361162, 37.33611810000001, 37.336123799999996, 37.3361122, 37.336169500000004, 37.336184700000004, 37.3361717, 37.3362094, 37.3362781, 37.3361316, 37.336124600000005, 37.3361488, 37.3362255, 37.3362026, 37.336211600000006, 37.336211799999994, 37.3362011, 37.336251399999995, 37.33623660000001, 37.3362357, 37.3361796, 37.336161600000004, 37.3362356, 37.3362746, 37.3362221, 37.336262, 37.33612120000001, 37.3361095, 37.3361251, 37.3360952, 37.336151799999996, 37.33620139999999, 37.3362187, 37.3361814, 37.3360531, 37.3361149, 37.336087899999995, 37.3360945, 37.336111100000004, 37.3363154, 37.336281799999995, 37.3363249, 37.336359200000004, 37.3363955, 37.3362968, 37.336271999999994, 37.336309299999996, 37.3362787, 37.336265600000004, 37.336285499999995, 37.3362721, 37.3363964, 37.336361700000005, 37.336402, 37.3364026, 37.3364208, 37.336417499999996, 37.336377899999995, 37.3364542, 37.3364775, 37.3364461, 37.3364343, 37.3364115, 37.3364, 37.3364407, 37.3364598, 37.336498600000006, 37.3365007, 37.3365198, 37.3363842, 37.336436299999995, 37.3364451, 37.3364214, 37.3363963, 37.336372600000004, 37.3363814, 37.336343299999996, 37.3363005, 37.3362564, 37.3362442, 37.3363091, 37.336327000000004, 37.3363595, 37.336395399999994, 37.3364179, 37.3364052, 37.3363564, 37.33635770000001, 37.336373200000004, 37.3363931, 37.336294, 37.33609570000001, 37.3361292, 37.336153, 37.3361552, 37.3361546, 37.3361962, 37.336154, 37.336330700000005, 37.336197, 37.336197999999996, 37.336329299999996, 37.3362984, 37.3362608, 37.3363111, 37.336340299999996, 37.3363915, 37.3364066, 37.336402, 37.336421, 37.3364034, 37.336400700000006, 37.3362305, 37.3362156, 37.3362723, 37.33631210000001, 37.3362628, 37.3362132, 37.336219, 37.3362064, 37.3363173, 37.336352000000005, 37.336405299999996, 37.3364804, 37.3364001, 37.336479600000004, 37.336479100000005, 37.3365018, 37.3365196, 37.3365141, 37.3365473, 37.336562, 37.336546399999996, 37.336541, 37.336541499999996, 37.3365452, 37.336551299999996, 37.3365253, 37.3365213, 37.3365304, 37.336546500000004, 37.336529799999994, 37.336513700000005, 37.3364833, 37.3364999, 37.33652, 37.336586499999996, 37.3365657, 37.3365833, 37.3365984, 37.3366121, 37.336627299999996, 37.3366521, 37.3366461, 37.3366343, 37.3366247, 37.336656899999994, 37.3366614, 37.3366453, 37.3366347, 37.3366683, 37.336639700000006, 37.3366535, 37.336650899999995, 37.3366314, 37.3366153, 37.3366105, 37.3365967, 37.336559, 37.3366093, 37.336577, 37.3366378, 37.3366669, 37.3367278, 37.336802500000005, 37.336886299999996, 37.3369894, 37.336989700000004, 37.3369254, 37.3369278, 37.3369818, 37.3369857, 37.337000399999994, 37.337028499999995, 37.3370344, 37.3370502, 37.3370376, 37.3370939, 37.3369906, 37.3369333, 37.336932399999995, 37.3368792, 37.3368554, 37.3368054, 37.33679420000001, 37.336810799999995, 37.336842, 37.3368417, 37.3368655, 37.3368888, 37.3369013, 37.336898600000005, 37.3369331, 37.336952600000004, 37.3370231, 37.3370218, 37.337127100000004, 37.337109999999996, 37.337092, 37.337098, 37.3371535, 37.3371838, 37.3372636, 37.337323600000005, 37.3373615, 37.337385499999996, 37.337404, 37.337426, 37.3374626, 37.337492700000006, 37.3374939, 37.3375809, 37.337630700000005, 37.337653100000004, 37.3376086, 37.3375852, 37.337607, 37.337610600000005, 37.337580200000005, 37.3375895, 37.337649600000006, 37.337571200000006, 37.337568299999994, 37.3375184, 37.3374561, 37.337392200000004, 37.3373281, 37.337259700000004, 37.3371581, 37.337058299999995, 37.3369845, 37.3369171, 37.3368348, 37.3367594, 37.3366203, 37.3365222, 37.3364359, 37.336326299999996, 37.3361945, 37.3361003, 37.3359965, 37.3358847, 37.33578370000001, 37.3356951, 37.335595, 37.335475200000005, 37.3353773, 37.3352696, 37.335218100000006, 37.335069, 37.33493920000001, 37.33487, 37.3347661, 37.3346598, 37.334551700000006, 37.334450200000006, 37.3343819, 37.3342615, 37.3341857, 37.33413970000001, 37.3340261, 37.333962799999995, 37.3339226, 37.3338451, 37.333752200000006, 37.333681, 37.3335796, 37.3334599, 37.3333572, 37.3332555, 37.333166799999994, 37.3331282, 37.3330298, 37.332978000000004, 37.332882700000006, 37.33278060000001, 37.3326445, 37.332546799999996, 37.3324514, 37.3323665, 37.33226079999999, 37.3321726, 37.3320791, 37.332000799999996, 37.3319034, 37.331815899999995, 37.3317376, 37.3316763, 37.3316089, 37.33156279999999, 37.3315239, 37.331514399999996, 37.3314995, 37.331517, 37.3314555, 37.3314218, 37.331368700000006, 37.331336799999995, 37.3313013, 37.331266799999995, 37.331241799999994, 37.3312473, 37.331224600000006, 37.331230600000005, 37.3312462, 37.331250700000005, 37.33125089999999, 37.331235799999995, 37.3312571, 37.3312592, 37.3312686, 37.3312701, 37.3312571, 37.331263899999996, 37.3312158, 37.3312267, 37.3312371, 37.3312382, 37.331237, 37.331236700000005, 37.331258899999995, 37.331200200000005, 37.3312014, 37.331177200000006, 37.3311585, 37.33115120000001, 37.3310947, 37.331058299999995, 37.3310237, 37.3309787, 37.3309341, 37.33089879999999, 37.330839399999995, 37.3308135, 37.3307958, 37.3307782, 37.330765299999996, 37.3307536, 37.3307119, 37.3306925, 37.330698100000006, 37.3306831, 37.3306277, 37.3306098, 37.3305572, 37.3305461, 37.3304732, 37.3304265, 37.3303973, 37.3303521, 37.33030170000001, 37.3302598, 37.3301931, 37.330183399999996, 37.33014489999999, 37.330141, 37.330109, 37.3301014, 37.3300657, 37.330054499999996, 37.3300571, 37.3300823, 37.330070500000005, 37.3300834, 37.3300688, 37.3300631, 37.3300757, 37.330073399999996, 37.3300761, 37.3300821, 37.330081400000005, 37.3300837, 37.3300995, 37.3301062, 37.3301036, 37.3300951, 37.3300808, 37.3300971, 37.330093100000006, 37.330082899999994, 37.3300726, 37.3300622, 37.3300659, 37.3300685, 37.3300533, 37.3301034, 37.3301146, 37.330133399999994, 37.330135399999996, 37.3300925, 37.3300417, 37.3299793, 37.3299179, 37.3298766, 37.3298558, 37.3298092, 37.32976729999999, 37.329739399999994, 37.329705600000004, 37.329736700000005, 37.3297946, 37.329755, 37.3298501, 37.32990039999999, 37.3299654, 37.3300559, 37.3301457, 37.330216899999996, 37.3302994, 37.3303381, 37.330436299999995, 37.330531799999996, 37.3305909, 37.3304268, 37.3304146, 37.3305088, 37.3305401, 37.3306386, 37.33084, 37.330884399999995, 37.330996899999995, 37.3310497, 37.3310293, 37.3310843, 37.331089, 37.331139799999995, 37.3312116, 37.3312451, 37.331294899999996, 37.3313073, 37.3313375, 37.331345899999995, 37.331421399999996, 37.3314914, 37.3315057, 37.331524, 37.33156760000001, 37.331553, 37.3315274, 37.3315079, 37.331510200000004, 37.3315133, 37.3315194, 37.331518700000004, 37.3315054, 37.3315032, 37.331495600000004, 37.331536, 37.3315537, 37.3315584, 37.3315499, 37.331508299999996, 37.331520000000005, 37.3313875, 37.331450399999994, 37.331430499999996, 37.3314094, 37.331454, 37.3314816, 37.3315146, 37.3315976, 37.3316902, 37.3317075, 37.3316655, 37.3316797, 37.3317874, 37.3317595, 37.331838899999994, 37.3318762, 37.3319375, 37.3319934, 37.3319607, 37.3320009, 37.3319792, 37.3320601, 37.3320974, 37.3320777, 37.332219099999996, 37.3322512, 37.3322777, 37.332277399999995, 37.332325899999994, 37.3323565, 37.332471399999996, 37.3323385, 37.3323685, 37.332375299999995, 37.3323922, 37.3323744, 37.332423299999995, 37.3324828, 37.33255020000001, 37.3325092, 37.3324344, 37.3324729, 37.332506, 37.332542700000005, 37.3325826, 37.3326331, 37.3326468, 37.3327008, 37.3327576, 37.332818599999996, 37.332857700000005, 37.33286210000001, 37.3328936, 37.3329158, 37.3329006, 37.3328774, 37.3328078, 37.3328005, 37.3327129, 37.33265120000001, 37.3325402, 37.3324828, 37.332401000000004, 37.3323076, 37.3322256, 37.33215070000001, 37.332058399999994, 37.3319888, 37.331943, 37.3318776, 37.33183, 37.3317785, 37.3317592, 37.331726700000004, 37.331695399999994, 37.3317328, 37.331708500000005, 37.331711799999994, 37.3317124, 37.331677899999995, 37.331694299999995, 37.331698700000004, 37.331729100000004, 37.331719299999996, 37.3316842, 37.3316922, 37.3316593, 37.3316682, 37.3316627, 37.3316426, 37.331613, 37.3315923, 37.331538200000004, 37.331444399999995, 37.331407500000005, 37.3313219, 37.3312039, 37.3311278, 37.331010799999994, 37.330904499999995, 37.3308119, 37.330728, 37.3306525, 37.3305622, 37.330470500000004, 37.3303758, 37.330308200000005, 37.3302305, 37.330167100000004, 37.330104399999996, 37.330075799999996, 37.3300677, 37.3300682, 37.3300404, 37.33001289999999, 37.329975700000006, 37.329933399999994, 37.3298617, 37.3298447, 37.3297915, 37.329753000000004, 37.3297374, 37.3297229, 37.32969779999999, 37.3296867, 37.3297014, 37.329642799999995, 37.329678799999996, 37.3296706, 37.3296966, 37.3298027, 37.329820500000004, 37.3299239, 37.3300206, 37.3300975, 37.3302079, 37.3302861, 37.330390200000004, 37.3304755, 37.3305848, 37.330652, 37.3307093, 37.3307881, 37.3308606, 37.330873700000005, 37.3308889, 37.330918100000005, 37.3309221, 37.3309533, 37.3309505, 37.3309396, 37.3309248, 37.3309218, 37.330912899999994, 37.33093770000001, 37.330925799999996, 37.330974499999996, 37.3309888, 37.3310315, 37.331066799999995, 37.331151399999996, 37.3312435, 37.3313461, 37.3314316, 37.3315247, 37.3315973, 37.3317104, 37.3318078, 37.33184489999999, 37.331917100000005, 37.3320174, 37.3320933, 37.3321263, 37.3322112, 37.332199200000005, 37.3322345, 37.332141799999995, 37.3320457, 37.3321064, 37.332224200000006, 37.332086600000004, 37.3322614, 37.33233, 37.3323453, 37.3323633, 37.332368200000005, 37.3324651, 37.3325537, 37.332626700000006, 37.332645299999996, 37.332723, 37.332800899999995, 37.332891100000005, 37.3329484, 37.3330304, 37.333166600000006, 37.33323970000001, 37.333310299999994, 37.3333515, 37.3333977, 37.333496600000004, 37.3335196, 37.3336496, 37.33371210000001, 37.333784, 37.3338302, 37.3339056, 37.333964200000004, 37.3340393, 37.33411160000001, 37.3342093, 37.3342518, 37.3343817, 37.3344292, 37.3344917, 37.3345754, 37.334654, 37.3346874, 37.3347646, 37.3348316, 37.3348691, 37.3348795, 37.3349051, 37.3349579, 37.3349967, 37.3349852, 37.335025099999996, 37.335052600000004, 37.3351019, 37.3352919, 37.3353373, 37.335386799999995, 37.335420299999996, 37.335454, 37.335558299999995, 37.3356393, 37.3357047, 37.3357735, 37.3358845, 37.3359643, 37.3360107, 37.3361008, 37.3362022, 37.3362645, 37.336342200000004, 37.3364191, 37.336504299999994, 37.3365874, 37.336658899999996, 37.3366715, 37.3367555, 37.3368234, 37.3368465, 37.3369084, 37.336931799999995, 37.33694379999999, 37.336933, 37.3370121, 37.337011100000005, 37.33697720000001, 37.337013299999995, 37.3370155, 37.336954999999996, 37.3369106, 37.3369235, 37.3369336, 37.3368289, 37.3368611, 37.336814700000005, 37.3369076, 37.336923399999996, 37.336919099999996, 37.336912899999994, 37.3369485, 37.3369089, 37.3369084, 37.33694860000001, 37.3369565, 37.336995200000004, 37.3370135, 37.3370313, 37.3369787, 37.337005299999994, 37.3370242, 37.337017200000005, 37.337008399999995, 37.3370235, 37.336937799999994, 37.336988899999994, 37.3369278, 37.33696320000001, 37.336939799999996, 37.3368856, 37.336935499999996, 37.337021299999996, 37.3369771, 37.337010799999995, 37.337021, 37.3370604, 37.3370939, 37.337076399999994, 37.3371122, 37.3371195, 37.3371728, 37.337151299999995, 37.3371469, 37.337154600000005, 37.337205600000004, 37.337200200000005, 37.337141100000004, 37.3371749, 37.337230100000006, 37.3373053, 37.337328899999996, 37.3373526, 37.337390500000005, 37.3374093, 37.3374436, 37.33745220000001, 37.3374974, 37.3374974, 37.3374765, 37.3375146, 37.337530799999996, 37.3375631, 37.3375141, 37.3374641, 37.337427399999996, 37.3373528, 37.3373166, 37.3372315, 37.337146399999995, 37.3370515, 37.3369757, 37.3369044, 37.3367868, 37.3366591, 37.3365229, 37.3365326, 37.3364174, 37.336288399999994, 37.336242600000006, 37.3361722, 37.3360836, 37.3360239, 37.335946, 37.3359007, 37.335865399999996, 37.335846000000004, 37.3358331, 37.335793100000004, 37.3357732, 37.335707299999996, 37.3356706, 37.3356518, 37.3356541, 37.3356261, 37.335597799999995, 37.3355176, 37.3355143, 37.3354986, 37.3354567, 37.3354347, 37.3354831, 37.33546679999999, 37.3354099, 37.3354385, 37.3354422, 37.335436200000004, 37.3354778, 37.3354446, 37.3355489, 37.3355742, 37.3356359, 37.3356583, 37.335728700000004, 37.335775, 37.3358789, 37.33596179999999, 37.336030799999996, 37.3361261, 37.3361869, 37.3362809, 37.3363638, 37.3364493, 37.336496000000004, 37.336602500000005, 37.3366243, 37.336717, 37.336785, 37.3368548, 37.3369814, 37.3370209, 37.337070700000005, 37.3371005, 37.3371529, 37.3371756, 37.337176, 37.3371537, 37.337127100000004, 37.337104700000005, 37.3370904, 37.337014399999994, 37.3369981, 37.3369421, 37.336964, 37.336896200000005, 37.3368519, 37.336788500000004, 37.3367777, 37.3367507, 37.3367196, 37.3366576, 37.3365773, 37.336557, 37.336594399999996, 37.3365737, 37.3365569, 37.3365268, 37.3365701, 37.3365791, 37.336539200000004, 37.3365351, 37.33654, 37.336516499999995, 37.3365122, 37.3365304, 37.3365004, 37.336462700000006, 37.336472799999996, 37.3363436, 37.3362391, 37.3362025, 37.33620620000001, 37.3362936, 37.3362535, 37.3361945, 37.3360561, 37.3359824, 37.335963, 37.3359037, 37.335914200000005, 37.33596370000001, 37.3359679, 37.3359291, 37.3359436, 37.3358685, 37.3358908, 37.3359171, 37.3359042, 37.335922499999995, 37.335913, 37.335955600000005, 37.33593320000001, 37.335913299999994, 37.3358946, 37.3358614, 37.335854600000005, 37.335874700000005, 37.3358511, 37.3358434, 37.335837899999994, 37.3358953, 37.3359058, 37.3358983, 37.3358984, 37.3358863, 37.3359115, 37.335926, 37.3358776, 37.335875, 37.3358125, 37.3357996, 37.33576970000001, 37.3356669, 37.33558370000001, 37.335417299999996, 37.33535620000001, 37.3355167, 37.335628799999995, 37.3356537, 37.3355381, 37.3354846, 37.3353701, 37.335347999999996, 37.3352165, 37.3352507, 37.3352451, 37.3350607, 37.3351658, 37.335130299999996, 37.3349945, 37.33505170000001, 37.3348942, 37.3348571, 37.3348701, 37.3348186, 37.334754499999995, 37.3346853, 37.334643799999995, 37.3345941, 37.3345474, 37.3345167, 37.3341943, 37.3344041, 37.334427500000004, 37.33438889999999, 37.3344718, 37.3344047, 37.334572200000004, 37.334612, 37.3346445, 37.3346631, 37.3347919, 37.3347965, 37.334906700000005, 37.3349951, 37.3350733, 37.3351276, 37.3352647, 37.33536470000001, 37.3354206, 37.3355489, 37.3356338, 37.3357494, 37.3358137, 37.3359554, 37.3360374, 37.3360527, 37.3361113, 37.3361425, 37.336187100000004, 37.336205299999996, 37.3361794, 37.33616370000001, 37.336119200000006, 37.33608710000001, 37.3360664, 37.336020500000004, 37.335981, 37.3359441, 37.335927399999996, 37.3358808, 37.335823100000006, 37.3357294, 37.3356635, 37.335627, 37.3355599, 37.3355209, 37.3355222, 37.335495200000004, 37.335506, 37.3354686, 37.3354454, 37.335426299999995, 37.335351700000004, 37.3352895, 37.335221399999995, 37.3351476, 37.33507, 37.3349781, 37.3349263, 37.3348649, 37.334798799999994, 37.3347136, 37.3346096, 37.3344678, 37.3344297, 37.3343595, 37.3343557, 37.3342771, 37.334137899999995, 37.334095, 37.3340635, 37.3339792, 37.333984, 37.3338719, 37.333787799999996, 37.3336769, 37.333798200000004, 37.333891200000004, 37.3337782, 37.333764, 37.333787, 37.3336999, 37.3336849, 37.3335826, 37.3333822, 37.333532399999996, 37.3334453, 37.3334398, 37.3333571, 37.3332669, 37.333121999999996, 37.333146500000005, 37.3330557, 37.332991899999996, 37.3329302, 37.332868, 37.3327915, 37.3327411, 37.3326587, 37.3325994, 37.3325349, 37.3324676, 37.3324102, 37.3323488, 37.3323014, 37.332257299999995, 37.332216100000004, 37.3321752, 37.3321659, 37.33216289999999, 37.3321631, 37.3321886, 37.3321597, 37.332178799999994, 37.332123100000004, 37.332162700000005, 37.3321886, 37.332190600000004, 37.3322112, 37.3322594, 37.3323042, 37.332380900000004, 37.332453, 37.3325378, 37.3326775, 37.332759499999995, 37.332862299999995, 37.3329818, 37.3330865, 37.3331961, 37.3333288, 37.3334338, 37.3335336, 37.333626, 37.3337162, 37.3338064, 37.333865700000004, 37.3339474, 37.3339649, 37.333985399999996, 37.3340016, 37.33401129999999, 37.3340309, 37.3340694, 37.3341106, 37.3341622, 37.334173299999996, 37.3342136, 37.3342499, 37.334305, 37.3343591, 37.3343511, 37.334391700000005, 37.3344049, 37.334432299999996, 37.334404, 37.3344218, 37.334474900000004, 37.334461, 37.33445089999999, 37.3344023, 37.3344086, 37.3344107, 37.334417200000004, 37.334413899999994, 37.3344338, 37.334424600000006, 37.334425599999996, 37.334444299999994, 37.334445200000005, 37.334456200000005, 37.334464399999995, 37.3344716, 37.334457, 37.334435799999994, 37.33445820000001, 37.3344513, 37.334460299999996, 37.334459100000004, 37.334452399999996, 37.334461100000006, 37.3344245, 37.3344486, 37.3344432, 37.33445, 37.3344606, 37.334464000000004, 37.3344721, 37.334453100000005, 37.334456200000005, 37.3344563, 37.334466, 37.3344667, 37.334477500000006, 37.334459700000004, 37.334482200000004, 37.3344743, 37.3344736, 37.334478499999996, 37.334477, 37.3345065, 37.3345128, 37.334501200000005, 37.3344922, 37.3345021, 37.334486600000005, 37.3344881, 37.3344655, 37.3344675, 37.3344681, 37.334457, 37.334459700000004, 37.334472, 37.334491, 37.33449470000001, 37.3344849], \"legendgroup\": \"phoneName=SamsungS20Ultra\", \"lon\": [-121.89963600000002, -121.89964579999999, -121.8996494, -121.89963440000001, -121.8996373, -121.89962120000001, -121.89958929999999, -121.89960900000001, -121.89960020000001, -121.8996104, -121.8996, -121.8996071, -121.8995987, -121.8996155, -121.899602, -121.89961090000001, -121.8996145, -121.8996199, -121.89959909999999, -121.8995996, -121.89959590000001, -121.8995922, -121.8995882, -121.89959009999998, -121.8995913, -121.8995611, -121.89961090000001, -121.8995659, -121.8995577, -121.8995331, -121.8994942, -121.8994426, -121.8993703, -121.8992828, -121.89920330000001, -121.89913429999999, -121.8990537, -121.89894509999999, -121.89883490000001, -121.89873030000001, -121.898624, -121.89850220000001, -121.89838689999999, -121.8983133, -121.8982125, -121.89815790000002, -121.8980928, -121.8980811, -121.8980652, -121.8980308, -121.89800859999998, -121.89798200000001, -121.8979389, -121.8979242, -121.89787779999999, -121.8977887, -121.897704, -121.8976095, -121.8974871, -121.8972713, -121.89702549999998, -121.8969426, -121.89689740000001, -121.896776, -121.89679209999998, -121.8968544, -121.8967636, -121.8968342, -121.89677409999999, -121.89671809999999, -121.89665490000002, -121.8966051, -121.89654420000001, -121.8964508, -121.89643259999998, -121.89634170000001, -121.89635179999999, -121.8962061, -121.8961355, -121.89603400000001, -121.8960261, -121.8958314, -121.895772, -121.89566709999998, -121.89557990000002, -121.8956291, -121.8956627, -121.8956041, -121.8956061, -121.8956617, -121.89561370000001, -121.89558500000001, -121.8956477, -121.8956763, -121.8956905, -121.8956959, -121.8955534, -121.895581, -121.89559679999999, -121.89565990000001, -121.89563909999998, -121.8955886, -121.89553559999999, -121.89558419999999, -121.8956142, -121.8955163, -121.895532, -121.89545749999999, -121.89533829999999, -121.89534920000001, -121.89520959999999, -121.8950412, -121.89445649999999, -121.8947789, -121.8946303, -121.8946653, -121.8946658, -121.8945031, -121.89443770000001, -121.8945455, -121.8944997, -121.89447460000001, -121.89449280000001, -121.89444590000001, -121.89440790000002, -121.8944136, -121.89443359999999, -121.8944534, -121.8944191, -121.8944136, -121.89457240000002, -121.8945618, -121.89461920000001, -121.8945252, -121.8943278, -121.89464170000001, -121.89449690000001, -121.8944798, -121.89447949999999, -121.8944838, -121.8944874, -121.89443440000001, -121.8944028, -121.89428149999999, -121.8943002, -121.89436620000001, -121.8944024, -121.89441310000001, -121.8943571, -121.8942247, -121.8941963, -121.894429, -121.8944203, -121.89444669999999, -121.8942638, -121.89409380000001, -121.89398899999999, -121.89389320000001, -121.8936841, -121.8937513, -121.8936669, -121.89356950000001, -121.8934774, -121.89336329999999, -121.8932537, -121.89316070000001, -121.89302930000001, -121.89294679999999, -121.89285149999999, -121.8927835, -121.8926952, -121.89267679999999, -121.89250679999999, -121.8924189, -121.8923321, -121.89223179999999, -121.89216440000001, -121.8921213, -121.8920778, -121.8921396, -121.8921853, -121.89219409999998, -121.89216770000002, -121.89214, -121.8921399, -121.89213290000002, -121.8921113, -121.89209509999999, -121.89207150000001, -121.8920619, -121.8920768, -121.89203729999998, -121.89205700000001, -121.89196979999998, -121.8919913, -121.89201899999999, -121.89197539999999, -121.89200020000001, -121.8919494, -121.89195320000002, -121.8919612, -121.89199099999999, -121.89195020000001, -121.8919932, -121.891962, -121.8919689, -121.89196070000001, -121.8919385, -121.89193799999998, -121.8919003, -121.89198119999999, -121.8919692, -121.8919835, -121.8919545, -121.89202140000002, -121.8920278, -121.89205009999999, -121.892086, -121.89211850000001, -121.89198799999998, -121.8920739, -121.89207809999999, -121.8920119, -121.89200890000002, -121.89200259999998, -121.89205829999999, -121.89205079999999, -121.8920423, -121.8920756, -121.8920605, -121.89202279999999, -121.8920436, -121.892026, -121.89204199999999, -121.89206680000001, -121.89211509999998, -121.89202979999999, -121.8920074, -121.89197040000002, -121.89188500000002, -121.89177509999999, -121.8916601, -121.89153940000001, -121.89140719999999, -121.89135449999999, -121.89122169999999, -121.8911275, -121.8910259, -121.8908909, -121.8908675, -121.8907587, -121.8907037, -121.890621, -121.89056670000001, -121.8905799, -121.89062720000001, -121.8906018, -121.8906368, -121.89066609999999, -121.8905439, -121.8905361, -121.890476, -121.89052720000001, -121.8904847, -121.89040020000002, -121.8903696, -121.8902557, -121.89017109999999, -121.890126, -121.8900871, -121.8900002, -121.88996670000002, -121.8899251, -121.8899179, -121.8898268, -121.8898794, -121.88987759999998, -121.8899033, -121.889877, -121.88981509999998, -121.8897693, -121.889803, -121.8898636, -121.8898591, -121.8898338, -121.8898332, -121.8898496, -121.8898656, -121.889873, -121.88988729999998, -121.8898882, -121.88989270000002, -121.88985109999999, -121.88982450000002, -121.88985530000001, -121.8898455, -121.88985430000001, -121.8898713, -121.88985530000001, -121.88977679999999, -121.88976470000001, -121.8897535, -121.8897591, -121.88974099999999, -121.8897675, -121.8897783, -121.8898063, -121.8898088, -121.88988490000001, -121.8898236, -121.88987409999999, -121.8898821, -121.8898506, -121.88986840000001, -121.88984690000001, -121.889803, -121.8897248, -121.88970829999998, -121.88965619999999, -121.889604, -121.88949679999999, -121.8894548, -121.88936650000001, -121.88931240000001, -121.8892673, -121.88921119999999, -121.8891288, -121.8890064, -121.88890459999999, -121.8888576, -121.88884399999999, -121.88881979999998, -121.88887549999998, -121.88887140000001, -121.8888857, -121.88889640000002, -121.88888130000001, -121.88892609999999, -121.8889159, -121.8889023, -121.88885149999999, -121.88886509999999, -121.88886809999998, -121.8888459, -121.88884350000001, -121.8888159, -121.88881370000001, -121.88882120000001, -121.8888445, -121.8888461, -121.8888403, -121.88884669999999, -121.8888871, -121.88889520000001, -121.88893629999998, -121.8889166, -121.8889128, -121.8888938, -121.88895520000001, -121.888958, -121.88896329999999, -121.88895500000001, -121.88896840000001, -121.8889294, -121.8889155, -121.8889489, -121.8889398, -121.8889409, -121.88888940000001, -121.8888593, -121.8889422, -121.88891770000001, -121.88887679999999, -121.88893030000001, -121.8889423, -121.8888571, -121.8888495, -121.8887173, -121.88877350000001, -121.88875130000001, -121.8887273, -121.8886804, -121.88861100000001, -121.8885186, -121.88843700000001, -121.88838170000001, -121.8882994, -121.88827240000002, -121.88814640000001, -121.8880896, -121.8880298, -121.88795890000002, -121.88791670000002, -121.88791979999999, -121.8878616, -121.88783090000001, -121.887801, -121.88774369999999, -121.8876737, -121.8875977, -121.8875576, -121.8875206, -121.8874764, -121.88744129999999, -121.8874075, -121.8873608, -121.8873676, -121.88730859999998, -121.88726509999998, -121.8872119, -121.8871361, -121.88706540000001, -121.8869604, -121.8868818, -121.88674409999999, -121.8866271, -121.88668419999999, -121.88658840000001, -121.8864581, -121.88638759999999, -121.8864325, -121.88630069999999, -121.88632779999999, -121.8863414, -121.8862611, -121.8861731, -121.8862007, -121.886187, -121.8862385, -121.88615290000001, -121.8860892, -121.88610420000002, -121.88608899999998, -121.88573590000001, -121.8857755, -121.88578989999999, -121.88580879999999, -121.88614340000001, -121.8858371, -121.8858594, -121.8858462, -121.8857946, -121.88589340000001, -121.88580479999999, -121.88582209999998, -121.8858011, -121.88584309999999, -121.8860733, -121.8861672, -121.88609509999999, -121.88616529999999, -121.88619150000001, -121.8861855, -121.8861772, -121.886169, -121.8861277, -121.8861494, -121.88573410000001, -121.8860489, -121.8860463, -121.88587720000001, -121.8857739, -121.8856195, -121.88552, -121.885345, -121.8853462, -121.88548770000001, -121.885428, -121.88535590000001, -121.88529469999999, -121.88520220000001, -121.88506240000001, -121.8850517, -121.8850121, -121.88492990000002, -121.884855, -121.8847325, -121.8846784, -121.88458519999999, -121.8844895, -121.88442340000002, -121.8843436, -121.8843004, -121.88420190000001, -121.8841061, -121.88401699999999, -121.8839835, -121.88390509999999, -121.8838321, -121.8837346, -121.8836715, -121.88357759999998, -121.88352920000001, -121.8834284, -121.88337549999999, -121.88330049999999, -121.883199, -121.88311929999999, -121.88303909999998, -121.8829385, -121.8828759, -121.88279720000001, -121.8827124, -121.882626, -121.8825577, -121.8824821, -121.8823935, -121.8823132, -121.88222759999998, -121.88214270000002, -121.8820821, -121.88204499999999, -121.8819748, -121.8819568, -121.88192509999999, -121.8819066, -121.8819105, -121.88192240000002, -121.88189540000002, -121.8818939, -121.8818992, -121.88188590000001, -121.88188670000001, -121.881868, -121.8819247, -121.8819655, -121.88197609999999, -121.88204669999999, -121.88212140000002, -121.8822303, -121.88230190000002, -121.88240320000001, -121.8824784, -121.8825777, -121.88262890000001, -121.8826831, -121.8826888, -121.8827118, -121.88274550000001, -121.8827172, -121.8827295, -121.88271470000001, -121.882731, -121.8827394, -121.882724, -121.8827369, -121.8827254, -121.882725, -121.88271359999999, -121.88270349999999, -121.8827121, -121.88272090000001, -121.88271040000001, -121.8827271, -121.8827375, -121.88273799999999, -121.88272090000001, -121.8827409, -121.8827554, -121.8827426, -121.882754, -121.88276699999999, -121.882751, -121.8827476, -121.88275420000001, -121.8827578, -121.8827502, -121.88274380000001, -121.8827592, -121.88276090000002, -121.88274799999999, -121.88274609999999, -121.88274750000001, -121.8827591, -121.88274550000001, -121.8827364, -121.882737, -121.88272909999999, -121.8827347, -121.88272509999999, -121.88273319999999, -121.88273729999999, -121.88274270000001, -121.8827443, -121.8827399, -121.8827436, -121.8826992, -121.8827491, -121.8827658, -121.8828186, -121.88289579999999, -121.88303459999999, -121.8831105, -121.883196, -121.8833064, -121.8833753, -121.8834787, -121.8835493, -121.88362120000001, -121.88370990000001, -121.8837338, -121.88377209999999, -121.88377890000001, -121.8837553, -121.8837709, -121.8837814, -121.8837899, -121.88382560000001, -121.88386159999999, -121.8839245, -121.884005, -121.8840895, -121.884203, -121.8842965, -121.8844121, -121.88450859999999, -121.8846318, -121.8847237, -121.88478190000001, -121.8847814, -121.8848581, -121.88485929999999, -121.8848588, -121.88489380000001, -121.88492120000001, -121.88494720000001, -121.885053, -121.8851233, -121.8851889, -121.8852491, -121.88527990000001, -121.8852787, -121.8852943, -121.8853115, -121.8853422, -121.8853713, -121.88539679999998, -121.88547679999999, -121.8855293, -121.88558059999998, -121.88563789999999, -121.8856769, -121.8857186, -121.88574399999999, -121.88576129999998, -121.8858078, -121.88577509999999, -121.88577250000002, -121.8857761, -121.8857791, -121.88579640000002, -121.885775, -121.8857952, -121.8857898, -121.8857848, -121.8857748, -121.88577250000002, -121.8857845, -121.88578729999999, -121.8857919, -121.8857939, -121.8858057, -121.8858254, -121.8858105, -121.8858331, -121.8858308, -121.88581979999998, -121.88579240000001, -121.8857648, -121.8857565, -121.88576699999999, -121.8857767, -121.8857879, -121.8857777, -121.8858358, -121.8858422, -121.88585959999999, -121.8859085, -121.88594340000002, -121.88602990000001, -121.8860878, -121.8861388, -121.88622140000001, -121.8862692, -121.8863517, -121.8864246, -121.88643959999999, -121.886478, -121.88649050000001, -121.8865021, -121.88654620000001, -121.8865645, -121.8865629, -121.8865747, -121.88657820000002, -121.8866148, -121.88665290000002, -121.88674669999999, -121.8868236, -121.88691920000001, -121.88699199999999, -121.8869646, -121.88708290000001, -121.88717690000001, -121.88727890000001, -121.8873886, -121.8874692, -121.8875862, -121.8876275, -121.8877481, -121.88779280000001, -121.88787520000001, -121.8881705, -121.88843840000001, -121.88855339999999, -121.88821329999999, -121.88829170000001, -121.88833500000001, -121.888365, -121.88843229999999, -121.8884832, -121.88855590000001, -121.8886193, -121.8886912, -121.8887025, -121.88874960000001, -121.8888632, -121.88895500000001, -121.88901090000002, -121.88908229999998, -121.8892273, -121.88927379999998, -121.88939509999999, -121.8893916, -121.8894612, -121.88956540000001, -121.8895719, -121.88964250000001, -121.88972460000001, -121.88976219999999, -121.88984509999999, -121.8899858, -121.8900936, -121.89018759999999, -121.89027779999999, -121.8903441, -121.89043090000001, -121.89050619999999, -121.8905389, -121.8906108, -121.8907212, -121.8907229, -121.89081409999999, -121.8909149, -121.89090729999998, -121.89104740000002, -121.8911422, -121.8914012, -121.8916608, -121.8915858, -121.89122069999999, -121.89138700000001, -121.89145570000001, -121.8916287, -121.8915662, -121.8916032, -121.89202820000001, -121.89215349999999, -121.89214720000001, -121.8922094, -121.8922581, -121.89217690000001, -121.89216540000001, -121.8921453, -121.89225549999999, -121.89225559999998, -121.89224469999999, -121.89218590000002, -121.89221880000001, -121.89215130000001, -121.89216869999998, -121.89221950000001, -121.89219369999999, -121.8921321, -121.8921497, -121.89216100000002, -121.8921675, -121.892198, -121.89224229999999, -121.89224640000002, -121.8922092, -121.89222450000001, -121.89222209999998, -121.8921824, -121.8922644, -121.8922413, -121.89217990000002, -121.8922105, -121.89204309999998, -121.89195500000001, -121.89195359999998, -121.89192460000001, -121.89191240000001, -121.8918149, -121.8918851, -121.8918053, -121.8916719, -121.8915875, -121.8915017, -121.89142939999999, -121.8913747, -121.8913348, -121.8912369, -121.89108929999999, -121.8910243, -121.89094170000001, -121.8908082, -121.89069380000001, -121.8905774, -121.8905172, -121.890429, -121.89030770000001, -121.8901679, -121.89005279999999, -121.8899452, -121.88986729999999, -121.889753, -121.8896862, -121.88966909999999, -121.8896437, -121.88961299999998, -121.8896085, -121.88959569999999, -121.8895818, -121.8895877, -121.8895689, -121.8895842, -121.88960349999999, -121.8896163, -121.88961259999999, -121.88960759999999, -121.88960390000001, -121.8896107, -121.8896051, -121.889626, -121.8896665, -121.8896483, -121.88964440000001, -121.88964579999998, -121.88964409999998, -121.8896271, -121.88964809999999, -121.8896222, -121.88958799999999, -121.8896054, -121.88959579999998, -121.889595, -121.8896067, -121.8895834, -121.8896405, -121.88960700000001, -121.889596, -121.8896176, -121.88961470000001, -121.8896002, -121.8896085, -121.8896207, -121.88959380000001, -121.88956840000002, -121.8895037, -121.8894867, -121.88946899999999, -121.88942730000001, -121.88938689999999, -121.8893537, -121.88930239999999, -121.88924309999999, -121.8891686, -121.88909380000001, -121.8889996, -121.8890097, -121.8888923, -121.88886000000001, -121.88879159999999, -121.888747, -121.88864380000001, -121.88856509999998, -121.8885219, -121.8885097, -121.88838090000002, -121.88835630000001, -121.88836270000002, -121.88837690000001, -121.8883019, -121.88831609999998, -121.8883033, -121.8883166, -121.8884374, -121.8883617, -121.88826350000001, -121.88823700000002, -121.88819579999999, -121.888226, -121.888204, -121.8881413, -121.88817009999998, -121.88819709999999, -121.8882186, -121.88837749999999, -121.8883348, -121.88829140000001, -121.8882555, -121.8882551, -121.88826599999999, -121.88800149999999, -121.88806720000001, -121.8880619, -121.8880092, -121.8879215, -121.88789560000001, -121.88784309999998, -121.88781840000001, -121.8877368, -121.8876737, -121.88764350000001, -121.8876101, -121.8875756, -121.88754080000001, -121.8874165, -121.8873622, -121.8873492, -121.88728020000002, -121.88725910000001, -121.88716540000001, -121.88713390000001, -121.88710490000001, -121.88706140000001, -121.8870648, -121.88705459999998, -121.8869178, -121.88684920000001, -121.88681509999998, -121.8867838, -121.88676240000001, -121.886696, -121.8866313, -121.88657849999998, -121.8865543, -121.88648909999998, -121.8864098, -121.88639909999999, -121.8863469, -121.8863178, -121.88629850000001, -121.8863257, -121.88623259999999, -121.8862066, -121.88616090000002, -121.88623359999998, -121.8862206, -121.88615800000001, -121.8861097, -121.8861689, -121.8863053, -121.8862495, -121.88623270000001, -121.8862229, -121.88619369999999, -121.88613000000001, -121.88618490000002, -121.88624740000002, -121.886196, -121.88621129999999, -121.88615559999998, -121.88621640000001, -121.8862156, -121.8862406, -121.8862804, -121.8863094, -121.8863764, -121.8863213, -121.88635179999999, -121.8863305, -121.8863085, -121.88632390000001, -121.88624469999999, -121.8862817, -121.88633689999999, -121.88626459999999, -121.88619950000002, -121.8861419, -121.88604240000001, -121.88597639999999, -121.88591699999999, -121.88584099999999, -121.88581299999998, -121.8857375, -121.88569440000002, -121.88559529999999, -121.88558300000001, -121.8855338, -121.88544740000002, -121.88539109999998, -121.8853179, -121.8852493, -121.885181, -121.885108, -121.8850371, -121.88494579999998, -121.8848509, -121.88478710000001, -121.88470520000001, -121.88466140000001, -121.88458259999999, -121.88449879999999, -121.88444799999999, -121.8843895, -121.88430890000002, -121.8842456, -121.88418759999999, -121.8841587, -121.884138, -121.8840697, -121.88404270000001, -121.8840187, -121.88400859999999, -121.88403999999998, -121.88398500000001, -121.8839902, -121.8840169, -121.8840301, -121.8840173, -121.88400159999998, -121.88399240000001, -121.8840205, -121.8840551, -121.8840906, -121.884152, -121.884267, -121.88436329999999, -121.8844405, -121.8845152, -121.88460570000001, -121.8846587, -121.8847785, -121.88484740000001, -121.88486699999999, -121.884874, -121.884948, -121.8848985, -121.8849229, -121.8849264, -121.88497120000001, -121.8850152, -121.885066, -121.88511310000001, -121.88519129999999, -121.88521659999999, -121.88528590000001, -121.88533829999999, -121.8854301, -121.88551969999999, -121.8855687, -121.8856228, -121.8856762, -121.88572990000002, -121.8857707, -121.88580120000002, -121.88585619999999, -121.8859219, -121.885977, -121.8860331, -121.88608909999998, -121.88617140000001, -121.88621670000002, -121.8862847, -121.88649620000001, -121.88651180000001, -121.88646429999999, -121.88645090000001, -121.8865164, -121.88657409999999, -121.8866189, -121.8866624, -121.88671780000001, -121.88676370000002, -121.8869088, -121.887004, -121.8869744, -121.8870249, -121.88706770000002, -121.8871058, -121.88717450000001, -121.88725990000002, -121.88730490000002, -121.8873665, -121.88743459999999, -121.88746440000001, -121.8875686, -121.887631, -121.887639, -121.8877682, -121.88783670000001, -121.88794340000001, -121.88807, -121.88812150000001, -121.8881121, -121.8881351, -121.88819529999999, -121.88835759999999, -121.88845570000001, -121.8884477, -121.8885136, -121.88858219999999, -121.8885604, -121.8885159, -121.8885465, -121.8886004, -121.88882749999999, -121.8888459, -121.8889098, -121.88903400000001, -121.88913570000001, -121.88919209999999, -121.8892456, -121.88926140000001, -121.889307, -121.88933300000001, -121.8894625, -121.88951159999999, -121.8895021, -121.88960959999999, -121.8896798, -121.88976609999999, -121.88978770000001, -121.8898328, -121.88992739999999, -121.88994869999999, -121.8900351, -121.8900756, -121.89013659999999, -121.890175, -121.89022959999998, -121.89020359999998, -121.8902855, -121.8904034, -121.8904773, -121.8907538, -121.8905914, -121.8905436, -121.890599, -121.89066399999999, -121.89061909999998, -121.8906183, -121.8906127, -121.89069860000001, -121.8906408, -121.8907006, -121.8907188, -121.8906642, -121.89064950000001, -121.89060559999999, -121.8905692, -121.8905404, -121.89054909999999, -121.890472, -121.89045, -121.8905912, -121.8905443, -121.89058229999999, -121.8905358, -121.89058600000001, -121.89060409999999, -121.89054080000001, -121.89061129999999, -121.89062369999999, -121.8906506, -121.89066640000001, -121.89072809999999, -121.8907226, -121.89073959999999, -121.8907595, -121.8907497, -121.8907368, -121.8907328, -121.89070120000001, -121.8906524, -121.8907587, -121.8907325, -121.8907376, -121.8907673, -121.8907611, -121.8907709, -121.89076999999999, -121.89073729999998, -121.89075929999998, -121.8907885, -121.89079280000001, -121.8908115, -121.8907862, -121.890721, -121.89075120000001, -121.89072820000001, -121.8907259, -121.8907169, -121.89068229999998, -121.8906548, -121.89067959999998, -121.8907216, -121.8907233, -121.8906412, -121.8905846, -121.89058929999999, -121.8905527, -121.89061170000001, -121.8906465, -121.89060409999999, -121.890626, -121.8906364, -121.89060819999999, -121.89060049999999, -121.8906662, -121.8907226, -121.8906905, -121.89068200000001, -121.8906844, -121.8906781, -121.8906577, -121.8906727, -121.89064340000002, -121.89063290000001, -121.89061480000001, -121.8906419, -121.89062620000001, -121.89067069999999, -121.8906668, -121.8906527, -121.8906494, -121.8906659, -121.89063840000001, -121.890651, -121.8906399, -121.8906061, -121.89059340000001, -121.8905644, -121.8906267, -121.89060649999999, -121.89052079999999, -121.8905817, -121.89057140000001, -121.89060020000001, -121.890588, -121.8905686, -121.8905379, -121.89047690000001, -121.8904831, -121.89051, -121.89062709999999, -121.8906207, -121.89060740000001, -121.89059309999999, -121.890607, -121.89056969999999, -121.8905628, -121.8905642, -121.8905905, -121.89059679999998, -121.89059250000001, -121.89056070000001, -121.89054809999999, -121.89054070000002, -121.8905429, -121.8905497, -121.8905541, -121.8905483, -121.8905702, -121.890594, -121.89057269999999, -121.8906062, -121.890578, -121.89064040000001, -121.89063519999999, -121.8906815, -121.8906881, -121.89065249999999, -121.89062820000001, -121.8905501, -121.8905347, -121.8905577, -121.89049979999999, -121.89062720000001, -121.89069609999999, -121.8906689, -121.89062309999998, -121.8905872, -121.8906098, -121.8906095, -121.8906115, -121.8906023, -121.89061709999999, -121.8905922, -121.89064270000001, -121.89066319999999, -121.8906178, -121.8906121, -121.8905632, -121.8905332, -121.89043729999999, -121.89039540000002, -121.89017150000001, -121.8900709, -121.890006, -121.8899062, -121.88982620000002, -121.88977779999999, -121.88973030000001, -121.8896723, -121.88960220000001, -121.88958659999999, -121.8895744, -121.8895524, -121.8895336, -121.88953909999998, -121.88951599999999, -121.88953719999999, -121.88950759999999, -121.8895101, -121.88952739999999, -121.88956259999999, -121.88951509999998, -121.8894779, -121.8894893, -121.8894892, -121.889504, -121.8895803, -121.88953219999999, -121.88957979999999, -121.88958329999998, -121.8896025, -121.8896263, -121.8896274, -121.8896553, -121.88964270000001, -121.8896535, -121.8896502, -121.88965619999999, -121.88964170000001, -121.8896351, -121.88962920000002, -121.88965, -121.8896314, -121.8896239, -121.8896074, -121.8895453, -121.88954199999999, -121.8895652, -121.88953219999999, -121.8895008, -121.88954309999998, -121.8894845, -121.88943940000001, -121.8893907, -121.8893168, -121.88932890000001, -121.8892961, -121.88915449999999, -121.88896090000001, -121.8888564, -121.88876440000001, -121.88870109999999, -121.8886476, -121.88859440000002, -121.8885855, -121.88859109999999, -121.88863149999999, -121.8885744, -121.8885325, -121.88862959999999, -121.8886136, -121.88849280000001, -121.8884914, -121.88852179999999, -121.88849429999999, -121.88847460000001, -121.8884707, -121.88848349999999, -121.8884885, -121.88847959999998, -121.8884446, -121.8884358, -121.88848090000002, -121.8885112, -121.88852040000002, -121.8885007, -121.8885541, -121.8885202, -121.8885327, -121.88848270000001, -121.88836, -121.8882869, -121.88824790000001, -121.8880768, -121.88793490000002, -121.8879135, -121.88778529999999, -121.88776740000002, -121.8876601, -121.88762129999999, -121.88759750000001, -121.8874753, -121.88742830000001, -121.8874805, -121.8874875, -121.88751570000001, -121.887502, -121.8875074, -121.8874623, -121.8873848, -121.88739740000001, -121.88740320000001, -121.8873794, -121.88736680000001, -121.88736979999999, -121.8873227, -121.88725, -121.8872054, -121.8871355, -121.88706270000002, -121.8869902, -121.88686059999999, -121.8868128, -121.88670570000001, -121.88668020000001, -121.88663229999999, -121.8865129, -121.88645249999999, -121.88640829999999, -121.8863592, -121.8862519, -121.8861939, -121.88613070000001, -121.8860301, -121.8859235, -121.885876, -121.8858054, -121.8857135, -121.8855883, -121.8855537, -121.8854799, -121.8853956, -121.88533170000001, -121.8852436, -121.8851817, -121.88513940000001, -121.8850727, -121.8849972, -121.88494109999999, -121.88485490000001, -121.8848405, -121.8847727, -121.88469769999999, -121.8846686, -121.88460239999999, -121.8845305, -121.88446110000001, -121.88441350000001, -121.884381, -121.8843085, -121.88421159999999, -121.88418459999998, -121.8840847, -121.8840313, -121.8839595, -121.8838564, -121.8837875, -121.8837011, -121.8836307, -121.8835376, -121.8834852, -121.8834121, -121.88333519999999, -121.8832673, -121.88319070000001, -121.88315359999999, -121.8830751, -121.8830374, -121.88299540000001, -121.88297479999999, -121.88297109999999, -121.88297630000001, -121.88301979999999, -121.88307649999999, -121.88317690000001, -121.88324250000001, -121.8833135, -121.8833885, -121.8834475, -121.883504, -121.8835642, -121.88359740000001, -121.8836155, -121.88364490000001, -121.88366119999999, -121.8836551, -121.8836568, -121.8836345, -121.8836371, -121.88363559999999, -121.8836382, -121.8836281, -121.88364479999998, -121.8836685, -121.8836844, -121.8836782, -121.88367530000001, -121.8836858, -121.88366529999999, -121.88369640000002, -121.88370400000001, -121.8836352, -121.8836403, -121.8836885, -121.8837456, -121.8837994, -121.88385339999999, -121.8839456, -121.88401409999999, -121.88409540000002, -121.8841929, -121.8842703, -121.8843533, -121.8844582, -121.8845044, -121.8845435, -121.88459099999999, -121.8846449, -121.88467709999999, -121.88472379999999, -121.8847631, -121.8847875, -121.8848158, -121.88488899999999, -121.8849797, -121.88505549999999, -121.88514029999999, -121.88524939999999, -121.8853551, -121.88541880000001, -121.8855594, -121.88564440000002, -121.88567420000001, -121.88576440000001, -121.8858117, -121.88582029999999, -121.8858429, -121.88583799999999, -121.8858415, -121.88582759999998, -121.88583840000001, -121.8858455, -121.8858332, -121.88584420000001, -121.8858051, -121.88580300000001, -121.8858165, -121.88580870000001, -121.88581129999999, -121.8858078, -121.88581840000002, -121.88582279999999, -121.8858239, -121.8858469, -121.8858591, -121.8858312, -121.88583419999999, -121.88583190000001, -121.88583009999999, -121.8858223, -121.88581880000001, -121.8858133, -121.8858002, -121.88579709999999, -121.88579909999999, -121.88579579999998, -121.8858625, -121.8859176, -121.8859699, -121.88603810000001, -121.8861051, -121.88620959999999, -121.88629420000001, -121.88638909999999, -121.8864936, -121.88661929999999, -121.88670729999998, -121.88680359999998, -121.8868423, -121.8868581, -121.88683689999999, -121.88688880000001, -121.8868769, -121.88695530000001, -121.8870449, -121.88713770000001, -121.8872425, -121.88736840000001, -121.8874756, -121.88763279999999, -121.8877136, -121.8877723, -121.88790900000001, -121.88828810000001, -121.88843179999999, -121.88843190000001, -121.8884392, -121.88841780000001, -121.88816200000001, -121.88811240000001, -121.8881139, -121.88805239999999, -121.88789750000001, -121.8878049, -121.88769850000001, -121.88760659999998, -121.88752050000001, -121.88741029999998, -121.8873606, -121.887267, -121.88720819999999, -121.8871732, -121.8871341, -121.8871077, -121.8870861, -121.88708700000001, -121.8870938, -121.88708989999999, -121.8871011, -121.88708319999999, -121.88710420000001, -121.8871128, -121.8871331, -121.88713270000001, -121.8871392, -121.8871347, -121.88713190000001, -121.8870844, -121.8871102, -121.88712679999999, -121.88713700000001, -121.88716770000002, -121.88716950000001, -121.8871821, -121.88717009999999, -121.88717179999999, -121.8871167, -121.8870715, -121.8870212, -121.8869399, -121.88686729999999, -121.8867479, -121.88666940000002, -121.8865652, -121.8864819, -121.88644529999999, -121.88632220000001, -121.88633290000001, -121.8862068, -121.8859538, -121.88598999999999, -121.88596399999999, -121.8858937, -121.8859134, -121.88574080000001, -121.88564740000001, -121.88551070000001, -121.8854666, -121.88537520000001, -121.8853044, -121.88518700000002, -121.88511310000001, -121.88505090000001, -121.88504909999999, -121.88501540000001, -121.88510819999999, -121.8850971, -121.88511059999999, -121.88509690000001, -121.8850469, -121.8850274, -121.88502609999999, -121.88500230000001, -121.8849619, -121.8849341, -121.8849237, -121.8848886, -121.8847473, -121.8846432, -121.884547, -121.8844568, -121.88435530000001, -121.88420330000001, -121.8841528, -121.8840492, -121.8840334, -121.88401780000001, -121.8839453, -121.88394369999999, -121.8838909, -121.8838625, -121.88378929999999, -121.88372790000001, -121.8836903, -121.8836238, -121.8835723, -121.8835149, -121.88342140000002, -121.88337140000002, -121.88331809999998, -121.88328159999999, -121.88319650000001, -121.883159, -121.8831325, -121.8831115, -121.88309009999999, -121.88308049999999, -121.8831007, -121.88305120000001, -121.8830104, -121.8830061, -121.8829989, -121.88301609999998, -121.88302709999999, -121.8830563, -121.8830769, -121.8830534, -121.8830825, -121.88309129999999, -121.8830728, -121.88306599999999, -121.88309070000001, -121.88302420000001, -121.88299450000001, -121.88295719999999, -121.88294099999999, -121.8828725, -121.88282949999999, -121.88276129999998, -121.88268729999999, -121.88259199999999, -121.88253059999998, -121.8824616, -121.8823846, -121.88231259999999, -121.8822304, -121.8821483, -121.8821128, -121.8820605, -121.881999, -121.88196140000001, -121.88192920000002, -121.8818706, -121.881883, -121.88191119999999, -121.88195959999999, -121.88199240000002, -121.8820538, -121.88209679999999, -121.8822138, -121.8823009, -121.8823905, -121.8824797, -121.88258130000001, -121.88263490000001, -121.88267759999998, -121.88271840000002, -121.88274109999999, -121.88277179999999, -121.88280590000001, -121.8828365, -121.8828748, -121.8829227, -121.88297040000002, -121.88304699999999, -121.8830803, -121.88315800000001, -121.8832456, -121.88331409999998, -121.88335649999999, -121.88343590000002, -121.88353889999999, -121.883554, -121.8836263, -121.88369479999999, -121.88372749999999, -121.88372450000001, -121.8838029, -121.8838327, -121.88383780000001, -121.8838318, -121.8838409, -121.8838087, -121.88382240000001, -121.88380159999998, -121.8838143, -121.88382639999999, -121.8838487, -121.8838429, -121.88388470000001, -121.88387890000001, -121.8838923, -121.88396909999999, -121.88400039999999, -121.8840774, -121.88416240000001, -121.88420420000001, -121.88427450000002, -121.8843041, -121.8843939, -121.88444080000001, -121.88449840000001, -121.88463689999999, -121.88459750000001, -121.8846679, -121.88476370000001, -121.88478640000001, -121.8848008, -121.8848014, -121.8849558, -121.88497890000001, -121.88496979999998, -121.884882, -121.8849567, -121.884813, -121.8847489, -121.88484140000001, -121.8848879, -121.8849594, -121.8849601, -121.88499440000001, -121.8850471, -121.8851223, -121.88520220000001, -121.8852507, -121.8852976, -121.885393, -121.8854139, -121.8854192, -121.8854399, -121.8855506, -121.8856112, -121.88571850000001, -121.8856747, -121.88579490000001, -121.88586219999999, -121.88602390000001, -121.88608570000001, -121.88610770000001, -121.88608799999999, -121.8861132, -121.8862024, -121.88626640000001, -121.886275, -121.8863398, -121.8863741, -121.88642450000002, -121.88644440000002, -121.8865008, -121.88661929999999, -121.8866346, -121.88669209999999, -121.8867104, -121.88684170000002, -121.8870364, -121.887, -121.88705870000001, -121.88712549999998, -121.8871134, -121.88714350000001, -121.8871554, -121.88716240000001, -121.8870412, -121.8870861, -121.88711979999998, -121.88720490000001, -121.8872273, -121.8872943, -121.88732549999999, -121.8874112, -121.88749209999999, -121.8875289, -121.88757350000002, -121.88766840000001, -121.8876884, -121.88779140000001, -121.8878458, -121.8879362, -121.88796029999999, -121.88802460000001, -121.88805479999999, -121.8880814, -121.8881605, -121.8881993, -121.88821440000001, -121.888268, -121.8882841, -121.8883255, -121.88834709999999, -121.8884216, -121.88861499999999, -121.8885687, -121.88857069999999, -121.8885125, -121.8885374, -121.8884519, -121.8885426, -121.88849029999999, -121.8885455, -121.88863490000001, -121.8886416, -121.8887646, -121.88852209999999, -121.88843529999998, -121.8884501, -121.8883994, -121.88839660000001, -121.8884513, -121.8884585, -121.888494, -121.88841699999999, -121.88836909999999, -121.88837749999999, -121.88830349999999, -121.8884019, -121.8883328, -121.888328, -121.8883094, -121.8883084, -121.8883081, -121.88835379999999, -121.88829340000001, -121.88835870000001, -121.88835719999999, -121.8883631, -121.88842120000001, -121.8883174, -121.8883294, -121.8884058, -121.88841509999999, -121.8884497, -121.88843119999999, -121.88846170000001, -121.88842700000001, -121.88844879999999, -121.88845740000001, -121.8884207, -121.8884662, -121.8884076, -121.8884288, -121.8884196, -121.88839490000001, -121.88836570000001, -121.88827759999998, -121.8881446, -121.88809280000001, -121.8880004, -121.88792409999999, -121.88782450000001, -121.8877505, -121.8876645, -121.8876534, -121.8875808, -121.8875392, -121.88750259999999, -121.8874565, -121.8874236, -121.88741540000001, -121.8874223, -121.8873729, -121.88732949999999, -121.8873382, -121.88724140000001, -121.8871845, -121.8871003, -121.8870138, -121.886927, -121.88685819999999, -121.8868269, -121.8867872, -121.88675690000001, -121.88658640000001, -121.88655520000002, -121.88654309999998, -121.88644359999999, -121.8863787, -121.88634350000001, -121.88632759999999, -121.88629540000001, -121.8862582, -121.88619469999999, -121.8861778, -121.8861876, -121.8861608, -121.886229, -121.88626299999999, -121.88632690000001, -121.8863602, -121.8864294, -121.88653049999999, -121.88657749999999, -121.88671969999999, -121.8867598, -121.8868499, -121.88695290000001, -121.88697590000001, -121.88701809999999, -121.8871061, -121.88712350000002, -121.8871868, -121.88715520000001, -121.8871896, -121.88714499999999, -121.8872182, -121.88720890000002, -121.8872585, -121.88728600000002, -121.88735659999999, -121.8874027, -121.88749890000001, -121.887557, -121.8875897, -121.8876332, -121.8876957, -121.88777759999998, -121.8878107, -121.8878853, -121.8879436, -121.8880626, -121.88807299999999, -121.88818290000002, -121.8882342, -121.88830120000002, -121.8884035, -121.8883379, -121.8884058, -121.8884364, -121.88846240000001, -121.8884908, -121.8885344, -121.8886195, -121.8886916, -121.88878829999999, -121.88883, -121.88890900000001, -121.8889858, -121.88909040000001, -121.8891395, -121.8892568, -121.88929209999999, -121.8893933, -121.8894726, -121.8895295, -121.88961100000002, -121.8896518, -121.88969650000001, -121.88978229999998, -121.8898598, -121.8899378, -121.8899653, -121.88999009999998, -121.8900591, -121.8900337, -121.8900656, -121.8900739, -121.89006499999999, -121.89008989999999, -121.8901041, -121.8901422, -121.89010859999999, -121.8901328, -121.8901748, -121.8902311, -121.89032420000001, -121.89030530000001, -121.89033710000001, -121.890498, -121.89061409999998, -121.8906568, -121.890697, -121.89071940000001, -121.8908318, -121.8909686, -121.8910351, -121.8910781, -121.8911376, -121.89117949999999, -121.8912624, -121.89129879999999, -121.8913468, -121.89134920000001, -121.89145729999998, -121.8914183, -121.891407, -121.891401, -121.89136620000001, -121.89139879999999, -121.89140060000001, -121.891426, -121.8914332, -121.89143100000001, -121.8914291, -121.8914182, -121.89148, -121.89151650000001, -121.8914281, -121.8914115, -121.89142749999999, -121.8914192, -121.8914213, -121.89144270000001, -121.8914304, -121.89149170000002, -121.8915483, -121.8915868, -121.8915996, -121.89163719999999, -121.8917223, -121.89177279999998, -121.8919014, -121.8920736, -121.8919179, -121.8920017, -121.8920402, -121.8921236, -121.89220759999999, -121.89221380000001, -121.8922936, -121.8924111, -121.8925072, -121.8926114, -121.89265259999998, -121.89283970000001, -121.8929736, -121.8930344, -121.89324750000002, -121.8932959, -121.893395, -121.89355249999998, -121.8936835, -121.89383980000001, -121.89394720000001, -121.89403359999999, -121.89414520000001, -121.8942308, -121.8943352, -121.8941088, -121.89451609999999, -121.8946187, -121.89463710000001, -121.89468049999999, -121.8947, -121.89467490000001, -121.89474109999999, -121.8948543, -121.89486380000001, -121.8948679, -121.89513249999999, -121.8951523, -121.89521950000001, -121.8952923, -121.8953841, -121.8953874, -121.89543, -121.8955371, -121.8955835, -121.8956172, -121.895657, -121.89580929999998, -121.89582490000001, -121.89583400000001, -121.89578440000001, -121.89584920000001, -121.89591340000001, -121.89590679999999, -121.89604409999998, -121.8961439, -121.89623700000001, -121.89630530000001, -121.89638740000001, -121.8964713, -121.8965521, -121.89662299999999, -121.8967024, -121.89680700000001, -121.89684220000001, -121.8968527, -121.896887, -121.89688400000001, -121.89681589999999, -121.89678290000002, -121.8968172, -121.89680259999999, -121.89680630000001, -121.8967998, -121.8967973, -121.8967673, -121.89674140000001, -121.8967023, -121.8966283, -121.89658859999999, -121.89647990000002, -121.8964305, -121.89636909999999, -121.896297, -121.89623940000001, -121.89609250000001, -121.896046, -121.8960146, -121.8959969, -121.89590190000001, -121.89586770000001, -121.8957209, -121.8956117, -121.8956627, -121.89565790000002, -121.89558059999999, -121.8955987, -121.89557849999998, -121.89548329999998, -121.8956905, -121.89546409999998, -121.89567890000001, -121.8956088, -121.895641, -121.89565359999999, -121.8958213, -121.8959064, -121.8960186, -121.8960795, -121.8961392, -121.89636019999999, -121.89646189999999, -121.89659350000001, -121.8967229, -121.89689550000001, -121.89712790000002, -121.89719699999999, -121.8973682, -121.89751650000001, -121.8976254, -121.8977871, -121.8979273, -121.8980549, -121.89821880000001, -121.89834599999999, -121.8984737, -121.89859720000001, -121.89871229999999, -121.89882450000002, -121.89893810000001, -121.8990622, -121.8991881, -121.89931399999999, -121.89944209999999, -121.89953359999998, -121.89964440000001, -121.899752, -121.89986409999999, -121.8999387, -121.9000176, -121.9000447, -121.9001122, -121.900167, -121.9001959, -121.9002199, -121.90029979999998, -121.90027859999998, -121.9002771, -121.90028329999998, -121.9003209, -121.9003437, -121.9003255, -121.90039409999999, -121.9004024, -121.9003445, -121.90034820000001, -121.9003904, -121.90033490000002, -121.9003602, -121.9003445, -121.9003486, -121.90035379999999, -121.9003848, -121.9003969, -121.9003939, -121.9003997, -121.90039490000001, -121.9004091, -121.9003886, -121.90034720000001, -121.90032509999999, -121.9002632, -121.90021440000001, -121.90015179999999, -121.90006969999999, -121.899988, -121.89992009999999, -121.899847, -121.8997838, -121.89974009999999, -121.8997045, -121.8996479, -121.89960020000001, -121.89959509999998, -121.8995979, -121.89961090000001, -121.8996178, -121.899612, -121.89961740000001, -121.899596, -121.8995978, -121.89961140000001, -121.89961979999998, -121.89960049999999, -121.89959520000001, -121.89960520000001, -121.89961299999999, -121.89961709999999, -121.89959009999998, -121.8995691, -121.8995906, -121.8995949, -121.8995956, -121.8995865, -121.899607, -121.89960420000001, -121.8996014, -121.8996143, -121.899608, -121.8995993, -121.89960570000001, -121.89960890000002, -121.8996054, -121.8996003, -121.8996, -121.8995834, -121.89958270000001, -121.899579, -121.8995895, -121.89960020000001, -121.8995938, -121.89958090000002, -121.89958259999999, -121.8996013, -121.8995932, -121.8996061, -121.89960479999999, -121.8996297, -121.8996127, -121.8996267, -121.89964109999998, -121.89962609999999, -121.8996149, -121.8996027, -121.8995872, -121.8996102, -121.89960009999999, -121.8995834, -121.89959740000002, -121.8995834, -121.89957040000002], \"marker\": {\"color\": \"#636efa\"}, \"mode\": \"markers\", \"name\": \"phoneName=SamsungS20Ultra\", \"showlegend\": true, \"subplot\": \"mapbox\", \"type\": \"scattermapbox\"}],\n",
              "                        {\"height\": 600, \"legend\": {\"tracegroupgap\": 0}, \"mapbox\": {\"center\": {\"lat\": 37.33394636379748, \"lon\": -121.88910287886102}, \"domain\": {\"x\": [0.0, 1.0], \"y\": [0.0, 1.0]}, \"style\": \"stamen-terrain\", \"zoom\": 400}, \"margin\": {\"b\": 0, \"l\": 0, \"r\": 0, \"t\": 0}, \"template\": {\"data\": {\"bar\": [{\"error_x\": {\"color\": \"#2a3f5f\"}, \"error_y\": {\"color\": \"#2a3f5f\"}, \"marker\": {\"line\": {\"color\": \"#E5ECF6\", \"width\": 0.5}}, \"type\": \"bar\"}], \"barpolar\": [{\"marker\": {\"line\": {\"color\": \"#E5ECF6\", \"width\": 0.5}}, \"type\": \"barpolar\"}], \"carpet\": [{\"aaxis\": {\"endlinecolor\": \"#2a3f5f\", \"gridcolor\": \"white\", \"linecolor\": \"white\", \"minorgridcolor\": \"white\", \"startlinecolor\": \"#2a3f5f\"}, \"baxis\": {\"endlinecolor\": \"#2a3f5f\", \"gridcolor\": \"white\", \"linecolor\": \"white\", \"minorgridcolor\": \"white\", \"startlinecolor\": \"#2a3f5f\"}, \"type\": \"carpet\"}], \"choropleth\": [{\"colorbar\": {\"outlinewidth\": 0, \"ticks\": \"\"}, \"type\": \"choropleth\"}], \"contour\": [{\"colorbar\": {\"outlinewidth\": 0, \"ticks\": \"\"}, \"colorscale\": [[0.0, \"#0d0887\"], [0.1111111111111111, \"#46039f\"], [0.2222222222222222, \"#7201a8\"], [0.3333333333333333, \"#9c179e\"], [0.4444444444444444, \"#bd3786\"], [0.5555555555555556, \"#d8576b\"], [0.6666666666666666, \"#ed7953\"], [0.7777777777777778, \"#fb9f3a\"], [0.8888888888888888, \"#fdca26\"], [1.0, \"#f0f921\"]], \"type\": \"contour\"}], \"contourcarpet\": [{\"colorbar\": {\"outlinewidth\": 0, \"ticks\": \"\"}, \"type\": \"contourcarpet\"}], \"heatmap\": [{\"colorbar\": {\"outlinewidth\": 0, \"ticks\": \"\"}, \"colorscale\": [[0.0, \"#0d0887\"], [0.1111111111111111, \"#46039f\"], [0.2222222222222222, \"#7201a8\"], [0.3333333333333333, \"#9c179e\"], [0.4444444444444444, \"#bd3786\"], [0.5555555555555556, \"#d8576b\"], [0.6666666666666666, \"#ed7953\"], [0.7777777777777778, \"#fb9f3a\"], [0.8888888888888888, \"#fdca26\"], [1.0, \"#f0f921\"]], \"type\": \"heatmap\"}], \"heatmapgl\": [{\"colorbar\": {\"outlinewidth\": 0, \"ticks\": \"\"}, \"colorscale\": [[0.0, \"#0d0887\"], [0.1111111111111111, \"#46039f\"], [0.2222222222222222, \"#7201a8\"], [0.3333333333333333, \"#9c179e\"], [0.4444444444444444, \"#bd3786\"], [0.5555555555555556, \"#d8576b\"], [0.6666666666666666, \"#ed7953\"], [0.7777777777777778, \"#fb9f3a\"], [0.8888888888888888, \"#fdca26\"], [1.0, \"#f0f921\"]], \"type\": \"heatmapgl\"}], \"histogram\": [{\"marker\": {\"colorbar\": {\"outlinewidth\": 0, \"ticks\": \"\"}}, \"type\": \"histogram\"}], \"histogram2d\": [{\"colorbar\": {\"outlinewidth\": 0, \"ticks\": \"\"}, \"colorscale\": [[0.0, \"#0d0887\"], [0.1111111111111111, \"#46039f\"], [0.2222222222222222, \"#7201a8\"], [0.3333333333333333, \"#9c179e\"], [0.4444444444444444, \"#bd3786\"], [0.5555555555555556, \"#d8576b\"], [0.6666666666666666, \"#ed7953\"], [0.7777777777777778, \"#fb9f3a\"], [0.8888888888888888, \"#fdca26\"], [1.0, \"#f0f921\"]], \"type\": \"histogram2d\"}], \"histogram2dcontour\": [{\"colorbar\": {\"outlinewidth\": 0, \"ticks\": \"\"}, \"colorscale\": [[0.0, \"#0d0887\"], [0.1111111111111111, \"#46039f\"], [0.2222222222222222, \"#7201a8\"], [0.3333333333333333, \"#9c179e\"], [0.4444444444444444, \"#bd3786\"], [0.5555555555555556, \"#d8576b\"], [0.6666666666666666, \"#ed7953\"], [0.7777777777777778, \"#fb9f3a\"], [0.8888888888888888, \"#fdca26\"], [1.0, \"#f0f921\"]], \"type\": \"histogram2dcontour\"}], \"mesh3d\": [{\"colorbar\": {\"outlinewidth\": 0, \"ticks\": \"\"}, \"type\": \"mesh3d\"}], \"parcoords\": [{\"line\": {\"colorbar\": {\"outlinewidth\": 0, \"ticks\": \"\"}}, \"type\": \"parcoords\"}], \"pie\": [{\"automargin\": true, \"type\": \"pie\"}], \"scatter\": [{\"marker\": {\"colorbar\": {\"outlinewidth\": 0, \"ticks\": \"\"}}, \"type\": \"scatter\"}], \"scatter3d\": [{\"line\": {\"colorbar\": {\"outlinewidth\": 0, \"ticks\": \"\"}}, \"marker\": {\"colorbar\": {\"outlinewidth\": 0, \"ticks\": \"\"}}, \"type\": \"scatter3d\"}], \"scattercarpet\": [{\"marker\": {\"colorbar\": {\"outlinewidth\": 0, \"ticks\": \"\"}}, \"type\": \"scattercarpet\"}], \"scattergeo\": [{\"marker\": {\"colorbar\": {\"outlinewidth\": 0, \"ticks\": \"\"}}, \"type\": \"scattergeo\"}], \"scattergl\": [{\"marker\": {\"colorbar\": {\"outlinewidth\": 0, \"ticks\": \"\"}}, \"type\": \"scattergl\"}], \"scattermapbox\": [{\"marker\": {\"colorbar\": {\"outlinewidth\": 0, \"ticks\": \"\"}}, \"type\": \"scattermapbox\"}], \"scatterpolar\": [{\"marker\": {\"colorbar\": {\"outlinewidth\": 0, \"ticks\": \"\"}}, \"type\": \"scatterpolar\"}], \"scatterpolargl\": [{\"marker\": {\"colorbar\": {\"outlinewidth\": 0, \"ticks\": \"\"}}, \"type\": \"scatterpolargl\"}], \"scatterternary\": [{\"marker\": {\"colorbar\": {\"outlinewidth\": 0, \"ticks\": \"\"}}, \"type\": \"scatterternary\"}], \"surface\": [{\"colorbar\": {\"outlinewidth\": 0, \"ticks\": \"\"}, \"colorscale\": [[0.0, \"#0d0887\"], [0.1111111111111111, \"#46039f\"], [0.2222222222222222, \"#7201a8\"], [0.3333333333333333, \"#9c179e\"], [0.4444444444444444, \"#bd3786\"], [0.5555555555555556, \"#d8576b\"], [0.6666666666666666, \"#ed7953\"], [0.7777777777777778, \"#fb9f3a\"], [0.8888888888888888, \"#fdca26\"], [1.0, \"#f0f921\"]], \"type\": \"surface\"}], \"table\": [{\"cells\": {\"fill\": {\"color\": \"#EBF0F8\"}, \"line\": {\"color\": \"white\"}}, \"header\": {\"fill\": {\"color\": \"#C8D4E3\"}, \"line\": {\"color\": \"white\"}}, \"type\": \"table\"}]}, \"layout\": {\"annotationdefaults\": {\"arrowcolor\": \"#2a3f5f\", \"arrowhead\": 0, \"arrowwidth\": 1}, \"coloraxis\": {\"colorbar\": {\"outlinewidth\": 0, \"ticks\": \"\"}}, \"colorscale\": {\"diverging\": [[0, \"#8e0152\"], [0.1, \"#c51b7d\"], [0.2, \"#de77ae\"], [0.3, \"#f1b6da\"], [0.4, \"#fde0ef\"], [0.5, \"#f7f7f7\"], [0.6, \"#e6f5d0\"], [0.7, \"#b8e186\"], [0.8, \"#7fbc41\"], [0.9, \"#4d9221\"], [1, \"#276419\"]], \"sequential\": [[0.0, \"#0d0887\"], [0.1111111111111111, \"#46039f\"], [0.2222222222222222, \"#7201a8\"], [0.3333333333333333, \"#9c179e\"], [0.4444444444444444, \"#bd3786\"], [0.5555555555555556, \"#d8576b\"], [0.6666666666666666, \"#ed7953\"], [0.7777777777777778, \"#fb9f3a\"], [0.8888888888888888, \"#fdca26\"], [1.0, \"#f0f921\"]], \"sequentialminus\": [[0.0, \"#0d0887\"], [0.1111111111111111, \"#46039f\"], [0.2222222222222222, \"#7201a8\"], [0.3333333333333333, \"#9c179e\"], [0.4444444444444444, \"#bd3786\"], [0.5555555555555556, \"#d8576b\"], [0.6666666666666666, \"#ed7953\"], [0.7777777777777778, \"#fb9f3a\"], [0.8888888888888888, \"#fdca26\"], [1.0, \"#f0f921\"]]}, \"colorway\": [\"#636efa\", \"#EF553B\", \"#00cc96\", \"#ab63fa\", \"#FFA15A\", \"#19d3f3\", \"#FF6692\", \"#B6E880\", \"#FF97FF\", \"#FECB52\"], \"font\": {\"color\": \"#2a3f5f\"}, \"geo\": {\"bgcolor\": \"white\", \"lakecolor\": \"white\", \"landcolor\": \"#E5ECF6\", \"showlakes\": true, \"showland\": true, \"subunitcolor\": \"white\"}, \"hoverlabel\": {\"align\": \"left\"}, \"hovermode\": \"closest\", \"mapbox\": {\"style\": \"light\"}, \"paper_bgcolor\": \"white\", \"plot_bgcolor\": \"#E5ECF6\", \"polar\": {\"angularaxis\": {\"gridcolor\": \"white\", \"linecolor\": \"white\", \"ticks\": \"\"}, \"bgcolor\": \"#E5ECF6\", \"radialaxis\": {\"gridcolor\": \"white\", \"linecolor\": \"white\", \"ticks\": \"\"}}, \"scene\": {\"xaxis\": {\"backgroundcolor\": \"#E5ECF6\", \"gridcolor\": \"white\", \"gridwidth\": 2, \"linecolor\": \"white\", \"showbackground\": true, \"ticks\": \"\", \"zerolinecolor\": \"white\"}, \"yaxis\": {\"backgroundcolor\": \"#E5ECF6\", \"gridcolor\": \"white\", \"gridwidth\": 2, \"linecolor\": \"white\", \"showbackground\": true, \"ticks\": \"\", \"zerolinecolor\": \"white\"}, \"zaxis\": {\"backgroundcolor\": \"#E5ECF6\", \"gridcolor\": \"white\", \"gridwidth\": 2, \"linecolor\": \"white\", \"showbackground\": true, \"ticks\": \"\", \"zerolinecolor\": \"white\"}}, \"shapedefaults\": {\"line\": {\"color\": \"#2a3f5f\"}}, \"ternary\": {\"aaxis\": {\"gridcolor\": \"white\", \"linecolor\": \"white\", \"ticks\": \"\"}, \"baxis\": {\"gridcolor\": \"white\", \"linecolor\": \"white\", \"ticks\": \"\"}, \"bgcolor\": \"#E5ECF6\", \"caxis\": {\"gridcolor\": \"white\", \"linecolor\": \"white\", \"ticks\": \"\"}}, \"title\": {\"x\": 0.05}, \"xaxis\": {\"automargin\": true, \"gridcolor\": \"white\", \"linecolor\": \"white\", \"ticks\": \"\", \"title\": {\"standoff\": 15}, \"zerolinecolor\": \"white\", \"zerolinewidth\": 2}, \"yaxis\": {\"automargin\": true, \"gridcolor\": \"white\", \"linecolor\": \"white\", \"ticks\": \"\", \"title\": {\"standoff\": 15}, \"zerolinecolor\": \"white\", \"zerolinewidth\": 2}}}, \"title\": {\"text\": \"GPS trafic\"}, \"width\": 800},\n",
              "                        {\"responsive\": true}\n",
              "                    ).then(function(){\n",
              "                            \n",
              "var gd = document.getElementById('26d53fef-8305-4855-a4b5-97e1af46f833');\n",
              "var x = new MutationObserver(function (mutations, observer) {{\n",
              "        var display = window.getComputedStyle(gd).display;\n",
              "        if (!display || display === 'none') {{\n",
              "            console.log([gd, 'removed!']);\n",
              "            Plotly.purge(gd);\n",
              "            observer.disconnect();\n",
              "        }}\n",
              "}});\n",
              "\n",
              "// Listen for the removal of the full notebook cells\n",
              "var notebookContainer = gd.closest('#notebook-container');\n",
              "if (notebookContainer) {{\n",
              "    x.observe(notebookContainer, {childList: true});\n",
              "}}\n",
              "\n",
              "// Listen for the clearing of the current output cell\n",
              "var outputEl = gd.closest('.output');\n",
              "if (outputEl) {{\n",
              "    x.observe(outputEl, {childList: true});\n",
              "}}\n",
              "\n",
              "                        })\n",
              "                };\n",
              "                \n",
              "            </script>\n",
              "        </div>\n",
              "</body>\n",
              "</html>"
            ]
          },
          "metadata": {
            "tags": []
          }
        }
      ]
    },
    {
      "cell_type": "code",
      "metadata": {
        "id": "f_JoANol1QMY"
      },
      "source": [
        "a = np.array([0,1,2])\n",
        "    b = np.array([10,20,30])\n",
        "    c = np.array([5,7,9])\n",
        "\n",
        "    vec_a = a - b\n",
        "    vec_c = c - b\n",
        "    length_vec_a = np.linalg.norm(vec_a)\n",
        "    length_vec_c = np.linalg.norm(vec_c)\n",
        "    inner_product = np.inner(vec_a, vec_c)\n",
        "    degree = np.rad2deg(np.arccos(inner_product / (length_vec_a * length_vec_c)))"
      ],
      "execution_count": null,
      "outputs": []
    },
    {
      "cell_type": "code",
      "metadata": {
        "id": "YHhyMYx6redb"
      },
      "source": [
        "def mean_prediction_train(input_df):\n",
        "    input_df[\"phone\"] = input_df[\"collectionName\"] + \"_\" + input_df[\"phoneName\"]\n",
        "    \n",
        "    def add_distance_diff(df):\n",
        "        df['latDeg_pre'] = df['latDeg'].shift(1)\n",
        "        df['latDeg_pro'] = df['latDeg'].shift(-1)\n",
        "        df['lngDeg_pre'] = df['lngDeg'].shift(1)\n",
        "        df['lngDeg_pro'] = df['lngDeg'].shift(-1)\n",
        "        df['phone_pre'] = df['phone'].shift(1)\n",
        "        df['phone_pro'] = df['phone'].shift(-1)\n",
        "        \n",
        "        df['dist_pre'] = calc_haversine(df['latDeg'], df['lngDeg'], df['latDeg_pre'], df['lngDeg_pre'])\n",
        "        df['dist_pro'] = calc_haversine(df['latDeg'], df['lngDeg'], df['latDeg_pro'], df['lngDeg_pro'])\n",
        "        \n",
        "        df.loc[df['phone']!=df['phone_pre'], ['latDeg_pre', 'lngDeg_pre', 'dist_pre']] = np.nan\n",
        "        df.loc[df['phone']!=df['phone_pro'], ['latDeg_pro', 'lngDeg_pro', 'dist_pro']] = np.nan\n",
        "        \n",
        "        return df\n",
        "\n",
        "\n",
        "    def make_lerp_data(input_df):\n",
        "        org_colus = input_df.columns\n",
        "\n",
        "        time_list = input_df[[\"collectionName\", \"millisSinceGpsEpoch\"]].drop_duplicates()\n",
        "        phone_list = input_df[[\"collectionName\", \"phoneName\"]].drop_duplicates()\n",
        "        tmp = time_list.merge(phone_list, on=\"collectionName\", how=\"outer\")\n",
        "\n",
        "        output_df = tmp.merge(input_df, on=[\"collectionName\", \"millisSinceGpsEpoch\", \"phoneName\"], how=\"left\")\n",
        "        output_df[\"phone\"] = output_df[\"collectionName\"] + \"_\" + output_df[\"phoneName\"]\n",
        "        output_df = output_df.sort_values([\"phone\", \"millisSinceGpsEpoch\"])\n",
        "\n",
        "        output_df[\"latDeg_pre\"] = output_df[\"latDeg\"].shift(1)\n",
        "        output_df[\"latDeg_pro\"] = output_df[\"latDeg\"].shift(-1)\n",
        "        output_df[\"lngDeg_pre\"] = output_df[\"lngDeg\"].shift(1)\n",
        "        output_df[\"lngDeg_pro\"] = output_df[\"lngDeg\"].shift(-1)\n",
        "        output_df[\"phone_pre\"] = output_df[\"phone\"].shift(1)\n",
        "        output_df[\"phone_pro\"] = output_df[\"phone\"].shift(-1)\n",
        "        output_df[\"millisSinceGpsEpoch_pre\"] = output_df[\"millisSinceGpsEpoch\"].shift(1)\n",
        "        output_df[\"millisSinceGpsEpoch_pro\"] = output_df[\"millisSinceGpsEpoch\"].shift(-1)\n",
        "\n",
        "        output_df = output_df[(output_df[\"latDeg\"].isnull())&(output_df[\"phone\"] == output_df[\"phone_pre\"])&\n",
        "                            (output_df[\"phone\"] == output_df[\"phone_pro\"])].copy()\n",
        "\n",
        "        #preとproの間を経過時間を考慮して算出\n",
        "        output_df[\"latDeg\"] = output_df[\"latDeg_pre\"] + ((output_df[\"latDeg_pro\"] - output_df[\"latDeg_pre\"]) * \n",
        "                                                        ((output_df[\"millisSinceGpsEpoch\"] - output_df[\"millisSinceGpsEpoch_pre\"]) /\n",
        "                                                        (output_df[\"millisSinceGpsEpoch_pro\"] - output_df[\"millisSinceGpsEpoch_pre\"])))\n",
        "        output_df[\"lngDeg\"] = output_df[\"lngDeg_pre\"] + ((output_df[\"lngDeg_pro\"] - output_df[\"lngDeg_pre\"]) * \n",
        "                                                        ((output_df[\"millisSinceGpsEpoch\"] - output_df[\"millisSinceGpsEpoch_pre\"]) /\n",
        "                                                        (output_df[\"millisSinceGpsEpoch_pro\"] - output_df[\"millisSinceGpsEpoch_pre\"])))\n",
        "        \n",
        "        output_df = output_df[~output_df['latDeg'].isnull()]\n",
        "\n",
        "        return output_df[org_colus]\n",
        "\n",
        "    \n",
        "    def calc_mean_pred(input_df, lerp_df):\n",
        "        input_df[\"phone\"] = input_df[\"collectionName\"] + \"_\" + input_df[\"phoneName\"]\n",
        "        add_lerp = pd.concat([input_df, lerp_df])\n",
        "        mean_pred_result = add_lerp.groupby([\"collectionName\", \"millisSinceGpsEpoch\"])[[\"latDeg\", \"lngDeg\"]].mean().reset_index()\n",
        "        output_df = input_df[[\"collectionName\", \"phoneName\", \"millisSinceGpsEpoch\"]].copy()\n",
        "        output_df = output_df.merge(mean_pred_result[[\"collectionName\", \"millisSinceGpsEpoch\", \"latDeg\", \"lngDeg\"]],\n",
        "                                        on=[\"collectionName\", \"millisSinceGpsEpoch\"], how=\"left\")\n",
        "        output_df[\"phone\"] = output_df[\"collectionName\"] + \"_\" + output_df[\"phoneName\"]\n",
        "        return output_df\n",
        "\n",
        "    input_df_ = add_distance_diff(input_df)\n",
        "    th = 50\n",
        "    input_df_.loc[((input_df_['dist_pre'] > th) & (input_df_['dist_pro'] > th)), ['latDeg', 'lngDeg']] = np.nan\n",
        "\n",
        "    #input_df_kalman = kalman_filter_train(input_df_)\n",
        "    \n",
        "    lerp = make_lerp_data(input_df_)\n",
        "    mean_pred  = calc_mean_pred(input_df_, lerp)\n",
        "\n",
        "    output_df = kalman_filter_train(mean_pred)\n",
        "    output_df[\"t_latDeg\"] = input_df[\"t_latDeg\"]\n",
        "    output_df[\"t_lngDeg\"] = input_df[\"t_lngDeg\"]\n",
        "    \n",
        "    return output_df"
      ],
      "execution_count": null,
      "outputs": []
    }
  ]
}