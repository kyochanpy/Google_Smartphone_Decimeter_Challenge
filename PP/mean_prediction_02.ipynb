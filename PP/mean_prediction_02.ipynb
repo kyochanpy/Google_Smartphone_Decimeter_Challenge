{
  "nbformat": 4,
  "nbformat_minor": 0,
  "metadata": {
    "colab": {
      "name": "Untitled102.ipynb",
      "provenance": [],
      "mount_file_id": "1jwtpDkD1ObfI2rlJ8f0LQlRGcTD4IUBX",
      "authorship_tag": "ABX9TyP1aAe86vWKeHvZu2CZogpZ",
      "include_colab_link": true
    },
    "kernelspec": {
      "name": "python3",
      "display_name": "Python 3"
    },
    "language_info": {
      "name": "python"
    },
    "widgets": {
      "application/vnd.jupyter.widget-state+json": {
        "d50c9e4f5f764815b02081f0fcd20088": {
          "model_module": "@jupyter-widgets/controls",
          "model_name": "HBoxModel",
          "state": {
            "_view_name": "HBoxView",
            "_dom_classes": [],
            "_model_name": "HBoxModel",
            "_view_module": "@jupyter-widgets/controls",
            "_model_module_version": "1.5.0",
            "_view_count": null,
            "_view_module_version": "1.5.0",
            "box_style": "",
            "layout": "IPY_MODEL_6e61bf8b7c044e2ebc7460a35a932348",
            "_model_module": "@jupyter-widgets/controls",
            "children": [
              "IPY_MODEL_75e74979b8f5485f8fa93d19bea3ec0e",
              "IPY_MODEL_cc08a147471a401990ce8b1d2e0326b5"
            ]
          }
        },
        "6e61bf8b7c044e2ebc7460a35a932348": {
          "model_module": "@jupyter-widgets/base",
          "model_name": "LayoutModel",
          "state": {
            "_view_name": "LayoutView",
            "grid_template_rows": null,
            "right": null,
            "justify_content": null,
            "_view_module": "@jupyter-widgets/base",
            "overflow": null,
            "_model_module_version": "1.2.0",
            "_view_count": null,
            "flex_flow": null,
            "width": null,
            "min_width": null,
            "border": null,
            "align_items": null,
            "bottom": null,
            "_model_module": "@jupyter-widgets/base",
            "top": null,
            "grid_column": null,
            "overflow_y": null,
            "overflow_x": null,
            "grid_auto_flow": null,
            "grid_area": null,
            "grid_template_columns": null,
            "flex": null,
            "_model_name": "LayoutModel",
            "justify_items": null,
            "grid_row": null,
            "max_height": null,
            "align_content": null,
            "visibility": null,
            "align_self": null,
            "height": null,
            "min_height": null,
            "padding": null,
            "grid_auto_rows": null,
            "grid_gap": null,
            "max_width": null,
            "order": null,
            "_view_module_version": "1.2.0",
            "grid_template_areas": null,
            "object_position": null,
            "object_fit": null,
            "grid_auto_columns": null,
            "margin": null,
            "display": null,
            "left": null
          }
        },
        "75e74979b8f5485f8fa93d19bea3ec0e": {
          "model_module": "@jupyter-widgets/controls",
          "model_name": "FloatProgressModel",
          "state": {
            "_view_name": "ProgressView",
            "style": "IPY_MODEL_a93488e9b0cf4528975112b5f6062706",
            "_dom_classes": [],
            "description": "100%",
            "_model_name": "FloatProgressModel",
            "bar_style": "success",
            "max": 73,
            "_view_module": "@jupyter-widgets/controls",
            "_model_module_version": "1.5.0",
            "value": 73,
            "_view_count": null,
            "_view_module_version": "1.5.0",
            "orientation": "horizontal",
            "min": 0,
            "description_tooltip": null,
            "_model_module": "@jupyter-widgets/controls",
            "layout": "IPY_MODEL_3957340ba42d46ab9d335f07addf46bc"
          }
        },
        "cc08a147471a401990ce8b1d2e0326b5": {
          "model_module": "@jupyter-widgets/controls",
          "model_name": "HTMLModel",
          "state": {
            "_view_name": "HTMLView",
            "style": "IPY_MODEL_edd613f81c3c4ba6b3d8fed963c4d31e",
            "_dom_classes": [],
            "description": "",
            "_model_name": "HTMLModel",
            "placeholder": "​",
            "_view_module": "@jupyter-widgets/controls",
            "_model_module_version": "1.5.0",
            "value": " 73/73 [03:20&lt;00:00,  2.75s/it]",
            "_view_count": null,
            "_view_module_version": "1.5.0",
            "description_tooltip": null,
            "_model_module": "@jupyter-widgets/controls",
            "layout": "IPY_MODEL_ee57e4acb9014b0982659df8d8e79a10"
          }
        },
        "a93488e9b0cf4528975112b5f6062706": {
          "model_module": "@jupyter-widgets/controls",
          "model_name": "ProgressStyleModel",
          "state": {
            "_view_name": "StyleView",
            "_model_name": "ProgressStyleModel",
            "description_width": "initial",
            "_view_module": "@jupyter-widgets/base",
            "_model_module_version": "1.5.0",
            "_view_count": null,
            "_view_module_version": "1.2.0",
            "bar_color": null,
            "_model_module": "@jupyter-widgets/controls"
          }
        },
        "3957340ba42d46ab9d335f07addf46bc": {
          "model_module": "@jupyter-widgets/base",
          "model_name": "LayoutModel",
          "state": {
            "_view_name": "LayoutView",
            "grid_template_rows": null,
            "right": null,
            "justify_content": null,
            "_view_module": "@jupyter-widgets/base",
            "overflow": null,
            "_model_module_version": "1.2.0",
            "_view_count": null,
            "flex_flow": null,
            "width": null,
            "min_width": null,
            "border": null,
            "align_items": null,
            "bottom": null,
            "_model_module": "@jupyter-widgets/base",
            "top": null,
            "grid_column": null,
            "overflow_y": null,
            "overflow_x": null,
            "grid_auto_flow": null,
            "grid_area": null,
            "grid_template_columns": null,
            "flex": null,
            "_model_name": "LayoutModel",
            "justify_items": null,
            "grid_row": null,
            "max_height": null,
            "align_content": null,
            "visibility": null,
            "align_self": null,
            "height": null,
            "min_height": null,
            "padding": null,
            "grid_auto_rows": null,
            "grid_gap": null,
            "max_width": null,
            "order": null,
            "_view_module_version": "1.2.0",
            "grid_template_areas": null,
            "object_position": null,
            "object_fit": null,
            "grid_auto_columns": null,
            "margin": null,
            "display": null,
            "left": null
          }
        },
        "edd613f81c3c4ba6b3d8fed963c4d31e": {
          "model_module": "@jupyter-widgets/controls",
          "model_name": "DescriptionStyleModel",
          "state": {
            "_view_name": "StyleView",
            "_model_name": "DescriptionStyleModel",
            "description_width": "",
            "_view_module": "@jupyter-widgets/base",
            "_model_module_version": "1.5.0",
            "_view_count": null,
            "_view_module_version": "1.2.0",
            "_model_module": "@jupyter-widgets/controls"
          }
        },
        "ee57e4acb9014b0982659df8d8e79a10": {
          "model_module": "@jupyter-widgets/base",
          "model_name": "LayoutModel",
          "state": {
            "_view_name": "LayoutView",
            "grid_template_rows": null,
            "right": null,
            "justify_content": null,
            "_view_module": "@jupyter-widgets/base",
            "overflow": null,
            "_model_module_version": "1.2.0",
            "_view_count": null,
            "flex_flow": null,
            "width": null,
            "min_width": null,
            "border": null,
            "align_items": null,
            "bottom": null,
            "_model_module": "@jupyter-widgets/base",
            "top": null,
            "grid_column": null,
            "overflow_y": null,
            "overflow_x": null,
            "grid_auto_flow": null,
            "grid_area": null,
            "grid_template_columns": null,
            "flex": null,
            "_model_name": "LayoutModel",
            "justify_items": null,
            "grid_row": null,
            "max_height": null,
            "align_content": null,
            "visibility": null,
            "align_self": null,
            "height": null,
            "min_height": null,
            "padding": null,
            "grid_auto_rows": null,
            "grid_gap": null,
            "max_width": null,
            "order": null,
            "_view_module_version": "1.2.0",
            "grid_template_areas": null,
            "object_position": null,
            "object_fit": null,
            "grid_auto_columns": null,
            "margin": null,
            "display": null,
            "left": null
          }
        }
      }
    }
  },
  "cells": [
    {
      "cell_type": "markdown",
      "metadata": {
        "id": "view-in-github",
        "colab_type": "text"
      },
      "source": [
        "<a href=\"https://colab.research.google.com/github/kyochanpy/Google_Smartphone_Decimeter_Challenge/blob/main/PP/mean_prediction_02.ipynb\" target=\"_parent\"><img src=\"https://colab.research.google.com/assets/colab-badge.svg\" alt=\"Open In Colab\"/></a>"
      ]
    },
    {
      "cell_type": "code",
      "metadata": {
        "id": "PBeg5syzlwwa"
      },
      "source": [
        "import os\n",
        "import pandas as pd\n",
        "import numpy as np\n",
        "import matplotlib.pyplot as plt\n",
        "from matplotlib_venn import venn2, venn2_circles\n",
        "import seaborn as sns\n",
        "from tqdm.notebook import tqdm\n",
        "from pathlib import Path\n",
        "import plotly\n",
        "import plotly.express as px\n",
        "from glob import glob"
      ],
      "execution_count": 1,
      "outputs": []
    },
    {
      "cell_type": "code",
      "metadata": {
        "id": "9O11Ppbomr2_"
      },
      "source": [
        "def calc_haversine(lat1, lon1, lat2, lon2):\n",
        "    RADIUS = 6_367_000\n",
        "    lat1, lon1, lat2, lon2 = map(np.radians, [lat1, lon1, lat2, lon2])\n",
        "    dlat = lat2 - lat1\n",
        "    dlon = lon2 - lon1\n",
        "    d = np.sin(dlat/2)**2 + np.cos(lat1) * np.cos(lat2) * np.sin(dlon/2)**2\n",
        "    dist = 2 * RADIUS * np.arcsin(d**0.5)\n",
        "    return dist"
      ],
      "execution_count": 2,
      "outputs": []
    },
    {
      "cell_type": "code",
      "metadata": {
        "colab": {
          "base_uri": "https://localhost:8080/",
          "height": 66,
          "referenced_widgets": [
            "d50c9e4f5f764815b02081f0fcd20088",
            "6e61bf8b7c044e2ebc7460a35a932348",
            "75e74979b8f5485f8fa93d19bea3ec0e",
            "cc08a147471a401990ce8b1d2e0326b5",
            "a93488e9b0cf4528975112b5f6062706",
            "3957340ba42d46ab9d335f07addf46bc",
            "edd613f81c3c4ba6b3d8fed963c4d31e",
            "ee57e4acb9014b0982659df8d8e79a10"
          ]
        },
        "id": "K02zc9ctmwJd",
        "outputId": "f2826f6f-621e-40bc-f7da-8a158c7c0a40"
      },
      "source": [
        "path = Path(\"/content/drive/MyDrive/GSDC\")\n",
        "test_base = pd.read_csv(path / \"baseline_locations_test.csv\")\n",
        "sub = pd.read_csv(path / \"sample_submission.csv\")\n",
        "\n",
        "truths = (path / \"train\").rglob(\"ground_truth.csv\")\n",
        "\n",
        "df_list = []\n",
        "cols = [\"collectionName\", \"phoneName\", \"millisSinceGpsEpoch\", \"latDeg\", \"lngDeg\"]\n",
        "\n",
        "for t in tqdm(truths, total=73):\n",
        "    df_phone = pd.read_csv(t, usecols=cols)\n",
        "    df_list.append(df_phone)\n",
        "df_truth = pd.concat(df_list, ignore_index=True)\n",
        "\n",
        "train_base = pd.read_csv(path / \"baseline_locations_train.csv\", usecols=cols)\n",
        "all_df = df_truth.merge(train_base, how=\"inner\", on=cols[:3], suffixes=(\"_truth\", '_train_base'))"
      ],
      "execution_count": 3,
      "outputs": [
        {
          "output_type": "display_data",
          "data": {
            "application/vnd.jupyter.widget-view+json": {
              "model_id": "d50c9e4f5f764815b02081f0fcd20088",
              "version_minor": 0,
              "version_major": 2
            },
            "text/plain": [
              "HBox(children=(FloatProgress(value=0.0, max=73.0), HTML(value='')))"
            ]
          },
          "metadata": {
            "tags": []
          }
        },
        {
          "output_type": "stream",
          "text": [
            "\n"
          ],
          "name": "stdout"
        }
      ]
    },
    {
      "cell_type": "code",
      "metadata": {
        "id": "dfnckq5kmz8v"
      },
      "source": [
        "def mean_prediction(input_df):\n",
        "    def make_lerp_data(input_df):\n",
        "        org_colus = input_df.columns\n",
        "\n",
        "        time_list = input_df[[\"collectionName\", \"millisSinceGpsEpoch\"]].drop_duplicates()\n",
        "        phone_list = input_df[[\"collectionName\", \"phoneName\"]].drop_duplicates()\n",
        "        tmp = time_list.merge(phone_list, on=\"collectionName\", how=\"outer\")\n",
        "\n",
        "        output_df = tmp.merge(input_df, on=[\"collectionName\", \"millisSinceGpsEpoch\", \"phoneName\"], how=\"left\")\n",
        "        output_df[\"phone\"] = output_df[\"collectionName\"] + \"_\" + output_df[\"phoneName\"]\n",
        "        output_df = output_df.sort_values([\"phone\", \"millisSinceGpsEpoch\"])\n",
        "\n",
        "        output_df[\"latDeg_pre\"] = output_df[\"latDeg\"].shift(1)\n",
        "        output_df[\"latDeg_pro\"] = output_df[\"latDeg\"].shift(-1)\n",
        "        output_df[\"lngDeg_pre\"] = output_df[\"lngDeg\"].shift(1)\n",
        "        output_df[\"lngDeg_pro\"] = output_df[\"lngDeg\"].shift(-1)\n",
        "        output_df[\"phone_pre\"] = output_df[\"phone\"].shift(1)\n",
        "        output_df[\"phone_pro\"] = output_df[\"phone\"].shift(-1)\n",
        "        output_df[\"millisSinceGpsEpoch_pre\"] = output_df[\"millisSinceGpsEpoch\"].shift(1)\n",
        "        output_df[\"millisSinceGpsEpoch_pro\"] = output_df[\"millisSinceGpsEpoch\"].shift(-1)\n",
        "\n",
        "        output_df = output_df[(output_df[\"latDeg\"].isnull())&(output_df[\"phone\"] == output_df[\"phone_pre\"])&\n",
        "                            (output_df[\"phone\"] == output_df[\"phone_pro\"])].copy()\n",
        "\n",
        "        output_df[\"latDeg\"] = output_df[\"latDeg_pre\"] + ((output_df[\"latDeg_pro\"] - output_df[\"latDeg_pre\"]) * \n",
        "                                                        ((output_df[\"millisSinceGpsEpoch\"] - output_df[\"millisSinceGpsEpoch_pre\"]) /\n",
        "                                                        (output_df[\"millisSinceGpsEpoch_pro\"] - output_df[\"millisSinceGpsEpoch_pre\"])))\n",
        "        output_df[\"lngDeg\"] = output_df[\"lngDeg_pre\"] + ((output_df[\"lngDeg_pro\"] - output_df[\"lngDeg_pre\"]) * \n",
        "                                                        ((output_df[\"millisSinceGpsEpoch\"] - output_df[\"millisSinceGpsEpoch_pre\"]) /\n",
        "                                                        (output_df[\"millisSinceGpsEpoch_pro\"] - output_df[\"millisSinceGpsEpoch_pre\"])))\n",
        "        \n",
        "        output_df = output_df[~output_df['latDeg'].isnull()]\n",
        "\n",
        "        return output_df[org_colus]\n",
        "\n",
        "    \n",
        "    def calc_mean_pred(input_df, lerp_df):\n",
        "        input_df[\"phone\"] = input_df[\"collectionName\"] + \"_\" + input_df[\"phoneName\"]\n",
        "        add_lerp = pd.concat([input_df, lerp_df])\n",
        "        mean_pred_result = add_lerp.groupby([\"collectionName\", \"millisSinceGpsEpoch\"])[[\"latDeg\", \"lngDeg\"]].mean().reset_index()\n",
        "        output_df = input_df[[\"collectionName\", \"phoneName\", \"millisSinceGpsEpoch\"]].copy()\n",
        "        output_df = output_df.merge(mean_pred_result[[\"collectionName\", \"millisSinceGpsEpoch\", \"latDeg\", \"lngDeg\"]],\n",
        "                                        on=[\"collectionName\", \"millisSinceGpsEpoch\"], how=\"left\")\n",
        "        output_df[\"phone\"] = output_df[\"collectionName\"] + \"_\" + output_df[\"phoneName\"]\n",
        "        return output_df\n",
        "\n",
        "\n",
        "    test_lerp = make_lerp_data(input_df)\n",
        "    test_mean_pred  = calc_mean_pred(input_df, test_lerp)\n",
        "\n",
        "    sub[\"latDeg\"] = test_mean_pred[\"latDeg\"]\n",
        "    sub[\"lngDeg\"] = test_mean_pred[\"lngDeg\"]\n",
        "\n",
        "    output_df = sub.copy()\n",
        "\n",
        "    return output_df"
      ],
      "execution_count": 4,
      "outputs": []
    },
    {
      "cell_type": "code",
      "metadata": {
        "colab": {
          "base_uri": "https://localhost:8080/",
          "height": 419
        },
        "id": "i0AQjcdsn5_f",
        "outputId": "28be2462-a247-4dd6-c43d-65407b5284e3"
      },
      "source": [
        "mean_prediction(test_base)"
      ],
      "execution_count": 5,
      "outputs": [
        {
          "output_type": "execute_result",
          "data": {
            "text/html": [
              "<div>\n",
              "<style scoped>\n",
              "    .dataframe tbody tr th:only-of-type {\n",
              "        vertical-align: middle;\n",
              "    }\n",
              "\n",
              "    .dataframe tbody tr th {\n",
              "        vertical-align: top;\n",
              "    }\n",
              "\n",
              "    .dataframe thead th {\n",
              "        text-align: right;\n",
              "    }\n",
              "</style>\n",
              "<table border=\"1\" class=\"dataframe\">\n",
              "  <thead>\n",
              "    <tr style=\"text-align: right;\">\n",
              "      <th></th>\n",
              "      <th>phone</th>\n",
              "      <th>millisSinceGpsEpoch</th>\n",
              "      <th>latDeg</th>\n",
              "      <th>lngDeg</th>\n",
              "    </tr>\n",
              "  </thead>\n",
              "  <tbody>\n",
              "    <tr>\n",
              "      <th>0</th>\n",
              "      <td>2020-05-15-US-MTV-1_Pixel4</td>\n",
              "      <td>1273608785432</td>\n",
              "      <td>37.416591</td>\n",
              "      <td>-122.082069</td>\n",
              "    </tr>\n",
              "    <tr>\n",
              "      <th>1</th>\n",
              "      <td>2020-05-15-US-MTV-1_Pixel4</td>\n",
              "      <td>1273608786432</td>\n",
              "      <td>37.416617</td>\n",
              "      <td>-122.082056</td>\n",
              "    </tr>\n",
              "    <tr>\n",
              "      <th>2</th>\n",
              "      <td>2020-05-15-US-MTV-1_Pixel4</td>\n",
              "      <td>1273608787432</td>\n",
              "      <td>37.416612</td>\n",
              "      <td>-122.082055</td>\n",
              "    </tr>\n",
              "    <tr>\n",
              "      <th>3</th>\n",
              "      <td>2020-05-15-US-MTV-1_Pixel4</td>\n",
              "      <td>1273608788432</td>\n",
              "      <td>37.416592</td>\n",
              "      <td>-122.082068</td>\n",
              "    </tr>\n",
              "    <tr>\n",
              "      <th>4</th>\n",
              "      <td>2020-05-15-US-MTV-1_Pixel4</td>\n",
              "      <td>1273608789432</td>\n",
              "      <td>37.416618</td>\n",
              "      <td>-122.082057</td>\n",
              "    </tr>\n",
              "    <tr>\n",
              "      <th>...</th>\n",
              "      <td>...</td>\n",
              "      <td>...</td>\n",
              "      <td>...</td>\n",
              "      <td>...</td>\n",
              "    </tr>\n",
              "    <tr>\n",
              "      <th>91481</th>\n",
              "      <td>2021-04-29-US-SJC-3_SamsungS20Ultra</td>\n",
              "      <td>1303763185000</td>\n",
              "      <td>37.334539</td>\n",
              "      <td>-121.899383</td>\n",
              "    </tr>\n",
              "    <tr>\n",
              "      <th>91482</th>\n",
              "      <td>2021-04-29-US-SJC-3_SamsungS20Ultra</td>\n",
              "      <td>1303763186000</td>\n",
              "      <td>37.334545</td>\n",
              "      <td>-121.899380</td>\n",
              "    </tr>\n",
              "    <tr>\n",
              "      <th>91483</th>\n",
              "      <td>2021-04-29-US-SJC-3_SamsungS20Ultra</td>\n",
              "      <td>1303763187000</td>\n",
              "      <td>37.334551</td>\n",
              "      <td>-121.899371</td>\n",
              "    </tr>\n",
              "    <tr>\n",
              "      <th>91484</th>\n",
              "      <td>2021-04-29-US-SJC-3_SamsungS20Ultra</td>\n",
              "      <td>1303763188000</td>\n",
              "      <td>37.334540</td>\n",
              "      <td>-121.899371</td>\n",
              "    </tr>\n",
              "    <tr>\n",
              "      <th>91485</th>\n",
              "      <td>2021-04-29-US-SJC-3_SamsungS20Ultra</td>\n",
              "      <td>1303763189000</td>\n",
              "      <td>37.334562</td>\n",
              "      <td>-121.899354</td>\n",
              "    </tr>\n",
              "  </tbody>\n",
              "</table>\n",
              "<p>91486 rows × 4 columns</p>\n",
              "</div>"
            ],
            "text/plain": [
              "                                     phone  ...      lngDeg\n",
              "0               2020-05-15-US-MTV-1_Pixel4  ... -122.082069\n",
              "1               2020-05-15-US-MTV-1_Pixel4  ... -122.082056\n",
              "2               2020-05-15-US-MTV-1_Pixel4  ... -122.082055\n",
              "3               2020-05-15-US-MTV-1_Pixel4  ... -122.082068\n",
              "4               2020-05-15-US-MTV-1_Pixel4  ... -122.082057\n",
              "...                                    ...  ...         ...\n",
              "91481  2021-04-29-US-SJC-3_SamsungS20Ultra  ... -121.899383\n",
              "91482  2021-04-29-US-SJC-3_SamsungS20Ultra  ... -121.899380\n",
              "91483  2021-04-29-US-SJC-3_SamsungS20Ultra  ... -121.899371\n",
              "91484  2021-04-29-US-SJC-3_SamsungS20Ultra  ... -121.899371\n",
              "91485  2021-04-29-US-SJC-3_SamsungS20Ultra  ... -121.899354\n",
              "\n",
              "[91486 rows x 4 columns]"
            ]
          },
          "metadata": {
            "tags": []
          },
          "execution_count": 5
        }
      ]
    },
    {
      "cell_type": "code",
      "metadata": {
        "id": "8AShCff2n-MU"
      },
      "source": [
        ""
      ],
      "execution_count": null,
      "outputs": []
    }
  ]
}