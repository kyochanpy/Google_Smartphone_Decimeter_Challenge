{
  "nbformat": 4,
  "nbformat_minor": 0,
  "metadata": {
    "colab": {
      "name": "Untitled122.ipynb",
      "provenance": [],
      "mount_file_id": "12vrW9mF-OvUOm42lpzAYZKwubJT4wTw6",
      "authorship_tag": "ABX9TyMqyfIHhUuL1ALhrtoMvP65",
      "include_colab_link": true
    },
    "kernelspec": {
      "name": "python3",
      "display_name": "Python 3"
    },
    "language_info": {
      "name": "python"
    }
  },
  "cells": [
    {
      "cell_type": "markdown",
      "metadata": {
        "id": "view-in-github",
        "colab_type": "text"
      },
      "source": [
        "<a href=\"https://colab.research.google.com/github/kyochanpy/Google_Smartphone_Decimeter_Challenge/blob/main/PP/move_closer_02.ipynb\" target=\"_parent\"><img src=\"https://colab.research.google.com/assets/colab-badge.svg\" alt=\"Open In Colab\"/></a>"
      ]
    },
    {
      "cell_type": "code",
      "metadata": {
        "colab": {
          "base_uri": "https://localhost:8080/"
        },
        "id": "tT_aKGG4SpkE",
        "outputId": "54f27946-bcfb-4edf-a521-49eed19e48ff"
      },
      "source": [
        "!pip install osmnx momepy geopandas > /dev/null"
      ],
      "execution_count": 2,
      "outputs": [
        {
          "output_type": "stream",
          "text": [
            "\u001b[31mERROR: google-colab 1.0.0 has requirement requests~=2.23.0, but you'll have requests 2.26.0 which is incompatible.\u001b[0m\n",
            "\u001b[31mERROR: datascience 0.10.6 has requirement folium==0.2.1, but you'll have folium 0.8.3 which is incompatible.\u001b[0m\n",
            "\u001b[31mERROR: albumentations 0.1.12 has requirement imgaug<0.2.7,>=0.2.5, but you'll have imgaug 0.2.9 which is incompatible.\u001b[0m\n"
          ],
          "name": "stdout"
        }
      ]
    },
    {
      "cell_type": "code",
      "metadata": {
        "colab": {
          "base_uri": "https://localhost:8080/"
        },
        "id": "U0SLWInTL5J0",
        "outputId": "09c064ba-2b0e-48bd-db57-5cb77eddcf0c"
      },
      "source": [
        "from pathlib import Path\n",
        "import os\n",
        "from glob import glob\n",
        "\n",
        "import pandas as pd\n",
        "import numpy as np\n",
        "import math\n",
        "import matplotlib.pyplot as plt\n",
        "import seaborn as sns\n",
        "from tqdm import tqdm\n",
        "from scipy.optimize import minimize\n",
        "\n",
        "from sklearn.model_selection import StratifiedKFold\n",
        "from sklearn.metrics import confusion_matrix\n",
        "\n",
        "from lightgbm import LGBMModel\n",
        "\n",
        "from sklearn.model_selection import KFold\n",
        "from sklearn.preprocessing import LabelEncoder\n",
        "\n",
        "import plotly.express as px\n",
        "\n",
        "from shapely.geometry import Point\n",
        "import osmnx as ox\n",
        "import momepy\n",
        "import geopandas as gpd"
      ],
      "execution_count": 3,
      "outputs": [
        {
          "output_type": "stream",
          "text": [
            "/usr/local/lib/python3.7/dist-packages/geopandas/_compat.py:110: UserWarning:\n",
            "\n",
            "The Shapely GEOS version (3.8.0-CAPI-1.13.1 ) is incompatible with the GEOS version PyGEOS was compiled with (3.9.1-CAPI-1.14.2). Conversions between both will be slow.\n",
            "\n"
          ],
          "name": "stderr"
        }
      ]
    },
    {
      "cell_type": "code",
      "metadata": {
        "colab": {
          "base_uri": "https://localhost:8080/"
        },
        "id": "H9I_MeamN0Gg",
        "outputId": "25aa1cd8-aeaf-4f7b-ef82-4cd49245daf1"
      },
      "source": [
        "path = Path(\"/content/drive/MyDrive/GSDC\")\n",
        "train_base = pd.read_csv(path / \"baseline_locations_train.csv\")\n",
        "test_base = pd.read_csv(path / \"baseline_locations_test.csv\")\n",
        "\n",
        "#train_base = pd.read_csv(path / \"baseline_locations_train.csv\")\n",
        "#test_base = pd.read_csv(\"/content/drive/MyDrive/GSDC/test_predict_next_point_SJC_2.csv\")\n",
        "\n",
        "print(len(train_base[\"collectionName\"].unique()))\n",
        "print(len(train_base[\"phone\"].unique()))"
      ],
      "execution_count": 6,
      "outputs": [
        {
          "output_type": "stream",
          "text": [
            "29\n",
            "73\n"
          ],
          "name": "stdout"
        }
      ]
    },
    {
      "cell_type": "code",
      "metadata": {
        "id": "ojemIAqNzE2b"
      },
      "source": [
        "def get_groundtruth(path: Path) -> pd.DataFrame:\n",
        "        output_df = pd.DataFrame()\n",
        "        \n",
        "        for path in glob(str(path / 'train/*/*/ground_truth.csv')):\n",
        "            _df = pd.read_csv(path)\n",
        "            output_df = pd.concat([output_df, _df])\n",
        "        output_df = output_df.reset_index(drop=True)\n",
        "        \n",
        "        _columns = ['latDeg', 'lngDeg', 'heightAboveWgs84EllipsoidM']\n",
        "        output_df[['t_'+col for col in _columns]] = output_df[_columns]\n",
        "        output_df = output_df.drop(columns=_columns, axis=1)\n",
        "        return output_df\n",
        "\n",
        "train_base = train_base.merge(\n",
        "    get_groundtruth(path),\n",
        "    on=['collectionName', 'phoneName', 'millisSinceGpsEpoch']\n",
        ")"
      ],
      "execution_count": 8,
      "outputs": []
    },
    {
      "cell_type": "code",
      "metadata": {
        "id": "zqose5_w_qX6"
      },
      "source": [
        "train_SJC_list = [\"2021-04-22-US-SJC-1\", \"2021-04-28-US-SJC-1\", \"2021-04-29-US-SJC-2\"]\n",
        "test_SJC_list = [\"2021-04-02-US-SJC-1\", \"2021-04-22-US-SJC-2\"]\n",
        "\n",
        "train_SJCs = []\n",
        "for SJC in train_SJC_list:\n",
        "    SJC_df = train_base[train_base[\"collectionName\"] == SJC]\n",
        "    train_SJCs.append(SJC_df)\n",
        "train_SJC = pd.concat(train_SJCs)\n",
        "\n",
        "test_SJCs = []\n",
        "for SJC in test_SJC_list:\n",
        "    SJC_df = test_base[test_base[\"collectionName\"] == SJC]\n",
        "    test_SJCs.append(SJC_df)\n",
        "test_SJC = pd.concat(test_SJCs)"
      ],
      "execution_count": 9,
      "outputs": []
    },
    {
      "cell_type": "code",
      "metadata": {
        "id": "ivJHno2ARFLs"
      },
      "source": [
        "def nearest_point(x, y, points):\n",
        "    result = {}\n",
        "    if len(points) == 0:\n",
        "        return result\n",
        "    result[0] = points[0][0]\n",
        "    result[1] = points[0][1]\n",
        "    stdval = math.sqrt((points[0][0] - x) ** 2 + (points[0][1] - y) ** 2)\n",
        "    for point in points:\n",
        "        distance = math.sqrt((point[0] - x) ** 2 + (point[1] - y) ** 2)\n",
        "        if stdval > distance:\n",
        "            result[0] = point[0]\n",
        "            result[1] = point[1]\n",
        "            stdval = distance\n",
        "    return [result[0], result[1]]\n",
        "\n",
        "    \n",
        "def calc_haversine(lat1, lon1, lat2, lon2):\n",
        "    RADIUS = 6_367_000\n",
        "    lat1, lon1, lat2, lon2 = map(np.radians, [lat1, lon1, lat2, lon2])\n",
        "    dlat = lat2 - lat1\n",
        "    dlon = lon2 - lon1\n",
        "    d = np.sin(dlat/2)**2 + np.cos(lat1) * np.cos(lat2) * np.sin(dlon/2)**2\n",
        "    dist = 2 * RADIUS * np.arcsin(d**0.5)\n",
        "    return dist"
      ],
      "execution_count": 10,
      "outputs": []
    },
    {
      "cell_type": "code",
      "metadata": {
        "colab": {
          "base_uri": "https://localhost:8080/",
          "height": 35
        },
        "id": "RJLoicoZP5At",
        "outputId": "7c68d451-49d9-45df-8690-5fc3fcc285ea"
      },
      "source": [
        "\"\"\"\n",
        "道路の中心の座標を生成\n",
        "各lat,lngから一番近い座標をmerge\n",
        "\"\"\""
      ],
      "execution_count": 11,
      "outputs": [
        {
          "output_type": "execute_result",
          "data": {
            "application/vnd.google.colaboratory.intrinsic+json": {
              "type": "string"
            },
            "text/plain": [
              "'\\n道路の中心の座標を生成\\n各lat,lngから一番近い座標をmerge\\n'"
            ]
          },
          "metadata": {
            "tags": []
          },
          "execution_count": 11
        }
      ]
    },
    {
      "cell_type": "code",
      "metadata": {
        "id": "TsZtZ7C2ROT7"
      },
      "source": [
        "def create_dataset(input_df):\n",
        "    output_df = input_df.copy()\n",
        "    collection_list = output_df[\"collectionName\"].unique()\n",
        "\n",
        "    nearest_point_dfs_list = []\n",
        "    c = 1\n",
        "    for collection in collection_list:\n",
        "        print(f\"now : {c}/{len(collection_list)}\")\n",
        "        c += 1\n",
        "        print(collection)\n",
        "        target_df = output_df[output_df[\"collectionName\"] == collection].reset_index(drop=True)\n",
        "        target_df[\"geometry\"] = [Point(p) for p in target_df[[\"lngDeg\", \"latDeg\"]].to_numpy()]\n",
        "        target_gdf = gpd.GeoDataFrame(target_df, geometry=target_df[\"geometry\"])\n",
        "\n",
        "        offset = 0.1**5\n",
        "        bbox = target_gdf.bounds + [-(offset+0.01), -(offset+0.01), offset+0.01, offset+0.01]\n",
        "        east = bbox[\"minx\"].min()\n",
        "        west = bbox[\"maxx\"].max()\n",
        "        south = bbox[\"miny\"].min()\n",
        "        north = bbox[\"maxy\"].max()\n",
        "        G = ox.graph.graph_from_bbox(north, south, east, west, network_type='drive')\n",
        "\n",
        "        nodes, edges = momepy.nx_to_gdf(G)\n",
        "        \n",
        "        edges = edges.dropna(subset=[\"geometry\"]).reset_index(drop=True)\n",
        "        hits = bbox.apply(lambda row: list(edges.sindex.intersection(row)), axis=1)\n",
        "        tmp = pd.DataFrame({\n",
        "            \"pt_idx\": np.repeat(hits.index, hits.apply(len)),\n",
        "            \"line_i\": np.concatenate(hits.values)\n",
        "        })\n",
        "        tmp = tmp.join(edges.reset_index(drop=True), on=\"line_i\")\n",
        "        tmp = tmp.join(target_gdf.geometry.rename(\"point\"), on=\"pt_idx\")\n",
        "        tmp = gpd.GeoDataFrame(tmp, geometry=\"geometry\", crs=target_gdf.crs)\n",
        "\n",
        "        tmp[\"snap_dist\"] = tmp.geometry.distance(gpd.GeoSeries(tmp.point))\n",
        "\n",
        "        tolerance = 0.0005  \n",
        "        tmp = tmp.loc[tmp.snap_dist <= tolerance]\n",
        "        tmp = tmp.sort_values(by=[\"snap_dist\"])\n",
        "\n",
        "        closest = tmp.groupby(\"pt_idx\").first()\n",
        "        closest = gpd.GeoDataFrame(closest, geometry=\"geometry\")\n",
        "        closest = closest.drop_duplicates(\"line_i\").reset_index(drop=True)\n",
        "\n",
        "        line_points_list = []\n",
        "        split = 200  # param: number of split in each LineString\n",
        "        for dist in range(0, split, 1):\n",
        "            dist = dist/split\n",
        "            line_points = closest[\"geometry\"].interpolate(dist, normalized=True)\n",
        "            line_points_list.append(line_points)\n",
        "        line_points = pd.concat(line_points_list).reset_index(drop=True)\n",
        "        line_points = line_points.reset_index().rename(columns={0:\"geometry\"})\n",
        "        line_points[\"lngDeg\"] = line_points[\"geometry\"].x\n",
        "        line_points[\"latDeg\"] = line_points[\"geometry\"].y\n",
        "\n",
        "        \n",
        "\n",
        "        \n",
        "        line_points_ = line_points.loc[:, [\"lngDeg\", \"latDeg\"]]\n",
        "        line_points_list = line_points_.values.tolist()\n",
        "\n",
        "        nearest_point_list = []\n",
        "        for lng, lat in zip(\n",
        "            target_df[\"lngDeg\"].to_numpy(),\n",
        "            target_df[\"latDeg\"].to_numpy()\n",
        "        ):\n",
        "            nearest_point_list.append(nearest_point(lng, lat, line_points_list))\n",
        "        \n",
        "        print(len(nearest_point_list))\n",
        "        print(output_df[output_df[\"collectionName\"] == collection].shape)\n",
        "\n",
        "        nearest_point_dfs_list.append(pd.DataFrame(nearest_point_list))\n",
        "\n",
        "\n",
        "    nearest_point_df = pd.concat(nearest_point_dfs_list)\n",
        "    output_df[\"latDeg_center\"] = nearest_point_df[1].values\n",
        "    output_df[\"lngDeg_center\"] = nearest_point_df[0].values\n",
        "\n",
        "    output_df['meter'] = output_df.apply(\n",
        "            lambda r: calc_haversine(\n",
        "                r.latDeg, r.lngDeg, r.latDeg_center, r.lngDeg_center\n",
        "            ),\n",
        "            axis=1\n",
        "        )\n",
        "    \n",
        "    return output_df"
      ],
      "execution_count": 12,
      "outputs": []
    },
    {
      "cell_type": "code",
      "metadata": {
        "colab": {
          "base_uri": "https://localhost:8080/"
        },
        "id": "y_qHtOpbSajE",
        "outputId": "31a1a02c-6827-4030-bebc-2380ef72dcfb"
      },
      "source": [
        "train_df = create_dataset(train_SJC)"
      ],
      "execution_count": 12,
      "outputs": [
        {
          "output_type": "stream",
          "text": [
            "now : 1/3\n",
            "2021-04-22-US-SJC-1\n"
          ],
          "name": "stdout"
        },
        {
          "output_type": "stream",
          "text": [
            "/usr/local/lib/python3.7/dist-packages/momepy/utils.py:418: UserWarning:\n",
            "\n",
            "Approach is not set. Defaulting to 'primal'.\n",
            "\n",
            "/usr/local/lib/python3.7/dist-packages/ipykernel_launcher.py:35: UserWarning:\n",
            "\n",
            "Geometry is in a geographic CRS. Results from 'distance' are likely incorrect. Use 'GeoSeries.to_crs()' to re-project geometries to a projected CRS before this operation.\n",
            "\n",
            "\n",
            "/usr/local/lib/python3.7/dist-packages/ipykernel_launcher.py:35: UserWarning:\n",
            "\n",
            "CRS mismatch between the CRS of left geometries and the CRS of right geometries.\n",
            "Use `to_crs()` to reproject one of the input geometries to match the CRS of the other.\n",
            "\n",
            "Left CRS: EPSG:4326\n",
            "Right CRS: None\n",
            "\n",
            "\n"
          ],
          "name": "stderr"
        },
        {
          "output_type": "stream",
          "text": [
            "5716\n",
            "(5716, 15)\n",
            "now : 2/3\n",
            "2021-04-28-US-SJC-1\n"
          ],
          "name": "stdout"
        },
        {
          "output_type": "stream",
          "text": [
            "/usr/local/lib/python3.7/dist-packages/momepy/utils.py:418: UserWarning:\n",
            "\n",
            "Approach is not set. Defaulting to 'primal'.\n",
            "\n",
            "/usr/local/lib/python3.7/dist-packages/ipykernel_launcher.py:35: UserWarning:\n",
            "\n",
            "Geometry is in a geographic CRS. Results from 'distance' are likely incorrect. Use 'GeoSeries.to_crs()' to re-project geometries to a projected CRS before this operation.\n",
            "\n",
            "\n",
            "/usr/local/lib/python3.7/dist-packages/ipykernel_launcher.py:35: UserWarning:\n",
            "\n",
            "CRS mismatch between the CRS of left geometries and the CRS of right geometries.\n",
            "Use `to_crs()` to reproject one of the input geometries to match the CRS of the other.\n",
            "\n",
            "Left CRS: EPSG:4326\n",
            "Right CRS: None\n",
            "\n",
            "\n"
          ],
          "name": "stderr"
        },
        {
          "output_type": "stream",
          "text": [
            "4097\n",
            "(4097, 15)\n",
            "now : 3/3\n",
            "2021-04-29-US-SJC-2\n"
          ],
          "name": "stdout"
        },
        {
          "output_type": "stream",
          "text": [
            "/usr/local/lib/python3.7/dist-packages/momepy/utils.py:418: UserWarning:\n",
            "\n",
            "Approach is not set. Defaulting to 'primal'.\n",
            "\n",
            "/usr/local/lib/python3.7/dist-packages/ipykernel_launcher.py:35: UserWarning:\n",
            "\n",
            "Geometry is in a geographic CRS. Results from 'distance' are likely incorrect. Use 'GeoSeries.to_crs()' to re-project geometries to a projected CRS before this operation.\n",
            "\n",
            "\n",
            "/usr/local/lib/python3.7/dist-packages/ipykernel_launcher.py:35: UserWarning:\n",
            "\n",
            "CRS mismatch between the CRS of left geometries and the CRS of right geometries.\n",
            "Use `to_crs()` to reproject one of the input geometries to match the CRS of the other.\n",
            "\n",
            "Left CRS: EPSG:4326\n",
            "Right CRS: None\n",
            "\n",
            "\n"
          ],
          "name": "stderr"
        },
        {
          "output_type": "stream",
          "text": [
            "4700\n",
            "(4700, 15)\n"
          ],
          "name": "stdout"
        }
      ]
    },
    {
      "cell_type": "code",
      "metadata": {
        "colab": {
          "base_uri": "https://localhost:8080/"
        },
        "id": "yByj1KIGehmM",
        "outputId": "8d3b7de8-88c6-4d3e-8b38-5121506795e3"
      },
      "source": [
        "test_df = create_dataset(test_SJC)"
      ],
      "execution_count": 13,
      "outputs": [
        {
          "output_type": "stream",
          "text": [
            "now : 1/2\n",
            "2021-04-02-US-SJC-1\n"
          ],
          "name": "stdout"
        },
        {
          "output_type": "stream",
          "text": [
            "/usr/local/lib/python3.7/dist-packages/momepy/utils.py:418: UserWarning:\n",
            "\n",
            "Approach is not set. Defaulting to 'primal'.\n",
            "\n",
            "/usr/local/lib/python3.7/dist-packages/ipykernel_launcher.py:35: UserWarning:\n",
            "\n",
            "Geometry is in a geographic CRS. Results from 'distance' are likely incorrect. Use 'GeoSeries.to_crs()' to re-project geometries to a projected CRS before this operation.\n",
            "\n",
            "\n",
            "/usr/local/lib/python3.7/dist-packages/ipykernel_launcher.py:35: UserWarning:\n",
            "\n",
            "CRS mismatch between the CRS of left geometries and the CRS of right geometries.\n",
            "Use `to_crs()` to reproject one of the input geometries to match the CRS of the other.\n",
            "\n",
            "Left CRS: EPSG:4326\n",
            "Right CRS: None\n",
            "\n",
            "\n"
          ],
          "name": "stderr"
        },
        {
          "output_type": "stream",
          "text": [
            "4749\n",
            "(4749, 7)\n",
            "now : 2/2\n",
            "2021-04-22-US-SJC-2\n"
          ],
          "name": "stdout"
        },
        {
          "output_type": "stream",
          "text": [
            "/usr/local/lib/python3.7/dist-packages/momepy/utils.py:418: UserWarning:\n",
            "\n",
            "Approach is not set. Defaulting to 'primal'.\n",
            "\n",
            "/usr/local/lib/python3.7/dist-packages/ipykernel_launcher.py:35: UserWarning:\n",
            "\n",
            "Geometry is in a geographic CRS. Results from 'distance' are likely incorrect. Use 'GeoSeries.to_crs()' to re-project geometries to a projected CRS before this operation.\n",
            "\n",
            "\n",
            "/usr/local/lib/python3.7/dist-packages/ipykernel_launcher.py:35: UserWarning:\n",
            "\n",
            "CRS mismatch between the CRS of left geometries and the CRS of right geometries.\n",
            "Use `to_crs()` to reproject one of the input geometries to match the CRS of the other.\n",
            "\n",
            "Left CRS: EPSG:4326\n",
            "Right CRS: None\n",
            "\n",
            "\n"
          ],
          "name": "stderr"
        },
        {
          "output_type": "stream",
          "text": [
            "2324\n",
            "(2324, 7)\n"
          ],
          "name": "stdout"
        }
      ]
    },
    {
      "cell_type": "code",
      "metadata": {
        "id": "J--4O8w2wDbP"
      },
      "source": [
        "def check_score(input_df: pd.DataFrame) -> pd.DataFrame:\n",
        "    output_df = input_df.copy()\n",
        "    print(\"< from truth >\")\n",
        "    \n",
        "    output_df['meter'] = input_df.apply(\n",
        "        lambda r: calc_haversine(\n",
        "            r.latDeg, r.lngDeg, r.t_latDeg, r.t_lngDeg\n",
        "        ),\n",
        "        axis=1\n",
        "    )\n",
        "\n",
        "    meter_score = output_df['meter'].mean()\n",
        "    print(f'error meter: {meter_score}')\n",
        "\n",
        "    scores = []\n",
        "    for phone in output_df['phone'].unique():\n",
        "        _index = output_df['phone']==phone\n",
        "        p_50 = np.percentile(output_df.loc[_index, 'meter'], 50)\n",
        "        p_95 = np.percentile(output_df.loc[_index, 'meter'], 95)\n",
        "        scores.append(p_50)\n",
        "        scores.append(p_95)\n",
        "\n",
        "    score = sum(scores) / len(scores)\n",
        "    print(f'score: {score}')\n",
        "    \n",
        "    return output_df"
      ],
      "execution_count": 16,
      "outputs": []
    },
    {
      "cell_type": "code",
      "metadata": {
        "id": "4uRJn4SfCoxJ"
      },
      "source": [
        "def check_score_center(input_df):\n",
        "    output_df = input_df.copy()\n",
        "    print(\"< from center >\")\n",
        "    \n",
        "    output_df['meter'] = input_df.apply(\n",
        "        lambda r: calc_haversine(\n",
        "            r.latDeg, r.lngDeg, r.latDeg_center, r.lngDeg_center\n",
        "        ),\n",
        "        axis=1\n",
        "    )\n",
        "    \n",
        "    meter_score = output_df['meter'].mean()\n",
        "    print(f'error meter by center: {meter_score}')\n",
        "\n",
        "    scores = []\n",
        "    for phone in output_df['phone'].unique():\n",
        "        _index = output_df['phone']==phone\n",
        "        p_50 = np.percentile(output_df.loc[_index, 'meter'], 50)\n",
        "        p_95 = np.percentile(output_df.loc[_index, 'meter'], 95)\n",
        "        scores.append(p_50)\n",
        "        scores.append(p_95)\n",
        "\n",
        "    score = sum(scores) / len(scores)\n",
        "    print(f'score center: {score}')\n",
        "    \n",
        "    return output_df\n"
      ],
      "execution_count": 14,
      "outputs": []
    },
    {
      "cell_type": "code",
      "metadata": {
        "id": "OU1l5BL3EvO3"
      },
      "source": [
        "def check_score_center_truth(input_df: pd.DataFrame) -> pd.DataFrame:\n",
        "    output_df = input_df.copy()\n",
        "    print(\"< from center_truth >\")\n",
        "    \n",
        "    output_df['meter'] = input_df.apply(\n",
        "        lambda r: calc_haversine(\n",
        "            r.latDeg_center, r.lngDeg_center, r.t_latDeg, r.t_lngDeg\n",
        "        ),\n",
        "        axis=1\n",
        "    )\n",
        "\n",
        "    meter_score = output_df['meter'].mean()\n",
        "    print(f'error meter: {meter_score}')\n",
        "\n",
        "    scores = []\n",
        "    for phone in output_df['phone'].unique():\n",
        "        _index = output_df['phone']==phone\n",
        "        p_50 = np.percentile(output_df.loc[_index, 'meter'], 50)\n",
        "        p_95 = np.percentile(output_df.loc[_index, 'meter'], 95)\n",
        "        scores.append(p_50)\n",
        "        scores.append(p_95)\n",
        "\n",
        "    score = sum(scores) / len(scores)\n",
        "    print(f'score: {score}')\n",
        "    \n",
        "    return output_df"
      ],
      "execution_count": 15,
      "outputs": []
    },
    {
      "cell_type": "code",
      "metadata": {
        "colab": {
          "base_uri": "https://localhost:8080/"
        },
        "id": "liMhUbV6xg4d",
        "outputId": "baf867d9-582c-4ab7-9f24-cf4477eba8f6"
      },
      "source": [
        "for name, collection_df in train_df.groupby(\"collectionName\"):\n",
        "    phone_list = collection_df[\"phoneName\"].unique()\n",
        "    for phone in phone_list:\n",
        "        print(f\"collection:{name}    phone:{phone}\")\n",
        "        phone_df = collection_df[collection_df[\"phoneName\"] == phone]\n",
        "        from_truth = check_score(phone_df)\n",
        "        from_center = check_score_center_truth(phone_df)\n",
        "        print(\"----------------------------------------\")\n",
        "    print(\"----------------------------------------\")"
      ],
      "execution_count": 17,
      "outputs": [
        {
          "output_type": "stream",
          "text": [
            "collection:2021-04-22-US-SJC-1    phone:Pixel4\n",
            "< from truth >\n",
            "error meter: 13.052250286321655\n",
            "score: 24.65997800816365\n",
            "< from center_truth >\n",
            "error meter: 11.41882565090956\n",
            "score: 22.88627366383489\n",
            "----------------------------------------\n",
            "collection:2021-04-22-US-SJC-1    phone:SamsungS20Ultra\n",
            "< from truth >\n",
            "error meter: 10.708077810394476\n",
            "score: 17.768175752284254\n",
            "< from center_truth >\n",
            "error meter: 8.055758010359764\n",
            "score: 16.28326070553694\n",
            "----------------------------------------\n",
            "----------------------------------------\n",
            "collection:2021-04-28-US-SJC-1    phone:Pixel4\n",
            "< from truth >\n",
            "error meter: 8.566368686394854\n",
            "score: 14.370939744170363\n",
            "< from center_truth >\n",
            "error meter: 8.43721334912065\n",
            "score: 14.25823187855645\n",
            "----------------------------------------\n",
            "collection:2021-04-28-US-SJC-1    phone:SamsungS20Ultra\n",
            "< from truth >\n",
            "error meter: 9.22580980649068\n",
            "score: 20.170897642446484\n",
            "< from center_truth >\n",
            "error meter: 8.943343906612247\n",
            "score: 19.745149455178222\n",
            "----------------------------------------\n",
            "----------------------------------------\n",
            "collection:2021-04-29-US-SJC-2    phone:Pixel4\n",
            "< from truth >\n",
            "error meter: 10.815121991945263\n",
            "score: 20.182595805584533\n",
            "< from center_truth >\n",
            "error meter: 9.635811591203955\n",
            "score: 17.598173101955176\n",
            "----------------------------------------\n",
            "collection:2021-04-29-US-SJC-2    phone:SamsungS20Ultra\n",
            "< from truth >\n",
            "error meter: 9.644655019906125\n",
            "score: 19.44481473797448\n",
            "< from center_truth >\n",
            "error meter: 8.670906363358801\n",
            "score: 17.099991984044724\n",
            "----------------------------------------\n",
            "----------------------------------------\n"
          ],
          "name": "stdout"
        }
      ]
    },
    {
      "cell_type": "code",
      "metadata": {
        "colab": {
          "base_uri": "https://localhost:8080/",
          "height": 745
        },
        "id": "hnYy7Ri_00QK",
        "outputId": "8284b502-0cf2-49ef-a041-8519d0ec47cd"
      },
      "source": [
        "check_score(train_SJC)"
      ],
      "execution_count": null,
      "outputs": [
        {
          "output_type": "stream",
          "text": [
            "< from truth >\n",
            "error meter: 10.5084494053175\n",
            "score: 19.432900281770625\n"
          ],
          "name": "stdout"
        },
        {
          "output_type": "execute_result",
          "data": {
            "text/html": [
              "<div>\n",
              "<style scoped>\n",
              "    .dataframe tbody tr th:only-of-type {\n",
              "        vertical-align: middle;\n",
              "    }\n",
              "\n",
              "    .dataframe tbody tr th {\n",
              "        vertical-align: top;\n",
              "    }\n",
              "\n",
              "    .dataframe thead th {\n",
              "        text-align: right;\n",
              "    }\n",
              "</style>\n",
              "<table border=\"1\" class=\"dataframe\">\n",
              "  <thead>\n",
              "    <tr style=\"text-align: right;\">\n",
              "      <th></th>\n",
              "      <th>collectionName</th>\n",
              "      <th>phoneName</th>\n",
              "      <th>millisSinceGpsEpoch</th>\n",
              "      <th>latDeg</th>\n",
              "      <th>lngDeg</th>\n",
              "      <th>heightAboveWgs84EllipsoidM</th>\n",
              "      <th>phone</th>\n",
              "      <th>timeSinceFirstFixSeconds</th>\n",
              "      <th>hDop</th>\n",
              "      <th>vDop</th>\n",
              "      <th>speedMps</th>\n",
              "      <th>courseDegree</th>\n",
              "      <th>t_latDeg</th>\n",
              "      <th>t_lngDeg</th>\n",
              "      <th>t_heightAboveWgs84EllipsoidM</th>\n",
              "      <th>meter</th>\n",
              "    </tr>\n",
              "  </thead>\n",
              "  <tbody>\n",
              "    <tr>\n",
              "      <th>103937</th>\n",
              "      <td>2021-04-22-US-SJC-1</td>\n",
              "      <td>Pixel4</td>\n",
              "      <td>1303160575446</td>\n",
              "      <td>37.334582</td>\n",
              "      <td>-121.899408</td>\n",
              "      <td>-10.66</td>\n",
              "      <td>2021-04-22-US-SJC-1_Pixel4</td>\n",
              "      <td>325.45</td>\n",
              "      <td>1.8</td>\n",
              "      <td>0.0</td>\n",
              "      <td>0.0</td>\n",
              "      <td>330.5</td>\n",
              "      <td>37.334581</td>\n",
              "      <td>-121.899447</td>\n",
              "      <td>56.91</td>\n",
              "      <td>3.435414</td>\n",
              "    </tr>\n",
              "    <tr>\n",
              "      <th>103938</th>\n",
              "      <td>2021-04-22-US-SJC-1</td>\n",
              "      <td>Pixel4</td>\n",
              "      <td>1303160576446</td>\n",
              "      <td>37.334603</td>\n",
              "      <td>-121.899416</td>\n",
              "      <td>-6.76</td>\n",
              "      <td>2021-04-22-US-SJC-1_Pixel4</td>\n",
              "      <td>326.45</td>\n",
              "      <td>1.8</td>\n",
              "      <td>0.0</td>\n",
              "      <td>0.0</td>\n",
              "      <td>330.5</td>\n",
              "      <td>37.334581</td>\n",
              "      <td>-121.899447</td>\n",
              "      <td>56.91</td>\n",
              "      <td>3.639803</td>\n",
              "    </tr>\n",
              "    <tr>\n",
              "      <th>103939</th>\n",
              "      <td>2021-04-22-US-SJC-1</td>\n",
              "      <td>Pixel4</td>\n",
              "      <td>1303160577446</td>\n",
              "      <td>37.334579</td>\n",
              "      <td>-121.899418</td>\n",
              "      <td>-10.73</td>\n",
              "      <td>2021-04-22-US-SJC-1_Pixel4</td>\n",
              "      <td>327.45</td>\n",
              "      <td>1.8</td>\n",
              "      <td>0.0</td>\n",
              "      <td>0.0</td>\n",
              "      <td>330.5</td>\n",
              "      <td>37.334581</td>\n",
              "      <td>-121.899447</td>\n",
              "      <td>56.91</td>\n",
              "      <td>2.563412</td>\n",
              "    </tr>\n",
              "    <tr>\n",
              "      <th>103940</th>\n",
              "      <td>2021-04-22-US-SJC-1</td>\n",
              "      <td>Pixel4</td>\n",
              "      <td>1303160578446</td>\n",
              "      <td>37.334595</td>\n",
              "      <td>-121.899419</td>\n",
              "      <td>-6.35</td>\n",
              "      <td>2021-04-22-US-SJC-1_Pixel4</td>\n",
              "      <td>328.45</td>\n",
              "      <td>1.8</td>\n",
              "      <td>0.0</td>\n",
              "      <td>0.0</td>\n",
              "      <td>330.5</td>\n",
              "      <td>37.334581</td>\n",
              "      <td>-121.899447</td>\n",
              "      <td>56.91</td>\n",
              "      <td>2.903583</td>\n",
              "    </tr>\n",
              "    <tr>\n",
              "      <th>103941</th>\n",
              "      <td>2021-04-22-US-SJC-1</td>\n",
              "      <td>Pixel4</td>\n",
              "      <td>1303160579446</td>\n",
              "      <td>37.334590</td>\n",
              "      <td>-121.899406</td>\n",
              "      <td>-19.56</td>\n",
              "      <td>2021-04-22-US-SJC-1_Pixel4</td>\n",
              "      <td>329.45</td>\n",
              "      <td>1.8</td>\n",
              "      <td>0.0</td>\n",
              "      <td>0.0</td>\n",
              "      <td>330.5</td>\n",
              "      <td>37.334581</td>\n",
              "      <td>-121.899447</td>\n",
              "      <td>56.91</td>\n",
              "      <td>3.729471</td>\n",
              "    </tr>\n",
              "    <tr>\n",
              "      <th>...</th>\n",
              "      <td>...</td>\n",
              "      <td>...</td>\n",
              "      <td>...</td>\n",
              "      <td>...</td>\n",
              "      <td>...</td>\n",
              "      <td>...</td>\n",
              "      <td>...</td>\n",
              "      <td>...</td>\n",
              "      <td>...</td>\n",
              "      <td>...</td>\n",
              "      <td>...</td>\n",
              "      <td>...</td>\n",
              "      <td>...</td>\n",
              "      <td>...</td>\n",
              "      <td>...</td>\n",
              "      <td>...</td>\n",
              "    </tr>\n",
              "    <tr>\n",
              "      <th>131337</th>\n",
              "      <td>2021-04-29-US-SJC-2</td>\n",
              "      <td>SamsungS20Ultra</td>\n",
              "      <td>1303760315000</td>\n",
              "      <td>37.334460</td>\n",
              "      <td>-121.899600</td>\n",
              "      <td>-8.09</td>\n",
              "      <td>2021-04-29-US-SJC-2_SamsungS20Ultra</td>\n",
              "      <td>2632.00</td>\n",
              "      <td>1.1</td>\n",
              "      <td>0.0</td>\n",
              "      <td>0.0</td>\n",
              "      <td>60.0</td>\n",
              "      <td>37.334475</td>\n",
              "      <td>-121.899613</td>\n",
              "      <td>56.62</td>\n",
              "      <td>2.052491</td>\n",
              "    </tr>\n",
              "    <tr>\n",
              "      <th>131338</th>\n",
              "      <td>2021-04-29-US-SJC-2</td>\n",
              "      <td>SamsungS20Ultra</td>\n",
              "      <td>1303760316000</td>\n",
              "      <td>37.334472</td>\n",
              "      <td>-121.899583</td>\n",
              "      <td>-7.59</td>\n",
              "      <td>2021-04-29-US-SJC-2_SamsungS20Ultra</td>\n",
              "      <td>2633.00</td>\n",
              "      <td>1.1</td>\n",
              "      <td>0.0</td>\n",
              "      <td>0.0</td>\n",
              "      <td>60.0</td>\n",
              "      <td>37.334475</td>\n",
              "      <td>-121.899613</td>\n",
              "      <td>56.62</td>\n",
              "      <td>2.671673</td>\n",
              "    </tr>\n",
              "    <tr>\n",
              "      <th>131339</th>\n",
              "      <td>2021-04-29-US-SJC-2</td>\n",
              "      <td>SamsungS20Ultra</td>\n",
              "      <td>1303760317000</td>\n",
              "      <td>37.334491</td>\n",
              "      <td>-121.899597</td>\n",
              "      <td>-8.35</td>\n",
              "      <td>2021-04-29-US-SJC-2_SamsungS20Ultra</td>\n",
              "      <td>2634.00</td>\n",
              "      <td>0.9</td>\n",
              "      <td>0.0</td>\n",
              "      <td>0.0</td>\n",
              "      <td>60.0</td>\n",
              "      <td>37.334475</td>\n",
              "      <td>-121.899613</td>\n",
              "      <td>56.62</td>\n",
              "      <td>2.287458</td>\n",
              "    </tr>\n",
              "    <tr>\n",
              "      <th>131340</th>\n",
              "      <td>2021-04-29-US-SJC-2</td>\n",
              "      <td>SamsungS20Ultra</td>\n",
              "      <td>1303760318000</td>\n",
              "      <td>37.334495</td>\n",
              "      <td>-121.899583</td>\n",
              "      <td>-8.73</td>\n",
              "      <td>2021-04-29-US-SJC-2_SamsungS20Ultra</td>\n",
              "      <td>2635.00</td>\n",
              "      <td>1.0</td>\n",
              "      <td>0.0</td>\n",
              "      <td>0.0</td>\n",
              "      <td>60.0</td>\n",
              "      <td>37.334475</td>\n",
              "      <td>-121.899613</td>\n",
              "      <td>56.63</td>\n",
              "      <td>3.454306</td>\n",
              "    </tr>\n",
              "    <tr>\n",
              "      <th>131341</th>\n",
              "      <td>2021-04-29-US-SJC-2</td>\n",
              "      <td>SamsungS20Ultra</td>\n",
              "      <td>1303760319000</td>\n",
              "      <td>37.334485</td>\n",
              "      <td>-121.899570</td>\n",
              "      <td>-7.64</td>\n",
              "      <td>2021-04-29-US-SJC-2_SamsungS20Ultra</td>\n",
              "      <td>2636.00</td>\n",
              "      <td>1.1</td>\n",
              "      <td>0.0</td>\n",
              "      <td>0.0</td>\n",
              "      <td>60.0</td>\n",
              "      <td>37.334475</td>\n",
              "      <td>-121.899613</td>\n",
              "      <td>56.64</td>\n",
              "      <td>3.965023</td>\n",
              "    </tr>\n",
              "  </tbody>\n",
              "</table>\n",
              "<p>14513 rows × 16 columns</p>\n",
              "</div>"
            ],
            "text/plain": [
              "             collectionName  ...     meter\n",
              "103937  2021-04-22-US-SJC-1  ...  3.435414\n",
              "103938  2021-04-22-US-SJC-1  ...  3.639803\n",
              "103939  2021-04-22-US-SJC-1  ...  2.563412\n",
              "103940  2021-04-22-US-SJC-1  ...  2.903583\n",
              "103941  2021-04-22-US-SJC-1  ...  3.729471\n",
              "...                     ...  ...       ...\n",
              "131337  2021-04-29-US-SJC-2  ...  2.052491\n",
              "131338  2021-04-29-US-SJC-2  ...  2.671673\n",
              "131339  2021-04-29-US-SJC-2  ...  2.287458\n",
              "131340  2021-04-29-US-SJC-2  ...  3.454306\n",
              "131341  2021-04-29-US-SJC-2  ...  3.965023\n",
              "\n",
              "[14513 rows x 16 columns]"
            ]
          },
          "metadata": {
            "tags": []
          },
          "execution_count": 50
        }
      ]
    },
    {
      "cell_type": "code",
      "metadata": {
        "id": "OUsBO59BNKHj"
      },
      "source": [
        "def Move_closer_train(input_df):\n",
        "    input_df_ = input_df.copy()\n",
        "    output_df = input_df.copy()\n",
        "    collection_list = input_df_[\"collectionName\"].unique()\n",
        "\n",
        "    nearest_point_dfs_list = []\n",
        "    c = 1\n",
        "    for collection in collection_list:\n",
        "        print(f\"now : {c}/{len(collection_list)}\")\n",
        "        c += 1\n",
        "        print(collection)\n",
        "        target_df = input_df_[input_df_[\"collectionName\"] == collection].reset_index(drop=True)\n",
        "        target_df[\"geometry\"] = [Point(p) for p in target_df[[\"lngDeg\", \"latDeg\"]].to_numpy()]\n",
        "        target_gdf = gpd.GeoDataFrame(target_df, geometry=target_df[\"geometry\"])\n",
        "\n",
        "        offset = 0.1**5\n",
        "        bbox = target_gdf.bounds + [-(offset+0.01), -(offset+0.01), offset+0.01, offset+0.01]\n",
        "        east = bbox[\"minx\"].min()\n",
        "        west = bbox[\"maxx\"].max()\n",
        "        south = bbox[\"miny\"].min()\n",
        "        north = bbox[\"maxy\"].max()\n",
        "        G = ox.graph.graph_from_bbox(north, south, east, west, network_type='drive')\n",
        "\n",
        "        nodes, edges = momepy.nx_to_gdf(G)\n",
        "        \n",
        "        edges = edges.dropna(subset=[\"geometry\"]).reset_index(drop=True)\n",
        "        hits = bbox.apply(lambda row: list(edges.sindex.intersection(row)), axis=1)\n",
        "        tmp = pd.DataFrame({\n",
        "            \"pt_idx\": np.repeat(hits.index, hits.apply(len)),\n",
        "            \"line_i\": np.concatenate(hits.values)\n",
        "        })\n",
        "        tmp = tmp.join(edges.reset_index(drop=True), on=\"line_i\")\n",
        "        tmp = tmp.join(target_gdf.geometry.rename(\"point\"), on=\"pt_idx\")\n",
        "        tmp = gpd.GeoDataFrame(tmp, geometry=\"geometry\", crs=target_gdf.crs)\n",
        "\n",
        "        tmp[\"snap_dist\"] = tmp.geometry.distance(gpd.GeoSeries(tmp.point))\n",
        "\n",
        "        tolerance = 0.0005  \n",
        "        tmp = tmp.loc[tmp.snap_dist <= tolerance]\n",
        "        tmp = tmp.sort_values(by=[\"snap_dist\"])\n",
        "\n",
        "        closest = tmp.groupby(\"pt_idx\").first()\n",
        "        closest = gpd.GeoDataFrame(closest, geometry=\"geometry\")\n",
        "        closest = closest.drop_duplicates(\"line_i\").reset_index(drop=True)\n",
        "\n",
        "        line_points_list = []\n",
        "        split = 200  # param: number of split in each LineString\n",
        "        for dist in range(0, split, 1):\n",
        "            dist = dist/split\n",
        "            line_points = closest[\"geometry\"].interpolate(dist, normalized=True)\n",
        "            line_points_list.append(line_points)\n",
        "        line_points = pd.concat(line_points_list).reset_index(drop=True)\n",
        "        line_points = line_points.reset_index().rename(columns={0:\"geometry\"})\n",
        "        line_points[\"lngDeg\"] = line_points[\"geometry\"].x\n",
        "        line_points[\"latDeg\"] = line_points[\"geometry\"].y\n",
        "\n",
        "        def nearest_point(x, y, points):\n",
        "            result = {}\n",
        "            if len(points) == 0:\n",
        "                return result\n",
        "            result[0] = points[0][0]\n",
        "            result[1] = points[0][1]\n",
        "            stdval = math.sqrt((points[0][0] - x) ** 2 + (points[0][1] - y) ** 2)\n",
        "            for point in points:\n",
        "                distance = math.sqrt((point[0] - x) ** 2 + (point[1] - y) ** 2)\n",
        "                if stdval > distance:\n",
        "                    result[0] = point[0]\n",
        "                    result[1] = point[1]\n",
        "                    stdval = distance\n",
        "            return [result[0], result[1]]\n",
        "\n",
        "        \n",
        "        line_points_ = line_points.loc[:, [\"lngDeg\", \"latDeg\"]]\n",
        "        line_points_list = line_points_.values.tolist()\n",
        "\n",
        "        nearest_point_list = []\n",
        "        for lng, lat in zip(\n",
        "            target_df[\"lngDeg\"].to_numpy(),\n",
        "            target_df[\"latDeg\"].to_numpy()\n",
        "        ):\n",
        "            nearest_point_list.append(nearest_point(lng, lat, line_points_list))\n",
        "        \n",
        "        print(len(nearest_point_list))\n",
        "        print(input_df_[input_df_[\"collectionName\"] == collection].shape)\n",
        "\n",
        "        nearest_point_dfs_list.append(pd.DataFrame(nearest_point_list))\n",
        "\n",
        "    nearest_point_df = pd.concat(nearest_point_dfs_list)\n",
        "    input_df_[\"latDeg_center\"] = nearest_point_df[1].values\n",
        "    input_df_[\"lngDeg_center\"] = nearest_point_df[0].values\n",
        "\n",
        "    input_df_['meter'] = input_df_.apply(\n",
        "            lambda r: calc_haversine(\n",
        "                r.latDeg, r.lngDeg, r.latDeg_center, r.lngDeg_center\n",
        "            ),\n",
        "            axis=1\n",
        "        )\n",
        "    \n",
        "    def check_meter(input_df):\n",
        "        input_df_ = input_df.copy()\n",
        "        lat_list = []\n",
        "        lon_list = []\n",
        "        for lat1, lon1, lat2, lon2, meter in zip(\n",
        "            input_df_[\"latDeg\"].to_numpy(),\n",
        "            input_df_[\"lngDeg\"].to_numpy(),\n",
        "            input_df_[\"latDeg_center\"].to_numpy(),\n",
        "            input_df_[\"lngDeg_center\"].to_numpy(),\n",
        "            input_df_[\"meter\"].to_numpy()\n",
        "        ):\n",
        "            if meter >= 6:\n",
        "                lat1 = (lat1 + lat2)/2\n",
        "                lon1 = (lon1 + lon2)/2\n",
        "            elif meter >= 4:\n",
        "                lat1 = ((lat1 + lat2)/2 + lat2)/2\n",
        "                lon1 = ((lon1 + lon2)/2 + lon2)/2\n",
        "            elif meter >= 2:\n",
        "                lat1 = (((lat1 + lat2)/2 + lat2)/2 + lat2)/2\n",
        "                lon1 = (((lon1 + lon2)/2 + lon2)/2 + lon2)/2\n",
        "            lat_list.append(lat1)\n",
        "            lon_list.append(lon1)\n",
        "\n",
        "        output_df = pd.DataFrame()\n",
        "        output_df[\"latDeg_fixed\"] = lat_list\n",
        "        output_df[\"lngDeg_fixed\"] = lon_list\n",
        "        return output_df\n",
        "\n",
        "    check_meter_df = check_meter(input_df_)\n",
        "\n",
        "\n",
        "    output_df[\"latDeg\"] = check_meter_df[\"latDeg_fixed\"].values\n",
        "    output_df[\"lngDeg\"] = check_meter_df[\"lngDeg_fixed\"].values\n",
        "    #output_df[\"t_latDeg\"] = gt_df[\"latDeg\"]\n",
        "    #output_df[\"t_lngDeg\"] = gt_df[\"lngDeg\"]\n",
        "\n",
        "    return output_df"
      ],
      "execution_count": 73,
      "outputs": []
    },
    {
      "cell_type": "code",
      "metadata": {
        "colab": {
          "base_uri": "https://localhost:8080/"
        },
        "id": "Iqmts8DJNKXs",
        "outputId": "b279a2a7-3866-4947-9726-47c8a72a1109"
      },
      "source": [
        "train_SJC_move_closer = Move_closer_train(train_SJC)"
      ],
      "execution_count": 55,
      "outputs": [
        {
          "output_type": "stream",
          "text": [
            "now : 1/3\n",
            "2021-04-22-US-SJC-1\n"
          ],
          "name": "stdout"
        },
        {
          "output_type": "stream",
          "text": [
            "/usr/local/lib/python3.7/dist-packages/momepy/utils.py:418: UserWarning:\n",
            "\n",
            "Approach is not set. Defaulting to 'primal'.\n",
            "\n",
            "/usr/local/lib/python3.7/dist-packages/ipykernel_launcher.py:36: UserWarning:\n",
            "\n",
            "Geometry is in a geographic CRS. Results from 'distance' are likely incorrect. Use 'GeoSeries.to_crs()' to re-project geometries to a projected CRS before this operation.\n",
            "\n",
            "\n",
            "/usr/local/lib/python3.7/dist-packages/ipykernel_launcher.py:36: UserWarning:\n",
            "\n",
            "CRS mismatch between the CRS of left geometries and the CRS of right geometries.\n",
            "Use `to_crs()` to reproject one of the input geometries to match the CRS of the other.\n",
            "\n",
            "Left CRS: EPSG:4326\n",
            "Right CRS: None\n",
            "\n",
            "\n"
          ],
          "name": "stderr"
        },
        {
          "output_type": "stream",
          "text": [
            "5716\n",
            "(5716, 15)\n",
            "now : 2/3\n",
            "2021-04-28-US-SJC-1\n"
          ],
          "name": "stdout"
        },
        {
          "output_type": "stream",
          "text": [
            "/usr/local/lib/python3.7/dist-packages/momepy/utils.py:418: UserWarning:\n",
            "\n",
            "Approach is not set. Defaulting to 'primal'.\n",
            "\n",
            "/usr/local/lib/python3.7/dist-packages/ipykernel_launcher.py:36: UserWarning:\n",
            "\n",
            "Geometry is in a geographic CRS. Results from 'distance' are likely incorrect. Use 'GeoSeries.to_crs()' to re-project geometries to a projected CRS before this operation.\n",
            "\n",
            "\n",
            "/usr/local/lib/python3.7/dist-packages/ipykernel_launcher.py:36: UserWarning:\n",
            "\n",
            "CRS mismatch between the CRS of left geometries and the CRS of right geometries.\n",
            "Use `to_crs()` to reproject one of the input geometries to match the CRS of the other.\n",
            "\n",
            "Left CRS: EPSG:4326\n",
            "Right CRS: None\n",
            "\n",
            "\n"
          ],
          "name": "stderr"
        },
        {
          "output_type": "stream",
          "text": [
            "4097\n",
            "(4097, 15)\n",
            "now : 3/3\n",
            "2021-04-29-US-SJC-2\n"
          ],
          "name": "stdout"
        },
        {
          "output_type": "stream",
          "text": [
            "/usr/local/lib/python3.7/dist-packages/momepy/utils.py:418: UserWarning:\n",
            "\n",
            "Approach is not set. Defaulting to 'primal'.\n",
            "\n",
            "/usr/local/lib/python3.7/dist-packages/ipykernel_launcher.py:36: UserWarning:\n",
            "\n",
            "Geometry is in a geographic CRS. Results from 'distance' are likely incorrect. Use 'GeoSeries.to_crs()' to re-project geometries to a projected CRS before this operation.\n",
            "\n",
            "\n",
            "/usr/local/lib/python3.7/dist-packages/ipykernel_launcher.py:36: UserWarning:\n",
            "\n",
            "CRS mismatch between the CRS of left geometries and the CRS of right geometries.\n",
            "Use `to_crs()` to reproject one of the input geometries to match the CRS of the other.\n",
            "\n",
            "Left CRS: EPSG:4326\n",
            "Right CRS: None\n",
            "\n",
            "\n"
          ],
          "name": "stderr"
        },
        {
          "output_type": "stream",
          "text": [
            "4700\n",
            "(4700, 15)\n"
          ],
          "name": "stdout"
        }
      ]
    },
    {
      "cell_type": "code",
      "metadata": {
        "colab": {
          "base_uri": "https://localhost:8080/"
        },
        "id": "_9WGBhUQU98f",
        "outputId": "4094626a-ed9e-44bb-8c1a-d738e8ace934"
      },
      "source": [
        "train_SJC_move_closer = Move_closer_train(train_SJC_move_closer)"
      ],
      "execution_count": 56,
      "outputs": [
        {
          "output_type": "stream",
          "text": [
            "now : 1/3\n",
            "2021-04-22-US-SJC-1\n"
          ],
          "name": "stdout"
        },
        {
          "output_type": "stream",
          "text": [
            "/usr/local/lib/python3.7/dist-packages/momepy/utils.py:418: UserWarning:\n",
            "\n",
            "Approach is not set. Defaulting to 'primal'.\n",
            "\n",
            "/usr/local/lib/python3.7/dist-packages/ipykernel_launcher.py:36: UserWarning:\n",
            "\n",
            "Geometry is in a geographic CRS. Results from 'distance' are likely incorrect. Use 'GeoSeries.to_crs()' to re-project geometries to a projected CRS before this operation.\n",
            "\n",
            "\n",
            "/usr/local/lib/python3.7/dist-packages/ipykernel_launcher.py:36: UserWarning:\n",
            "\n",
            "CRS mismatch between the CRS of left geometries and the CRS of right geometries.\n",
            "Use `to_crs()` to reproject one of the input geometries to match the CRS of the other.\n",
            "\n",
            "Left CRS: EPSG:4326\n",
            "Right CRS: None\n",
            "\n",
            "\n"
          ],
          "name": "stderr"
        },
        {
          "output_type": "stream",
          "text": [
            "5716\n",
            "(5716, 15)\n",
            "now : 2/3\n",
            "2021-04-28-US-SJC-1\n"
          ],
          "name": "stdout"
        },
        {
          "output_type": "stream",
          "text": [
            "/usr/local/lib/python3.7/dist-packages/momepy/utils.py:418: UserWarning:\n",
            "\n",
            "Approach is not set. Defaulting to 'primal'.\n",
            "\n",
            "/usr/local/lib/python3.7/dist-packages/ipykernel_launcher.py:36: UserWarning:\n",
            "\n",
            "Geometry is in a geographic CRS. Results from 'distance' are likely incorrect. Use 'GeoSeries.to_crs()' to re-project geometries to a projected CRS before this operation.\n",
            "\n",
            "\n",
            "/usr/local/lib/python3.7/dist-packages/ipykernel_launcher.py:36: UserWarning:\n",
            "\n",
            "CRS mismatch between the CRS of left geometries and the CRS of right geometries.\n",
            "Use `to_crs()` to reproject one of the input geometries to match the CRS of the other.\n",
            "\n",
            "Left CRS: EPSG:4326\n",
            "Right CRS: None\n",
            "\n",
            "\n"
          ],
          "name": "stderr"
        },
        {
          "output_type": "stream",
          "text": [
            "4097\n",
            "(4097, 15)\n",
            "now : 3/3\n",
            "2021-04-29-US-SJC-2\n"
          ],
          "name": "stdout"
        },
        {
          "output_type": "stream",
          "text": [
            "/usr/local/lib/python3.7/dist-packages/momepy/utils.py:418: UserWarning:\n",
            "\n",
            "Approach is not set. Defaulting to 'primal'.\n",
            "\n",
            "/usr/local/lib/python3.7/dist-packages/ipykernel_launcher.py:36: UserWarning:\n",
            "\n",
            "Geometry is in a geographic CRS. Results from 'distance' are likely incorrect. Use 'GeoSeries.to_crs()' to re-project geometries to a projected CRS before this operation.\n",
            "\n",
            "\n",
            "/usr/local/lib/python3.7/dist-packages/ipykernel_launcher.py:36: UserWarning:\n",
            "\n",
            "CRS mismatch between the CRS of left geometries and the CRS of right geometries.\n",
            "Use `to_crs()` to reproject one of the input geometries to match the CRS of the other.\n",
            "\n",
            "Left CRS: EPSG:4326\n",
            "Right CRS: None\n",
            "\n",
            "\n"
          ],
          "name": "stderr"
        },
        {
          "output_type": "stream",
          "text": [
            "4700\n",
            "(4700, 15)\n"
          ],
          "name": "stdout"
        }
      ]
    },
    {
      "cell_type": "code",
      "metadata": {
        "colab": {
          "base_uri": "https://localhost:8080/"
        },
        "id": "B5wZeB9UBFrT",
        "outputId": "953c5012-b628-430c-ed51-e46e59bfa49d"
      },
      "source": [
        "for name, collection_df in train_df.groupby(\"collectionName\"):\n",
        "    phone_list = collection_df[\"phoneName\"].unique()\n",
        "    for phone in phone_list:\n",
        "        print(f\"collection:{name}    phone:{phone}\")\n",
        "        phone_df = collection_df[collection_df[\"phoneName\"] == phone]\n",
        "        from_truth = check_score(phone_df)\n",
        "        #from_center = check_score_center_truth(phone_df)\n",
        "        print(\"----------------------------------------\")\n",
        "    print(\"----------------------------------------\")"
      ],
      "execution_count": 23,
      "outputs": [
        {
          "output_type": "stream",
          "text": [
            "collection:2021-04-22-US-SJC-1    phone:Pixel4\n",
            "< from truth >\n",
            "error meter: 13.052250286321655\n",
            "score: 24.65997800816365\n",
            "----------------------------------------\n",
            "collection:2021-04-22-US-SJC-1    phone:SamsungS20Ultra\n",
            "< from truth >\n",
            "error meter: 10.708077810394476\n",
            "score: 17.768175752284254\n",
            "----------------------------------------\n",
            "----------------------------------------\n",
            "collection:2021-04-28-US-SJC-1    phone:Pixel4\n",
            "< from truth >\n",
            "error meter: 8.566368686394854\n",
            "score: 14.370939744170363\n",
            "----------------------------------------\n",
            "collection:2021-04-28-US-SJC-1    phone:SamsungS20Ultra\n",
            "< from truth >\n",
            "error meter: 9.22580980649068\n",
            "score: 20.170897642446484\n",
            "----------------------------------------\n",
            "----------------------------------------\n",
            "collection:2021-04-29-US-SJC-2    phone:Pixel4\n",
            "< from truth >\n",
            "error meter: 10.815121991945263\n",
            "score: 20.182595805584533\n",
            "----------------------------------------\n",
            "collection:2021-04-29-US-SJC-2    phone:SamsungS20Ultra\n",
            "< from truth >\n",
            "error meter: 9.644655019906125\n",
            "score: 19.44481473797448\n",
            "----------------------------------------\n",
            "----------------------------------------\n"
          ],
          "name": "stdout"
        }
      ]
    },
    {
      "cell_type": "code",
      "metadata": {
        "colab": {
          "base_uri": "https://localhost:8080/"
        },
        "id": "1dTUUBITVCDl",
        "outputId": "d9ea2f3e-0168-4463-8fe8-ed532ec4e155"
      },
      "source": [
        "#2回\n",
        "for name, collection_df in train_SJC_move_closer.groupby(\"collectionName\"):\n",
        "    phone_list = collection_df[\"phoneName\"].unique()\n",
        "    for phone in phone_list:\n",
        "        print(f\"collection:{name}    phone:{phone}\")\n",
        "        phone_df = collection_df[collection_df[\"phoneName\"] == phone]\n",
        "        from_truth = check_score(phone_df)\n",
        "        #from_center = check_score_center_truth(phone_df)\n",
        "        print(\"----------------------------------------\")\n",
        "    print(\"----------------------------------------\")"
      ],
      "execution_count": 57,
      "outputs": [
        {
          "output_type": "stream",
          "text": [
            "collection:2021-04-22-US-SJC-1    phone:Pixel4\n",
            "< from truth >\n",
            "error meter: 11.422274911616517\n",
            "score: 22.75281006407258\n",
            "----------------------------------------\n",
            "collection:2021-04-22-US-SJC-1    phone:SamsungS20Ultra\n",
            "< from truth >\n",
            "error meter: 7.98488925098054\n",
            "score: 15.656478004663214\n",
            "----------------------------------------\n",
            "----------------------------------------\n",
            "collection:2021-04-28-US-SJC-1    phone:Pixel4\n",
            "< from truth >\n",
            "error meter: 8.145265612469641\n",
            "score: 13.896069020092867\n",
            "----------------------------------------\n",
            "collection:2021-04-28-US-SJC-1    phone:SamsungS20Ultra\n",
            "< from truth >\n",
            "error meter: 8.541571244157248\n",
            "score: 19.078263641501906\n",
            "----------------------------------------\n",
            "----------------------------------------\n",
            "collection:2021-04-29-US-SJC-2    phone:Pixel4\n",
            "< from truth >\n",
            "error meter: 9.42890391464834\n",
            "score: 17.41542909672096\n",
            "----------------------------------------\n",
            "collection:2021-04-29-US-SJC-2    phone:SamsungS20Ultra\n",
            "< from truth >\n",
            "error meter: 8.320054162056756\n",
            "score: 17.19381722387444\n",
            "----------------------------------------\n",
            "----------------------------------------\n"
          ],
          "name": "stdout"
        }
      ]
    },
    {
      "cell_type": "code",
      "metadata": {
        "colab": {
          "base_uri": "https://localhost:8080/"
        },
        "id": "IC9r4VCxEDjh",
        "outputId": "576b49ee-e805-4b51-8b1b-24cf9908d108"
      },
      "source": [
        "\"\"\"\n",
        "if meter >= 6:\n",
        "                lat1 = (lat1 + lat2)/2\n",
        "                lon1 = (lon1 + lon2)/2\n",
        "            elif meter >= 4:\n",
        "                lat1 = ((lat1 + lat2)/2 + lat2)/2\n",
        "                lon1 = ((lon1 + lon2)/2 + lon2)/2\n",
        "            elif meter >= 2:\n",
        "                lat1 = (((lat1 + lat2)/2 + lat2)/2 + lat2)/2\n",
        "                lon1 = (((lon1 + lon2)/2 + lon2)/2 + lon2)/2\n",
        "\"\"\"\n",
        "for name, collection_df in train_SJC_move_closer.groupby(\"collectionName\"):\n",
        "    phone_list = collection_df[\"phoneName\"].unique()\n",
        "    for phone in phone_list:\n",
        "        print(f\"collection:{name}    phone:{phone}\")\n",
        "        phone_df = collection_df[collection_df[\"phoneName\"] == phone]\n",
        "        from_truth = check_score(phone_df)\n",
        "        #from_center = check_score_center_truth(phone_df)\n",
        "        print(\"----------------------------------------\")\n",
        "    print(\"----------------------------------------\")"
      ],
      "execution_count": 29,
      "outputs": [
        {
          "output_type": "stream",
          "text": [
            "collection:2021-04-22-US-SJC-1    phone:Pixel4\n",
            "< from truth >\n",
            "error meter: 11.751266041583039\n",
            "score: 23.40716537634238\n",
            "----------------------------------------\n",
            "collection:2021-04-22-US-SJC-1    phone:SamsungS20Ultra\n",
            "< from truth >\n",
            "error meter: 8.519576677909296\n",
            "score: 15.393131541809145\n",
            "----------------------------------------\n",
            "----------------------------------------\n",
            "collection:2021-04-28-US-SJC-1    phone:Pixel4\n",
            "< from truth >\n",
            "error meter: 8.143414434075037\n",
            "score: 13.297035040896867\n",
            "----------------------------------------\n",
            "collection:2021-04-28-US-SJC-1    phone:SamsungS20Ultra\n",
            "< from truth >\n",
            "error meter: 8.416046508088712\n",
            "score: 18.6001240970395\n",
            "----------------------------------------\n",
            "----------------------------------------\n",
            "collection:2021-04-29-US-SJC-2    phone:Pixel4\n",
            "< from truth >\n",
            "error meter: 9.646099615873615\n",
            "score: 17.400944139627118\n",
            "----------------------------------------\n",
            "collection:2021-04-29-US-SJC-2    phone:SamsungS20Ultra\n",
            "< from truth >\n",
            "error meter: 8.235593737261864\n",
            "score: 17.98014827075422\n",
            "----------------------------------------\n",
            "----------------------------------------\n"
          ],
          "name": "stdout"
        }
      ]
    },
    {
      "cell_type": "code",
      "metadata": {
        "id": "YOyrmhNuNxAf"
      },
      "source": [
        "def Move_closer(input_df):\n",
        "    input_df_ = input_df.copy()\n",
        "    output_df = input_df.copy()\n",
        "    collection_list = input_df_[\"collectionName\"].unique()\n",
        "\n",
        "    nearest_point_dfs_list = []\n",
        "    c = 1\n",
        "    for collection in collection_list:\n",
        "        print(f\"now : {c}/{len(collection_list)}\")\n",
        "        c += 1\n",
        "        print(collection)\n",
        "        target_df = input_df_[input_df_[\"collectionName\"] == collection].reset_index(drop=True)\n",
        "        target_df[\"geometry\"] = [Point(p) for p in target_df[[\"lngDeg\", \"latDeg\"]].to_numpy()]\n",
        "        target_gdf = gpd.GeoDataFrame(target_df, geometry=target_df[\"geometry\"])\n",
        "\n",
        "        offset = 0.1**5\n",
        "        bbox = target_gdf.bounds + [-(offset+0.01), -(offset+0.01), offset+0.01, offset+0.01]\n",
        "        east = bbox[\"minx\"].min()\n",
        "        west = bbox[\"maxx\"].max()\n",
        "        south = bbox[\"miny\"].min()\n",
        "        north = bbox[\"maxy\"].max()\n",
        "        G = ox.graph.graph_from_bbox(north, south, east, west, network_type='drive')\n",
        "\n",
        "        nodes, edges = momepy.nx_to_gdf(G)\n",
        "        \n",
        "        edges = edges.dropna(subset=[\"geometry\"]).reset_index(drop=True)\n",
        "        hits = bbox.apply(lambda row: list(edges.sindex.intersection(row)), axis=1)\n",
        "        tmp = pd.DataFrame({\n",
        "            \"pt_idx\": np.repeat(hits.index, hits.apply(len)),\n",
        "            \"line_i\": np.concatenate(hits.values)\n",
        "        })\n",
        "        tmp = tmp.join(edges.reset_index(drop=True), on=\"line_i\")\n",
        "        tmp = tmp.join(target_gdf.geometry.rename(\"point\"), on=\"pt_idx\")\n",
        "        tmp = gpd.GeoDataFrame(tmp, geometry=\"geometry\", crs=target_gdf.crs)\n",
        "\n",
        "        tmp[\"snap_dist\"] = tmp.geometry.distance(gpd.GeoSeries(tmp.point))\n",
        "\n",
        "        tolerance = 0.0005  \n",
        "        tmp = tmp.loc[tmp.snap_dist <= tolerance]\n",
        "        tmp = tmp.sort_values(by=[\"snap_dist\"])\n",
        "\n",
        "        closest = tmp.groupby(\"pt_idx\").first()\n",
        "        closest = gpd.GeoDataFrame(closest, geometry=\"geometry\")\n",
        "        closest = closest.drop_duplicates(\"line_i\").reset_index(drop=True)\n",
        "\n",
        "        line_points_list = []\n",
        "        split = 200  # param: number of split in each LineString\n",
        "        for dist in range(0, split, 1):\n",
        "            dist = dist/split\n",
        "            line_points = closest[\"geometry\"].interpolate(dist, normalized=True)\n",
        "            line_points_list.append(line_points)\n",
        "        line_points = pd.concat(line_points_list).reset_index(drop=True)\n",
        "        line_points = line_points.reset_index().rename(columns={0:\"geometry\"})\n",
        "        line_points[\"lngDeg\"] = line_points[\"geometry\"].x\n",
        "        line_points[\"latDeg\"] = line_points[\"geometry\"].y\n",
        "\n",
        "        def nearest_point(x, y, points):\n",
        "            result = {}\n",
        "            if len(points) == 0:\n",
        "                return result\n",
        "            result[0] = points[0][0]\n",
        "            result[1] = points[0][1]\n",
        "            stdval = math.sqrt((points[0][0] - x) ** 2 + (points[0][1] - y) ** 2)\n",
        "            for point in points:\n",
        "                distance = math.sqrt((point[0] - x) ** 2 + (point[1] - y) ** 2)\n",
        "                if stdval > distance:\n",
        "                    result[0] = point[0]\n",
        "                    result[1] = point[1]\n",
        "                    stdval = distance\n",
        "            return [result[0], result[1]]\n",
        "\n",
        "        \n",
        "        line_points_ = line_points.loc[:, [\"lngDeg\", \"latDeg\"]]\n",
        "        line_points_list = line_points_.values.tolist()\n",
        "\n",
        "        nearest_point_list = []\n",
        "        for lng, lat in zip(\n",
        "            target_df[\"lngDeg\"].to_numpy(),\n",
        "            target_df[\"latDeg\"].to_numpy()\n",
        "        ):\n",
        "            nearest_point_list.append(nearest_point(lng, lat, line_points_list))\n",
        "        \n",
        "        print(len(nearest_point_list))\n",
        "        print(input_df_[input_df_[\"collectionName\"] == collection].shape)\n",
        "\n",
        "        nearest_point_dfs_list.append(pd.DataFrame(nearest_point_list))\n",
        "\n",
        "    nearest_point_df = pd.concat(nearest_point_dfs_list)\n",
        "    input_df_[\"latDeg_center\"] = nearest_point_df[1].values\n",
        "    input_df_[\"lngDeg_center\"] = nearest_point_df[0].values\n",
        "\n",
        "    input_df_['meter'] = input_df_.apply(\n",
        "            lambda r: calc_haversine(\n",
        "                r.latDeg, r.lngDeg, r.latDeg_center, r.lngDeg_center\n",
        "            ),\n",
        "            axis=1\n",
        "        )\n",
        "    \n",
        "    def check_meter(input_df):\n",
        "        input_df_ = input_df.copy()\n",
        "        lat_list = []\n",
        "        lon_list = []\n",
        "        for lat1, lon1, lat2, lon2, meter in zip(\n",
        "            input_df_[\"latDeg\"].to_numpy(),\n",
        "            input_df_[\"lngDeg\"].to_numpy(),\n",
        "            input_df_[\"latDeg_center\"].to_numpy(),\n",
        "            input_df_[\"lngDeg_center\"].to_numpy(),\n",
        "            input_df_[\"meter\"].to_numpy()\n",
        "        ):\n",
        "            if meter >= 6:\n",
        "                lat1 = (lat1 + lat2)/2\n",
        "                lon1 = (lon1 + lon2)/2\n",
        "            elif meter >= 4:\n",
        "                lat1 = ((lat1 + lat2)/2 + lat2)/2\n",
        "                lon1 = ((lon1 + lon2)/2 + lon2)/2\n",
        "            elif meter >= 2:\n",
        "                lat1 = (((lat1 + lat2)/2 + lat2)/2 + lat2)/2\n",
        "                lon1 = (((lon1 + lon2)/2 + lon2)/2 + lon2)/2\n",
        "            lat_list.append(lat1)\n",
        "            lon_list.append(lon1)\n",
        "\n",
        "        output_df = pd.DataFrame()\n",
        "        output_df[\"latDeg_fixed\"] = lat_list\n",
        "        output_df[\"lngDeg_fixed\"] = lon_list\n",
        "        return output_df\n",
        "\n",
        "    check_meter_df = check_meter(input_df_)\n",
        "\n",
        "\n",
        "    output_df[\"latDeg\"] = check_meter_df[\"latDeg_fixed\"].values\n",
        "    output_df[\"lngDeg\"] = check_meter_df[\"lngDeg_fixed\"].values\n",
        "    \n",
        "\n",
        "    return output_df"
      ],
      "execution_count": 14,
      "outputs": []
    },
    {
      "cell_type": "code",
      "metadata": {
        "colab": {
          "base_uri": "https://localhost:8080/"
        },
        "id": "N8ssVHOoRHOC",
        "outputId": "69e1423f-e131-4502-c4c7-4c3af98f84d7"
      },
      "source": [
        "test = Move_closer(test_df)"
      ],
      "execution_count": 15,
      "outputs": [
        {
          "output_type": "stream",
          "text": [
            "now : 1/2\n",
            "2021-04-02-US-SJC-1\n"
          ],
          "name": "stdout"
        },
        {
          "output_type": "stream",
          "text": [
            "/usr/local/lib/python3.7/dist-packages/momepy/utils.py:418: UserWarning:\n",
            "\n",
            "Approach is not set. Defaulting to 'primal'.\n",
            "\n",
            "/usr/local/lib/python3.7/dist-packages/ipykernel_launcher.py:36: UserWarning:\n",
            "\n",
            "Geometry is in a geographic CRS. Results from 'distance' are likely incorrect. Use 'GeoSeries.to_crs()' to re-project geometries to a projected CRS before this operation.\n",
            "\n",
            "\n",
            "/usr/local/lib/python3.7/dist-packages/ipykernel_launcher.py:36: UserWarning:\n",
            "\n",
            "CRS mismatch between the CRS of left geometries and the CRS of right geometries.\n",
            "Use `to_crs()` to reproject one of the input geometries to match the CRS of the other.\n",
            "\n",
            "Left CRS: EPSG:4326\n",
            "Right CRS: None\n",
            "\n",
            "\n"
          ],
          "name": "stderr"
        },
        {
          "output_type": "stream",
          "text": [
            "4749\n",
            "(4749, 10)\n",
            "now : 2/2\n",
            "2021-04-22-US-SJC-2\n"
          ],
          "name": "stdout"
        },
        {
          "output_type": "stream",
          "text": [
            "/usr/local/lib/python3.7/dist-packages/momepy/utils.py:418: UserWarning:\n",
            "\n",
            "Approach is not set. Defaulting to 'primal'.\n",
            "\n",
            "/usr/local/lib/python3.7/dist-packages/ipykernel_launcher.py:36: UserWarning:\n",
            "\n",
            "Geometry is in a geographic CRS. Results from 'distance' are likely incorrect. Use 'GeoSeries.to_crs()' to re-project geometries to a projected CRS before this operation.\n",
            "\n",
            "\n",
            "/usr/local/lib/python3.7/dist-packages/ipykernel_launcher.py:36: UserWarning:\n",
            "\n",
            "CRS mismatch between the CRS of left geometries and the CRS of right geometries.\n",
            "Use `to_crs()` to reproject one of the input geometries to match the CRS of the other.\n",
            "\n",
            "Left CRS: EPSG:4326\n",
            "Right CRS: None\n",
            "\n",
            "\n"
          ],
          "name": "stderr"
        },
        {
          "output_type": "stream",
          "text": [
            "2324\n",
            "(2324, 10)\n"
          ],
          "name": "stdout"
        }
      ]
    },
    {
      "cell_type": "code",
      "metadata": {
        "id": "iX4_iP8gS-uO"
      },
      "source": [
        "test_base.iloc[62132:66881, 3] = test[test[\"collectionName\"] == \"2021-04-02-US-SJC-1\"][\"latDeg\"].values\n",
        "test_base.iloc[62132:66881, 4] = test[test[\"collectionName\"] == \"2021-04-02-US-SJC-1\"][\"lngDeg\"].values"
      ],
      "execution_count": 16,
      "outputs": []
    },
    {
      "cell_type": "code",
      "metadata": {
        "id": "7SXRG8LFjnVq"
      },
      "source": [
        "test_base.iloc[74067:76391, 3] = test[test[\"collectionName\"] == \"2021-04-22-US-SJC-2\"][\"latDeg\"].values\n",
        "test_base.iloc[74067:76391, 4] = test[test[\"collectionName\"] == \"2021-04-22-US-SJC-2\"][\"lngDeg\"].values"
      ],
      "execution_count": 17,
      "outputs": []
    },
    {
      "cell_type": "code",
      "metadata": {
        "id": "bbE9m2xDmpzC"
      },
      "source": [
        "test_base[sub.columns].to_csv(\"test_move_closer_SJC.csv\", index=False)"
      ],
      "execution_count": 21,
      "outputs": []
    },
    {
      "cell_type": "code",
      "metadata": {
        "id": "57Q2MotdRQyn"
      },
      "source": [
        "test_base.to_csv(\"test_pre_next_move_closer_SJC.csv\", index=False)"
      ],
      "execution_count": 89,
      "outputs": []
    },
    {
      "cell_type": "code",
      "metadata": {
        "id": "y_OVDwzfmOZW"
      },
      "source": [
        "sub = pd.read_csv('/content/drive/MyDrive/GSDC/sample_submission.csv')"
      ],
      "execution_count": 20,
      "outputs": []
    },
    {
      "cell_type": "code",
      "metadata": {
        "id": "aNM-DfMZj5HS"
      },
      "source": [
        "test_base[sub.columns].to_csv('test_pre_next_move_closer_SJC.csv', index=False)"
      ],
      "execution_count": 93,
      "outputs": []
    },
    {
      "cell_type": "code",
      "metadata": {
        "id": "Fql5XewOmLbz"
      },
      "source": [
        "a = pd.read_csv('/content/drive/MyDrive/GSDC/test_predict_next_point_SJC_2.csv')"
      ],
      "execution_count": 94,
      "outputs": []
    },
    {
      "cell_type": "code",
      "metadata": {
        "id": "LKH3Tam8nOsf"
      },
      "source": [
        "a[sub.columns].to_csv('test_pre_next.csv', index=False)"
      ],
      "execution_count": 95,
      "outputs": []
    },
    {
      "cell_type": "code",
      "metadata": {
        "id": "24Lg4AEZnUdt"
      },
      "source": [
        ""
      ],
      "execution_count": null,
      "outputs": []
    }
  ]
}