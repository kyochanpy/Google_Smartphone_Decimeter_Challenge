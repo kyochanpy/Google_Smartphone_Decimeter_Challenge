{
  "nbformat": 4,
  "nbformat_minor": 0,
  "metadata": {
    "colab": {
      "name": "Untitled92.ipynb",
      "provenance": [],
      "mount_file_id": "1bW4HWJxp9BALbg7QKagcJiKbwBOke1iy",
      "authorship_tag": "ABX9TyN61Vg6wVc9Ela9n0+WeSup",
      "include_colab_link": true
    },
    "kernelspec": {
      "name": "python3",
      "display_name": "Python 3"
    },
    "language_info": {
      "name": "python"
    },
    "widgets": {
      "application/vnd.jupyter.widget-state+json": {
        "f229a653d9394779b4b31cc8e83366ab": {
          "model_module": "@jupyter-widgets/controls",
          "model_name": "HBoxModel",
          "state": {
            "_view_name": "HBoxView",
            "_dom_classes": [],
            "_model_name": "HBoxModel",
            "_view_module": "@jupyter-widgets/controls",
            "_model_module_version": "1.5.0",
            "_view_count": null,
            "_view_module_version": "1.5.0",
            "box_style": "",
            "layout": "IPY_MODEL_3838dd65d0ce47a4b443bae15ab11d8f",
            "_model_module": "@jupyter-widgets/controls",
            "children": [
              "IPY_MODEL_2cbf3218be73410382990292b8b48b62",
              "IPY_MODEL_3977f1f356814406903b59b312ef746d"
            ]
          }
        },
        "3838dd65d0ce47a4b443bae15ab11d8f": {
          "model_module": "@jupyter-widgets/base",
          "model_name": "LayoutModel",
          "state": {
            "_view_name": "LayoutView",
            "grid_template_rows": null,
            "right": null,
            "justify_content": null,
            "_view_module": "@jupyter-widgets/base",
            "overflow": null,
            "_model_module_version": "1.2.0",
            "_view_count": null,
            "flex_flow": null,
            "width": null,
            "min_width": null,
            "border": null,
            "align_items": null,
            "bottom": null,
            "_model_module": "@jupyter-widgets/base",
            "top": null,
            "grid_column": null,
            "overflow_y": null,
            "overflow_x": null,
            "grid_auto_flow": null,
            "grid_area": null,
            "grid_template_columns": null,
            "flex": null,
            "_model_name": "LayoutModel",
            "justify_items": null,
            "grid_row": null,
            "max_height": null,
            "align_content": null,
            "visibility": null,
            "align_self": null,
            "height": null,
            "min_height": null,
            "padding": null,
            "grid_auto_rows": null,
            "grid_gap": null,
            "max_width": null,
            "order": null,
            "_view_module_version": "1.2.0",
            "grid_template_areas": null,
            "object_position": null,
            "object_fit": null,
            "grid_auto_columns": null,
            "margin": null,
            "display": null,
            "left": null
          }
        },
        "2cbf3218be73410382990292b8b48b62": {
          "model_module": "@jupyter-widgets/controls",
          "model_name": "FloatProgressModel",
          "state": {
            "_view_name": "ProgressView",
            "style": "IPY_MODEL_82116045672444fc8c17556b32386f26",
            "_dom_classes": [],
            "description": "100%",
            "_model_name": "FloatProgressModel",
            "bar_style": "success",
            "max": 73,
            "_view_module": "@jupyter-widgets/controls",
            "_model_module_version": "1.5.0",
            "value": 73,
            "_view_count": null,
            "_view_module_version": "1.5.0",
            "orientation": "horizontal",
            "min": 0,
            "description_tooltip": null,
            "_model_module": "@jupyter-widgets/controls",
            "layout": "IPY_MODEL_b900bd2523f744eb8484bcf5fc12d002"
          }
        },
        "3977f1f356814406903b59b312ef746d": {
          "model_module": "@jupyter-widgets/controls",
          "model_name": "HTMLModel",
          "state": {
            "_view_name": "HTMLView",
            "style": "IPY_MODEL_5651e5719e7d43d1b1ecdb4dce2b8278",
            "_dom_classes": [],
            "description": "",
            "_model_name": "HTMLModel",
            "placeholder": "​",
            "_view_module": "@jupyter-widgets/controls",
            "_model_module_version": "1.5.0",
            "value": " 73/73 [00:00&lt;00:00, 80.33it/s]",
            "_view_count": null,
            "_view_module_version": "1.5.0",
            "description_tooltip": null,
            "_model_module": "@jupyter-widgets/controls",
            "layout": "IPY_MODEL_512ce80496da4e17b04845305f87c165"
          }
        },
        "82116045672444fc8c17556b32386f26": {
          "model_module": "@jupyter-widgets/controls",
          "model_name": "ProgressStyleModel",
          "state": {
            "_view_name": "StyleView",
            "_model_name": "ProgressStyleModel",
            "description_width": "initial",
            "_view_module": "@jupyter-widgets/base",
            "_model_module_version": "1.5.0",
            "_view_count": null,
            "_view_module_version": "1.2.0",
            "bar_color": null,
            "_model_module": "@jupyter-widgets/controls"
          }
        },
        "b900bd2523f744eb8484bcf5fc12d002": {
          "model_module": "@jupyter-widgets/base",
          "model_name": "LayoutModel",
          "state": {
            "_view_name": "LayoutView",
            "grid_template_rows": null,
            "right": null,
            "justify_content": null,
            "_view_module": "@jupyter-widgets/base",
            "overflow": null,
            "_model_module_version": "1.2.0",
            "_view_count": null,
            "flex_flow": null,
            "width": null,
            "min_width": null,
            "border": null,
            "align_items": null,
            "bottom": null,
            "_model_module": "@jupyter-widgets/base",
            "top": null,
            "grid_column": null,
            "overflow_y": null,
            "overflow_x": null,
            "grid_auto_flow": null,
            "grid_area": null,
            "grid_template_columns": null,
            "flex": null,
            "_model_name": "LayoutModel",
            "justify_items": null,
            "grid_row": null,
            "max_height": null,
            "align_content": null,
            "visibility": null,
            "align_self": null,
            "height": null,
            "min_height": null,
            "padding": null,
            "grid_auto_rows": null,
            "grid_gap": null,
            "max_width": null,
            "order": null,
            "_view_module_version": "1.2.0",
            "grid_template_areas": null,
            "object_position": null,
            "object_fit": null,
            "grid_auto_columns": null,
            "margin": null,
            "display": null,
            "left": null
          }
        },
        "5651e5719e7d43d1b1ecdb4dce2b8278": {
          "model_module": "@jupyter-widgets/controls",
          "model_name": "DescriptionStyleModel",
          "state": {
            "_view_name": "StyleView",
            "_model_name": "DescriptionStyleModel",
            "description_width": "",
            "_view_module": "@jupyter-widgets/base",
            "_model_module_version": "1.5.0",
            "_view_count": null,
            "_view_module_version": "1.2.0",
            "_model_module": "@jupyter-widgets/controls"
          }
        },
        "512ce80496da4e17b04845305f87c165": {
          "model_module": "@jupyter-widgets/base",
          "model_name": "LayoutModel",
          "state": {
            "_view_name": "LayoutView",
            "grid_template_rows": null,
            "right": null,
            "justify_content": null,
            "_view_module": "@jupyter-widgets/base",
            "overflow": null,
            "_model_module_version": "1.2.0",
            "_view_count": null,
            "flex_flow": null,
            "width": null,
            "min_width": null,
            "border": null,
            "align_items": null,
            "bottom": null,
            "_model_module": "@jupyter-widgets/base",
            "top": null,
            "grid_column": null,
            "overflow_y": null,
            "overflow_x": null,
            "grid_auto_flow": null,
            "grid_area": null,
            "grid_template_columns": null,
            "flex": null,
            "_model_name": "LayoutModel",
            "justify_items": null,
            "grid_row": null,
            "max_height": null,
            "align_content": null,
            "visibility": null,
            "align_self": null,
            "height": null,
            "min_height": null,
            "padding": null,
            "grid_auto_rows": null,
            "grid_gap": null,
            "max_width": null,
            "order": null,
            "_view_module_version": "1.2.0",
            "grid_template_areas": null,
            "object_position": null,
            "object_fit": null,
            "grid_auto_columns": null,
            "margin": null,
            "display": null,
            "left": null
          }
        },
        "11079cedfc42447cabc9f56023005a9f": {
          "model_module": "@jupyter-widgets/controls",
          "model_name": "HBoxModel",
          "state": {
            "_view_name": "HBoxView",
            "_dom_classes": [],
            "_model_name": "HBoxModel",
            "_view_module": "@jupyter-widgets/controls",
            "_model_module_version": "1.5.0",
            "_view_count": null,
            "_view_module_version": "1.5.0",
            "box_style": "",
            "layout": "IPY_MODEL_f01aa8fe78364a2f8e8d53e120e97914",
            "_model_module": "@jupyter-widgets/controls",
            "children": [
              "IPY_MODEL_99dcbda148aa449d907a0c878e54584c",
              "IPY_MODEL_69f77dfc5c654ad9abbad0e747fda322"
            ]
          }
        },
        "f01aa8fe78364a2f8e8d53e120e97914": {
          "model_module": "@jupyter-widgets/base",
          "model_name": "LayoutModel",
          "state": {
            "_view_name": "LayoutView",
            "grid_template_rows": null,
            "right": null,
            "justify_content": null,
            "_view_module": "@jupyter-widgets/base",
            "overflow": null,
            "_model_module_version": "1.2.0",
            "_view_count": null,
            "flex_flow": null,
            "width": null,
            "min_width": null,
            "border": null,
            "align_items": null,
            "bottom": null,
            "_model_module": "@jupyter-widgets/base",
            "top": null,
            "grid_column": null,
            "overflow_y": null,
            "overflow_x": null,
            "grid_auto_flow": null,
            "grid_area": null,
            "grid_template_columns": null,
            "flex": null,
            "_model_name": "LayoutModel",
            "justify_items": null,
            "grid_row": null,
            "max_height": null,
            "align_content": null,
            "visibility": null,
            "align_self": null,
            "height": null,
            "min_height": null,
            "padding": null,
            "grid_auto_rows": null,
            "grid_gap": null,
            "max_width": null,
            "order": null,
            "_view_module_version": "1.2.0",
            "grid_template_areas": null,
            "object_position": null,
            "object_fit": null,
            "grid_auto_columns": null,
            "margin": null,
            "display": null,
            "left": null
          }
        },
        "99dcbda148aa449d907a0c878e54584c": {
          "model_module": "@jupyter-widgets/controls",
          "model_name": "FloatProgressModel",
          "state": {
            "_view_name": "ProgressView",
            "style": "IPY_MODEL_5b7e26a8b83a4603be8e890382ec5189",
            "_dom_classes": [],
            "description": "100%",
            "_model_name": "FloatProgressModel",
            "bar_style": "success",
            "max": 48,
            "_view_module": "@jupyter-widgets/controls",
            "_model_module_version": "1.5.0",
            "value": 48,
            "_view_count": null,
            "_view_module_version": "1.5.0",
            "orientation": "horizontal",
            "min": 0,
            "description_tooltip": null,
            "_model_module": "@jupyter-widgets/controls",
            "layout": "IPY_MODEL_f907ccd7f3d34068aaf709db093a7c7d"
          }
        },
        "69f77dfc5c654ad9abbad0e747fda322": {
          "model_module": "@jupyter-widgets/controls",
          "model_name": "HTMLModel",
          "state": {
            "_view_name": "HTMLView",
            "style": "IPY_MODEL_a643a1aa6c77427a9fbf39cb85cf89fc",
            "_dom_classes": [],
            "description": "",
            "_model_name": "HTMLModel",
            "placeholder": "​",
            "_view_module": "@jupyter-widgets/controls",
            "_model_module_version": "1.5.0",
            "value": " 48/48 [00:33&lt;00:00,  1.42it/s]",
            "_view_count": null,
            "_view_module_version": "1.5.0",
            "description_tooltip": null,
            "_model_module": "@jupyter-widgets/controls",
            "layout": "IPY_MODEL_bcf78bc626b845f383b747ec7c4cf7fa"
          }
        },
        "5b7e26a8b83a4603be8e890382ec5189": {
          "model_module": "@jupyter-widgets/controls",
          "model_name": "ProgressStyleModel",
          "state": {
            "_view_name": "StyleView",
            "_model_name": "ProgressStyleModel",
            "description_width": "initial",
            "_view_module": "@jupyter-widgets/base",
            "_model_module_version": "1.5.0",
            "_view_count": null,
            "_view_module_version": "1.2.0",
            "bar_color": null,
            "_model_module": "@jupyter-widgets/controls"
          }
        },
        "f907ccd7f3d34068aaf709db093a7c7d": {
          "model_module": "@jupyter-widgets/base",
          "model_name": "LayoutModel",
          "state": {
            "_view_name": "LayoutView",
            "grid_template_rows": null,
            "right": null,
            "justify_content": null,
            "_view_module": "@jupyter-widgets/base",
            "overflow": null,
            "_model_module_version": "1.2.0",
            "_view_count": null,
            "flex_flow": null,
            "width": null,
            "min_width": null,
            "border": null,
            "align_items": null,
            "bottom": null,
            "_model_module": "@jupyter-widgets/base",
            "top": null,
            "grid_column": null,
            "overflow_y": null,
            "overflow_x": null,
            "grid_auto_flow": null,
            "grid_area": null,
            "grid_template_columns": null,
            "flex": null,
            "_model_name": "LayoutModel",
            "justify_items": null,
            "grid_row": null,
            "max_height": null,
            "align_content": null,
            "visibility": null,
            "align_self": null,
            "height": null,
            "min_height": null,
            "padding": null,
            "grid_auto_rows": null,
            "grid_gap": null,
            "max_width": null,
            "order": null,
            "_view_module_version": "1.2.0",
            "grid_template_areas": null,
            "object_position": null,
            "object_fit": null,
            "grid_auto_columns": null,
            "margin": null,
            "display": null,
            "left": null
          }
        },
        "a643a1aa6c77427a9fbf39cb85cf89fc": {
          "model_module": "@jupyter-widgets/controls",
          "model_name": "DescriptionStyleModel",
          "state": {
            "_view_name": "StyleView",
            "_model_name": "DescriptionStyleModel",
            "description_width": "",
            "_view_module": "@jupyter-widgets/base",
            "_model_module_version": "1.5.0",
            "_view_count": null,
            "_view_module_version": "1.2.0",
            "_model_module": "@jupyter-widgets/controls"
          }
        },
        "bcf78bc626b845f383b747ec7c4cf7fa": {
          "model_module": "@jupyter-widgets/base",
          "model_name": "LayoutModel",
          "state": {
            "_view_name": "LayoutView",
            "grid_template_rows": null,
            "right": null,
            "justify_content": null,
            "_view_module": "@jupyter-widgets/base",
            "overflow": null,
            "_model_module_version": "1.2.0",
            "_view_count": null,
            "flex_flow": null,
            "width": null,
            "min_width": null,
            "border": null,
            "align_items": null,
            "bottom": null,
            "_model_module": "@jupyter-widgets/base",
            "top": null,
            "grid_column": null,
            "overflow_y": null,
            "overflow_x": null,
            "grid_auto_flow": null,
            "grid_area": null,
            "grid_template_columns": null,
            "flex": null,
            "_model_name": "LayoutModel",
            "justify_items": null,
            "grid_row": null,
            "max_height": null,
            "align_content": null,
            "visibility": null,
            "align_self": null,
            "height": null,
            "min_height": null,
            "padding": null,
            "grid_auto_rows": null,
            "grid_gap": null,
            "max_width": null,
            "order": null,
            "_view_module_version": "1.2.0",
            "grid_template_areas": null,
            "object_position": null,
            "object_fit": null,
            "grid_auto_columns": null,
            "margin": null,
            "display": null,
            "left": null
          }
        }
      }
    }
  },
  "cells": [
    {
      "cell_type": "markdown",
      "metadata": {
        "id": "view-in-github",
        "colab_type": "text"
      },
      "source": [
        "<a href=\"https://colab.research.google.com/github/kyochanpy/Google_Smartphone_Decimeter_Challenge/blob/main/PP/outlier_01.ipynb\" target=\"_parent\"><img src=\"https://colab.research.google.com/assets/colab-badge.svg\" alt=\"Open In Colab\"/></a>"
      ]
    },
    {
      "cell_type": "code",
      "metadata": {
        "id": "LZvGWsE8qenB"
      },
      "source": [
        "from pathlib import Path \n",
        "import pandas as pd\n",
        "import numpy as np\n",
        "from tqdm.notebook import tqdm"
      ],
      "execution_count": 8,
      "outputs": []
    },
    {
      "cell_type": "code",
      "metadata": {
        "id": "XcwjRzS4q5Kr"
      },
      "source": [
        "# data\n",
        "path = Path(\"/content/drive/MyDrive/GSDC\")\n",
        "test_base = pd.read_csv(path / \"baseline_locations_test.csv\")\n",
        "sub = pd.read_csv(path / \"sample_submission.csv\")"
      ],
      "execution_count": 19,
      "outputs": []
    },
    {
      "cell_type": "code",
      "metadata": {
        "id": "q3LhtkWBsejA"
      },
      "source": [
        "truths = (path / \"train\").rglob(\"ground_truth.csv\")"
      ],
      "execution_count": 20,
      "outputs": []
    },
    {
      "cell_type": "code",
      "metadata": {
        "colab": {
          "base_uri": "https://localhost:8080/",
          "height": 66,
          "referenced_widgets": [
            "f229a653d9394779b4b31cc8e83366ab",
            "3838dd65d0ce47a4b443bae15ab11d8f",
            "2cbf3218be73410382990292b8b48b62",
            "3977f1f356814406903b59b312ef746d",
            "82116045672444fc8c17556b32386f26",
            "b900bd2523f744eb8484bcf5fc12d002",
            "5651e5719e7d43d1b1ecdb4dce2b8278",
            "512ce80496da4e17b04845305f87c165"
          ]
        },
        "id": "4AXhNjb5suZU",
        "outputId": "a4b3e1fd-00e6-411e-f8d7-09d6bdc8e962"
      },
      "source": [
        "df_list = []\n",
        "cols = [\"collectionName\", \"phoneName\", \"millisSinceGpsEpoch\", \"latDeg\", \"lngDeg\"]\n",
        "\n",
        "for t in tqdm(truths, total=73):\n",
        "    df_phone = pd.read_csv(t, usecols=cols)\n",
        "    df_list.append(df_phone)\n",
        "df_truth = pd.concat(df_list, ignore_index=True)\n",
        "\n",
        "train_base = pd.read_csv(path / \"baseline_locations_train.csv\", usecols=cols)\n",
        "all_df = df_truth.merge(train_base, how=\"inner\", on=cols[:3], suffixes=(\"_truth\", '_train_base'))"
      ],
      "execution_count": 21,
      "outputs": [
        {
          "output_type": "display_data",
          "data": {
            "application/vnd.jupyter.widget-view+json": {
              "model_id": "f229a653d9394779b4b31cc8e83366ab",
              "version_minor": 0,
              "version_major": 2
            },
            "text/plain": [
              "HBox(children=(FloatProgress(value=0.0, max=73.0), HTML(value='')))"
            ]
          },
          "metadata": {
            "tags": []
          }
        },
        {
          "output_type": "stream",
          "text": [
            "\n"
          ],
          "name": "stdout"
        }
      ]
    },
    {
      "cell_type": "code",
      "metadata": {
        "id": "oQfLbChqu28e"
      },
      "source": [
        "def calc_haversine(lat1, lon1, lat2, lon2):\n",
        "    RADIUS = 6_367_000\n",
        "    lat1, lon1, lat2, lon2 = map(np.radians, [lat1, lon1, lat2, lon2])\n",
        "    dlat = lat2 - lat1\n",
        "    dlon = lon2 - lon1\n",
        "    d = np.sin(dlat/2)**2 + np.cos(lat1) * np.cos(lat2) * np.sin(dlon/2)**2\n",
        "    dist = 2 * RADIUS * np.arcsin(d**0.5)\n",
        "    return dist"
      ],
      "execution_count": 39,
      "outputs": []
    },
    {
      "cell_type": "code",
      "metadata": {
        "id": "97K_2ua3xrW5"
      },
      "source": [
        "all_df['dist'] = calc_harversine(all_df.latDeg_truth, all_df.lngDeg_truth,\n",
        "                                 all_df.latDeg_train_base, all_df.lngDeg_train_base)"
      ],
      "execution_count": 40,
      "outputs": []
    },
    {
      "cell_type": "code",
      "metadata": {
        "colab": {
          "base_uri": "https://localhost:8080/"
        },
        "id": "u8aQ8hzSx9ip",
        "outputId": "9b1df428-53be-4538-c15b-f9e4736ef1d6"
      },
      "source": [
        "all_df.dist.describe()"
      ],
      "execution_count": 41,
      "outputs": [
        {
          "output_type": "execute_result",
          "data": {
            "text/plain": [
              "count    131342.000000\n",
              "mean          3.846848\n",
              "std          30.739767\n",
              "min           0.001338\n",
              "25%           1.210976\n",
              "50%           2.065769\n",
              "75%           3.560001\n",
              "max        8340.257976\n",
              "Name: dist, dtype: float64"
            ]
          },
          "metadata": {
            "tags": []
          },
          "execution_count": 41
        }
      ]
    },
    {
      "cell_type": "code",
      "metadata": {
        "colab": {
          "base_uri": "https://localhost:8080/",
          "height": 1000
        },
        "id": "Ps_7MJ4jzRBW",
        "outputId": "d26eafa1-176c-4f46-b1ed-8042b563b03a"
      },
      "source": [
        "all_df.sort_values(by=\"dist\", ascending=False)[[\"collectionName\", \"dist\"]].head(50)"
      ],
      "execution_count": 42,
      "outputs": [
        {
          "output_type": "execute_result",
          "data": {
            "text/html": [
              "<div>\n",
              "<style scoped>\n",
              "    .dataframe tbody tr th:only-of-type {\n",
              "        vertical-align: middle;\n",
              "    }\n",
              "\n",
              "    .dataframe tbody tr th {\n",
              "        vertical-align: top;\n",
              "    }\n",
              "\n",
              "    .dataframe thead th {\n",
              "        text-align: right;\n",
              "    }\n",
              "</style>\n",
              "<table border=\"1\" class=\"dataframe\">\n",
              "  <thead>\n",
              "    <tr style=\"text-align: right;\">\n",
              "      <th></th>\n",
              "      <th>collectionName</th>\n",
              "      <th>dist</th>\n",
              "    </tr>\n",
              "  </thead>\n",
              "  <tbody>\n",
              "    <tr>\n",
              "      <th>59220</th>\n",
              "      <td>2020-09-04-US-SF-1</td>\n",
              "      <td>8340.257976</td>\n",
              "    </tr>\n",
              "    <tr>\n",
              "      <th>47991</th>\n",
              "      <td>2020-07-17-US-MTV-2</td>\n",
              "      <td>5050.995543</td>\n",
              "    </tr>\n",
              "    <tr>\n",
              "      <th>110383</th>\n",
              "      <td>2021-04-26-US-SVL-1</td>\n",
              "      <td>2254.344928</td>\n",
              "    </tr>\n",
              "    <tr>\n",
              "      <th>46999</th>\n",
              "      <td>2020-07-17-US-MTV-2</td>\n",
              "      <td>2026.294654</td>\n",
              "    </tr>\n",
              "    <tr>\n",
              "      <th>46997</th>\n",
              "      <td>2020-07-17-US-MTV-2</td>\n",
              "      <td>1934.676643</td>\n",
              "    </tr>\n",
              "    <tr>\n",
              "      <th>126704</th>\n",
              "      <td>2021-04-29-US-SJC-2</td>\n",
              "      <td>1599.570433</td>\n",
              "    </tr>\n",
              "    <tr>\n",
              "      <th>12409</th>\n",
              "      <td>2020-05-29-US-MTV-1</td>\n",
              "      <td>1128.348831</td>\n",
              "    </tr>\n",
              "    <tr>\n",
              "      <th>46998</th>\n",
              "      <td>2020-07-17-US-MTV-2</td>\n",
              "      <td>1044.316856</td>\n",
              "    </tr>\n",
              "    <tr>\n",
              "      <th>90154</th>\n",
              "      <td>2021-01-05-US-SVL-1</td>\n",
              "      <td>653.703379</td>\n",
              "    </tr>\n",
              "    <tr>\n",
              "      <th>97486</th>\n",
              "      <td>2021-04-15-US-MTV-1</td>\n",
              "      <td>549.061548</td>\n",
              "    </tr>\n",
              "    <tr>\n",
              "      <th>12410</th>\n",
              "      <td>2020-05-29-US-MTV-1</td>\n",
              "      <td>469.345770</td>\n",
              "    </tr>\n",
              "    <tr>\n",
              "      <th>104570</th>\n",
              "      <td>2021-04-22-US-SJC-1</td>\n",
              "      <td>318.866797</td>\n",
              "    </tr>\n",
              "    <tr>\n",
              "      <th>47464</th>\n",
              "      <td>2020-07-17-US-MTV-2</td>\n",
              "      <td>311.289381</td>\n",
              "    </tr>\n",
              "    <tr>\n",
              "      <th>126705</th>\n",
              "      <td>2021-04-29-US-SJC-2</td>\n",
              "      <td>304.920835</td>\n",
              "    </tr>\n",
              "    <tr>\n",
              "      <th>104571</th>\n",
              "      <td>2021-04-22-US-SJC-1</td>\n",
              "      <td>282.122862</td>\n",
              "    </tr>\n",
              "    <tr>\n",
              "      <th>106331</th>\n",
              "      <td>2021-04-22-US-SJC-1</td>\n",
              "      <td>273.247243</td>\n",
              "    </tr>\n",
              "    <tr>\n",
              "      <th>97488</th>\n",
              "      <td>2021-04-15-US-MTV-1</td>\n",
              "      <td>272.285191</td>\n",
              "    </tr>\n",
              "    <tr>\n",
              "      <th>106333</th>\n",
              "      <td>2021-04-22-US-SJC-1</td>\n",
              "      <td>265.230608</td>\n",
              "    </tr>\n",
              "    <tr>\n",
              "      <th>97483</th>\n",
              "      <td>2021-04-15-US-MTV-1</td>\n",
              "      <td>257.840793</td>\n",
              "    </tr>\n",
              "    <tr>\n",
              "      <th>106332</th>\n",
              "      <td>2021-04-22-US-SJC-1</td>\n",
              "      <td>256.598019</td>\n",
              "    </tr>\n",
              "    <tr>\n",
              "      <th>97484</th>\n",
              "      <td>2021-04-15-US-MTV-1</td>\n",
              "      <td>255.510814</td>\n",
              "    </tr>\n",
              "    <tr>\n",
              "      <th>97491</th>\n",
              "      <td>2021-04-15-US-MTV-1</td>\n",
              "      <td>240.424882</td>\n",
              "    </tr>\n",
              "    <tr>\n",
              "      <th>19376</th>\n",
              "      <td>2020-05-29-US-MTV-2</td>\n",
              "      <td>239.710882</td>\n",
              "    </tr>\n",
              "    <tr>\n",
              "      <th>19372</th>\n",
              "      <td>2020-05-29-US-MTV-2</td>\n",
              "      <td>239.710441</td>\n",
              "    </tr>\n",
              "    <tr>\n",
              "      <th>19370</th>\n",
              "      <td>2020-05-29-US-MTV-2</td>\n",
              "      <td>239.710441</td>\n",
              "    </tr>\n",
              "    <tr>\n",
              "      <th>19369</th>\n",
              "      <td>2020-05-29-US-MTV-2</td>\n",
              "      <td>239.710441</td>\n",
              "    </tr>\n",
              "    <tr>\n",
              "      <th>19368</th>\n",
              "      <td>2020-05-29-US-MTV-2</td>\n",
              "      <td>239.710441</td>\n",
              "    </tr>\n",
              "    <tr>\n",
              "      <th>19367</th>\n",
              "      <td>2020-05-29-US-MTV-2</td>\n",
              "      <td>239.710441</td>\n",
              "    </tr>\n",
              "    <tr>\n",
              "      <th>19371</th>\n",
              "      <td>2020-05-29-US-MTV-2</td>\n",
              "      <td>239.710441</td>\n",
              "    </tr>\n",
              "    <tr>\n",
              "      <th>19373</th>\n",
              "      <td>2020-05-29-US-MTV-2</td>\n",
              "      <td>239.710441</td>\n",
              "    </tr>\n",
              "    <tr>\n",
              "      <th>19374</th>\n",
              "      <td>2020-05-29-US-MTV-2</td>\n",
              "      <td>239.710441</td>\n",
              "    </tr>\n",
              "    <tr>\n",
              "      <th>19375</th>\n",
              "      <td>2020-05-29-US-MTV-2</td>\n",
              "      <td>239.710441</td>\n",
              "    </tr>\n",
              "    <tr>\n",
              "      <th>19366</th>\n",
              "      <td>2020-05-29-US-MTV-2</td>\n",
              "      <td>239.707286</td>\n",
              "    </tr>\n",
              "    <tr>\n",
              "      <th>19365</th>\n",
              "      <td>2020-05-29-US-MTV-2</td>\n",
              "      <td>239.689996</td>\n",
              "    </tr>\n",
              "    <tr>\n",
              "      <th>19364</th>\n",
              "      <td>2020-05-29-US-MTV-2</td>\n",
              "      <td>239.679482</td>\n",
              "    </tr>\n",
              "    <tr>\n",
              "      <th>19363</th>\n",
              "      <td>2020-05-29-US-MTV-2</td>\n",
              "      <td>239.666193</td>\n",
              "    </tr>\n",
              "    <tr>\n",
              "      <th>19362</th>\n",
              "      <td>2020-05-29-US-MTV-2</td>\n",
              "      <td>239.650274</td>\n",
              "    </tr>\n",
              "    <tr>\n",
              "      <th>19361</th>\n",
              "      <td>2020-05-29-US-MTV-2</td>\n",
              "      <td>239.632394</td>\n",
              "    </tr>\n",
              "    <tr>\n",
              "      <th>19360</th>\n",
              "      <td>2020-05-29-US-MTV-2</td>\n",
              "      <td>239.612732</td>\n",
              "    </tr>\n",
              "    <tr>\n",
              "      <th>19359</th>\n",
              "      <td>2020-05-29-US-MTV-2</td>\n",
              "      <td>239.591818</td>\n",
              "    </tr>\n",
              "    <tr>\n",
              "      <th>19358</th>\n",
              "      <td>2020-05-29-US-MTV-2</td>\n",
              "      <td>239.569670</td>\n",
              "    </tr>\n",
              "    <tr>\n",
              "      <th>19357</th>\n",
              "      <td>2020-05-29-US-MTV-2</td>\n",
              "      <td>239.546588</td>\n",
              "    </tr>\n",
              "    <tr>\n",
              "      <th>19356</th>\n",
              "      <td>2020-05-29-US-MTV-2</td>\n",
              "      <td>239.525328</td>\n",
              "    </tr>\n",
              "    <tr>\n",
              "      <th>19355</th>\n",
              "      <td>2020-05-29-US-MTV-2</td>\n",
              "      <td>239.506494</td>\n",
              "    </tr>\n",
              "    <tr>\n",
              "      <th>19352</th>\n",
              "      <td>2020-05-29-US-MTV-2</td>\n",
              "      <td>239.498704</td>\n",
              "    </tr>\n",
              "    <tr>\n",
              "      <th>19354</th>\n",
              "      <td>2020-05-29-US-MTV-2</td>\n",
              "      <td>239.493013</td>\n",
              "    </tr>\n",
              "    <tr>\n",
              "      <th>19353</th>\n",
              "      <td>2020-05-29-US-MTV-2</td>\n",
              "      <td>239.485925</td>\n",
              "    </tr>\n",
              "    <tr>\n",
              "      <th>19351</th>\n",
              "      <td>2020-05-29-US-MTV-2</td>\n",
              "      <td>239.156800</td>\n",
              "    </tr>\n",
              "    <tr>\n",
              "      <th>21382</th>\n",
              "      <td>2020-05-29-US-MTV-2</td>\n",
              "      <td>238.779207</td>\n",
              "    </tr>\n",
              "    <tr>\n",
              "      <th>21381</th>\n",
              "      <td>2020-05-29-US-MTV-2</td>\n",
              "      <td>238.778691</td>\n",
              "    </tr>\n",
              "  </tbody>\n",
              "</table>\n",
              "</div>"
            ],
            "text/plain": [
              "             collectionName         dist\n",
              "59220    2020-09-04-US-SF-1  8340.257976\n",
              "47991   2020-07-17-US-MTV-2  5050.995543\n",
              "110383  2021-04-26-US-SVL-1  2254.344928\n",
              "46999   2020-07-17-US-MTV-2  2026.294654\n",
              "46997   2020-07-17-US-MTV-2  1934.676643\n",
              "126704  2021-04-29-US-SJC-2  1599.570433\n",
              "12409   2020-05-29-US-MTV-1  1128.348831\n",
              "46998   2020-07-17-US-MTV-2  1044.316856\n",
              "90154   2021-01-05-US-SVL-1   653.703379\n",
              "97486   2021-04-15-US-MTV-1   549.061548\n",
              "12410   2020-05-29-US-MTV-1   469.345770\n",
              "104570  2021-04-22-US-SJC-1   318.866797\n",
              "47464   2020-07-17-US-MTV-2   311.289381\n",
              "126705  2021-04-29-US-SJC-2   304.920835\n",
              "104571  2021-04-22-US-SJC-1   282.122862\n",
              "106331  2021-04-22-US-SJC-1   273.247243\n",
              "97488   2021-04-15-US-MTV-1   272.285191\n",
              "106333  2021-04-22-US-SJC-1   265.230608\n",
              "97483   2021-04-15-US-MTV-1   257.840793\n",
              "106332  2021-04-22-US-SJC-1   256.598019\n",
              "97484   2021-04-15-US-MTV-1   255.510814\n",
              "97491   2021-04-15-US-MTV-1   240.424882\n",
              "19376   2020-05-29-US-MTV-2   239.710882\n",
              "19372   2020-05-29-US-MTV-2   239.710441\n",
              "19370   2020-05-29-US-MTV-2   239.710441\n",
              "19369   2020-05-29-US-MTV-2   239.710441\n",
              "19368   2020-05-29-US-MTV-2   239.710441\n",
              "19367   2020-05-29-US-MTV-2   239.710441\n",
              "19371   2020-05-29-US-MTV-2   239.710441\n",
              "19373   2020-05-29-US-MTV-2   239.710441\n",
              "19374   2020-05-29-US-MTV-2   239.710441\n",
              "19375   2020-05-29-US-MTV-2   239.710441\n",
              "19366   2020-05-29-US-MTV-2   239.707286\n",
              "19365   2020-05-29-US-MTV-2   239.689996\n",
              "19364   2020-05-29-US-MTV-2   239.679482\n",
              "19363   2020-05-29-US-MTV-2   239.666193\n",
              "19362   2020-05-29-US-MTV-2   239.650274\n",
              "19361   2020-05-29-US-MTV-2   239.632394\n",
              "19360   2020-05-29-US-MTV-2   239.612732\n",
              "19359   2020-05-29-US-MTV-2   239.591818\n",
              "19358   2020-05-29-US-MTV-2   239.569670\n",
              "19357   2020-05-29-US-MTV-2   239.546588\n",
              "19356   2020-05-29-US-MTV-2   239.525328\n",
              "19355   2020-05-29-US-MTV-2   239.506494\n",
              "19352   2020-05-29-US-MTV-2   239.498704\n",
              "19354   2020-05-29-US-MTV-2   239.493013\n",
              "19353   2020-05-29-US-MTV-2   239.485925\n",
              "19351   2020-05-29-US-MTV-2   239.156800\n",
              "21382   2020-05-29-US-MTV-2   238.779207\n",
              "21381   2020-05-29-US-MTV-2   238.778691"
            ]
          },
          "metadata": {
            "tags": []
          },
          "execution_count": 42
        }
      ]
    },
    {
      "cell_type": "code",
      "metadata": {
        "id": "2qWCmi6V0D2B"
      },
      "source": [
        "test_base[\"dist_pre\"] = 0\n",
        "test_base[\"dist_pro\"] = 0"
      ],
      "execution_count": 43,
      "outputs": []
    },
    {
      "cell_type": "code",
      "metadata": {
        "id": "4rf_L_EV1yKK"
      },
      "source": [
        "test_base['latDeg_pre'] = test_base['latDeg'].shift(periods=1,fill_value=0)\n",
        "test_base['lngDeg_pre'] = test_base['lngDeg'].shift(periods=1,fill_value=0)\n",
        "test_base['latDeg_pro'] = test_base['latDeg'].shift(periods=-1,fill_value=0)\n",
        "test_base['lngDeg_pro'] = test_base['lngDeg'].shift(periods=-1,fill_value=0)\n",
        "test_base['dist_pre'] = calc_haversine(test_base.latDeg_pre, test_base.lngDeg_pre, test_base.latDeg, test_base.lngDeg)\n",
        "test_base['dist_pro'] = calc_haversine(test_base.latDeg, test_base.lngDeg, test_base.latDeg_pro, test_base.lngDeg_pro)\n",
        "\n",
        "list_phone = test_base['phone'].unique()\n",
        "for phone in list_phone:\n",
        "    ind_s = test_base[test_base['phone'] == phone].index[0]\n",
        "    ind_e = test_base[test_base['phone'] == phone].index[-1]\n",
        "    test_base.loc[ind_s,'dist_pre'] = 0\n",
        "    test_base.loc[ind_e,'dist_pro'] = 0"
      ],
      "execution_count": 44,
      "outputs": []
    },
    {
      "cell_type": "code",
      "metadata": {
        "colab": {
          "base_uri": "https://localhost:8080/"
        },
        "id": "nmpyEn4m2ck5",
        "outputId": "57802f08-fa24-4021-e9d4-f8480444f6f2"
      },
      "source": [
        "test_base.dist_pre.describe()"
      ],
      "execution_count": 45,
      "outputs": [
        {
          "output_type": "execute_result",
          "data": {
            "text/plain": [
              "count    91486.000000\n",
              "mean        16.937410\n",
              "std         12.526582\n",
              "min          0.000000\n",
              "25%          5.200745\n",
              "50%         14.842604\n",
              "75%         28.551707\n",
              "max        391.394578\n",
              "Name: dist_pre, dtype: float64"
            ]
          },
          "metadata": {
            "tags": []
          },
          "execution_count": 45
        }
      ]
    },
    {
      "cell_type": "code",
      "metadata": {
        "id": "weCCHo0k3Ia8"
      },
      "source": [
        "pro_95 = test_base['dist_pro'].mean() + (test_base['dist_pro'].std() * 2)\n",
        "pre_95 = test_base['dist_pre'].mean() + (test_base['dist_pre'].std() * 2)\n",
        "ind = test_base[(test_base['dist_pro'] > pro_95)&(test_base['dist_pre'] > pre_95)][['dist_pre','dist_pro']].index\n",
        "\n",
        "for i in ind:\n",
        "    test_base.loc[i,'latDeg'] = (test_base.loc[i-1,'latDeg'] + test_base.loc[i+1,'latDeg'])/2\n",
        "    test_base.loc[i,'lngDeg'] = (test_base.loc[i-1,'lngDeg'] + test_base.loc[i+1,'lngDeg'])/2"
      ],
      "execution_count": 48,
      "outputs": []
    },
    {
      "cell_type": "markdown",
      "metadata": {
        "id": "IdbPpzdq4QI6"
      },
      "source": [
        "# Kalman Filter"
      ]
    },
    {
      "cell_type": "code",
      "metadata": {
        "colab": {
          "base_uri": "https://localhost:8080/"
        },
        "id": "1lETD7oa4D9n",
        "outputId": "dfcca429-6a29-4c51-b979-20fd3a43dc6c"
      },
      "source": [
        "!pip install simdkalman\n",
        "import simdkalman"
      ],
      "execution_count": 49,
      "outputs": [
        {
          "output_type": "stream",
          "text": [
            "Collecting simdkalman\n",
            "  Downloading https://files.pythonhosted.org/packages/d9/8a/6a4508231837fa2e5af4c6f0d6fa3d987a27f7aeb287b4e990c29b4e1815/simdkalman-1.0.1-py2.py3-none-any.whl\n",
            "Requirement already satisfied: numpy>=1.9.0 in /usr/local/lib/python3.7/dist-packages (from simdkalman) (1.19.5)\n",
            "Installing collected packages: simdkalman\n",
            "Successfully installed simdkalman-1.0.1\n"
          ],
          "name": "stdout"
        }
      ]
    },
    {
      "cell_type": "code",
      "metadata": {
        "id": "UqTx2x-q4cHi"
      },
      "source": [
        "T = 1.0\n",
        "state_transition = np.array([[1, 0, T, 0, 0.5 * T ** 2, 0], [0, 1, 0, T, 0, 0.5 * T ** 2], [0, 0, 1, 0, T, 0],\n",
        "                             [0, 0, 0, 1, 0, T], [0, 0, 0, 0, 1, 0], [0, 0, 0, 0, 0, 1]])\n",
        "process_noise = np.diag([1e-5, 1e-5, 5e-6, 5e-6, 1e-6, 1e-6]) + np.ones((6, 6)) * 1e-9\n",
        "observation_model = np.array([[1, 0, 0, 0, 0, 0], [0, 1, 0, 0, 0, 0]])\n",
        "observation_noise = np.diag([7e-5, 7e-5]) + np.ones((2, 2)) * 1e-9\n",
        "\n",
        "kf = simdkalman.KalmanFilter(\n",
        "        state_transition = state_transition,\n",
        "        process_noise = process_noise,\n",
        "        observation_model = observation_model,\n",
        "        observation_noise = observation_noise)"
      ],
      "execution_count": 53,
      "outputs": []
    },
    {
      "cell_type": "code",
      "metadata": {
        "id": "z3DVNTeY4iRx"
      },
      "source": [
        "def apply_kf_smoothing(df, kf_=kf):\n",
        "    unique_paths = df[['collectionName', 'phoneName']].drop_duplicates().to_numpy()\n",
        "    for collection, phone in tqdm(unique_paths):\n",
        "        cond = np.logical_and(df['collectionName'] == collection, df['phoneName'] == phone)\n",
        "        data = df[cond][['latDeg', 'lngDeg']].to_numpy()\n",
        "        data = data.reshape(1, len(data), 2)\n",
        "        smoothed = kf_.smooth(data)\n",
        "        df.loc[cond, 'latDeg'] = smoothed.states.mean[0, :, 0]\n",
        "        df.loc[cond, 'lngDeg'] = smoothed.states.mean[0, :, 1]\n",
        "    return df"
      ],
      "execution_count": 54,
      "outputs": []
    },
    {
      "cell_type": "code",
      "metadata": {
        "colab": {
          "base_uri": "https://localhost:8080/",
          "height": 66,
          "referenced_widgets": [
            "11079cedfc42447cabc9f56023005a9f",
            "f01aa8fe78364a2f8e8d53e120e97914",
            "99dcbda148aa449d907a0c878e54584c",
            "69f77dfc5c654ad9abbad0e747fda322",
            "5b7e26a8b83a4603be8e890382ec5189",
            "f907ccd7f3d34068aaf709db093a7c7d",
            "a643a1aa6c77427a9fbf39cb85cf89fc",
            "bcf78bc626b845f383b747ec7c4cf7fa"
          ]
        },
        "id": "D0v7ZDbi4kwB",
        "outputId": "b1fbb72f-8a8a-4a54-a2e5-10fdb468dbed"
      },
      "source": [
        "kf_smoothed_baseline = apply_kf_smoothing(test_base)\n",
        "sub = sub.assign(\n",
        "    latDeg = kf_smoothed_baseline.latDeg,\n",
        "    lngDeg = kf_smoothed_baseline.lngDeg\n",
        ")\n",
        "sub.to_csv('submission_08.csv', index=False)"
      ],
      "execution_count": 55,
      "outputs": [
        {
          "output_type": "display_data",
          "data": {
            "application/vnd.jupyter.widget-view+json": {
              "model_id": "11079cedfc42447cabc9f56023005a9f",
              "version_minor": 0,
              "version_major": 2
            },
            "text/plain": [
              "HBox(children=(FloatProgress(value=0.0, max=48.0), HTML(value='')))"
            ]
          },
          "metadata": {
            "tags": []
          }
        },
        {
          "output_type": "stream",
          "text": [
            "\n"
          ],
          "name": "stdout"
        }
      ]
    },
    {
      "cell_type": "code",
      "metadata": {
        "id": "fUGLtHqf6-MF"
      },
      "source": [
        ""
      ],
      "execution_count": null,
      "outputs": []
    }
  ]
}