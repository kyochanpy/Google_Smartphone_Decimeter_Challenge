{
  "nbformat": 4,
  "nbformat_minor": 0,
  "metadata": {
    "colab": {
      "name": "Untitled94.ipynb",
      "provenance": [],
      "mount_file_id": "1BDIOxGJarTVGTZhmHGgRFNKVwiI9Zl4g",
      "authorship_tag": "ABX9TyMFoFLxnflu4Km+S2C3vWPX",
      "include_colab_link": true
    },
    "kernelspec": {
      "name": "python3",
      "display_name": "Python 3"
    },
    "language_info": {
      "name": "python"
    }
  },
  "cells": [
    {
      "cell_type": "markdown",
      "metadata": {
        "id": "view-in-github",
        "colab_type": "text"
      },
      "source": [
        "<a href=\"https://colab.research.google.com/github/kyochanpy/Google_Smartphone_Decimeter_Challenge/blob/main/PP/outlier_02(test_per_95).ipynb\" target=\"_parent\"><img src=\"https://colab.research.google.com/assets/colab-badge.svg\" alt=\"Open In Colab\"/></a>"
      ]
    },
    {
      "cell_type": "code",
      "metadata": {
        "id": "CeLMEYHLPO7g"
      },
      "source": [
        "from pathlib import Path \n",
        "import pandas as pd\n",
        "import numpy as np\n",
        "from tqdm.notebook import tqdm"
      ],
      "execution_count": 1,
      "outputs": []
    },
    {
      "cell_type": "code",
      "metadata": {
        "id": "4h6I8fYYP10t"
      },
      "source": [
        "# data\n",
        "path = Path(\"/content/drive/MyDrive/GSDC\")\n",
        "test_base = pd.read_csv(path / \"baseline_locations_test.csv\")\n",
        "sub = pd.read_csv(path / \"sample_submission.csv\")"
      ],
      "execution_count": 3,
      "outputs": []
    },
    {
      "cell_type": "code",
      "metadata": {
        "id": "ThDoxu2APUYi"
      },
      "source": [
        "def outlier_test_per_95(input_df):\n",
        "    output_df = input_df\n",
        "\n",
        "    def calc_haversine(lat1, lon1, lat2, lon2):\n",
        "        RADIUS = 6_367_000\n",
        "        lat1, lon1, lat2, lon2 = map(np.radians, [lat1, lon1, lat2, lon2])\n",
        "        dlat = lat2 - lat1\n",
        "        dlon = lon2 - lon1\n",
        "        d = np.sin(dlat/2)**2 + np.cos(lat1) * np.cos(lat2) * np.sin(dlon/2)**2\n",
        "        dist = 2 * RADIUS * np.arcsin(d**0.5)\n",
        "        return dist\n",
        "\n",
        "    output_df[\"dist_pre\"] = 0\n",
        "    output_df[\"dist_pro\"] = 0\n",
        "\n",
        "    output_df['latDeg_pre'] = output_df['latDeg'].shift(periods=1,fill_value=0)\n",
        "    output_df['lngDeg_pre'] = output_df['lngDeg'].shift(periods=1,fill_value=0)\n",
        "    output_df['latDeg_pro'] = output_df['latDeg'].shift(periods=-1,fill_value=0)\n",
        "    output_df['lngDeg_pro'] = output_df['lngDeg'].shift(periods=-1,fill_value=0)\n",
        "    output_df['dist_pre'] = calc_haversine(output_df.latDeg_pre, output_df.lngDeg_pre, output_df.latDeg, output_df.lngDeg)\n",
        "    output_df['dist_pro'] = calc_haversine(output_df.latDeg, output_df.lngDeg, output_df.latDeg_pro, output_df.lngDeg_pro)\n",
        "\n",
        "    list_phone = output_df['phone'].unique()\n",
        "    for phone in list_phone:\n",
        "        ind_s = output_df[test_base['phone'] == phone].index[0]\n",
        "        ind_e = output_df[test_base['phone'] == phone].index[-1]\n",
        "        output_df.loc[ind_s,'dist_pre'] = 0\n",
        "        output_df.loc[ind_e,'dist_pro'] = 0\n",
        "\n",
        "    pro_95 = output_df['dist_pro'].mean() + (output_df['dist_pro'].std() * 2)\n",
        "    pre_95 = output_df['dist_pre'].mean() + (output_df['dist_pre'].std() * 2)\n",
        "    ind = output_df[(output_df['dist_pro'] > pro_95)&(output_df['dist_pre'] > pre_95)][['dist_pre','dist_pro']].index\n",
        "\n",
        "    for i in ind:\n",
        "        output_df.loc[i,'latDeg'] = (output_df.loc[i-1,'latDeg'] + output_df.loc[i+1,'latDeg'])/2\n",
        "        output_df.loc[i,'lngDeg'] = (output_df.loc[i-1,'lngDeg'] + output_df.loc[i+1,'lngDeg'])/2\n",
        "\n",
        "    return output_df"
      ],
      "execution_count": 6,
      "outputs": []
    },
    {
      "cell_type": "code",
      "metadata": {
        "id": "IkcoMD9YQ-QY"
      },
      "source": [
        "per_95 = outlier_test_01(test_base)"
      ],
      "execution_count": 8,
      "outputs": []
    },
    {
      "cell_type": "code",
      "metadata": {
        "colab": {
          "base_uri": "https://localhost:8080/"
        },
        "id": "P-vs-fMARB0c",
        "outputId": "af0c5ca0-5142-4501-a68d-fb49096cc78e"
      },
      "source": [
        "per_95.dist_pre.describe()"
      ],
      "execution_count": 9,
      "outputs": [
        {
          "output_type": "execute_result",
          "data": {
            "text/plain": [
              "count    91486.000000\n",
              "mean        16.893414\n",
              "std         12.246094\n",
              "min          0.000000\n",
              "25%          5.195032\n",
              "50%         14.834222\n",
              "75%         28.539107\n",
              "max        306.230082\n",
              "Name: dist_pre, dtype: float64"
            ]
          },
          "metadata": {
            "tags": []
          },
          "execution_count": 9
        }
      ]
    },
    {
      "cell_type": "code",
      "metadata": {
        "id": "3TdfEQvQXV5g"
      },
      "source": [
        ""
      ],
      "execution_count": null,
      "outputs": []
    }
  ]
}