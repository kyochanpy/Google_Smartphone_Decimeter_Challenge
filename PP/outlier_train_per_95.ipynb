{
  "nbformat": 4,
  "nbformat_minor": 0,
  "metadata": {
    "colab": {
      "name": "Untitled96.ipynb",
      "provenance": [],
      "mount_file_id": "1YrKH6THBWS0dsgpa8i3iuoqEEjbRaTS2",
      "authorship_tag": "ABX9TyOfgBAHHDo3JywvIbmHZzVl",
      "include_colab_link": true
    },
    "kernelspec": {
      "name": "python3",
      "display_name": "Python 3"
    },
    "language_info": {
      "name": "python"
    },
    "widgets": {
      "application/vnd.jupyter.widget-state+json": {
        "e46b15ef6a5d485e927d7c62b95b570a": {
          "model_module": "@jupyter-widgets/controls",
          "model_name": "HBoxModel",
          "state": {
            "_view_name": "HBoxView",
            "_dom_classes": [],
            "_model_name": "HBoxModel",
            "_view_module": "@jupyter-widgets/controls",
            "_model_module_version": "1.5.0",
            "_view_count": null,
            "_view_module_version": "1.5.0",
            "box_style": "",
            "layout": "IPY_MODEL_5cafcb3a2b5a4966b2cccd5a01ffe0f6",
            "_model_module": "@jupyter-widgets/controls",
            "children": [
              "IPY_MODEL_494cd86584b04065bdedbe7520c847b9",
              "IPY_MODEL_dbc102206a0244aeb2bd9490a4320a02"
            ]
          }
        },
        "5cafcb3a2b5a4966b2cccd5a01ffe0f6": {
          "model_module": "@jupyter-widgets/base",
          "model_name": "LayoutModel",
          "state": {
            "_view_name": "LayoutView",
            "grid_template_rows": null,
            "right": null,
            "justify_content": null,
            "_view_module": "@jupyter-widgets/base",
            "overflow": null,
            "_model_module_version": "1.2.0",
            "_view_count": null,
            "flex_flow": null,
            "width": null,
            "min_width": null,
            "border": null,
            "align_items": null,
            "bottom": null,
            "_model_module": "@jupyter-widgets/base",
            "top": null,
            "grid_column": null,
            "overflow_y": null,
            "overflow_x": null,
            "grid_auto_flow": null,
            "grid_area": null,
            "grid_template_columns": null,
            "flex": null,
            "_model_name": "LayoutModel",
            "justify_items": null,
            "grid_row": null,
            "max_height": null,
            "align_content": null,
            "visibility": null,
            "align_self": null,
            "height": null,
            "min_height": null,
            "padding": null,
            "grid_auto_rows": null,
            "grid_gap": null,
            "max_width": null,
            "order": null,
            "_view_module_version": "1.2.0",
            "grid_template_areas": null,
            "object_position": null,
            "object_fit": null,
            "grid_auto_columns": null,
            "margin": null,
            "display": null,
            "left": null
          }
        },
        "494cd86584b04065bdedbe7520c847b9": {
          "model_module": "@jupyter-widgets/controls",
          "model_name": "FloatProgressModel",
          "state": {
            "_view_name": "ProgressView",
            "style": "IPY_MODEL_7ec627cd410c4a10803d613f2e499c9e",
            "_dom_classes": [],
            "description": "100%",
            "_model_name": "FloatProgressModel",
            "bar_style": "success",
            "max": 73,
            "_view_module": "@jupyter-widgets/controls",
            "_model_module_version": "1.5.0",
            "value": 73,
            "_view_count": null,
            "_view_module_version": "1.5.0",
            "orientation": "horizontal",
            "min": 0,
            "description_tooltip": null,
            "_model_module": "@jupyter-widgets/controls",
            "layout": "IPY_MODEL_b5d5a0b9133c442fb78ccb6c91599406"
          }
        },
        "dbc102206a0244aeb2bd9490a4320a02": {
          "model_module": "@jupyter-widgets/controls",
          "model_name": "HTMLModel",
          "state": {
            "_view_name": "HTMLView",
            "style": "IPY_MODEL_6bb375728f1f4c718124d6b57c0ed8f4",
            "_dom_classes": [],
            "description": "",
            "_model_name": "HTMLModel",
            "placeholder": "​",
            "_view_module": "@jupyter-widgets/controls",
            "_model_module_version": "1.5.0",
            "value": " 73/73 [04:35&lt;00:00,  3.78s/it]",
            "_view_count": null,
            "_view_module_version": "1.5.0",
            "description_tooltip": null,
            "_model_module": "@jupyter-widgets/controls",
            "layout": "IPY_MODEL_ee93c0bff14c426096a449e9e1698dae"
          }
        },
        "7ec627cd410c4a10803d613f2e499c9e": {
          "model_module": "@jupyter-widgets/controls",
          "model_name": "ProgressStyleModel",
          "state": {
            "_view_name": "StyleView",
            "_model_name": "ProgressStyleModel",
            "description_width": "initial",
            "_view_module": "@jupyter-widgets/base",
            "_model_module_version": "1.5.0",
            "_view_count": null,
            "_view_module_version": "1.2.0",
            "bar_color": null,
            "_model_module": "@jupyter-widgets/controls"
          }
        },
        "b5d5a0b9133c442fb78ccb6c91599406": {
          "model_module": "@jupyter-widgets/base",
          "model_name": "LayoutModel",
          "state": {
            "_view_name": "LayoutView",
            "grid_template_rows": null,
            "right": null,
            "justify_content": null,
            "_view_module": "@jupyter-widgets/base",
            "overflow": null,
            "_model_module_version": "1.2.0",
            "_view_count": null,
            "flex_flow": null,
            "width": null,
            "min_width": null,
            "border": null,
            "align_items": null,
            "bottom": null,
            "_model_module": "@jupyter-widgets/base",
            "top": null,
            "grid_column": null,
            "overflow_y": null,
            "overflow_x": null,
            "grid_auto_flow": null,
            "grid_area": null,
            "grid_template_columns": null,
            "flex": null,
            "_model_name": "LayoutModel",
            "justify_items": null,
            "grid_row": null,
            "max_height": null,
            "align_content": null,
            "visibility": null,
            "align_self": null,
            "height": null,
            "min_height": null,
            "padding": null,
            "grid_auto_rows": null,
            "grid_gap": null,
            "max_width": null,
            "order": null,
            "_view_module_version": "1.2.0",
            "grid_template_areas": null,
            "object_position": null,
            "object_fit": null,
            "grid_auto_columns": null,
            "margin": null,
            "display": null,
            "left": null
          }
        },
        "6bb375728f1f4c718124d6b57c0ed8f4": {
          "model_module": "@jupyter-widgets/controls",
          "model_name": "DescriptionStyleModel",
          "state": {
            "_view_name": "StyleView",
            "_model_name": "DescriptionStyleModel",
            "description_width": "",
            "_view_module": "@jupyter-widgets/base",
            "_model_module_version": "1.5.0",
            "_view_count": null,
            "_view_module_version": "1.2.0",
            "_model_module": "@jupyter-widgets/controls"
          }
        },
        "ee93c0bff14c426096a449e9e1698dae": {
          "model_module": "@jupyter-widgets/base",
          "model_name": "LayoutModel",
          "state": {
            "_view_name": "LayoutView",
            "grid_template_rows": null,
            "right": null,
            "justify_content": null,
            "_view_module": "@jupyter-widgets/base",
            "overflow": null,
            "_model_module_version": "1.2.0",
            "_view_count": null,
            "flex_flow": null,
            "width": null,
            "min_width": null,
            "border": null,
            "align_items": null,
            "bottom": null,
            "_model_module": "@jupyter-widgets/base",
            "top": null,
            "grid_column": null,
            "overflow_y": null,
            "overflow_x": null,
            "grid_auto_flow": null,
            "grid_area": null,
            "grid_template_columns": null,
            "flex": null,
            "_model_name": "LayoutModel",
            "justify_items": null,
            "grid_row": null,
            "max_height": null,
            "align_content": null,
            "visibility": null,
            "align_self": null,
            "height": null,
            "min_height": null,
            "padding": null,
            "grid_auto_rows": null,
            "grid_gap": null,
            "max_width": null,
            "order": null,
            "_view_module_version": "1.2.0",
            "grid_template_areas": null,
            "object_position": null,
            "object_fit": null,
            "grid_auto_columns": null,
            "margin": null,
            "display": null,
            "left": null
          }
        }
      }
    }
  },
  "cells": [
    {
      "cell_type": "markdown",
      "metadata": {
        "id": "view-in-github",
        "colab_type": "text"
      },
      "source": [
        "<a href=\"https://colab.research.google.com/github/kyochanpy/Google_Smartphone_Decimeter_Challenge/blob/main/PP/outlier_train_per_95.ipynb\" target=\"_parent\"><img src=\"https://colab.research.google.com/assets/colab-badge.svg\" alt=\"Open In Colab\"/></a>"
      ]
    },
    {
      "cell_type": "code",
      "metadata": {
        "id": "WF1nGXR9ecKG"
      },
      "source": [
        "from pathlib import Path \n",
        "import pandas as pd\n",
        "import numpy as np\n",
        "from tqdm.notebook import tqdm"
      ],
      "execution_count": 1,
      "outputs": []
    },
    {
      "cell_type": "code",
      "metadata": {
        "colab": {
          "base_uri": "https://localhost:8080/",
          "height": 66,
          "referenced_widgets": [
            "e46b15ef6a5d485e927d7c62b95b570a",
            "5cafcb3a2b5a4966b2cccd5a01ffe0f6",
            "494cd86584b04065bdedbe7520c847b9",
            "dbc102206a0244aeb2bd9490a4320a02",
            "7ec627cd410c4a10803d613f2e499c9e",
            "b5d5a0b9133c442fb78ccb6c91599406",
            "6bb375728f1f4c718124d6b57c0ed8f4",
            "ee93c0bff14c426096a449e9e1698dae"
          ]
        },
        "id": "BKx9k1QhedRC",
        "outputId": "852ba5ae-bc99-4901-87bf-6621a49804cf"
      },
      "source": [
        "# data\n",
        "path = Path(\"/content/drive/MyDrive/GSDC\")\n",
        "test_base = pd.read_csv(path / \"baseline_locations_test.csv\")\n",
        "sub = pd.read_csv(path / \"sample_submission.csv\")\n",
        "\n",
        "truths = (path / \"train\").rglob(\"ground_truth.csv\")\n",
        "\n",
        "df_list = []\n",
        "cols = [\"collectionName\", \"phoneName\", \"millisSinceGpsEpoch\", \"latDeg\", \"lngDeg\"]\n",
        "\n",
        "for t in tqdm(truths, total=73):\n",
        "    df_phone = pd.read_csv(t, usecols=cols)\n",
        "    df_list.append(df_phone)\n",
        "df_truth = pd.concat(df_list, ignore_index=True)\n",
        "\n",
        "train_base = pd.read_csv(path / \"baseline_locations_train.csv\", usecols=cols)\n",
        "all_df = df_truth.merge(train_base, how=\"inner\", on=cols[:3], suffixes=(\"_truth\", '_train_base'))"
      ],
      "execution_count": 3,
      "outputs": [
        {
          "output_type": "display_data",
          "data": {
            "application/vnd.jupyter.widget-view+json": {
              "model_id": "e46b15ef6a5d485e927d7c62b95b570a",
              "version_minor": 0,
              "version_major": 2
            },
            "text/plain": [
              "HBox(children=(FloatProgress(value=0.0, max=73.0), HTML(value='')))"
            ]
          },
          "metadata": {
            "tags": []
          }
        },
        {
          "output_type": "stream",
          "text": [
            "\n"
          ],
          "name": "stdout"
        }
      ]
    },
    {
      "cell_type": "code",
      "metadata": {
        "id": "cJzRKkVken0H"
      },
      "source": [
        "def outlier_train_per_95(input_df):\n",
        "    output_df = input_df\n",
        "\n",
        "    def calc_haversine(lat1, lon1, lat2, lon2):\n",
        "        RADIUS = 6_367_000\n",
        "        lat1, lon1, lat2, lon2 = map(np.radians, [lat1, lon1, lat2, lon2])\n",
        "        dlat = lat2 - lat1\n",
        "        dlon = lon2 - lon1\n",
        "        d = np.sin(dlat/2)**2 + np.cos(lat1) * np.cos(lat2) * np.sin(dlon/2)**2\n",
        "        dist = 2 * RADIUS * np.arcsin(d**0.5)\n",
        "        return dist\n",
        "    \n",
        "    output_df['dist'] = calc_haversine(output_df.latDeg_truth, output_df.lngDeg_truth,\n",
        "                                        output_df.latDeg_train_base, output_df.lngDeg_train_base)\n",
        "    \n",
        "    per_95 = output_df['dist'].mean() + (output_df['dist'].std() * 2)\n",
        "    ind = output_df[(output_df['dist'] > per_95)][['dist']].index\n",
        "\n",
        "    for i in ind:\n",
        "        output_df.loc[i,'latDeg_train_base'] = (output_df.loc[i-1,'latDeg_train_base'] + output_df.loc[i+1,'latDeg_train_base'])/2\n",
        "        output_df.loc[i,'lngDeg_train_base'] = (output_df.loc[i-1,'lngDeg_train_base'] + output_df.loc[i+1,'lngDeg_train_base'])/2\n",
        "\n",
        "    return output_df"
      ],
      "execution_count": 8,
      "outputs": []
    },
    {
      "cell_type": "code",
      "metadata": {
        "id": "vCfOHwGlgdQM"
      },
      "source": [
        "a = outlier_train_per_95(all_df)"
      ],
      "execution_count": 9,
      "outputs": []
    },
    {
      "cell_type": "code",
      "metadata": {
        "colab": {
          "base_uri": "https://localhost:8080/"
        },
        "id": "tqcfRTCJghCD",
        "outputId": "11be274b-6953-4274-d842-7a59bfeefeb9"
      },
      "source": [
        "a.dist.describe()"
      ],
      "execution_count": 10,
      "outputs": [
        {
          "output_type": "execute_result",
          "data": {
            "text/plain": [
              "count    131342.000000\n",
              "mean          3.846848\n",
              "std          30.739767\n",
              "min           0.001338\n",
              "25%           1.210976\n",
              "50%           2.065769\n",
              "75%           3.560001\n",
              "max        8340.257976\n",
              "Name: dist, dtype: float64"
            ]
          },
          "metadata": {
            "tags": []
          },
          "execution_count": 10
        }
      ]
    },
    {
      "cell_type": "code",
      "metadata": {
        "colab": {
          "base_uri": "https://localhost:8080/"
        },
        "id": "GP6yNqXTg8GJ",
        "outputId": "3d800d59-2871-41e9-db83-41419f3b7b70"
      },
      "source": [
        "train_base.latDeg.describe()"
      ],
      "execution_count": 12,
      "outputs": [
        {
          "output_type": "execute_result",
          "data": {
            "text/plain": [
              "count    131342.000000\n",
              "mean         37.435206\n",
              "std           0.082712\n",
              "min          37.321683\n",
              "25%          37.371575\n",
              "50%          37.424360\n",
              "75%          37.469109\n",
              "max          37.690836\n",
              "Name: latDeg, dtype: float64"
            ]
          },
          "metadata": {
            "tags": []
          },
          "execution_count": 12
        }
      ]
    },
    {
      "cell_type": "code",
      "metadata": {
        "id": "G1sxHQini7Co"
      },
      "source": [
        ""
      ],
      "execution_count": null,
      "outputs": []
    }
  ]
}