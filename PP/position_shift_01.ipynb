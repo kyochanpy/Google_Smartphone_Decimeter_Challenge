{
  "nbformat": 4,
  "nbformat_minor": 0,
  "metadata": {
    "colab": {
      "name": "Untitled100.ipynb",
      "provenance": [],
      "mount_file_id": "1lMiZ0XZJeC4ZJH5O3PngDoXoy3pT083r",
      "authorship_tag": "ABX9TyMSuAVXdI0PcTGZs50pWrOd",
      "include_colab_link": true
    },
    "kernelspec": {
      "name": "python3",
      "display_name": "Python 3"
    },
    "language_info": {
      "name": "python"
    }
  },
  "cells": [
    {
      "cell_type": "markdown",
      "metadata": {
        "id": "view-in-github",
        "colab_type": "text"
      },
      "source": [
        "<a href=\"https://colab.research.google.com/github/kyochanpy/Google_Smartphone_Decimeter_Challenge/blob/main/PP/position_shift_01.ipynb\" target=\"_parent\"><img src=\"https://colab.research.google.com/assets/colab-badge.svg\" alt=\"Open In Colab\"/></a>"
      ]
    },
    {
      "cell_type": "code",
      "metadata": {
        "colab": {
          "base_uri": "https://localhost:8080/"
        },
        "id": "oN1HQr_06bAX",
        "outputId": "94029d70-f33d-4ddb-e57d-d5f9da77097b"
      },
      "source": [
        "!pip install optuna"
      ],
      "execution_count": 30,
      "outputs": [
        {
          "output_type": "stream",
          "text": [
            "Collecting optuna\n",
            "\u001b[?25l  Downloading https://files.pythonhosted.org/packages/1a/18/b49ca91cf592747e19f2d333c2a86cd7c81895b922a5a09adf6335471576/optuna-2.8.0-py3-none-any.whl (301kB)\n",
            "\u001b[K     |████████████████████████████████| 307kB 4.0MB/s \n",
            "\u001b[?25hCollecting colorlog\n",
            "  Downloading https://files.pythonhosted.org/packages/32/e6/e9ddc6fa1104fda718338b341e4b3dc31cd8039ab29e52fc73b508515361/colorlog-5.0.1-py2.py3-none-any.whl\n",
            "Requirement already satisfied: sqlalchemy>=1.1.0 in /usr/local/lib/python3.7/dist-packages (from optuna) (1.4.18)\n",
            "Requirement already satisfied: numpy in /usr/local/lib/python3.7/dist-packages (from optuna) (1.19.5)\n",
            "Requirement already satisfied: scipy!=1.4.0 in /usr/local/lib/python3.7/dist-packages (from optuna) (1.4.1)\n",
            "Requirement already satisfied: packaging>=20.0 in /usr/local/lib/python3.7/dist-packages (from optuna) (20.9)\n",
            "Collecting alembic\n",
            "\u001b[?25l  Downloading https://files.pythonhosted.org/packages/d5/80/ef186e599a57d0e4cb78fc76e0bfc2e6953fa9716b2a5cf2de0117ed8eb5/alembic-1.6.5-py2.py3-none-any.whl (164kB)\n",
            "\u001b[K     |████████████████████████████████| 174kB 10.5MB/s \n",
            "\u001b[?25hCollecting cmaes>=0.8.2\n",
            "  Downloading https://files.pythonhosted.org/packages/01/1f/43b01223a0366171f474320c6e966c39a11587287f098a5f09809b45e05f/cmaes-0.8.2-py3-none-any.whl\n",
            "Requirement already satisfied: tqdm in /usr/local/lib/python3.7/dist-packages (from optuna) (4.41.1)\n",
            "Collecting cliff\n",
            "\u001b[?25l  Downloading https://files.pythonhosted.org/packages/87/11/aea1cacbd4cf8262809c4d6f95dcb3f2802594de1f51c5bd454d69bf15c5/cliff-3.8.0-py3-none-any.whl (80kB)\n",
            "\u001b[K     |████████████████████████████████| 81kB 5.7MB/s \n",
            "\u001b[?25hRequirement already satisfied: greenlet!=0.4.17; python_version >= \"3\" in /usr/local/lib/python3.7/dist-packages (from sqlalchemy>=1.1.0->optuna) (1.1.0)\n",
            "Requirement already satisfied: importlib-metadata; python_version < \"3.8\" in /usr/local/lib/python3.7/dist-packages (from sqlalchemy>=1.1.0->optuna) (4.5.0)\n",
            "Requirement already satisfied: pyparsing>=2.0.2 in /usr/local/lib/python3.7/dist-packages (from packaging>=20.0->optuna) (2.4.7)\n",
            "Collecting Mako\n",
            "\u001b[?25l  Downloading https://files.pythonhosted.org/packages/f3/54/dbc07fbb20865d3b78fdb7cf7fa713e2cba4f87f71100074ef2dc9f9d1f7/Mako-1.1.4-py2.py3-none-any.whl (75kB)\n",
            "\u001b[K     |████████████████████████████████| 81kB 5.3MB/s \n",
            "\u001b[?25hRequirement already satisfied: python-dateutil in /usr/local/lib/python3.7/dist-packages (from alembic->optuna) (2.8.1)\n",
            "Collecting python-editor>=0.3\n",
            "  Downloading https://files.pythonhosted.org/packages/c6/d3/201fc3abe391bbae6606e6f1d598c15d367033332bd54352b12f35513717/python_editor-1.0.4-py3-none-any.whl\n",
            "Collecting pbr!=2.1.0,>=2.0.0\n",
            "\u001b[?25l  Downloading https://files.pythonhosted.org/packages/18/e0/1d4702dd81121d04a477c272d47ee5b6bc970d1a0990b11befa275c55cf2/pbr-5.6.0-py2.py3-none-any.whl (111kB)\n",
            "\u001b[K     |████████████████████████████████| 112kB 10.3MB/s \n",
            "\u001b[?25hRequirement already satisfied: PyYAML>=3.12 in /usr/local/lib/python3.7/dist-packages (from cliff->optuna) (3.13)\n",
            "Requirement already satisfied: PrettyTable>=0.7.2 in /usr/local/lib/python3.7/dist-packages (from cliff->optuna) (2.1.0)\n",
            "Collecting stevedore>=2.0.1\n",
            "\u001b[?25l  Downloading https://files.pythonhosted.org/packages/d4/49/b602307aeac3df3384ff1fcd05da9c0376c622a6c48bb5325f28ab165b57/stevedore-3.3.0-py3-none-any.whl (49kB)\n",
            "\u001b[K     |████████████████████████████████| 51kB 4.9MB/s \n",
            "\u001b[?25hCollecting cmd2>=1.0.0\n",
            "\u001b[?25l  Downloading https://files.pythonhosted.org/packages/e3/6a/e929ec70ca05c5962f6541ef29fb9c207dd41f0f2333680fa39f44fa4357/cmd2-2.1.1-py3-none-any.whl (140kB)\n",
            "\u001b[K     |████████████████████████████████| 143kB 9.8MB/s \n",
            "\u001b[?25hRequirement already satisfied: zipp>=0.5 in /usr/local/lib/python3.7/dist-packages (from importlib-metadata; python_version < \"3.8\"->sqlalchemy>=1.1.0->optuna) (3.4.1)\n",
            "Requirement already satisfied: typing-extensions>=3.6.4; python_version < \"3.8\" in /usr/local/lib/python3.7/dist-packages (from importlib-metadata; python_version < \"3.8\"->sqlalchemy>=1.1.0->optuna) (3.7.4.3)\n",
            "Requirement already satisfied: MarkupSafe>=0.9.2 in /usr/local/lib/python3.7/dist-packages (from Mako->alembic->optuna) (2.0.1)\n",
            "Requirement already satisfied: six>=1.5 in /usr/local/lib/python3.7/dist-packages (from python-dateutil->alembic->optuna) (1.15.0)\n",
            "Requirement already satisfied: wcwidth in /usr/local/lib/python3.7/dist-packages (from PrettyTable>=0.7.2->cliff->optuna) (0.2.5)\n",
            "Requirement already satisfied: attrs>=16.3.0 in /usr/local/lib/python3.7/dist-packages (from cmd2>=1.0.0->cliff->optuna) (21.2.0)\n",
            "Collecting pyperclip>=1.6\n",
            "  Downloading https://files.pythonhosted.org/packages/a7/2c/4c64579f847bd5d539803c8b909e54ba087a79d01bb3aba433a95879a6c5/pyperclip-1.8.2.tar.gz\n",
            "Collecting colorama>=0.3.7\n",
            "  Downloading https://files.pythonhosted.org/packages/44/98/5b86278fbbf250d239ae0ecb724f8572af1c91f4a11edf4d36a206189440/colorama-0.4.4-py2.py3-none-any.whl\n",
            "Building wheels for collected packages: pyperclip\n",
            "  Building wheel for pyperclip (setup.py) ... \u001b[?25l\u001b[?25hdone\n",
            "  Created wheel for pyperclip: filename=pyperclip-1.8.2-cp37-none-any.whl size=11136 sha256=d23e096d65ee75a6c19f43decd25d10e6eba70ad4fd070220b7f34966136447b\n",
            "  Stored in directory: /root/.cache/pip/wheels/25/af/b8/3407109267803f4015e1ee2ff23be0c8c19ce4008665931ee1\n",
            "Successfully built pyperclip\n",
            "Installing collected packages: colorlog, Mako, python-editor, alembic, cmaes, pbr, stevedore, pyperclip, colorama, cmd2, cliff, optuna\n",
            "Successfully installed Mako-1.1.4 alembic-1.6.5 cliff-3.8.0 cmaes-0.8.2 cmd2-2.1.1 colorama-0.4.4 colorlog-5.0.1 optuna-2.8.0 pbr-5.6.0 pyperclip-1.8.2 python-editor-1.0.4 stevedore-3.3.0\n"
          ],
          "name": "stdout"
        }
      ]
    },
    {
      "cell_type": "code",
      "metadata": {
        "colab": {
          "base_uri": "https://localhost:8080/"
        },
        "id": "KPegaG2A4Qj-",
        "outputId": "a905cef3-d7d8-4f2a-da8f-78a2584bb394"
      },
      "source": [
        "!pip install pyproj"
      ],
      "execution_count": 2,
      "outputs": [
        {
          "output_type": "stream",
          "text": [
            "Collecting pyproj\n",
            "\u001b[?25l  Downloading https://files.pythonhosted.org/packages/11/1d/1c54c672c2faf08d28fe78e15d664c048f786225bef95ad87b6c435cf69e/pyproj-3.1.0-cp37-cp37m-manylinux2010_x86_64.whl (6.6MB)\n",
            "\u001b[K     |████████████████████████████████| 6.6MB 2.3MB/s \n",
            "\u001b[?25hRequirement already satisfied: certifi in /usr/local/lib/python3.7/dist-packages (from pyproj) (2021.5.30)\n",
            "Installing collected packages: pyproj\n",
            "Successfully installed pyproj-3.1.0\n"
          ],
          "name": "stdout"
        }
      ]
    },
    {
      "cell_type": "code",
      "metadata": {
        "id": "zrmsNS3B03ls"
      },
      "source": [
        "import numpy as np\n",
        "import pandas as pd\n",
        "from tqdm.notebook import tqdm\n",
        "import os\n",
        "from pathlib import Path\n",
        "import pyproj\n",
        "from pyproj import Proj, transform"
      ],
      "execution_count": 8,
      "outputs": []
    },
    {
      "cell_type": "code",
      "metadata": {
        "id": "Xd4Wi8IP4Ova"
      },
      "source": [
        "def calc_haversine(lat1, lon1, lat2, lon2):\n",
        "    RADIUS = 6_367_000\n",
        "    lat1, lon1, lat2, lon2 = map(np.radians, [lat1, lon1, lat2, lon2])\n",
        "    dlat = lat2 - lat1\n",
        "    dlon = lon2 - lon1\n",
        "    d = np.sin(dlat/2)**2 + np.cos(lat1) * np.cos(lat2) * np.sin(dlon/2)**2\n",
        "    dist = 2 * RADIUS * np.arcsin(d**0.5)\n",
        "    return dist\n",
        "\n",
        "\n",
        "def compute_dist(fname_1, fname_2=g_t):\n",
        "    oof = fname_1\n",
        "    g_t = fname_2\n",
        "    df = oof.merge(g_t, on=[\"phone\", \"millisSinceGpsEpoch\"])\n",
        "    dist_oof = calc_haversine(df.latDeg_x, df.lngDeg_x, df.latDeg_y, df.lngDeg_y)\n",
        "    scores = pd.DataFrame({\"phone\":df.phone, \"dist\":dist_oof})\n",
        "    scores_grp = scores.groupby(\"phone\")\n",
        "    d_50 = scores_grp.quantile(.50).reset_index()\n",
        "    d_50.columns = [\"phone\", \"q_50\"]\n",
        "    d_95 = scores_grp.quantile(.95).reset_index()\n",
        "    d_95.columns = [\"phone\", \"q_95\"]\n",
        "    return (scores_grp.quantile(.50).mean() + scores_grp.quantile(.95).mean()) / 2, d_50.merge(d_95)\n",
        "\n",
        "\n",
        "def WGS84_to_ECEF(lat, lon, alt):\n",
        "    rad_lat = lat * (np.pi / 180.0)\n",
        "    rad_lon = lon * (np.pi / 180.0)\n",
        "    a = 6378137.0\n",
        "    finv = 298.257223563\n",
        "    f = 1 / finv   \n",
        "    e2 = 1 - (1 - f) * (1 - f)    \n",
        "    N = a / np.sqrt(1 - e2 * np.sin(rad_lat) * np.sin(rad_lat))\n",
        "    x = (N + alt) * np.cos(rad_lat) * np.cos(rad_lon)\n",
        "    y = (N + alt) * np.cos(rad_lat) * np.sin(rad_lon)\n",
        "    z = (N * (1 - e2) + alt)        * np.sin(rad_lat)\n",
        "    return x, y, z    \n",
        "\n",
        "\n",
        "transformer = pyproj.Transformer.from_crs(\n",
        "    {\"proj\":'geocent', \"ellps\":'WGS84', \"datum\":'WGS84'},\n",
        "    {\"proj\":'latlong', \"ellps\":'WGS84', \"datum\":'WGS84'},)\n",
        "\n",
        "\n",
        "def ECEF_to_WGS84(x, y, z):\n",
        "    lon, lat, alt = transformer.transform(x, y, z, radians=False)\n",
        "    return lon, lat, alt"
      ],
      "execution_count": 38,
      "outputs": []
    },
    {
      "cell_type": "code",
      "metadata": {
        "id": "eBWNtADgA5jf"
      },
      "source": [
        "datadir = Path('/content/drive/MyDrive/GSDC')\n",
        "testdir = datadir / 'test'\n",
        "traindir = datadir / 'train'\n",
        "\n",
        "sample_sub = pd.read_csv(datadir/'sample_submission.csv')\n",
        "sub_cols = sample_sub.columns\n",
        "\n",
        "train_base = pd.read_csv(datadir / 'baseline_locations_train.csv')\n",
        "train_b = train_base[sub_cols]\n",
        "test_base = pd.read_csv(datadir / 'baseline_locations_test.csv')\n",
        "test_b = test_base[sub_cols]\n",
        "\n",
        "msge = \"millisSinceGpsEpoch\""
      ],
      "execution_count": 18,
      "outputs": []
    },
    {
      "cell_type": "code",
      "metadata": {
        "colab": {
          "base_uri": "https://localhost:8080/",
          "height": 309
        },
        "id": "JorxQrQiEodE",
        "outputId": "c8f81eba-75c7-4f5e-e12b-4764f8df213f"
      },
      "source": [
        "datadir = Path('/content/drive/MyDrive/GSDC')\n",
        "testdir = datadir / 'test'\n",
        "traindir = datadir / 'train'\n",
        "\n",
        "g_t = pd.DataFrame()\n",
        "for d in os.listdir(traindir):\n",
        "    for p in os.listdir(traindir/d):\n",
        "        g_t = g_t.append(pd.read_csv(traindir/d/p/'ground_truth.csv'))\n",
        "g_t.head()"
      ],
      "execution_count": 20,
      "outputs": [
        {
          "output_type": "execute_result",
          "data": {
            "text/html": [
              "<div>\n",
              "<style scoped>\n",
              "    .dataframe tbody tr th:only-of-type {\n",
              "        vertical-align: middle;\n",
              "    }\n",
              "\n",
              "    .dataframe tbody tr th {\n",
              "        vertical-align: top;\n",
              "    }\n",
              "\n",
              "    .dataframe thead th {\n",
              "        text-align: right;\n",
              "    }\n",
              "</style>\n",
              "<table border=\"1\" class=\"dataframe\">\n",
              "  <thead>\n",
              "    <tr style=\"text-align: right;\">\n",
              "      <th></th>\n",
              "      <th>collectionName</th>\n",
              "      <th>phoneName</th>\n",
              "      <th>millisSinceGpsEpoch</th>\n",
              "      <th>latDeg</th>\n",
              "      <th>lngDeg</th>\n",
              "      <th>heightAboveWgs84EllipsoidM</th>\n",
              "      <th>timeSinceFirstFixSeconds</th>\n",
              "      <th>hDop</th>\n",
              "      <th>vDop</th>\n",
              "      <th>speedMps</th>\n",
              "      <th>courseDegree</th>\n",
              "    </tr>\n",
              "  </thead>\n",
              "  <tbody>\n",
              "    <tr>\n",
              "      <th>0</th>\n",
              "      <td>2020-05-14-US-MTV-1</td>\n",
              "      <td>Pixel4</td>\n",
              "      <td>1273529463442</td>\n",
              "      <td>37.423576</td>\n",
              "      <td>-122.094132</td>\n",
              "      <td>33.21</td>\n",
              "      <td>551.44</td>\n",
              "      <td>1.1</td>\n",
              "      <td>0.0</td>\n",
              "      <td>0.0</td>\n",
              "      <td>12.7</td>\n",
              "    </tr>\n",
              "    <tr>\n",
              "      <th>1</th>\n",
              "      <td>2020-05-14-US-MTV-1</td>\n",
              "      <td>Pixel4</td>\n",
              "      <td>1273529464442</td>\n",
              "      <td>37.423576</td>\n",
              "      <td>-122.094132</td>\n",
              "      <td>33.21</td>\n",
              "      <td>552.44</td>\n",
              "      <td>1.1</td>\n",
              "      <td>0.0</td>\n",
              "      <td>0.0</td>\n",
              "      <td>12.7</td>\n",
              "    </tr>\n",
              "    <tr>\n",
              "      <th>2</th>\n",
              "      <td>2020-05-14-US-MTV-1</td>\n",
              "      <td>Pixel4</td>\n",
              "      <td>1273529465442</td>\n",
              "      <td>37.423576</td>\n",
              "      <td>-122.094132</td>\n",
              "      <td>33.21</td>\n",
              "      <td>553.44</td>\n",
              "      <td>1.1</td>\n",
              "      <td>0.0</td>\n",
              "      <td>0.0</td>\n",
              "      <td>12.7</td>\n",
              "    </tr>\n",
              "    <tr>\n",
              "      <th>3</th>\n",
              "      <td>2020-05-14-US-MTV-1</td>\n",
              "      <td>Pixel4</td>\n",
              "      <td>1273529466442</td>\n",
              "      <td>37.423576</td>\n",
              "      <td>-122.094132</td>\n",
              "      <td>33.20</td>\n",
              "      <td>554.44</td>\n",
              "      <td>1.1</td>\n",
              "      <td>0.0</td>\n",
              "      <td>0.0</td>\n",
              "      <td>12.7</td>\n",
              "    </tr>\n",
              "    <tr>\n",
              "      <th>4</th>\n",
              "      <td>2020-05-14-US-MTV-1</td>\n",
              "      <td>Pixel4</td>\n",
              "      <td>1273529467442</td>\n",
              "      <td>37.423576</td>\n",
              "      <td>-122.094132</td>\n",
              "      <td>33.20</td>\n",
              "      <td>555.44</td>\n",
              "      <td>1.1</td>\n",
              "      <td>0.0</td>\n",
              "      <td>0.0</td>\n",
              "      <td>12.7</td>\n",
              "    </tr>\n",
              "  </tbody>\n",
              "</table>\n",
              "</div>"
            ],
            "text/plain": [
              "        collectionName phoneName  ...  speedMps  courseDegree\n",
              "0  2020-05-14-US-MTV-1    Pixel4  ...       0.0          12.7\n",
              "1  2020-05-14-US-MTV-1    Pixel4  ...       0.0          12.7\n",
              "2  2020-05-14-US-MTV-1    Pixel4  ...       0.0          12.7\n",
              "3  2020-05-14-US-MTV-1    Pixel4  ...       0.0          12.7\n",
              "4  2020-05-14-US-MTV-1    Pixel4  ...       0.0          12.7\n",
              "\n",
              "[5 rows x 11 columns]"
            ]
          },
          "metadata": {
            "tags": []
          },
          "execution_count": 20
        }
      ]
    },
    {
      "cell_type": "code",
      "metadata": {
        "colab": {
          "base_uri": "https://localhost:8080/"
        },
        "id": "OT2nadn3E1Js",
        "outputId": "81237eaa-bd43-4757-c970-971541da2f0a"
      },
      "source": [
        "g_t[\"phone\"] = g_t[\"collectionName\"] + \"_\" + g_t[\"phoneName\"]\n",
        "g_t_sub_cols = g_t[sub_cols]\n",
        "g_t[\"heightAboveWgs84EllipsoidM\"].describe()"
      ],
      "execution_count": 21,
      "outputs": [
        {
          "output_type": "execute_result",
          "data": {
            "text/plain": [
              "count    131342.000000\n",
              "mean         87.028847\n",
              "std          56.999876\n",
              "min          31.160000\n",
              "25%          37.160000\n",
              "50%          63.520000\n",
              "75%         122.330000\n",
              "max         247.850000\n",
              "Name: heightAboveWgs84EllipsoidM, dtype: float64"
            ]
          },
          "metadata": {
            "tags": []
          },
          "execution_count": 21
        }
      ]
    },
    {
      "cell_type": "code",
      "metadata": {
        "colab": {
          "base_uri": "https://localhost:8080/",
          "height": 454
        },
        "id": "3s9Blr-hGcL1",
        "outputId": "d57677ee-e22f-46c4-e968-491af3859826"
      },
      "source": [
        "score, scores = compute_dist(train_b, g_t_sub_cols)\n",
        "print(score)\n",
        "scores"
      ],
      "execution_count": 28,
      "outputs": [
        {
          "output_type": "stream",
          "text": [
            "dist    5.287971\n",
            "dtype: float64\n"
          ],
          "name": "stdout"
        },
        {
          "output_type": "execute_result",
          "data": {
            "text/html": [
              "<div>\n",
              "<style scoped>\n",
              "    .dataframe tbody tr th:only-of-type {\n",
              "        vertical-align: middle;\n",
              "    }\n",
              "\n",
              "    .dataframe tbody tr th {\n",
              "        vertical-align: top;\n",
              "    }\n",
              "\n",
              "    .dataframe thead th {\n",
              "        text-align: right;\n",
              "    }\n",
              "</style>\n",
              "<table border=\"1\" class=\"dataframe\">\n",
              "  <thead>\n",
              "    <tr style=\"text-align: right;\">\n",
              "      <th></th>\n",
              "      <th>phone</th>\n",
              "      <th>q_50</th>\n",
              "      <th>q_95</th>\n",
              "    </tr>\n",
              "  </thead>\n",
              "  <tbody>\n",
              "    <tr>\n",
              "      <th>0</th>\n",
              "      <td>2020-05-14-US-MTV-1_Pixel4</td>\n",
              "      <td>1.313621</td>\n",
              "      <td>2.887582</td>\n",
              "    </tr>\n",
              "    <tr>\n",
              "      <th>1</th>\n",
              "      <td>2020-05-14-US-MTV-1_Pixel4XLModded</td>\n",
              "      <td>1.987538</td>\n",
              "      <td>4.352359</td>\n",
              "    </tr>\n",
              "    <tr>\n",
              "      <th>2</th>\n",
              "      <td>2020-05-14-US-MTV-2_Pixel4</td>\n",
              "      <td>1.367776</td>\n",
              "      <td>2.799897</td>\n",
              "    </tr>\n",
              "    <tr>\n",
              "      <th>3</th>\n",
              "      <td>2020-05-14-US-MTV-2_Pixel4XLModded</td>\n",
              "      <td>3.357252</td>\n",
              "      <td>11.367965</td>\n",
              "    </tr>\n",
              "    <tr>\n",
              "      <th>4</th>\n",
              "      <td>2020-05-21-US-MTV-1_Pixel4</td>\n",
              "      <td>1.810603</td>\n",
              "      <td>4.670839</td>\n",
              "    </tr>\n",
              "    <tr>\n",
              "      <th>...</th>\n",
              "      <td>...</td>\n",
              "      <td>...</td>\n",
              "      <td>...</td>\n",
              "    </tr>\n",
              "    <tr>\n",
              "      <th>68</th>\n",
              "      <td>2021-04-29-US-MTV-1_Pixel4</td>\n",
              "      <td>6.027567</td>\n",
              "      <td>16.040323</td>\n",
              "    </tr>\n",
              "    <tr>\n",
              "      <th>69</th>\n",
              "      <td>2021-04-29-US-MTV-1_Pixel5</td>\n",
              "      <td>6.595323</td>\n",
              "      <td>15.591238</td>\n",
              "    </tr>\n",
              "    <tr>\n",
              "      <th>70</th>\n",
              "      <td>2021-04-29-US-MTV-1_SamsungS20Ultra</td>\n",
              "      <td>6.346009</td>\n",
              "      <td>13.736971</td>\n",
              "    </tr>\n",
              "    <tr>\n",
              "      <th>71</th>\n",
              "      <td>2021-04-29-US-SJC-2_Pixel4</td>\n",
              "      <td>4.837470</td>\n",
              "      <td>35.527722</td>\n",
              "    </tr>\n",
              "    <tr>\n",
              "      <th>72</th>\n",
              "      <td>2021-04-29-US-SJC-2_SamsungS20Ultra</td>\n",
              "      <td>5.944472</td>\n",
              "      <td>32.945158</td>\n",
              "    </tr>\n",
              "  </tbody>\n",
              "</table>\n",
              "<p>73 rows × 3 columns</p>\n",
              "</div>"
            ],
            "text/plain": [
              "                                  phone      q_50       q_95\n",
              "0            2020-05-14-US-MTV-1_Pixel4  1.313621   2.887582\n",
              "1    2020-05-14-US-MTV-1_Pixel4XLModded  1.987538   4.352359\n",
              "2            2020-05-14-US-MTV-2_Pixel4  1.367776   2.799897\n",
              "3    2020-05-14-US-MTV-2_Pixel4XLModded  3.357252  11.367965\n",
              "4            2020-05-21-US-MTV-1_Pixel4  1.810603   4.670839\n",
              "..                                  ...       ...        ...\n",
              "68           2021-04-29-US-MTV-1_Pixel4  6.027567  16.040323\n",
              "69           2021-04-29-US-MTV-1_Pixel5  6.595323  15.591238\n",
              "70  2021-04-29-US-MTV-1_SamsungS20Ultra  6.346009  13.736971\n",
              "71           2021-04-29-US-SJC-2_Pixel4  4.837470  35.527722\n",
              "72  2021-04-29-US-SJC-2_SamsungS20Ultra  5.944472  32.945158\n",
              "\n",
              "[73 rows x 3 columns]"
            ]
          },
          "metadata": {
            "tags": []
          },
          "execution_count": 28
        }
      ]
    },
    {
      "cell_type": "code",
      "metadata": {
        "id": "4Tw0RbCdHmN2"
      },
      "source": [
        "import optuna\n",
        "\n",
        "def position_shift(input_df, a):\n",
        "    output_df = input_df.copy()\n",
        "    output_df[\"heightAboveWgs84EllipsoidM\"] = 63.5\n",
        "    output_df[\"x\"], output_df[\"y\"], output_df[\"z\"] = zip(*output_df.apply(lambda x: WGS84_to_ECEF(x.latDeg, x.lngDeg, \n",
        "                                                                                                  x.heightAboveWgs84EllipsoidM), axis=1))\n",
        "    output_df.sort_values([\"phone\", msge], inplace=True)\n",
        "    for fi in [\"x\", \"y\", \"z\"]:\n",
        "        output_df[[fi + \"_p\"]] = output_df[fi].shift().where(output_df[\"phone\"].eq(output_df[\"phone\"].shift()))\n",
        "        output_df[[fi + \"_diff\"]] = output_df[fi] - output_df[fi + \"_p\"]\n",
        "\n",
        "    output_df[[\"dist\"]] = np.sqrt(output_df[\"x_diff\"]**2 + output_df[\"y_diff\"]**2 + output_df[\"z_diff\"]**2)\n",
        "    for fi in [\"x\", \"y\", \"z\"]:\n",
        "        output_df[[fi + \"_new\"]] = output_df[fi + \"_p\"] + output_df[fi + \"_diff\"] * (1 - a/output_df[\"dist\"])\n",
        "    lng, lat, alt = ECEF_to_WGS84(output_df[\"x_new\"].values, output_df[\"y_new\"].values, output_df[\"z_new\"].values)\n",
        "\n",
        "    lat[np.isnan(lat)] = output_df.loc[np.isnan(lat), \"latDeg\"]\n",
        "    lng[np.isnan(lng)] = output_df.loc[np.isnan(lng), \"lngDeg\"]\n",
        "    output_df[\"latDeg\"] = lat\n",
        "    output_df[\"lngDeg\"] = lng\n",
        "\n",
        "    output_df.sort_values([\"phone\", msge], inplace=True)\n",
        "\n",
        "    return output_df[sub_cols]\n",
        "\n",
        "\n",
        "def objective(trial):\n",
        "    a = trial.suggest_uniform(\"a\", -1, 1)\n",
        "    score, scores = compute_dist(position_shift(train_b, a), g_t)\n",
        "    return score"
      ],
      "execution_count": 59,
      "outputs": []
    },
    {
      "cell_type": "code",
      "metadata": {
        "colab": {
          "base_uri": "https://localhost:8080/"
        },
        "id": "O-oP9GZt6ZBp",
        "outputId": "94b9809a-af86-4478-84ab-cb7b9bbe7777"
      },
      "source": [
        "study = optuna.create_study()\n",
        "study.optimize(objective, n_trials=30)"
      ],
      "execution_count": 60,
      "outputs": [
        {
          "output_type": "stream",
          "text": [
            "\u001b[32m[I 2021-06-28 05:06:54,733]\u001b[0m A new study created in memory with name: no-name-e69d7b0a-63cf-4170-b05c-43e8381dd243\u001b[0m\n",
            "\u001b[32m[I 2021-06-28 05:07:01,089]\u001b[0m Trial 0 finished with value: 5.390136535822736 and parameters: {'a': -0.2911826195035343}. Best is trial 0 with value: 5.390136535822736.\u001b[0m\n",
            "\u001b[32m[I 2021-06-28 05:07:07,432]\u001b[0m Trial 1 finished with value: 5.521780554065887 and parameters: {'a': -0.582552297806697}. Best is trial 0 with value: 5.390136535822736.\u001b[0m\n",
            "\u001b[32m[I 2021-06-28 05:07:13,734]\u001b[0m Trial 2 finished with value: 5.225785532479229 and parameters: {'a': 0.24344016895928955}. Best is trial 2 with value: 5.225785532479229.\u001b[0m\n",
            "\u001b[32m[I 2021-06-28 05:07:19,910]\u001b[0m Trial 3 finished with value: 5.703230538902126 and parameters: {'a': -0.9135667973820247}. Best is trial 2 with value: 5.225785532479229.\u001b[0m\n",
            "\u001b[32m[I 2021-06-28 05:07:26,248]\u001b[0m Trial 4 finished with value: 5.206673346948051 and parameters: {'a': 0.3477227453776237}. Best is trial 4 with value: 5.206673346948051.\u001b[0m\n",
            "\u001b[32m[I 2021-06-28 05:07:32,540]\u001b[0m Trial 5 finished with value: 5.575402005047119 and parameters: {'a': -0.6837178595046403}. Best is trial 4 with value: 5.206673346948051.\u001b[0m\n",
            "\u001b[32m[I 2021-06-28 05:07:38,876]\u001b[0m Trial 6 finished with value: 5.281485329222232 and parameters: {'a': 0.023564916006069803}. Best is trial 4 with value: 5.206673346948051.\u001b[0m\n",
            "\u001b[32m[I 2021-06-28 05:07:45,054]\u001b[0m Trial 7 finished with value: 5.1909454840436755 and parameters: {'a': 0.5401113021386006}. Best is trial 7 with value: 5.1909454840436755.\u001b[0m\n",
            "\u001b[32m[I 2021-06-28 05:07:51,336]\u001b[0m Trial 8 finished with value: 5.1926098912282646 and parameters: {'a': 0.49284084309941356}. Best is trial 7 with value: 5.1909454840436755.\u001b[0m\n",
            "\u001b[32m[I 2021-06-28 05:07:57,604]\u001b[0m Trial 9 finished with value: 5.29444825916447 and parameters: {'a': -0.01800752643541159}. Best is trial 7 with value: 5.1909454840436755.\u001b[0m\n",
            "\u001b[32m[I 2021-06-28 05:08:03,912]\u001b[0m Trial 10 finished with value: 5.19941995659064 and parameters: {'a': 0.870958845087541}. Best is trial 7 with value: 5.1909454840436755.\u001b[0m\n",
            "\u001b[32m[I 2021-06-28 05:08:10,072]\u001b[0m Trial 11 finished with value: 5.19704783314107 and parameters: {'a': 0.822180618037855}. Best is trial 7 with value: 5.1909454840436755.\u001b[0m\n",
            "\u001b[32m[I 2021-06-28 05:08:16,324]\u001b[0m Trial 12 finished with value: 5.190861588176352 and parameters: {'a': 0.5691873313963388}. Best is trial 12 with value: 5.190861588176352.\u001b[0m\n",
            "\u001b[32m[I 2021-06-28 05:08:22,594]\u001b[0m Trial 13 finished with value: 5.187454119279922 and parameters: {'a': 0.646555836041427}. Best is trial 13 with value: 5.187454119279922.\u001b[0m\n",
            "\u001b[32m[I 2021-06-28 05:08:28,892]\u001b[0m Trial 14 finished with value: 5.212377986072883 and parameters: {'a': 0.9831253541999905}. Best is trial 13 with value: 5.187454119279922.\u001b[0m\n",
            "\u001b[32m[I 2021-06-28 05:08:35,024]\u001b[0m Trial 15 finished with value: 5.188409590134573 and parameters: {'a': 0.6853884971508114}. Best is trial 13 with value: 5.187454119279922.\u001b[0m\n",
            "\u001b[32m[I 2021-06-28 05:08:41,410]\u001b[0m Trial 16 finished with value: 5.190807644179826 and parameters: {'a': 0.7179710244290677}. Best is trial 13 with value: 5.187454119279922.\u001b[0m\n",
            "\u001b[32m[I 2021-06-28 05:08:47,574]\u001b[0m Trial 17 finished with value: 5.2132561935651385 and parameters: {'a': 0.9886957919199342}. Best is trial 13 with value: 5.187454119279922.\u001b[0m\n",
            "\u001b[32m[I 2021-06-28 05:08:53,869]\u001b[0m Trial 18 finished with value: 5.227684150422096 and parameters: {'a': 0.2315990394432516}. Best is trial 13 with value: 5.187454119279922.\u001b[0m\n",
            "\u001b[32m[I 2021-06-28 05:09:00,197]\u001b[0m Trial 19 finished with value: 5.187450410823015 and parameters: {'a': 0.6468222686703818}. Best is trial 19 with value: 5.187450410823015.\u001b[0m\n",
            "\u001b[32m[I 2021-06-28 05:09:06,451]\u001b[0m Trial 20 finished with value: 5.300725084699091 and parameters: {'a': -0.04045944114756705}. Best is trial 19 with value: 5.187450410823015.\u001b[0m\n",
            "\u001b[32m[I 2021-06-28 05:09:12,600]\u001b[0m Trial 21 finished with value: 5.191453999120951 and parameters: {'a': 0.7263708759547286}. Best is trial 19 with value: 5.187450410823015.\u001b[0m\n",
            "\u001b[32m[I 2021-06-28 05:09:18,968]\u001b[0m Trial 22 finished with value: 5.187480657357054 and parameters: {'a': 0.6446593517938527}. Best is trial 19 with value: 5.187450410823015.\u001b[0m\n",
            "\u001b[32m[I 2021-06-28 05:09:25,138]\u001b[0m Trial 23 finished with value: 5.199132846937159 and parameters: {'a': 0.4020151900470208}. Best is trial 19 with value: 5.187450410823015.\u001b[0m\n",
            "\u001b[32m[I 2021-06-28 05:09:31,398]\u001b[0m Trial 24 finished with value: 5.211053164139803 and parameters: {'a': 0.9734173043916001}. Best is trial 19 with value: 5.187450410823015.\u001b[0m\n",
            "\u001b[32m[I 2021-06-28 05:09:37,666]\u001b[0m Trial 25 finished with value: 5.242269461980952 and parameters: {'a': 0.1687313510734298}. Best is trial 19 with value: 5.187450410823015.\u001b[0m\n",
            "\u001b[32m[I 2021-06-28 05:09:43,921]\u001b[0m Trial 26 finished with value: 5.1873461351691805 and parameters: {'a': 0.6495716803672664}. Best is trial 26 with value: 5.1873461351691805.\u001b[0m\n",
            "\u001b[32m[I 2021-06-28 05:09:50,024]\u001b[0m Trial 27 finished with value: 5.198962498408661 and parameters: {'a': 0.4045071133689252}. Best is trial 26 with value: 5.1873461351691805.\u001b[0m\n",
            "\u001b[32m[I 2021-06-28 05:09:56,411]\u001b[0m Trial 28 finished with value: 5.198377183361966 and parameters: {'a': 0.8402286019144356}. Best is trial 26 with value: 5.1873461351691805.\u001b[0m\n",
            "\u001b[32m[I 2021-06-28 05:10:02,596]\u001b[0m Trial 29 finished with value: 5.427710483658629 and parameters: {'a': -0.3837626929949798}. Best is trial 26 with value: 5.1873461351691805.\u001b[0m\n"
          ],
          "name": "stderr"
        }
      ]
    },
    {
      "cell_type": "code",
      "metadata": {
        "colab": {
          "base_uri": "https://localhost:8080/"
        },
        "id": "hDAqqGqe6ju6",
        "outputId": "402328a4-bfb3-4910-9470-c9fc03cc7a59"
      },
      "source": [
        "study.best_params"
      ],
      "execution_count": 61,
      "outputs": [
        {
          "output_type": "execute_result",
          "data": {
            "text/plain": [
              "{'a': 0.6495716803672664}"
            ]
          },
          "metadata": {
            "tags": []
          },
          "execution_count": 61
        }
      ]
    },
    {
      "cell_type": "code",
      "metadata": {
        "id": "jl2ilXc58i4M"
      },
      "source": [
        "submission = position_shift(test_base, a=study.best_params[\"a\"])"
      ],
      "execution_count": 62,
      "outputs": []
    },
    {
      "cell_type": "code",
      "metadata": {
        "id": "Ba7Osoas_TCT"
      },
      "source": [
        "submission.to_csv('submission_11.csv', index=False)"
      ],
      "execution_count": 64,
      "outputs": []
    },
    {
      "cell_type": "code",
      "metadata": {
        "colab": {
          "base_uri": "https://localhost:8080/",
          "height": 694
        },
        "id": "nt3lZ0Oh_j1J",
        "outputId": "0fcf7ece-85de-462a-f119-12a7c4fb76d2"
      },
      "source": [
        "test_base"
      ],
      "execution_count": 55,
      "outputs": [
        {
          "output_type": "execute_result",
          "data": {
            "text/html": [
              "<div>\n",
              "<style scoped>\n",
              "    .dataframe tbody tr th:only-of-type {\n",
              "        vertical-align: middle;\n",
              "    }\n",
              "\n",
              "    .dataframe tbody tr th {\n",
              "        vertical-align: top;\n",
              "    }\n",
              "\n",
              "    .dataframe thead th {\n",
              "        text-align: right;\n",
              "    }\n",
              "</style>\n",
              "<table border=\"1\" class=\"dataframe\">\n",
              "  <thead>\n",
              "    <tr style=\"text-align: right;\">\n",
              "      <th></th>\n",
              "      <th>collectionName</th>\n",
              "      <th>phoneName</th>\n",
              "      <th>millisSinceGpsEpoch</th>\n",
              "      <th>latDeg</th>\n",
              "      <th>lngDeg</th>\n",
              "      <th>heightAboveWgs84EllipsoidM</th>\n",
              "      <th>phone</th>\n",
              "    </tr>\n",
              "  </thead>\n",
              "  <tbody>\n",
              "    <tr>\n",
              "      <th>0</th>\n",
              "      <td>2020-05-15-US-MTV-1</td>\n",
              "      <td>Pixel4</td>\n",
              "      <td>1273608785432</td>\n",
              "      <td>37.416628</td>\n",
              "      <td>-122.082053</td>\n",
              "      <td>-30.69</td>\n",
              "      <td>2020-05-15-US-MTV-1_Pixel4</td>\n",
              "    </tr>\n",
              "    <tr>\n",
              "      <th>1</th>\n",
              "      <td>2020-05-15-US-MTV-1</td>\n",
              "      <td>Pixel4</td>\n",
              "      <td>1273608786432</td>\n",
              "      <td>37.416646</td>\n",
              "      <td>-122.082040</td>\n",
              "      <td>-31.76</td>\n",
              "      <td>2020-05-15-US-MTV-1_Pixel4</td>\n",
              "    </tr>\n",
              "    <tr>\n",
              "      <th>2</th>\n",
              "      <td>2020-05-15-US-MTV-1</td>\n",
              "      <td>Pixel4</td>\n",
              "      <td>1273608787432</td>\n",
              "      <td>37.416653</td>\n",
              "      <td>-122.082039</td>\n",
              "      <td>-31.65</td>\n",
              "      <td>2020-05-15-US-MTV-1_Pixel4</td>\n",
              "    </tr>\n",
              "    <tr>\n",
              "      <th>3</th>\n",
              "      <td>2020-05-15-US-MTV-1</td>\n",
              "      <td>Pixel4</td>\n",
              "      <td>1273608788432</td>\n",
              "      <td>37.416607</td>\n",
              "      <td>-122.082063</td>\n",
              "      <td>-31.52</td>\n",
              "      <td>2020-05-15-US-MTV-1_Pixel4</td>\n",
              "    </tr>\n",
              "    <tr>\n",
              "      <th>4</th>\n",
              "      <td>2020-05-15-US-MTV-1</td>\n",
              "      <td>Pixel4</td>\n",
              "      <td>1273608789432</td>\n",
              "      <td>37.416609</td>\n",
              "      <td>-122.082073</td>\n",
              "      <td>-28.95</td>\n",
              "      <td>2020-05-15-US-MTV-1_Pixel4</td>\n",
              "    </tr>\n",
              "    <tr>\n",
              "      <th>...</th>\n",
              "      <td>...</td>\n",
              "      <td>...</td>\n",
              "      <td>...</td>\n",
              "      <td>...</td>\n",
              "      <td>...</td>\n",
              "      <td>...</td>\n",
              "      <td>...</td>\n",
              "    </tr>\n",
              "    <tr>\n",
              "      <th>91481</th>\n",
              "      <td>2021-04-29-US-SJC-3</td>\n",
              "      <td>SamsungS20Ultra</td>\n",
              "      <td>1303763185000</td>\n",
              "      <td>37.334539</td>\n",
              "      <td>-121.899383</td>\n",
              "      <td>-8.39</td>\n",
              "      <td>2021-04-29-US-SJC-3_SamsungS20Ultra</td>\n",
              "    </tr>\n",
              "    <tr>\n",
              "      <th>91482</th>\n",
              "      <td>2021-04-29-US-SJC-3</td>\n",
              "      <td>SamsungS20Ultra</td>\n",
              "      <td>1303763186000</td>\n",
              "      <td>37.334545</td>\n",
              "      <td>-121.899380</td>\n",
              "      <td>-7.36</td>\n",
              "      <td>2021-04-29-US-SJC-3_SamsungS20Ultra</td>\n",
              "    </tr>\n",
              "    <tr>\n",
              "      <th>91483</th>\n",
              "      <td>2021-04-29-US-SJC-3</td>\n",
              "      <td>SamsungS20Ultra</td>\n",
              "      <td>1303763187000</td>\n",
              "      <td>37.334551</td>\n",
              "      <td>-121.899371</td>\n",
              "      <td>-4.08</td>\n",
              "      <td>2021-04-29-US-SJC-3_SamsungS20Ultra</td>\n",
              "    </tr>\n",
              "    <tr>\n",
              "      <th>91484</th>\n",
              "      <td>2021-04-29-US-SJC-3</td>\n",
              "      <td>SamsungS20Ultra</td>\n",
              "      <td>1303763188000</td>\n",
              "      <td>37.334540</td>\n",
              "      <td>-121.899371</td>\n",
              "      <td>-5.70</td>\n",
              "      <td>2021-04-29-US-SJC-3_SamsungS20Ultra</td>\n",
              "    </tr>\n",
              "    <tr>\n",
              "      <th>91485</th>\n",
              "      <td>2021-04-29-US-SJC-3</td>\n",
              "      <td>SamsungS20Ultra</td>\n",
              "      <td>1303763189000</td>\n",
              "      <td>37.334562</td>\n",
              "      <td>-121.899354</td>\n",
              "      <td>-0.90</td>\n",
              "      <td>2021-04-29-US-SJC-3_SamsungS20Ultra</td>\n",
              "    </tr>\n",
              "  </tbody>\n",
              "</table>\n",
              "<p>91486 rows × 7 columns</p>\n",
              "</div>"
            ],
            "text/plain": [
              "            collectionName  ...                                phone\n",
              "0      2020-05-15-US-MTV-1  ...           2020-05-15-US-MTV-1_Pixel4\n",
              "1      2020-05-15-US-MTV-1  ...           2020-05-15-US-MTV-1_Pixel4\n",
              "2      2020-05-15-US-MTV-1  ...           2020-05-15-US-MTV-1_Pixel4\n",
              "3      2020-05-15-US-MTV-1  ...           2020-05-15-US-MTV-1_Pixel4\n",
              "4      2020-05-15-US-MTV-1  ...           2020-05-15-US-MTV-1_Pixel4\n",
              "...                    ...  ...                                  ...\n",
              "91481  2021-04-29-US-SJC-3  ...  2021-04-29-US-SJC-3_SamsungS20Ultra\n",
              "91482  2021-04-29-US-SJC-3  ...  2021-04-29-US-SJC-3_SamsungS20Ultra\n",
              "91483  2021-04-29-US-SJC-3  ...  2021-04-29-US-SJC-3_SamsungS20Ultra\n",
              "91484  2021-04-29-US-SJC-3  ...  2021-04-29-US-SJC-3_SamsungS20Ultra\n",
              "91485  2021-04-29-US-SJC-3  ...  2021-04-29-US-SJC-3_SamsungS20Ultra\n",
              "\n",
              "[91486 rows x 7 columns]"
            ]
          },
          "metadata": {
            "tags": []
          },
          "execution_count": 55
        }
      ]
    },
    {
      "cell_type": "code",
      "metadata": {
        "id": "EJhRnMSh_3Oj"
      },
      "source": [
        ""
      ],
      "execution_count": null,
      "outputs": []
    }
  ]
}