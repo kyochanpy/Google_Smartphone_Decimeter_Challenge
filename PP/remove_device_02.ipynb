{
  "nbformat": 4,
  "nbformat_minor": 0,
  "metadata": {
    "colab": {
      "name": "Untitled103.ipynb",
      "provenance": [],
      "mount_file_id": "1oL1HevENxpKUAfrCESwNKgV3CgGSJQaT",
      "authorship_tag": "ABX9TyN17giG5VO7beR0XeVlZGGF",
      "include_colab_link": true
    },
    "kernelspec": {
      "name": "python3",
      "display_name": "Python 3"
    },
    "language_info": {
      "name": "python"
    }
  },
  "cells": [
    {
      "cell_type": "markdown",
      "metadata": {
        "id": "view-in-github",
        "colab_type": "text"
      },
      "source": [
        "<a href=\"https://colab.research.google.com/github/kyochanpy/Google_Smartphone_Decimeter_Challenge/blob/main/PP/remove_device_02.ipynb\" target=\"_parent\"><img src=\"https://colab.research.google.com/assets/colab-badge.svg\" alt=\"Open In Colab\"/></a>"
      ]
    },
    {
      "cell_type": "code",
      "metadata": {
        "id": "RNKGxuvnoUv1"
      },
      "source": [
        "import numpy as np\n",
        "import pandas as pd\n",
        "import matplotlib.pyplot as plt\n",
        "import seaborn as sns\n",
        "from pathlib import Path\n",
        "from glob import glob"
      ],
      "execution_count": 1,
      "outputs": []
    },
    {
      "cell_type": "code",
      "metadata": {
        "id": "-ImjeQ1eoqEh"
      },
      "source": [
        "def get_groundtruth(path: Path) -> pd.DataFrame:\n",
        "    output_df = pd.DataFrame()\n",
        "    \n",
        "    for path in glob(str(path / 'train/*/*/ground_truth.csv')):\n",
        "        _df = pd.read_csv(path)\n",
        "        output_df = pd.concat([output_df, _df])\n",
        "    output_df = output_df.reset_index(drop=True)\n",
        "    \n",
        "    _columns = ['latDeg', 'lngDeg', 'heightAboveWgs84EllipsoidM']\n",
        "    output_df[['t_'+col for col in _columns]] = output_df[_columns]\n",
        "    output_df = output_df.drop(columns=_columns, axis=1)\n",
        "    return output_df"
      ],
      "execution_count": 2,
      "outputs": []
    },
    {
      "cell_type": "code",
      "metadata": {
        "id": "S53bX6ncpNjd"
      },
      "source": [
        "def calc_haversine(lat1, lon1, lat2, lon2):\n",
        "    RADIUS = 6_367_000\n",
        "    lat1, lon1, lat2, lon2 = map(np.radians, [lat1, lon1, lat2, lon2])\n",
        "    dlat = lat2 - lat1\n",
        "    dlon = lon2 - lon1\n",
        "    d = np.sin(dlat/2)**2 + np.cos(lat1) * np.cos(lat2) * np.sin(dlon/2)**2\n",
        "    dist = 2 * RADIUS * np.arcsin(d**0.5)\n",
        "    return dist"
      ],
      "execution_count": 3,
      "outputs": []
    },
    {
      "cell_type": "code",
      "metadata": {
        "id": "y4zwqgngpRN0"
      },
      "source": [
        "base = Path('/content/drive/MyDrive/GSDC')\n",
        "train_base = pd.read_csv(base / 'baseline_locations_train.csv')\n",
        "test_base = pd.read_csv(base / 'baseline_locations_test.csv')\n",
        "\n",
        "# merge graoundtruth\n",
        "train_base = train_base.merge(\n",
        "    get_groundtruth(base),\n",
        "    on=['collectionName', 'phoneName', 'millisSinceGpsEpoch']\n",
        ")\n",
        "sub = pd.read_csv(base / 'sample_submission.csv')"
      ],
      "execution_count": 4,
      "outputs": []
    },
    {
      "cell_type": "code",
      "metadata": {
        "id": "NTy1BmG9pWGb"
      },
      "source": [
        "def remove_device(input_df):\n",
        "    remove_list = []\n",
        "    for name, df in train_base.groupby('collectionName'):\n",
        "        phones_list = df[\"phoneName\"].unique().tolist()\n",
        "        meter_list = []\n",
        "\n",
        "        if (len(phones_list) == 1):\n",
        "                remove_list.append('dont_remove')\n",
        "                continue\n",
        "\n",
        "        for phone in phones_list:\n",
        "            phone_df = df[df[\"phoneName\"] == phone]\n",
        "            phone_df['meter'] = phone_df.apply(lambda r: calc_haversine(r.latDeg, r.lngDeg, r.t_latDeg, r.t_lngDeg),axis=1)\n",
        "            meter_score = phone_df['meter'].mean()\n",
        "            meter_list.append(meter_score)\n",
        "        remove_meter = sorted(meter_list)[-1]\n",
        "        remove_idx = meter_list.index(remove_meter)\n",
        "        remove_list.append(phones_list[remove_idx])\n",
        "\n",
        "\n",
        "        def get_removedevice(input_df):\n",
        "            input_df['index'] = input_df.index\n",
        "            input_df = input_df.sort_values('millisSinceGpsEpoch')\n",
        "            input_df.index = input_df['millisSinceGpsEpoch'].values\n",
        "            sub_list = list(input_df[\"collectionName\"].unique())\n",
        "\n",
        "            output_df = pd.DataFrame() \n",
        "            for i, subdf in input_df.groupby('collectionName'):\n",
        "\n",
        "                phones = subdf['phoneName'].unique()\n",
        "                sub_idx = sub_list.index(i)\n",
        "                device = remove_list[sub_idx-1]\n",
        "\n",
        "                if (len(phones) == 1) or (not device in phones):\n",
        "                    output_df = pd.concat([output_df, subdf])\n",
        "                    continue\n",
        "\n",
        "                origin_df = subdf.copy()\n",
        "                \n",
        "                _index = subdf['phoneName']==device\n",
        "                subdf.loc[_index, 'latDeg'] = np.nan\n",
        "                subdf.loc[_index, 'lngDeg'] = np.nan\n",
        "                subdf = subdf.interpolate(method='index', limit_area='inside')\n",
        "\n",
        "                _index = subdf['latDeg'].isnull()\n",
        "                subdf.loc[_index, 'latDeg'] = origin_df.loc[_index, 'latDeg'].values\n",
        "                subdf.loc[_index, 'lngDeg'] = origin_df.loc[_index, 'lngDeg'].values\n",
        "\n",
        "                output_df = pd.concat([output_df, subdf])\n",
        "\n",
        "            output_df.index = output_df['index'].values\n",
        "            output_df = output_df.sort_index()\n",
        "\n",
        "            del output_df['index']\n",
        "            \n",
        "            return output_df\n",
        "\n",
        "\n",
        "    output_df = get_removedevice(input_df)\n",
        "    \n",
        "    return output_df"
      ],
      "execution_count": 6,
      "outputs": []
    },
    {
      "cell_type": "code",
      "metadata": {
        "colab": {
          "base_uri": "https://localhost:8080/",
          "height": 799
        },
        "id": "OBHd2ts8p8nU",
        "outputId": "fe823ca2-0c4c-4ed6-bd76-18789f69a7f9"
      },
      "source": [
        "remove_device(test_base)"
      ],
      "execution_count": 7,
      "outputs": [
        {
          "output_type": "stream",
          "text": [
            "/usr/local/lib/python3.7/dist-packages/ipykernel_launcher.py:13: SettingWithCopyWarning: \n",
            "A value is trying to be set on a copy of a slice from a DataFrame.\n",
            "Try using .loc[row_indexer,col_indexer] = value instead\n",
            "\n",
            "See the caveats in the documentation: https://pandas.pydata.org/pandas-docs/stable/user_guide/indexing.html#returning-a-view-versus-a-copy\n",
            "  del sys.path[0]\n"
          ],
          "name": "stderr"
        },
        {
          "output_type": "execute_result",
          "data": {
            "text/html": [
              "<div>\n",
              "<style scoped>\n",
              "    .dataframe tbody tr th:only-of-type {\n",
              "        vertical-align: middle;\n",
              "    }\n",
              "\n",
              "    .dataframe tbody tr th {\n",
              "        vertical-align: top;\n",
              "    }\n",
              "\n",
              "    .dataframe thead th {\n",
              "        text-align: right;\n",
              "    }\n",
              "</style>\n",
              "<table border=\"1\" class=\"dataframe\">\n",
              "  <thead>\n",
              "    <tr style=\"text-align: right;\">\n",
              "      <th></th>\n",
              "      <th>collectionName</th>\n",
              "      <th>phoneName</th>\n",
              "      <th>millisSinceGpsEpoch</th>\n",
              "      <th>latDeg</th>\n",
              "      <th>lngDeg</th>\n",
              "      <th>heightAboveWgs84EllipsoidM</th>\n",
              "      <th>phone</th>\n",
              "    </tr>\n",
              "  </thead>\n",
              "  <tbody>\n",
              "    <tr>\n",
              "      <th>0</th>\n",
              "      <td>2020-05-15-US-MTV-1</td>\n",
              "      <td>Pixel4</td>\n",
              "      <td>1273608785432</td>\n",
              "      <td>37.416554</td>\n",
              "      <td>-122.082085</td>\n",
              "      <td>-30.69</td>\n",
              "      <td>2020-05-15-US-MTV-1_Pixel4</td>\n",
              "    </tr>\n",
              "    <tr>\n",
              "      <th>1</th>\n",
              "      <td>2020-05-15-US-MTV-1</td>\n",
              "      <td>Pixel4</td>\n",
              "      <td>1273608786432</td>\n",
              "      <td>37.416589</td>\n",
              "      <td>-122.082072</td>\n",
              "      <td>-31.76</td>\n",
              "      <td>2020-05-15-US-MTV-1_Pixel4</td>\n",
              "    </tr>\n",
              "    <tr>\n",
              "      <th>2</th>\n",
              "      <td>2020-05-15-US-MTV-1</td>\n",
              "      <td>Pixel4</td>\n",
              "      <td>1273608787432</td>\n",
              "      <td>37.416571</td>\n",
              "      <td>-122.082071</td>\n",
              "      <td>-31.65</td>\n",
              "      <td>2020-05-15-US-MTV-1_Pixel4</td>\n",
              "    </tr>\n",
              "    <tr>\n",
              "      <th>3</th>\n",
              "      <td>2020-05-15-US-MTV-1</td>\n",
              "      <td>Pixel4</td>\n",
              "      <td>1273608788432</td>\n",
              "      <td>37.416577</td>\n",
              "      <td>-122.082073</td>\n",
              "      <td>-31.52</td>\n",
              "      <td>2020-05-15-US-MTV-1_Pixel4</td>\n",
              "    </tr>\n",
              "    <tr>\n",
              "      <th>4</th>\n",
              "      <td>2020-05-15-US-MTV-1</td>\n",
              "      <td>Pixel4</td>\n",
              "      <td>1273608789432</td>\n",
              "      <td>37.416626</td>\n",
              "      <td>-122.082041</td>\n",
              "      <td>-28.95</td>\n",
              "      <td>2020-05-15-US-MTV-1_Pixel4</td>\n",
              "    </tr>\n",
              "    <tr>\n",
              "      <th>...</th>\n",
              "      <td>...</td>\n",
              "      <td>...</td>\n",
              "      <td>...</td>\n",
              "      <td>...</td>\n",
              "      <td>...</td>\n",
              "      <td>...</td>\n",
              "      <td>...</td>\n",
              "    </tr>\n",
              "    <tr>\n",
              "      <th>91481</th>\n",
              "      <td>2021-04-29-US-SJC-3</td>\n",
              "      <td>SamsungS20Ultra</td>\n",
              "      <td>1303763185000</td>\n",
              "      <td>37.334539</td>\n",
              "      <td>-121.899383</td>\n",
              "      <td>-8.39</td>\n",
              "      <td>2021-04-29-US-SJC-3_SamsungS20Ultra</td>\n",
              "    </tr>\n",
              "    <tr>\n",
              "      <th>91482</th>\n",
              "      <td>2021-04-29-US-SJC-3</td>\n",
              "      <td>SamsungS20Ultra</td>\n",
              "      <td>1303763186000</td>\n",
              "      <td>37.334545</td>\n",
              "      <td>-121.899380</td>\n",
              "      <td>-7.36</td>\n",
              "      <td>2021-04-29-US-SJC-3_SamsungS20Ultra</td>\n",
              "    </tr>\n",
              "    <tr>\n",
              "      <th>91483</th>\n",
              "      <td>2021-04-29-US-SJC-3</td>\n",
              "      <td>SamsungS20Ultra</td>\n",
              "      <td>1303763187000</td>\n",
              "      <td>37.334551</td>\n",
              "      <td>-121.899371</td>\n",
              "      <td>-4.08</td>\n",
              "      <td>2021-04-29-US-SJC-3_SamsungS20Ultra</td>\n",
              "    </tr>\n",
              "    <tr>\n",
              "      <th>91484</th>\n",
              "      <td>2021-04-29-US-SJC-3</td>\n",
              "      <td>SamsungS20Ultra</td>\n",
              "      <td>1303763188000</td>\n",
              "      <td>37.334540</td>\n",
              "      <td>-121.899371</td>\n",
              "      <td>-5.70</td>\n",
              "      <td>2021-04-29-US-SJC-3_SamsungS20Ultra</td>\n",
              "    </tr>\n",
              "    <tr>\n",
              "      <th>91485</th>\n",
              "      <td>2021-04-29-US-SJC-3</td>\n",
              "      <td>SamsungS20Ultra</td>\n",
              "      <td>1303763189000</td>\n",
              "      <td>37.334562</td>\n",
              "      <td>-121.899354</td>\n",
              "      <td>-0.90</td>\n",
              "      <td>2021-04-29-US-SJC-3_SamsungS20Ultra</td>\n",
              "    </tr>\n",
              "  </tbody>\n",
              "</table>\n",
              "<p>91486 rows × 7 columns</p>\n",
              "</div>"
            ],
            "text/plain": [
              "            collectionName  ...                                phone\n",
              "0      2020-05-15-US-MTV-1  ...           2020-05-15-US-MTV-1_Pixel4\n",
              "1      2020-05-15-US-MTV-1  ...           2020-05-15-US-MTV-1_Pixel4\n",
              "2      2020-05-15-US-MTV-1  ...           2020-05-15-US-MTV-1_Pixel4\n",
              "3      2020-05-15-US-MTV-1  ...           2020-05-15-US-MTV-1_Pixel4\n",
              "4      2020-05-15-US-MTV-1  ...           2020-05-15-US-MTV-1_Pixel4\n",
              "...                    ...  ...                                  ...\n",
              "91481  2021-04-29-US-SJC-3  ...  2021-04-29-US-SJC-3_SamsungS20Ultra\n",
              "91482  2021-04-29-US-SJC-3  ...  2021-04-29-US-SJC-3_SamsungS20Ultra\n",
              "91483  2021-04-29-US-SJC-3  ...  2021-04-29-US-SJC-3_SamsungS20Ultra\n",
              "91484  2021-04-29-US-SJC-3  ...  2021-04-29-US-SJC-3_SamsungS20Ultra\n",
              "91485  2021-04-29-US-SJC-3  ...  2021-04-29-US-SJC-3_SamsungS20Ultra\n",
              "\n",
              "[91486 rows x 7 columns]"
            ]
          },
          "metadata": {
            "tags": []
          },
          "execution_count": 7
        }
      ]
    },
    {
      "cell_type": "code",
      "metadata": {
        "id": "85xFccQTqG0s"
      },
      "source": [
        ""
      ],
      "execution_count": null,
      "outputs": []
    }
  ]
}