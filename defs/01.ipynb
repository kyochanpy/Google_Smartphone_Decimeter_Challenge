{
  "nbformat": 4,
  "nbformat_minor": 0,
  "metadata": {
    "colab": {
      "name": "Untitled104.ipynb",
      "provenance": [],
      "mount_file_id": "1AK9nje_shrh-ZUqyQBx0iqqr7jjHLtdS",
      "authorship_tag": "ABX9TyMl5J7J8lYp1i69odhbVYjN",
      "include_colab_link": true
    },
    "kernelspec": {
      "name": "python3",
      "display_name": "Python 3"
    },
    "language_info": {
      "name": "python"
    },
    "widgets": {
      "application/vnd.jupyter.widget-state+json": {
        "0c3769117ed8461781909e808b233010": {
          "model_module": "@jupyter-widgets/controls",
          "model_name": "HBoxModel",
          "state": {
            "_view_name": "HBoxView",
            "_dom_classes": [],
            "_model_name": "HBoxModel",
            "_view_module": "@jupyter-widgets/controls",
            "_model_module_version": "1.5.0",
            "_view_count": null,
            "_view_module_version": "1.5.0",
            "box_style": "",
            "layout": "IPY_MODEL_3dcea40317b64d49907483d1e8992e0b",
            "_model_module": "@jupyter-widgets/controls",
            "children": [
              "IPY_MODEL_1c86cbfa0db64198a98e762a0bb3ca51",
              "IPY_MODEL_6896e7bde38449e8a5455cf8ccba8749"
            ]
          }
        },
        "3dcea40317b64d49907483d1e8992e0b": {
          "model_module": "@jupyter-widgets/base",
          "model_name": "LayoutModel",
          "state": {
            "_view_name": "LayoutView",
            "grid_template_rows": null,
            "right": null,
            "justify_content": null,
            "_view_module": "@jupyter-widgets/base",
            "overflow": null,
            "_model_module_version": "1.2.0",
            "_view_count": null,
            "flex_flow": null,
            "width": null,
            "min_width": null,
            "border": null,
            "align_items": null,
            "bottom": null,
            "_model_module": "@jupyter-widgets/base",
            "top": null,
            "grid_column": null,
            "overflow_y": null,
            "overflow_x": null,
            "grid_auto_flow": null,
            "grid_area": null,
            "grid_template_columns": null,
            "flex": null,
            "_model_name": "LayoutModel",
            "justify_items": null,
            "grid_row": null,
            "max_height": null,
            "align_content": null,
            "visibility": null,
            "align_self": null,
            "height": null,
            "min_height": null,
            "padding": null,
            "grid_auto_rows": null,
            "grid_gap": null,
            "max_width": null,
            "order": null,
            "_view_module_version": "1.2.0",
            "grid_template_areas": null,
            "object_position": null,
            "object_fit": null,
            "grid_auto_columns": null,
            "margin": null,
            "display": null,
            "left": null
          }
        },
        "1c86cbfa0db64198a98e762a0bb3ca51": {
          "model_module": "@jupyter-widgets/controls",
          "model_name": "FloatProgressModel",
          "state": {
            "_view_name": "ProgressView",
            "style": "IPY_MODEL_005ace7d5887471395c60b068f9ad460",
            "_dom_classes": [],
            "description": "100%",
            "_model_name": "FloatProgressModel",
            "bar_style": "success",
            "max": 73,
            "_view_module": "@jupyter-widgets/controls",
            "_model_module_version": "1.5.0",
            "value": 73,
            "_view_count": null,
            "_view_module_version": "1.5.0",
            "orientation": "horizontal",
            "min": 0,
            "description_tooltip": null,
            "_model_module": "@jupyter-widgets/controls",
            "layout": "IPY_MODEL_b11e58c443ab473fbabdbe3b54dee573"
          }
        },
        "6896e7bde38449e8a5455cf8ccba8749": {
          "model_module": "@jupyter-widgets/controls",
          "model_name": "HTMLModel",
          "state": {
            "_view_name": "HTMLView",
            "style": "IPY_MODEL_9b6c65b9e5ec4f2384d5d0be94720633",
            "_dom_classes": [],
            "description": "",
            "_model_name": "HTMLModel",
            "placeholder": "​",
            "_view_module": "@jupyter-widgets/controls",
            "_model_module_version": "1.5.0",
            "value": " 73/73 [00:30&lt;00:00,  2.38it/s]",
            "_view_count": null,
            "_view_module_version": "1.5.0",
            "description_tooltip": null,
            "_model_module": "@jupyter-widgets/controls",
            "layout": "IPY_MODEL_7081e39a586841479d35194dc2e45d20"
          }
        },
        "005ace7d5887471395c60b068f9ad460": {
          "model_module": "@jupyter-widgets/controls",
          "model_name": "ProgressStyleModel",
          "state": {
            "_view_name": "StyleView",
            "_model_name": "ProgressStyleModel",
            "description_width": "initial",
            "_view_module": "@jupyter-widgets/base",
            "_model_module_version": "1.5.0",
            "_view_count": null,
            "_view_module_version": "1.2.0",
            "bar_color": null,
            "_model_module": "@jupyter-widgets/controls"
          }
        },
        "b11e58c443ab473fbabdbe3b54dee573": {
          "model_module": "@jupyter-widgets/base",
          "model_name": "LayoutModel",
          "state": {
            "_view_name": "LayoutView",
            "grid_template_rows": null,
            "right": null,
            "justify_content": null,
            "_view_module": "@jupyter-widgets/base",
            "overflow": null,
            "_model_module_version": "1.2.0",
            "_view_count": null,
            "flex_flow": null,
            "width": null,
            "min_width": null,
            "border": null,
            "align_items": null,
            "bottom": null,
            "_model_module": "@jupyter-widgets/base",
            "top": null,
            "grid_column": null,
            "overflow_y": null,
            "overflow_x": null,
            "grid_auto_flow": null,
            "grid_area": null,
            "grid_template_columns": null,
            "flex": null,
            "_model_name": "LayoutModel",
            "justify_items": null,
            "grid_row": null,
            "max_height": null,
            "align_content": null,
            "visibility": null,
            "align_self": null,
            "height": null,
            "min_height": null,
            "padding": null,
            "grid_auto_rows": null,
            "grid_gap": null,
            "max_width": null,
            "order": null,
            "_view_module_version": "1.2.0",
            "grid_template_areas": null,
            "object_position": null,
            "object_fit": null,
            "grid_auto_columns": null,
            "margin": null,
            "display": null,
            "left": null
          }
        },
        "9b6c65b9e5ec4f2384d5d0be94720633": {
          "model_module": "@jupyter-widgets/controls",
          "model_name": "DescriptionStyleModel",
          "state": {
            "_view_name": "StyleView",
            "_model_name": "DescriptionStyleModel",
            "description_width": "",
            "_view_module": "@jupyter-widgets/base",
            "_model_module_version": "1.5.0",
            "_view_count": null,
            "_view_module_version": "1.2.0",
            "_model_module": "@jupyter-widgets/controls"
          }
        },
        "7081e39a586841479d35194dc2e45d20": {
          "model_module": "@jupyter-widgets/base",
          "model_name": "LayoutModel",
          "state": {
            "_view_name": "LayoutView",
            "grid_template_rows": null,
            "right": null,
            "justify_content": null,
            "_view_module": "@jupyter-widgets/base",
            "overflow": null,
            "_model_module_version": "1.2.0",
            "_view_count": null,
            "flex_flow": null,
            "width": null,
            "min_width": null,
            "border": null,
            "align_items": null,
            "bottom": null,
            "_model_module": "@jupyter-widgets/base",
            "top": null,
            "grid_column": null,
            "overflow_y": null,
            "overflow_x": null,
            "grid_auto_flow": null,
            "grid_area": null,
            "grid_template_columns": null,
            "flex": null,
            "_model_name": "LayoutModel",
            "justify_items": null,
            "grid_row": null,
            "max_height": null,
            "align_content": null,
            "visibility": null,
            "align_self": null,
            "height": null,
            "min_height": null,
            "padding": null,
            "grid_auto_rows": null,
            "grid_gap": null,
            "max_width": null,
            "order": null,
            "_view_module_version": "1.2.0",
            "grid_template_areas": null,
            "object_position": null,
            "object_fit": null,
            "grid_auto_columns": null,
            "margin": null,
            "display": null,
            "left": null
          }
        }
      }
    }
  },
  "cells": [
    {
      "cell_type": "markdown",
      "metadata": {
        "id": "view-in-github",
        "colab_type": "text"
      },
      "source": [
        "<a href=\"https://colab.research.google.com/github/kyochanpy/Google_Smartphone_Decimeter_Challenge/blob/main/defs/01.ipynb\" target=\"_parent\"><img src=\"https://colab.research.google.com/assets/colab-badge.svg\" alt=\"Open In Colab\"/></a>"
      ]
    },
    {
      "cell_type": "code",
      "metadata": {
        "id": "ubL7HcsqtpK1"
      },
      "source": [
        "!pip install optuna > /dev/null\n",
        "!pip install pyproj > /dev/null\n",
        "!pip install simdkalman > /dev/null\n",
        "    \n",
        "import os\n",
        "from glob import glob\n",
        "from pathlib import Path\n",
        "\n",
        "import numpy as np\n",
        "import pandas as pd\n",
        "import matplotlib.pyplot as plt\n",
        "from matplotlib_venn import venn2, venn2_circles\n",
        "import seaborn as sns\n",
        "\n",
        "import optuna\n",
        "import plotly\n",
        "import plotly.express as px\n",
        "import pyproj\n",
        "from pathlib import Path\n",
        "from pyproj import Proj, transform\n",
        "from tqdm.notebook import tqdm\n",
        "import simdkalman"
      ],
      "execution_count": 3,
      "outputs": []
    },
    {
      "cell_type": "code",
      "metadata": {
        "colab": {
          "base_uri": "https://localhost:8080/",
          "height": 66,
          "referenced_widgets": [
            "0c3769117ed8461781909e808b233010",
            "3dcea40317b64d49907483d1e8992e0b",
            "1c86cbfa0db64198a98e762a0bb3ca51",
            "6896e7bde38449e8a5455cf8ccba8749",
            "005ace7d5887471395c60b068f9ad460",
            "b11e58c443ab473fbabdbe3b54dee573",
            "9b6c65b9e5ec4f2384d5d0be94720633",
            "7081e39a586841479d35194dc2e45d20"
          ]
        },
        "id": "KrFUFWa8zIfM",
        "outputId": "4f94361f-aa22-4172-e0f8-7a6472ae5eab"
      },
      "source": [
        "path = Path(\"/content/drive/MyDrive/GSDC\")\n",
        "test_base = pd.read_csv(path / \"baseline_locations_test.csv\")\n",
        "sub = pd.read_csv(path / \"sample_submission.csv\")\n",
        "\n",
        "truths = (path / \"train\").rglob(\"ground_truth.csv\")\n",
        "\n",
        "df_list = []\n",
        "cols = [\"collectionName\", \"phoneName\", \"millisSinceGpsEpoch\", \"latDeg\", \"lngDeg\"]\n",
        "\n",
        "for t in tqdm(truths, total=73):\n",
        "    df_phone = pd.read_csv(t, usecols=cols)\n",
        "    df_list.append(df_phone)\n",
        "df_truth = pd.concat(df_list, ignore_index=True)\n",
        "\n",
        "train_base = pd.read_csv(path / \"baseline_locations_train.csv\", usecols=cols)\n",
        "all_df = df_truth.merge(train_base, how=\"inner\", on=cols[:3], suffixes=(\"_truth\", '_train_base'))"
      ],
      "execution_count": 4,
      "outputs": [
        {
          "output_type": "display_data",
          "data": {
            "application/vnd.jupyter.widget-view+json": {
              "model_id": "0c3769117ed8461781909e808b233010",
              "version_minor": 0,
              "version_major": 2
            },
            "text/plain": [
              "HBox(children=(FloatProgress(value=0.0, max=73.0), HTML(value='')))"
            ]
          },
          "metadata": {
            "tags": []
          }
        },
        {
          "output_type": "stream",
          "text": [
            "\n"
          ],
          "name": "stdout"
        }
      ]
    },
    {
      "cell_type": "markdown",
      "metadata": {
        "id": "3wXZCYMJyzsc"
      },
      "source": [
        "# Check Score"
      ]
    },
    {
      "cell_type": "code",
      "metadata": {
        "id": "9T0v7EAKy05s"
      },
      "source": [
        "def check_score(input_df: pd.DataFrame) -> pd.DataFrame:\n",
        "    output_df = input_df.copy()\n",
        "    \n",
        "    output_df['meter'] = input_df.apply(\n",
        "        lambda r: calc_haversine(\n",
        "            r.latDeg, r.lngDeg, r.t_latDeg, r.t_lngDeg\n",
        "        ),\n",
        "        axis=1\n",
        "    )\n",
        "\n",
        "    meter_score = output_df['meter'].mean()\n",
        "    print(f'error meter: {meter_score}')\n",
        "\n",
        "    scores = []\n",
        "    for phone in output_df['phone'].unique():\n",
        "        _index = output_df['phone']==phone\n",
        "        p_50 = np.percentile(output_df.loc[_index, 'meter'], 50)\n",
        "        p_95 = np.percentile(output_df.loc[_index, 'meter'], 95)\n",
        "        scores.append(p_50)\n",
        "        scores.append(p_95)\n",
        "\n",
        "    score = sum(scores) / len(scores)\n",
        "    print(f'score: {score}')\n",
        "    \n",
        "    return output_df"
      ],
      "execution_count": 5,
      "outputs": []
    },
    {
      "cell_type": "markdown",
      "metadata": {
        "id": "RdLHnEimwPLM"
      },
      "source": [
        "# calc_haversine"
      ]
    },
    {
      "cell_type": "code",
      "metadata": {
        "id": "7VDUxww-wQC1"
      },
      "source": [
        "def calc_haversine(lat1, lon1, lat2, lon2):\n",
        "    RADIUS = 6_367_000\n",
        "    lat1, lon1, lat2, lon2 = map(np.radians, [lat1, lon1, lat2, lon2])\n",
        "    dlat = lat2 - lat1\n",
        "    dlon = lon2 - lon1\n",
        "    d = np.sin(dlat/2)**2 + np.cos(lat1) * np.cos(lat2) * np.sin(dlon/2)**2\n",
        "    dist = 2 * RADIUS * np.arcsin(d**0.5)\n",
        "    return dist"
      ],
      "execution_count": 6,
      "outputs": []
    },
    {
      "cell_type": "markdown",
      "metadata": {
        "id": "jREXCU29vopb"
      },
      "source": [
        "# Mean Prediction"
      ]
    },
    {
      "cell_type": "code",
      "metadata": {
        "id": "-cJW3kqYvmlZ"
      },
      "source": [
        "def mean_prediction(input_df):\n",
        "    def make_lerp_data(input_df):\n",
        "        org_colus = input_df.columns\n",
        "\n",
        "        time_list = input_df[[\"collectionName\", \"millisSinceGpsEpoch\"]].drop_duplicates()\n",
        "        phone_list = input_df[[\"collectionName\", \"phoneName\"]].drop_duplicates()\n",
        "        tmp = time_list.merge(phone_list, on=\"collectionName\", how=\"outer\")\n",
        "\n",
        "        output_df = tmp.merge(input_df, on=[\"collectionName\", \"millisSinceGpsEpoch\", \"phoneName\"], how=\"left\")\n",
        "        output_df[\"phone\"] = output_df[\"collectionName\"] + \"_\" + output_df[\"phoneName\"]\n",
        "        output_df = output_df.sort_values([\"phone\", \"millisSinceGpsEpoch\"])\n",
        "\n",
        "        output_df[\"latDeg_pre\"] = output_df[\"latDeg\"].shift(1)\n",
        "        output_df[\"latDeg_pro\"] = output_df[\"latDeg\"].shift(-1)\n",
        "        output_df[\"lngDeg_pre\"] = output_df[\"lngDeg\"].shift(1)\n",
        "        output_df[\"lngDeg_pro\"] = output_df[\"lngDeg\"].shift(-1)\n",
        "        output_df[\"phone_pre\"] = output_df[\"phone\"].shift(1)\n",
        "        output_df[\"phone_pro\"] = output_df[\"phone\"].shift(-1)\n",
        "        output_df[\"millisSinceGpsEpoch_pre\"] = output_df[\"millisSinceGpsEpoch\"].shift(1)\n",
        "        output_df[\"millisSinceGpsEpoch_pro\"] = output_df[\"millisSinceGpsEpoch\"].shift(-1)\n",
        "\n",
        "        output_df = output_df[(output_df[\"latDeg\"].isnull())&(output_df[\"phone\"] == output_df[\"phone_pre\"])&\n",
        "                            (output_df[\"phone\"] == output_df[\"phone_pro\"])].copy()\n",
        "\n",
        "        output_df[\"latDeg\"] = output_df[\"latDeg_pre\"] + ((output_df[\"latDeg_pro\"] - output_df[\"latDeg_pre\"]) * \n",
        "                                                        ((output_df[\"millisSinceGpsEpoch\"] - output_df[\"millisSinceGpsEpoch_pre\"]) /\n",
        "                                                        (output_df[\"millisSinceGpsEpoch_pro\"] - output_df[\"millisSinceGpsEpoch_pre\"])))\n",
        "        output_df[\"lngDeg\"] = output_df[\"lngDeg_pre\"] + ((output_df[\"lngDeg_pro\"] - output_df[\"lngDeg_pre\"]) * \n",
        "                                                        ((output_df[\"millisSinceGpsEpoch\"] - output_df[\"millisSinceGpsEpoch_pre\"]) /\n",
        "                                                        (output_df[\"millisSinceGpsEpoch_pro\"] - output_df[\"millisSinceGpsEpoch_pre\"])))\n",
        "        \n",
        "        output_df = output_df[~output_df['latDeg'].isnull()]\n",
        "\n",
        "        return output_df[org_colus]\n",
        "\n",
        "    \n",
        "    def calc_mean_pred(input_df, lerp_df):\n",
        "        input_df[\"phone\"] = input_df[\"collectionName\"] + \"_\" + input_df[\"phoneName\"]\n",
        "        add_lerp = pd.concat([input_df, lerp_df])\n",
        "        mean_pred_result = add_lerp.groupby([\"collectionName\", \"millisSinceGpsEpoch\"])[[\"latDeg\", \"lngDeg\"]].mean().reset_index()\n",
        "        output_df = input_df[[\"collectionName\", \"phoneName\", \"millisSinceGpsEpoch\"]].copy()\n",
        "        output_df = output_df.merge(mean_pred_result[[\"collectionName\", \"millisSinceGpsEpoch\", \"latDeg\", \"lngDeg\"]],\n",
        "                                        on=[\"collectionName\", \"millisSinceGpsEpoch\"], how=\"left\")\n",
        "        output_df[\"phone\"] = output_df[\"collectionName\"] + \"_\" + output_df[\"phoneName\"]\n",
        "        return output_df\n",
        "\n",
        "\n",
        "    test_lerp = make_lerp_data(input_df)\n",
        "    test_mean_pred  = calc_mean_pred(input_df, test_lerp)\n",
        "\n",
        "    sub[\"latDeg\"] = test_mean_pred[\"latDeg\"]\n",
        "    sub[\"lngDeg\"] = test_mean_pred[\"lngDeg\"]\n",
        "\n",
        "    output_df = sub.copy()\n",
        "    output_df[\"phoneName\"] = input_df[\"phoneName\"]\n",
        "    output_df[\"collectionName\"] = input_df[\"collectionName\"]\n",
        "    output_df[\"millisSinceGpsEpoch\"] = input_df[\"millisSinceGpsEpoch\"]\n",
        "\n",
        "    return output_df"
      ],
      "execution_count": 7,
      "outputs": []
    },
    {
      "cell_type": "markdown",
      "metadata": {
        "id": "FTbqp7iPwcAz"
      },
      "source": [
        "# Outlier "
      ]
    },
    {
      "cell_type": "code",
      "metadata": {
        "id": "DQssaob_wiX4"
      },
      "source": [
        "def outlier_test_per_95(input_df):\n",
        "    output_df = input_df\n",
        "\n",
        "    def calc_haversine(lat1, lon1, lat2, lon2):\n",
        "        RADIUS = 6_367_000\n",
        "        lat1, lon1, lat2, lon2 = map(np.radians, [lat1, lon1, lat2, lon2])\n",
        "        dlat = lat2 - lat1\n",
        "        dlon = lon2 - lon1\n",
        "        d = np.sin(dlat/2)**2 + np.cos(lat1) * np.cos(lat2) * np.sin(dlon/2)**2\n",
        "        dist = 2 * RADIUS * np.arcsin(d**0.5)\n",
        "        return dist\n",
        "\n",
        "    output_df[\"dist_pre\"] = 0\n",
        "    output_df[\"dist_pro\"] = 0\n",
        "\n",
        "    output_df['latDeg_pre'] = output_df['latDeg'].shift(periods=1,fill_value=0)\n",
        "    output_df['lngDeg_pre'] = output_df['lngDeg'].shift(periods=1,fill_value=0)\n",
        "    output_df['latDeg_pro'] = output_df['latDeg'].shift(periods=-1,fill_value=0)\n",
        "    output_df['lngDeg_pro'] = output_df['lngDeg'].shift(periods=-1,fill_value=0)\n",
        "    output_df['dist_pre'] = calc_haversine(output_df.latDeg_pre, output_df.lngDeg_pre, output_df.latDeg, output_df.lngDeg)\n",
        "    output_df['dist_pro'] = calc_haversine(output_df.latDeg, output_df.lngDeg, output_df.latDeg_pro, output_df.lngDeg_pro)\n",
        "\n",
        "    list_phone = output_df['phone'].unique()\n",
        "    for phone in list_phone:\n",
        "        ind_s = output_df[test_base['phone'] == phone].index[0]\n",
        "        ind_e = output_df[test_base['phone'] == phone].index[-1]\n",
        "        output_df.loc[ind_s,'dist_pre'] = 0\n",
        "        output_df.loc[ind_e,'dist_pro'] = 0\n",
        "\n",
        "    pro_95 = output_df['dist_pro'].mean() + (output_df['dist_pro'].std() * 2)\n",
        "    pre_95 = output_df['dist_pre'].mean() + (output_df['dist_pre'].std() * 2)\n",
        "    ind = output_df[(output_df['dist_pro'] > pro_95)&(output_df['dist_pre'] > pre_95)][['dist_pre','dist_pro']].index\n",
        "\n",
        "    for i in ind:\n",
        "        output_df.loc[i,'latDeg'] = (output_df.loc[i-1,'latDeg'] + output_df.loc[i+1,'latDeg'])/2\n",
        "        output_df.loc[i,'lngDeg'] = (output_df.loc[i-1,'lngDeg'] + output_df.loc[i+1,'lngDeg'])/2\n",
        "\n",
        "    output_df[\"phoneName\"] = input_df[\"phoneName\"]\n",
        "    output_df[\"collectionName\"] = input_df[\"collectionName\"]\n",
        "    output_df[\"millisSinceGpsEpoch\"] = input_df[\"millisSinceGpsEpoch\"]\n",
        "\n",
        "    return output_df"
      ],
      "execution_count": 8,
      "outputs": []
    },
    {
      "cell_type": "markdown",
      "metadata": {
        "id": "7u76gVm3wnQm"
      },
      "source": [
        "# Position Shift"
      ]
    },
    {
      "cell_type": "code",
      "metadata": {
        "id": "6I6SqX0Dwqw7"
      },
      "source": [
        "def position_shift(input_df):\n",
        "    sub_cols = sub.columns\n",
        "\n",
        "    train_p_s = pd.read_csv(path / \"baseline_locations_train.csv\")\n",
        "    train_b = train_p_s[sub_cols]\n",
        "    test_b = test_base[sub_cols]\n",
        "\n",
        "    msge = \"millisSinceGpsEpoch\"\n",
        "\n",
        "    datadir = Path('/content/drive/MyDrive/GSDC')\n",
        "    testdir = datadir / 'test'\n",
        "    traindir = datadir / 'train'\n",
        "\n",
        "    g_t = pd.DataFrame()\n",
        "    for d in os.listdir(traindir):\n",
        "        for p in os.listdir(traindir/d):\n",
        "            g_t = g_t.append(pd.read_csv(traindir/d/p/'ground_truth.csv'))\n",
        "\n",
        "    g_t[\"phone\"] = g_t[\"collectionName\"] + \"_\" + g_t[\"phoneName\"]\n",
        "    g_t_sub_cols = g_t[sub_cols]\n",
        "\n",
        "\n",
        "    def compute_dist(fname_1, fname_2=g_t):\n",
        "        oof = fname_1\n",
        "        g_t = fname_2\n",
        "        df = oof.merge(g_t, on=[\"phone\", \"millisSinceGpsEpoch\"])\n",
        "        dist_oof = calc_haversine(df.latDeg_x, df.lngDeg_x, df.latDeg_y, df.lngDeg_y)\n",
        "        scores = pd.DataFrame({\"phone\":df.phone, \"dist\":dist_oof})\n",
        "        scores_grp = scores.groupby(\"phone\")\n",
        "        d_50 = scores_grp.quantile(.50).reset_index()\n",
        "        d_50.columns = [\"phone\", \"q_50\"]\n",
        "        d_95 = scores_grp.quantile(.95).reset_index()\n",
        "        d_95.columns = [\"phone\", \"q_95\"]\n",
        "        return (scores_grp.quantile(.50).mean() + scores_grp.quantile(.95).mean()) / 2, d_50.merge(d_95)\n",
        "\n",
        "\n",
        "    def WGS84_to_ECEF(lat, lon, alt):\n",
        "        rad_lat = lat * (np.pi / 180.0)\n",
        "        rad_lon = lon * (np.pi / 180.0)\n",
        "        a = 6378137.0\n",
        "        finv = 298.257223563\n",
        "        f = 1 / finv   \n",
        "        e2 = 1 - (1 - f) * (1 - f)    \n",
        "        N = a / np.sqrt(1 - e2 * np.sin(rad_lat) * np.sin(rad_lat))\n",
        "        x = (N + alt) * np.cos(rad_lat) * np.cos(rad_lon)\n",
        "        y = (N + alt) * np.cos(rad_lat) * np.sin(rad_lon)\n",
        "        z = (N * (1 - e2) + alt)        * np.sin(rad_lat)\n",
        "        return x, y, z    \n",
        "\n",
        "\n",
        "    transformer = pyproj.Transformer.from_crs(\n",
        "        {\"proj\":'geocent', \"ellps\":'WGS84', \"datum\":'WGS84'},\n",
        "        {\"proj\":'latlong', \"ellps\":'WGS84', \"datum\":'WGS84'},)\n",
        "\n",
        "\n",
        "    def ECEF_to_WGS84(x, y, z):\n",
        "        lon, lat, alt = transformer.transform(x, y, z, radians=False)\n",
        "        return lon, lat, alt\n",
        "\n",
        "\n",
        "    def position_shift_(input_df, a):\n",
        "        output_df = input_df.copy()\n",
        "        output_df[\"heightAboveWgs84EllipsoidM\"] = 63.5\n",
        "        output_df[\"x\"], output_df[\"y\"], output_df[\"z\"] = zip(*output_df.apply(lambda x: WGS84_to_ECEF(x.latDeg, x.lngDeg, \n",
        "                                                                                                    x.heightAboveWgs84EllipsoidM), axis=1))\n",
        "        output_df.sort_values([\"phone\", msge], inplace=True)\n",
        "        for fi in [\"x\", \"y\", \"z\"]:\n",
        "            output_df[[fi + \"_p\"]] = output_df[fi].shift().where(output_df[\"phone\"].eq(output_df[\"phone\"].shift()))\n",
        "            output_df[[fi + \"_diff\"]] = output_df[fi] - output_df[fi + \"_p\"]\n",
        "\n",
        "        output_df[[\"dist\"]] = np.sqrt(output_df[\"x_diff\"]**2 + output_df[\"y_diff\"]**2 + output_df[\"z_diff\"]**2)\n",
        "        for fi in [\"x\", \"y\", \"z\"]:\n",
        "            output_df[[fi + \"_new\"]] = output_df[fi + \"_p\"] + output_df[fi + \"_diff\"] * (1 - a/output_df[\"dist\"])\n",
        "        lng, lat, alt = ECEF_to_WGS84(output_df[\"x_new\"].values, output_df[\"y_new\"].values, output_df[\"z_new\"].values)\n",
        "\n",
        "        lat[np.isnan(lat)] = output_df.loc[np.isnan(lat), \"latDeg\"]\n",
        "        lng[np.isnan(lng)] = output_df.loc[np.isnan(lng), \"lngDeg\"]\n",
        "        output_df[\"latDeg\"] = lat\n",
        "        output_df[\"lngDeg\"] = lng\n",
        "\n",
        "        output_df.sort_values([\"phone\", msge], inplace=True)\n",
        "\n",
        "        return output_df[sub_cols]\n",
        "\n",
        "\n",
        "    def objective(trial):\n",
        "        a = trial.suggest_uniform(\"a\", -1, 1)\n",
        "        score, scores = compute_dist(position_shift_(train_b, a), g_t)\n",
        "        return score\n",
        "\n",
        "\n",
        "    study = optuna.create_study()\n",
        "    study.optimize(objective, n_trials=30)\n",
        "\n",
        "    output_df = position_shift_(test_base, a=study.best_params[\"a\"])\n",
        "\n",
        "    output_df[\"phoneName\"] = input_df[\"phoneName\"]\n",
        "    output_df[\"collectionName\"] = input_df[\"collectionName\"]\n",
        "    output_df[\"millisSinceGpsEpoch\"] = input_df[\"millisSinceGpsEpoch\"]\n",
        "\n",
        "    return output_df"
      ],
      "execution_count": 9,
      "outputs": []
    },
    {
      "cell_type": "markdown",
      "metadata": {
        "id": "d6Cr7EMUxHlw"
      },
      "source": [
        "# Remove Device"
      ]
    },
    {
      "cell_type": "code",
      "metadata": {
        "id": "vYfuD_AqxL-8"
      },
      "source": [
        "def remove_device(input_df):\n",
        "\n",
        "    def get_groundtruth(path: Path) -> pd.DataFrame:\n",
        "        output_df = pd.DataFrame()\n",
        "        \n",
        "        for path in glob(str(path / 'train/*/*/ground_truth.csv')):\n",
        "            _df = pd.read_csv(path)\n",
        "            output_df = pd.concat([output_df, _df])\n",
        "        output_df = output_df.reset_index(drop=True)\n",
        "        \n",
        "        _columns = ['latDeg', 'lngDeg', 'heightAboveWgs84EllipsoidM']\n",
        "        output_df[['t_'+col for col in _columns]] = output_df[_columns]\n",
        "        output_df = output_df.drop(columns=_columns, axis=1)\n",
        "        return output_df\n",
        "\n",
        "    train_base = pd.read_csv(path / \"baseline_locations_train.csv\", usecols=cols)\n",
        "    train_base = train_base.merge(\n",
        "    get_groundtruth(path),\n",
        "    on=['collectionName', 'phoneName', 'millisSinceGpsEpoch']\n",
        "    )\n",
        "\n",
        "    remove_list = []\n",
        "    for name, df in train_base.groupby('collectionName'):\n",
        "        phones_list = df[\"phoneName\"].unique().tolist()\n",
        "        meter_list = []\n",
        "\n",
        "        if (len(phones_list) == 1):\n",
        "                remove_list.append('dont_remove')\n",
        "                continue\n",
        "\n",
        "        for phone in phones_list:\n",
        "            phone_df = df[df[\"phoneName\"] == phone]\n",
        "            phone_df['meter'] = phone_df.apply(lambda r: calc_haversine(r.latDeg, r.lngDeg, r.t_latDeg, r.t_lngDeg),axis=1)\n",
        "            meter_score = phone_df['meter'].mean()\n",
        "            meter_list.append(meter_score)\n",
        "        remove_meter = sorted(meter_list)[-1]\n",
        "        remove_idx = meter_list.index(remove_meter)\n",
        "        remove_list.append(phones_list[remove_idx])\n",
        "\n",
        "\n",
        "    def get_removedevice(input_df):\n",
        "        input_df['index'] = input_df.index\n",
        "        input_df = input_df.sort_values('millisSinceGpsEpoch')\n",
        "        input_df.index = input_df['millisSinceGpsEpoch'].values\n",
        "        sub_list = list(input_df[\"collectionName\"].unique())\n",
        "\n",
        "        output_df = pd.DataFrame() \n",
        "        for i, subdf in input_df.groupby('collectionName'):\n",
        "\n",
        "            phones = subdf['phoneName'].unique()\n",
        "            sub_idx = sub_list.index(i)\n",
        "            device = remove_list[sub_idx-1]\n",
        "\n",
        "            if (len(phones) == 1) or (not device in phones):\n",
        "                output_df = pd.concat([output_df, subdf])\n",
        "                continue\n",
        "\n",
        "            origin_df = subdf.copy()\n",
        "                \n",
        "            _index = subdf['phoneName']==device\n",
        "            subdf.loc[_index, 'latDeg'] = np.nan\n",
        "            subdf.loc[_index, 'lngDeg'] = np.nan\n",
        "            subdf = subdf.interpolate(method='index', limit_area='inside')\n",
        "\n",
        "            _index = subdf['latDeg'].isnull()\n",
        "            subdf.loc[_index, 'latDeg'] = origin_df.loc[_index, 'latDeg'].values\n",
        "            subdf.loc[_index, 'lngDeg'] = origin_df.loc[_index, 'lngDeg'].values\n",
        "\n",
        "            output_df = pd.concat([output_df, subdf])\n",
        "\n",
        "        output_df.index = output_df['index'].values\n",
        "        output_df = output_df.sort_index()\n",
        "\n",
        "        del output_df['index']\n",
        "            \n",
        "        return output_df\n",
        "\n",
        "\n",
        "    output_df = get_removedevice(input_df)\n",
        "\n",
        "\n",
        "    output_df[\"phoneName\"] = input_df[\"phoneName\"]\n",
        "    output_df[\"collectionName\"] = input_df[\"collectionName\"]\n",
        "    output_df[\"millisSinceGpsEpoch\"] = input_df[\"millisSinceGpsEpoch\"]\n",
        "    \n",
        "    return output_df"
      ],
      "execution_count": 10,
      "outputs": []
    },
    {
      "cell_type": "markdown",
      "metadata": {
        "id": "LcfHGGsZxdYd"
      },
      "source": [
        "# Kalman Filter"
      ]
    },
    {
      "cell_type": "code",
      "metadata": {
        "id": "2unm2PhcxhV0"
      },
      "source": [
        "def kalman_filter(input_df):\n",
        "    \n",
        "    T = 1.0\n",
        "    state_transition = np.array([[1, 0, T, 0, 0.5 * T ** 2, 0], [0, 1, 0, T, 0, 0.5 * T ** 2], [0, 0, 1, 0, T, 0],\n",
        "                                [0, 0, 0, 1, 0, T], [0, 0, 0, 0, 1, 0], [0, 0, 0, 0, 0, 1]])\n",
        "    process_noise = np.diag([1e-5, 1e-5, 5e-6, 5e-6, 1e-6, 1e-6]) + np.ones((6, 6)) * 1e-9\n",
        "    observation_model = np.array([[1, 0, 0, 0, 0, 0], [0, 1, 0, 0, 0, 0]])\n",
        "    observation_noise = np.diag([1e-4, 1e-4]) + np.ones((2, 2)) * 1e-9\n",
        "\n",
        "    kf = simdkalman.KalmanFilter(\n",
        "            state_transition = state_transition,\n",
        "            process_noise = process_noise,\n",
        "            observation_model = observation_model,\n",
        "            observation_noise = observation_noise)\n",
        "    \n",
        "    def apply_kf_smoothing(df, kf_=kf):\n",
        "        unique_paths = df[['collectionName', 'phoneName']].drop_duplicates().to_numpy()\n",
        "        for collection, phone in tqdm(unique_paths):\n",
        "            cond = np.logical_and(df['collectionName'] == collection, df['phoneName'] == phone)\n",
        "            data = df[cond][['latDeg', 'lngDeg']].to_numpy()\n",
        "            data = data.reshape(1, len(data), 2)\n",
        "            smoothed = kf_.smooth(data)\n",
        "            df.loc[cond, 'latDeg'] = smoothed.states.mean[0, :, 0]\n",
        "            df.loc[cond, 'lngDeg'] = smoothed.states.mean[0, :, 1]\n",
        "        return df\n",
        "\n",
        "    kf_smoothed_baseline = apply_kf_smoothing(input_df)\n",
        "    output_df = sub.assign(latDeg = kf_smoothed_baseline.latDeg, lngDeg = kf_smoothed_baseline.lngDeg)\n",
        "    output_df[\"phoneName\"] = input_df[\"phoneName\"]\n",
        "    output_df[\"collectionName\"] = input_df[\"collectionName\"]\n",
        "    output_df[\"millisSinceGpsEpoch\"] = input_df[\"millisSinceGpsEpoch\"]\n",
        "    \n",
        "    return output_df"
      ],
      "execution_count": 11,
      "outputs": []
    },
    {
      "cell_type": "code",
      "metadata": {
        "id": "T2UuTQ-Kyu_K"
      },
      "source": [
        ""
      ],
      "execution_count": null,
      "outputs": []
    },
    {
      "cell_type": "markdown",
      "metadata": {
        "id": "O5ONOIUP4JdW"
      },
      "source": [
        "# SUB"
      ]
    },
    {
      "cell_type": "code",
      "metadata": {
        "id": "A9AWvAfB4H50"
      },
      "source": [
        "submission_1 = outlier_test_per_95(train))\n",
        "submission_2 = kalman_filter(test_base)\n",
        "submission_3 = mean_prediction(test_base)\n",
        "submission_4 = remove_device(test_base)\n",
        "submission_5 = position_shift(test_base)"
      ],
      "execution_count": null,
      "outputs": []
    },
    {
      "cell_type": "code",
      "metadata": {
        "colab": {
          "base_uri": "https://localhost:8080/"
        },
        "id": "lqaetDTOm6aA",
        "outputId": "b10dd473-75ab-40d8-8b06-cfbe5c8c5435"
      },
      "source": [
        "submission_4 = remove_device(test_base)\n",
        "submission_5 = position_shift(test_base)"
      ],
      "execution_count": 12,
      "outputs": [
        {
          "output_type": "stream",
          "text": [
            "/usr/local/lib/python3.7/dist-packages/ipykernel_launcher.py:33: SettingWithCopyWarning:\n",
            "\n",
            "\n",
            "A value is trying to be set on a copy of a slice from a DataFrame.\n",
            "Try using .loc[row_indexer,col_indexer] = value instead\n",
            "\n",
            "See the caveats in the documentation: https://pandas.pydata.org/pandas-docs/stable/user_guide/indexing.html#returning-a-view-versus-a-copy\n",
            "\n",
            "\u001b[32m[I 2021-06-29 07:11:29,691]\u001b[0m A new study created in memory with name: no-name-e720c3de-389b-459d-b950-23bc52337956\u001b[0m\n",
            "\u001b[32m[I 2021-06-29 07:11:36,248]\u001b[0m Trial 0 finished with value: 5.208480915832899 and parameters: {'a': 0.3383851974501615}. Best is trial 0 with value: 5.208480915832899.\u001b[0m\n",
            "\u001b[32m[I 2021-06-29 07:11:42,662]\u001b[0m Trial 1 finished with value: 5.615642342866335 and parameters: {'a': -0.7594864489444135}. Best is trial 0 with value: 5.208480915832899.\u001b[0m\n",
            "\u001b[32m[I 2021-06-29 07:11:49,299]\u001b[0m Trial 2 finished with value: 5.188384777486013 and parameters: {'a': 0.6851136337219226}. Best is trial 2 with value: 5.188384777486013.\u001b[0m\n",
            "\u001b[32m[I 2021-06-29 07:11:55,654]\u001b[0m Trial 3 finished with value: 5.351576806235158 and parameters: {'a': -0.19225956062880245}. Best is trial 2 with value: 5.188384777486013.\u001b[0m\n",
            "\u001b[32m[I 2021-06-29 07:12:02,224]\u001b[0m Trial 4 finished with value: 5.7347295253120105 and parameters: {'a': -0.9676108908176033}. Best is trial 2 with value: 5.188384777486013.\u001b[0m\n",
            "\u001b[32m[I 2021-06-29 07:12:08,563]\u001b[0m Trial 5 finished with value: 5.310702972125233 and parameters: {'a': -0.07848579320412097}. Best is trial 2 with value: 5.188384777486013.\u001b[0m\n",
            "\u001b[32m[I 2021-06-29 07:12:14,995]\u001b[0m Trial 6 finished with value: 5.72248845577534 and parameters: {'a': -0.9455650990788844}. Best is trial 2 with value: 5.188384777486013.\u001b[0m\n",
            "\u001b[32m[I 2021-06-29 07:12:21,304]\u001b[0m Trial 7 finished with value: 5.744246171960405 and parameters: {'a': -0.9841052853309378}. Best is trial 2 with value: 5.188384777486013.\u001b[0m\n",
            "\u001b[32m[I 2021-06-29 07:12:27,826]\u001b[0m Trial 8 finished with value: 5.189854577617201 and parameters: {'a': 0.5931605680949255}. Best is trial 2 with value: 5.188384777486013.\u001b[0m\n",
            "\u001b[32m[I 2021-06-29 07:12:34,220]\u001b[0m Trial 9 finished with value: 5.194786616074031 and parameters: {'a': 0.7806654827427342}. Best is trial 2 with value: 5.188384777486013.\u001b[0m\n",
            "\u001b[32m[I 2021-06-29 07:12:40,692]\u001b[0m Trial 10 finished with value: 5.212836152365995 and parameters: {'a': 0.9858428157909731}. Best is trial 2 with value: 5.188384777486013.\u001b[0m\n",
            "\u001b[32m[I 2021-06-29 07:12:46,960]\u001b[0m Trial 11 finished with value: 5.193989215591747 and parameters: {'a': 0.46569483414860796}. Best is trial 2 with value: 5.188384777486013.\u001b[0m\n",
            "\u001b[32m[I 2021-06-29 07:12:53,351]\u001b[0m Trial 12 finished with value: 5.189050024479231 and parameters: {'a': 0.6180139476874029}. Best is trial 2 with value: 5.188384777486013.\u001b[0m\n",
            "\u001b[32m[I 2021-06-29 07:12:59,683]\u001b[0m Trial 13 finished with value: 5.206174073597066 and parameters: {'a': 0.9337732773693828}. Best is trial 2 with value: 5.188384777486013.\u001b[0m\n",
            "\u001b[32m[I 2021-06-29 07:13:06,088]\u001b[0m Trial 14 finished with value: 5.2181010030270745 and parameters: {'a': 0.2830381699975342}. Best is trial 2 with value: 5.188384777486013.\u001b[0m\n",
            "\u001b[32m[I 2021-06-29 07:13:12,564]\u001b[0m Trial 15 finished with value: 5.250976823867643 and parameters: {'a': 0.12858295972584166}. Best is trial 2 with value: 5.188384777486013.\u001b[0m\n",
            "\u001b[32m[I 2021-06-29 07:13:19,150]\u001b[0m Trial 16 finished with value: 5.437038700564549 and parameters: {'a': -0.4047056335244147}. Best is trial 2 with value: 5.188384777486013.\u001b[0m\n",
            "\u001b[32m[I 2021-06-29 07:13:25,538]\u001b[0m Trial 17 finished with value: 5.188783228583606 and parameters: {'a': 0.6909955700706968}. Best is trial 2 with value: 5.188384777486013.\u001b[0m\n",
            "\u001b[32m[I 2021-06-29 07:13:32,107]\u001b[0m Trial 18 finished with value: 5.198847186769732 and parameters: {'a': 0.8465964607868576}. Best is trial 2 with value: 5.188384777486013.\u001b[0m\n",
            "\u001b[32m[I 2021-06-29 07:13:38,331]\u001b[0m Trial 19 finished with value: 5.187974286216164 and parameters: {'a': 0.6332569716583241}. Best is trial 19 with value: 5.187974286216164.\u001b[0m\n",
            "\u001b[32m[I 2021-06-29 07:13:44,732]\u001b[0m Trial 20 finished with value: 5.230381490080077 and parameters: {'a': 0.2179964362668615}. Best is trial 19 with value: 5.187974286216164.\u001b[0m\n",
            "\u001b[32m[I 2021-06-29 07:13:51,029]\u001b[0m Trial 21 finished with value: 5.187572265840969 and parameters: {'a': 0.6717741983074701}. Best is trial 21 with value: 5.187572265840969.\u001b[0m\n",
            "\u001b[32m[I 2021-06-29 07:13:57,577]\u001b[0m Trial 22 finished with value: 5.193372287670758 and parameters: {'a': 0.4768589571911578}. Best is trial 21 with value: 5.187572265840969.\u001b[0m\n",
            "\u001b[32m[I 2021-06-29 07:14:03,786]\u001b[0m Trial 23 finished with value: 5.212329213178288 and parameters: {'a': 0.9827778596386875}. Best is trial 21 with value: 5.187572265840969.\u001b[0m\n",
            "\u001b[32m[I 2021-06-29 07:14:10,305]\u001b[0m Trial 24 finished with value: 5.195288444153705 and parameters: {'a': 0.4486936399447551}. Best is trial 21 with value: 5.187572265840969.\u001b[0m\n",
            "\u001b[32m[I 2021-06-29 07:14:16,622]\u001b[0m Trial 25 finished with value: 5.193857140991051 and parameters: {'a': 0.7610716527903234}. Best is trial 21 with value: 5.187572265840969.\u001b[0m\n",
            "\u001b[32m[I 2021-06-29 07:14:23,030]\u001b[0m Trial 26 finished with value: 5.263976402531028 and parameters: {'a': 0.08014050120264882}. Best is trial 21 with value: 5.187572265840969.\u001b[0m\n",
            "\u001b[32m[I 2021-06-29 07:14:29,295]\u001b[0m Trial 27 finished with value: 5.19085910724528 and parameters: {'a': 0.5705252105907646}. Best is trial 21 with value: 5.187572265840969.\u001b[0m\n",
            "\u001b[32m[I 2021-06-29 07:14:35,820]\u001b[0m Trial 28 finished with value: 5.198819927641207 and parameters: {'a': 0.8476177055227503}. Best is trial 21 with value: 5.187572265840969.\u001b[0m\n",
            "\u001b[32m[I 2021-06-29 07:14:42,290]\u001b[0m Trial 29 finished with value: 5.200274909880555 and parameters: {'a': 0.3895044333694862}. Best is trial 21 with value: 5.187572265840969.\u001b[0m\n"
          ],
          "name": "stderr"
        }
      ]
    },
    {
      "cell_type": "code",
      "metadata": {
        "id": "IyYF5cDiLGFf"
      },
      "source": [
        "submission_1[sub.columns].to_csv('submission_fake_06.csv', index=False)"
      ],
      "execution_count": 48,
      "outputs": []
    },
    {
      "cell_type": "code",
      "metadata": {
        "id": "YKSsYaJ8MZlm"
      },
      "source": [
        "submission_2[sub.columns].to_csv('submission_fake_07.csv', index=False)"
      ],
      "execution_count": 49,
      "outputs": []
    },
    {
      "cell_type": "code",
      "metadata": {
        "id": "mADXh678MaL9"
      },
      "source": [
        "submission_3[sub.columns].to_csv('submission_fake_08.csv', index=False)"
      ],
      "execution_count": 50,
      "outputs": []
    },
    {
      "cell_type": "code",
      "metadata": {
        "id": "b4QIuhmCmqIM"
      },
      "source": [
        "submission_4[sub.columns].to_csv('submission_fake_09.csv', index=False)"
      ],
      "execution_count": 13,
      "outputs": []
    },
    {
      "cell_type": "code",
      "metadata": {
        "id": "6ayZWZ1ZmqFH"
      },
      "source": [
        "submission_5[sub.columns].to_csv('submission_fake_10.csv', index=False)"
      ],
      "execution_count": 14,
      "outputs": []
    },
    {
      "cell_type": "code",
      "metadata": {
        "id": "g_fDp8gQ5PyV"
      },
      "source": [
        "submission[sub.columns].to_csv('submission_12.csv', index=False)"
      ],
      "execution_count": 44,
      "outputs": []
    },
    {
      "cell_type": "code",
      "metadata": {
        "colab": {
          "base_uri": "https://localhost:8080/",
          "height": 317
        },
        "id": "EULSvlvw5dRp",
        "outputId": "e08bd8e2-f521-4539-ccd0-09f64db8aea9"
      },
      "source": [
        "check_score(submission_3)"
      ],
      "execution_count": 47,
      "outputs": [
        {
          "output_type": "error",
          "ename": "AttributeError",
          "evalue": "ignored",
          "traceback": [
            "\u001b[0;31m---------------------------------------------------------------------------\u001b[0m",
            "\u001b[0;31mAttributeError\u001b[0m                            Traceback (most recent call last)",
            "\u001b[0;32m<ipython-input-47-6d718bcc0b2e>\u001b[0m in \u001b[0;36m<module>\u001b[0;34m()\u001b[0m\n\u001b[0;32m----> 1\u001b[0;31m \u001b[0mcheck_score\u001b[0m\u001b[0;34m(\u001b[0m\u001b[0msubmission_3\u001b[0m\u001b[0;34m)\u001b[0m\u001b[0;34m\u001b[0m\u001b[0;34m\u001b[0m\u001b[0m\n\u001b[0m",
            "\u001b[0;32m<ipython-input-18-d98faa4b621c>\u001b[0m in \u001b[0;36mcheck_score\u001b[0;34m(input_df)\u001b[0m\n\u001b[1;32m      6\u001b[0m             \u001b[0mr\u001b[0m\u001b[0;34m.\u001b[0m\u001b[0mlatDeg\u001b[0m\u001b[0;34m,\u001b[0m \u001b[0mr\u001b[0m\u001b[0;34m.\u001b[0m\u001b[0mlngDeg\u001b[0m\u001b[0;34m,\u001b[0m \u001b[0mr\u001b[0m\u001b[0;34m.\u001b[0m\u001b[0mt_latDeg\u001b[0m\u001b[0;34m,\u001b[0m \u001b[0mr\u001b[0m\u001b[0;34m.\u001b[0m\u001b[0mt_lngDeg\u001b[0m\u001b[0;34m\u001b[0m\u001b[0;34m\u001b[0m\u001b[0m\n\u001b[1;32m      7\u001b[0m         ),\n\u001b[0;32m----> 8\u001b[0;31m         \u001b[0maxis\u001b[0m\u001b[0;34m=\u001b[0m\u001b[0;36m1\u001b[0m\u001b[0;34m\u001b[0m\u001b[0;34m\u001b[0m\u001b[0m\n\u001b[0m\u001b[1;32m      9\u001b[0m     )\n\u001b[1;32m     10\u001b[0m \u001b[0;34m\u001b[0m\u001b[0m\n",
            "\u001b[0;32m/usr/local/lib/python3.7/dist-packages/pandas/core/frame.py\u001b[0m in \u001b[0;36mapply\u001b[0;34m(self, func, axis, raw, result_type, args, **kwds)\u001b[0m\n\u001b[1;32m   7550\u001b[0m             \u001b[0mkwds\u001b[0m\u001b[0;34m=\u001b[0m\u001b[0mkwds\u001b[0m\u001b[0;34m,\u001b[0m\u001b[0;34m\u001b[0m\u001b[0;34m\u001b[0m\u001b[0m\n\u001b[1;32m   7551\u001b[0m         )\n\u001b[0;32m-> 7552\u001b[0;31m         \u001b[0;32mreturn\u001b[0m \u001b[0mop\u001b[0m\u001b[0;34m.\u001b[0m\u001b[0mget_result\u001b[0m\u001b[0;34m(\u001b[0m\u001b[0;34m)\u001b[0m\u001b[0;34m\u001b[0m\u001b[0;34m\u001b[0m\u001b[0m\n\u001b[0m\u001b[1;32m   7553\u001b[0m \u001b[0;34m\u001b[0m\u001b[0m\n\u001b[1;32m   7554\u001b[0m     \u001b[0;32mdef\u001b[0m \u001b[0mapplymap\u001b[0m\u001b[0;34m(\u001b[0m\u001b[0mself\u001b[0m\u001b[0;34m,\u001b[0m \u001b[0mfunc\u001b[0m\u001b[0;34m)\u001b[0m \u001b[0;34m->\u001b[0m \u001b[0;34m\"DataFrame\"\u001b[0m\u001b[0;34m:\u001b[0m\u001b[0;34m\u001b[0m\u001b[0;34m\u001b[0m\u001b[0m\n",
            "\u001b[0;32m/usr/local/lib/python3.7/dist-packages/pandas/core/apply.py\u001b[0m in \u001b[0;36mget_result\u001b[0;34m(self)\u001b[0m\n\u001b[1;32m    183\u001b[0m             \u001b[0;32mreturn\u001b[0m \u001b[0mself\u001b[0m\u001b[0;34m.\u001b[0m\u001b[0mapply_raw\u001b[0m\u001b[0;34m(\u001b[0m\u001b[0;34m)\u001b[0m\u001b[0;34m\u001b[0m\u001b[0;34m\u001b[0m\u001b[0m\n\u001b[1;32m    184\u001b[0m \u001b[0;34m\u001b[0m\u001b[0m\n\u001b[0;32m--> 185\u001b[0;31m         \u001b[0;32mreturn\u001b[0m \u001b[0mself\u001b[0m\u001b[0;34m.\u001b[0m\u001b[0mapply_standard\u001b[0m\u001b[0;34m(\u001b[0m\u001b[0;34m)\u001b[0m\u001b[0;34m\u001b[0m\u001b[0;34m\u001b[0m\u001b[0m\n\u001b[0m\u001b[1;32m    186\u001b[0m \u001b[0;34m\u001b[0m\u001b[0m\n\u001b[1;32m    187\u001b[0m     \u001b[0;32mdef\u001b[0m \u001b[0mapply_empty_result\u001b[0m\u001b[0;34m(\u001b[0m\u001b[0mself\u001b[0m\u001b[0;34m)\u001b[0m\u001b[0;34m:\u001b[0m\u001b[0;34m\u001b[0m\u001b[0;34m\u001b[0m\u001b[0m\n",
            "\u001b[0;32m/usr/local/lib/python3.7/dist-packages/pandas/core/apply.py\u001b[0m in \u001b[0;36mapply_standard\u001b[0;34m(self)\u001b[0m\n\u001b[1;32m    274\u001b[0m \u001b[0;34m\u001b[0m\u001b[0m\n\u001b[1;32m    275\u001b[0m     \u001b[0;32mdef\u001b[0m \u001b[0mapply_standard\u001b[0m\u001b[0;34m(\u001b[0m\u001b[0mself\u001b[0m\u001b[0;34m)\u001b[0m\u001b[0;34m:\u001b[0m\u001b[0;34m\u001b[0m\u001b[0;34m\u001b[0m\u001b[0m\n\u001b[0;32m--> 276\u001b[0;31m         \u001b[0mresults\u001b[0m\u001b[0;34m,\u001b[0m \u001b[0mres_index\u001b[0m \u001b[0;34m=\u001b[0m \u001b[0mself\u001b[0m\u001b[0;34m.\u001b[0m\u001b[0mapply_series_generator\u001b[0m\u001b[0;34m(\u001b[0m\u001b[0;34m)\u001b[0m\u001b[0;34m\u001b[0m\u001b[0;34m\u001b[0m\u001b[0m\n\u001b[0m\u001b[1;32m    277\u001b[0m \u001b[0;34m\u001b[0m\u001b[0m\n\u001b[1;32m    278\u001b[0m         \u001b[0;31m# wrap results\u001b[0m\u001b[0;34m\u001b[0m\u001b[0;34m\u001b[0m\u001b[0;34m\u001b[0m\u001b[0m\n",
            "\u001b[0;32m/usr/local/lib/python3.7/dist-packages/pandas/core/apply.py\u001b[0m in \u001b[0;36mapply_series_generator\u001b[0;34m(self)\u001b[0m\n\u001b[1;32m    303\u001b[0m                 \u001b[0;32mfor\u001b[0m \u001b[0mi\u001b[0m\u001b[0;34m,\u001b[0m \u001b[0mv\u001b[0m \u001b[0;32min\u001b[0m \u001b[0menumerate\u001b[0m\u001b[0;34m(\u001b[0m\u001b[0mseries_gen\u001b[0m\u001b[0;34m)\u001b[0m\u001b[0;34m:\u001b[0m\u001b[0;34m\u001b[0m\u001b[0;34m\u001b[0m\u001b[0m\n\u001b[1;32m    304\u001b[0m                     \u001b[0;31m# ignore SettingWithCopy here in case the user mutates\u001b[0m\u001b[0;34m\u001b[0m\u001b[0;34m\u001b[0m\u001b[0;34m\u001b[0m\u001b[0m\n\u001b[0;32m--> 305\u001b[0;31m                     \u001b[0mresults\u001b[0m\u001b[0;34m[\u001b[0m\u001b[0mi\u001b[0m\u001b[0;34m]\u001b[0m \u001b[0;34m=\u001b[0m \u001b[0mself\u001b[0m\u001b[0;34m.\u001b[0m\u001b[0mf\u001b[0m\u001b[0;34m(\u001b[0m\u001b[0mv\u001b[0m\u001b[0;34m)\u001b[0m\u001b[0;34m\u001b[0m\u001b[0;34m\u001b[0m\u001b[0m\n\u001b[0m\u001b[1;32m    306\u001b[0m                     \u001b[0;32mif\u001b[0m \u001b[0misinstance\u001b[0m\u001b[0;34m(\u001b[0m\u001b[0mresults\u001b[0m\u001b[0;34m[\u001b[0m\u001b[0mi\u001b[0m\u001b[0;34m]\u001b[0m\u001b[0;34m,\u001b[0m \u001b[0mABCSeries\u001b[0m\u001b[0;34m)\u001b[0m\u001b[0;34m:\u001b[0m\u001b[0;34m\u001b[0m\u001b[0;34m\u001b[0m\u001b[0m\n\u001b[1;32m    307\u001b[0m                         \u001b[0;31m# If we have a view on v, we need to make a copy because\u001b[0m\u001b[0;34m\u001b[0m\u001b[0;34m\u001b[0m\u001b[0;34m\u001b[0m\u001b[0m\n",
            "\u001b[0;32m<ipython-input-18-d98faa4b621c>\u001b[0m in \u001b[0;36m<lambda>\u001b[0;34m(r)\u001b[0m\n\u001b[1;32m      4\u001b[0m     output_df['meter'] = input_df.apply(\n\u001b[1;32m      5\u001b[0m         lambda r: calc_haversine(\n\u001b[0;32m----> 6\u001b[0;31m             \u001b[0mr\u001b[0m\u001b[0;34m.\u001b[0m\u001b[0mlatDeg\u001b[0m\u001b[0;34m,\u001b[0m \u001b[0mr\u001b[0m\u001b[0;34m.\u001b[0m\u001b[0mlngDeg\u001b[0m\u001b[0;34m,\u001b[0m \u001b[0mr\u001b[0m\u001b[0;34m.\u001b[0m\u001b[0mt_latDeg\u001b[0m\u001b[0;34m,\u001b[0m \u001b[0mr\u001b[0m\u001b[0;34m.\u001b[0m\u001b[0mt_lngDeg\u001b[0m\u001b[0;34m\u001b[0m\u001b[0;34m\u001b[0m\u001b[0m\n\u001b[0m\u001b[1;32m      7\u001b[0m         ),\n\u001b[1;32m      8\u001b[0m         \u001b[0maxis\u001b[0m\u001b[0;34m=\u001b[0m\u001b[0;36m1\u001b[0m\u001b[0;34m\u001b[0m\u001b[0;34m\u001b[0m\u001b[0m\n",
            "\u001b[0;32m/usr/local/lib/python3.7/dist-packages/pandas/core/generic.py\u001b[0m in \u001b[0;36m__getattr__\u001b[0;34m(self, name)\u001b[0m\n\u001b[1;32m   5139\u001b[0m             \u001b[0;32mif\u001b[0m \u001b[0mself\u001b[0m\u001b[0;34m.\u001b[0m\u001b[0m_info_axis\u001b[0m\u001b[0;34m.\u001b[0m\u001b[0m_can_hold_identifiers_and_holds_name\u001b[0m\u001b[0;34m(\u001b[0m\u001b[0mname\u001b[0m\u001b[0;34m)\u001b[0m\u001b[0;34m:\u001b[0m\u001b[0;34m\u001b[0m\u001b[0;34m\u001b[0m\u001b[0m\n\u001b[1;32m   5140\u001b[0m                 \u001b[0;32mreturn\u001b[0m \u001b[0mself\u001b[0m\u001b[0;34m[\u001b[0m\u001b[0mname\u001b[0m\u001b[0;34m]\u001b[0m\u001b[0;34m\u001b[0m\u001b[0;34m\u001b[0m\u001b[0m\n\u001b[0;32m-> 5141\u001b[0;31m             \u001b[0;32mreturn\u001b[0m \u001b[0mobject\u001b[0m\u001b[0;34m.\u001b[0m\u001b[0m__getattribute__\u001b[0m\u001b[0;34m(\u001b[0m\u001b[0mself\u001b[0m\u001b[0;34m,\u001b[0m \u001b[0mname\u001b[0m\u001b[0;34m)\u001b[0m\u001b[0;34m\u001b[0m\u001b[0;34m\u001b[0m\u001b[0m\n\u001b[0m\u001b[1;32m   5142\u001b[0m \u001b[0;34m\u001b[0m\u001b[0m\n\u001b[1;32m   5143\u001b[0m     \u001b[0;32mdef\u001b[0m \u001b[0m__setattr__\u001b[0m\u001b[0;34m(\u001b[0m\u001b[0mself\u001b[0m\u001b[0;34m,\u001b[0m \u001b[0mname\u001b[0m\u001b[0;34m:\u001b[0m \u001b[0mstr\u001b[0m\u001b[0;34m,\u001b[0m \u001b[0mvalue\u001b[0m\u001b[0;34m)\u001b[0m \u001b[0;34m->\u001b[0m \u001b[0;32mNone\u001b[0m\u001b[0;34m:\u001b[0m\u001b[0;34m\u001b[0m\u001b[0;34m\u001b[0m\u001b[0m\n",
            "\u001b[0;31mAttributeError\u001b[0m: 'Series' object has no attribute 't_latDeg'"
          ]
        }
      ]
    },
    {
      "cell_type": "code",
      "metadata": {
        "colab": {
          "base_uri": "https://localhost:8080/",
          "height": 589
        },
        "id": "meS1zYl8HB5F",
        "outputId": "1b535a09-e61a-49a0-82d8-1b68ae311255"
      },
      "source": [
        "submission"
      ],
      "execution_count": 43,
      "outputs": [
        {
          "output_type": "execute_result",
          "data": {
            "text/html": [
              "<div>\n",
              "<style scoped>\n",
              "    .dataframe tbody tr th:only-of-type {\n",
              "        vertical-align: middle;\n",
              "    }\n",
              "\n",
              "    .dataframe tbody tr th {\n",
              "        vertical-align: top;\n",
              "    }\n",
              "\n",
              "    .dataframe thead th {\n",
              "        text-align: right;\n",
              "    }\n",
              "</style>\n",
              "<table border=\"1\" class=\"dataframe\">\n",
              "  <thead>\n",
              "    <tr style=\"text-align: right;\">\n",
              "      <th></th>\n",
              "      <th>phone</th>\n",
              "      <th>millisSinceGpsEpoch</th>\n",
              "      <th>latDeg</th>\n",
              "      <th>lngDeg</th>\n",
              "      <th>phoneName</th>\n",
              "      <th>collectionName</th>\n",
              "    </tr>\n",
              "  </thead>\n",
              "  <tbody>\n",
              "    <tr>\n",
              "      <th>0</th>\n",
              "      <td>2020-05-15-US-MTV-1_Pixel4</td>\n",
              "      <td>1273608785432</td>\n",
              "      <td>37.416386</td>\n",
              "      <td>-122.081262</td>\n",
              "      <td>Pixel4</td>\n",
              "      <td>2020-05-15-US-MTV-1</td>\n",
              "    </tr>\n",
              "    <tr>\n",
              "      <th>1</th>\n",
              "      <td>2020-05-15-US-MTV-1_Pixel4</td>\n",
              "      <td>1273608786432</td>\n",
              "      <td>37.416470</td>\n",
              "      <td>-122.081532</td>\n",
              "      <td>Pixel4</td>\n",
              "      <td>2020-05-15-US-MTV-1</td>\n",
              "    </tr>\n",
              "    <tr>\n",
              "      <th>2</th>\n",
              "      <td>2020-05-15-US-MTV-1_Pixel4</td>\n",
              "      <td>1273608787432</td>\n",
              "      <td>37.416538</td>\n",
              "      <td>-122.081750</td>\n",
              "      <td>Pixel4</td>\n",
              "      <td>2020-05-15-US-MTV-1</td>\n",
              "    </tr>\n",
              "    <tr>\n",
              "      <th>3</th>\n",
              "      <td>2020-05-15-US-MTV-1_Pixel4</td>\n",
              "      <td>1273608788432</td>\n",
              "      <td>37.416588</td>\n",
              "      <td>-122.081910</td>\n",
              "      <td>Pixel4</td>\n",
              "      <td>2020-05-15-US-MTV-1</td>\n",
              "    </tr>\n",
              "    <tr>\n",
              "      <th>4</th>\n",
              "      <td>2020-05-15-US-MTV-1_Pixel4</td>\n",
              "      <td>1273608789432</td>\n",
              "      <td>37.416622</td>\n",
              "      <td>-122.082018</td>\n",
              "      <td>Pixel4</td>\n",
              "      <td>2020-05-15-US-MTV-1</td>\n",
              "    </tr>\n",
              "    <tr>\n",
              "      <th>...</th>\n",
              "      <td>...</td>\n",
              "      <td>...</td>\n",
              "      <td>...</td>\n",
              "      <td>...</td>\n",
              "      <td>...</td>\n",
              "      <td>...</td>\n",
              "    </tr>\n",
              "    <tr>\n",
              "      <th>91481</th>\n",
              "      <td>2021-04-29-US-SJC-3_SamsungS20Ultra</td>\n",
              "      <td>1303763185000</td>\n",
              "      <td>37.334547</td>\n",
              "      <td>-121.899402</td>\n",
              "      <td>SamsungS20Ultra</td>\n",
              "      <td>2021-04-29-US-SJC-3</td>\n",
              "    </tr>\n",
              "    <tr>\n",
              "      <th>91482</th>\n",
              "      <td>2021-04-29-US-SJC-3_SamsungS20Ultra</td>\n",
              "      <td>1303763186000</td>\n",
              "      <td>37.334547</td>\n",
              "      <td>-121.899393</td>\n",
              "      <td>SamsungS20Ultra</td>\n",
              "      <td>2021-04-29-US-SJC-3</td>\n",
              "    </tr>\n",
              "    <tr>\n",
              "      <th>91483</th>\n",
              "      <td>2021-04-29-US-SJC-3_SamsungS20Ultra</td>\n",
              "      <td>1303763187000</td>\n",
              "      <td>37.334548</td>\n",
              "      <td>-121.899383</td>\n",
              "      <td>SamsungS20Ultra</td>\n",
              "      <td>2021-04-29-US-SJC-3</td>\n",
              "    </tr>\n",
              "    <tr>\n",
              "      <th>91484</th>\n",
              "      <td>2021-04-29-US-SJC-3_SamsungS20Ultra</td>\n",
              "      <td>1303763188000</td>\n",
              "      <td>37.334549</td>\n",
              "      <td>-121.899372</td>\n",
              "      <td>SamsungS20Ultra</td>\n",
              "      <td>2021-04-29-US-SJC-3</td>\n",
              "    </tr>\n",
              "    <tr>\n",
              "      <th>91485</th>\n",
              "      <td>2021-04-29-US-SJC-3_SamsungS20Ultra</td>\n",
              "      <td>1303763189000</td>\n",
              "      <td>37.334550</td>\n",
              "      <td>-121.899359</td>\n",
              "      <td>SamsungS20Ultra</td>\n",
              "      <td>2021-04-29-US-SJC-3</td>\n",
              "    </tr>\n",
              "  </tbody>\n",
              "</table>\n",
              "<p>91486 rows × 6 columns</p>\n",
              "</div>"
            ],
            "text/plain": [
              "                                     phone  ...       collectionName\n",
              "0               2020-05-15-US-MTV-1_Pixel4  ...  2020-05-15-US-MTV-1\n",
              "1               2020-05-15-US-MTV-1_Pixel4  ...  2020-05-15-US-MTV-1\n",
              "2               2020-05-15-US-MTV-1_Pixel4  ...  2020-05-15-US-MTV-1\n",
              "3               2020-05-15-US-MTV-1_Pixel4  ...  2020-05-15-US-MTV-1\n",
              "4               2020-05-15-US-MTV-1_Pixel4  ...  2020-05-15-US-MTV-1\n",
              "...                                    ...  ...                  ...\n",
              "91481  2021-04-29-US-SJC-3_SamsungS20Ultra  ...  2021-04-29-US-SJC-3\n",
              "91482  2021-04-29-US-SJC-3_SamsungS20Ultra  ...  2021-04-29-US-SJC-3\n",
              "91483  2021-04-29-US-SJC-3_SamsungS20Ultra  ...  2021-04-29-US-SJC-3\n",
              "91484  2021-04-29-US-SJC-3_SamsungS20Ultra  ...  2021-04-29-US-SJC-3\n",
              "91485  2021-04-29-US-SJC-3_SamsungS20Ultra  ...  2021-04-29-US-SJC-3\n",
              "\n",
              "[91486 rows x 6 columns]"
            ]
          },
          "metadata": {
            "tags": []
          },
          "execution_count": 43
        }
      ]
    },
    {
      "cell_type": "code",
      "metadata": {
        "colab": {
          "base_uri": "https://localhost:8080/",
          "height": 419
        },
        "id": "h4BZsQNvH3vX",
        "outputId": "b574b053-974b-475d-f569-552048f8d194"
      },
      "source": [
        "submission[sub.columns]"
      ],
      "execution_count": 45,
      "outputs": [
        {
          "output_type": "execute_result",
          "data": {
            "text/html": [
              "<div>\n",
              "<style scoped>\n",
              "    .dataframe tbody tr th:only-of-type {\n",
              "        vertical-align: middle;\n",
              "    }\n",
              "\n",
              "    .dataframe tbody tr th {\n",
              "        vertical-align: top;\n",
              "    }\n",
              "\n",
              "    .dataframe thead th {\n",
              "        text-align: right;\n",
              "    }\n",
              "</style>\n",
              "<table border=\"1\" class=\"dataframe\">\n",
              "  <thead>\n",
              "    <tr style=\"text-align: right;\">\n",
              "      <th></th>\n",
              "      <th>phone</th>\n",
              "      <th>millisSinceGpsEpoch</th>\n",
              "      <th>latDeg</th>\n",
              "      <th>lngDeg</th>\n",
              "    </tr>\n",
              "  </thead>\n",
              "  <tbody>\n",
              "    <tr>\n",
              "      <th>0</th>\n",
              "      <td>2020-05-15-US-MTV-1_Pixel4</td>\n",
              "      <td>1273608785432</td>\n",
              "      <td>37.416386</td>\n",
              "      <td>-122.081262</td>\n",
              "    </tr>\n",
              "    <tr>\n",
              "      <th>1</th>\n",
              "      <td>2020-05-15-US-MTV-1_Pixel4</td>\n",
              "      <td>1273608786432</td>\n",
              "      <td>37.416470</td>\n",
              "      <td>-122.081532</td>\n",
              "    </tr>\n",
              "    <tr>\n",
              "      <th>2</th>\n",
              "      <td>2020-05-15-US-MTV-1_Pixel4</td>\n",
              "      <td>1273608787432</td>\n",
              "      <td>37.416538</td>\n",
              "      <td>-122.081750</td>\n",
              "    </tr>\n",
              "    <tr>\n",
              "      <th>3</th>\n",
              "      <td>2020-05-15-US-MTV-1_Pixel4</td>\n",
              "      <td>1273608788432</td>\n",
              "      <td>37.416588</td>\n",
              "      <td>-122.081910</td>\n",
              "    </tr>\n",
              "    <tr>\n",
              "      <th>4</th>\n",
              "      <td>2020-05-15-US-MTV-1_Pixel4</td>\n",
              "      <td>1273608789432</td>\n",
              "      <td>37.416622</td>\n",
              "      <td>-122.082018</td>\n",
              "    </tr>\n",
              "    <tr>\n",
              "      <th>...</th>\n",
              "      <td>...</td>\n",
              "      <td>...</td>\n",
              "      <td>...</td>\n",
              "      <td>...</td>\n",
              "    </tr>\n",
              "    <tr>\n",
              "      <th>91481</th>\n",
              "      <td>2021-04-29-US-SJC-3_SamsungS20Ultra</td>\n",
              "      <td>1303763185000</td>\n",
              "      <td>37.334547</td>\n",
              "      <td>-121.899402</td>\n",
              "    </tr>\n",
              "    <tr>\n",
              "      <th>91482</th>\n",
              "      <td>2021-04-29-US-SJC-3_SamsungS20Ultra</td>\n",
              "      <td>1303763186000</td>\n",
              "      <td>37.334547</td>\n",
              "      <td>-121.899393</td>\n",
              "    </tr>\n",
              "    <tr>\n",
              "      <th>91483</th>\n",
              "      <td>2021-04-29-US-SJC-3_SamsungS20Ultra</td>\n",
              "      <td>1303763187000</td>\n",
              "      <td>37.334548</td>\n",
              "      <td>-121.899383</td>\n",
              "    </tr>\n",
              "    <tr>\n",
              "      <th>91484</th>\n",
              "      <td>2021-04-29-US-SJC-3_SamsungS20Ultra</td>\n",
              "      <td>1303763188000</td>\n",
              "      <td>37.334549</td>\n",
              "      <td>-121.899372</td>\n",
              "    </tr>\n",
              "    <tr>\n",
              "      <th>91485</th>\n",
              "      <td>2021-04-29-US-SJC-3_SamsungS20Ultra</td>\n",
              "      <td>1303763189000</td>\n",
              "      <td>37.334550</td>\n",
              "      <td>-121.899359</td>\n",
              "    </tr>\n",
              "  </tbody>\n",
              "</table>\n",
              "<p>91486 rows × 4 columns</p>\n",
              "</div>"
            ],
            "text/plain": [
              "                                     phone  ...      lngDeg\n",
              "0               2020-05-15-US-MTV-1_Pixel4  ... -122.081262\n",
              "1               2020-05-15-US-MTV-1_Pixel4  ... -122.081532\n",
              "2               2020-05-15-US-MTV-1_Pixel4  ... -122.081750\n",
              "3               2020-05-15-US-MTV-1_Pixel4  ... -122.081910\n",
              "4               2020-05-15-US-MTV-1_Pixel4  ... -122.082018\n",
              "...                                    ...  ...         ...\n",
              "91481  2021-04-29-US-SJC-3_SamsungS20Ultra  ... -121.899402\n",
              "91482  2021-04-29-US-SJC-3_SamsungS20Ultra  ... -121.899393\n",
              "91483  2021-04-29-US-SJC-3_SamsungS20Ultra  ... -121.899383\n",
              "91484  2021-04-29-US-SJC-3_SamsungS20Ultra  ... -121.899372\n",
              "91485  2021-04-29-US-SJC-3_SamsungS20Ultra  ... -121.899359\n",
              "\n",
              "[91486 rows x 4 columns]"
            ]
          },
          "metadata": {
            "tags": []
          },
          "execution_count": 45
        }
      ]
    },
    {
      "cell_type": "code",
      "metadata": {
        "id": "tztGiwpKKJfF"
      },
      "source": [
        ""
      ],
      "execution_count": null,
      "outputs": []
    }
  ]
}