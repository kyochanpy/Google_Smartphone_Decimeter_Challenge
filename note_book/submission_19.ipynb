{
  "nbformat": 4,
  "nbformat_minor": 0,
  "metadata": {
    "colab": {
      "name": "Untitled104.ipynb",
      "provenance": [],
      "collapsed_sections": [],
      "mount_file_id": "https://github.com/kyochanpy/Google_Smartphone_Decimeter_Challenge/blob/main/note_book/submission_17.ipynb",
      "authorship_tag": "ABX9TyPyBe679ftu4CkCA+se9yk/",
      "include_colab_link": true
    },
    "kernelspec": {
      "name": "python3",
      "display_name": "Python 3"
    },
    "language_info": {
      "name": "python"
    },
    "widgets": {
      "application/vnd.jupyter.widget-state+json": {
        "f375e7d2737d4fdf9a08e0440df71285": {
          "model_module": "@jupyter-widgets/controls",
          "model_name": "HBoxModel",
          "state": {
            "_view_name": "HBoxView",
            "_dom_classes": [],
            "_model_name": "HBoxModel",
            "_view_module": "@jupyter-widgets/controls",
            "_model_module_version": "1.5.0",
            "_view_count": null,
            "_view_module_version": "1.5.0",
            "box_style": "",
            "layout": "IPY_MODEL_b4ed5585c61248389c946b1a36536209",
            "_model_module": "@jupyter-widgets/controls",
            "children": [
              "IPY_MODEL_b022b8baa26a444d926fc609ba5c79b9",
              "IPY_MODEL_ec8626c09dc049b3a28df2acea3b8173"
            ]
          }
        },
        "b4ed5585c61248389c946b1a36536209": {
          "model_module": "@jupyter-widgets/base",
          "model_name": "LayoutModel",
          "state": {
            "_view_name": "LayoutView",
            "grid_template_rows": null,
            "right": null,
            "justify_content": null,
            "_view_module": "@jupyter-widgets/base",
            "overflow": null,
            "_model_module_version": "1.2.0",
            "_view_count": null,
            "flex_flow": null,
            "width": null,
            "min_width": null,
            "border": null,
            "align_items": null,
            "bottom": null,
            "_model_module": "@jupyter-widgets/base",
            "top": null,
            "grid_column": null,
            "overflow_y": null,
            "overflow_x": null,
            "grid_auto_flow": null,
            "grid_area": null,
            "grid_template_columns": null,
            "flex": null,
            "_model_name": "LayoutModel",
            "justify_items": null,
            "grid_row": null,
            "max_height": null,
            "align_content": null,
            "visibility": null,
            "align_self": null,
            "height": null,
            "min_height": null,
            "padding": null,
            "grid_auto_rows": null,
            "grid_gap": null,
            "max_width": null,
            "order": null,
            "_view_module_version": "1.2.0",
            "grid_template_areas": null,
            "object_position": null,
            "object_fit": null,
            "grid_auto_columns": null,
            "margin": null,
            "display": null,
            "left": null
          }
        },
        "b022b8baa26a444d926fc609ba5c79b9": {
          "model_module": "@jupyter-widgets/controls",
          "model_name": "FloatProgressModel",
          "state": {
            "_view_name": "ProgressView",
            "style": "IPY_MODEL_87e192c5f559451e9364a9bb36be025f",
            "_dom_classes": [],
            "description": "100%",
            "_model_name": "FloatProgressModel",
            "bar_style": "success",
            "max": 73,
            "_view_module": "@jupyter-widgets/controls",
            "_model_module_version": "1.5.0",
            "value": 73,
            "_view_count": null,
            "_view_module_version": "1.5.0",
            "orientation": "horizontal",
            "min": 0,
            "description_tooltip": null,
            "_model_module": "@jupyter-widgets/controls",
            "layout": "IPY_MODEL_4a888772f2ef4c87814df354c567e29e"
          }
        },
        "ec8626c09dc049b3a28df2acea3b8173": {
          "model_module": "@jupyter-widgets/controls",
          "model_name": "HTMLModel",
          "state": {
            "_view_name": "HTMLView",
            "style": "IPY_MODEL_733e34721d7d402a9a54564669410358",
            "_dom_classes": [],
            "description": "",
            "_model_name": "HTMLModel",
            "placeholder": "​",
            "_view_module": "@jupyter-widgets/controls",
            "_model_module_version": "1.5.0",
            "value": " 73/73 [00:12&lt;00:00,  5.69it/s]",
            "_view_count": null,
            "_view_module_version": "1.5.0",
            "description_tooltip": null,
            "_model_module": "@jupyter-widgets/controls",
            "layout": "IPY_MODEL_d8e11c7d49ce4d48a8691602df367fa2"
          }
        },
        "87e192c5f559451e9364a9bb36be025f": {
          "model_module": "@jupyter-widgets/controls",
          "model_name": "ProgressStyleModel",
          "state": {
            "_view_name": "StyleView",
            "_model_name": "ProgressStyleModel",
            "description_width": "initial",
            "_view_module": "@jupyter-widgets/base",
            "_model_module_version": "1.5.0",
            "_view_count": null,
            "_view_module_version": "1.2.0",
            "bar_color": null,
            "_model_module": "@jupyter-widgets/controls"
          }
        },
        "4a888772f2ef4c87814df354c567e29e": {
          "model_module": "@jupyter-widgets/base",
          "model_name": "LayoutModel",
          "state": {
            "_view_name": "LayoutView",
            "grid_template_rows": null,
            "right": null,
            "justify_content": null,
            "_view_module": "@jupyter-widgets/base",
            "overflow": null,
            "_model_module_version": "1.2.0",
            "_view_count": null,
            "flex_flow": null,
            "width": null,
            "min_width": null,
            "border": null,
            "align_items": null,
            "bottom": null,
            "_model_module": "@jupyter-widgets/base",
            "top": null,
            "grid_column": null,
            "overflow_y": null,
            "overflow_x": null,
            "grid_auto_flow": null,
            "grid_area": null,
            "grid_template_columns": null,
            "flex": null,
            "_model_name": "LayoutModel",
            "justify_items": null,
            "grid_row": null,
            "max_height": null,
            "align_content": null,
            "visibility": null,
            "align_self": null,
            "height": null,
            "min_height": null,
            "padding": null,
            "grid_auto_rows": null,
            "grid_gap": null,
            "max_width": null,
            "order": null,
            "_view_module_version": "1.2.0",
            "grid_template_areas": null,
            "object_position": null,
            "object_fit": null,
            "grid_auto_columns": null,
            "margin": null,
            "display": null,
            "left": null
          }
        },
        "733e34721d7d402a9a54564669410358": {
          "model_module": "@jupyter-widgets/controls",
          "model_name": "DescriptionStyleModel",
          "state": {
            "_view_name": "StyleView",
            "_model_name": "DescriptionStyleModel",
            "description_width": "",
            "_view_module": "@jupyter-widgets/base",
            "_model_module_version": "1.5.0",
            "_view_count": null,
            "_view_module_version": "1.2.0",
            "_model_module": "@jupyter-widgets/controls"
          }
        },
        "d8e11c7d49ce4d48a8691602df367fa2": {
          "model_module": "@jupyter-widgets/base",
          "model_name": "LayoutModel",
          "state": {
            "_view_name": "LayoutView",
            "grid_template_rows": null,
            "right": null,
            "justify_content": null,
            "_view_module": "@jupyter-widgets/base",
            "overflow": null,
            "_model_module_version": "1.2.0",
            "_view_count": null,
            "flex_flow": null,
            "width": null,
            "min_width": null,
            "border": null,
            "align_items": null,
            "bottom": null,
            "_model_module": "@jupyter-widgets/base",
            "top": null,
            "grid_column": null,
            "overflow_y": null,
            "overflow_x": null,
            "grid_auto_flow": null,
            "grid_area": null,
            "grid_template_columns": null,
            "flex": null,
            "_model_name": "LayoutModel",
            "justify_items": null,
            "grid_row": null,
            "max_height": null,
            "align_content": null,
            "visibility": null,
            "align_self": null,
            "height": null,
            "min_height": null,
            "padding": null,
            "grid_auto_rows": null,
            "grid_gap": null,
            "max_width": null,
            "order": null,
            "_view_module_version": "1.2.0",
            "grid_template_areas": null,
            "object_position": null,
            "object_fit": null,
            "grid_auto_columns": null,
            "margin": null,
            "display": null,
            "left": null
          }
        },
        "0281edce59114754820054e49752a285": {
          "model_module": "@jupyter-widgets/controls",
          "model_name": "HBoxModel",
          "state": {
            "_view_name": "HBoxView",
            "_dom_classes": [],
            "_model_name": "HBoxModel",
            "_view_module": "@jupyter-widgets/controls",
            "_model_module_version": "1.5.0",
            "_view_count": null,
            "_view_module_version": "1.5.0",
            "box_style": "",
            "layout": "IPY_MODEL_9b1ac6c822d74b8a87b07fa340dbe118",
            "_model_module": "@jupyter-widgets/controls",
            "children": [
              "IPY_MODEL_dc4e366ae3f948dba05ef9b0db010ca6",
              "IPY_MODEL_2c8773fa33574f3fae3120850e1b5d8f"
            ]
          }
        },
        "9b1ac6c822d74b8a87b07fa340dbe118": {
          "model_module": "@jupyter-widgets/base",
          "model_name": "LayoutModel",
          "state": {
            "_view_name": "LayoutView",
            "grid_template_rows": null,
            "right": null,
            "justify_content": null,
            "_view_module": "@jupyter-widgets/base",
            "overflow": null,
            "_model_module_version": "1.2.0",
            "_view_count": null,
            "flex_flow": null,
            "width": null,
            "min_width": null,
            "border": null,
            "align_items": null,
            "bottom": null,
            "_model_module": "@jupyter-widgets/base",
            "top": null,
            "grid_column": null,
            "overflow_y": null,
            "overflow_x": null,
            "grid_auto_flow": null,
            "grid_area": null,
            "grid_template_columns": null,
            "flex": null,
            "_model_name": "LayoutModel",
            "justify_items": null,
            "grid_row": null,
            "max_height": null,
            "align_content": null,
            "visibility": null,
            "align_self": null,
            "height": null,
            "min_height": null,
            "padding": null,
            "grid_auto_rows": null,
            "grid_gap": null,
            "max_width": null,
            "order": null,
            "_view_module_version": "1.2.0",
            "grid_template_areas": null,
            "object_position": null,
            "object_fit": null,
            "grid_auto_columns": null,
            "margin": null,
            "display": null,
            "left": null
          }
        },
        "dc4e366ae3f948dba05ef9b0db010ca6": {
          "model_module": "@jupyter-widgets/controls",
          "model_name": "FloatProgressModel",
          "state": {
            "_view_name": "ProgressView",
            "style": "IPY_MODEL_8da1da0d6c2346849508387c65940a9f",
            "_dom_classes": [],
            "description": "100%",
            "_model_name": "FloatProgressModel",
            "bar_style": "success",
            "max": 73,
            "_view_module": "@jupyter-widgets/controls",
            "_model_module_version": "1.5.0",
            "value": 73,
            "_view_count": null,
            "_view_module_version": "1.5.0",
            "orientation": "horizontal",
            "min": 0,
            "description_tooltip": null,
            "_model_module": "@jupyter-widgets/controls",
            "layout": "IPY_MODEL_52ea2c41addd4b2db1bc384fb20bf8ba"
          }
        },
        "2c8773fa33574f3fae3120850e1b5d8f": {
          "model_module": "@jupyter-widgets/controls",
          "model_name": "HTMLModel",
          "state": {
            "_view_name": "HTMLView",
            "style": "IPY_MODEL_d051b8de71614c26a8472e2953c26472",
            "_dom_classes": [],
            "description": "",
            "_model_name": "HTMLModel",
            "placeholder": "​",
            "_view_module": "@jupyter-widgets/controls",
            "_model_module_version": "1.5.0",
            "value": " 73/73 [00:52&lt;00:00,  1.38it/s]",
            "_view_count": null,
            "_view_module_version": "1.5.0",
            "description_tooltip": null,
            "_model_module": "@jupyter-widgets/controls",
            "layout": "IPY_MODEL_4fb73a8ab6d5492cae899adbfbcf423d"
          }
        },
        "8da1da0d6c2346849508387c65940a9f": {
          "model_module": "@jupyter-widgets/controls",
          "model_name": "ProgressStyleModel",
          "state": {
            "_view_name": "StyleView",
            "_model_name": "ProgressStyleModel",
            "description_width": "initial",
            "_view_module": "@jupyter-widgets/base",
            "_model_module_version": "1.5.0",
            "_view_count": null,
            "_view_module_version": "1.2.0",
            "bar_color": null,
            "_model_module": "@jupyter-widgets/controls"
          }
        },
        "52ea2c41addd4b2db1bc384fb20bf8ba": {
          "model_module": "@jupyter-widgets/base",
          "model_name": "LayoutModel",
          "state": {
            "_view_name": "LayoutView",
            "grid_template_rows": null,
            "right": null,
            "justify_content": null,
            "_view_module": "@jupyter-widgets/base",
            "overflow": null,
            "_model_module_version": "1.2.0",
            "_view_count": null,
            "flex_flow": null,
            "width": null,
            "min_width": null,
            "border": null,
            "align_items": null,
            "bottom": null,
            "_model_module": "@jupyter-widgets/base",
            "top": null,
            "grid_column": null,
            "overflow_y": null,
            "overflow_x": null,
            "grid_auto_flow": null,
            "grid_area": null,
            "grid_template_columns": null,
            "flex": null,
            "_model_name": "LayoutModel",
            "justify_items": null,
            "grid_row": null,
            "max_height": null,
            "align_content": null,
            "visibility": null,
            "align_self": null,
            "height": null,
            "min_height": null,
            "padding": null,
            "grid_auto_rows": null,
            "grid_gap": null,
            "max_width": null,
            "order": null,
            "_view_module_version": "1.2.0",
            "grid_template_areas": null,
            "object_position": null,
            "object_fit": null,
            "grid_auto_columns": null,
            "margin": null,
            "display": null,
            "left": null
          }
        },
        "d051b8de71614c26a8472e2953c26472": {
          "model_module": "@jupyter-widgets/controls",
          "model_name": "DescriptionStyleModel",
          "state": {
            "_view_name": "StyleView",
            "_model_name": "DescriptionStyleModel",
            "description_width": "",
            "_view_module": "@jupyter-widgets/base",
            "_model_module_version": "1.5.0",
            "_view_count": null,
            "_view_module_version": "1.2.0",
            "_model_module": "@jupyter-widgets/controls"
          }
        },
        "4fb73a8ab6d5492cae899adbfbcf423d": {
          "model_module": "@jupyter-widgets/base",
          "model_name": "LayoutModel",
          "state": {
            "_view_name": "LayoutView",
            "grid_template_rows": null,
            "right": null,
            "justify_content": null,
            "_view_module": "@jupyter-widgets/base",
            "overflow": null,
            "_model_module_version": "1.2.0",
            "_view_count": null,
            "flex_flow": null,
            "width": null,
            "min_width": null,
            "border": null,
            "align_items": null,
            "bottom": null,
            "_model_module": "@jupyter-widgets/base",
            "top": null,
            "grid_column": null,
            "overflow_y": null,
            "overflow_x": null,
            "grid_auto_flow": null,
            "grid_area": null,
            "grid_template_columns": null,
            "flex": null,
            "_model_name": "LayoutModel",
            "justify_items": null,
            "grid_row": null,
            "max_height": null,
            "align_content": null,
            "visibility": null,
            "align_self": null,
            "height": null,
            "min_height": null,
            "padding": null,
            "grid_auto_rows": null,
            "grid_gap": null,
            "max_width": null,
            "order": null,
            "_view_module_version": "1.2.0",
            "grid_template_areas": null,
            "object_position": null,
            "object_fit": null,
            "grid_auto_columns": null,
            "margin": null,
            "display": null,
            "left": null
          }
        },
        "d10df6d3463e4fd485a359ee74ea86bf": {
          "model_module": "@jupyter-widgets/controls",
          "model_name": "HBoxModel",
          "state": {
            "_view_name": "HBoxView",
            "_dom_classes": [],
            "_model_name": "HBoxModel",
            "_view_module": "@jupyter-widgets/controls",
            "_model_module_version": "1.5.0",
            "_view_count": null,
            "_view_module_version": "1.5.0",
            "box_style": "",
            "layout": "IPY_MODEL_54645984af5f466d8a9f1bb2a70a776b",
            "_model_module": "@jupyter-widgets/controls",
            "children": [
              "IPY_MODEL_2099370eb7ac4b4e87b8c77b44dea1be",
              "IPY_MODEL_5c9def19e340405cad2f0ca527ce900c"
            ]
          }
        },
        "54645984af5f466d8a9f1bb2a70a776b": {
          "model_module": "@jupyter-widgets/base",
          "model_name": "LayoutModel",
          "state": {
            "_view_name": "LayoutView",
            "grid_template_rows": null,
            "right": null,
            "justify_content": null,
            "_view_module": "@jupyter-widgets/base",
            "overflow": null,
            "_model_module_version": "1.2.0",
            "_view_count": null,
            "flex_flow": null,
            "width": null,
            "min_width": null,
            "border": null,
            "align_items": null,
            "bottom": null,
            "_model_module": "@jupyter-widgets/base",
            "top": null,
            "grid_column": null,
            "overflow_y": null,
            "overflow_x": null,
            "grid_auto_flow": null,
            "grid_area": null,
            "grid_template_columns": null,
            "flex": null,
            "_model_name": "LayoutModel",
            "justify_items": null,
            "grid_row": null,
            "max_height": null,
            "align_content": null,
            "visibility": null,
            "align_self": null,
            "height": null,
            "min_height": null,
            "padding": null,
            "grid_auto_rows": null,
            "grid_gap": null,
            "max_width": null,
            "order": null,
            "_view_module_version": "1.2.0",
            "grid_template_areas": null,
            "object_position": null,
            "object_fit": null,
            "grid_auto_columns": null,
            "margin": null,
            "display": null,
            "left": null
          }
        },
        "2099370eb7ac4b4e87b8c77b44dea1be": {
          "model_module": "@jupyter-widgets/controls",
          "model_name": "FloatProgressModel",
          "state": {
            "_view_name": "ProgressView",
            "style": "IPY_MODEL_e05e95bc7a8c4d8a830620117743705a",
            "_dom_classes": [],
            "description": "100%",
            "_model_name": "FloatProgressModel",
            "bar_style": "success",
            "max": 48,
            "_view_module": "@jupyter-widgets/controls",
            "_model_module_version": "1.5.0",
            "value": 48,
            "_view_count": null,
            "_view_module_version": "1.5.0",
            "orientation": "horizontal",
            "min": 0,
            "description_tooltip": null,
            "_model_module": "@jupyter-widgets/controls",
            "layout": "IPY_MODEL_948fa24b26c84294883dc790853ba254"
          }
        },
        "5c9def19e340405cad2f0ca527ce900c": {
          "model_module": "@jupyter-widgets/controls",
          "model_name": "HTMLModel",
          "state": {
            "_view_name": "HTMLView",
            "style": "IPY_MODEL_3ff7fd49d88940b590163069ed0f0ac9",
            "_dom_classes": [],
            "description": "",
            "_model_name": "HTMLModel",
            "placeholder": "​",
            "_view_module": "@jupyter-widgets/controls",
            "_model_module_version": "1.5.0",
            "value": " 48/48 [00:35&lt;00:00,  1.36it/s]",
            "_view_count": null,
            "_view_module_version": "1.5.0",
            "description_tooltip": null,
            "_model_module": "@jupyter-widgets/controls",
            "layout": "IPY_MODEL_1390d203dd7243dfb72dfb52b41d1503"
          }
        },
        "e05e95bc7a8c4d8a830620117743705a": {
          "model_module": "@jupyter-widgets/controls",
          "model_name": "ProgressStyleModel",
          "state": {
            "_view_name": "StyleView",
            "_model_name": "ProgressStyleModel",
            "description_width": "initial",
            "_view_module": "@jupyter-widgets/base",
            "_model_module_version": "1.5.0",
            "_view_count": null,
            "_view_module_version": "1.2.0",
            "bar_color": null,
            "_model_module": "@jupyter-widgets/controls"
          }
        },
        "948fa24b26c84294883dc790853ba254": {
          "model_module": "@jupyter-widgets/base",
          "model_name": "LayoutModel",
          "state": {
            "_view_name": "LayoutView",
            "grid_template_rows": null,
            "right": null,
            "justify_content": null,
            "_view_module": "@jupyter-widgets/base",
            "overflow": null,
            "_model_module_version": "1.2.0",
            "_view_count": null,
            "flex_flow": null,
            "width": null,
            "min_width": null,
            "border": null,
            "align_items": null,
            "bottom": null,
            "_model_module": "@jupyter-widgets/base",
            "top": null,
            "grid_column": null,
            "overflow_y": null,
            "overflow_x": null,
            "grid_auto_flow": null,
            "grid_area": null,
            "grid_template_columns": null,
            "flex": null,
            "_model_name": "LayoutModel",
            "justify_items": null,
            "grid_row": null,
            "max_height": null,
            "align_content": null,
            "visibility": null,
            "align_self": null,
            "height": null,
            "min_height": null,
            "padding": null,
            "grid_auto_rows": null,
            "grid_gap": null,
            "max_width": null,
            "order": null,
            "_view_module_version": "1.2.0",
            "grid_template_areas": null,
            "object_position": null,
            "object_fit": null,
            "grid_auto_columns": null,
            "margin": null,
            "display": null,
            "left": null
          }
        },
        "3ff7fd49d88940b590163069ed0f0ac9": {
          "model_module": "@jupyter-widgets/controls",
          "model_name": "DescriptionStyleModel",
          "state": {
            "_view_name": "StyleView",
            "_model_name": "DescriptionStyleModel",
            "description_width": "",
            "_view_module": "@jupyter-widgets/base",
            "_model_module_version": "1.5.0",
            "_view_count": null,
            "_view_module_version": "1.2.0",
            "_model_module": "@jupyter-widgets/controls"
          }
        },
        "1390d203dd7243dfb72dfb52b41d1503": {
          "model_module": "@jupyter-widgets/base",
          "model_name": "LayoutModel",
          "state": {
            "_view_name": "LayoutView",
            "grid_template_rows": null,
            "right": null,
            "justify_content": null,
            "_view_module": "@jupyter-widgets/base",
            "overflow": null,
            "_model_module_version": "1.2.0",
            "_view_count": null,
            "flex_flow": null,
            "width": null,
            "min_width": null,
            "border": null,
            "align_items": null,
            "bottom": null,
            "_model_module": "@jupyter-widgets/base",
            "top": null,
            "grid_column": null,
            "overflow_y": null,
            "overflow_x": null,
            "grid_auto_flow": null,
            "grid_area": null,
            "grid_template_columns": null,
            "flex": null,
            "_model_name": "LayoutModel",
            "justify_items": null,
            "grid_row": null,
            "max_height": null,
            "align_content": null,
            "visibility": null,
            "align_self": null,
            "height": null,
            "min_height": null,
            "padding": null,
            "grid_auto_rows": null,
            "grid_gap": null,
            "max_width": null,
            "order": null,
            "_view_module_version": "1.2.0",
            "grid_template_areas": null,
            "object_position": null,
            "object_fit": null,
            "grid_auto_columns": null,
            "margin": null,
            "display": null,
            "left": null
          }
        }
      }
    }
  },
  "cells": [
    {
      "cell_type": "markdown",
      "metadata": {
        "id": "view-in-github",
        "colab_type": "text"
      },
      "source": [
        "<a href=\"https://colab.research.google.com/github/kyochanpy/Google_Smartphone_Decimeter_Challenge/blob/main/note_book/submission_19.ipynb\" target=\"_parent\"><img src=\"https://colab.research.google.com/assets/colab-badge.svg\" alt=\"Open In Colab\"/></a>"
      ]
    },
    {
      "cell_type": "code",
      "metadata": {
        "id": "ubL7HcsqtpK1"
      },
      "source": [
        "!pip install optuna > /dev/null\n",
        "!pip install pyproj > /dev/null\n",
        "!pip install simdkalman > /dev/null\n",
        "    \n",
        "import os\n",
        "from glob import glob\n",
        "from pathlib import Path\n",
        "\n",
        "import numpy as np\n",
        "import pandas as pd\n",
        "import matplotlib.pyplot as plt\n",
        "from matplotlib_venn import venn2, venn2_circles\n",
        "import seaborn as sns\n",
        "\n",
        "import optuna\n",
        "import plotly\n",
        "import plotly.express as px\n",
        "import pyproj\n",
        "from pathlib import Path\n",
        "from pyproj import Proj, transform\n",
        "from tqdm.notebook import tqdm\n",
        "import simdkalman"
      ],
      "execution_count": 1,
      "outputs": []
    },
    {
      "cell_type": "code",
      "metadata": {
        "colab": {
          "base_uri": "https://localhost:8080/",
          "height": 66,
          "referenced_widgets": [
            "f375e7d2737d4fdf9a08e0440df71285",
            "b4ed5585c61248389c946b1a36536209",
            "b022b8baa26a444d926fc609ba5c79b9",
            "ec8626c09dc049b3a28df2acea3b8173",
            "87e192c5f559451e9364a9bb36be025f",
            "4a888772f2ef4c87814df354c567e29e",
            "733e34721d7d402a9a54564669410358",
            "d8e11c7d49ce4d48a8691602df367fa2"
          ]
        },
        "id": "KrFUFWa8zIfM",
        "outputId": "7d20e3fd-ab7f-4f0e-b116-48e03f5cd4b5"
      },
      "source": [
        "path = Path(\"/content/drive/MyDrive/GSDC\")\n",
        "test_base = pd.read_csv(path / \"baseline_locations_test.csv\")\n",
        "sub = pd.read_csv(path / \"sample_submission.csv\")\n",
        "\n",
        "truths = (path / \"train\").rglob(\"ground_truth.csv\")\n",
        "\n",
        "df_list = []\n",
        "cols = [\"collectionName\", \"phoneName\", \"millisSinceGpsEpoch\", \"latDeg\", \"lngDeg\"]\n",
        "\n",
        "for t in tqdm(truths, total=73):\n",
        "    df_phone = pd.read_csv(t, usecols=cols)\n",
        "    df_list.append(df_phone)\n",
        "df_truth = pd.concat(df_list, ignore_index=True)\n",
        "\n",
        "train_base = pd.read_csv(path / \"baseline_locations_train.csv\")\n",
        "all_df = df_truth.merge(train_base, how=\"inner\", on=cols[:3], suffixes=(\"_truth\", '_train_base'))"
      ],
      "execution_count": 91,
      "outputs": [
        {
          "output_type": "display_data",
          "data": {
            "application/vnd.jupyter.widget-view+json": {
              "model_id": "f375e7d2737d4fdf9a08e0440df71285",
              "version_minor": 0,
              "version_major": 2
            },
            "text/plain": [
              "HBox(children=(FloatProgress(value=0.0, max=73.0), HTML(value='')))"
            ]
          },
          "metadata": {
            "tags": []
          }
        },
        {
          "output_type": "stream",
          "text": [
            "\n"
          ],
          "name": "stdout"
        }
      ]
    },
    {
      "cell_type": "code",
      "metadata": {
        "id": "lD2YVQPjtHRB"
      },
      "source": [
        "def get_groundtruth(path: Path) -> pd.DataFrame:\n",
        "        output_df = pd.DataFrame()\n",
        "        \n",
        "        for path in glob(str(path / 'train/*/*/ground_truth.csv')):\n",
        "            _df = pd.read_csv(path)\n",
        "            output_df = pd.concat([output_df, _df])\n",
        "        output_df = output_df.reset_index(drop=True)\n",
        "        \n",
        "        _columns = ['latDeg', 'lngDeg', 'heightAboveWgs84EllipsoidM']\n",
        "        output_df[['t_'+col for col in _columns]] = output_df[_columns]\n",
        "        output_df = output_df.drop(columns=_columns, axis=1)\n",
        "        return output_df\n"
      ],
      "execution_count": 92,
      "outputs": []
    },
    {
      "cell_type": "code",
      "metadata": {
        "id": "iJaJfRLFs2tw"
      },
      "source": [
        "train_base = train_base.merge(\n",
        "    get_groundtruth(path),\n",
        "    on=['collectionName', 'phoneName', 'millisSinceGpsEpoch']\n",
        ")"
      ],
      "execution_count": 93,
      "outputs": []
    },
    {
      "cell_type": "markdown",
      "metadata": {
        "id": "RdLHnEimwPLM"
      },
      "source": [
        "# calc_haversine"
      ]
    },
    {
      "cell_type": "code",
      "metadata": {
        "id": "7VDUxww-wQC1"
      },
      "source": [
        "def calc_haversine(lat1, lon1, lat2, lon2):\n",
        "    RADIUS = 6_367_000\n",
        "    lat1, lon1, lat2, lon2 = map(np.radians, [lat1, lon1, lat2, lon2])\n",
        "    dlat = lat2 - lat1\n",
        "    dlon = lon2 - lon1\n",
        "    d = np.sin(dlat/2)**2 + np.cos(lat1) * np.cos(lat2) * np.sin(dlon/2)**2\n",
        "    dist = 2 * RADIUS * np.arcsin(d**0.5)\n",
        "    return dist"
      ],
      "execution_count": 5,
      "outputs": []
    },
    {
      "cell_type": "markdown",
      "metadata": {
        "id": "3wXZCYMJyzsc"
      },
      "source": [
        "# Check Score"
      ]
    },
    {
      "cell_type": "code",
      "metadata": {
        "id": "9T0v7EAKy05s"
      },
      "source": [
        "def check_score(input_df: pd.DataFrame) -> pd.DataFrame:\n",
        "    output_df = input_df.copy()\n",
        "    \n",
        "    output_df['meter'] = input_df.apply(\n",
        "        lambda r: calc_haversine(\n",
        "            r.latDeg, r.lngDeg, r.t_latDeg, r.t_lngDeg\n",
        "        ),\n",
        "        axis=1\n",
        "    )\n",
        "\n",
        "    meter_score = output_df['meter'].mean()\n",
        "    print(f'error meter: {meter_score}')\n",
        "\n",
        "    scores = []\n",
        "    for phone in output_df['phone'].unique():\n",
        "        _index = output_df['phone']==phone\n",
        "        p_50 = np.percentile(output_df.loc[_index, 'meter'], 50)\n",
        "        p_95 = np.percentile(output_df.loc[_index, 'meter'], 95)\n",
        "        scores.append(p_50)\n",
        "        scores.append(p_95)\n",
        "\n",
        "    score = sum(scores) / len(scores)\n",
        "    print(f'score: {score}')\n",
        "    \n",
        "    return output_df"
      ],
      "execution_count": 6,
      "outputs": []
    },
    {
      "cell_type": "code",
      "metadata": {
        "id": "1mlCsCKxQtlS"
      },
      "source": [
        "def mean_prediction_train(input_df):\n",
        "    def make_lerp_data(input_df):\n",
        "        org_colus = input_df.columns\n",
        "\n",
        "        time_list = input_df[[\"collectionName\", \"millisSinceGpsEpoch\"]].drop_duplicates()\n",
        "        phone_list = input_df[[\"collectionName\", \"phoneName\"]].drop_duplicates()\n",
        "        tmp = time_list.merge(phone_list, on=\"collectionName\", how=\"outer\")\n",
        "\n",
        "        output_df = tmp.merge(input_df, on=[\"collectionName\", \"millisSinceGpsEpoch\", \"phoneName\"], how=\"left\")\n",
        "        output_df[\"phone\"] = output_df[\"collectionName\"] + \"_\" + output_df[\"phoneName\"]\n",
        "        output_df = output_df.sort_values([\"phone\", \"millisSinceGpsEpoch\"])\n",
        "\n",
        "        output_df[\"latDeg_pre\"] = output_df[\"latDeg\"].shift(1)\n",
        "        output_df[\"latDeg_pro\"] = output_df[\"latDeg\"].shift(-1)\n",
        "        output_df[\"lngDeg_pre\"] = output_df[\"lngDeg\"].shift(1)\n",
        "        output_df[\"lngDeg_pro\"] = output_df[\"lngDeg\"].shift(-1)\n",
        "        output_df[\"phone_pre\"] = output_df[\"phone\"].shift(1)\n",
        "        output_df[\"phone_pro\"] = output_df[\"phone\"].shift(-1)\n",
        "        output_df[\"millisSinceGpsEpoch_pre\"] = output_df[\"millisSinceGpsEpoch\"].shift(1)\n",
        "        output_df[\"millisSinceGpsEpoch_pro\"] = output_df[\"millisSinceGpsEpoch\"].shift(-1)\n",
        "\n",
        "        output_df = output_df[(output_df[\"latDeg\"].isnull())&(output_df[\"phone\"] == output_df[\"phone_pre\"])&\n",
        "                            (output_df[\"phone\"] == output_df[\"phone_pro\"])].copy()\n",
        "\n",
        "        output_df[\"latDeg\"] = output_df[\"latDeg_pre\"] + ((output_df[\"latDeg_pro\"] - output_df[\"latDeg_pre\"]) * \n",
        "                                                        ((output_df[\"millisSinceGpsEpoch\"] - output_df[\"millisSinceGpsEpoch_pre\"]) /\n",
        "                                                        (output_df[\"millisSinceGpsEpoch_pro\"] - output_df[\"millisSinceGpsEpoch_pre\"])))\n",
        "        output_df[\"lngDeg\"] = output_df[\"lngDeg_pre\"] + ((output_df[\"lngDeg_pro\"] - output_df[\"lngDeg_pre\"]) * \n",
        "                                                        ((output_df[\"millisSinceGpsEpoch\"] - output_df[\"millisSinceGpsEpoch_pre\"]) /\n",
        "                                                        (output_df[\"millisSinceGpsEpoch_pro\"] - output_df[\"millisSinceGpsEpoch_pre\"])))\n",
        "        \n",
        "        output_df = output_df[~output_df['latDeg'].isnull()]\n",
        "\n",
        "        return output_df[org_colus]\n",
        "\n",
        "    \n",
        "    def calc_mean_pred(input_df, lerp_df):\n",
        "        input_df[\"phone\"] = input_df[\"collectionName\"] + \"_\" + input_df[\"phoneName\"]\n",
        "        add_lerp = pd.concat([input_df, lerp_df])\n",
        "        mean_pred_result = add_lerp.groupby([\"collectionName\", \"millisSinceGpsEpoch\"])[[\"latDeg\", \"lngDeg\"]].mean().reset_index()\n",
        "        output_df = input_df[[\"collectionName\", \"phoneName\", \"millisSinceGpsEpoch\"]].copy()\n",
        "        output_df = output_df.merge(mean_pred_result[[\"collectionName\", \"millisSinceGpsEpoch\", \"latDeg\", \"lngDeg\"]],\n",
        "                                        on=[\"collectionName\", \"millisSinceGpsEpoch\"], how=\"left\")\n",
        "        output_df[\"phone\"] = output_df[\"collectionName\"] + \"_\" + output_df[\"phoneName\"]\n",
        "        return output_df\n",
        "\n",
        "\n",
        "    test_lerp = make_lerp_data(input_df)\n",
        "    test_mean_pred  = calc_mean_pred(input_df, test_lerp)\n",
        "\n",
        "    output_df = input_df.copy()\n",
        "\n",
        "    output_df[\"latDeg\"] = test_mean_pred[\"latDeg\"]\n",
        "    output_df[\"lngDeg\"] = test_mean_pred[\"lngDeg\"]\n",
        "\n",
        "    \n",
        "    \n",
        "    return output_df"
      ],
      "execution_count": 94,
      "outputs": []
    },
    {
      "cell_type": "code",
      "metadata": {
        "id": "Yp9EmEYmvfBE"
      },
      "source": [
        "a = mean_prediction_train(train_base)"
      ],
      "execution_count": 95,
      "outputs": []
    },
    {
      "cell_type": "code",
      "metadata": {
        "id": "6O4ONvUeviAU",
        "outputId": "77b548be-0e91-4ea0-dba5-64ff1b224bc0",
        "colab": {
          "base_uri": "https://localhost:8080/"
        }
      },
      "source": [
        "a.isna().sum()"
      ],
      "execution_count": 96,
      "outputs": [
        {
          "output_type": "execute_result",
          "data": {
            "text/plain": [
              "collectionName                  0\n",
              "phoneName                       0\n",
              "millisSinceGpsEpoch             0\n",
              "latDeg                          0\n",
              "lngDeg                          0\n",
              "heightAboveWgs84EllipsoidM      0\n",
              "phone                           0\n",
              "timeSinceFirstFixSeconds        0\n",
              "hDop                            0\n",
              "vDop                            0\n",
              "speedMps                        0\n",
              "courseDegree                    0\n",
              "t_latDeg                        0\n",
              "t_lngDeg                        0\n",
              "t_heightAboveWgs84EllipsoidM    0\n",
              "dtype: int64"
            ]
          },
          "metadata": {
            "tags": []
          },
          "execution_count": 96
        }
      ]
    },
    {
      "cell_type": "code",
      "metadata": {
        "id": "W2YHmS6ehkQt"
      },
      "source": [
        "def outlier_train(input_df):\n",
        "    output_df = input_df.copy()\n",
        "    output_df[\"phone\"] = output_df[\"collectionName\"] + \"_\" + output_df[\"phoneName\"]\n",
        "\n",
        "    output_df[\"dist_pre\"] = 0\n",
        "    output_df[\"dist_pro\"] = 0\n",
        "\n",
        "    output_df['latDeg_pre'] = output_df['latDeg'].shift(periods=1,fill_value=0)\n",
        "    output_df['lngDeg_pre'] = output_df['lngDeg'].shift(periods=1,fill_value=0)\n",
        "    output_df['latDeg_pro'] = output_df['latDeg'].shift(periods=-1,fill_value=0)\n",
        "    output_df['lngDeg_pro'] = output_df['lngDeg'].shift(periods=-1,fill_value=0)\n",
        "    output_df['dist_pre'] = calc_haversine(output_df.latDeg_pre, output_df.lngDeg_pre, output_df.latDeg, output_df.lngDeg)\n",
        "    output_df['dist_pro'] = calc_haversine(output_df.latDeg, output_df.lngDeg, output_df.latDeg_pro, output_df.lngDeg_pro)\n",
        "\n",
        "    list_phone = output_df['phone'].unique()\n",
        "    for phone in list_phone:\n",
        "        ind_s = output_df[train_base['phone'] == phone].index[0]\n",
        "        ind_e = output_df[train_base['phone'] == phone].index[-1]\n",
        "        output_df.loc[ind_s,'dist_pre'] = 0\n",
        "        output_df.loc[ind_e,'dist_pro'] = 0\n",
        "\n",
        "    pro_95 = output_df['dist_pro'].mean() + (output_df['dist_pro'].std() * 2)\n",
        "    pre_95 = output_df['dist_pre'].mean() + (output_df['dist_pre'].std() * 2)\n",
        "    ind = output_df[(output_df['dist_pro'] > pro_95)&(output_df['dist_pre'] > pre_95)][['dist_pre','dist_pro']].index\n",
        "\n",
        "    for i in ind:\n",
        "        output_df.loc[i,'latDeg'] = (output_df.loc[i-1,'latDeg'] + output_df.loc[i+1,'latDeg'])/2\n",
        "        output_df.loc[i,'lngDeg'] = (output_df.loc[i-1,'lngDeg'] + output_df.loc[i+1,'lngDeg'])/2\n",
        "\n",
        "    return output_df"
      ],
      "execution_count": 49,
      "outputs": []
    },
    {
      "cell_type": "code",
      "metadata": {
        "id": "kMqW2YoLQttk"
      },
      "source": [
        "#position_shift\n",
        "def position_shift_train(input_df):\n",
        "    sub_cols = sub.columns\n",
        "\n",
        "    train_p_s = pd.read_csv(path / \"baseline_locations_train.csv\")\n",
        "    train_b = train_p_s[sub_cols]\n",
        "    test_b = test_base[sub_cols]\n",
        "\n",
        "    msge = \"millisSinceGpsEpoch\"\n",
        "\n",
        "    testdir = path / 'test'\n",
        "    traindir = path / 'train'\n",
        "\n",
        "    g_t = pd.DataFrame()\n",
        "    for d in os.listdir(traindir):\n",
        "        for p in os.listdir(traindir/d):\n",
        "            g_t = g_t.append(pd.read_csv(traindir/d/p/'ground_truth.csv'))\n",
        "\n",
        "    g_t[\"phone\"] = g_t[\"collectionName\"] + \"_\" + g_t[\"phoneName\"]\n",
        "    g_t_sub_cols = g_t[sub_cols]\n",
        "\n",
        "\n",
        "    def compute_dist(fname_1, fname_2=g_t):\n",
        "        oof = fname_1\n",
        "        g_t = fname_2\n",
        "        df = oof.merge(g_t, on=[\"phone\", \"millisSinceGpsEpoch\"])\n",
        "        dist_oof = calc_haversine(df.latDeg_x, df.lngDeg_x, df.latDeg_y, df.lngDeg_y)\n",
        "        scores = pd.DataFrame({\"phone\":df.phone, \"dist\":dist_oof})\n",
        "        scores_grp = scores.groupby(\"phone\")\n",
        "        d_50 = scores_grp.quantile(.50).reset_index()\n",
        "        d_50.columns = [\"phone\", \"q_50\"]\n",
        "        d_95 = scores_grp.quantile(.95).reset_index()\n",
        "        d_95.columns = [\"phone\", \"q_95\"]\n",
        "        return (scores_grp.quantile(.50).mean() + scores_grp.quantile(.95).mean()) / 2, d_50.merge(d_95)\n",
        "\n",
        "\n",
        "    def WGS84_to_ECEF(lat, lng, alt):\n",
        "        rad_lat = lat * (np.pi / 180.0)\n",
        "        rad_lng = lng * (np.pi / 180.0)\n",
        "        a = 6378137.0\n",
        "        finv = 298.257223563\n",
        "        f = 1 / finv   \n",
        "        e2 = 1 - (1 - f) * (1 - f)    \n",
        "        N = a / np.sqrt(1 - e2 * np.sin(rad_lat) * np.sin(rad_lat))\n",
        "        x = (N + alt) * np.cos(rad_lat) * np.cos(rad_lng)\n",
        "        y = (N + alt) * np.cos(rad_lat) * np.sin(rad_lng)\n",
        "        z = (N * (1 - e2) + alt)        * np.sin(rad_lat)\n",
        "        return x, y, z    \n",
        "\n",
        "\n",
        "    transformer = pyproj.Transformer.from_crs(\n",
        "        {\"proj\":'geocent', \"ellps\":'WGS84', \"datum\":'WGS84'},\n",
        "        {\"proj\":'latlong', \"ellps\":'WGS84', \"datum\":'WGS84'},)\n",
        "\n",
        "\n",
        "    def ECEF_to_WGS84(x, y, z):\n",
        "        lng, lat, alt = transformer.transform(x, y, z, radians=False)\n",
        "        return lng, lat, alt\n",
        "\n",
        "\n",
        "    def position_shift_(input_df, a):\n",
        "        output_df = input_df.copy()\n",
        "        output_df[\"heightAboveWgs84EllipsoidM\"] = 63.5\n",
        "        output_df[\"x\"], output_df[\"y\"], output_df[\"z\"] = zip(*output_df.apply(lambda x: WGS84_to_ECEF(x.latDeg, x.lngDeg, \n",
        "                                                                                                    x.heightAboveWgs84EllipsoidM), axis=1))\n",
        "        output_df.sort_values([\"phone\", msge], inplace=True)\n",
        "        for fi in [\"x\", \"y\", \"z\"]:\n",
        "            output_df[[fi + \"_p\"]] = output_df[fi].shift().where(output_df[\"phone\"].eq(output_df[\"phone\"].shift()))\n",
        "            output_df[[fi + \"_diff\"]] = output_df[fi] - output_df[fi + \"_p\"]\n",
        "\n",
        "        output_df[[\"dist\"]] = np.sqrt(output_df[\"x_diff\"]**2 + output_df[\"y_diff\"]**2 + output_df[\"z_diff\"]**2)\n",
        "        for fi in [\"x\", \"y\", \"z\"]:\n",
        "            output_df[[fi + \"_new\"]] = output_df[fi + \"_p\"] + output_df[fi + \"_diff\"] * (1 - a/output_df[\"dist\"])\n",
        "        lng, lat, alt = ECEF_to_WGS84(output_df[\"x_new\"].values, output_df[\"y_new\"].values, output_df[\"z_new\"].values)\n",
        "\n",
        "        lat[np.isnan(lat)] = output_df.loc[np.isnan(lat), \"latDeg\"]\n",
        "        lng[np.isnan(lng)] = output_df.loc[np.isnan(lng), \"lngDeg\"]\n",
        "        output_df[\"latDeg\"] = lat\n",
        "        output_df[\"lngDeg\"] = lng\n",
        "\n",
        "        output_df.sort_values([\"phone\", msge], inplace=True)\n",
        "\n",
        "        return output_df[sub_cols]\n",
        "\n",
        "\n",
        "    def objective(trial):\n",
        "        a = trial.suggest_uniform(\"a\", -1, 1)\n",
        "        score, scores = compute_dist(position_shift_(train_b, a), g_t)\n",
        "        return score\n",
        "\n",
        "\n",
        "    study = optuna.create_study()\n",
        "    study.optimize(objective, n_trials=30)\n",
        "\n",
        "    output_df = position_shift_(input_df, a=study.best_params[\"a\"])\n",
        "\n",
        "    output_df[\"phoneName\"] = input_df[\"phoneName\"]\n",
        "    output_df[\"collectionName\"] = input_df[\"collectionName\"]\n",
        "    output_df[\"millisSinceGpsEpoch\"] = input_df[\"millisSinceGpsEpoch\"]\n",
        "    output_df[\"t_latDeg\"] = input_df[\"t_latDeg\"]\n",
        "    output_df[\"t_lngDeg\"] = input_df[\"t_lngDeg\"]\n",
        "\n",
        "    return output_df"
      ],
      "execution_count": 50,
      "outputs": []
    },
    {
      "cell_type": "code",
      "metadata": {
        "id": "XcB7BfiRQtqY"
      },
      "source": [
        "#remove_device\n",
        "def remove_device_train(input_df):\n",
        "\n",
        "    def get_removedevice(input_df: pd.DataFrame, divece: str) -> pd.DataFrame:\n",
        "        input_df['index'] = input_df.index\n",
        "        input_df = input_df.sort_values('millisSinceGpsEpoch')\n",
        "        input_df.index = input_df['millisSinceGpsEpoch'].values\n",
        "\n",
        "        output_df = pd.DataFrame() \n",
        "        for _, subdf in input_df.groupby('collectionName'):\n",
        "\n",
        "            phones = subdf['phoneName'].unique()\n",
        "\n",
        "            if (len(phones) == 1) or (not divece in phones):\n",
        "                output_df = pd.concat([output_df, subdf])\n",
        "                continue\n",
        "\n",
        "            origin_df = subdf.copy()\n",
        "            \n",
        "            _index = subdf['phoneName']==divece\n",
        "            subdf.loc[_index, 'latDeg'] = np.nan\n",
        "            subdf.loc[_index, 'lngDeg'] = np.nan\n",
        "            subdf = subdf.interpolate(method='index', limit_area='inside')\n",
        "\n",
        "            _index = subdf['latDeg'].isnull()\n",
        "            subdf.loc[_index, 'latDeg'] = origin_df.loc[_index, 'latDeg'].values\n",
        "            subdf.loc[_index, 'lngDeg'] = origin_df.loc[_index, 'lngDeg'].values\n",
        "\n",
        "            output_df = pd.concat([output_df, subdf])\n",
        "\n",
        "        output_df.index = output_df['index'].values\n",
        "        output_df = output_df.sort_index()\n",
        "\n",
        "        del output_df['index']\n",
        "        \n",
        "        return output_df\n",
        "\n",
        "    output_df = get_removedevice(input_df, 'SamsungS20Ultra')\n",
        "\n",
        "    return output_df"
      ],
      "execution_count": 51,
      "outputs": []
    },
    {
      "cell_type": "code",
      "metadata": {
        "id": "1ttYK44KR-3I"
      },
      "source": [
        "#kalman filter\n",
        "def kalman_filter_train(input_df):\n",
        "    T = 1.0\n",
        "    state_transition = np.array([[1, 0, T, 0, 0.5 * T ** 2, 0], [0, 1, 0, T, 0, 0.5 * T ** 2], [0, 0, 1, 0, T, 0],\n",
        "                                [0, 0, 0, 1, 0, T], [0, 0, 0, 0, 1, 0], [0, 0, 0, 0, 0, 1]])\n",
        "    process_noise = np.diag([1e-5, 1e-5, 5e-6, 5e-6, 1e-6, 1e-6]) + np.ones((6, 6)) * 1e-9\n",
        "    observation_model = np.array([[1, 0, 0, 0, 0, 0], [0, 1, 0, 0, 0, 0]])\n",
        "    observation_noise = np.diag([1e-4, 1e-4]) + np.ones((2, 2)) * 1e-9\n",
        "\n",
        "    kf = simdkalman.KalmanFilter(\n",
        "            state_transition = state_transition,\n",
        "            process_noise = process_noise,\n",
        "            observation_model = observation_model,\n",
        "            observation_noise = observation_noise)\n",
        "    \n",
        "    def apply_kf_smoothing(df, kf_=kf):\n",
        "        unique_paths = df[['collectionName', 'phoneName']].drop_duplicates().to_numpy()\n",
        "        for collection, phone in tqdm(unique_paths):\n",
        "            cond = np.logical_and(df['collectionName'] == collection, df['phoneName'] == phone)\n",
        "            data = df[cond][['latDeg', 'lngDeg']].to_numpy()\n",
        "            data = data.reshape(1, len(data), 2)\n",
        "            smoothed = kf_.smooth(data)\n",
        "            df.loc[cond, 'latDeg'] = smoothed.states.mean[0, :, 0]\n",
        "            df.loc[cond, 'lngDeg'] = smoothed.states.mean[0, :, 1]\n",
        "        return df\n",
        "\n",
        "    kf_smoothed_baseline = apply_kf_smoothing(input_df)\n",
        "    output_df = sub.assign(latDeg = kf_smoothed_baseline.latDeg, lngDeg = kf_smoothed_baseline.lngDeg)\n",
        "    output_df[\"phoneName\"] = input_df[\"phoneName\"]\n",
        "    output_df[\"collectionName\"] = input_df[\"collectionName\"]\n",
        "    output_df[\"millisSinceGpsEpoch\"] = input_df[\"millisSinceGpsEpoch\"]\n",
        "    output_df[\"t_latDeg\"] = input_df[\"t_latDeg\"]\n",
        "    output_df[\"t_lngDeg\"] = input_df[\"t_lngDeg\"]\n",
        "    \n",
        "    return output_df"
      ],
      "execution_count": 52,
      "outputs": []
    },
    {
      "cell_type": "code",
      "metadata": {
        "colab": {
          "base_uri": "https://localhost:8080/",
          "height": 979,
          "referenced_widgets": [
            "0281edce59114754820054e49752a285",
            "9b1ac6c822d74b8a87b07fa340dbe118",
            "dc4e366ae3f948dba05ef9b0db010ca6",
            "2c8773fa33574f3fae3120850e1b5d8f",
            "8da1da0d6c2346849508387c65940a9f",
            "52ea2c41addd4b2db1bc384fb20bf8ba",
            "d051b8de71614c26a8472e2953c26472",
            "4fb73a8ab6d5492cae899adbfbcf423d"
          ]
        },
        "id": "PRKrY3IVR-0M",
        "outputId": "0845ec77-5301-4ccd-dd2c-cd748d384f65"
      },
      "source": [
        "#check_score\n",
        "CV_1 = outlier_train(train_base)\n",
        "print(\"----------------------\")\n",
        "check_score(CV_1)\n",
        "print(\"----------------------\")\n",
        "CV_2 = kalman_filter_train(CV_1)\n",
        "print(\"----------------------\")\n",
        "check_score(CV_2)\n",
        "print(\"----------------------\")\n",
        "CV_3 = mean_prediction_train(CV_2)\n",
        "print(\"----------------------\")\n",
        "check_score(CV_3)\n",
        "print(\"----------------------\")\n",
        "CV_4 = remove_device_train(CV_3)\n",
        "print(\"----------------------\")\n",
        "check_score(CV_4)\n",
        "print(\"----------------------\")\n",
        "CV_5 = position_shift_train(CV_4)\n",
        "print(\"----------------------\")\n",
        "check_score(CV_5)\n",
        "print(\"----------------------\")"
      ],
      "execution_count": 98,
      "outputs": [
        {
          "output_type": "stream",
          "text": [
            "----------------------\n",
            "error meter: 3.645900452825617\n",
            "score: 5.277226551946741\n",
            "----------------------\n"
          ],
          "name": "stdout"
        },
        {
          "output_type": "display_data",
          "data": {
            "application/vnd.jupyter.widget-view+json": {
              "model_id": "0281edce59114754820054e49752a285",
              "version_minor": 0,
              "version_major": 2
            },
            "text/plain": [
              "HBox(children=(FloatProgress(value=0.0, max=73.0), HTML(value='')))"
            ]
          },
          "metadata": {
            "tags": []
          }
        },
        {
          "output_type": "stream",
          "text": [
            "\n",
            "----------------------\n",
            "error meter: 2.145825255885989\n",
            "score: 2.8660406105026284\n",
            "----------------------\n",
            "----------------------\n",
            "error meter: 2.083668728020179\n",
            "score: 2.721472180652507\n",
            "----------------------\n",
            "----------------------\n",
            "error meter: 2.083668728020179\n",
            "score: 2.721472180652507\n",
            "----------------------\n"
          ],
          "name": "stdout"
        },
        {
          "output_type": "stream",
          "text": [
            "\u001b[32m[I 2021-07-02 01:52:31,249]\u001b[0m A new study created in memory with name: no-name-ae5d6f77-8a42-4548-906a-6da07bc13cca\u001b[0m\n",
            "\u001b[32m[I 2021-07-02 01:52:37,387]\u001b[0m Trial 0 finished with value: 5.307312991840352 and parameters: {'a': -0.06665360428764733}. Best is trial 0 with value: 5.307312991840352.\u001b[0m\n",
            "\u001b[32m[I 2021-07-02 01:52:43,453]\u001b[0m Trial 1 finished with value: 5.235449170920341 and parameters: {'a': 0.198983999516114}. Best is trial 1 with value: 5.235449170920341.\u001b[0m\n",
            "\u001b[32m[I 2021-07-02 01:52:49,627]\u001b[0m Trial 2 finished with value: 5.220228142265615 and parameters: {'a': 0.2738561233326926}. Best is trial 2 with value: 5.220228142265615.\u001b[0m\n",
            "\u001b[32m[I 2021-07-02 01:52:55,803]\u001b[0m Trial 3 finished with value: 5.2117153373300305 and parameters: {'a': 0.3226507366537468}. Best is trial 3 with value: 5.2117153373300305.\u001b[0m\n",
            "\u001b[32m[I 2021-07-02 01:53:01,830]\u001b[0m Trial 4 finished with value: 5.753011462001847 and parameters: {'a': -0.9985612886535893}. Best is trial 3 with value: 5.2117153373300305.\u001b[0m\n",
            "\u001b[32m[I 2021-07-02 01:53:08,060]\u001b[0m Trial 5 finished with value: 5.194072518306743 and parameters: {'a': 0.7645653313777712}. Best is trial 5 with value: 5.194072518306743.\u001b[0m\n",
            "\u001b[32m[I 2021-07-02 01:53:14,156]\u001b[0m Trial 6 finished with value: 5.477871480301728 and parameters: {'a': -0.4940708544451684}. Best is trial 5 with value: 5.194072518306743.\u001b[0m\n",
            "\u001b[32m[I 2021-07-02 01:53:20,303]\u001b[0m Trial 7 finished with value: 5.293578217196522 and parameters: {'a': -0.01564853644415143}. Best is trial 5 with value: 5.194072518306743.\u001b[0m\n",
            "\u001b[32m[I 2021-07-02 01:53:26,467]\u001b[0m Trial 8 finished with value: 5.3699961644714875 and parameters: {'a': -0.2403047402970151}. Best is trial 5 with value: 5.194072518306743.\u001b[0m\n",
            "\u001b[32m[I 2021-07-02 01:53:32,458]\u001b[0m Trial 9 finished with value: 5.619121245573 and parameters: {'a': -0.766257880902057}. Best is trial 5 with value: 5.194072518306743.\u001b[0m\n",
            "\u001b[32m[I 2021-07-02 01:53:38,471]\u001b[0m Trial 10 finished with value: 5.210008697590779 and parameters: {'a': 0.9625052943233794}. Best is trial 5 with value: 5.194072518306743.\u001b[0m\n",
            "\u001b[32m[I 2021-07-02 01:53:44,600]\u001b[0m Trial 11 finished with value: 5.198558789339494 and parameters: {'a': 0.8419198090370553}. Best is trial 5 with value: 5.194072518306743.\u001b[0m\n",
            "\u001b[32m[I 2021-07-02 01:53:50,641]\u001b[0m Trial 12 finished with value: 5.210033240091758 and parameters: {'a': 0.9628308149642006}. Best is trial 5 with value: 5.194072518306743.\u001b[0m\n",
            "\u001b[32m[I 2021-07-02 01:53:56,779]\u001b[0m Trial 13 finished with value: 5.187907704677565 and parameters: {'a': 0.634885808181347}. Best is trial 13 with value: 5.187907704677565.\u001b[0m\n",
            "\u001b[32m[I 2021-07-02 01:54:02,957]\u001b[0m Trial 14 finished with value: 5.1909416451913755 and parameters: {'a': 0.5403289439056369}. Best is trial 13 with value: 5.187907704677565.\u001b[0m\n",
            "\u001b[32m[I 2021-07-02 01:54:08,996]\u001b[0m Trial 15 finished with value: 5.1901057663115715 and parameters: {'a': 0.5827100128893228}. Best is trial 13 with value: 5.187907704677565.\u001b[0m\n",
            "\u001b[32m[I 2021-07-02 01:54:15,333]\u001b[0m Trial 16 finished with value: 5.190196880084107 and parameters: {'a': 0.5805554306826703}. Best is trial 13 with value: 5.187907704677565.\u001b[0m\n",
            "\u001b[32m[I 2021-07-02 01:54:21,610]\u001b[0m Trial 17 finished with value: 5.189682075426646 and parameters: {'a': 0.6028744996190477}. Best is trial 13 with value: 5.187907704677565.\u001b[0m\n",
            "\u001b[32m[I 2021-07-02 01:54:27,723]\u001b[0m Trial 18 finished with value: 5.194958581061232 and parameters: {'a': 0.45450205990464554}. Best is trial 13 with value: 5.187907704677565.\u001b[0m\n",
            "\u001b[32m[I 2021-07-02 01:54:33,863]\u001b[0m Trial 19 finished with value: 5.19198237128378 and parameters: {'a': 0.732055332871713}. Best is trial 13 with value: 5.187907704677565.\u001b[0m\n",
            "\u001b[32m[I 2021-07-02 01:54:39,999]\u001b[0m Trial 20 finished with value: 5.246223345487512 and parameters: {'a': 0.14807263388941}. Best is trial 13 with value: 5.187907704677565.\u001b[0m\n",
            "\u001b[32m[I 2021-07-02 01:54:46,109]\u001b[0m Trial 21 finished with value: 5.18742122540557 and parameters: {'a': 0.6534265478718683}. Best is trial 21 with value: 5.18742122540557.\u001b[0m\n",
            "\u001b[32m[I 2021-07-02 01:54:52,217]\u001b[0m Trial 22 finished with value: 5.19169253965644 and parameters: {'a': 0.7287611074511182}. Best is trial 21 with value: 5.18742122540557.\u001b[0m\n",
            "\u001b[32m[I 2021-07-02 01:54:58,151]\u001b[0m Trial 23 finished with value: 5.195165466408313 and parameters: {'a': 0.4504778090628882}. Best is trial 21 with value: 5.18742122540557.\u001b[0m\n",
            "\u001b[32m[I 2021-07-02 01:55:04,308]\u001b[0m Trial 24 finished with value: 5.211102380390231 and parameters: {'a': 0.973796505187801}. Best is trial 21 with value: 5.18742122540557.\u001b[0m\n",
            "\u001b[32m[I 2021-07-02 01:55:10,450]\u001b[0m Trial 25 finished with value: 5.201267009145585 and parameters: {'a': 0.38294048606048553}. Best is trial 21 with value: 5.18742122540557.\u001b[0m\n",
            "\u001b[32m[I 2021-07-02 01:55:16,442]\u001b[0m Trial 26 finished with value: 5.1879942200662175 and parameters: {'a': 0.6327698829016268}. Best is trial 21 with value: 5.18742122540557.\u001b[0m\n",
            "\u001b[32m[I 2021-07-02 01:55:22,619]\u001b[0m Trial 27 finished with value: 5.262658320848535 and parameters: {'a': 0.08474283951360206}. Best is trial 21 with value: 5.18742122540557.\u001b[0m\n",
            "\u001b[32m[I 2021-07-02 01:55:28,675]\u001b[0m Trial 28 finished with value: 5.195899621095035 and parameters: {'a': 0.7996788690661828}. Best is trial 21 with value: 5.18742122540557.\u001b[0m\n",
            "\u001b[32m[I 2021-07-02 01:55:34,769]\u001b[0m Trial 29 finished with value: 5.370259243973523 and parameters: {'a': -0.24092742221313923}. Best is trial 21 with value: 5.18742122540557.\u001b[0m\n"
          ],
          "name": "stderr"
        },
        {
          "output_type": "stream",
          "text": [
            "----------------------\n",
            "error meter: 2.0588096429051173\n",
            "score: 2.6833267019300377\n",
            "----------------------\n"
          ],
          "name": "stdout"
        }
      ]
    },
    {
      "cell_type": "code",
      "metadata": {
        "id": "eorf0wTUqbnJ",
        "outputId": "56187ec3-f20a-49be-a00b-137e44f44c4d",
        "colab": {
          "base_uri": "https://localhost:8080/"
        }
      },
      "source": [
        "CV_5.isna().sum()"
      ],
      "execution_count": 100,
      "outputs": [
        {
          "output_type": "execute_result",
          "data": {
            "text/plain": [
              "phone                  0\n",
              "millisSinceGpsEpoch    0\n",
              "latDeg                 0\n",
              "lngDeg                 0\n",
              "phoneName              0\n",
              "collectionName         0\n",
              "t_latDeg               0\n",
              "t_lngDeg               0\n",
              "dtype: int64"
            ]
          },
          "metadata": {
            "tags": []
          },
          "execution_count": 100
        }
      ]
    },
    {
      "cell_type": "markdown",
      "metadata": {
        "id": "jREXCU29vopb"
      },
      "source": [
        "# Mean Prediction"
      ]
    },
    {
      "cell_type": "code",
      "metadata": {
        "id": "-cJW3kqYvmlZ"
      },
      "source": [
        "def mean_prediction(input_df):\n",
        "    def make_lerp_data(input_df):\n",
        "        org_colus = input_df.columns\n",
        "\n",
        "        time_list = input_df[[\"collectionName\", \"millisSinceGpsEpoch\"]].drop_duplicates()\n",
        "        phone_list = input_df[[\"collectionName\", \"phoneName\"]].drop_duplicates()\n",
        "        tmp = time_list.merge(phone_list, on=\"collectionName\", how=\"outer\")\n",
        "\n",
        "        output_df = tmp.merge(input_df, on=[\"collectionName\", \"millisSinceGpsEpoch\", \"phoneName\"], how=\"left\")\n",
        "        output_df[\"phone\"] = output_df[\"collectionName\"] + \"_\" + output_df[\"phoneName\"]\n",
        "        output_df = output_df.sort_values([\"phone\", \"millisSinceGpsEpoch\"])\n",
        "\n",
        "        output_df[\"latDeg_pre\"] = output_df[\"latDeg\"].shift(1)\n",
        "        output_df[\"latDeg_pro\"] = output_df[\"latDeg\"].shift(-1)\n",
        "        output_df[\"lngDeg_pre\"] = output_df[\"lngDeg\"].shift(1)\n",
        "        output_df[\"lngDeg_pro\"] = output_df[\"lngDeg\"].shift(-1)\n",
        "        output_df[\"phone_pre\"] = output_df[\"phone\"].shift(1)\n",
        "        output_df[\"phone_pro\"] = output_df[\"phone\"].shift(-1)\n",
        "        output_df[\"millisSinceGpsEpoch_pre\"] = output_df[\"millisSinceGpsEpoch\"].shift(1)\n",
        "        output_df[\"millisSinceGpsEpoch_pro\"] = output_df[\"millisSinceGpsEpoch\"].shift(-1)\n",
        "\n",
        "        output_df = output_df[(output_df[\"latDeg\"].isnull())&(output_df[\"phone\"] == output_df[\"phone_pre\"])&\n",
        "                            (output_df[\"phone\"] == output_df[\"phone_pro\"])].copy()\n",
        "\n",
        "        output_df[\"latDeg\"] = output_df[\"latDeg_pre\"] + ((output_df[\"latDeg_pro\"] - output_df[\"latDeg_pre\"]) * \n",
        "                                                        ((output_df[\"millisSinceGpsEpoch\"] - output_df[\"millisSinceGpsEpoch_pre\"]) /\n",
        "                                                        (output_df[\"millisSinceGpsEpoch_pro\"] - output_df[\"millisSinceGpsEpoch_pre\"])))\n",
        "        output_df[\"lngDeg\"] = output_df[\"lngDeg_pre\"] + ((output_df[\"lngDeg_pro\"] - output_df[\"lngDeg_pre\"]) * \n",
        "                                                        ((output_df[\"millisSinceGpsEpoch\"] - output_df[\"millisSinceGpsEpoch_pre\"]) /\n",
        "                                                        (output_df[\"millisSinceGpsEpoch_pro\"] - output_df[\"millisSinceGpsEpoch_pre\"])))\n",
        "        \n",
        "        output_df = output_df[~output_df['latDeg'].isnull()]\n",
        "\n",
        "        return output_df[org_colus]\n",
        "\n",
        "    \n",
        "    def calc_mean_pred(input_df, lerp_df):\n",
        "        input_df[\"phone\"] = input_df[\"collectionName\"] + \"_\" + input_df[\"phoneName\"]\n",
        "        add_lerp = pd.concat([input_df, lerp_df])\n",
        "        mean_pred_result = add_lerp.groupby([\"collectionName\", \"millisSinceGpsEpoch\"])[[\"latDeg\", \"lngDeg\"]].mean().reset_index()\n",
        "        output_df = input_df[[\"collectionName\", \"phoneName\", \"millisSinceGpsEpoch\"]].copy()\n",
        "        output_df = output_df.merge(mean_pred_result[[\"collectionName\", \"millisSinceGpsEpoch\", \"latDeg\", \"lngDeg\"]],\n",
        "                                        on=[\"collectionName\", \"millisSinceGpsEpoch\"], how=\"left\")\n",
        "        output_df[\"phone\"] = output_df[\"collectionName\"] + \"_\" + output_df[\"phoneName\"]\n",
        "        return output_df\n",
        "\n",
        "\n",
        "    test_lerp = make_lerp_data(input_df)\n",
        "    test_mean_pred  = calc_mean_pred(input_df, test_lerp)\n",
        "\n",
        "    output_df = input_df.copy()\n",
        "\n",
        "    output_df[\"latDeg\"] = test_mean_pred[\"latDeg\"]\n",
        "    output_df[\"lngDeg\"] = test_mean_pred[\"lngDeg\"]\n",
        "\n",
        "    \n",
        "    \n",
        "    return output_df"
      ],
      "execution_count": 112,
      "outputs": []
    },
    {
      "cell_type": "markdown",
      "metadata": {
        "id": "FTbqp7iPwcAz"
      },
      "source": [
        "# Outlier "
      ]
    },
    {
      "cell_type": "code",
      "metadata": {
        "id": "DQssaob_wiX4"
      },
      "source": [
        "def outlier(input_df):\n",
        "    output_df = input_df\n",
        "\n",
        "    output_df[\"dist_pre\"] = 0\n",
        "    output_df[\"dist_pro\"] = 0\n",
        "\n",
        "    output_df['latDeg_pre'] = output_df['latDeg'].shift(periods=1,fill_value=0)\n",
        "    output_df['lngDeg_pre'] = output_df['lngDeg'].shift(periods=1,fill_value=0)\n",
        "    output_df['latDeg_pro'] = output_df['latDeg'].shift(periods=-1,fill_value=0)\n",
        "    output_df['lngDeg_pro'] = output_df['lngDeg'].shift(periods=-1,fill_value=0)\n",
        "    output_df['dist_pre'] = calc_haversine(output_df.latDeg_pre, output_df.lngDeg_pre, output_df.latDeg, output_df.lngDeg)\n",
        "    output_df['dist_pro'] = calc_haversine(output_df.latDeg, output_df.lngDeg, output_df.latDeg_pro, output_df.lngDeg_pro)\n",
        "\n",
        "    list_phone = output_df['phone'].unique()\n",
        "    for phone in list_phone:\n",
        "        ind_s = output_df[test_base['phone'] == phone].index[0]\n",
        "        ind_e = output_df[test_base['phone'] == phone].index[-1]\n",
        "        output_df.loc[ind_s,'dist_pre'] = 0\n",
        "        output_df.loc[ind_e,'dist_pro'] = 0\n",
        "\n",
        "    pro_95 = output_df['dist_pro'].mean() + (output_df['dist_pro'].std() * 2)\n",
        "    pre_95 = output_df['dist_pre'].mean() + (output_df['dist_pre'].std() * 2)\n",
        "    ind = output_df[(output_df['dist_pro'] > pro_95)&(output_df['dist_pre'] > pre_95)][['dist_pre','dist_pro']].index\n",
        "\n",
        "    for i in ind:\n",
        "        output_df.loc[i,'latDeg'] = (output_df.loc[i-1,'latDeg'] + output_df.loc[i+1,'latDeg'])/2\n",
        "        output_df.loc[i,'lngDeg'] = (output_df.loc[i-1,'lngDeg'] + output_df.loc[i+1,'lngDeg'])/2\n",
        "\n",
        "    output_df[\"phoneName\"] = input_df[\"phoneName\"]\n",
        "    output_df[\"collectionName\"] = input_df[\"collectionName\"]\n",
        "    output_df[\"millisSinceGpsEpoch\"] = input_df[\"millisSinceGpsEpoch\"]\n",
        "\n",
        "    return output_df"
      ],
      "execution_count": 113,
      "outputs": []
    },
    {
      "cell_type": "markdown",
      "metadata": {
        "id": "7u76gVm3wnQm"
      },
      "source": [
        "# Position Shift"
      ]
    },
    {
      "cell_type": "code",
      "metadata": {
        "id": "6I6SqX0Dwqw7"
      },
      "source": [
        "def position_shift(input_df):\n",
        "    sub_cols = sub.columns\n",
        "\n",
        "    train_p_s = pd.read_csv(path / \"baseline_locations_train.csv\")\n",
        "    train_b = train_p_s[sub_cols]\n",
        "    test_b = test_base[sub_cols]\n",
        "\n",
        "    msge = \"millisSinceGpsEpoch\"\n",
        "\n",
        "    testdir = path / 'test'\n",
        "    traindir = path / 'train'\n",
        "\n",
        "    g_t = pd.DataFrame()\n",
        "    for d in os.listdir(traindir):\n",
        "        for p in os.listdir(traindir/d):\n",
        "            g_t = g_t.append(pd.read_csv(traindir/d/p/'ground_truth.csv'))\n",
        "\n",
        "    g_t[\"phone\"] = g_t[\"collectionName\"] + \"_\" + g_t[\"phoneName\"]\n",
        "    g_t_sub_cols = g_t[sub_cols]\n",
        "\n",
        "\n",
        "    def compute_dist(fname_1, fname_2=g_t):\n",
        "        oof = fname_1\n",
        "        g_t = fname_2\n",
        "        df = oof.merge(g_t, on=[\"phone\", \"millisSinceGpsEpoch\"])\n",
        "        dist_oof = calc_haversine(df.latDeg_x, df.lngDeg_x, df.latDeg_y, df.lngDeg_y)\n",
        "        scores = pd.DataFrame({\"phone\":df.phone, \"dist\":dist_oof})\n",
        "        scores_grp = scores.groupby(\"phone\")\n",
        "        d_50 = scores_grp.quantile(.50).reset_index()\n",
        "        d_50.columns = [\"phone\", \"q_50\"]\n",
        "        d_95 = scores_grp.quantile(.95).reset_index()\n",
        "        d_95.columns = [\"phone\", \"q_95\"]\n",
        "        return (scores_grp.quantile(.50).mean() + scores_grp.quantile(.95).mean()) / 2, d_50.merge(d_95)\n",
        "\n",
        "\n",
        "    def WGS84_to_ECEF(lat, lng, alt):\n",
        "        rad_lat = lat * (np.pi / 180.0)\n",
        "        rad_lng = lng * (np.pi / 180.0)\n",
        "        a = 6378137.0\n",
        "        finv = 298.257223563\n",
        "        f = 1 / finv   \n",
        "        e2 = 1 - (1 - f) * (1 - f)    \n",
        "        N = a / np.sqrt(1 - e2 * np.sin(rad_lat) * np.sin(rad_lat))\n",
        "        x = (N + alt) * np.cos(rad_lat) * np.cos(rad_lng)\n",
        "        y = (N + alt) * np.cos(rad_lat) * np.sin(rad_lng)\n",
        "        z = (N * (1 - e2) + alt)        * np.sin(rad_lat)\n",
        "        return x, y, z    \n",
        "\n",
        "\n",
        "    transformer = pyproj.Transformer.from_crs(\n",
        "        {\"proj\":'geocent', \"ellps\":'WGS84', \"datum\":'WGS84'},\n",
        "        {\"proj\":'latlong', \"ellps\":'WGS84', \"datum\":'WGS84'},)\n",
        "\n",
        "\n",
        "    def ECEF_to_WGS84(x, y, z):\n",
        "        lng, lat, alt = transformer.transform(x, y, z, radians=False)\n",
        "        return lng, lat, alt\n",
        "\n",
        "\n",
        "    def position_shift_(input_df, a):\n",
        "        output_df = input_df.copy()\n",
        "        output_df[\"heightAboveWgs84EllipsoidM\"] = 63.5\n",
        "        output_df[\"x\"], output_df[\"y\"], output_df[\"z\"] = zip(*output_df.apply(lambda x: WGS84_to_ECEF(x.latDeg, x.lngDeg, \n",
        "                                                                                                    x.heightAboveWgs84EllipsoidM), axis=1))\n",
        "        output_df.sort_values([\"phone\", msge], inplace=True)\n",
        "        for fi in [\"x\", \"y\", \"z\"]:\n",
        "            output_df[[fi + \"_p\"]] = output_df[fi].shift().where(output_df[\"phone\"].eq(output_df[\"phone\"].shift()))\n",
        "            output_df[[fi + \"_diff\"]] = output_df[fi] - output_df[fi + \"_p\"]\n",
        "\n",
        "        output_df[[\"dist\"]] = np.sqrt(output_df[\"x_diff\"]**2 + output_df[\"y_diff\"]**2 + output_df[\"z_diff\"]**2)\n",
        "        for fi in [\"x\", \"y\", \"z\"]:\n",
        "            output_df[[fi + \"_new\"]] = output_df[fi + \"_p\"] + output_df[fi + \"_diff\"] * (1 - a/output_df[\"dist\"])\n",
        "        lng, lat, alt = ECEF_to_WGS84(output_df[\"x_new\"].values, output_df[\"y_new\"].values, output_df[\"z_new\"].values)\n",
        "\n",
        "        lat[np.isnan(lat)] = output_df.loc[np.isnan(lat), \"latDeg\"]\n",
        "        lng[np.isnan(lng)] = output_df.loc[np.isnan(lng), \"lngDeg\"]\n",
        "        output_df[\"latDeg\"] = lat\n",
        "        output_df[\"lngDeg\"] = lng\n",
        "\n",
        "        output_df.sort_values([\"phone\", msge], inplace=True)\n",
        "\n",
        "        return output_df[sub_cols]\n",
        "\n",
        "\n",
        "    def objective(trial):\n",
        "        a = trial.suggest_uniform(\"a\", -1, 1)\n",
        "        score, scores = compute_dist(position_shift_(train_b, a), g_t)\n",
        "        return score\n",
        "\n",
        "\n",
        "    study = optuna.create_study()\n",
        "    study.optimize(objective, n_trials=30)\n",
        "\n",
        "    output_df = position_shift_(input_df, a=study.best_params[\"a\"])\n",
        "\n",
        "    output_df[\"phoneName\"] = input_df[\"phoneName\"]\n",
        "    output_df[\"collectionName\"] = input_df[\"collectionName\"]\n",
        "    output_df[\"millisSinceGpsEpoch\"] = input_df[\"millisSinceGpsEpoch\"]\n",
        "    #output_df[\"t_latDeg\"] = input_df[\"t_latDeg\"]\n",
        "    #output_df[\"t_lngDeg\"] = input_df[\"t_lngDeg\"]\n",
        "\n",
        "    return output_df"
      ],
      "execution_count": 114,
      "outputs": []
    },
    {
      "cell_type": "markdown",
      "metadata": {
        "id": "d6Cr7EMUxHlw"
      },
      "source": [
        "# Remove Device"
      ]
    },
    {
      "cell_type": "code",
      "metadata": {
        "id": "vYfuD_AqxL-8"
      },
      "source": [
        "def remove_device(input_df):\n",
        "\n",
        "    def get_removedevice(input_df: pd.DataFrame, divece: str) -> pd.DataFrame:\n",
        "        input_df['index'] = input_df.index\n",
        "        input_df = input_df.sort_values('millisSinceGpsEpoch')\n",
        "        input_df.index = input_df['millisSinceGpsEpoch'].values\n",
        "\n",
        "        output_df = pd.DataFrame() \n",
        "        for _, subdf in input_df.groupby('collectionName'):\n",
        "\n",
        "            phones = subdf['phoneName'].unique()\n",
        "\n",
        "            if (len(phones) == 1) or (not divece in phones):\n",
        "                output_df = pd.concat([output_df, subdf])\n",
        "                continue\n",
        "\n",
        "            origin_df = subdf.copy()\n",
        "            \n",
        "            _index = subdf['phoneName']==divece\n",
        "            subdf.loc[_index, 'latDeg'] = np.nan\n",
        "            subdf.loc[_index, 'lngDeg'] = np.nan\n",
        "            subdf = subdf.interpolate(method='index', limit_area='inside')\n",
        "\n",
        "            _index = subdf['latDeg'].isnull()\n",
        "            subdf.loc[_index, 'latDeg'] = origin_df.loc[_index, 'latDeg'].values\n",
        "            subdf.loc[_index, 'lngDeg'] = origin_df.loc[_index, 'lngDeg'].values\n",
        "\n",
        "            output_df = pd.concat([output_df, subdf])\n",
        "\n",
        "        output_df.index = output_df['index'].values\n",
        "        output_df = output_df.sort_index()\n",
        "\n",
        "        del output_df['index']\n",
        "        \n",
        "        return output_df\n",
        "\n",
        "    output_df = get_removedevice(input_df, 'SamsungS20Ultra')\n",
        "\n",
        "    return output_df"
      ],
      "execution_count": 115,
      "outputs": []
    },
    {
      "cell_type": "markdown",
      "metadata": {
        "id": "LcfHGGsZxdYd"
      },
      "source": [
        "# Kalman Filter"
      ]
    },
    {
      "cell_type": "code",
      "metadata": {
        "id": "2unm2PhcxhV0"
      },
      "source": [
        "def kalman_filter(input_df):\n",
        "\n",
        "    T = 1.0\n",
        "    state_transition = np.array([[1, 0, T, 0, 0.5 * T ** 2, 0], [0, 1, 0, T, 0, 0.5 * T ** 2], [0, 0, 1, 0, T, 0],\n",
        "                                [0, 0, 0, 1, 0, T], [0, 0, 0, 0, 1, 0], [0, 0, 0, 0, 0, 1]])\n",
        "    process_noise = np.diag([1e-5, 1e-5, 5e-6, 5e-6, 1e-6, 1e-6]) + np.ones((6, 6)) * 1e-9\n",
        "    observation_model = np.array([[1, 0, 0, 0, 0, 0], [0, 1, 0, 0, 0, 0]])\n",
        "    observation_noise = np.diag([1e-4, 1e-4]) + np.ones((2, 2)) * 1e-9\n",
        "\n",
        "    kf = simdkalman.KalmanFilter(\n",
        "            state_transition = state_transition,\n",
        "            process_noise = process_noise,\n",
        "            observation_model = observation_model,\n",
        "            observation_noise = observation_noise)\n",
        "    \n",
        "    def apply_kf_smoothing(df, kf_=kf):\n",
        "        unique_paths = df[['collectionName', 'phoneName']].drop_duplicates().to_numpy()\n",
        "        for collection, phone in tqdm(unique_paths):\n",
        "            cond = np.logical_and(df['collectionName'] == collection, df['phoneName'] == phone)\n",
        "            data = df[cond][['latDeg', 'lngDeg']].to_numpy()\n",
        "            data = data.reshape(1, len(data), 2)\n",
        "            smoothed = kf_.smooth(data)\n",
        "            df.loc[cond, 'latDeg'] = smoothed.states.mean[0, :, 0]\n",
        "            df.loc[cond, 'lngDeg'] = smoothed.states.mean[0, :, 1]\n",
        "        return df\n",
        "\n",
        "    kf_smoothed_baseline = apply_kf_smoothing(input_df)\n",
        "    output_df = sub.assign(latDeg = kf_smoothed_baseline.latDeg, lngDeg = kf_smoothed_baseline.lngDeg)\n",
        "    output_df[\"phoneName\"] = input_df[\"phoneName\"]\n",
        "    output_df[\"collectionName\"] = input_df[\"collectionName\"]\n",
        "    output_df[\"millisSinceGpsEpoch\"] = input_df[\"millisSinceGpsEpoch\"]\n",
        "    #output_df[\"t_latDeg\"] = input_df[\"t_latDeg\"]\n",
        "    #output_df[\"t_lngDeg\"] = input_df[\"t_lngDeg\"]\n",
        "    \n",
        "    return output_df"
      ],
      "execution_count": 116,
      "outputs": []
    },
    {
      "cell_type": "markdown",
      "metadata": {
        "id": "O5ONOIUP4JdW"
      },
      "source": [
        "# SUB"
      ]
    },
    {
      "cell_type": "code",
      "metadata": {
        "id": "UTx6XpUt77Ai",
        "outputId": "c359c814-ec99-4db9-dace-b883610942ea",
        "colab": {
          "base_uri": "https://localhost:8080/",
          "height": 629,
          "referenced_widgets": [
            "d10df6d3463e4fd485a359ee74ea86bf",
            "54645984af5f466d8a9f1bb2a70a776b",
            "2099370eb7ac4b4e87b8c77b44dea1be",
            "5c9def19e340405cad2f0ca527ce900c",
            "e05e95bc7a8c4d8a830620117743705a",
            "948fa24b26c84294883dc790853ba254",
            "3ff7fd49d88940b590163069ed0f0ac9",
            "1390d203dd7243dfb72dfb52b41d1503"
          ]
        }
      },
      "source": [
        "submission_1 = outlier(test_base)\n",
        "submission_2 = kalman_filter(submission_1)\n",
        "submission_3 = mean_prediction(submission_2)\n",
        "submission_4 = remove_device(submission_3)\n",
        "submission_5 = position_shift(submission_4)"
      ],
      "execution_count": 117,
      "outputs": [
        {
          "output_type": "display_data",
          "data": {
            "application/vnd.jupyter.widget-view+json": {
              "model_id": "d10df6d3463e4fd485a359ee74ea86bf",
              "version_minor": 0,
              "version_major": 2
            },
            "text/plain": [
              "HBox(children=(FloatProgress(value=0.0, max=48.0), HTML(value='')))"
            ]
          },
          "metadata": {
            "tags": []
          }
        },
        {
          "output_type": "stream",
          "text": [
            "\n"
          ],
          "name": "stdout"
        },
        {
          "output_type": "stream",
          "text": [
            "\u001b[32m[I 2021-07-02 02:08:02,065]\u001b[0m A new study created in memory with name: no-name-bfef6b42-c2fa-4be3-b2de-3cec09873da8\u001b[0m\n",
            "\u001b[32m[I 2021-07-02 02:08:08,247]\u001b[0m Trial 0 finished with value: 5.2257396422411855 and parameters: {'a': 0.24375925002877752}. Best is trial 0 with value: 5.2257396422411855.\u001b[0m\n",
            "\u001b[32m[I 2021-07-02 02:08:14,341]\u001b[0m Trial 1 finished with value: 5.1941192026464105 and parameters: {'a': 0.7655102118618493}. Best is trial 1 with value: 5.1941192026464105.\u001b[0m\n",
            "\u001b[32m[I 2021-07-02 02:08:20,336]\u001b[0m Trial 2 finished with value: 5.234353461736477 and parameters: {'a': 0.20326043371386748}. Best is trial 1 with value: 5.1941192026464105.\u001b[0m\n",
            "\u001b[32m[I 2021-07-02 02:08:26,478]\u001b[0m Trial 3 finished with value: 5.722885832976319 and parameters: {'a': -0.946280215921137}. Best is trial 1 with value: 5.1941192026464105.\u001b[0m\n",
            "\u001b[32m[I 2021-07-02 02:08:32,677]\u001b[0m Trial 4 finished with value: 5.198642481346333 and parameters: {'a': 0.843157804954046}. Best is trial 1 with value: 5.1941192026464105.\u001b[0m\n",
            "\u001b[32m[I 2021-07-02 02:08:38,727]\u001b[0m Trial 5 finished with value: 5.40695515879332 and parameters: {'a': -0.3353933284473418}. Best is trial 1 with value: 5.1941192026464105.\u001b[0m\n",
            "\u001b[32m[I 2021-07-02 02:08:44,806]\u001b[0m Trial 6 finished with value: 5.6236709713487185 and parameters: {'a': -0.7742637642294494}. Best is trial 1 with value: 5.1941192026464105.\u001b[0m\n",
            "\u001b[32m[I 2021-07-02 02:08:50,789]\u001b[0m Trial 7 finished with value: 5.262139189151932 and parameters: {'a': 0.08637128414855932}. Best is trial 1 with value: 5.1941192026464105.\u001b[0m\n",
            "\u001b[32m[I 2021-07-02 02:08:56,696]\u001b[0m Trial 8 finished with value: 5.711162307936893 and parameters: {'a': -0.9267040502236341}. Best is trial 1 with value: 5.1941192026464105.\u001b[0m\n",
            "\u001b[32m[I 2021-07-02 02:09:02,648]\u001b[0m Trial 9 finished with value: 5.288010328833913 and parameters: {'a': -0.00011495342660383656}. Best is trial 1 with value: 5.1941192026464105.\u001b[0m\n",
            "\u001b[32m[I 2021-07-02 02:09:08,424]\u001b[0m Trial 10 finished with value: 5.203357031831709 and parameters: {'a': 0.9106326645533305}. Best is trial 1 with value: 5.1941192026464105.\u001b[0m\n",
            "\u001b[32m[I 2021-07-02 02:09:14,339]\u001b[0m Trial 11 finished with value: 5.202937855072108 and parameters: {'a': 0.9022795531386733}. Best is trial 1 with value: 5.1941192026464105.\u001b[0m\n",
            "\u001b[32m[I 2021-07-02 02:09:20,413]\u001b[0m Trial 12 finished with value: 5.189838241701438 and parameters: {'a': 0.5941882625258212}. Best is trial 12 with value: 5.189838241701438.\u001b[0m\n",
            "\u001b[32m[I 2021-07-02 02:09:26,380]\u001b[0m Trial 13 finished with value: 5.19095226422177 and parameters: {'a': 0.5621992082145117}. Best is trial 12 with value: 5.189838241701438.\u001b[0m\n",
            "\u001b[32m[I 2021-07-02 02:09:32,482]\u001b[0m Trial 14 finished with value: 5.1916013663666405 and parameters: {'a': 0.5309670225244172}. Best is trial 12 with value: 5.189838241701438.\u001b[0m\n",
            "\u001b[32m[I 2021-07-02 02:09:38,597]\u001b[0m Trial 15 finished with value: 5.192428099988444 and parameters: {'a': 0.4956885835034537}. Best is trial 12 with value: 5.189838241701438.\u001b[0m\n",
            "\u001b[32m[I 2021-07-02 02:09:44,673]\u001b[0m Trial 16 finished with value: 5.19186466244863 and parameters: {'a': 0.5233389195720575}. Best is trial 12 with value: 5.189838241701438.\u001b[0m\n",
            "\u001b[32m[I 2021-07-02 02:09:50,810]\u001b[0m Trial 17 finished with value: 5.187416635736719 and parameters: {'a': 0.6478952126690359}. Best is trial 17 with value: 5.187416635736719.\u001b[0m\n",
            "\u001b[32m[I 2021-07-02 02:09:56,918]\u001b[0m Trial 18 finished with value: 5.322066656615199 and parameters: {'a': -0.11335249951566913}. Best is trial 17 with value: 5.187416635736719.\u001b[0m\n",
            "\u001b[32m[I 2021-07-02 02:10:02,954]\u001b[0m Trial 19 finished with value: 5.20876779987441 and parameters: {'a': 0.33713783795616603}. Best is trial 17 with value: 5.187416635736719.\u001b[0m\n",
            "\u001b[32m[I 2021-07-02 02:10:08,914]\u001b[0m Trial 20 finished with value: 5.388879427590493 and parameters: {'a': -0.28741039969782867}. Best is trial 17 with value: 5.187416635736719.\u001b[0m\n",
            "\u001b[32m[I 2021-07-02 02:10:14,828]\u001b[0m Trial 21 finished with value: 5.187790038150412 and parameters: {'a': 0.6370189285711515}. Best is trial 17 with value: 5.187416635736719.\u001b[0m\n",
            "\u001b[32m[I 2021-07-02 02:10:20,641]\u001b[0m Trial 22 finished with value: 5.189264915805126 and parameters: {'a': 0.7009737541653294}. Best is trial 17 with value: 5.187416635736719.\u001b[0m\n",
            "\u001b[32m[I 2021-07-02 02:10:26,534]\u001b[0m Trial 23 finished with value: 5.193385579409381 and parameters: {'a': 0.7526959241003766}. Best is trial 17 with value: 5.187416635736719.\u001b[0m\n",
            "\u001b[32m[I 2021-07-02 02:10:32,407]\u001b[0m Trial 24 finished with value: 5.205296769079821 and parameters: {'a': 0.35565156022572775}. Best is trial 17 with value: 5.187416635736719.\u001b[0m\n",
            "\u001b[32m[I 2021-07-02 02:10:38,512]\u001b[0m Trial 25 finished with value: 5.213467724989014 and parameters: {'a': 0.9907685299004678}. Best is trial 17 with value: 5.187416635736719.\u001b[0m\n",
            "\u001b[32m[I 2021-07-02 02:10:44,425]\u001b[0m Trial 26 finished with value: 5.187747720991315 and parameters: {'a': 0.6769138722518383}. Best is trial 17 with value: 5.187416635736719.\u001b[0m\n",
            "\u001b[32m[I 2021-07-02 02:10:50,502]\u001b[0m Trial 27 finished with value: 5.2125493945900185 and parameters: {'a': 0.9841972341994272}. Best is trial 17 with value: 5.187416635736719.\u001b[0m\n",
            "\u001b[32m[I 2021-07-02 02:10:56,410]\u001b[0m Trial 28 finished with value: 5.188449355767922 and parameters: {'a': 0.6857760329303358}. Best is trial 17 with value: 5.187416635736719.\u001b[0m\n",
            "\u001b[32m[I 2021-07-02 02:11:02,521]\u001b[0m Trial 29 finished with value: 5.204953791772406 and parameters: {'a': 0.35774876240230924}. Best is trial 17 with value: 5.187416635736719.\u001b[0m\n"
          ],
          "name": "stderr"
        }
      ]
    },
    {
      "cell_type": "code",
      "metadata": {
        "colab": {
          "base_uri": "https://localhost:8080/"
        },
        "id": "HcpVOzWZffpi",
        "outputId": "7910e5d7-cb9d-454e-db5d-4091c8a6fe3a"
      },
      "source": [
        "submission_5.isna().sum()"
      ],
      "execution_count": 118,
      "outputs": [
        {
          "output_type": "execute_result",
          "data": {
            "text/plain": [
              "phone                  0\n",
              "millisSinceGpsEpoch    0\n",
              "latDeg                 0\n",
              "lngDeg                 0\n",
              "phoneName              0\n",
              "collectionName         0\n",
              "dtype: int64"
            ]
          },
          "metadata": {
            "tags": []
          },
          "execution_count": 118
        }
      ]
    },
    {
      "cell_type": "code",
      "metadata": {
        "colab": {
          "base_uri": "https://localhost:8080/",
          "height": 589
        },
        "id": "51Is1Bfu_fxF",
        "outputId": "92c95fa2-09b9-45e0-f0e1-d96303c94967"
      },
      "source": [
        "submission_5"
      ],
      "execution_count": 119,
      "outputs": [
        {
          "output_type": "execute_result",
          "data": {
            "text/html": [
              "<div>\n",
              "<style scoped>\n",
              "    .dataframe tbody tr th:only-of-type {\n",
              "        vertical-align: middle;\n",
              "    }\n",
              "\n",
              "    .dataframe tbody tr th {\n",
              "        vertical-align: top;\n",
              "    }\n",
              "\n",
              "    .dataframe thead th {\n",
              "        text-align: right;\n",
              "    }\n",
              "</style>\n",
              "<table border=\"1\" class=\"dataframe\">\n",
              "  <thead>\n",
              "    <tr style=\"text-align: right;\">\n",
              "      <th></th>\n",
              "      <th>phone</th>\n",
              "      <th>millisSinceGpsEpoch</th>\n",
              "      <th>latDeg</th>\n",
              "      <th>lngDeg</th>\n",
              "      <th>phoneName</th>\n",
              "      <th>collectionName</th>\n",
              "    </tr>\n",
              "  </thead>\n",
              "  <tbody>\n",
              "    <tr>\n",
              "      <th>0</th>\n",
              "      <td>2020-05-15-US-MTV-1_Pixel4</td>\n",
              "      <td>1273608785432</td>\n",
              "      <td>37.416555</td>\n",
              "      <td>-122.081915</td>\n",
              "      <td>Pixel4</td>\n",
              "      <td>2020-05-15-US-MTV-1</td>\n",
              "    </tr>\n",
              "    <tr>\n",
              "      <th>1</th>\n",
              "      <td>2020-05-15-US-MTV-1_Pixel4</td>\n",
              "      <td>1273608786432</td>\n",
              "      <td>37.416572</td>\n",
              "      <td>-122.081972</td>\n",
              "      <td>Pixel4</td>\n",
              "      <td>2020-05-15-US-MTV-1</td>\n",
              "    </tr>\n",
              "    <tr>\n",
              "      <th>2</th>\n",
              "      <td>2020-05-15-US-MTV-1_Pixel4</td>\n",
              "      <td>1273608787432</td>\n",
              "      <td>37.416587</td>\n",
              "      <td>-122.082017</td>\n",
              "      <td>Pixel4</td>\n",
              "      <td>2020-05-15-US-MTV-1</td>\n",
              "    </tr>\n",
              "    <tr>\n",
              "      <th>3</th>\n",
              "      <td>2020-05-15-US-MTV-1_Pixel4</td>\n",
              "      <td>1273608788432</td>\n",
              "      <td>37.416596</td>\n",
              "      <td>-122.082046</td>\n",
              "      <td>Pixel4</td>\n",
              "      <td>2020-05-15-US-MTV-1</td>\n",
              "    </tr>\n",
              "    <tr>\n",
              "      <th>4</th>\n",
              "      <td>2020-05-15-US-MTV-1_Pixel4</td>\n",
              "      <td>1273608789432</td>\n",
              "      <td>37.416602</td>\n",
              "      <td>-122.082062</td>\n",
              "      <td>Pixel4</td>\n",
              "      <td>2020-05-15-US-MTV-1</td>\n",
              "    </tr>\n",
              "    <tr>\n",
              "      <th>...</th>\n",
              "      <td>...</td>\n",
              "      <td>...</td>\n",
              "      <td>...</td>\n",
              "      <td>...</td>\n",
              "      <td>...</td>\n",
              "      <td>...</td>\n",
              "    </tr>\n",
              "    <tr>\n",
              "      <th>91481</th>\n",
              "      <td>2021-04-29-US-SJC-3_SamsungS20Ultra</td>\n",
              "      <td>1303763185000</td>\n",
              "      <td>37.334544</td>\n",
              "      <td>-121.899400</td>\n",
              "      <td>SamsungS20Ultra</td>\n",
              "      <td>2021-04-29-US-SJC-3</td>\n",
              "    </tr>\n",
              "    <tr>\n",
              "      <th>91482</th>\n",
              "      <td>2021-04-29-US-SJC-3_SamsungS20Ultra</td>\n",
              "      <td>1303763186000</td>\n",
              "      <td>37.334544</td>\n",
              "      <td>-121.899391</td>\n",
              "      <td>SamsungS20Ultra</td>\n",
              "      <td>2021-04-29-US-SJC-3</td>\n",
              "    </tr>\n",
              "    <tr>\n",
              "      <th>91483</th>\n",
              "      <td>2021-04-29-US-SJC-3_SamsungS20Ultra</td>\n",
              "      <td>1303763187000</td>\n",
              "      <td>37.334546</td>\n",
              "      <td>-121.899382</td>\n",
              "      <td>SamsungS20Ultra</td>\n",
              "      <td>2021-04-29-US-SJC-3</td>\n",
              "    </tr>\n",
              "    <tr>\n",
              "      <th>91484</th>\n",
              "      <td>2021-04-29-US-SJC-3_SamsungS20Ultra</td>\n",
              "      <td>1303763188000</td>\n",
              "      <td>37.334548</td>\n",
              "      <td>-121.899371</td>\n",
              "      <td>SamsungS20Ultra</td>\n",
              "      <td>2021-04-29-US-SJC-3</td>\n",
              "    </tr>\n",
              "    <tr>\n",
              "      <th>91485</th>\n",
              "      <td>2021-04-29-US-SJC-3_SamsungS20Ultra</td>\n",
              "      <td>1303763189000</td>\n",
              "      <td>37.334551</td>\n",
              "      <td>-121.899360</td>\n",
              "      <td>SamsungS20Ultra</td>\n",
              "      <td>2021-04-29-US-SJC-3</td>\n",
              "    </tr>\n",
              "  </tbody>\n",
              "</table>\n",
              "<p>91486 rows × 6 columns</p>\n",
              "</div>"
            ],
            "text/plain": [
              "                                     phone  ...       collectionName\n",
              "0               2020-05-15-US-MTV-1_Pixel4  ...  2020-05-15-US-MTV-1\n",
              "1               2020-05-15-US-MTV-1_Pixel4  ...  2020-05-15-US-MTV-1\n",
              "2               2020-05-15-US-MTV-1_Pixel4  ...  2020-05-15-US-MTV-1\n",
              "3               2020-05-15-US-MTV-1_Pixel4  ...  2020-05-15-US-MTV-1\n",
              "4               2020-05-15-US-MTV-1_Pixel4  ...  2020-05-15-US-MTV-1\n",
              "...                                    ...  ...                  ...\n",
              "91481  2021-04-29-US-SJC-3_SamsungS20Ultra  ...  2021-04-29-US-SJC-3\n",
              "91482  2021-04-29-US-SJC-3_SamsungS20Ultra  ...  2021-04-29-US-SJC-3\n",
              "91483  2021-04-29-US-SJC-3_SamsungS20Ultra  ...  2021-04-29-US-SJC-3\n",
              "91484  2021-04-29-US-SJC-3_SamsungS20Ultra  ...  2021-04-29-US-SJC-3\n",
              "91485  2021-04-29-US-SJC-3_SamsungS20Ultra  ...  2021-04-29-US-SJC-3\n",
              "\n",
              "[91486 rows x 6 columns]"
            ]
          },
          "metadata": {
            "tags": []
          },
          "execution_count": 119
        }
      ]
    },
    {
      "cell_type": "code",
      "metadata": {
        "id": "Zc6uyzTQ8q_K"
      },
      "source": [
        "submission_5[sub.columns].to_csv('submission_19_2.csv', index=False)"
      ],
      "execution_count": 120,
      "outputs": []
    }
  ]
}