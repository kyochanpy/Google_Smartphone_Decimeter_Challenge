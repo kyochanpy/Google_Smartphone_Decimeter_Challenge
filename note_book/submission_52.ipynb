{
  "nbformat": 4,
  "nbformat_minor": 0,
  "metadata": {
    "colab": {
      "name": "Untitled126.ipynb",
      "provenance": [],
      "collapsed_sections": [
        "CKPfyc7hOwk7",
        "yGPdVzBZOwgo",
        "96vx8HrPOweU",
        "CnELqZfmOwbr",
        "XOJ-khTwOwZX",
        "qy8EnNQdOwUf"
      ],
      "mount_file_id": "1lXtX3b8oZbCrBJ2x8Niek9ejvNZUlDMn",
      "authorship_tag": "ABX9TyOm342KKUggB/SsG1vA4gRO",
      "include_colab_link": true
    },
    "kernelspec": {
      "name": "python3",
      "display_name": "Python 3"
    },
    "language_info": {
      "name": "python"
    },
    "widgets": {
      "application/vnd.jupyter.widget-state+json": {
        "4ac2cb1cf825447194ec28179b7accc9": {
          "model_module": "@jupyter-widgets/controls",
          "model_name": "HBoxModel",
          "state": {
            "_view_name": "HBoxView",
            "_dom_classes": [],
            "_model_name": "HBoxModel",
            "_view_module": "@jupyter-widgets/controls",
            "_model_module_version": "1.5.0",
            "_view_count": null,
            "_view_module_version": "1.5.0",
            "box_style": "",
            "layout": "IPY_MODEL_8ac963b29b384602ac410db20aebf26f",
            "_model_module": "@jupyter-widgets/controls",
            "children": [
              "IPY_MODEL_ed7e34321fa24dedb1ea8f264f598071",
              "IPY_MODEL_c5db6046c34c43738d83a0e7bcd6a687"
            ]
          }
        },
        "8ac963b29b384602ac410db20aebf26f": {
          "model_module": "@jupyter-widgets/base",
          "model_name": "LayoutModel",
          "state": {
            "_view_name": "LayoutView",
            "grid_template_rows": null,
            "right": null,
            "justify_content": null,
            "_view_module": "@jupyter-widgets/base",
            "overflow": null,
            "_model_module_version": "1.2.0",
            "_view_count": null,
            "flex_flow": null,
            "width": null,
            "min_width": null,
            "border": null,
            "align_items": null,
            "bottom": null,
            "_model_module": "@jupyter-widgets/base",
            "top": null,
            "grid_column": null,
            "overflow_y": null,
            "overflow_x": null,
            "grid_auto_flow": null,
            "grid_area": null,
            "grid_template_columns": null,
            "flex": null,
            "_model_name": "LayoutModel",
            "justify_items": null,
            "grid_row": null,
            "max_height": null,
            "align_content": null,
            "visibility": null,
            "align_self": null,
            "height": null,
            "min_height": null,
            "padding": null,
            "grid_auto_rows": null,
            "grid_gap": null,
            "max_width": null,
            "order": null,
            "_view_module_version": "1.2.0",
            "grid_template_areas": null,
            "object_position": null,
            "object_fit": null,
            "grid_auto_columns": null,
            "margin": null,
            "display": null,
            "left": null
          }
        },
        "ed7e34321fa24dedb1ea8f264f598071": {
          "model_module": "@jupyter-widgets/controls",
          "model_name": "FloatProgressModel",
          "state": {
            "_view_name": "ProgressView",
            "style": "IPY_MODEL_c1c5494601954faf81e43a3d40155fef",
            "_dom_classes": [],
            "description": "100%",
            "_model_name": "FloatProgressModel",
            "bar_style": "success",
            "max": 73,
            "_view_module": "@jupyter-widgets/controls",
            "_model_module_version": "1.5.0",
            "value": 73,
            "_view_count": null,
            "_view_module_version": "1.5.0",
            "orientation": "horizontal",
            "min": 0,
            "description_tooltip": null,
            "_model_module": "@jupyter-widgets/controls",
            "layout": "IPY_MODEL_2e02e9f376d64c0e863444a3873a614d"
          }
        },
        "c5db6046c34c43738d83a0e7bcd6a687": {
          "model_module": "@jupyter-widgets/controls",
          "model_name": "HTMLModel",
          "state": {
            "_view_name": "HTMLView",
            "style": "IPY_MODEL_3e01955bbe9844e8be98ce1493b9819a",
            "_dom_classes": [],
            "description": "",
            "_model_name": "HTMLModel",
            "placeholder": "​",
            "_view_module": "@jupyter-widgets/controls",
            "_model_module_version": "1.5.0",
            "value": " 73/73 [00:56&lt;00:00,  1.29it/s]",
            "_view_count": null,
            "_view_module_version": "1.5.0",
            "description_tooltip": null,
            "_model_module": "@jupyter-widgets/controls",
            "layout": "IPY_MODEL_a8036344372a485c9c43d5c28c4ecbbe"
          }
        },
        "c1c5494601954faf81e43a3d40155fef": {
          "model_module": "@jupyter-widgets/controls",
          "model_name": "ProgressStyleModel",
          "state": {
            "_view_name": "StyleView",
            "_model_name": "ProgressStyleModel",
            "description_width": "initial",
            "_view_module": "@jupyter-widgets/base",
            "_model_module_version": "1.5.0",
            "_view_count": null,
            "_view_module_version": "1.2.0",
            "bar_color": null,
            "_model_module": "@jupyter-widgets/controls"
          }
        },
        "2e02e9f376d64c0e863444a3873a614d": {
          "model_module": "@jupyter-widgets/base",
          "model_name": "LayoutModel",
          "state": {
            "_view_name": "LayoutView",
            "grid_template_rows": null,
            "right": null,
            "justify_content": null,
            "_view_module": "@jupyter-widgets/base",
            "overflow": null,
            "_model_module_version": "1.2.0",
            "_view_count": null,
            "flex_flow": null,
            "width": null,
            "min_width": null,
            "border": null,
            "align_items": null,
            "bottom": null,
            "_model_module": "@jupyter-widgets/base",
            "top": null,
            "grid_column": null,
            "overflow_y": null,
            "overflow_x": null,
            "grid_auto_flow": null,
            "grid_area": null,
            "grid_template_columns": null,
            "flex": null,
            "_model_name": "LayoutModel",
            "justify_items": null,
            "grid_row": null,
            "max_height": null,
            "align_content": null,
            "visibility": null,
            "align_self": null,
            "height": null,
            "min_height": null,
            "padding": null,
            "grid_auto_rows": null,
            "grid_gap": null,
            "max_width": null,
            "order": null,
            "_view_module_version": "1.2.0",
            "grid_template_areas": null,
            "object_position": null,
            "object_fit": null,
            "grid_auto_columns": null,
            "margin": null,
            "display": null,
            "left": null
          }
        },
        "3e01955bbe9844e8be98ce1493b9819a": {
          "model_module": "@jupyter-widgets/controls",
          "model_name": "DescriptionStyleModel",
          "state": {
            "_view_name": "StyleView",
            "_model_name": "DescriptionStyleModel",
            "description_width": "",
            "_view_module": "@jupyter-widgets/base",
            "_model_module_version": "1.5.0",
            "_view_count": null,
            "_view_module_version": "1.2.0",
            "_model_module": "@jupyter-widgets/controls"
          }
        },
        "a8036344372a485c9c43d5c28c4ecbbe": {
          "model_module": "@jupyter-widgets/base",
          "model_name": "LayoutModel",
          "state": {
            "_view_name": "LayoutView",
            "grid_template_rows": null,
            "right": null,
            "justify_content": null,
            "_view_module": "@jupyter-widgets/base",
            "overflow": null,
            "_model_module_version": "1.2.0",
            "_view_count": null,
            "flex_flow": null,
            "width": null,
            "min_width": null,
            "border": null,
            "align_items": null,
            "bottom": null,
            "_model_module": "@jupyter-widgets/base",
            "top": null,
            "grid_column": null,
            "overflow_y": null,
            "overflow_x": null,
            "grid_auto_flow": null,
            "grid_area": null,
            "grid_template_columns": null,
            "flex": null,
            "_model_name": "LayoutModel",
            "justify_items": null,
            "grid_row": null,
            "max_height": null,
            "align_content": null,
            "visibility": null,
            "align_self": null,
            "height": null,
            "min_height": null,
            "padding": null,
            "grid_auto_rows": null,
            "grid_gap": null,
            "max_width": null,
            "order": null,
            "_view_module_version": "1.2.0",
            "grid_template_areas": null,
            "object_position": null,
            "object_fit": null,
            "grid_auto_columns": null,
            "margin": null,
            "display": null,
            "left": null
          }
        },
        "c188871feb8f44f48a2630a0e8f347bf": {
          "model_module": "@jupyter-widgets/controls",
          "model_name": "HBoxModel",
          "state": {
            "_view_name": "HBoxView",
            "_dom_classes": [],
            "_model_name": "HBoxModel",
            "_view_module": "@jupyter-widgets/controls",
            "_model_module_version": "1.5.0",
            "_view_count": null,
            "_view_module_version": "1.5.0",
            "box_style": "",
            "layout": "IPY_MODEL_858b501f1d4b4bc6be00d7d76d7908d2",
            "_model_module": "@jupyter-widgets/controls",
            "children": [
              "IPY_MODEL_f6b0767618424fa4a82054ed7df38e71",
              "IPY_MODEL_6176184c98c747b9a2d5320314e64989"
            ]
          }
        },
        "858b501f1d4b4bc6be00d7d76d7908d2": {
          "model_module": "@jupyter-widgets/base",
          "model_name": "LayoutModel",
          "state": {
            "_view_name": "LayoutView",
            "grid_template_rows": null,
            "right": null,
            "justify_content": null,
            "_view_module": "@jupyter-widgets/base",
            "overflow": null,
            "_model_module_version": "1.2.0",
            "_view_count": null,
            "flex_flow": null,
            "width": null,
            "min_width": null,
            "border": null,
            "align_items": null,
            "bottom": null,
            "_model_module": "@jupyter-widgets/base",
            "top": null,
            "grid_column": null,
            "overflow_y": null,
            "overflow_x": null,
            "grid_auto_flow": null,
            "grid_area": null,
            "grid_template_columns": null,
            "flex": null,
            "_model_name": "LayoutModel",
            "justify_items": null,
            "grid_row": null,
            "max_height": null,
            "align_content": null,
            "visibility": null,
            "align_self": null,
            "height": null,
            "min_height": null,
            "padding": null,
            "grid_auto_rows": null,
            "grid_gap": null,
            "max_width": null,
            "order": null,
            "_view_module_version": "1.2.0",
            "grid_template_areas": null,
            "object_position": null,
            "object_fit": null,
            "grid_auto_columns": null,
            "margin": null,
            "display": null,
            "left": null
          }
        },
        "f6b0767618424fa4a82054ed7df38e71": {
          "model_module": "@jupyter-widgets/controls",
          "model_name": "FloatProgressModel",
          "state": {
            "_view_name": "ProgressView",
            "style": "IPY_MODEL_d0cb25f071aa433c8a41013d248dffbc",
            "_dom_classes": [],
            "description": "100%",
            "_model_name": "FloatProgressModel",
            "bar_style": "success",
            "max": 48,
            "_view_module": "@jupyter-widgets/controls",
            "_model_module_version": "1.5.0",
            "value": 48,
            "_view_count": null,
            "_view_module_version": "1.5.0",
            "orientation": "horizontal",
            "min": 0,
            "description_tooltip": null,
            "_model_module": "@jupyter-widgets/controls",
            "layout": "IPY_MODEL_0f133768fe5848cd9e5ba3351d9c2a28"
          }
        },
        "6176184c98c747b9a2d5320314e64989": {
          "model_module": "@jupyter-widgets/controls",
          "model_name": "HTMLModel",
          "state": {
            "_view_name": "HTMLView",
            "style": "IPY_MODEL_c8cd864b27a44108ad69d7e0649af712",
            "_dom_classes": [],
            "description": "",
            "_model_name": "HTMLModel",
            "placeholder": "​",
            "_view_module": "@jupyter-widgets/controls",
            "_model_module_version": "1.5.0",
            "value": " 48/48 [10:35&lt;00:00, 13.25s/it]",
            "_view_count": null,
            "_view_module_version": "1.5.0",
            "description_tooltip": null,
            "_model_module": "@jupyter-widgets/controls",
            "layout": "IPY_MODEL_1b721bd7b7214f259e778ba8c1759a1c"
          }
        },
        "d0cb25f071aa433c8a41013d248dffbc": {
          "model_module": "@jupyter-widgets/controls",
          "model_name": "ProgressStyleModel",
          "state": {
            "_view_name": "StyleView",
            "_model_name": "ProgressStyleModel",
            "description_width": "initial",
            "_view_module": "@jupyter-widgets/base",
            "_model_module_version": "1.5.0",
            "_view_count": null,
            "_view_module_version": "1.2.0",
            "bar_color": null,
            "_model_module": "@jupyter-widgets/controls"
          }
        },
        "0f133768fe5848cd9e5ba3351d9c2a28": {
          "model_module": "@jupyter-widgets/base",
          "model_name": "LayoutModel",
          "state": {
            "_view_name": "LayoutView",
            "grid_template_rows": null,
            "right": null,
            "justify_content": null,
            "_view_module": "@jupyter-widgets/base",
            "overflow": null,
            "_model_module_version": "1.2.0",
            "_view_count": null,
            "flex_flow": null,
            "width": null,
            "min_width": null,
            "border": null,
            "align_items": null,
            "bottom": null,
            "_model_module": "@jupyter-widgets/base",
            "top": null,
            "grid_column": null,
            "overflow_y": null,
            "overflow_x": null,
            "grid_auto_flow": null,
            "grid_area": null,
            "grid_template_columns": null,
            "flex": null,
            "_model_name": "LayoutModel",
            "justify_items": null,
            "grid_row": null,
            "max_height": null,
            "align_content": null,
            "visibility": null,
            "align_self": null,
            "height": null,
            "min_height": null,
            "padding": null,
            "grid_auto_rows": null,
            "grid_gap": null,
            "max_width": null,
            "order": null,
            "_view_module_version": "1.2.0",
            "grid_template_areas": null,
            "object_position": null,
            "object_fit": null,
            "grid_auto_columns": null,
            "margin": null,
            "display": null,
            "left": null
          }
        },
        "c8cd864b27a44108ad69d7e0649af712": {
          "model_module": "@jupyter-widgets/controls",
          "model_name": "DescriptionStyleModel",
          "state": {
            "_view_name": "StyleView",
            "_model_name": "DescriptionStyleModel",
            "description_width": "",
            "_view_module": "@jupyter-widgets/base",
            "_model_module_version": "1.5.0",
            "_view_count": null,
            "_view_module_version": "1.2.0",
            "_model_module": "@jupyter-widgets/controls"
          }
        },
        "1b721bd7b7214f259e778ba8c1759a1c": {
          "model_module": "@jupyter-widgets/base",
          "model_name": "LayoutModel",
          "state": {
            "_view_name": "LayoutView",
            "grid_template_rows": null,
            "right": null,
            "justify_content": null,
            "_view_module": "@jupyter-widgets/base",
            "overflow": null,
            "_model_module_version": "1.2.0",
            "_view_count": null,
            "flex_flow": null,
            "width": null,
            "min_width": null,
            "border": null,
            "align_items": null,
            "bottom": null,
            "_model_module": "@jupyter-widgets/base",
            "top": null,
            "grid_column": null,
            "overflow_y": null,
            "overflow_x": null,
            "grid_auto_flow": null,
            "grid_area": null,
            "grid_template_columns": null,
            "flex": null,
            "_model_name": "LayoutModel",
            "justify_items": null,
            "grid_row": null,
            "max_height": null,
            "align_content": null,
            "visibility": null,
            "align_self": null,
            "height": null,
            "min_height": null,
            "padding": null,
            "grid_auto_rows": null,
            "grid_gap": null,
            "max_width": null,
            "order": null,
            "_view_module_version": "1.2.0",
            "grid_template_areas": null,
            "object_position": null,
            "object_fit": null,
            "grid_auto_columns": null,
            "margin": null,
            "display": null,
            "left": null
          }
        }
      }
    }
  },
  "cells": [
    {
      "cell_type": "markdown",
      "metadata": {
        "id": "view-in-github",
        "colab_type": "text"
      },
      "source": [
        "<a href=\"https://colab.research.google.com/github/kyochanpy/Google_Smartphone_Decimeter_Challenge/blob/main/note_book/submission_52.ipynb\" target=\"_parent\"><img src=\"https://colab.research.google.com/assets/colab-badge.svg\" alt=\"Open In Colab\"/></a>"
      ]
    },
    {
      "cell_type": "markdown",
      "metadata": {
        "id": "IicojqA4RFQF"
      },
      "source": [
        "#ライブラリ"
      ]
    },
    {
      "cell_type": "code",
      "metadata": {
        "colab": {
          "base_uri": "https://localhost:8080/"
        },
        "id": "z85pRKVLfKjg",
        "outputId": "ae02c0bd-a5a1-4073-d2ec-8912909ee7ae"
      },
      "source": [
        "!pip install optuna > /dev/null\n",
        "!pip install pyproj > /dev/null\n",
        "!pip install simdkalman > /dev/null\n",
        "!pip install osmnx momepy geopandas > /dev/null\n",
        "    \n",
        "import os\n",
        "from glob import glob\n",
        "from pathlib import Path\n",
        "\n",
        "import numpy as np\n",
        "import pandas as pd\n",
        "import math\n",
        "import matplotlib.pyplot as plt\n",
        "from matplotlib_venn import venn2, venn2_circles\n",
        "import seaborn as sns\n",
        "\n",
        "from shapely.geometry import Point\n",
        "import osmnx as ox\n",
        "import momepy\n",
        "import geopandas as gpd\n",
        "import optuna\n",
        "import plotly\n",
        "import plotly.express as px\n",
        "import pyproj\n",
        "from pathlib import Path\n",
        "from pyproj import Proj, transform\n",
        "from tqdm.notebook import tqdm\n",
        "import simdkalman"
      ],
      "execution_count": 1,
      "outputs": [
        {
          "output_type": "stream",
          "text": [
            "\u001b[31mERROR: pip's dependency resolver does not currently take into account all the packages that are installed. This behaviour is the source of the following dependency conflicts.\n",
            "google-colab 1.0.0 requires requests~=2.23.0, but you have requests 2.26.0 which is incompatible.\n",
            "datascience 0.10.6 requires folium==0.2.1, but you have folium 0.8.3 which is incompatible.\n",
            "albumentations 0.1.12 requires imgaug<0.2.7,>=0.2.5, but you have imgaug 0.2.9 which is incompatible.\u001b[0m\n"
          ],
          "name": "stdout"
        },
        {
          "output_type": "stream",
          "text": [
            "/usr/local/lib/python3.7/dist-packages/geopandas/_compat.py:110: UserWarning: The Shapely GEOS version (3.8.0-CAPI-1.13.1 ) is incompatible with the GEOS version PyGEOS was compiled with (3.9.1-CAPI-1.14.2). Conversions between both will be slow.\n",
            "  shapely_geos_version, geos_capi_version_string\n"
          ],
          "name": "stderr"
        }
      ]
    },
    {
      "cell_type": "markdown",
      "metadata": {
        "id": "XjCkkklkRJWK"
      },
      "source": [
        "#Data"
      ]
    },
    {
      "cell_type": "code",
      "metadata": {
        "id": "gs18L1gdRLBS"
      },
      "source": [
        "dir = Path(\"/content/drive/MyDrive/GSDC\")\n",
        "train_base = pd.read_csv(dir / \"baseline_locations_train.csv\")\n",
        "\n",
        "#test_base = pd.read_csv(dir / \"baseline_locations_test.csv\")\n",
        "test_base = pd.read_csv(\"/content/drive/MyDrive/GSDC/test_base_50.csv\")\n",
        "\n",
        "sub = pd.read_csv(dir / \"sample_submission.csv\")\n",
        "\n",
        "\n",
        "def get_groundtruth(path: Path) -> pd.DataFrame:\n",
        "        output_df = pd.DataFrame()\n",
        "        \n",
        "        for path in glob(str(dir / 'train/*/*/ground_truth.csv')):\n",
        "            _df = pd.read_csv(path)\n",
        "            output_df = pd.concat([output_df, _df])\n",
        "        output_df = output_df.reset_index(drop=True)\n",
        "        \n",
        "        _columns = ['latDeg', 'lngDeg', 'heightAboveWgs84EllipsoidM']\n",
        "        output_df[['t_'+col for col in _columns]] = output_df[_columns]\n",
        "        output_df = output_df.drop(columns=_columns, axis=1)\n",
        "        return output_df\n",
        "\n",
        "train_base = train_base.merge(\n",
        "    get_groundtruth(dir),\n",
        "    on=['collectionName', 'phoneName', 'millisSinceGpsEpoch']\n",
        ")"
      ],
      "execution_count": 2,
      "outputs": []
    },
    {
      "cell_type": "code",
      "metadata": {
        "id": "gbZuWd-A2Gpz"
      },
      "source": [
        "test_SJC_list = [\"2021-04-22-US-SJC-2\", \"2021-04-29-US-SJC-3\"]\n",
        "\n",
        "test_SJCs = []\n",
        "for SJC in test_SJC_list:\n",
        "    SJC_df = test_base[test_base[\"collectionName\"] == SJC]\n",
        "    test_SJCs.append(SJC_df)\n",
        "test_SJC = pd.concat(test_SJCs)"
      ],
      "execution_count": null,
      "outputs": []
    },
    {
      "cell_type": "markdown",
      "metadata": {
        "id": "8nYo9kLURLVk"
      },
      "source": [
        "#共通関数"
      ]
    },
    {
      "cell_type": "code",
      "metadata": {
        "id": "mW_WsQDmSEFA"
      },
      "source": [
        "def calc_haversine(lat1, lon1, lat2, lon2):\n",
        "    RADIUS = 6_367_000\n",
        "    lat1, lon1, lat2, lon2 = map(np.radians, [lat1, lon1, lat2, lon2])\n",
        "    dlat = lat2 - lat1\n",
        "    dlon = lon2 - lon1\n",
        "    d = np.sin(dlat/2)**2 + np.cos(lat1) * np.cos(lat2) * np.sin(dlon/2)**2\n",
        "    dist = 2 * RADIUS * np.arcsin(d**0.5)\n",
        "    return dist"
      ],
      "execution_count": 4,
      "outputs": []
    },
    {
      "cell_type": "markdown",
      "metadata": {
        "id": "uzOBPU05Obwe"
      },
      "source": [
        "#defs"
      ]
    },
    {
      "cell_type": "markdown",
      "metadata": {
        "id": "lb6v5CKEOeLA"
      },
      "source": [
        "## make triangle"
      ]
    },
    {
      "cell_type": "code",
      "metadata": {
        "id": "Ws_ZaQeaSaIq"
      },
      "source": [
        "#必要な特徴量を追加\n",
        "def add_triangle_features(input_df):\n",
        "    output_df = input_df.copy()\n",
        "    output_df[\"latDeg_pro_1\"] = output_df[\"latDeg\"].shift(-1)\n",
        "    output_df[\"latDeg_pro_2\"] = output_df[\"latDeg\"].shift(-2)\n",
        "    output_df[\"lngDeg_pro_1\"] = output_df[\"lngDeg\"].shift(-1)\n",
        "    output_df[\"lngDeg_pro_2\"] = output_df[\"lngDeg\"].shift(-2)\n",
        "    output_df[\"millisSinceGpsEpoch_pro_1\"] = output_df[\"millisSinceGpsEpoch\"].shift(-1)\n",
        "    output_df[\"millisSinceGpsEpoch_pro_2\"] = output_df[\"millisSinceGpsEpoch\"].shift(-2)\n",
        "    output_df[\"latDeg_mean_point\"] = (output_df[\"latDeg\"] + ((output_df[\"latDeg_pro_2\"] - output_df[\"latDeg\"]) * \n",
        "                                                            ((output_df[\"millisSinceGpsEpoch_pro_1\"] - output_df[\"millisSinceGpsEpoch\"]) /\n",
        "                                                            (output_df[\"millisSinceGpsEpoch_pro_2\"] - output_df[\"millisSinceGpsEpoch\"])))).shift(1)\n",
        "        \n",
        "    output_df[\"lngDeg_mean_point\"] = (output_df[\"lngDeg\"] + ((output_df[\"lngDeg_pro_2\"] - output_df[\"lngDeg\"]) * \n",
        "                                                            ((output_df[\"millisSinceGpsEpoch_pro_1\"] - output_df[\"millisSinceGpsEpoch\"]) /\n",
        "                                                            (output_df[\"millisSinceGpsEpoch_pro_2\"] - output_df[\"millisSinceGpsEpoch\"])))).shift(1)\n",
        "\n",
        "\n",
        "    degree_list = []\n",
        "    for lat, lng, lat_1, lng_1, lat_2, lng_2 in zip(\n",
        "        output_df[\"latDeg\"].to_numpy(),\n",
        "        output_df[\"lngDeg\"].to_numpy(),\n",
        "        output_df[\"latDeg_pro_1\"].to_numpy(),\n",
        "        output_df[\"lngDeg_pro_1\"].to_numpy(),\n",
        "        output_df[\"latDeg_pro_2\"].to_numpy(),\n",
        "        output_df[\"lngDeg_pro_2\"].to_numpy()\n",
        "    ):\n",
        "        p0 = np.array([lat, lng])\n",
        "        p1 = np.array([lat_1, lng_1])\n",
        "        p2 = np.array([lat_2, lng_2])\n",
        "            \n",
        "        vec_p0 = p0 - p1\n",
        "        vec_p2 = p2 - p1\n",
        "        length_vec_p0 = np.linalg.norm(vec_p0)\n",
        "        length_vec_p2 = np.linalg.norm(vec_p2)\n",
        "        inner = np.inner(vec_p0, vec_p2)\n",
        "        degree = np.rad2deg(np.arccos(inner / (length_vec_p0 * length_vec_p2)))\n",
        "        degree_list.append(degree)\n",
        "    degree_list.insert(0, 180)\n",
        "    degree_list.pop(-1)\n",
        "    degree_list[-1] = 180\n",
        "    output_df[\"degree\"] = degree_list\n",
        "    return output_df"
      ],
      "execution_count": 5,
      "outputs": []
    },
    {
      "cell_type": "code",
      "metadata": {
        "id": "Yhw7N7ovQ37O"
      },
      "source": [
        "#主な処理\n",
        "def make_triangle(input_df):\n",
        "    output_df = input_df.copy()\n",
        "\n",
        "    lat_list = []\n",
        "    lng_list = []\n",
        "\n",
        "    for collection in output_df[\"collectionName\"].unique():\n",
        "        collection_df = output_df[output_df[\"collectionName\"] == collection]\n",
        "        if collection in output_df[\"collectionName\"].unique():\n",
        "            for phone in collection_df[\"phoneName\"].unique():\n",
        "                phone_df = collection_df[collection_df[\"phoneName\"] == phone]\n",
        "                triangle_df = add_triangle_features(phone_df)\n",
        "                for lat, lng, lat_mp, lng_mp, deg in zip(\n",
        "                    triangle_df[\"latDeg\"].to_numpy(),\n",
        "                    triangle_df[\"lngDeg\"].to_numpy(),\n",
        "                    triangle_df[\"latDeg_mean_point\"].to_numpy(),\n",
        "                    triangle_df[\"lngDeg_mean_point\"].to_numpy(),\n",
        "                    triangle_df[\"degree\"].to_numpy()\n",
        "                ):\n",
        "                    if deg < 155:\n",
        "                        lat_f = (lat + lat_mp)/2\n",
        "                        lng_f = (lng + lng_mp)/2\n",
        "                        lat_list.append(lat_f)\n",
        "                        lng_list.append(lng_f)\n",
        "                    else:\n",
        "                        lat_list.append(lat)\n",
        "                        lng_list.append(lng)\n",
        "        else:\n",
        "            for lat, lng in zip(\n",
        "                collection_df[\"latDeg\"].to_numpy(),\n",
        "                collection_df[\"lngDeg\"].to_numpy(),\n",
        "            ):\n",
        "                lat_list.append(lat)\n",
        "                lng_list.append(lng)\n",
        "    output_df[\"latDeg\"] = lat_list\n",
        "    output_df[\"lngDeg\"] = lng_list\n",
        "    return output_df"
      ],
      "execution_count": 119,
      "outputs": []
    },
    {
      "cell_type": "markdown",
      "metadata": {
        "id": "CKPfyc7hOwk7"
      },
      "source": [
        "##outlier"
      ]
    },
    {
      "cell_type": "code",
      "metadata": {
        "id": "8HxE9CslUEvz"
      },
      "source": [
        "def outlier_train(input_df):\n",
        "    output_df = input_df.copy()\n",
        "    output_df[\"phone\"] = output_df[\"collectionName\"] + \"_\" + output_df[\"phoneName\"]\n",
        "\n",
        "    output_df[\"dist_pre\"] = 0\n",
        "    output_df[\"dist_pro\"] = 0\n",
        "\n",
        "    output_df['latDeg_pre'] = output_df['latDeg'].shift(periods=1,fill_value=0)\n",
        "    output_df['lngDeg_pre'] = output_df['lngDeg'].shift(periods=1,fill_value=0)\n",
        "    output_df['latDeg_pro'] = output_df['latDeg'].shift(periods=-1,fill_value=0)\n",
        "    output_df['lngDeg_pro'] = output_df['lngDeg'].shift(periods=-1,fill_value=0)\n",
        "    output_df['dist_pre'] = calc_haversine(output_df.latDeg_pre, output_df.lngDeg_pre, output_df.latDeg, output_df.lngDeg)\n",
        "    output_df['dist_pro'] = calc_haversine(output_df.latDeg, output_df.lngDeg, output_df.latDeg_pro, output_df.lngDeg_pro)\n",
        "\n",
        "    list_phone = output_df['phone'].unique()\n",
        "    for phone in list_phone:\n",
        "        ind_s = output_df[train_base['phone'] == phone].index[0]\n",
        "        ind_e = output_df[train_base['phone'] == phone].index[-1]\n",
        "        output_df.loc[ind_s,'dist_pre'] = 0\n",
        "        output_df.loc[ind_e,'dist_pro'] = 0\n",
        "\n",
        "    pro_95 = output_df['dist_pro'].mean() + (output_df['dist_pro'].std() * 2)\n",
        "    pre_95 = output_df['dist_pre'].mean() + (output_df['dist_pre'].std() * 2)\n",
        "    ind = output_df[(output_df['dist_pro'] > pro_95)&(output_df['dist_pre'] > pre_95)][['dist_pre','dist_pro']].index\n",
        "\n",
        "    for i in ind:\n",
        "        output_df.loc[i,'latDeg'] = (output_df.loc[i-1,'latDeg'] + output_df.loc[i+1,'latDeg'])/2\n",
        "        output_df.loc[i,'lngDeg'] = (output_df.loc[i-1,'lngDeg'] + output_df.loc[i+1,'lngDeg'])/2\n",
        "\n",
        "    return output_df"
      ],
      "execution_count": 136,
      "outputs": []
    },
    {
      "cell_type": "code",
      "metadata": {
        "id": "oTy8xbi5Uect"
      },
      "source": [
        "def outlier(input_df):\n",
        "    output_df = input_df\n",
        "\n",
        "    output_df[\"dist_pre\"] = 0\n",
        "    output_df[\"dist_pro\"] = 0\n",
        "\n",
        "    output_df['latDeg_pre'] = output_df['latDeg'].shift(periods=1,fill_value=0)\n",
        "    output_df['lngDeg_pre'] = output_df['lngDeg'].shift(periods=1,fill_value=0)\n",
        "    output_df['latDeg_pro'] = output_df['latDeg'].shift(periods=-1,fill_value=0)\n",
        "    output_df['lngDeg_pro'] = output_df['lngDeg'].shift(periods=-1,fill_value=0)\n",
        "    output_df['dist_pre'] = calc_haversine(output_df.latDeg_pre, output_df.lngDeg_pre, output_df.latDeg, output_df.lngDeg)\n",
        "    output_df['dist_pro'] = calc_haversine(output_df.latDeg, output_df.lngDeg, output_df.latDeg_pro, output_df.lngDeg_pro)\n",
        "\n",
        "    list_phone = output_df['phone'].unique()\n",
        "    for phone in list_phone:\n",
        "        ind_s = output_df[test_base['phone'] == phone].index[0]\n",
        "        ind_e = output_df[test_base['phone'] == phone].index[-1]\n",
        "        output_df.loc[ind_s,'dist_pre'] = 0\n",
        "        output_df.loc[ind_e,'dist_pro'] = 0\n",
        "\n",
        "    pro_95 = output_df['dist_pro'].mean() + (output_df['dist_pro'].std() * 2)\n",
        "    pre_95 = output_df['dist_pre'].mean() + (output_df['dist_pre'].std() * 2)\n",
        "    ind = output_df[(output_df['dist_pro'] > pro_95)&(output_df['dist_pre'] > pre_95)][['dist_pre','dist_pro']].index\n",
        "\n",
        "    for i in ind:\n",
        "        output_df.loc[i,'latDeg'] = (output_df.loc[i-1,'latDeg'] + output_df.loc[i+1,'latDeg'])/2\n",
        "        output_df.loc[i,'lngDeg'] = (output_df.loc[i-1,'lngDeg'] + output_df.loc[i+1,'lngDeg'])/2\n",
        "\n",
        "    output_df[\"phoneName\"] = input_df[\"phoneName\"]\n",
        "    output_df[\"collectionName\"] = input_df[\"collectionName\"]\n",
        "    output_df[\"millisSinceGpsEpoch\"] = input_df[\"millisSinceGpsEpoch\"]\n",
        "\n",
        "    return output_df"
      ],
      "execution_count": 137,
      "outputs": []
    },
    {
      "cell_type": "markdown",
      "metadata": {
        "id": "yGPdVzBZOwgo"
      },
      "source": [
        "##phones mean "
      ]
    },
    {
      "cell_type": "code",
      "metadata": {
        "id": "yzdAQsfnTNyd"
      },
      "source": [
        "def add_distance_diff(df):\n",
        "    df['latDeg_pre'] = df['latDeg'].shift(1)\n",
        "    df['latDeg_pro'] = df['latDeg'].shift(-1)\n",
        "    df['lngDeg_pre'] = df['lngDeg'].shift(1)\n",
        "    df['lngDeg_pro'] = df['lngDeg'].shift(-1)\n",
        "    df['phone_pre'] = df['phone'].shift(1)\n",
        "    df['phone_pro'] = df['phone'].shift(-1)\n",
        "        \n",
        "    df['dist_pre'] = calc_haversine(df['latDeg'], df['lngDeg'], df['latDeg_pre'], df['lngDeg_pre'])\n",
        "    df['dist_pro'] = calc_haversine(df['latDeg'], df['lngDeg'], df['latDeg_pro'], df['lngDeg_pro'])\n",
        "        \n",
        "    df.loc[df['phone']!=df['phone_pre'], ['latDeg_pre', 'lngDeg_pre', 'dist_pre']] = np.nan\n",
        "    df.loc[df['phone']!=df['phone_pro'], ['latDeg_pro', 'lngDeg_pro', 'dist_pro']] = np.nan\n",
        "        \n",
        "    return df\n",
        "\n",
        "\n",
        "def make_lerp_data(input_df):\n",
        "    org_colus = input_df.columns\n",
        "\n",
        "    time_list = input_df[[\"collectionName\", \"millisSinceGpsEpoch\"]].drop_duplicates()\n",
        "    phone_list = input_df[[\"collectionName\", \"phoneName\"]].drop_duplicates()\n",
        "    tmp = time_list.merge(phone_list, on=\"collectionName\", how=\"outer\")\n",
        "\n",
        "    output_df = tmp.merge(input_df, on=[\"collectionName\", \"millisSinceGpsEpoch\", \"phoneName\"], how=\"left\")\n",
        "    output_df[\"phone\"] = output_df[\"collectionName\"] + \"_\" + output_df[\"phoneName\"]\n",
        "    output_df = output_df.sort_values([\"phone\", \"millisSinceGpsEpoch\"])\n",
        "\n",
        "    output_df[\"latDeg_pre\"] = output_df[\"latDeg\"].shift(1)\n",
        "    output_df[\"latDeg_pro\"] = output_df[\"latDeg\"].shift(-1)\n",
        "    output_df[\"lngDeg_pre\"] = output_df[\"lngDeg\"].shift(1)\n",
        "    output_df[\"lngDeg_pro\"] = output_df[\"lngDeg\"].shift(-1)\n",
        "    output_df[\"phone_pre\"] = output_df[\"phone\"].shift(1)\n",
        "    output_df[\"phone_pro\"] = output_df[\"phone\"].shift(-1)\n",
        "    output_df[\"millisSinceGpsEpoch_pre\"] = output_df[\"millisSinceGpsEpoch\"].shift(1)\n",
        "    output_df[\"millisSinceGpsEpoch_pro\"] = output_df[\"millisSinceGpsEpoch\"].shift(-1)\n",
        "\n",
        "    output_df = output_df[(output_df[\"latDeg\"].isnull())&(output_df[\"phone\"] == output_df[\"phone_pre\"])&\n",
        "                        (output_df[\"phone\"] == output_df[\"phone_pro\"])].copy()\n",
        "\n",
        "    #preとproの間を経過時間を考慮して算出\n",
        "    output_df[\"latDeg\"] = output_df[\"latDeg_pre\"] + ((output_df[\"latDeg_pro\"] - output_df[\"latDeg_pre\"]) * \n",
        "                                                    ((output_df[\"millisSinceGpsEpoch\"] - output_df[\"millisSinceGpsEpoch_pre\"]) /\n",
        "                                                    (output_df[\"millisSinceGpsEpoch_pro\"] - output_df[\"millisSinceGpsEpoch_pre\"])))\n",
        "    output_df[\"lngDeg\"] = output_df[\"lngDeg_pre\"] + ((output_df[\"lngDeg_pro\"] - output_df[\"lngDeg_pre\"]) * \n",
        "                                                    ((output_df[\"millisSinceGpsEpoch\"] - output_df[\"millisSinceGpsEpoch_pre\"]) /\n",
        "                                                    (output_df[\"millisSinceGpsEpoch_pro\"] - output_df[\"millisSinceGpsEpoch_pre\"])))\n",
        "        \n",
        "    output_df = output_df[~output_df['latDeg'].isnull()]\n",
        "\n",
        "    return output_df[org_colus]\n",
        "\n",
        "def calc_mean_pred(input_df, lerp_df):\n",
        "    input_df[\"phone\"] = input_df[\"collectionName\"] + \"_\" + input_df[\"phoneName\"]\n",
        "    add_lerp = pd.concat([input_df, lerp_df])\n",
        "    mean_pred_result = add_lerp.groupby([\"collectionName\", \"millisSinceGpsEpoch\"])[[\"latDeg\", \"lngDeg\"]].mean().reset_index()\n",
        "    output_df = input_df[[\"collectionName\", \"phoneName\", \"millisSinceGpsEpoch\"]].copy()\n",
        "    output_df = output_df.merge(mean_pred_result[[\"collectionName\", \"millisSinceGpsEpoch\", \"latDeg\", \"lngDeg\"]],\n",
        "                                    on=[\"collectionName\", \"millisSinceGpsEpoch\"], how=\"left\")\n",
        "    output_df[\"phone\"] = output_df[\"collectionName\"] + \"_\" + output_df[\"phoneName\"]\n",
        "    return output_df"
      ],
      "execution_count": 84,
      "outputs": []
    },
    {
      "cell_type": "code",
      "metadata": {
        "id": "irXr1lPUQ34y"
      },
      "source": [
        "def mean_prediction_train(input_df):\n",
        "    input_df[\"phone\"] = input_df[\"collectionName\"] + \"_\" + input_df[\"phoneName\"]\n",
        "\n",
        "    input_df_ = add_distance_diff(input_df)\n",
        "    th = 43\n",
        "    input_df_.loc[((input_df_['dist_pre'] > th) & (input_df_['dist_pro'] > th)), ['latDeg', 'lngDeg']] = np.nan\n",
        "    \n",
        "    lerp = make_lerp_data(input_df_)\n",
        "    mean_pred  = calc_mean_pred(input_df_, lerp)\n",
        "\n",
        "    output_df = kalman_filte(mean_pred)\n",
        "    output_df[\"t_latDeg\"] = input_df[\"t_latDeg\"]\n",
        "    output_df[\"t_lngDeg\"] = input_df[\"t_lngDeg\"]\n",
        "    \n",
        "    return output_df"
      ],
      "execution_count": 126,
      "outputs": []
    },
    {
      "cell_type": "code",
      "metadata": {
        "id": "GwOzGB9X_C64"
      },
      "source": [
        "def mean_prediction(input_df):\n",
        "    input_df_ = add_distance_diff(input_df)\n",
        "    th = 43\n",
        "    input_df_.loc[((input_df_['dist_pre'] > th) & (input_df_['dist_pro'] > th)), ['latDeg', 'lngDeg']] = np.nan\n",
        "\n",
        "    test_lerp = make_lerp_data(input_df_)\n",
        "    test_mean_pred  = calc_mean_pred(input_df_, test_lerp)\n",
        "\n",
        "    output_df = kalman_filter(test_mean_pred)    \n",
        "    \n",
        "    return output_df"
      ],
      "execution_count": 127,
      "outputs": []
    },
    {
      "cell_type": "markdown",
      "metadata": {
        "id": "96vx8HrPOweU"
      },
      "source": [
        "##remove device"
      ]
    },
    {
      "cell_type": "code",
      "metadata": {
        "id": "4ITFL1nHUTes"
      },
      "source": [
        "def get_removedevice(input_df: pd.DataFrame, divece: str) -> pd.DataFrame:\n",
        "    input_df['index'] = input_df.index\n",
        "    input_df = input_df.sort_values('millisSinceGpsEpoch')\n",
        "    input_df.index = input_df['millisSinceGpsEpoch'].values\n",
        "\n",
        "    output_df = pd.DataFrame() \n",
        "    for _, subdf in input_df.groupby('collectionName'):\n",
        "\n",
        "        phones = subdf['phoneName'].unique()\n",
        "\n",
        "        if (len(phones) == 1) or (not divece in phones):\n",
        "            output_df = pd.concat([output_df, subdf])\n",
        "            continue\n",
        "\n",
        "        origin_df = subdf.copy()\n",
        "            \n",
        "        _index = subdf['phoneName']==divece\n",
        "        subdf.loc[_index, 'latDeg'] = np.nan\n",
        "        subdf.loc[_index, 'lngDeg'] = np.nan\n",
        "        subdf = subdf.interpolate(method='index', limit_area='inside')\n",
        "\n",
        "        _index = subdf['latDeg'].isnull()\n",
        "        subdf.loc[_index, 'latDeg'] = origin_df.loc[_index, 'latDeg'].values\n",
        "        subdf.loc[_index, 'lngDeg'] = origin_df.loc[_index, 'lngDeg'].values\n",
        "\n",
        "        output_df = pd.concat([output_df, subdf])\n",
        "\n",
        "    output_df.index = output_df['index'].values\n",
        "    output_df = output_df.sort_index()\n",
        "\n",
        "    del output_df['index']\n",
        "        \n",
        "    return output_df"
      ],
      "execution_count": 10,
      "outputs": []
    },
    {
      "cell_type": "code",
      "metadata": {
        "id": "vUPaYaY5UK_Y"
      },
      "source": [
        "#remove_device\n",
        "def remove_device(input_df):\n",
        "\n",
        "    output_df = get_removedevice(input_df, 'SamsungS20Ultra')\n",
        "\n",
        "    return output_df"
      ],
      "execution_count": 131,
      "outputs": []
    },
    {
      "cell_type": "markdown",
      "metadata": {
        "id": "CnELqZfmOwbr"
      },
      "source": [
        "##position shift"
      ]
    },
    {
      "cell_type": "code",
      "metadata": {
        "id": "vp0zDy5YUnn8"
      },
      "source": [
        "def position_shift_train(input_df):\n",
        "    sub_cols = sub.columns\n",
        "\n",
        "    train_p_s = pd.read_csv(dir / \"baseline_locations_train.csv\")\n",
        "    train_b = train_p_s[sub_cols]\n",
        "    test_b = test_base[sub_cols]\n",
        "\n",
        "    msge = \"millisSinceGpsEpoch\"\n",
        "\n",
        "    testdir = dir / 'test'\n",
        "    traindir = dir / 'train'\n",
        "\n",
        "    g_t = pd.DataFrame()\n",
        "    for d in os.listdir(traindir):\n",
        "        for p in os.listdir(traindir/d):\n",
        "            g_t = g_t.append(pd.read_csv(traindir/d/p/'ground_truth.csv'))\n",
        "\n",
        "    g_t[\"phone\"] = g_t[\"collectionName\"] + \"_\" + g_t[\"phoneName\"]\n",
        "    g_t_sub_cols = g_t[sub_cols]\n",
        "\n",
        "    transformer = pyproj.Transformer.from_crs(\n",
        "        {\"proj\":'geocent', \"ellps\":'WGS84', \"datum\":'WGS84'},\n",
        "        {\"proj\":'latlong', \"ellps\":'WGS84', \"datum\":'WGS84'},)\n",
        "    \n",
        "    def compute_dist(fname_1, fname_2):\n",
        "        oof = fname_1\n",
        "        g_t = fname_2\n",
        "        df = oof.merge(g_t, on=[\"phone\", \"millisSinceGpsEpoch\"])\n",
        "        dist_oof = calc_haversine(df.latDeg_x, df.lngDeg_x, df.latDeg_y, df.lngDeg_y)\n",
        "        scores = pd.DataFrame({\"phone\":df.phone, \"dist\":dist_oof})\n",
        "        scores_grp = scores.groupby(\"phone\")\n",
        "        d_50 = scores_grp.quantile(.50).reset_index()\n",
        "        d_50.columns = [\"phone\", \"q_50\"]\n",
        "        d_95 = scores_grp.quantile(.95).reset_index()\n",
        "        d_95.columns = [\"phone\", \"q_95\"]\n",
        "        return (scores_grp.quantile(.50).mean() + scores_grp.quantile(.95).mean()) / 2, d_50.merge(d_95)\n",
        "\n",
        "\n",
        "    def WGS84_to_ECEF(lat, lng, alt):\n",
        "        rad_lat = lat * (np.pi / 180.0)\n",
        "        rad_lng = lng * (np.pi / 180.0)\n",
        "        a = 6378137.0\n",
        "        finv = 298.257223563\n",
        "        f = 1 / finv   \n",
        "        e2 = 1 - (1 - f) * (1 - f)    \n",
        "        N = a / np.sqrt(1 - e2 * np.sin(rad_lat) * np.sin(rad_lat))\n",
        "        x = (N + alt) * np.cos(rad_lat) * np.cos(rad_lng)\n",
        "        y = (N + alt) * np.cos(rad_lat) * np.sin(rad_lng)\n",
        "        z = (N * (1 - e2) + alt)        * np.sin(rad_lat)\n",
        "        return x, y, z    \n",
        "\n",
        "\n",
        "    def ECEF_to_WGS84(x, y, z):\n",
        "        lng, lat, alt = transformer.transform(x, y, z, radians=False)\n",
        "        return lng, lat, alt\n",
        "\n",
        "    \n",
        "    def position_shift_(input_df, a):\n",
        "        output_df = input_df.copy()\n",
        "        output_df[\"heightAboveWgs84EllipsoidM\"] = 63.5\n",
        "        output_df[\"x\"], output_df[\"y\"], output_df[\"z\"] = zip(\n",
        "            *output_df.apply(lambda x: WGS84_to_ECEF(x.latDeg, x.lngDeg, \n",
        "                                                    x.heightAboveWgs84EllipsoidM), \n",
        "                            axis=1)\n",
        "\n",
        "        )\n",
        "        output_df.sort_values([\"phone\", msge], inplace=True)\n",
        "        for fi in [\"x\", \"y\", \"z\"]:\n",
        "            output_df[[fi + \"_p\"]] = output_df[fi].shift().where(output_df[\"phone\"].eq(output_df[\"phone\"].shift()))\n",
        "            output_df[[fi + \"_diff\"]] = output_df[fi] - output_df[fi + \"_p\"]\n",
        "\n",
        "        output_df[[\"dist\"]] = np.sqrt(output_df[\"x_diff\"]**2 + output_df[\"y_diff\"]**2 + output_df[\"z_diff\"]**2)\n",
        "        for fi in [\"x\", \"y\", \"z\"]:\n",
        "            output_df[[fi + \"_new\"]] = output_df[fi + \"_p\"] + output_df[fi + \"_diff\"] * (1 - a/output_df[\"dist\"])\n",
        "        lng, lat, alt = ECEF_to_WGS84(output_df[\"x_new\"].values, output_df[\"y_new\"].values, output_df[\"z_new\"].values)\n",
        "\n",
        "        lat[np.isnan(lat)] = output_df.loc[np.isnan(lat), \"latDeg\"]\n",
        "        lng[np.isnan(lng)] = output_df.loc[np.isnan(lng), \"lngDeg\"]\n",
        "        output_df[\"latDeg\"] = lat\n",
        "        output_df[\"lngDeg\"] = lng\n",
        "\n",
        "        output_df.sort_values([\"phone\", msge], inplace=True)\n",
        "\n",
        "        return output_df[sub_cols]\n",
        "\n",
        "    \n",
        "    def objective(trial):\n",
        "        a = trial.suggest_uniform(\"a\", -1, 1)\n",
        "        score, scores = compute_dist(position_shift_(train_b, a), g_t)\n",
        "        return score\n",
        "\n",
        "    study = optuna.create_study()\n",
        "    study.optimize(objective, n_trials=30)\n",
        "\n",
        "    output_df = position_shift_(input_df, a=study.best_params[\"a\"])\n",
        "\n",
        "    output_df[\"phoneName\"] = input_df[\"phoneName\"]\n",
        "    output_df[\"collectionName\"] = input_df[\"collectionName\"]\n",
        "    output_df[\"millisSinceGpsEpoch\"] = input_df[\"millisSinceGpsEpoch\"]\n",
        "    output_df[\"t_latDeg\"] = input_df[\"t_latDeg\"]\n",
        "    output_df[\"t_lngDeg\"] = input_df[\"t_lngDeg\"]\n",
        "\n",
        "    return output_df"
      ],
      "execution_count": 95,
      "outputs": []
    },
    {
      "cell_type": "code",
      "metadata": {
        "id": "dB5IrAVe_dLE"
      },
      "source": [
        "def position_shift(input_df):\n",
        "    sub_cols = sub.columns\n",
        "\n",
        "    train_p_s = pd.read_csv(dir / \"baseline_locations_train.csv\")\n",
        "    train_b = train_p_s[sub_cols]\n",
        "    test_b = test_base[sub_cols]\n",
        "\n",
        "    msge = \"millisSinceGpsEpoch\"\n",
        "\n",
        "    testdir = dir / 'test'\n",
        "    traindir = dir / 'train'\n",
        "\n",
        "    g_t = pd.DataFrame()\n",
        "    for d in os.listdir(traindir):\n",
        "        for p in os.listdir(traindir/d):\n",
        "            g_t = g_t.append(pd.read_csv(traindir/d/p/'ground_truth.csv'))\n",
        "\n",
        "    g_t[\"phone\"] = g_t[\"collectionName\"] + \"_\" + g_t[\"phoneName\"]\n",
        "    g_t_sub_cols = g_t[sub_cols]\n",
        "\n",
        "    transformer = pyproj.Transformer.from_crs(\n",
        "        {\"proj\":'geocent', \"ellps\":'WGS84', \"datum\":'WGS84'},\n",
        "        {\"proj\":'latlong', \"ellps\":'WGS84', \"datum\":'WGS84'},)\n",
        "    \n",
        "    def compute_dist(fname_1, fname_2):\n",
        "        oof = fname_1\n",
        "        g_t = fname_2\n",
        "        df = oof.merge(g_t, on=[\"phone\", \"millisSinceGpsEpoch\"])\n",
        "        dist_oof = calc_haversine(df.latDeg_x, df.lngDeg_x, df.latDeg_y, df.lngDeg_y)\n",
        "        scores = pd.DataFrame({\"phone\":df.phone, \"dist\":dist_oof})\n",
        "        scores_grp = scores.groupby(\"phone\")\n",
        "        d_50 = scores_grp.quantile(.50).reset_index()\n",
        "        d_50.columns = [\"phone\", \"q_50\"]\n",
        "        d_95 = scores_grp.quantile(.95).reset_index()\n",
        "        d_95.columns = [\"phone\", \"q_95\"]\n",
        "        return (scores_grp.quantile(.50).mean() + scores_grp.quantile(.95).mean()) / 2, d_50.merge(d_95)\n",
        "\n",
        "\n",
        "    def WGS84_to_ECEF(lat, lng, alt):\n",
        "        rad_lat = lat * (np.pi / 180.0)\n",
        "        rad_lng = lng * (np.pi / 180.0)\n",
        "        a = 6378137.0\n",
        "        finv = 298.257223563\n",
        "        f = 1 / finv   \n",
        "        e2 = 1 - (1 - f) * (1 - f)    \n",
        "        N = a / np.sqrt(1 - e2 * np.sin(rad_lat) * np.sin(rad_lat))\n",
        "        x = (N + alt) * np.cos(rad_lat) * np.cos(rad_lng)\n",
        "        y = (N + alt) * np.cos(rad_lat) * np.sin(rad_lng)\n",
        "        z = (N * (1 - e2) + alt)        * np.sin(rad_lat)\n",
        "        return x, y, z    \n",
        "\n",
        "\n",
        "    def ECEF_to_WGS84(x, y, z):\n",
        "        lng, lat, alt = transformer.transform(x, y, z, radians=False)\n",
        "        return lng, lat, alt\n",
        "\n",
        "    \n",
        "    def position_shift_(input_df, a):\n",
        "        output_df = input_df.copy()\n",
        "        output_df[\"heightAboveWgs84EllipsoidM\"] = 63.5\n",
        "        output_df[\"x\"], output_df[\"y\"], output_df[\"z\"] = zip(\n",
        "            *output_df.apply(lambda x: WGS84_to_ECEF(x.latDeg, x.lngDeg, \n",
        "                                                    x.heightAboveWgs84EllipsoidM), \n",
        "                            axis=1)\n",
        "\n",
        "        )\n",
        "        output_df.sort_values([\"phone\", msge], inplace=True)\n",
        "        for fi in [\"x\", \"y\", \"z\"]:\n",
        "            output_df[[fi + \"_p\"]] = output_df[fi].shift().where(output_df[\"phone\"].eq(output_df[\"phone\"].shift()))\n",
        "            output_df[[fi + \"_diff\"]] = output_df[fi] - output_df[fi + \"_p\"]\n",
        "\n",
        "        output_df[[\"dist\"]] = np.sqrt(output_df[\"x_diff\"]**2 + output_df[\"y_diff\"]**2 + output_df[\"z_diff\"]**2)\n",
        "        for fi in [\"x\", \"y\", \"z\"]:\n",
        "            output_df[[fi + \"_new\"]] = output_df[fi + \"_p\"] + output_df[fi + \"_diff\"] * (1 - a/output_df[\"dist\"])\n",
        "        lng, lat, alt = ECEF_to_WGS84(output_df[\"x_new\"].values, output_df[\"y_new\"].values, output_df[\"z_new\"].values)\n",
        "\n",
        "        lat[np.isnan(lat)] = output_df.loc[np.isnan(lat), \"latDeg\"]\n",
        "        lng[np.isnan(lng)] = output_df.loc[np.isnan(lng), \"lngDeg\"]\n",
        "        output_df[\"latDeg\"] = lat\n",
        "        output_df[\"lngDeg\"] = lng\n",
        "\n",
        "        output_df.sort_values([\"phone\", msge], inplace=True)\n",
        "\n",
        "        return output_df[sub_cols]\n",
        "\n",
        "    \n",
        "    def objective(trial):\n",
        "        a = trial.suggest_uniform(\"a\", -1, 1)\n",
        "        score, scores = compute_dist(position_shift_(train_b, a), g_t)\n",
        "        return score\n",
        "\n",
        "    study = optuna.create_study()\n",
        "    study.optimize(objective, n_trials=30)\n",
        "\n",
        "    output_df = position_shift_(input_df, a=study.best_params[\"a\"])\n",
        "\n",
        "    output_df[\"phoneName\"] = input_df[\"phoneName\"]\n",
        "    output_df[\"collectionName\"] = input_df[\"collectionName\"]\n",
        "    output_df[\"millisSinceGpsEpoch\"] = input_df[\"millisSinceGpsEpoch\"]\n",
        "\n",
        "    return output_df"
      ],
      "execution_count": 123,
      "outputs": []
    },
    {
      "cell_type": "markdown",
      "metadata": {
        "id": "XOJ-khTwOwZX"
      },
      "source": [
        "##kalman filter"
      ]
    },
    {
      "cell_type": "code",
      "metadata": {
        "id": "4zGR-BYMXLJN"
      },
      "source": [
        "def apply_kf_smoothing(input_df, kf_):\n",
        "    output_df = input_df.copy()\n",
        "    unique_paths = output_df[['collectionName', 'phoneName']].drop_duplicates().to_numpy()\n",
        "    for collection, phone in tqdm(unique_paths):\n",
        "        cond = np.logical_and(output_df['collectionName'] == collection, output_df['phoneName'] == phone)\n",
        "        data = output_df[cond][['latDeg', 'lngDeg']].to_numpy()\n",
        "        data = data.reshape(1, len(data), 2)\n",
        "        smoothed = kf_.smooth(data)\n",
        "        output_df.loc[cond, 'latDeg'] = smoothed.states.mean[0, :, 0]\n",
        "        output_df.loc[cond, 'lngDeg'] = smoothed.states.mean[0, :, 1]\n",
        "    return output_df\n"
      ],
      "execution_count": 14,
      "outputs": []
    },
    {
      "cell_type": "code",
      "metadata": {
        "id": "M2swWoDqXIKt"
      },
      "source": [
        "def kalman_filter(input_df):\n",
        "    T = 1.0\n",
        "    state_transition = np.array([[1, 0, T, 0, 0.5 * T ** 2, 0], [0, 1, 0, T, 0, 0.5 * T ** 2], [0, 0, 1, 0, T, 0],\n",
        "                                [0, 0, 0, 1, 0, T], [0, 0, 0, 0, 1, 0], [0, 0, 0, 0, 0, 1]])\n",
        "    process_noise = np.diag([1e-5, 1e-5, 5e-6, 5e-6, 1e-6, 1e-6]) + np.ones((6, 6)) * 1e-9\n",
        "    observation_model = np.array([[1, 0, 0, 0, 0, 0], [0, 1, 0, 0, 0, 0]])\n",
        "    observation_noise = np.diag([3e-5, 3e-5]) + np.ones((2, 2)) * 1e-9\n",
        "\n",
        "    kf = simdkalman.KalmanFilter(\n",
        "            state_transition = state_transition,\n",
        "            process_noise = process_noise,\n",
        "            observation_model = observation_model,\n",
        "            observation_noise = observation_noise)\n",
        "    \n",
        "    output_df = apply_kf_smoothing(input_df, kf)\n",
        "\n",
        "    return output_df\n"
      ],
      "execution_count": 129,
      "outputs": []
    },
    {
      "cell_type": "markdown",
      "metadata": {
        "id": "1a-6kKK2OwW1"
      },
      "source": [
        "##move closer center SJC"
      ]
    },
    {
      "cell_type": "code",
      "metadata": {
        "id": "MKcb5LGGXyBS"
      },
      "source": [
        "def nearest_point(x, y, points):\n",
        "    result = {}\n",
        "    if len(points) == 0:\n",
        "        return result\n",
        "    result[0] = points[0][0]\n",
        "    result[1] = points[0][1]\n",
        "    stdval = math.sqrt((points[0][0] - x) ** 2 + (points[0][1] - y) ** 2)\n",
        "    for point in points:\n",
        "        distance = math.sqrt((point[0] - x) ** 2 + (point[1] - y) ** 2)\n",
        "        if stdval > distance:\n",
        "            result[0] = point[0]\n",
        "            result[1] = point[1]\n",
        "            stdval = distance\n",
        "    return [result[0], result[1]]"
      ],
      "execution_count": 16,
      "outputs": []
    },
    {
      "cell_type": "code",
      "metadata": {
        "id": "A88CjUQ2Y4E5"
      },
      "source": [
        "def create_dataset_center(input_df):\n",
        "    output_df = input_df.copy()\n",
        "    collection_list = output_df[\"collectionName\"].unique()\n",
        "\n",
        "    line_points_dfs = []\n",
        "    c = 1\n",
        "    for collection in collection_list:\n",
        "        print(f\"now : {c}/{len(collection_list)}\")\n",
        "        c += 1\n",
        "        print(collection)\n",
        "        target_df = output_df[output_df[\"collectionName\"] == collection].reset_index(drop=True)\n",
        "        target_df[\"geometry\"] = [Point(p) for p in target_df[[\"lngDeg\", \"latDeg\"]].to_numpy()]\n",
        "        target_gdf = gpd.GeoDataFrame(target_df, geometry=target_df[\"geometry\"])\n",
        "\n",
        "        offset = 0.1**5\n",
        "        bbox = target_gdf.bounds + [-(offset+0.01), -(offset+0.01), offset+0.01, offset+0.01]\n",
        "        east = bbox[\"minx\"].min()\n",
        "        west = bbox[\"maxx\"].max()\n",
        "        south = bbox[\"miny\"].min()\n",
        "        north = bbox[\"maxy\"].max()\n",
        "        G = ox.graph.graph_from_bbox(north, south, east, west, network_type='drive')\n",
        "\n",
        "        nodes, edges = momepy.nx_to_gdf(G)\n",
        "        \n",
        "        edges = edges.dropna(subset=[\"geometry\"]).reset_index(drop=True)\n",
        "        hits = bbox.apply(lambda row: list(edges.sindex.intersection(row)), axis=1)\n",
        "        tmp = pd.DataFrame({\n",
        "            \"pt_idx\": np.repeat(hits.index, hits.apply(len)),\n",
        "            \"line_i\": np.concatenate(hits.values)\n",
        "        })\n",
        "        tmp = tmp.join(edges.reset_index(drop=True), on=\"line_i\")\n",
        "        tmp = tmp.join(target_gdf.geometry.rename(\"point\"), on=\"pt_idx\")\n",
        "        tmp = gpd.GeoDataFrame(tmp, geometry=\"geometry\", crs=target_gdf.crs)\n",
        "\n",
        "        tmp[\"snap_dist\"] = tmp.geometry.distance(gpd.GeoSeries(tmp.point))\n",
        "\n",
        "        tolerance = 0.0005  \n",
        "        tmp = tmp.loc[tmp.snap_dist <= tolerance]\n",
        "        tmp = tmp.sort_values(by=[\"snap_dist\"])\n",
        "\n",
        "        closest = tmp.groupby(\"pt_idx\").first()\n",
        "        closest = gpd.GeoDataFrame(closest, geometry=\"geometry\")\n",
        "        closest = closest.drop_duplicates(\"line_i\").reset_index(drop=True)\n",
        "\n",
        "        line_points_list = []\n",
        "        split = 200  # param: number of split in each LineString\n",
        "        for dist in range(0, split, 1):\n",
        "            dist = dist/split\n",
        "            line_points = closest[\"geometry\"].interpolate(dist, normalized=True)\n",
        "            line_points_list.append(line_points)\n",
        "        line_points = pd.concat(line_points_list).reset_index(drop=True)\n",
        "        line_points = line_points.reset_index().rename(columns={0:\"geometry\"})\n",
        "        line_points[\"lngDeg\"] = line_points[\"geometry\"].x\n",
        "        line_points[\"latDeg\"] = line_points[\"geometry\"].y\n",
        "        \n",
        "        line_points_ = line_points.loc[:, [\"lngDeg\", \"latDeg\"]]\n",
        "        line_points_dfs.append(line_points_)\n",
        "\n",
        "    line_points_df = pd.concat(line_points_dfs)\n",
        "    line_points_list = sorted(line_points_df.values.tolist())\n",
        "    \n",
        "    print(len(line_points_list))\n",
        "\n",
        "    nearest_point_list = []\n",
        "    \n",
        "    for lng, lat in zip(\n",
        "        output_df[\"lngDeg\"].to_numpy(),\n",
        "        output_df[\"latDeg\"].to_numpy()\n",
        "    ):\n",
        "        nearest_point_list.append(nearest_point(lng, lat, line_points_list))\n",
        "        \n",
        "    nearest_point_df = pd.DataFrame(nearest_point_list)\n",
        "    output_df[\"latDeg_center\"] = nearest_point_df[1].values\n",
        "    output_df[\"lngDeg_center\"] = nearest_point_df[0].values\n",
        "    \n",
        "    \n",
        "        \n",
        "    output_df[\"latDeg_center_pre\"] = output_df[\"latDeg_center\"].shift(1)\n",
        "    output_df[\"lngDeg_center_pre\"] = output_df[\"lngDeg_center\"].shift(1)\n",
        "\n",
        "    output_df['meter'] = output_df.apply(\n",
        "            lambda r: calc_haversine(\n",
        "                r.latDeg, r.lngDeg, r.latDeg_center, r.lngDeg_center\n",
        "            ),\n",
        "            axis=1\n",
        "        )\n",
        "    \n",
        "    rl_list = []\n",
        "    #for collection in output_df[\"collectionName\"].unique():\n",
        "        #for phone in output_df[\"phoneName\"].unique():\n",
        "            #phone_df = output_df[output_df[\"phone\"] == f\"{collection}_{phone}\"]\n",
        "    for lat, lng, lat_c, lng_c, lat_c_pre, lng_c_pre in zip(\n",
        "                output_df[\"latDeg\"].to_numpy(),\n",
        "                output_df[\"lngDeg\"].to_numpy(),\n",
        "                output_df[\"latDeg_center\"].to_numpy(),\n",
        "                output_df[\"lngDeg_center\"].to_numpy(),\n",
        "                output_df[\"latDeg_center_pre\"].to_numpy(),\n",
        "                output_df[\"lngDeg_center_pre\"].to_numpy()\n",
        "            ):\n",
        "                base_vec = np.array([lat-lat_c_pre, lng-lng_c_pre])\n",
        "                center_vec = np.array([lat_c-lat_c_pre, lng_c-lng_c_pre])\n",
        "                r_or_l = np.cross(base_vec,center_vec)\n",
        "                if r_or_l > 0:\n",
        "                    rl_list.append(\"Right\")\n",
        "                else:\n",
        "                    rl_list.append(\"Left\")\n",
        "    output_df[\"Right_or_left\"] = rl_list\n",
        "    \n",
        "    return output_df"
      ],
      "execution_count": 34,
      "outputs": []
    },
    {
      "cell_type": "code",
      "metadata": {
        "id": "e_HYZMxfahpe"
      },
      "source": [
        "def check_meter_from_center(input_df):\n",
        "        output_df = input_df.copy()\n",
        "        lat_list = []\n",
        "        lng_list = []\n",
        "        for lat, lng, lat_c, lng_c, meter, rl in zip(\n",
        "            output_df[\"latDeg\"].to_numpy(),\n",
        "            output_df[\"lngDeg\"].to_numpy(),\n",
        "            output_df[\"latDeg_center\"].to_numpy(),\n",
        "            output_df[\"lngDeg_center\"].to_numpy(),\n",
        "            output_df[\"meter\"].to_numpy(),\n",
        "            output_df[\"Right_or_left\"].values\n",
        "        ):\n",
        "            if rl == \"Left\":\n",
        "                lat = lat_c\n",
        "                lng = lng_c\n",
        "                lat_list.append(lat)\n",
        "                lng_list.append(lng)\n",
        "            else:\n",
        "                if meter > 30:\n",
        "                    lat = lat\n",
        "                    lng = lng\n",
        "                elif meter > 10:\n",
        "                    lat = ((((lat + lat_c)/2 + lat_c)/2 + lat_c)/2 + lat_c)/2\n",
        "                    lng = ((((lng + lng_c)/2 + lng_c)/2 + lng_c)/2 + lng_c)/2\n",
        "                elif meter > 7.5:\n",
        "                    lat = (((lat + lat_c)/2 + lat_c)/2 + lat_c)/2\n",
        "                    lng = (((lng + lng_c)/2 + lng_c)/2 + lng_c)/2\n",
        "                elif meter > 5:\n",
        "                    lat = ((lat + lat_c)/2 + lat_c)/2\n",
        "                    lng = ((lng + lng_c)/2 + lng_c)/2\n",
        "                elif meter > 2.5:\n",
        "                    lat = (lat + lat_c)/2\n",
        "                    lng = (lng + lng_c)/2\n",
        "\n",
        "                lat_list.append(lat)\n",
        "                lng_list.append(lng)\n",
        "\n",
        "\n",
        "        output_df.iloc[:, 3] = lat_list\n",
        "        output_df.iloc[:, 4] = lng_list\n",
        "        return output_df"
      ],
      "execution_count": 58,
      "outputs": []
    },
    {
      "cell_type": "code",
      "metadata": {
        "id": "vyUAMkvTutKi"
      },
      "source": [
        "def move_closer_center_train(input_df):\n",
        "    train_SJC_list = [\"2021-04-22-US-SJC-1\", \"2021-04-28-US-SJC-1\", \"2021-04-29-US-SJC-2\"]\n",
        "    train_dfs = []\n",
        "    for collection in input_df[\"collectionName\"].unique():\n",
        "        if collection in train_SJC_list:\n",
        "            phones_dfs = []\n",
        "            collection_df = input_df[input_df[\"collectionName\"] == collection]\n",
        "            for phone in collection_df[\"phone\"].unique():\n",
        "                phone_df = collection_df[collection_df[\"phone\"] == phone]\n",
        "                phone_df = create_dataset_center(phone_df)\n",
        "                phone_df = check_meter_from_center(phone_df)\n",
        "                phones_dfs.append(phone_df)\n",
        "            collection_df = pd.concat(phones_dfs)\n",
        "            train_dfs.append(collection_df)\n",
        "        else:\n",
        "            train_dfs.append(input_df[input_df[\"collectionName\"] == collection])\n",
        "    output_df = pd.concat(train_dfs)\n",
        "\n",
        "    return output_df"
      ],
      "execution_count": 59,
      "outputs": []
    },
    {
      "cell_type": "code",
      "metadata": {
        "colab": {
          "base_uri": "https://localhost:8080/"
        },
        "id": "43sfjyNYcLnA",
        "outputId": "8b0991dc-0921-42fb-e816-c0e9df2913aa"
      },
      "source": [
        "center = move_closer_center_train(train_base)"
      ],
      "execution_count": 60,
      "outputs": [
        {
          "output_type": "stream",
          "text": [
            "now : 1/1\n",
            "2021-04-22-US-SJC-1\n"
          ],
          "name": "stdout"
        },
        {
          "output_type": "stream",
          "text": [
            "/usr/local/lib/python3.7/dist-packages/momepy/utils.py:418: UserWarning:\n",
            "\n",
            "Approach is not set. Defaulting to 'primal'.\n",
            "\n",
            "/usr/local/lib/python3.7/dist-packages/ipykernel_launcher.py:35: UserWarning:\n",
            "\n",
            "Geometry is in a geographic CRS. Results from 'distance' are likely incorrect. Use 'GeoSeries.to_crs()' to re-project geometries to a projected CRS before this operation.\n",
            "\n",
            "\n",
            "/usr/local/lib/python3.7/dist-packages/ipykernel_launcher.py:35: UserWarning:\n",
            "\n",
            "CRS mismatch between the CRS of left geometries and the CRS of right geometries.\n",
            "Use `to_crs()` to reproject one of the input geometries to match the CRS of the other.\n",
            "\n",
            "Left CRS: EPSG:4326\n",
            "Right CRS: None\n",
            "\n",
            "\n"
          ],
          "name": "stderr"
        },
        {
          "output_type": "stream",
          "text": [
            "27400\n",
            "now : 1/1\n",
            "2021-04-22-US-SJC-1\n"
          ],
          "name": "stdout"
        },
        {
          "output_type": "stream",
          "text": [
            "/usr/local/lib/python3.7/dist-packages/momepy/utils.py:418: UserWarning:\n",
            "\n",
            "Approach is not set. Defaulting to 'primal'.\n",
            "\n",
            "/usr/local/lib/python3.7/dist-packages/ipykernel_launcher.py:35: UserWarning:\n",
            "\n",
            "Geometry is in a geographic CRS. Results from 'distance' are likely incorrect. Use 'GeoSeries.to_crs()' to re-project geometries to a projected CRS before this operation.\n",
            "\n",
            "\n",
            "/usr/local/lib/python3.7/dist-packages/ipykernel_launcher.py:35: UserWarning:\n",
            "\n",
            "CRS mismatch between the CRS of left geometries and the CRS of right geometries.\n",
            "Use `to_crs()` to reproject one of the input geometries to match the CRS of the other.\n",
            "\n",
            "Left CRS: EPSG:4326\n",
            "Right CRS: None\n",
            "\n",
            "\n"
          ],
          "name": "stderr"
        },
        {
          "output_type": "stream",
          "text": [
            "27000\n",
            "now : 1/1\n",
            "2021-04-28-US-SJC-1\n"
          ],
          "name": "stdout"
        },
        {
          "output_type": "stream",
          "text": [
            "/usr/local/lib/python3.7/dist-packages/momepy/utils.py:418: UserWarning:\n",
            "\n",
            "Approach is not set. Defaulting to 'primal'.\n",
            "\n",
            "/usr/local/lib/python3.7/dist-packages/ipykernel_launcher.py:35: UserWarning:\n",
            "\n",
            "Geometry is in a geographic CRS. Results from 'distance' are likely incorrect. Use 'GeoSeries.to_crs()' to re-project geometries to a projected CRS before this operation.\n",
            "\n",
            "\n",
            "/usr/local/lib/python3.7/dist-packages/ipykernel_launcher.py:35: UserWarning:\n",
            "\n",
            "CRS mismatch between the CRS of left geometries and the CRS of right geometries.\n",
            "Use `to_crs()` to reproject one of the input geometries to match the CRS of the other.\n",
            "\n",
            "Left CRS: EPSG:4326\n",
            "Right CRS: None\n",
            "\n",
            "\n"
          ],
          "name": "stderr"
        },
        {
          "output_type": "stream",
          "text": [
            "25000\n",
            "now : 1/1\n",
            "2021-04-28-US-SJC-1\n"
          ],
          "name": "stdout"
        },
        {
          "output_type": "stream",
          "text": [
            "/usr/local/lib/python3.7/dist-packages/momepy/utils.py:418: UserWarning:\n",
            "\n",
            "Approach is not set. Defaulting to 'primal'.\n",
            "\n",
            "/usr/local/lib/python3.7/dist-packages/ipykernel_launcher.py:35: UserWarning:\n",
            "\n",
            "Geometry is in a geographic CRS. Results from 'distance' are likely incorrect. Use 'GeoSeries.to_crs()' to re-project geometries to a projected CRS before this operation.\n",
            "\n",
            "\n",
            "/usr/local/lib/python3.7/dist-packages/ipykernel_launcher.py:35: UserWarning:\n",
            "\n",
            "CRS mismatch between the CRS of left geometries and the CRS of right geometries.\n",
            "Use `to_crs()` to reproject one of the input geometries to match the CRS of the other.\n",
            "\n",
            "Left CRS: EPSG:4326\n",
            "Right CRS: None\n",
            "\n",
            "\n"
          ],
          "name": "stderr"
        },
        {
          "output_type": "stream",
          "text": [
            "26000\n",
            "now : 1/1\n",
            "2021-04-29-US-SJC-2\n"
          ],
          "name": "stdout"
        },
        {
          "output_type": "stream",
          "text": [
            "/usr/local/lib/python3.7/dist-packages/momepy/utils.py:418: UserWarning:\n",
            "\n",
            "Approach is not set. Defaulting to 'primal'.\n",
            "\n",
            "/usr/local/lib/python3.7/dist-packages/ipykernel_launcher.py:35: UserWarning:\n",
            "\n",
            "Geometry is in a geographic CRS. Results from 'distance' are likely incorrect. Use 'GeoSeries.to_crs()' to re-project geometries to a projected CRS before this operation.\n",
            "\n",
            "\n",
            "/usr/local/lib/python3.7/dist-packages/ipykernel_launcher.py:35: UserWarning:\n",
            "\n",
            "CRS mismatch between the CRS of left geometries and the CRS of right geometries.\n",
            "Use `to_crs()` to reproject one of the input geometries to match the CRS of the other.\n",
            "\n",
            "Left CRS: EPSG:4326\n",
            "Right CRS: None\n",
            "\n",
            "\n"
          ],
          "name": "stderr"
        },
        {
          "output_type": "stream",
          "text": [
            "25600\n",
            "now : 1/1\n",
            "2021-04-29-US-SJC-2\n"
          ],
          "name": "stdout"
        },
        {
          "output_type": "stream",
          "text": [
            "/usr/local/lib/python3.7/dist-packages/momepy/utils.py:418: UserWarning:\n",
            "\n",
            "Approach is not set. Defaulting to 'primal'.\n",
            "\n",
            "/usr/local/lib/python3.7/dist-packages/ipykernel_launcher.py:35: UserWarning:\n",
            "\n",
            "Geometry is in a geographic CRS. Results from 'distance' are likely incorrect. Use 'GeoSeries.to_crs()' to re-project geometries to a projected CRS before this operation.\n",
            "\n",
            "\n",
            "/usr/local/lib/python3.7/dist-packages/ipykernel_launcher.py:35: UserWarning:\n",
            "\n",
            "CRS mismatch between the CRS of left geometries and the CRS of right geometries.\n",
            "Use `to_crs()` to reproject one of the input geometries to match the CRS of the other.\n",
            "\n",
            "Left CRS: EPSG:4326\n",
            "Right CRS: None\n",
            "\n",
            "\n"
          ],
          "name": "stderr"
        },
        {
          "output_type": "stream",
          "text": [
            "25000\n"
          ],
          "name": "stdout"
        }
      ]
    },
    {
      "cell_type": "markdown",
      "metadata": {
        "id": "qy8EnNQdOwUf"
      },
      "source": [
        "##move closer truth SJC"
      ]
    },
    {
      "cell_type": "code",
      "metadata": {
        "id": "sXN7rNZK1Ufv"
      },
      "source": [
        "def create_dataset_truth_train(input_df):\n",
        "    train_SJC_list = [\"2021-04-22-US-SJC-1\", \"2021-04-28-US-SJC-1\", \"2021-04-29-US-SJC-2\"]\n",
        "    #train_SJCs = []\n",
        "    #for SJC in train_SJC_list:\n",
        "       # SJC_df = input_df[input_df[\"collectionName\"] == SJC]\n",
        "       # train_SJCs.append(SJC_df)\n",
        "    #train_SJC = pd.concat(train_SJCs)\n",
        "    output_df = input_df.copy()\n",
        "    lat_list = []\n",
        "    lng_list = []\n",
        "    for collection in train_SJC_list:\n",
        "        collection_df = output_df[output_df[\"collectionName\"] == collection]\n",
        "        for phone in collection_df[\"phone\"].unique():\n",
        "            phone_df = collection_df[collection_df[\"phone\"] == phone]\n",
        "            phone_df[\"t_latDeg_pro\"] = phone_df[\"t_latDeg\"].shift(-1)\n",
        "            phone_df[\"t_lngDeg_pro\"] = phone_df[\"t_lngDeg\"].shift(-1)\n",
        "            for lat, lng, lat_pre, lng_pre in zip(\n",
        "                phone_df[\"t_latDeg\"].to_numpy(),\n",
        "                phone_df[\"t_lngDeg\"].to_numpy(),\n",
        "                phone_df[\"t_latDeg_pro\"].to_numpy(),\n",
        "                phone_df[\"t_lngDeg_pro\"].to_numpy()\n",
        "            ):\n",
        "                lat_list.append(lat)\n",
        "                lng_list.append(lng)\n",
        "                lat_mean = (lat + lat_pre)/2\n",
        "                lng_mean = (lng + lng_pre)/2\n",
        "                lat_list.append(lat_mean)\n",
        "                lng_list.append(lng_mean)\n",
        "\n",
        "    points_list = []\n",
        "    for lat, lng in zip(\n",
        "        lat_list,\n",
        "        lng_list\n",
        "    ):\n",
        "        points_list.append([lat, lng])\n",
        "\n",
        "    nearest_points_list = []\n",
        "    for lat, lng in zip(\n",
        "        output_df[\"latDeg\"].to_numpy(),\n",
        "        output_df[\"lngDeg\"].to_numpy()\n",
        "    ):\n",
        "        nearest_points_list.append(nearest_point(lat, lng, points_list))\n",
        "\n",
        "    nearest_points_df = pd.DataFrame(nearest_points_list)\n",
        "    output_df[\"latDeg_from_gt\"] = nearest_points_df[0].values\n",
        "    output_df[\"lngDeg_from_gt\"] = nearest_points_df[1].values\n",
        "    \n",
        "    lat_gt_pre_list = []\n",
        "    lng_gt_pre_list = []\n",
        "    #for phone in train_SJC[\"phone\"].unique():\n",
        "        #phone_df = train_SJC[train_SJC[\"phone\"] == phone]\n",
        "        #gt_df = pd.DataFrame()     \n",
        "    for lat_gt_pre, lng_gt_pre in zip(\n",
        "            output_df[\"latDeg_from_gt\"].shift(1).to_numpy(),\n",
        "            output_df[\"lngDeg_from_gt\"].shift(1).to_numpy()\n",
        "        ):\n",
        "            lat_gt_pre_list.append(lat_gt_pre)\n",
        "            lng_gt_pre_list.append(lng_gt_pre)\n",
        "            \n",
        "\n",
        "    output_df[\"latDeg_from_gt_pre\"] = lat_gt_pre_list\n",
        "    output_df[\"lngDeg_from_gt_pre\"] = lng_gt_pre_list\n",
        "\n",
        "\n",
        "    output_df[\"meter\"] = output_df.apply(\n",
        "        lambda r:calc_haversine(\n",
        "            r.latDeg, r.lngDeg, r.latDeg_from_gt, r.lngDeg_from_gt\n",
        "        ),\n",
        "        axis=1\n",
        "    )\n",
        "    return output_df\n"
      ],
      "execution_count": 72,
      "outputs": []
    },
    {
      "cell_type": "code",
      "metadata": {
        "id": "RodqE4LAbBnU"
      },
      "source": [
        "def check_meter_from_truth(input_df):\n",
        "    output_df = input_df.copy()\n",
        "    lat_list = []\n",
        "    lng_list = []\n",
        "    for lat, lng, lat_gt, lng_gt, meter in zip(\n",
        "        output_df[\"latDeg\"].to_numpy(),\n",
        "        output_df[\"lngDeg\"].to_numpy(),\n",
        "        output_df[\"latDeg_from_gt\"].to_numpy(),\n",
        "        output_df[\"lngDeg_from_gt\"].to_numpy(),\n",
        "        output_df[\"meter\"].to_numpy(),\n",
        "    ):\n",
        "        if meter > 30:\n",
        "            lat = lat\n",
        "            lng = lng\n",
        "        elif meter > 10:\n",
        "            lat = ((((lat + lat_gt)/2 + lat_gt)/2 + lat_gt)/2 + lat_gt)/2\n",
        "            lng = ((((lng + lng_gt)/2 + lng_gt)/2 + lng_gt)/2 + lng_gt)/2\n",
        "        elif meter > 7.5:\n",
        "            lat = (((lat + lat_gt)/2 + lat_gt)/2 + lat_gt)/2\n",
        "            lng = (((lng + lng_gt)/2 + lng_gt)/2 + lng_gt)/2\n",
        "        elif meter > 5:\n",
        "            lat = ((lat + lat_gt)/2 + lat_gt)/2\n",
        "            lng = ((lng + lng_gt)/2 + lng_gt)/2\n",
        "        elif meter > 2.5:\n",
        "            lat = (lat + lat_gt)/2\n",
        "            lng = (lng + lng_gt)/2\n",
        "\n",
        "        lat_list.append(lat)\n",
        "        lng_list.append(lng)\n",
        "\n",
        "\n",
        "    output_df.iloc[:, 3] = lat_list\n",
        "    output_df.iloc[:, 4] = lng_list\n",
        "    return output_df"
      ],
      "execution_count": 77,
      "outputs": []
    },
    {
      "cell_type": "code",
      "metadata": {
        "id": "-B8-f_ntx2pi"
      },
      "source": [
        "def move_closer_truth_train(input_df):\n",
        "    train_SJC_list = [\"2021-04-22-US-SJC-1\", \"2021-04-28-US-SJC-1\", \"2021-04-29-US-SJC-2\"]\n",
        "    train_dfs = []\n",
        "    for collection in input_df[\"collectionName\"].unique():\n",
        "        if collection in train_SJC_list:\n",
        "            phones_dfs = []\n",
        "            collection_df = input_df[input_df[\"collectionName\"] == collection]\n",
        "            for phone in collection_df[\"phone\"].unique():\n",
        "                phone_df = collection_df[collection_df[\"phone\"] == phone]\n",
        "                phone_df = create_dataset_truth_train(phone_df)\n",
        "                phone_df = check_meter_from_truth(phone_df)\n",
        "                phones_dfs.append(phone_df)\n",
        "            collection_df = pd.concat(phones_dfs)\n",
        "            train_dfs.append(collection_df)\n",
        "        else:\n",
        "            train_dfs.append(input_df[input_df[\"collectionName\"] == collection])\n",
        "    output_df = pd.concat(train_dfs)\n",
        "\n",
        "    return output_df"
      ],
      "execution_count": 78,
      "outputs": []
    },
    {
      "cell_type": "code",
      "metadata": {
        "id": "UAq3NgLsyJi2"
      },
      "source": [
        "truth = move_closer_truth_train(train_base)"
      ],
      "execution_count": 79,
      "outputs": []
    },
    {
      "cell_type": "markdown",
      "metadata": {
        "id": "9o_Sn68eOwSK"
      },
      "source": [
        "#cheke CV"
      ]
    },
    {
      "cell_type": "code",
      "metadata": {
        "id": "cvl-zr9bhiYp"
      },
      "source": [
        "def check_score(input_df: pd.DataFrame) -> pd.DataFrame:\n",
        "    output_df = input_df.copy()\n",
        "    print(\"< from truth >\")\n",
        "    \n",
        "    output_df['meter'] = input_df.apply(\n",
        "        lambda r: calc_haversine(\n",
        "            r.latDeg, r.lngDeg, r.t_latDeg, r.t_lngDeg\n",
        "        ),\n",
        "        axis=1\n",
        "    )\n",
        "\n",
        "    meter_score = output_df['meter'].mean()\n",
        "    print(f'error meter: {meter_score}')\n",
        "\n",
        "    scores = []\n",
        "    for phone in output_df['phone'].unique():\n",
        "        _index = output_df['phone']==phone\n",
        "        p_50 = np.percentile(output_df.loc[_index, 'meter'], 50)\n",
        "        p_95 = np.percentile(output_df.loc[_index, 'meter'], 95)\n",
        "        scores.append(p_50)\n",
        "        scores.append(p_95)\n",
        "\n",
        "    score = sum(scores) / len(scores)\n",
        "    print(f'score: {score}')\n",
        "    \n",
        "    return output_df"
      ],
      "execution_count": 81,
      "outputs": []
    },
    {
      "cell_type": "code",
      "metadata": {
        "colab": {
          "base_uri": "https://localhost:8080/",
          "height": 1000,
          "referenced_widgets": [
            "4ac2cb1cf825447194ec28179b7accc9",
            "8ac963b29b384602ac410db20aebf26f",
            "ed7e34321fa24dedb1ea8f264f598071",
            "c5db6046c34c43738d83a0e7bcd6a687",
            "c1c5494601954faf81e43a3d40155fef",
            "2e02e9f376d64c0e863444a3873a614d",
            "3e01955bbe9844e8be98ce1493b9819a",
            "a8036344372a485c9c43d5c28c4ecbbe"
          ]
        },
        "id": "HT3ODj6ZhBNw",
        "outputId": "b8d10212-a71e-4496-9a2c-5ed7c69c07a3"
      },
      "source": [
        "#make triangle 1\n",
        "CV1 = make_triangle(train_base)\n",
        "for i in range(100):\n",
        "    CV1 = make_triangle(CV1)\n",
        "print('<<<triangle_1>>>')\n",
        "CV1 = check_score(CV1)\n",
        "print('--------------------')\n",
        "\n",
        "#outlier\n",
        "CV2 = outlier_train(CV1)\n",
        "print('<<<outlier>>>')\n",
        "CV2 = check_score(CV2)\n",
        "print('--------------------')\n",
        "\n",
        "#make triangle 2\n",
        "CV3 = make_triangle(CV2)\n",
        "for i in range(100):\n",
        "    CV3 = make_triangle(CV3)\n",
        "print('<<<triangle_2>>>')\n",
        "CV3 = check_score(CV3)\n",
        "print('--------------------')\n",
        "\n",
        "#phonse mean\n",
        "CV4 = mean_prediction_train(CV3)\n",
        "print('<<<phones_mean>>>')\n",
        "CV4 = check_score(CV4)\n",
        "print('--------------------')\n",
        "\n",
        "#make triangle 3\n",
        "CV5 = make_triangle(CV4)\n",
        "for i in range(100):\n",
        "    CV5 = make_triangle(CV5)\n",
        "print('<<<triangle_3>>>')\n",
        "CV5 = check_score(CV5)\n",
        "print('--------------------')\n",
        "\n",
        "#remove device\n",
        "CV6 = remove_device_train(CV5)\n",
        "print('<<<remove_device>>>')\n",
        "CV6 = check_score(CV6)\n",
        "print('--------------------')\n",
        "\n",
        "#make triangle 4\n",
        "CV7 = make_triangle(CV6)\n",
        "for i in range(100):\n",
        "    CV7 = make_triangle(CV7)\n",
        "print('<<<triangle_4>>>')\n",
        "CV7 = check_score(CV7)\n",
        "print('--------------------')\n",
        "\n",
        "#position shift\n",
        "CV8 = position_shift_train(CV7)\n",
        "print('<<<position_shift>>>')\n",
        "CV8 = check_score(CV8)\n",
        "print('--------------------')\n",
        "\n",
        "#make triangle 5\n",
        "CV9 = make_triangle(CV8)\n",
        "for i in range(100):\n",
        "    CV9 = make_triangle(CV9)\n",
        "print('<<<triangle_5>>>')\n",
        "CV9 = check_score(CV9)\n",
        "print('--------------------')\n"
      ],
      "execution_count": 120,
      "outputs": [
        {
          "output_type": "stream",
          "text": [
            "/usr/local/lib/python3.7/dist-packages/ipykernel_launcher.py:37: RuntimeWarning:\n",
            "\n",
            "invalid value encountered in double_scalars\n",
            "\n",
            "/usr/local/lib/python3.7/dist-packages/ipykernel_launcher.py:37: RuntimeWarning:\n",
            "\n",
            "invalid value encountered in arccos\n",
            "\n"
          ],
          "name": "stderr"
        },
        {
          "output_type": "stream",
          "text": [
            "<<<triangle_1>>>\n",
            "< from truth >\n",
            "error meter: 3.3579582394393928\n",
            "score: 4.753446293953488\n",
            "--------------------\n",
            "<<<outlier>>>\n",
            "< from truth >\n",
            "error meter: 3.357550751702286\n",
            "score: 4.753387012675808\n",
            "--------------------\n"
          ],
          "name": "stdout"
        },
        {
          "output_type": "stream",
          "text": [
            "/usr/local/lib/python3.7/dist-packages/ipykernel_launcher.py:37: RuntimeWarning:\n",
            "\n",
            "invalid value encountered in double_scalars\n",
            "\n",
            "/usr/local/lib/python3.7/dist-packages/ipykernel_launcher.py:37: RuntimeWarning:\n",
            "\n",
            "invalid value encountered in arccos\n",
            "\n"
          ],
          "name": "stderr"
        },
        {
          "output_type": "stream",
          "text": [
            "<<<triangle_2>>>\n",
            "< from truth >\n",
            "error meter: 3.3458543163626406\n",
            "score: 4.749936642584164\n",
            "--------------------\n"
          ],
          "name": "stdout"
        },
        {
          "output_type": "display_data",
          "data": {
            "application/vnd.jupyter.widget-view+json": {
              "model_id": "4ac2cb1cf825447194ec28179b7accc9",
              "version_minor": 0,
              "version_major": 2
            },
            "text/plain": [
              "HBox(children=(FloatProgress(value=0.0, max=73.0), HTML(value='')))"
            ]
          },
          "metadata": {
            "tags": []
          }
        },
        {
          "output_type": "stream",
          "text": [
            "\n",
            "<<<phones_mean>>>\n",
            "< from truth >\n",
            "error meter: 2.888001174482605\n",
            "score: 3.969272183371574\n",
            "--------------------\n"
          ],
          "name": "stdout"
        },
        {
          "output_type": "stream",
          "text": [
            "/usr/local/lib/python3.7/dist-packages/ipykernel_launcher.py:37: RuntimeWarning:\n",
            "\n",
            "invalid value encountered in double_scalars\n",
            "\n"
          ],
          "name": "stderr"
        },
        {
          "output_type": "stream",
          "text": [
            "<<<triangle_3>>>\n",
            "< from truth >\n",
            "error meter: 2.877919914830917\n",
            "score: 3.952583078422353\n",
            "--------------------\n",
            "<<<remove_device>>>\n",
            "< from truth >\n",
            "error meter: 2.792666413318442\n",
            "score: 3.8125002035665694\n",
            "--------------------\n",
            "<<<triangle_4>>>\n",
            "< from truth >\n",
            "error meter: 2.7903026843920595\n",
            "score: 3.809055902507315\n",
            "--------------------\n"
          ],
          "name": "stdout"
        },
        {
          "output_type": "stream",
          "text": [
            "\u001b[32m[I 2021-07-21 15:14:22,918]\u001b[0m A new study created in memory with name: no-name-0e695bc1-9cf4-48e0-9936-d7bfdc0793e8\u001b[0m\n",
            "\u001b[32m[I 2021-07-21 15:14:30,007]\u001b[0m Trial 0 finished with value: 5.55789091378337 and parameters: {'a': -0.651006694425184}. Best is trial 0 with value: 5.55789091378337.\u001b[0m\n",
            "\u001b[32m[I 2021-07-21 15:14:36,488]\u001b[0m Trial 1 finished with value: 5.212820667647379 and parameters: {'a': 0.9857360336461825}. Best is trial 1 with value: 5.212820667647379.\u001b[0m\n",
            "\u001b[32m[I 2021-07-21 15:14:43,397]\u001b[0m Trial 2 finished with value: 5.249670535888447 and parameters: {'a': 0.13403957908322006}. Best is trial 1 with value: 5.212820667647379.\u001b[0m\n",
            "\u001b[32m[I 2021-07-21 15:14:50,000]\u001b[0m Trial 3 finished with value: 5.6768648818753675 and parameters: {'a': -0.8678790759023678}. Best is trial 1 with value: 5.212820667647379.\u001b[0m\n",
            "\u001b[32m[I 2021-07-21 15:14:56,946]\u001b[0m Trial 4 finished with value: 5.244536931286543 and parameters: {'a': 0.15647489822387328}. Best is trial 1 with value: 5.212820667647379.\u001b[0m\n",
            "\u001b[32m[I 2021-07-21 15:15:03,965]\u001b[0m Trial 5 finished with value: 5.194109850390661 and parameters: {'a': 0.7652556458666826}. Best is trial 5 with value: 5.194109850390661.\u001b[0m\n",
            "\u001b[32m[I 2021-07-21 15:15:10,758]\u001b[0m Trial 6 finished with value: 5.6861942028214765 and parameters: {'a': -0.8839869332562877}. Best is trial 5 with value: 5.194109850390661.\u001b[0m\n",
            "\u001b[32m[I 2021-07-21 15:15:17,841]\u001b[0m Trial 7 finished with value: 5.237709271975459 and parameters: {'a': 0.18898371491937294}. Best is trial 5 with value: 5.194109850390661.\u001b[0m\n",
            "\u001b[32m[I 2021-07-21 15:15:24,888]\u001b[0m Trial 8 finished with value: 5.189002200647876 and parameters: {'a': 0.6933811320357253}. Best is trial 8 with value: 5.189002200647876.\u001b[0m\n",
            "\u001b[32m[I 2021-07-21 15:15:31,780]\u001b[0m Trial 9 finished with value: 5.188516386927658 and parameters: {'a': 0.6875484702268015}. Best is trial 9 with value: 5.188516386927658.\u001b[0m\n",
            "\u001b[32m[I 2021-07-21 15:15:38,667]\u001b[0m Trial 10 finished with value: 5.406459024030052 and parameters: {'a': -0.33425496248948683}. Best is trial 9 with value: 5.188516386927658.\u001b[0m\n",
            "\u001b[32m[I 2021-07-21 15:15:45,672]\u001b[0m Trial 11 finished with value: 5.189353775910663 and parameters: {'a': 0.6123056826171437}. Best is trial 9 with value: 5.188516386927658.\u001b[0m\n",
            "\u001b[32m[I 2021-07-21 15:15:52,187]\u001b[0m Trial 12 finished with value: 5.191979140519552 and parameters: {'a': 0.5058963254621137}. Best is trial 9 with value: 5.188516386927658.\u001b[0m\n",
            "\u001b[32m[I 2021-07-21 15:15:59,497]\u001b[0m Trial 13 finished with value: 5.199016150449566 and parameters: {'a': 0.8668037070376599}. Best is trial 9 with value: 5.188516386927658.\u001b[0m\n",
            "\u001b[32m[I 2021-07-21 15:16:06,179]\u001b[0m Trial 14 finished with value: 5.193330348254809 and parameters: {'a': 0.47743595298619146}. Best is trial 9 with value: 5.188516386927658.\u001b[0m\n",
            "\u001b[32m[I 2021-07-21 15:16:12,874]\u001b[0m Trial 15 finished with value: 5.371745705672471 and parameters: {'a': -0.24449873254226853}. Best is trial 9 with value: 5.188516386927658.\u001b[0m\n",
            "\u001b[32m[I 2021-07-21 15:16:19,842]\u001b[0m Trial 16 finished with value: 5.197456725488867 and parameters: {'a': 0.42056009092447555}. Best is trial 9 with value: 5.188516386927658.\u001b[0m\n",
            "\u001b[32m[I 2021-07-21 15:16:26,843]\u001b[0m Trial 17 finished with value: 5.190775318952598 and parameters: {'a': 0.7174988618134728}. Best is trial 9 with value: 5.188516386927658.\u001b[0m\n",
            "\u001b[32m[I 2021-07-21 15:16:33,318]\u001b[0m Trial 18 finished with value: 5.209333786448406 and parameters: {'a': 0.9565694810545362}. Best is trial 9 with value: 5.188516386927658.\u001b[0m\n",
            "\u001b[32m[I 2021-07-21 15:16:40,650]\u001b[0m Trial 19 finished with value: 5.345058065480243 and parameters: {'a': -0.17606280929420418}. Best is trial 9 with value: 5.188516386927658.\u001b[0m\n",
            "\u001b[32m[I 2021-07-21 15:16:47,533]\u001b[0m Trial 20 finished with value: 5.202808603031976 and parameters: {'a': 0.37173909707312913}. Best is trial 9 with value: 5.188516386927658.\u001b[0m\n",
            "\u001b[32m[I 2021-07-21 15:16:54,048]\u001b[0m Trial 21 finished with value: 5.187366805630912 and parameters: {'a': 0.6504806583956758}. Best is trial 21 with value: 5.187366805630912.\u001b[0m\n",
            "\u001b[32m[I 2021-07-21 15:17:01,047]\u001b[0m Trial 22 finished with value: 5.193019794462046 and parameters: {'a': 0.7470080899097721}. Best is trial 21 with value: 5.187366805630912.\u001b[0m\n",
            "\u001b[32m[I 2021-07-21 15:17:07,911]\u001b[0m Trial 23 finished with value: 5.213957894487086 and parameters: {'a': 0.9953777744857262}. Best is trial 21 with value: 5.187366805630912.\u001b[0m\n",
            "\u001b[32m[I 2021-07-21 15:17:14,352]\u001b[0m Trial 24 finished with value: 5.215110369780419 and parameters: {'a': 0.30030305987536254}. Best is trial 21 with value: 5.187366805630912.\u001b[0m\n",
            "\u001b[32m[I 2021-07-21 15:17:21,710]\u001b[0m Trial 25 finished with value: 5.187645302258851 and parameters: {'a': 0.6732150522622646}. Best is trial 21 with value: 5.187366805630912.\u001b[0m\n",
            "\u001b[32m[I 2021-07-21 15:17:28,578]\u001b[0m Trial 26 finished with value: 5.190973661746575 and parameters: {'a': 0.5643300653939549}. Best is trial 21 with value: 5.187366805630912.\u001b[0m\n",
            "\u001b[32m[I 2021-07-21 15:17:35,018]\u001b[0m Trial 27 finished with value: 5.290244517649342 and parameters: {'a': -0.006389715869964174}. Best is trial 21 with value: 5.187366805630912.\u001b[0m\n",
            "\u001b[32m[I 2021-07-21 15:17:42,110]\u001b[0m Trial 28 finished with value: 5.198983196319808 and parameters: {'a': 0.8641405381559123}. Best is trial 21 with value: 5.187366805630912.\u001b[0m\n",
            "\u001b[32m[I 2021-07-21 15:17:48,708]\u001b[0m Trial 29 finished with value: 5.216325366032957 and parameters: {'a': 0.29384755125657724}. Best is trial 21 with value: 5.187366805630912.\u001b[0m\n"
          ],
          "name": "stderr"
        },
        {
          "output_type": "stream",
          "text": [
            "<<<position_shift>>>\n",
            "< from truth >\n",
            "error meter: 2.747748615901277\n",
            "score: 3.75760914274848\n",
            "--------------------\n"
          ],
          "name": "stdout"
        },
        {
          "output_type": "stream",
          "text": [
            "/usr/local/lib/python3.7/dist-packages/ipykernel_launcher.py:37: RuntimeWarning:\n",
            "\n",
            "invalid value encountered in arccos\n",
            "\n"
          ],
          "name": "stderr"
        },
        {
          "output_type": "stream",
          "text": [
            "<<<triangle_5>>>\n",
            "< from truth >\n",
            "error meter: 2.7420579484803342\n",
            "score: 3.7460382249735136\n",
            "--------------------\n"
          ],
          "name": "stdout"
        }
      ]
    },
    {
      "cell_type": "markdown",
      "metadata": {
        "id": "6UWt5P7zQwxP"
      },
      "source": [
        "#submission"
      ]
    },
    {
      "cell_type": "code",
      "metadata": {
        "colab": {
          "base_uri": "https://localhost:8080/",
          "height": 737
        },
        "id": "U-qhbrlXOXA4",
        "outputId": "d5e9ecec-314c-4b0f-a65a-6bf4d16970cc"
      },
      "source": [
        "#make triangle 1\n",
        "sub1 = make_triangle(test_base)\n",
        "for i in range(100):\n",
        "    sub1 = make_triangle(sub1)\n",
        "print('<<<triangle_1>>>')\n",
        "\n",
        "#outlier\n",
        "sub2 = outlier(sub1)\n",
        "print('<<<outlier>>>')\n",
        "\n",
        "#make triangle 2\n",
        "sub3 = make_triangle(sub2)\n",
        "for i in range(100):\n",
        "    sub3 = make_triangle(sub3)\n",
        "print('<<<triangle_2>>>')\n",
        "\n",
        "#phonse mean\n",
        "sub4 = mean_prediction(sub3)\n",
        "print('<<<phones_mean>>>')\n",
        "\n",
        "#make triangle 3\n",
        "sub5 = make_triangle(sub4)\n",
        "for i in range(100):\n",
        "    sub5 = make_triangle(sub5)\n",
        "print('<<<triangle_3>>>')\n",
        "\n",
        "#remove device\n",
        "sub6 = remove_device(sub5)\n",
        "print('<<<remove_device>>>')\n",
        "\n",
        "#make triangle 4\n",
        "sub7 = make_triangle(sub6)\n",
        "for i in range(100):\n",
        "    sub7 = make_triangle(sub7)\n",
        "print('<<<triangle_4>>>')\n",
        "\n",
        "#position shift\n",
        "sub8 = position_shift(sub7)\n",
        "print('<<<position_shift>>>')\n",
        "\n",
        "#make triangle 5\n",
        "sub9 = make_triangle(sub8)\n",
        "for i in range(100):\n",
        "    sub9 = make_triangle(sub9)\n",
        "print('<<<triangle_5>>>')"
      ],
      "execution_count": 135,
      "outputs": [
        {
          "output_type": "stream",
          "text": [
            "/usr/local/lib/python3.7/dist-packages/ipykernel_launcher.py:37: RuntimeWarning:\n",
            "\n",
            "invalid value encountered in double_scalars\n",
            "\n",
            "/usr/local/lib/python3.7/dist-packages/ipykernel_launcher.py:37: RuntimeWarning:\n",
            "\n",
            "invalid value encountered in arccos\n",
            "\n"
          ],
          "name": "stderr"
        },
        {
          "output_type": "stream",
          "text": [
            "<<<triangle_1>>>\n"
          ],
          "name": "stdout"
        },
        {
          "output_type": "stream",
          "text": [
            "/usr/local/lib/python3.7/dist-packages/ipykernel_launcher.py:17: UserWarning:\n",
            "\n",
            "Boolean Series key will be reindexed to match DataFrame index.\n",
            "\n"
          ],
          "name": "stderr"
        },
        {
          "output_type": "error",
          "ename": "IndexError",
          "evalue": "ignored",
          "traceback": [
            "\u001b[0;31m---------------------------------------------------------------------------\u001b[0m",
            "\u001b[0;31mIndexError\u001b[0m                                Traceback (most recent call last)",
            "\u001b[0;32m<ipython-input-135-0458a33e6239>\u001b[0m in \u001b[0;36m<module>\u001b[0;34m()\u001b[0m\n\u001b[1;32m      6\u001b[0m \u001b[0;34m\u001b[0m\u001b[0m\n\u001b[1;32m      7\u001b[0m \u001b[0;31m#outlier\u001b[0m\u001b[0;34m\u001b[0m\u001b[0;34m\u001b[0m\u001b[0;34m\u001b[0m\u001b[0m\n\u001b[0;32m----> 8\u001b[0;31m \u001b[0msub2\u001b[0m \u001b[0;34m=\u001b[0m \u001b[0moutlier\u001b[0m\u001b[0;34m(\u001b[0m\u001b[0msub1\u001b[0m\u001b[0;34m)\u001b[0m\u001b[0;34m\u001b[0m\u001b[0;34m\u001b[0m\u001b[0m\n\u001b[0m\u001b[1;32m      9\u001b[0m \u001b[0mprint\u001b[0m\u001b[0;34m(\u001b[0m\u001b[0;34m'<<<outlier>>>'\u001b[0m\u001b[0;34m)\u001b[0m\u001b[0;34m\u001b[0m\u001b[0;34m\u001b[0m\u001b[0m\n\u001b[1;32m     10\u001b[0m \u001b[0;34m\u001b[0m\u001b[0m\n",
            "\u001b[0;32m<ipython-input-124-47870f2c6d00>\u001b[0m in \u001b[0;36moutlier\u001b[0;34m(input_df)\u001b[0m\n\u001b[1;32m     15\u001b[0m     \u001b[0mlist_phone\u001b[0m \u001b[0;34m=\u001b[0m \u001b[0moutput_df\u001b[0m\u001b[0;34m[\u001b[0m\u001b[0;34m'phone'\u001b[0m\u001b[0;34m]\u001b[0m\u001b[0;34m.\u001b[0m\u001b[0munique\u001b[0m\u001b[0;34m(\u001b[0m\u001b[0;34m)\u001b[0m\u001b[0;34m\u001b[0m\u001b[0;34m\u001b[0m\u001b[0m\n\u001b[1;32m     16\u001b[0m     \u001b[0;32mfor\u001b[0m \u001b[0mphone\u001b[0m \u001b[0;32min\u001b[0m \u001b[0mlist_phone\u001b[0m\u001b[0;34m:\u001b[0m\u001b[0;34m\u001b[0m\u001b[0;34m\u001b[0m\u001b[0m\n\u001b[0;32m---> 17\u001b[0;31m         \u001b[0mind_s\u001b[0m \u001b[0;34m=\u001b[0m \u001b[0moutput_df\u001b[0m\u001b[0;34m[\u001b[0m\u001b[0mtrain_base\u001b[0m\u001b[0;34m[\u001b[0m\u001b[0;34m'phone'\u001b[0m\u001b[0;34m]\u001b[0m \u001b[0;34m==\u001b[0m \u001b[0mphone\u001b[0m\u001b[0;34m]\u001b[0m\u001b[0;34m.\u001b[0m\u001b[0mindex\u001b[0m\u001b[0;34m[\u001b[0m\u001b[0;36m0\u001b[0m\u001b[0;34m]\u001b[0m\u001b[0;34m\u001b[0m\u001b[0;34m\u001b[0m\u001b[0m\n\u001b[0m\u001b[1;32m     18\u001b[0m         \u001b[0mind_e\u001b[0m \u001b[0;34m=\u001b[0m \u001b[0moutput_df\u001b[0m\u001b[0;34m[\u001b[0m\u001b[0mtrain_base\u001b[0m\u001b[0;34m[\u001b[0m\u001b[0;34m'phone'\u001b[0m\u001b[0;34m]\u001b[0m \u001b[0;34m==\u001b[0m \u001b[0mphone\u001b[0m\u001b[0;34m]\u001b[0m\u001b[0;34m.\u001b[0m\u001b[0mindex\u001b[0m\u001b[0;34m[\u001b[0m\u001b[0;34m-\u001b[0m\u001b[0;36m1\u001b[0m\u001b[0;34m]\u001b[0m\u001b[0;34m\u001b[0m\u001b[0;34m\u001b[0m\u001b[0m\n\u001b[1;32m     19\u001b[0m         \u001b[0moutput_df\u001b[0m\u001b[0;34m.\u001b[0m\u001b[0mloc\u001b[0m\u001b[0;34m[\u001b[0m\u001b[0mind_s\u001b[0m\u001b[0;34m,\u001b[0m\u001b[0;34m'dist_pre'\u001b[0m\u001b[0;34m]\u001b[0m \u001b[0;34m=\u001b[0m \u001b[0;36m0\u001b[0m\u001b[0;34m\u001b[0m\u001b[0;34m\u001b[0m\u001b[0m\n",
            "\u001b[0;32m/usr/local/lib/python3.7/dist-packages/pandas/core/indexes/base.py\u001b[0m in \u001b[0;36m__getitem__\u001b[0;34m(self, key)\u001b[0m\n\u001b[1;32m   4102\u001b[0m         \u001b[0;32mif\u001b[0m \u001b[0mis_scalar\u001b[0m\u001b[0;34m(\u001b[0m\u001b[0mkey\u001b[0m\u001b[0;34m)\u001b[0m\u001b[0;34m:\u001b[0m\u001b[0;34m\u001b[0m\u001b[0;34m\u001b[0m\u001b[0m\n\u001b[1;32m   4103\u001b[0m             \u001b[0mkey\u001b[0m \u001b[0;34m=\u001b[0m \u001b[0mcom\u001b[0m\u001b[0;34m.\u001b[0m\u001b[0mcast_scalar_indexer\u001b[0m\u001b[0;34m(\u001b[0m\u001b[0mkey\u001b[0m\u001b[0;34m,\u001b[0m \u001b[0mwarn_float\u001b[0m\u001b[0;34m=\u001b[0m\u001b[0;32mTrue\u001b[0m\u001b[0;34m)\u001b[0m\u001b[0;34m\u001b[0m\u001b[0;34m\u001b[0m\u001b[0m\n\u001b[0;32m-> 4104\u001b[0;31m             \u001b[0;32mreturn\u001b[0m \u001b[0mgetitem\u001b[0m\u001b[0;34m(\u001b[0m\u001b[0mkey\u001b[0m\u001b[0;34m)\u001b[0m\u001b[0;34m\u001b[0m\u001b[0;34m\u001b[0m\u001b[0m\n\u001b[0m\u001b[1;32m   4105\u001b[0m \u001b[0;34m\u001b[0m\u001b[0m\n\u001b[1;32m   4106\u001b[0m         \u001b[0;32mif\u001b[0m \u001b[0misinstance\u001b[0m\u001b[0;34m(\u001b[0m\u001b[0mkey\u001b[0m\u001b[0;34m,\u001b[0m \u001b[0mslice\u001b[0m\u001b[0;34m)\u001b[0m\u001b[0;34m:\u001b[0m\u001b[0;34m\u001b[0m\u001b[0;34m\u001b[0m\u001b[0m\n",
            "\u001b[0;31mIndexError\u001b[0m: index 0 is out of bounds for axis 0 with size 0"
          ]
        }
      ]
    },
    {
      "cell_type": "code",
      "metadata": {
        "colab": {
          "base_uri": "https://localhost:8080/",
          "height": 909,
          "referenced_widgets": [
            "c188871feb8f44f48a2630a0e8f347bf",
            "858b501f1d4b4bc6be00d7d76d7908d2",
            "f6b0767618424fa4a82054ed7df38e71",
            "6176184c98c747b9a2d5320314e64989",
            "d0cb25f071aa433c8a41013d248dffbc",
            "0f133768fe5848cd9e5ba3351d9c2a28",
            "c8cd864b27a44108ad69d7e0649af712",
            "1b721bd7b7214f259e778ba8c1759a1c"
          ]
        },
        "id": "N3S7XvCSUjh_",
        "outputId": "a12406ba-dcb4-4f7f-bc94-472050ceb43d"
      },
      "source": [
        "sub2 = outlier(sub1)\n",
        "print('<<<outlier>>>')\n",
        "\n",
        "#make triangle 2\n",
        "sub3 = make_triangle(sub2)\n",
        "for i in range(100):\n",
        "    sub3 = make_triangle(sub3)\n",
        "print('<<<triangle_2>>>')\n",
        "\n",
        "#phonse mean\n",
        "sub4 = mean_prediction(sub3)\n",
        "print('<<<phones_mean>>>')\n",
        "\n",
        "#make triangle 3\n",
        "sub5 = make_triangle(sub4)\n",
        "for i in range(100):\n",
        "    sub5 = make_triangle(sub5)\n",
        "print('<<<triangle_3>>>')\n",
        "\n",
        "#remove device\n",
        "sub6 = remove_device(sub5)\n",
        "print('<<<remove_device>>>')\n",
        "\n",
        "#make triangle 4\n",
        "sub7 = make_triangle(sub6)\n",
        "for i in range(100):\n",
        "    sub7 = make_triangle(sub7)\n",
        "print('<<<triangle_4>>>')\n",
        "\n",
        "#position shift\n",
        "sub8 = position_shift(sub7)\n",
        "print('<<<position_shift>>>')\n",
        "\n",
        "#make triangle 5\n",
        "sub9 = make_triangle(sub8)\n",
        "for i in range(100):\n",
        "    sub9 = make_triangle(sub9)\n",
        "print('<<<triangle_5>>>')"
      ],
      "execution_count": 138,
      "outputs": [
        {
          "output_type": "stream",
          "text": [
            "<<<outlier>>>\n"
          ],
          "name": "stdout"
        },
        {
          "output_type": "stream",
          "text": [
            "/usr/local/lib/python3.7/dist-packages/ipykernel_launcher.py:37: RuntimeWarning:\n",
            "\n",
            "invalid value encountered in arccos\n",
            "\n",
            "/usr/local/lib/python3.7/dist-packages/ipykernel_launcher.py:37: RuntimeWarning:\n",
            "\n",
            "invalid value encountered in double_scalars\n",
            "\n"
          ],
          "name": "stderr"
        },
        {
          "output_type": "stream",
          "text": [
            "<<<triangle_2>>>\n"
          ],
          "name": "stdout"
        },
        {
          "output_type": "display_data",
          "data": {
            "application/vnd.jupyter.widget-view+json": {
              "model_id": "c188871feb8f44f48a2630a0e8f347bf",
              "version_minor": 0,
              "version_major": 2
            },
            "text/plain": [
              "HBox(children=(FloatProgress(value=0.0, max=48.0), HTML(value='')))"
            ]
          },
          "metadata": {
            "tags": []
          }
        },
        {
          "output_type": "stream",
          "text": [
            "\n",
            "<<<phones_mean>>>\n",
            "<<<triangle_3>>>\n",
            "<<<remove_device>>>\n",
            "<<<triangle_4>>>\n"
          ],
          "name": "stdout"
        },
        {
          "output_type": "stream",
          "text": [
            "\u001b[32m[I 2021-07-21 18:42:43,106]\u001b[0m A new study created in memory with name: no-name-e9b1e1db-6424-4861-891e-5f103bdc7e05\u001b[0m\n",
            "\u001b[32m[I 2021-07-21 18:42:49,678]\u001b[0m Trial 0 finished with value: 5.681460582547267 and parameters: {'a': -0.8758380785008526}. Best is trial 0 with value: 5.681460582547267.\u001b[0m\n",
            "\u001b[32m[I 2021-07-21 18:42:56,179]\u001b[0m Trial 1 finished with value: 5.415104779973798 and parameters: {'a': -0.35486754330198833}. Best is trial 1 with value: 5.415104779973798.\u001b[0m\n",
            "\u001b[32m[I 2021-07-21 18:43:02,584]\u001b[0m Trial 2 finished with value: 5.345487196072315 and parameters: {'a': -0.17718104963918013}. Best is trial 2 with value: 5.345487196072315.\u001b[0m\n",
            "\u001b[32m[I 2021-07-21 18:43:09,240]\u001b[0m Trial 3 finished with value: 5.271025547059654 and parameters: {'a': 0.05660212100008244}. Best is trial 3 with value: 5.271025547059654.\u001b[0m\n",
            "\u001b[32m[I 2021-07-21 18:43:15,837]\u001b[0m Trial 4 finished with value: 5.30285016191067 and parameters: {'a': -0.04957499306165847}. Best is trial 3 with value: 5.271025547059654.\u001b[0m\n",
            "\u001b[32m[I 2021-07-21 18:43:22,350]\u001b[0m Trial 5 finished with value: 5.31859785919211 and parameters: {'a': -0.10308482134056884}. Best is trial 3 with value: 5.271025547059654.\u001b[0m\n",
            "\u001b[32m[I 2021-07-21 18:43:29,323]\u001b[0m Trial 6 finished with value: 5.199377706944981 and parameters: {'a': 0.8705805495473402}. Best is trial 6 with value: 5.199377706944981.\u001b[0m\n",
            "\u001b[32m[I 2021-07-21 18:43:35,621]\u001b[0m Trial 7 finished with value: 5.286545084307949 and parameters: {'a': 0.0040680408182585115}. Best is trial 6 with value: 5.199377706944981.\u001b[0m\n",
            "\u001b[32m[I 2021-07-21 18:43:42,153]\u001b[0m Trial 8 finished with value: 5.191936543564307 and parameters: {'a': 0.7315181123433516}. Best is trial 8 with value: 5.191936543564307.\u001b[0m\n",
            "\u001b[32m[I 2021-07-21 18:43:49,273]\u001b[0m Trial 9 finished with value: 5.249061764042351 and parameters: {'a': 0.13706953822245094}. Best is trial 8 with value: 5.191936543564307.\u001b[0m\n",
            "\u001b[32m[I 2021-07-21 18:43:55,583]\u001b[0m Trial 10 finished with value: 5.213543405795011 and parameters: {'a': 0.9917318146609053}. Best is trial 8 with value: 5.191936543564307.\u001b[0m\n",
            "\u001b[32m[I 2021-07-21 18:44:02,021]\u001b[0m Trial 11 finished with value: 5.208988637000525 and parameters: {'a': 0.9541154495441616}. Best is trial 8 with value: 5.191936543564307.\u001b[0m\n",
            "\u001b[32m[I 2021-07-21 18:44:09,136]\u001b[0m Trial 12 finished with value: 5.1878820281251175 and parameters: {'a': 0.6352131268552644}. Best is trial 12 with value: 5.1878820281251175.\u001b[0m\n",
            "\u001b[32m[I 2021-07-21 18:44:15,481]\u001b[0m Trial 13 finished with value: 5.190664769169182 and parameters: {'a': 0.5749881523005276}. Best is trial 12 with value: 5.1878820281251175.\u001b[0m\n",
            "\u001b[32m[I 2021-07-21 18:44:22,389]\u001b[0m Trial 14 finished with value: 5.192851398038996 and parameters: {'a': 0.486068957139351}. Best is trial 12 with value: 5.1878820281251175.\u001b[0m\n",
            "\u001b[32m[I 2021-07-21 18:44:29,462]\u001b[0m Trial 15 finished with value: 5.19339918197914 and parameters: {'a': 0.47646924295228216}. Best is trial 12 with value: 5.1878820281251175.\u001b[0m\n",
            "\u001b[32m[I 2021-07-21 18:44:35,747]\u001b[0m Trial 16 finished with value: 5.195488382474164 and parameters: {'a': 0.4457379279637452}. Best is trial 12 with value: 5.1878820281251175.\u001b[0m\n",
            "\u001b[32m[I 2021-07-21 18:44:42,425]\u001b[0m Trial 17 finished with value: 5.189713719303526 and parameters: {'a': 0.7069906922169388}. Best is trial 12 with value: 5.1878820281251175.\u001b[0m\n",
            "\u001b[32m[I 2021-07-21 18:44:49,233]\u001b[0m Trial 18 finished with value: 5.22290178321564 and parameters: {'a': 0.2618851368560678}. Best is trial 12 with value: 5.1878820281251175.\u001b[0m\n",
            "\u001b[32m[I 2021-07-21 18:44:55,510]\u001b[0m Trial 19 finished with value: 5.194177767787903 and parameters: {'a': 0.7683074876500522}. Best is trial 12 with value: 5.1878820281251175.\u001b[0m\n",
            "\u001b[32m[I 2021-07-21 18:45:01,947]\u001b[0m Trial 20 finished with value: 5.49293906734983 and parameters: {'a': -0.5260008538717081}. Best is trial 12 with value: 5.1878820281251175.\u001b[0m\n",
            "\u001b[32m[I 2021-07-21 18:45:08,865]\u001b[0m Trial 21 finished with value: 5.188760310982084 and parameters: {'a': 0.6215493709782388}. Best is trial 12 with value: 5.1878820281251175.\u001b[0m\n",
            "\u001b[32m[I 2021-07-21 18:45:15,100]\u001b[0m Trial 22 finished with value: 5.18745552377846 and parameters: {'a': 0.666836357834243}. Best is trial 22 with value: 5.18745552377846.\u001b[0m\n",
            "\u001b[32m[I 2021-07-21 18:45:21,585]\u001b[0m Trial 23 finished with value: 5.215416237624806 and parameters: {'a': 0.2983247474485001}. Best is trial 22 with value: 5.18745552377846.\u001b[0m\n",
            "\u001b[32m[I 2021-07-21 18:45:28,195]\u001b[0m Trial 24 finished with value: 5.189187574139082 and parameters: {'a': 0.616479965312689}. Best is trial 22 with value: 5.18745552377846.\u001b[0m\n",
            "\u001b[32m[I 2021-07-21 18:45:34,491]\u001b[0m Trial 25 finished with value: 5.197826027620893 and parameters: {'a': 0.832814457304162}. Best is trial 22 with value: 5.18745552377846.\u001b[0m\n",
            "\u001b[32m[I 2021-07-21 18:45:41,219]\u001b[0m Trial 26 finished with value: 5.214261872277523 and parameters: {'a': 0.9976863438492805}. Best is trial 22 with value: 5.18745552377846.\u001b[0m\n",
            "\u001b[32m[I 2021-07-21 18:45:48,197]\u001b[0m Trial 27 finished with value: 5.213644329560748 and parameters: {'a': 0.31082301964075787}. Best is trial 22 with value: 5.18745552377846.\u001b[0m\n",
            "\u001b[32m[I 2021-07-21 18:45:54,640]\u001b[0m Trial 28 finished with value: 5.1876905799062545 and parameters: {'a': 0.64021091069155}. Best is trial 22 with value: 5.18745552377846.\u001b[0m\n",
            "\u001b[32m[I 2021-07-21 18:46:01,383]\u001b[0m Trial 29 finished with value: 5.734133321476654 and parameters: {'a': -0.9666112639903071}. Best is trial 22 with value: 5.18745552377846.\u001b[0m\n"
          ],
          "name": "stderr"
        },
        {
          "output_type": "stream",
          "text": [
            "<<<position_shift>>>\n",
            "<<<triangle_5>>>\n"
          ],
          "name": "stdout"
        }
      ]
    },
    {
      "cell_type": "code",
      "metadata": {
        "id": "f7gndYYANy7_"
      },
      "source": [
        "sub9[sub.columns].to_csv(\"submission_52.csv\", index=False)"
      ],
      "execution_count": 139,
      "outputs": []
    },
    {
      "cell_type": "code",
      "metadata": {
        "colab": {
          "base_uri": "https://localhost:8080/",
          "height": 589
        },
        "id": "nRIGypYBSewc",
        "outputId": "bf04648b-86f3-4256-a806-ccede4186232"
      },
      "source": [
        "sub9"
      ],
      "execution_count": 134,
      "outputs": [
        {
          "output_type": "execute_result",
          "data": {
            "text/html": [
              "<div>\n",
              "<style scoped>\n",
              "    .dataframe tbody tr th:only-of-type {\n",
              "        vertical-align: middle;\n",
              "    }\n",
              "\n",
              "    .dataframe tbody tr th {\n",
              "        vertical-align: top;\n",
              "    }\n",
              "\n",
              "    .dataframe thead th {\n",
              "        text-align: right;\n",
              "    }\n",
              "</style>\n",
              "<table border=\"1\" class=\"dataframe\">\n",
              "  <thead>\n",
              "    <tr style=\"text-align: right;\">\n",
              "      <th></th>\n",
              "      <th>phone</th>\n",
              "      <th>millisSinceGpsEpoch</th>\n",
              "      <th>latDeg</th>\n",
              "      <th>lngDeg</th>\n",
              "      <th>phoneName</th>\n",
              "      <th>collectionName</th>\n",
              "    </tr>\n",
              "  </thead>\n",
              "  <tbody>\n",
              "    <tr>\n",
              "      <th>0</th>\n",
              "      <td>2020-05-14-US-MTV-1_Pixel4</td>\n",
              "      <td>1273529463442</td>\n",
              "      <td>37.423559</td>\n",
              "      <td>-122.094036</td>\n",
              "      <td>Pixel4</td>\n",
              "      <td>2020-05-14-US-MTV-1</td>\n",
              "    </tr>\n",
              "    <tr>\n",
              "      <th>1</th>\n",
              "      <td>2020-05-14-US-MTV-1_Pixel4</td>\n",
              "      <td>1273529464442</td>\n",
              "      <td>37.423568</td>\n",
              "      <td>-122.094073</td>\n",
              "      <td>Pixel4</td>\n",
              "      <td>2020-05-14-US-MTV-1</td>\n",
              "    </tr>\n",
              "    <tr>\n",
              "      <th>2</th>\n",
              "      <td>2020-05-14-US-MTV-1_Pixel4</td>\n",
              "      <td>1273529465442</td>\n",
              "      <td>37.423573</td>\n",
              "      <td>-122.094098</td>\n",
              "      <td>Pixel4</td>\n",
              "      <td>2020-05-14-US-MTV-1</td>\n",
              "    </tr>\n",
              "    <tr>\n",
              "      <th>3</th>\n",
              "      <td>2020-05-14-US-MTV-1_Pixel4</td>\n",
              "      <td>1273529466442</td>\n",
              "      <td>37.423576</td>\n",
              "      <td>-122.094112</td>\n",
              "      <td>Pixel4</td>\n",
              "      <td>2020-05-14-US-MTV-1</td>\n",
              "    </tr>\n",
              "    <tr>\n",
              "      <th>4</th>\n",
              "      <td>2020-05-14-US-MTV-1_Pixel4</td>\n",
              "      <td>1273529467442</td>\n",
              "      <td>37.423577</td>\n",
              "      <td>-122.094121</td>\n",
              "      <td>Pixel4</td>\n",
              "      <td>2020-05-14-US-MTV-1</td>\n",
              "    </tr>\n",
              "    <tr>\n",
              "      <th>...</th>\n",
              "      <td>...</td>\n",
              "      <td>...</td>\n",
              "      <td>...</td>\n",
              "      <td>...</td>\n",
              "      <td>...</td>\n",
              "      <td>...</td>\n",
              "    </tr>\n",
              "    <tr>\n",
              "      <th>131337</th>\n",
              "      <td>2021-04-29-US-SJC-2_SamsungS20Ultra</td>\n",
              "      <td>1303760315000</td>\n",
              "      <td>37.334470</td>\n",
              "      <td>-121.899602</td>\n",
              "      <td>SamsungS20Ultra</td>\n",
              "      <td>2021-04-29-US-SJC-2</td>\n",
              "    </tr>\n",
              "    <tr>\n",
              "      <th>131338</th>\n",
              "      <td>2021-04-29-US-SJC-2_SamsungS20Ultra</td>\n",
              "      <td>1303760316000</td>\n",
              "      <td>37.334471</td>\n",
              "      <td>-121.899597</td>\n",
              "      <td>SamsungS20Ultra</td>\n",
              "      <td>2021-04-29-US-SJC-2</td>\n",
              "    </tr>\n",
              "    <tr>\n",
              "      <th>131339</th>\n",
              "      <td>2021-04-29-US-SJC-2_SamsungS20Ultra</td>\n",
              "      <td>1303760317000</td>\n",
              "      <td>37.334474</td>\n",
              "      <td>-121.899592</td>\n",
              "      <td>SamsungS20Ultra</td>\n",
              "      <td>2021-04-29-US-SJC-2</td>\n",
              "    </tr>\n",
              "    <tr>\n",
              "      <th>131340</th>\n",
              "      <td>2021-04-29-US-SJC-2_SamsungS20Ultra</td>\n",
              "      <td>1303760318000</td>\n",
              "      <td>37.334479</td>\n",
              "      <td>-121.899585</td>\n",
              "      <td>SamsungS20Ultra</td>\n",
              "      <td>2021-04-29-US-SJC-2</td>\n",
              "    </tr>\n",
              "    <tr>\n",
              "      <th>131341</th>\n",
              "      <td>2021-04-29-US-SJC-2_SamsungS20Ultra</td>\n",
              "      <td>1303760319000</td>\n",
              "      <td>37.334483</td>\n",
              "      <td>-121.899577</td>\n",
              "      <td>SamsungS20Ultra</td>\n",
              "      <td>2021-04-29-US-SJC-2</td>\n",
              "    </tr>\n",
              "  </tbody>\n",
              "</table>\n",
              "<p>131342 rows × 6 columns</p>\n",
              "</div>"
            ],
            "text/plain": [
              "                                      phone  ...       collectionName\n",
              "0                2020-05-14-US-MTV-1_Pixel4  ...  2020-05-14-US-MTV-1\n",
              "1                2020-05-14-US-MTV-1_Pixel4  ...  2020-05-14-US-MTV-1\n",
              "2                2020-05-14-US-MTV-1_Pixel4  ...  2020-05-14-US-MTV-1\n",
              "3                2020-05-14-US-MTV-1_Pixel4  ...  2020-05-14-US-MTV-1\n",
              "4                2020-05-14-US-MTV-1_Pixel4  ...  2020-05-14-US-MTV-1\n",
              "...                                     ...  ...                  ...\n",
              "131337  2021-04-29-US-SJC-2_SamsungS20Ultra  ...  2021-04-29-US-SJC-2\n",
              "131338  2021-04-29-US-SJC-2_SamsungS20Ultra  ...  2021-04-29-US-SJC-2\n",
              "131339  2021-04-29-US-SJC-2_SamsungS20Ultra  ...  2021-04-29-US-SJC-2\n",
              "131340  2021-04-29-US-SJC-2_SamsungS20Ultra  ...  2021-04-29-US-SJC-2\n",
              "131341  2021-04-29-US-SJC-2_SamsungS20Ultra  ...  2021-04-29-US-SJC-2\n",
              "\n",
              "[131342 rows x 6 columns]"
            ]
          },
          "metadata": {
            "tags": []
          },
          "execution_count": 134
        }
      ]
    },
    {
      "cell_type": "code",
      "metadata": {
        "id": "uFq1lTdHS_au"
      },
      "source": [
        ""
      ],
      "execution_count": null,
      "outputs": []
    }
  ]
}