{
  "nbformat": 4,
  "nbformat_minor": 0,
  "metadata": {
    "colab": {
      "name": "Untitled126.ipynb",
      "provenance": [],
      "collapsed_sections": [
        "CnELqZfmOwbr",
        "N-kSEd_epofF",
        "XOJ-khTwOwZX",
        "1a-6kKK2OwW1",
        "qy8EnNQdOwUf"
      ],
      "mount_file_id": "1lXtX3b8oZbCrBJ2x8Niek9ejvNZUlDMn",
      "authorship_tag": "ABX9TyMfLKH9sDR1Cg3OMqrxOUod",
      "include_colab_link": true
    },
    "kernelspec": {
      "display_name": "Python 3",
      "name": "python3"
    },
    "language_info": {
      "name": "python"
    },
    "widgets": {
      "application/vnd.jupyter.widget-state+json": {
        "0bd00c10787a4b4d9a253e16bcb48164": {
          "model_module": "@jupyter-widgets/controls",
          "model_name": "HBoxModel",
          "state": {
            "_view_name": "HBoxView",
            "_dom_classes": [],
            "_model_name": "HBoxModel",
            "_view_module": "@jupyter-widgets/controls",
            "_model_module_version": "1.5.0",
            "_view_count": null,
            "_view_module_version": "1.5.0",
            "box_style": "",
            "layout": "IPY_MODEL_7a4c28718d684c2ebd9294386748246e",
            "_model_module": "@jupyter-widgets/controls",
            "children": [
              "IPY_MODEL_cde84b45f93e46f5865b029cfa24efd0",
              "IPY_MODEL_45c4b483bf25493fa67c883b4f8bba11"
            ]
          }
        },
        "7a4c28718d684c2ebd9294386748246e": {
          "model_module": "@jupyter-widgets/base",
          "model_name": "LayoutModel",
          "state": {
            "_view_name": "LayoutView",
            "grid_template_rows": null,
            "right": null,
            "justify_content": null,
            "_view_module": "@jupyter-widgets/base",
            "overflow": null,
            "_model_module_version": "1.2.0",
            "_view_count": null,
            "flex_flow": null,
            "width": null,
            "min_width": null,
            "border": null,
            "align_items": null,
            "bottom": null,
            "_model_module": "@jupyter-widgets/base",
            "top": null,
            "grid_column": null,
            "overflow_y": null,
            "overflow_x": null,
            "grid_auto_flow": null,
            "grid_area": null,
            "grid_template_columns": null,
            "flex": null,
            "_model_name": "LayoutModel",
            "justify_items": null,
            "grid_row": null,
            "max_height": null,
            "align_content": null,
            "visibility": null,
            "align_self": null,
            "height": null,
            "min_height": null,
            "padding": null,
            "grid_auto_rows": null,
            "grid_gap": null,
            "max_width": null,
            "order": null,
            "_view_module_version": "1.2.0",
            "grid_template_areas": null,
            "object_position": null,
            "object_fit": null,
            "grid_auto_columns": null,
            "margin": null,
            "display": null,
            "left": null
          }
        },
        "cde84b45f93e46f5865b029cfa24efd0": {
          "model_module": "@jupyter-widgets/controls",
          "model_name": "FloatProgressModel",
          "state": {
            "_view_name": "ProgressView",
            "style": "IPY_MODEL_225bc919885840519da2e1a976a6d7c4",
            "_dom_classes": [],
            "description": "100%",
            "_model_name": "FloatProgressModel",
            "bar_style": "success",
            "max": 73,
            "_view_module": "@jupyter-widgets/controls",
            "_model_module_version": "1.5.0",
            "value": 73,
            "_view_count": null,
            "_view_module_version": "1.5.0",
            "orientation": "horizontal",
            "min": 0,
            "description_tooltip": null,
            "_model_module": "@jupyter-widgets/controls",
            "layout": "IPY_MODEL_79e07ed376c345f2827a97c1736e0df9"
          }
        },
        "45c4b483bf25493fa67c883b4f8bba11": {
          "model_module": "@jupyter-widgets/controls",
          "model_name": "HTMLModel",
          "state": {
            "_view_name": "HTMLView",
            "style": "IPY_MODEL_1ed498afdbd54679a19915cfe1508e13",
            "_dom_classes": [],
            "description": "",
            "_model_name": "HTMLModel",
            "placeholder": "​",
            "_view_module": "@jupyter-widgets/controls",
            "_model_module_version": "1.5.0",
            "value": " 73/73 [00:47&lt;00:00,  1.53it/s]",
            "_view_count": null,
            "_view_module_version": "1.5.0",
            "description_tooltip": null,
            "_model_module": "@jupyter-widgets/controls",
            "layout": "IPY_MODEL_1297446d4b3848a18cf4f7f614fee994"
          }
        },
        "225bc919885840519da2e1a976a6d7c4": {
          "model_module": "@jupyter-widgets/controls",
          "model_name": "ProgressStyleModel",
          "state": {
            "_view_name": "StyleView",
            "_model_name": "ProgressStyleModel",
            "description_width": "initial",
            "_view_module": "@jupyter-widgets/base",
            "_model_module_version": "1.5.0",
            "_view_count": null,
            "_view_module_version": "1.2.0",
            "bar_color": null,
            "_model_module": "@jupyter-widgets/controls"
          }
        },
        "79e07ed376c345f2827a97c1736e0df9": {
          "model_module": "@jupyter-widgets/base",
          "model_name": "LayoutModel",
          "state": {
            "_view_name": "LayoutView",
            "grid_template_rows": null,
            "right": null,
            "justify_content": null,
            "_view_module": "@jupyter-widgets/base",
            "overflow": null,
            "_model_module_version": "1.2.0",
            "_view_count": null,
            "flex_flow": null,
            "width": null,
            "min_width": null,
            "border": null,
            "align_items": null,
            "bottom": null,
            "_model_module": "@jupyter-widgets/base",
            "top": null,
            "grid_column": null,
            "overflow_y": null,
            "overflow_x": null,
            "grid_auto_flow": null,
            "grid_area": null,
            "grid_template_columns": null,
            "flex": null,
            "_model_name": "LayoutModel",
            "justify_items": null,
            "grid_row": null,
            "max_height": null,
            "align_content": null,
            "visibility": null,
            "align_self": null,
            "height": null,
            "min_height": null,
            "padding": null,
            "grid_auto_rows": null,
            "grid_gap": null,
            "max_width": null,
            "order": null,
            "_view_module_version": "1.2.0",
            "grid_template_areas": null,
            "object_position": null,
            "object_fit": null,
            "grid_auto_columns": null,
            "margin": null,
            "display": null,
            "left": null
          }
        },
        "1ed498afdbd54679a19915cfe1508e13": {
          "model_module": "@jupyter-widgets/controls",
          "model_name": "DescriptionStyleModel",
          "state": {
            "_view_name": "StyleView",
            "_model_name": "DescriptionStyleModel",
            "description_width": "",
            "_view_module": "@jupyter-widgets/base",
            "_model_module_version": "1.5.0",
            "_view_count": null,
            "_view_module_version": "1.2.0",
            "_model_module": "@jupyter-widgets/controls"
          }
        },
        "1297446d4b3848a18cf4f7f614fee994": {
          "model_module": "@jupyter-widgets/base",
          "model_name": "LayoutModel",
          "state": {
            "_view_name": "LayoutView",
            "grid_template_rows": null,
            "right": null,
            "justify_content": null,
            "_view_module": "@jupyter-widgets/base",
            "overflow": null,
            "_model_module_version": "1.2.0",
            "_view_count": null,
            "flex_flow": null,
            "width": null,
            "min_width": null,
            "border": null,
            "align_items": null,
            "bottom": null,
            "_model_module": "@jupyter-widgets/base",
            "top": null,
            "grid_column": null,
            "overflow_y": null,
            "overflow_x": null,
            "grid_auto_flow": null,
            "grid_area": null,
            "grid_template_columns": null,
            "flex": null,
            "_model_name": "LayoutModel",
            "justify_items": null,
            "grid_row": null,
            "max_height": null,
            "align_content": null,
            "visibility": null,
            "align_self": null,
            "height": null,
            "min_height": null,
            "padding": null,
            "grid_auto_rows": null,
            "grid_gap": null,
            "max_width": null,
            "order": null,
            "_view_module_version": "1.2.0",
            "grid_template_areas": null,
            "object_position": null,
            "object_fit": null,
            "grid_auto_columns": null,
            "margin": null,
            "display": null,
            "left": null
          }
        }
      }
    }
  },
  "cells": [
    {
      "cell_type": "markdown",
      "metadata": {
        "id": "view-in-github",
        "colab_type": "text"
      },
      "source": [
        "<a href=\"https://colab.research.google.com/github/kyochanpy/Google_Smartphone_Decimeter_Challenge/blob/main/note_book/submission_69.ipynb\" target=\"_parent\"><img src=\"https://colab.research.google.com/assets/colab-badge.svg\" alt=\"Open In Colab\"/></a>"
      ]
    },
    {
      "cell_type": "markdown",
      "metadata": {
        "id": "IicojqA4RFQF"
      },
      "source": [
        "#ライブラリ"
      ]
    },
    {
      "cell_type": "code",
      "metadata": {
        "id": "z85pRKVLfKjg",
        "colab": {
          "base_uri": "https://localhost:8080/"
        },
        "outputId": "a9719817-80b7-4c31-cf94-ca006110ff08"
      },
      "source": [
        "!pip install optuna > /dev/null\n",
        "!pip install pyproj > /dev/null\n",
        "!pip install simdkalman > /dev/null\n",
        "!pip install osmnx momepy geopandas > /dev/null\n",
        "    \n",
        "import os\n",
        "from glob import glob\n",
        "from pathlib import Path\n",
        "\n",
        "import numpy as np\n",
        "import pandas as pd\n",
        "import math\n",
        "import matplotlib.pyplot as plt\n",
        "from matplotlib_venn import venn2, venn2_circles\n",
        "import seaborn as sns\n",
        "from scipy.ndimage import gaussian_filter1d\n",
        "from scipy.interpolate import interp1d\n",
        "\n",
        "from shapely.geometry import Point\n",
        "import osmnx as ox\n",
        "import momepy\n",
        "import geopandas as gpd\n",
        "import optuna\n",
        "import plotly\n",
        "import plotly.express as px\n",
        "import pyproj\n",
        "from pathlib import Path\n",
        "from pyproj import Proj, transform\n",
        "from tqdm.notebook import tqdm\n",
        "import simdkalman"
      ],
      "execution_count": 1,
      "outputs": [
        {
          "output_type": "stream",
          "text": [
            "\u001b[31mERROR: pip's dependency resolver does not currently take into account all the packages that are installed. This behaviour is the source of the following dependency conflicts.\n",
            "google-colab 1.0.0 requires requests~=2.23.0, but you have requests 2.26.0 which is incompatible.\n",
            "datascience 0.10.6 requires folium==0.2.1, but you have folium 0.8.3 which is incompatible.\n",
            "albumentations 0.1.12 requires imgaug<0.2.7,>=0.2.5, but you have imgaug 0.2.9 which is incompatible.\u001b[0m\n"
          ],
          "name": "stdout"
        },
        {
          "output_type": "stream",
          "text": [
            "/usr/local/lib/python3.7/dist-packages/geopandas/_compat.py:110: UserWarning: The Shapely GEOS version (3.8.0-CAPI-1.13.1 ) is incompatible with the GEOS version PyGEOS was compiled with (3.9.1-CAPI-1.14.2). Conversions between both will be slow.\n",
            "  shapely_geos_version, geos_capi_version_string\n"
          ],
          "name": "stderr"
        }
      ]
    },
    {
      "cell_type": "markdown",
      "metadata": {
        "id": "XjCkkklkRJWK"
      },
      "source": [
        "#Data"
      ]
    },
    {
      "cell_type": "code",
      "metadata": {
        "id": "gs18L1gdRLBS"
      },
      "source": [
        "dir = Path(\"/content/drive/MyDrive/GSDC\")\n",
        "train_base = pd.read_csv(dir / \"baseline_locations_train.csv\")\n",
        "\n",
        "#test_base = pd.read_csv(dir / \"baseline_locations_test.csv\")\n",
        "test_base = pd.read_csv(\"/content/drive/MyDrive/GSDC/test_predict_next_point_SJC_2.csv\")\n",
        "\n",
        "sub = pd.read_csv(dir / \"sample_submission.csv\")\n",
        "\n",
        "\n",
        "def get_groundtruth(path: Path) -> pd.DataFrame:\n",
        "        output_df = pd.DataFrame()\n",
        "        \n",
        "        for path in glob(str(dir / 'train/*/*/ground_truth.csv')):\n",
        "            _df = pd.read_csv(path)\n",
        "            output_df = pd.concat([output_df, _df])\n",
        "        output_df = output_df.reset_index(drop=True)\n",
        "        \n",
        "        _columns = ['latDeg', 'lngDeg', 'heightAboveWgs84EllipsoidM']\n",
        "        output_df[['t_'+col for col in _columns]] = output_df[_columns]\n",
        "        output_df = output_df.drop(columns=_columns, axis=1)\n",
        "        return output_df\n",
        "\n",
        "train_base = train_base.merge(\n",
        "    get_groundtruth(dir),\n",
        "    on=['collectionName', 'phoneName', 'millisSinceGpsEpoch']\n",
        ")"
      ],
      "execution_count": 2,
      "outputs": []
    },
    {
      "cell_type": "code",
      "metadata": {
        "id": "thYv3gd07TEf"
      },
      "source": [
        "train_area_5s = []\n",
        "for area_5 in train_area_5:\n",
        "    area_5_df = train_base[train_base[\"collectionName\"] == area_5]\n",
        "    train_area_5s.append(area_5_df)\n",
        "area_5_df = pd.concat(train_area_5s)\n",
        "\n",
        "test_area_5s = []\n",
        "for area_5 in train_area_5:\n",
        "    area_5_df = test_base[test_base[\"collectionName\"] == area_5]\n",
        "    test_area_5s.append(area_5_df)\n",
        "area_5_df = pd.concat(test_area_5s)"
      ],
      "execution_count": 4,
      "outputs": []
    },
    {
      "cell_type": "code",
      "metadata": {
        "id": "gbZuWd-A2Gpz"
      },
      "source": [
        "train_SJC_list = [\"2021-04-22-US-SJC-1\", \"2021-04-28-US-SJC-1\", \"2021-04-29-US-SJC-2\"]\n",
        "test_SJC_list = [\"2021-04-22-US-SJC-2\", \"2021-04-29-US-SJC-3\"]\n",
        "\n",
        "train_SJCs = []\n",
        "for SJC in train_SJC_list:\n",
        "    SJC_df = train_base[train_base[\"collectionName\"] == SJC]\n",
        "    train_SJCs.append(SJC_df)\n",
        "train_SJC = pd.concat(train_SJCs)\n",
        "\n",
        "test_SJCs = []\n",
        "for SJC in test_SJC_list:\n",
        "    SJC_df = test_base[test_base[\"collectionName\"] == SJC]\n",
        "    test_SJCs.append(SJC_df)\n",
        "test_SJC = pd.concat(test_SJCs)"
      ],
      "execution_count": 5,
      "outputs": []
    },
    {
      "cell_type": "markdown",
      "metadata": {
        "id": "8nYo9kLURLVk"
      },
      "source": [
        "#共通関数"
      ]
    },
    {
      "cell_type": "code",
      "metadata": {
        "id": "mW_WsQDmSEFA"
      },
      "source": [
        "def calc_haversine(lat1, lon1, lat2, lon2):\n",
        "    RADIUS = 6_367_000\n",
        "    lat1, lon1, lat2, lon2 = map(np.radians, [lat1, lon1, lat2, lon2])\n",
        "    dlat = lat2 - lat1\n",
        "    dlon = lon2 - lon1\n",
        "    d = np.sin(dlat/2)**2 + np.cos(lat1) * np.cos(lat2) * np.sin(dlon/2)**2\n",
        "    dist = 2 * RADIUS * np.arcsin(d**0.5)\n",
        "    return dist"
      ],
      "execution_count": 69,
      "outputs": []
    },
    {
      "cell_type": "markdown",
      "metadata": {
        "id": "uzOBPU05Obwe"
      },
      "source": [
        "#defs"
      ]
    },
    {
      "cell_type": "markdown",
      "metadata": {
        "id": "7VWL4s00VSz9"
      },
      "source": [
        "##mean points"
      ]
    },
    {
      "cell_type": "code",
      "metadata": {
        "id": "Mzyn_Yr4VSjq"
      },
      "source": [
        "def add_mean_points_features(input_df):\n",
        "    output_df = input_df.copy()\n",
        "    length = len(output_df[\"phone\"].values)\n",
        "    output_df[\"latDeg_pro_1\"] = output_df[\"latDeg\"].shift(-1)\n",
        "    output_df[\"latDeg_pro_2\"] = output_df[\"latDeg\"].shift(-2)\n",
        "    output_df[\"lngDeg_pro_1\"] = output_df[\"lngDeg\"].shift(-1)\n",
        "    output_df[\"lngDeg_pro_2\"] = output_df[\"lngDeg\"].shift(-2)\n",
        "    output_df[\"millisSinceGpsEpoch_pro_1\"] = output_df[\"millisSinceGpsEpoch\"].shift(-1)\n",
        "    output_df[\"millisSinceGpsEpoch_pro_2\"] = output_df[\"millisSinceGpsEpoch\"].shift(-2)\n",
        "    output_df[\"latDeg_mean_point\"] = (output_df[\"latDeg\"] + ((output_df[\"latDeg_pro_2\"] - output_df[\"latDeg\"]) * \n",
        "                                                            ((output_df[\"millisSinceGpsEpoch_pro_1\"] - output_df[\"millisSinceGpsEpoch\"]) /\n",
        "                                                            (output_df[\"millisSinceGpsEpoch_pro_2\"] - output_df[\"millisSinceGpsEpoch\"])))).shift(1)\n",
        "        \n",
        "    output_df[\"lngDeg_mean_point\"] = (output_df[\"lngDeg\"] + ((output_df[\"lngDeg_pro_2\"] - output_df[\"lngDeg\"]) * \n",
        "                                                            ((output_df[\"millisSinceGpsEpoch_pro_1\"] - output_df[\"millisSinceGpsEpoch\"]) /\n",
        "                                                            (output_df[\"millisSinceGpsEpoch_pro_2\"] - output_df[\"millisSinceGpsEpoch\"])))).shift(1)\n",
        "\n",
        "    return output_df"
      ],
      "execution_count": 7,
      "outputs": []
    },
    {
      "cell_type": "code",
      "metadata": {
        "id": "f3J2YfsFcBrx"
      },
      "source": [
        "def mean_points(input_df):\n",
        "    output_df = input_df.copy()\n",
        "\n",
        "    lat_list = []\n",
        "    lng_list = []\n",
        "\n",
        "    for collection in output_df[\"collectionName\"].unique():\n",
        "        collection_df = output_df[output_df[\"collectionName\"] == collection]\n",
        "        if collection in output_df[\"collectionName\"].unique():\n",
        "            for phone in collection_df[\"phoneName\"].unique():\n",
        "                phone_df = collection_df[collection_df[\"phoneName\"] == phone]\n",
        "                mean_points_df = add_mean_points_features(phone_df)\n",
        "                lat_head = mean_points_df[\"latDeg\"].values[0]\n",
        "                lng_head = mean_points_df[\"lngDeg\"].values[0]\n",
        "                lat_tail = mean_points_df[\"latDeg\"].values[-1]\n",
        "                lng_tail = mean_points_df[\"lngDeg\"].values[-1]\n",
        "                lat_tail_2 = mean_points_df[\"latDeg\"].values[-2]\n",
        "                lng_tail_2 = mean_points_df[\"lngDeg\"].values[-2]\n",
        "                for lat, lng, lat_1, lng_1, lat_2, lng_2, lat_mp, lng_mp in zip(\n",
        "                    mean_points_df[\"latDeg\"].to_numpy(),\n",
        "                    mean_points_df[\"lngDeg\"].to_numpy(),\n",
        "                    mean_points_df[\"latDeg_pro_1\"].to_numpy(),\n",
        "                    mean_points_df[\"lngDeg_pro_1\"].to_numpy(),\n",
        "                    mean_points_df[\"latDeg_pro_2\"].to_numpy(),\n",
        "                    mean_points_df[\"lngDeg_pro_2\"].to_numpy(),\n",
        "                    mean_points_df[\"latDeg_mean_point\"].to_numpy(),\n",
        "                    mean_points_df[\"lngDeg_mean_point\"].to_numpy()\n",
        "                ):\n",
        "                \n",
        "                        p0 = np.array([lat, lng])\n",
        "                        p1 = np.array([lat_1, lng_1])\n",
        "                        p2 = np.array([lat_2, lng_2])\n",
        "                        mp = np.array([lat_mp, lng_mp])\n",
        "\n",
        "                        vec_p0_p2 = (p2 - p0) / np.linalg.norm(p2 - p0)\n",
        "                        p0_mean_point = (p1 - p0) @ vec_p0_p2 * vec_p0_p2 + p0\n",
        "\n",
        "                        diff_p1_mp = mp - p0_mean_point\n",
        "\n",
        "                        lat_fixed = lat_1 + diff_p1_mp[0]\n",
        "                        lng_fixed = lng_1 + diff_p1_mp[1]\n",
        "\n",
        "                        if np.isnan(lat_fixed) == True:\n",
        "                            lat_list.append(lat)\n",
        "                            lng_list.append(lng)\n",
        "                            continue\n",
        "\n",
        "                        else:\n",
        "                            lat_list.append(lat_fixed)\n",
        "                            lng_list.append(lng_fixed)\n",
        "\n",
        "    output_df[\"latDeg\"] = lat_list\n",
        "    output_df[\"lngDeg\"] = lng_list\n",
        "    #output_df[\"latDeg\"] = output_df[\"latDeg\"].shift(1)\n",
        "    #output_df[\"lngDeg\"] = output_df[\"lngDeg\"].shift(1)\n",
        "    return output_df[input_df.columns]"
      ],
      "execution_count": 8,
      "outputs": []
    },
    {
      "cell_type": "markdown",
      "metadata": {
        "id": "lb6v5CKEOeLA"
      },
      "source": [
        "## make triangle"
      ]
    },
    {
      "cell_type": "code",
      "metadata": {
        "id": "Ws_ZaQeaSaIq"
      },
      "source": [
        "#必要な特徴量を追加\n",
        "def add_triangle_features(input_df):\n",
        "    output_df = input_df.copy()\n",
        "    output_df[\"latDeg_pro_1\"] = output_df[\"latDeg\"].shift(-1)\n",
        "    output_df[\"latDeg_pro_2\"] = output_df[\"latDeg\"].shift(-2)\n",
        "    output_df[\"lngDeg_pro_1\"] = output_df[\"lngDeg\"].shift(-1)\n",
        "    output_df[\"lngDeg_pro_2\"] = output_df[\"lngDeg\"].shift(-2)\n",
        "    output_df[\"millisSinceGpsEpoch_pro_1\"] = output_df[\"millisSinceGpsEpoch\"].shift(-1)\n",
        "    output_df[\"millisSinceGpsEpoch_pro_2\"] = output_df[\"millisSinceGpsEpoch\"].shift(-2)\n",
        "    output_df[\"latDeg_mean_point\"] = (output_df[\"latDeg\"] + ((output_df[\"latDeg_pro_2\"] - output_df[\"latDeg\"]) * \n",
        "                                                            ((output_df[\"millisSinceGpsEpoch_pro_1\"] - output_df[\"millisSinceGpsEpoch\"]) /\n",
        "                                                            (output_df[\"millisSinceGpsEpoch_pro_2\"] - output_df[\"millisSinceGpsEpoch\"])))).shift(1)\n",
        "        \n",
        "    output_df[\"lngDeg_mean_point\"] = (output_df[\"lngDeg\"] + ((output_df[\"lngDeg_pro_2\"] - output_df[\"lngDeg\"]) * \n",
        "                                                            ((output_df[\"millisSinceGpsEpoch_pro_1\"] - output_df[\"millisSinceGpsEpoch\"]) /\n",
        "                                                            (output_df[\"millisSinceGpsEpoch_pro_2\"] - output_df[\"millisSinceGpsEpoch\"])))).shift(1)\n",
        "\n",
        "\n",
        "    degree_list = []\n",
        "    for lat, lng, lat_1, lng_1, lat_2, lng_2 in zip(\n",
        "        output_df[\"latDeg\"].to_numpy(),\n",
        "        output_df[\"lngDeg\"].to_numpy(),\n",
        "        output_df[\"latDeg_pro_1\"].to_numpy(),\n",
        "        output_df[\"lngDeg_pro_1\"].to_numpy(),\n",
        "        output_df[\"latDeg_pro_2\"].to_numpy(),\n",
        "        output_df[\"lngDeg_pro_2\"].to_numpy()\n",
        "    ):\n",
        "        p0 = np.array([lat, lng])\n",
        "        p1 = np.array([lat_1, lng_1])\n",
        "        p2 = np.array([lat_2, lng_2])\n",
        "            \n",
        "        vec_p0 = p0 - p1\n",
        "        vec_p2 = p2 - p1\n",
        "        length_vec_p0 = np.linalg.norm(vec_p0)\n",
        "        length_vec_p2 = np.linalg.norm(vec_p2)\n",
        "        inner = np.inner(vec_p0, vec_p2)\n",
        "        degree = np.rad2deg(np.arccos(inner / (length_vec_p0 * length_vec_p2)))\n",
        "        degree_list.append(degree)\n",
        "    degree_list.insert(0, 180)\n",
        "    degree_list.pop(-1)\n",
        "    degree_list[-1] = 180\n",
        "    output_df[\"degree\"] = degree_list\n",
        "    return output_df"
      ],
      "execution_count": 9,
      "outputs": []
    },
    {
      "cell_type": "code",
      "metadata": {
        "id": "Yhw7N7ovQ37O"
      },
      "source": [
        "#主な処理\n",
        "def make_triangle(input_df):\n",
        "    output_df = input_df.copy()\n",
        "\n",
        "    lat_list = []\n",
        "    lng_list = []\n",
        "\n",
        "    for collection in output_df[\"collectionName\"].unique():\n",
        "        collection_df = output_df[output_df[\"collectionName\"] == collection]\n",
        "        if collection in output_df[\"collectionName\"].unique():\n",
        "            for phone in collection_df[\"phoneName\"].unique():\n",
        "                phone_df = collection_df[collection_df[\"phoneName\"] == phone]\n",
        "                triangle_df = add_triangle_features(phone_df)\n",
        "                for lat, lng, lat_mp, lng_mp, deg in zip(\n",
        "                    triangle_df[\"latDeg\"].to_numpy(),\n",
        "                    triangle_df[\"lngDeg\"].to_numpy(),\n",
        "                    triangle_df[\"latDeg_mean_point\"].to_numpy(),\n",
        "                    triangle_df[\"lngDeg_mean_point\"].to_numpy(),\n",
        "                    triangle_df[\"degree\"].to_numpy()\n",
        "                ):\n",
        "                    if deg < 155:\n",
        "                        lat_f = (lat + lat_mp)/2\n",
        "                        lng_f = (lng + lng_mp)/2\n",
        "                        lat_list.append(lat_f)\n",
        "                        lng_list.append(lng_f)\n",
        "                    else:\n",
        "                        lat_list.append(lat)\n",
        "                        lng_list.append(lng)\n",
        "        else:\n",
        "            for lat, lng in zip(\n",
        "                collection_df[\"latDeg\"].to_numpy(),\n",
        "                collection_df[\"lngDeg\"].to_numpy(),\n",
        "            ):\n",
        "                lat_list.append(lat)\n",
        "                lng_list.append(lng)\n",
        "    output_df[\"latDeg\"] = lat_list\n",
        "    output_df[\"lngDeg\"] = lng_list\n",
        "    return output_df[input_df.columns]"
      ],
      "execution_count": 10,
      "outputs": []
    },
    {
      "cell_type": "markdown",
      "metadata": {
        "id": "CKPfyc7hOwk7"
      },
      "source": [
        "##outlier"
      ]
    },
    {
      "cell_type": "code",
      "metadata": {
        "id": "8HxE9CslUEvz"
      },
      "source": [
        "def outlier_train(input_df):\n",
        "    output_df = input_df.copy()\n",
        "    output_df[\"phone\"] = output_df[\"collectionName\"] + \"_\" + output_df[\"phoneName\"]\n",
        "\n",
        "    output_df[\"dist_pre\"] = 0\n",
        "    output_df[\"dist_pro\"] = 0\n",
        "\n",
        "    output_df['latDeg_pre'] = output_df['latDeg'].shift(periods=1,fill_value=0)\n",
        "    output_df['lngDeg_pre'] = output_df['lngDeg'].shift(periods=1,fill_value=0)\n",
        "    output_df['latDeg_pro'] = output_df['latDeg'].shift(periods=-1,fill_value=0)\n",
        "    output_df['lngDeg_pro'] = output_df['lngDeg'].shift(periods=-1,fill_value=0)\n",
        "    output_df['dist_pre'] = calc_haversine(output_df.latDeg_pre, output_df.lngDeg_pre, output_df.latDeg, output_df.lngDeg)\n",
        "    output_df['dist_pro'] = calc_haversine(output_df.latDeg, output_df.lngDeg, output_df.latDeg_pro, output_df.lngDeg_pro)\n",
        "\n",
        "    list_phone = output_df['phone'].unique()\n",
        "    for phone in list_phone:\n",
        "        ind_s = output_df[train_base['phone'] == phone].index[0]\n",
        "        ind_e = output_df[train_base['phone'] == phone].index[-1]\n",
        "        output_df.loc[ind_s,'dist_pre'] = 0\n",
        "        output_df.loc[ind_e,'dist_pro'] = 0\n",
        "\n",
        "    pro_95 = output_df['dist_pro'].mean() + (output_df['dist_pro'].std() * 2)\n",
        "    pre_95 = output_df['dist_pre'].mean() + (output_df['dist_pre'].std() * 2)\n",
        "    ind = output_df[(output_df['dist_pro'] > pro_95)&(output_df['dist_pre'] > pre_95)][['dist_pre','dist_pro']].index\n",
        "\n",
        "    for i in ind:\n",
        "        output_df.loc[i,'latDeg'] = (output_df.loc[i-1,'latDeg'] + output_df.loc[i+1,'latDeg'])/2\n",
        "        output_df.loc[i,'lngDeg'] = (output_df.loc[i-1,'lngDeg'] + output_df.loc[i+1,'lngDeg'])/2\n",
        "\n",
        "    return output_df"
      ],
      "execution_count": 11,
      "outputs": []
    },
    {
      "cell_type": "code",
      "metadata": {
        "id": "oTy8xbi5Uect"
      },
      "source": [
        "def outlier(input_df):\n",
        "    output_df = input_df\n",
        "\n",
        "    output_df[\"dist_pre\"] = 0\n",
        "    output_df[\"dist_pro\"] = 0\n",
        "\n",
        "    output_df['latDeg_pre'] = output_df['latDeg'].shift(periods=1,fill_value=0)\n",
        "    output_df['lngDeg_pre'] = output_df['lngDeg'].shift(periods=1,fill_value=0)\n",
        "    output_df['latDeg_pro'] = output_df['latDeg'].shift(periods=-1,fill_value=0)\n",
        "    output_df['lngDeg_pro'] = output_df['lngDeg'].shift(periods=-1,fill_value=0)\n",
        "    output_df['dist_pre'] = calc_haversine(output_df.latDeg_pre, output_df.lngDeg_pre, output_df.latDeg, output_df.lngDeg)\n",
        "    output_df['dist_pro'] = calc_haversine(output_df.latDeg, output_df.lngDeg, output_df.latDeg_pro, output_df.lngDeg_pro)\n",
        "\n",
        "    list_phone = output_df['phone'].unique()\n",
        "    for phone in list_phone:\n",
        "        ind_s = output_df[test_base['phone'] == phone].index[0]\n",
        "        ind_e = output_df[test_base['phone'] == phone].index[-1]\n",
        "        output_df.loc[ind_s,'dist_pre'] = 0\n",
        "        output_df.loc[ind_e,'dist_pro'] = 0\n",
        "\n",
        "    pro_95 = output_df['dist_pro'].mean() + (output_df['dist_pro'].std() * 2)\n",
        "    pre_95 = output_df['dist_pre'].mean() + (output_df['dist_pre'].std() * 2)\n",
        "    ind = output_df[(output_df['dist_pro'] > pro_95)&(output_df['dist_pre'] > pre_95)][['dist_pre','dist_pro']].index\n",
        "\n",
        "    for i in ind:\n",
        "        output_df.loc[i,'latDeg'] = (output_df.loc[i-1,'latDeg'] + output_df.loc[i+1,'latDeg'])/2\n",
        "        output_df.loc[i,'lngDeg'] = (output_df.loc[i-1,'lngDeg'] + output_df.loc[i+1,'lngDeg'])/2\n",
        "\n",
        "    output_df[\"phoneName\"] = input_df[\"phoneName\"]\n",
        "    output_df[\"collectionName\"] = input_df[\"collectionName\"]\n",
        "    output_df[\"millisSinceGpsEpoch\"] = input_df[\"millisSinceGpsEpoch\"]\n",
        "\n",
        "    return output_df"
      ],
      "execution_count": 12,
      "outputs": []
    },
    {
      "cell_type": "markdown",
      "metadata": {
        "id": "yGPdVzBZOwgo"
      },
      "source": [
        "##phones mean "
      ]
    },
    {
      "cell_type": "code",
      "metadata": {
        "id": "yzdAQsfnTNyd"
      },
      "source": [
        "def add_distance_diff(df):\n",
        "    df['latDeg_pre'] = df['latDeg'].shift(1)\n",
        "    df['latDeg_pro'] = df['latDeg'].shift(-1)\n",
        "    df['lngDeg_pre'] = df['lngDeg'].shift(1)\n",
        "    df['lngDeg_pro'] = df['lngDeg'].shift(-1)\n",
        "    df['phone_pre'] = df['phone'].shift(1)\n",
        "    df['phone_pro'] = df['phone'].shift(-1)\n",
        "    \n",
        "    df['dist_pre'] = calc_haversine(df['latDeg'], df['lngDeg'], df['latDeg_pre'], df['lngDeg_pre'])\n",
        "    df['dist_pro'] = calc_haversine(df['latDeg'], df['lngDeg'], df['latDeg_pro'], df['lngDeg_pro'])\n",
        "        \n",
        "    df.loc[df['phone']!=df['phone_pre'], ['latDeg_pre', 'lngDeg_pre', 'dist_pre']] = np.nan\n",
        "    df.loc[df['phone']!=df['phone_pro'], ['latDeg_pro', 'lngDeg_pro', 'dist_pro']] = np.nan\n",
        "        \n",
        "    return df\n",
        "\n",
        "\n",
        "def make_lerp_data(input_df):\n",
        "    org_colus = input_df.columns\n",
        "\n",
        "    time_list = input_df[[\"collectionName\", \"millisSinceGpsEpoch\"]].drop_duplicates()\n",
        "    phone_list = input_df[[\"collectionName\", \"phoneName\"]].drop_duplicates()\n",
        "    tmp = time_list.merge(phone_list, on=\"collectionName\", how=\"outer\")\n",
        "\n",
        "    output_df = tmp.merge(input_df, on=[\"collectionName\", \"millisSinceGpsEpoch\", \"phoneName\"], how=\"left\")\n",
        "    output_df[\"phone\"] = output_df[\"collectionName\"] + \"_\" + output_df[\"phoneName\"]\n",
        "    output_df = output_df.sort_values([\"phone\", \"millisSinceGpsEpoch\"])\n",
        "\n",
        "    output_df[\"latDeg_pre\"] = output_df[\"latDeg\"].shift(1)\n",
        "    output_df[\"latDeg_pro\"] = output_df[\"latDeg\"].shift(-1)\n",
        "    output_df[\"lngDeg_pre\"] = output_df[\"lngDeg\"].shift(1)\n",
        "    output_df[\"lngDeg_pro\"] = output_df[\"lngDeg\"].shift(-1)\n",
        "    output_df[\"phone_pre\"] = output_df[\"phone\"].shift(1)\n",
        "    output_df[\"phone_pro\"] = output_df[\"phone\"].shift(-1)\n",
        "    output_df[\"millisSinceGpsEpoch_pre\"] = output_df[\"millisSinceGpsEpoch\"].shift(1)\n",
        "    output_df[\"millisSinceGpsEpoch_pro\"] = output_df[\"millisSinceGpsEpoch\"].shift(-1)\n",
        "\n",
        "    output_df = output_df[(output_df[\"latDeg\"].isnull())&(output_df[\"phone\"] == output_df[\"phone_pre\"])&\n",
        "                        (output_df[\"phone\"] == output_df[\"phone_pro\"])].copy()\n",
        "\n",
        "    #preとproの間を経過時間を考慮して算出\n",
        "    output_df[\"latDeg\"] = output_df[\"latDeg_pre\"] + ((output_df[\"latDeg_pro\"] - output_df[\"latDeg_pre\"]) * \n",
        "                                                    ((output_df[\"millisSinceGpsEpoch\"] - output_df[\"millisSinceGpsEpoch_pre\"]) /\n",
        "                                                    (output_df[\"millisSinceGpsEpoch_pro\"] - output_df[\"millisSinceGpsEpoch_pre\"])))\n",
        "    output_df[\"lngDeg\"] = output_df[\"lngDeg_pre\"] + ((output_df[\"lngDeg_pro\"] - output_df[\"lngDeg_pre\"]) * \n",
        "                                                    ((output_df[\"millisSinceGpsEpoch\"] - output_df[\"millisSinceGpsEpoch_pre\"]) /\n",
        "                                                    (output_df[\"millisSinceGpsEpoch_pro\"] - output_df[\"millisSinceGpsEpoch_pre\"])))\n",
        "        \n",
        "    output_df = output_df[~output_df['latDeg'].isnull()]\n",
        "\n",
        "    return output_df[org_colus]\n",
        "\n",
        "def calc_mean_pred(input_df, lerp_df):\n",
        "    input_df[\"phone\"] = input_df[\"collectionName\"] + \"_\" + input_df[\"phoneName\"]\n",
        "    add_lerp = pd.concat([input_df, lerp_df])\n",
        "    mean_pred_result = add_lerp.groupby([\"collectionName\", \"millisSinceGpsEpoch\"])[[\"latDeg\", \"lngDeg\"]].mean().reset_index()\n",
        "    output_df = input_df[[\"collectionName\", \"phoneName\", \"millisSinceGpsEpoch\"]].copy()\n",
        "    output_df = output_df.merge(mean_pred_result[[\"collectionName\", \"millisSinceGpsEpoch\", \"latDeg\", \"lngDeg\"]],\n",
        "                                    on=[\"collectionName\", \"millisSinceGpsEpoch\"], how=\"left\")\n",
        "    output_df[\"phone\"] = output_df[\"collectionName\"] + \"_\" + output_df[\"phoneName\"]\n",
        "    return output_df"
      ],
      "execution_count": 13,
      "outputs": []
    },
    {
      "cell_type": "code",
      "metadata": {
        "id": "irXr1lPUQ34y"
      },
      "source": [
        "def mean_prediction_train(input_df):\n",
        "    input_df[\"phone\"] = input_df[\"collectionName\"] + \"_\" + input_df[\"phoneName\"]\n",
        "\n",
        "    input_df_ = add_distance_diff(input_df)\n",
        "    th = 43\n",
        "    input_df_.loc[((input_df_['dist_pre'] > th) & (input_df_['dist_pro'] > th)), ['latDeg', 'lngDeg']] = np.nan\n",
        "    \n",
        "    lerp = make_lerp_data(input_df_)\n",
        "    mean_pred  = calc_mean_pred(input_df_, lerp)\n",
        "\n",
        "    output_df = kalman_filter(mean_pred)\n",
        "    output_df[\"t_latDeg\"] = input_df[\"t_latDeg\"].values\n",
        "    output_df[\"t_lngDeg\"] = input_df[\"t_lngDeg\"].values\n",
        "    \n",
        "    return output_df"
      ],
      "execution_count": 14,
      "outputs": []
    },
    {
      "cell_type": "code",
      "metadata": {
        "id": "GwOzGB9X_C64"
      },
      "source": [
        "def mean_prediction(input_df):\n",
        "    input_df_ = add_distance_diff(input_df)\n",
        "    th = 43\n",
        "    input_df_.loc[((input_df_['dist_pre'] > th) & (input_df_['dist_pro'] > th)), ['latDeg', 'lngDeg']] = np.nan\n",
        "\n",
        "    test_lerp = make_lerp_data(input_df_)\n",
        "    test_mean_pred  = calc_mean_pred(input_df_, test_lerp)\n",
        "\n",
        "    output_df = kalman_filter(test_mean_pred)    \n",
        "    \n",
        "    return output_df"
      ],
      "execution_count": 15,
      "outputs": []
    },
    {
      "cell_type": "markdown",
      "metadata": {
        "id": "96vx8HrPOweU"
      },
      "source": [
        "##remove device"
      ]
    },
    {
      "cell_type": "code",
      "metadata": {
        "id": "4ITFL1nHUTes"
      },
      "source": [
        "def get_removedevice(input_df: pd.DataFrame, divece: str) -> pd.DataFrame:\n",
        "    input_df['index'] = input_df.index\n",
        "    input_df = input_df.sort_values('millisSinceGpsEpoch')\n",
        "    input_df.index = input_df['millisSinceGpsEpoch'].values\n",
        "\n",
        "    output_df = pd.DataFrame() \n",
        "    for _, subdf in input_df.groupby('collectionName'):\n",
        "\n",
        "        phones = subdf['phoneName'].unique()\n",
        "\n",
        "        if (len(phones) == 1) or (not divece in phones):\n",
        "            output_df = pd.concat([output_df, subdf])\n",
        "            continue\n",
        "\n",
        "        origin_df = subdf.copy()\n",
        "            \n",
        "        _index = subdf['phoneName']==divece\n",
        "        subdf.loc[_index, 'latDeg'] = np.nan\n",
        "        subdf.loc[_index, 'lngDeg'] = np.nan\n",
        "        subdf = subdf.interpolate(method='index', limit_area='inside')\n",
        "\n",
        "        _index = subdf['latDeg'].isnull()\n",
        "        subdf.loc[_index, 'latDeg'] = origin_df.loc[_index, 'latDeg'].values\n",
        "        subdf.loc[_index, 'lngDeg'] = origin_df.loc[_index, 'lngDeg'].values\n",
        "\n",
        "        output_df = pd.concat([output_df, subdf])\n",
        "\n",
        "    output_df.index = output_df['index'].values\n",
        "    output_df = output_df.sort_index()\n",
        "\n",
        "    del output_df['index']\n",
        "        \n",
        "    return output_df"
      ],
      "execution_count": 16,
      "outputs": []
    },
    {
      "cell_type": "code",
      "metadata": {
        "id": "vUPaYaY5UK_Y"
      },
      "source": [
        "#remove_device\n",
        "def remove_device(input_df):\n",
        "\n",
        "    output_df = get_removedevice(input_df, 'SamsungS20Ultra')\n",
        "\n",
        "    return output_df"
      ],
      "execution_count": 17,
      "outputs": []
    },
    {
      "cell_type": "markdown",
      "metadata": {
        "id": "Vqzi0I_B2JTN"
      },
      "source": [
        "##remove device check score"
      ]
    },
    {
      "cell_type": "code",
      "metadata": {
        "id": "Xih9qdpW4ptO"
      },
      "source": [
        "def create_dataset_truth_train_for_remove_device(input_df, input_list):    \n",
        "    output_df = input_df.copy()\n",
        "    lat_list = []\n",
        "    lng_list = []\n",
        "    for collection in input_list:\n",
        "        collection_df = train_base[train_base[\"collectionName\"] == collection]\n",
        "        for phone in collection_df[\"phone\"].unique():\n",
        "            phone_df = collection_df[collection_df[\"phone\"] == phone]\n",
        "            phone_df[\"t_latDeg_pro\"] = phone_df[\"t_latDeg\"].shift(-1)\n",
        "            phone_df[\"t_lngDeg_pro\"] = phone_df[\"t_lngDeg\"].shift(-1)\n",
        "            for lat, lng, lat_pre, lng_pre in zip(\n",
        "                phone_df[\"t_latDeg\"].to_numpy(),\n",
        "                phone_df[\"t_lngDeg\"].to_numpy(),\n",
        "                phone_df[\"t_latDeg_pro\"].to_numpy(),\n",
        "                phone_df[\"t_lngDeg_pro\"].to_numpy()\n",
        "            ):\n",
        "                lat_list.append(lat)\n",
        "                lng_list.append(lng)\n",
        "                lat_mean = (lat + lat_pre)/2\n",
        "                lng_mean = (lng + lng_pre)/2\n",
        "                lat_list.append(lat_mean)\n",
        "                lng_list.append(lng_mean)\n",
        "\n",
        "    points_list = []\n",
        "    for lat, lng in zip(\n",
        "        lat_list,\n",
        "        lng_list\n",
        "    ):\n",
        "        points_list.append([lat, lng])\n",
        "\n",
        "    nearest_points_list = []\n",
        "    for lat, lng in zip(\n",
        "        output_df[\"latDeg\"].to_numpy(),\n",
        "        output_df[\"lngDeg\"].to_numpy()\n",
        "    ):\n",
        "        nearest_points_list.append(nearest_point(lat, lng, points_list))\n",
        "\n",
        "    nearest_points_df = pd.DataFrame(nearest_points_list)\n",
        "    output_df[\"latDeg_from_gt\"] = nearest_points_df[0].values\n",
        "    output_df[\"lngDeg_from_gt\"] = nearest_points_df[1].values\n",
        "    \n",
        "    return output_df\n"
      ],
      "execution_count": 79,
      "outputs": []
    },
    {
      "cell_type": "code",
      "metadata": {
        "id": "XTnpzBJq5YEq"
      },
      "source": [
        "def move_closer_truth_for_remove_device(input_df, train_list, test_list):\n",
        "    test_dfs = []\n",
        "    for collection in input_df[\"collectionName\"].unique():\n",
        "        if collection in test_list:\n",
        "            phones_dfs = []\n",
        "            collection_df = input_df[input_df[\"collectionName\"] == collection]\n",
        "            for phone in collection_df[\"phone\"].unique():\n",
        "                phone_df = collection_df[collection_df[\"phone\"] == phone]\n",
        "                phone_df = create_dataset_truth_train_for_remove_device(phone_df, train_list)\n",
        "                phones_dfs.append(phone_df)\n",
        "            collection_df = pd.concat(phones_dfs)\n",
        "            test_dfs.append(collection_df)\n",
        "        else:\n",
        "            test_dfs.append(input_df[input_df[\"collectionName\"] == collection])\n",
        "    output_df = pd.concat(test_dfs)\n",
        "\n",
        "    return output_df"
      ],
      "execution_count": 58,
      "outputs": []
    },
    {
      "cell_type": "code",
      "metadata": {
        "id": "CwYgTtuJ4rhv"
      },
      "source": [
        "train_area_1 = ['2020-05-14-US-MTV-1', '2020-05-14-US-MTV-2',\n",
        "                '2020-05-21-US-MTV-1', '2020-05-21-US-MTV-2',\n",
        "                '2020-06-04-US-MTV-1', '2020-07-08-US-MTV-1',\n",
        "                '2020-08-03-US-MTV-1', '2020-09-04-US-SF-1',\n",
        "                '2021-04-15-US-MTV-1']\n",
        "test_area_1 = ['2020-05-28-US-MTV-1', '2020-05-28-US-MTV-2',\n",
        "               '2020-06-04-US-MTV-2', '2020-06-10-US-MTV-1', \n",
        "               '2020-06-10-US-MTV-2', '2020-08-03-US-MTV-2']\n",
        "\n",
        "train_area_2 = ['2021-04-22-US-SJC-1', '2021-04-28-US-SJC-1', \n",
        "                '2021-04-29-US-SJC-2']\n",
        "test_area_2 = ['2021-04-22-US-SJC-2', '2021-04-29-US-SJC-3']\n",
        "\n",
        "train_area_3 = ['2021-04-28-US-SJC-1', '2021-04-29-US-MTV-1']\n",
        "test_area_3 = ['2021-03-16-US-RWC-2', '2021-04-21-US-MTV-1',\n",
        "               '2021-04-28-US-MTV-2', '2021-04-29-US-MTV-2']\n",
        "\n",
        "train_area_4 = ['2021-03-10-US-SVL-1', '2021-04-26-US-SVL-1']\n",
        "test_area_4 = ['2021-04-26-US-SVL-2']\n",
        "\n",
        "train_area_5 = ['2020-06-05-US-MTV-2', '2020-08-06-US-MTV-2', \n",
        "                '2020-09-04-US-SF-2', '2021-01-04-US-RWC-1', \n",
        "                '2021-01-04-US-RWC-2']\n",
        "test_area_5 = ['2020-05-15-US-MTV-1', '2020-08-13-US-MTV-1',\n",
        "               '2021-03-16-US-MTV-2']"
      ],
      "execution_count": 59,
      "outputs": []
    },
    {
      "cell_type": "code",
      "metadata": {
        "id": "jos-NCo92RdB"
      },
      "source": [
        "def score_for_remove_device(input_df: pd.DataFrame) -> pd.DataFrame:\n",
        "    output_df = input_df.copy()\n",
        "    \n",
        "    output_df['meter'] = input_df.apply(\n",
        "        lambda r: calc_haversine(\n",
        "            r.latDeg, r.lngDeg, r.latDeg_from_gt, r.lngDeg_from_gt\n",
        "        ),\n",
        "        axis=1\n",
        "    )\n",
        "\n",
        "    meter_score = output_df['meter'].mean()\n",
        "\n",
        "    scores = []\n",
        "    for phone in output_df['phone'].unique():\n",
        "        _index = output_df['phone']==phone\n",
        "        p_50 = np.percentile(output_df.loc[_index, 'meter'], 50)\n",
        "        p_95 = np.percentile(output_df.loc[_index, 'meter'], 95)\n",
        "        scores.append(p_50)\n",
        "        scores.append(p_95)\n",
        "\n",
        "    score = sum(scores) / len(scores)\n",
        "    \n",
        "    return meter_score"
      ],
      "execution_count": 81,
      "outputs": []
    },
    {
      "cell_type": "code",
      "metadata": {
        "id": "gEJHP3sH3E55"
      },
      "source": [
        "def get_remove_list(input_df):\n",
        "    no_train_list = [\"2021-03-25-US-PAO-1\", \"2021-04-02-US-SJC-1\", \"2021-04-08-US-MTV-1\"]\n",
        "    remove_list = []\n",
        "    for collection in input_df[\"collectionName\"].unique():\n",
        "        if collection in no_train_list:\n",
        "            remove_list.append(\"SamsungS20Ultra\")\n",
        "        else:\n",
        "            collection_df = input_df[input_df[\"collectionName\"] == collection]\n",
        "            phone_list = collection_df[\"phoneName\"].unique()\n",
        "            score_list = []\n",
        "            if len(phone_list) == 1:\n",
        "                remove_list.append(\"dont_remove\")\n",
        "            else:\n",
        "                for phone in phone_list:\n",
        "                    phone_df = collection_df[collection_df[\"phoneName\"] == phone]\n",
        "                    score = score_for_remove_device(phone_df)\n",
        "                    score_list.append(score)\n",
        "\n",
        "                worst_score = sorted(score_list)[-1]\n",
        "                remove_idx = score_list.index(worst_score)\n",
        "                print(phone_list[remove_idx])\n",
        "                remove_list.append(phone_list[remove_idx])\n",
        "    return remove_list"
      ],
      "execution_count": 82,
      "outputs": []
    },
    {
      "cell_type": "code",
      "metadata": {
        "id": "9RJKRd-r3E3S"
      },
      "source": [
        "def remove_device_by_score(input_df):\n",
        "    input_df_ = move_closer_truth_for_remove_device(input_df, train_area_1, test_area_1)\n",
        "    input_df_ = move_closer_truth_for_remove_device(input_df_, train_area_2, test_area_2)\n",
        "    input_df_ = move_closer_truth_for_remove_device(input_df_, train_area_3, test_area_3)\n",
        "    input_df_ = move_closer_truth_for_remove_device(input_df_, train_area_4, test_area_4)\n",
        "    input_df_ = move_closer_truth_for_remove_device(input_df_, train_area_5, test_area_5)\n",
        "    display(input_df_)\n",
        "    remove_list = get_remove_list(input_df_)\n",
        "    dfs = []\n",
        "    for collection, remove_phone in zip(input_df_[\"collectionName\"].unique(), remove_list):\n",
        "        collection_df = input_df_[input_df_[\"collectionName\"] == collection]\n",
        "        if remove_phone == \"dont_remove\":\n",
        "            dfs.append(collection_df)\n",
        "        else:\n",
        "            removed_df = get_removedevice(collection_df, remove_phone)\n",
        "            dfs.append(removed_df)\n",
        "    output_df = pd.concat(dfs)\n",
        "    return output_df"
      ],
      "execution_count": 77,
      "outputs": []
    },
    {
      "cell_type": "markdown",
      "metadata": {
        "id": "CnELqZfmOwbr"
      },
      "source": [
        "##position shift"
      ]
    },
    {
      "cell_type": "code",
      "metadata": {
        "id": "vp0zDy5YUnn8"
      },
      "source": [
        "def position_shift_train(input_df):\n",
        "    sub_cols = sub.columns\n",
        "\n",
        "    train_p_s = pd.read_csv(dir / \"baseline_locations_train.csv\")\n",
        "    train_b = train_p_s[sub_cols]\n",
        "    test_b = test_base[sub_cols]\n",
        "\n",
        "    msge = \"millisSinceGpsEpoch\"\n",
        "\n",
        "    testdir = dir / 'test'\n",
        "    traindir = dir / 'train'\n",
        "\n",
        "    g_t = pd.DataFrame()\n",
        "    for d in os.listdir(traindir):\n",
        "        for p in os.listdir(traindir/d):\n",
        "            g_t = g_t.append(pd.read_csv(traindir/d/p/'ground_truth.csv'))\n",
        "\n",
        "    g_t[\"phone\"] = g_t[\"collectionName\"] + \"_\" + g_t[\"phoneName\"]\n",
        "    g_t_sub_cols = g_t[sub_cols]\n",
        "\n",
        "    transformer = pyproj.Transformer.from_crs(\n",
        "        {\"proj\":'geocent', \"ellps\":'WGS84', \"datum\":'WGS84'},\n",
        "        {\"proj\":'latlong', \"ellps\":'WGS84', \"datum\":'WGS84'},)\n",
        "    \n",
        "    def compute_dist(fname_1, fname_2):\n",
        "        oof = fname_1\n",
        "        g_t = fname_2\n",
        "        df = oof.merge(g_t, on=[\"phone\", \"millisSinceGpsEpoch\"])\n",
        "        dist_oof = calc_haversine(df.latDeg_x, df.lngDeg_x, df.latDeg_y, df.lngDeg_y)\n",
        "        scores = pd.DataFrame({\"phone\":df.phone, \"dist\":dist_oof})\n",
        "        scores_grp = scores.groupby(\"phone\")\n",
        "        d_50 = scores_grp.quantile(.50).reset_index()\n",
        "        d_50.columns = [\"phone\", \"q_50\"]\n",
        "        d_95 = scores_grp.quantile(.95).reset_index()\n",
        "        d_95.columns = [\"phone\", \"q_95\"]\n",
        "        return (scores_grp.quantile(.50).mean() + scores_grp.quantile(.95).mean()) / 2, d_50.merge(d_95)\n",
        "\n",
        "\n",
        "    def WGS84_to_ECEF(lat, lng, alt):\n",
        "        rad_lat = lat * (np.pi / 180.0)\n",
        "        rad_lng = lng * (np.pi / 180.0)\n",
        "        a = 6378137.0\n",
        "        finv = 298.257223563\n",
        "        f = 1 / finv   \n",
        "        e2 = 1 - (1 - f) * (1 - f)    \n",
        "        N = a / np.sqrt(1 - e2 * np.sin(rad_lat) * np.sin(rad_lat))\n",
        "        x = (N + alt) * np.cos(rad_lat) * np.cos(rad_lng)\n",
        "        y = (N + alt) * np.cos(rad_lat) * np.sin(rad_lng)\n",
        "        z = (N * (1 - e2) + alt)        * np.sin(rad_lat)\n",
        "        return x, y, z    \n",
        "\n",
        "\n",
        "    def ECEF_to_WGS84(x, y, z):\n",
        "        lng, lat, alt = transformer.transform(x, y, z, radians=False)\n",
        "        return lng, lat, alt\n",
        "\n",
        "    \n",
        "    def position_shift_(input_df, a):\n",
        "        output_df = input_df.copy()\n",
        "        output_df[\"heightAboveWgs84EllipsoidM\"] = 63.5\n",
        "        output_df[\"x\"], output_df[\"y\"], output_df[\"z\"] = zip(\n",
        "            *output_df.apply(lambda x: WGS84_to_ECEF(x.latDeg, x.lngDeg, \n",
        "                                                    x.heightAboveWgs84EllipsoidM), \n",
        "                            axis=1)\n",
        "\n",
        "        )\n",
        "        output_df.sort_values([\"phone\", msge], inplace=True)\n",
        "        for fi in [\"x\", \"y\", \"z\"]:\n",
        "            output_df[[fi + \"_p\"]] = output_df[fi].shift().where(output_df[\"phone\"].eq(output_df[\"phone\"].shift()))\n",
        "            output_df[[fi + \"_diff\"]] = output_df[fi] - output_df[fi + \"_p\"]\n",
        "\n",
        "        output_df[[\"dist\"]] = np.sqrt(output_df[\"x_diff\"]**2 + output_df[\"y_diff\"]**2 + output_df[\"z_diff\"]**2)\n",
        "        for fi in [\"x\", \"y\", \"z\"]:\n",
        "            output_df[[fi + \"_new\"]] = output_df[fi + \"_p\"] + output_df[fi + \"_diff\"] * (1 - a/output_df[\"dist\"])\n",
        "        lng, lat, alt = ECEF_to_WGS84(output_df[\"x_new\"].values, output_df[\"y_new\"].values, output_df[\"z_new\"].values)\n",
        "\n",
        "        lat[np.isnan(lat)] = output_df.loc[np.isnan(lat), \"latDeg\"]\n",
        "        lng[np.isnan(lng)] = output_df.loc[np.isnan(lng), \"lngDeg\"]\n",
        "        output_df[\"latDeg\"] = lat\n",
        "        output_df[\"lngDeg\"] = lng\n",
        "\n",
        "        output_df.sort_values([\"phone\", msge], inplace=True)\n",
        "\n",
        "        return output_df[sub_cols]\n",
        "\n",
        "    \n",
        "    def objective(trial):\n",
        "        a = trial.suggest_uniform(\"a\", -1, 1)\n",
        "        score, scores = compute_dist(position_shift_(train_b, a), g_t)\n",
        "        return score\n",
        "\n",
        "    study = optuna.create_study()\n",
        "    study.optimize(objective, n_trials=30)\n",
        "\n",
        "    output_df = position_shift_(input_df, a=study.best_params[\"a\"])\n",
        "\n",
        "    output_df[\"phoneName\"] = input_df[\"phoneName\"]\n",
        "    output_df[\"collectionName\"] = input_df[\"collectionName\"]\n",
        "    output_df[\"millisSinceGpsEpoch\"] = input_df[\"millisSinceGpsEpoch\"]\n",
        "    output_df[\"t_latDeg\"] = input_df[\"t_latDeg\"]\n",
        "    output_df[\"t_lngDeg\"] = input_df[\"t_lngDeg\"]\n",
        "\n",
        "    return output_df"
      ],
      "execution_count": 24,
      "outputs": []
    },
    {
      "cell_type": "code",
      "metadata": {
        "id": "dB5IrAVe_dLE"
      },
      "source": [
        "def position_shift(input_df):\n",
        "    sub_cols = sub.columns\n",
        "\n",
        "    train_p_s = pd.read_csv(dir / \"baseline_locations_train.csv\")\n",
        "    train_b = train_p_s[sub_cols]\n",
        "    test_b = test_base[sub_cols]\n",
        "\n",
        "    msge = \"millisSinceGpsEpoch\"\n",
        "\n",
        "    testdir = dir / 'test'\n",
        "    traindir = dir / 'train'\n",
        "\n",
        "    g_t = pd.DataFrame()\n",
        "    for d in os.listdir(traindir):\n",
        "        for p in os.listdir(traindir/d):\n",
        "            g_t = g_t.append(pd.read_csv(traindir/d/p/'ground_truth.csv'))\n",
        "\n",
        "    g_t[\"phone\"] = g_t[\"collectionName\"] + \"_\" + g_t[\"phoneName\"]\n",
        "    g_t_sub_cols = g_t[sub_cols]\n",
        "\n",
        "    transformer = pyproj.Transformer.from_crs(\n",
        "        {\"proj\":'geocent', \"ellps\":'WGS84', \"datum\":'WGS84'},\n",
        "        {\"proj\":'latlong', \"ellps\":'WGS84', \"datum\":'WGS84'},)\n",
        "    \n",
        "    def compute_dist(fname_1, fname_2):\n",
        "        oof = fname_1\n",
        "        g_t = fname_2\n",
        "        df = oof.merge(g_t, on=[\"phone\", \"millisSinceGpsEpoch\"])\n",
        "        dist_oof = calc_haversine(df.latDeg_x, df.lngDeg_x, df.latDeg_y, df.lngDeg_y)\n",
        "        scores = pd.DataFrame({\"phone\":df.phone, \"dist\":dist_oof})\n",
        "        scores_grp = scores.groupby(\"phone\")\n",
        "        d_50 = scores_grp.quantile(.50).reset_index()\n",
        "        d_50.columns = [\"phone\", \"q_50\"]\n",
        "        d_95 = scores_grp.quantile(.95).reset_index()\n",
        "        d_95.columns = [\"phone\", \"q_95\"]\n",
        "        return (scores_grp.quantile(.50).mean() + scores_grp.quantile(.95).mean()) / 2, d_50.merge(d_95)\n",
        "\n",
        "\n",
        "    def WGS84_to_ECEF(lat, lng, alt):\n",
        "        rad_lat = lat * (np.pi / 180.0)\n",
        "        rad_lng = lng * (np.pi / 180.0)\n",
        "        a = 6378137.0\n",
        "        finv = 298.257223563\n",
        "        f = 1 / finv   \n",
        "        e2 = 1 - (1 - f) * (1 - f)    \n",
        "        N = a / np.sqrt(1 - e2 * np.sin(rad_lat) * np.sin(rad_lat))\n",
        "        x = (N + alt) * np.cos(rad_lat) * np.cos(rad_lng)\n",
        "        y = (N + alt) * np.cos(rad_lat) * np.sin(rad_lng)\n",
        "        z = (N * (1 - e2) + alt)        * np.sin(rad_lat)\n",
        "        return x, y, z    \n",
        "\n",
        "\n",
        "    def ECEF_to_WGS84(x, y, z):\n",
        "        lng, lat, alt = transformer.transform(x, y, z, radians=False)\n",
        "        return lng, lat, alt\n",
        "\n",
        "    \n",
        "    def position_shift_(input_df, a):\n",
        "        output_df = input_df.copy()\n",
        "        output_df[\"heightAboveWgs84EllipsoidM\"] = 63.5\n",
        "        output_df[\"x\"], output_df[\"y\"], output_df[\"z\"] = zip(\n",
        "            *output_df.apply(lambda x: WGS84_to_ECEF(x.latDeg, x.lngDeg, \n",
        "                                                    x.heightAboveWgs84EllipsoidM), \n",
        "                            axis=1)\n",
        "\n",
        "        )\n",
        "        output_df.sort_values([\"phone\", msge], inplace=True)\n",
        "        for fi in [\"x\", \"y\", \"z\"]:\n",
        "            output_df[[fi + \"_p\"]] = output_df[fi].shift().where(output_df[\"phone\"].eq(output_df[\"phone\"].shift()))\n",
        "            output_df[[fi + \"_diff\"]] = output_df[fi] - output_df[fi + \"_p\"]\n",
        "\n",
        "        output_df[[\"dist\"]] = np.sqrt(output_df[\"x_diff\"]**2 + output_df[\"y_diff\"]**2 + output_df[\"z_diff\"]**2)\n",
        "        for fi in [\"x\", \"y\", \"z\"]:\n",
        "            output_df[[fi + \"_new\"]] = output_df[fi + \"_p\"] + output_df[fi + \"_diff\"] * (1 - a/output_df[\"dist\"])\n",
        "        lng, lat, alt = ECEF_to_WGS84(output_df[\"x_new\"].values, output_df[\"y_new\"].values, output_df[\"z_new\"].values)\n",
        "\n",
        "        lat[np.isnan(lat)] = output_df.loc[np.isnan(lat), \"latDeg\"]\n",
        "        lng[np.isnan(lng)] = output_df.loc[np.isnan(lng), \"lngDeg\"]\n",
        "        output_df[\"latDeg\"] = lat\n",
        "        output_df[\"lngDeg\"] = lng\n",
        "\n",
        "        output_df.sort_values([\"phone\", msge], inplace=True)\n",
        "\n",
        "        return output_df[sub_cols]\n",
        "\n",
        "    \n",
        "    def objective(trial):\n",
        "        a = trial.suggest_uniform(\"a\", -1, 1)\n",
        "        score, scores = compute_dist(position_shift_(train_b, a), g_t)\n",
        "        return score\n",
        "\n",
        "    study = optuna.create_study()\n",
        "    study.optimize(objective, n_trials=30)\n",
        "\n",
        "    output_df = position_shift_(input_df, a=study.best_params[\"a\"])\n",
        "\n",
        "    output_df[\"phoneName\"] = input_df[\"phoneName\"]\n",
        "    output_df[\"collectionName\"] = input_df[\"collectionName\"]\n",
        "    output_df[\"millisSinceGpsEpoch\"] = input_df[\"millisSinceGpsEpoch\"]\n",
        "\n",
        "    return output_df"
      ],
      "execution_count": 25,
      "outputs": []
    },
    {
      "cell_type": "markdown",
      "metadata": {
        "id": "N-kSEd_epofF"
      },
      "source": [
        "##adaptive_gauss+phone_mean"
      ]
    },
    {
      "cell_type": "code",
      "metadata": {
        "id": "PyY66-Iuppbc"
      },
      "source": [
        "def apply_gauss_smoothing(df, params):\n",
        "    SZ_1 = params['sz_1']\n",
        "    SZ_2 = params['sz_2']\n",
        "    SZ_CRIT = params['sz_crit']    \n",
        "    \n",
        "    unique_paths = df[['collectionName', 'phoneName']].drop_duplicates().to_numpy()\n",
        "    for collection, phone in unique_paths:\n",
        "        cond = np.logical_and(df['collectionName'] == collection, df['phoneName'] == phone)\n",
        "        data = df[cond][['latDeg', 'lngDeg']].to_numpy()\n",
        "                \n",
        "        lat_g1 = gaussian_filter1d(data[:, 0], np.sqrt(SZ_1))\n",
        "        lon_g1 = gaussian_filter1d(data[:, 1], np.sqrt(SZ_1))\n",
        "        lat_g2 = gaussian_filter1d(data[:, 0], np.sqrt(SZ_2))\n",
        "        lon_g2 = gaussian_filter1d(data[:, 1], np.sqrt(SZ_2))\n",
        "\n",
        "        lat_dif = data[1:,0] - data[:-1,0]\n",
        "        lon_dif = data[1:,1] - data[:-1,1]\n",
        "\n",
        "        lat_crit = np.append(np.abs(gaussian_filter1d(lat_dif, np.sqrt(SZ_CRIT)) / (1e-9 + gaussian_filter1d(np.abs(lat_dif), np.sqrt(SZ_CRIT)))),[0])\n",
        "        lon_crit = np.append(np.abs(gaussian_filter1d(lon_dif, np.sqrt(SZ_CRIT)) / (1e-9 + gaussian_filter1d(np.abs(lon_dif), np.sqrt(SZ_CRIT)))),[0])           \n",
        "            \n",
        "        df.loc[cond, 'latDeg'] = lat_g1 * lat_crit + lat_g2 * (1.0 - lat_crit)\n",
        "        df.loc[cond, 'lngDeg'] = lon_g1 * lon_crit + lon_g2 * (1.0 - lon_crit)    \n",
        "                       \n",
        "    return df"
      ],
      "execution_count": 26,
      "outputs": []
    },
    {
      "cell_type": "code",
      "metadata": {
        "id": "w4FRuxbyppYo"
      },
      "source": [
        "def mean_with_other_phones(df):\n",
        "    collections_list = df[['collectionName']].drop_duplicates().to_numpy()\n",
        "\n",
        "    for collection in collections_list:\n",
        "        phone_list = df[df['collectionName'].to_list() == collection][['phoneName']].drop_duplicates().to_numpy()\n",
        "\n",
        "        phone_data = {}\n",
        "        corrections = {}\n",
        "        for phone in phone_list:\n",
        "            cond = np.logical_and(df['collectionName'] == collection[0], df['phoneName'] == phone[0]).to_list()\n",
        "            phone_data[phone[0]] = df[cond][['millisSinceGpsEpoch', 'latDeg', 'lngDeg']].to_numpy()\n",
        "\n",
        "        for current in phone_data:\n",
        "            correction = np.ones(phone_data[current].shape, dtype=np.float)\n",
        "            correction[:,1:] = phone_data[current][:,1:]\n",
        "            \n",
        "            # Telephones data don't complitely match by time, so - interpolate.\n",
        "            for other in phone_data:\n",
        "                if other == current:\n",
        "                    continue\n",
        "\n",
        "                loc = interp1d(phone_data[other][:,0], \n",
        "                               phone_data[other][:,1:], \n",
        "                               axis=0, \n",
        "                               kind='linear', \n",
        "                               copy=False, \n",
        "                               bounds_error=None, \n",
        "                               fill_value='extrapolate', \n",
        "                               assume_sorted=True)\n",
        "                \n",
        "                start_idx = 0\n",
        "                stop_idx = 0\n",
        "                for idx, val in enumerate(phone_data[current][:,0]):\n",
        "                    if val < phone_data[other][0,0]:\n",
        "                        start_idx = idx\n",
        "                    if val < phone_data[other][-1,0]:\n",
        "                        stop_idx = idx\n",
        "\n",
        "                if stop_idx - start_idx > 0:\n",
        "                    correction[start_idx:stop_idx,0] += 1\n",
        "                    correction[start_idx:stop_idx,1:] += loc(phone_data[current][start_idx:stop_idx,0])                    \n",
        "\n",
        "            correction[:,1] /= correction[:,0]\n",
        "            correction[:,2] /= correction[:,0]\n",
        "            \n",
        "            corrections[current] = correction.copy()\n",
        "        \n",
        "        for phone in phone_list:\n",
        "            cond = np.logical_and(df['collectionName'] == collection[0], df['phoneName'] == phone[0]).to_list()\n",
        "            \n",
        "            df.loc[cond, ['latDeg', 'lngDeg']] = corrections[phone[0]][:,1:]            \n",
        "            \n",
        "    return df"
      ],
      "execution_count": 27,
      "outputs": []
    },
    {
      "cell_type": "code",
      "metadata": {
        "id": "VkTeRkC1ppWI"
      },
      "source": [
        "def gauss_filter(input_df):\n",
        "    input_df_ = input_df.copy()\n",
        "    output_df = mean_with_other_phones(\n",
        "        apply_gauss_smoothing(input_df_, {'sz_1' : 0.85, 'sz_2' : 5.65, 'sz_crit' : 1.5})\n",
        "    )\n",
        "    return output_df"
      ],
      "execution_count": 28,
      "outputs": []
    },
    {
      "cell_type": "markdown",
      "metadata": {
        "id": "XOJ-khTwOwZX"
      },
      "source": [
        "##kalman filter"
      ]
    },
    {
      "cell_type": "code",
      "metadata": {
        "id": "4zGR-BYMXLJN"
      },
      "source": [
        "def apply_kf_smoothing(input_df, kf_):\n",
        "    output_df = input_df.copy()\n",
        "    unique_paths = output_df[['collectionName', 'phoneName']].drop_duplicates().to_numpy()\n",
        "    for collection, phone in tqdm(unique_paths):\n",
        "        cond = np.logical_and(output_df['collectionName'] == collection, output_df['phoneName'] == phone)\n",
        "        data = output_df[cond][['latDeg', 'lngDeg']].to_numpy()\n",
        "        data = data.reshape(1, len(data), 2)\n",
        "        smoothed = kf_.smooth(data)\n",
        "        output_df.loc[cond, 'latDeg'] = smoothed.states.mean[0, :, 0]\n",
        "        output_df.loc[cond, 'lngDeg'] = smoothed.states.mean[0, :, 1]\n",
        "    return output_df\n"
      ],
      "execution_count": 29,
      "outputs": []
    },
    {
      "cell_type": "code",
      "metadata": {
        "id": "M2swWoDqXIKt"
      },
      "source": [
        "def kalman_filter(input_df):\n",
        "    T = 1.0\n",
        "    state_transition = np.array([[1, 0, T, 0, 0.5 * T ** 2, 0], [0, 1, 0, T, 0, 0.5 * T ** 2], [0, 0, 1, 0, T, 0],\n",
        "                                [0, 0, 0, 1, 0, T], [0, 0, 0, 0, 1, 0], [0, 0, 0, 0, 0, 1]])\n",
        "    process_noise = np.diag([1e-5, 1e-5, 5e-6, 5e-6, 1e-6, 1e-6]) + np.ones((6, 6)) * 1e-9\n",
        "    observation_model = np.array([[1, 0, 0, 0, 0, 0], [0, 1, 0, 0, 0, 0]])\n",
        "    observation_noise = np.diag([3e-5, 3e-5]) + np.ones((2, 2)) * 1e-9\n",
        "\n",
        "    kf = simdkalman.KalmanFilter(\n",
        "            state_transition = state_transition,\n",
        "            process_noise = process_noise,\n",
        "            observation_model = observation_model,\n",
        "            observation_noise = observation_noise)\n",
        "    \n",
        "    output_df = apply_kf_smoothing(input_df, kf)\n",
        "\n",
        "    return output_df\n"
      ],
      "execution_count": 30,
      "outputs": []
    },
    {
      "cell_type": "markdown",
      "metadata": {
        "id": "1a-6kKK2OwW1"
      },
      "source": [
        "##move closer center SJC"
      ]
    },
    {
      "cell_type": "code",
      "metadata": {
        "id": "MKcb5LGGXyBS"
      },
      "source": [
        "def nearest_point(x, y, points):\n",
        "    result = {}\n",
        "    if len(points) == 0:\n",
        "        return result\n",
        "    result[0] = points[0][0]\n",
        "    result[1] = points[0][1]\n",
        "    stdval = math.sqrt((points[0][0] - x) ** 2 + (points[0][1] - y) ** 2)\n",
        "    for point in points:\n",
        "        distance = math.sqrt((point[0] - x) ** 2 + (point[1] - y) ** 2)\n",
        "        if stdval > distance:\n",
        "            result[0] = point[0]\n",
        "            result[1] = point[1]\n",
        "            stdval = distance\n",
        "    return [result[0], result[1]]"
      ],
      "execution_count": 31,
      "outputs": []
    },
    {
      "cell_type": "code",
      "metadata": {
        "id": "A88CjUQ2Y4E5"
      },
      "source": [
        "def create_dataset_center(input_df):\n",
        "    output_df = input_df.copy()\n",
        "    collection_list = output_df[\"collectionName\"].unique()\n",
        "\n",
        "    line_points_dfs = []\n",
        "    c = 1\n",
        "    for collection in collection_list:\n",
        "        print(f\"now : {c}/{len(collection_list)}\")\n",
        "        c += 1\n",
        "        print(collection)\n",
        "        target_df = output_df[output_df[\"collectionName\"] == collection].reset_index(drop=True)\n",
        "        target_df[\"geometry\"] = [Point(p) for p in target_df[[\"lngDeg\", \"latDeg\"]].to_numpy()]\n",
        "        target_gdf = gpd.GeoDataFrame(target_df, geometry=target_df[\"geometry\"])\n",
        "\n",
        "        offset = 0.1**5\n",
        "        bbox = target_gdf.bounds + [-(offset+0.01), -(offset+0.01), offset+0.01, offset+0.01]\n",
        "        east = bbox[\"minx\"].min()\n",
        "        west = bbox[\"maxx\"].max()\n",
        "        south = bbox[\"miny\"].min()\n",
        "        north = bbox[\"maxy\"].max()\n",
        "        G = ox.graph.graph_from_bbox(north, south, east, west, network_type='drive')\n",
        "\n",
        "        nodes, edges = momepy.nx_to_gdf(G)\n",
        "        \n",
        "        edges = edges.dropna(subset=[\"geometry\"]).reset_index(drop=True)\n",
        "        hits = bbox.apply(lambda row: list(edges.sindex.intersection(row)), axis=1)\n",
        "        tmp = pd.DataFrame({\n",
        "            \"pt_idx\": np.repeat(hits.index, hits.apply(len)),\n",
        "            \"line_i\": np.concatenate(hits.values)\n",
        "        })\n",
        "        tmp = tmp.join(edges.reset_index(drop=True), on=\"line_i\")\n",
        "        tmp = tmp.join(target_gdf.geometry.rename(\"point\"), on=\"pt_idx\")\n",
        "        tmp = gpd.GeoDataFrame(tmp, geometry=\"geometry\", crs=target_gdf.crs)\n",
        "\n",
        "        tmp[\"snap_dist\"] = tmp.geometry.distance(gpd.GeoSeries(tmp.point))\n",
        "\n",
        "        tolerance = 0.0005  \n",
        "        tmp = tmp.loc[tmp.snap_dist <= tolerance]\n",
        "        tmp = tmp.sort_values(by=[\"snap_dist\"])\n",
        "\n",
        "        closest = tmp.groupby(\"pt_idx\").first()\n",
        "        closest = gpd.GeoDataFrame(closest, geometry=\"geometry\")\n",
        "        closest = closest.drop_duplicates(\"line_i\").reset_index(drop=True)\n",
        "\n",
        "        line_points_list = []\n",
        "        split = 200  # param: number of split in each LineString\n",
        "        for dist in range(0, split, 1):\n",
        "            dist = dist/split\n",
        "            line_points = closest[\"geometry\"].interpolate(dist, normalized=True)\n",
        "            line_points_list.append(line_points)\n",
        "        line_points = pd.concat(line_points_list).reset_index(drop=True)\n",
        "        line_points = line_points.reset_index().rename(columns={0:\"geometry\"})\n",
        "        line_points[\"lngDeg\"] = line_points[\"geometry\"].x\n",
        "        line_points[\"latDeg\"] = line_points[\"geometry\"].y\n",
        "        \n",
        "        line_points_ = line_points.loc[:, [\"lngDeg\", \"latDeg\"]]\n",
        "        line_points_dfs.append(line_points_)\n",
        "\n",
        "    line_points_df = pd.concat(line_points_dfs)\n",
        "    line_points_list = sorted(line_points_df.values.tolist())\n",
        "    \n",
        "    print(len(line_points_list))\n",
        "\n",
        "    nearest_point_list = []\n",
        "    \n",
        "    for lng, lat in zip(\n",
        "        output_df[\"lngDeg\"].to_numpy(),\n",
        "        output_df[\"latDeg\"].to_numpy()\n",
        "    ):\n",
        "        nearest_point_list.append(nearest_point(lng, lat, line_points_list))\n",
        "        \n",
        "    nearest_point_df = pd.DataFrame(nearest_point_list)\n",
        "    output_df[\"latDeg_center\"] = nearest_point_df[1].values\n",
        "    output_df[\"lngDeg_center\"] = nearest_point_df[0].values\n",
        "    \n",
        "    \n",
        "        \n",
        "    output_df[\"latDeg_center_pre\"] = output_df[\"latDeg_center\"].shift(1)\n",
        "    output_df[\"lngDeg_center_pre\"] = output_df[\"lngDeg_center\"].shift(1)\n",
        "\n",
        "    output_df['meter'] = output_df.apply(\n",
        "            lambda r: calc_haversine(\n",
        "                r.latDeg, r.lngDeg, r.latDeg_center, r.lngDeg_center\n",
        "            ),\n",
        "            axis=1\n",
        "        )\n",
        "    \n",
        "    rl_list = []\n",
        "    #for collection in output_df[\"collectionName\"].unique():\n",
        "        #for phone in output_df[\"phoneName\"].unique():\n",
        "            #phone_df = output_df[output_df[\"phone\"] == f\"{collection}_{phone}\"]\n",
        "    for lat, lng, lat_c, lng_c, lat_c_pre, lng_c_pre in zip(\n",
        "                output_df[\"latDeg\"].to_numpy(),\n",
        "                output_df[\"lngDeg\"].to_numpy(),\n",
        "                output_df[\"latDeg_center\"].to_numpy(),\n",
        "                output_df[\"lngDeg_center\"].to_numpy(),\n",
        "                output_df[\"latDeg_center_pre\"].to_numpy(),\n",
        "                output_df[\"lngDeg_center_pre\"].to_numpy()\n",
        "            ):\n",
        "                base_vec = np.array([lat-lat_c_pre, lng-lng_c_pre])\n",
        "                center_vec = np.array([lat_c-lat_c_pre, lng_c-lng_c_pre])\n",
        "                r_or_l = np.cross(base_vec,center_vec)\n",
        "                if r_or_l > 0:\n",
        "                    rl_list.append(\"Right\")\n",
        "                else:\n",
        "                    rl_list.append(\"Left\")\n",
        "    output_df[\"Right_or_left\"] = rl_list\n",
        "    \n",
        "    return output_df"
      ],
      "execution_count": 32,
      "outputs": []
    },
    {
      "cell_type": "code",
      "metadata": {
        "id": "e_HYZMxfahpe"
      },
      "source": [
        "def check_meter_from_center(input_df):\n",
        "        output_df = input_df.copy()\n",
        "        lat_list = []\n",
        "        lng_list = []\n",
        "        for lat, lng, lat_c, lng_c, meter, rl in zip(\n",
        "            output_df[\"latDeg\"].to_numpy(),\n",
        "            output_df[\"lngDeg\"].to_numpy(),\n",
        "            output_df[\"latDeg_center\"].to_numpy(),\n",
        "            output_df[\"lngDeg_center\"].to_numpy(),\n",
        "            output_df[\"meter\"].to_numpy(),\n",
        "            output_df[\"Right_or_left\"].values\n",
        "        ):\n",
        "            if rl == \"Left\":\n",
        "                lat = lat_c\n",
        "                lng = lng_c\n",
        "                lat_list.append(lat)\n",
        "                lng_list.append(lng)\n",
        "            else:\n",
        "                if meter > 30:\n",
        "                    lat = lat\n",
        "                    lng = lng\n",
        "                elif meter > 10:\n",
        "                    lat = ((((lat + lat_c)/2 + lat_c)/2 + lat_c)/2 + lat_c)/2\n",
        "                    lng = ((((lng + lng_c)/2 + lng_c)/2 + lng_c)/2 + lng_c)/2\n",
        "                elif meter > 7.5:\n",
        "                    lat = (((lat + lat_c)/2 + lat_c)/2 + lat_c)/2\n",
        "                    lng = (((lng + lng_c)/2 + lng_c)/2 + lng_c)/2\n",
        "                elif meter > 5:\n",
        "                    lat = ((lat + lat_c)/2 + lat_c)/2\n",
        "                    lng = ((lng + lng_c)/2 + lng_c)/2\n",
        "                elif meter > 2.5:\n",
        "                    lat = (lat + lat_c)/2\n",
        "                    lng = (lng + lng_c)/2\n",
        "\n",
        "                lat_list.append(lat)\n",
        "                lng_list.append(lng)\n",
        "\n",
        "\n",
        "        output_df.iloc[:, 2] = lat_list\n",
        "        output_df.iloc[:, 3] = lng_list\n",
        "        return output_df"
      ],
      "execution_count": 33,
      "outputs": []
    },
    {
      "cell_type": "code",
      "metadata": {
        "id": "vyUAMkvTutKi"
      },
      "source": [
        "def move_closer_center_train(input_df):\n",
        "    train_SJC_list = [\"2021-04-22-US-SJC-1\", \"2021-04-28-US-SJC-1\", \"2021-04-29-US-SJC-2\"]\n",
        "    train_dfs = []\n",
        "    for collection in input_df[\"collectionName\"].unique():\n",
        "        if collection in train_SJC_list:\n",
        "            phones_dfs = []\n",
        "            collection_df = input_df[input_df[\"collectionName\"] == collection]\n",
        "            for phone in collection_df[\"phone\"].unique():\n",
        "                phone_df = collection_df[collection_df[\"phone\"] == phone]\n",
        "                phone_df = create_dataset_center(phone_df)\n",
        "                phone_df = check_meter_from_center(phone_df)\n",
        "                phones_dfs.append(phone_df)\n",
        "            collection_df = pd.concat(phones_dfs)\n",
        "            collection_df = mean_points(collection_df)\n",
        "            train_dfs.append(collection_df)\n",
        "        else:\n",
        "            train_dfs.append(input_df[input_df[\"collectionName\"] == collection])\n",
        "    output_df = pd.concat(train_dfs)\n",
        "\n",
        "    return output_df"
      ],
      "execution_count": 34,
      "outputs": []
    },
    {
      "cell_type": "code",
      "metadata": {
        "id": "hCwntbSBjVO_"
      },
      "source": [
        "def move_closer_center(input_df):\n",
        "    test_SJC_list = [\"2021-04-22-US-SJC-2\", \"2021-04-29-US-SJC-3\"]\n",
        "    test_dfs = []\n",
        "    for collection in input_df[\"collectionName\"].unique():\n",
        "        if collection in test_SJC_list:\n",
        "            phones_dfs = []\n",
        "            collection_df = input_df[input_df[\"collectionName\"] == collection]\n",
        "            for phone in collection_df[\"phone\"].unique():\n",
        "                phone_df = collection_df[collection_df[\"phone\"] == phone]\n",
        "                phone_df = create_dataset_center(phone_df)\n",
        "                phone_df = check_meter_from_center(phone_df)\n",
        "                phones_dfs.append(phone_df)\n",
        "            collection_df = pd.concat(phones_dfs)\n",
        "            collection_df = mean_points(collection_df)\n",
        "            test_dfs.append(collection_df)\n",
        "        else:\n",
        "            test_dfs.append(input_df[input_df[\"collectionName\"] == collection])\n",
        "    output_df = pd.concat(test_dfs)\n",
        "\n",
        "    return output_df"
      ],
      "execution_count": 35,
      "outputs": []
    },
    {
      "cell_type": "markdown",
      "metadata": {
        "id": "qy8EnNQdOwUf"
      },
      "source": [
        "##move closer truth SJC"
      ]
    },
    {
      "cell_type": "code",
      "metadata": {
        "id": "sXN7rNZK1Ufv"
      },
      "source": [
        "def create_dataset_truth_train(input_df):\n",
        "    train_SJC_list = [\"2021-04-22-US-SJC-1\", \"2021-04-28-US-SJC-1\", \"2021-04-29-US-SJC-2\"]\n",
        "    #train_SJCs = []\n",
        "    #for SJC in train_SJC_list:\n",
        "       # SJC_df = input_df[input_df[\"collectionName\"] == SJC]\n",
        "       # train_SJCs.append(SJC_df)\n",
        "    #train_SJC = pd.concat(train_SJCs)\n",
        "    output_df = input_df.copy()\n",
        "    lat_list = []\n",
        "    lng_list = []\n",
        "    for collection in train_SJC_list:\n",
        "        collection_df = train_base[train_base[\"collectionName\"] == collection]\n",
        "        for phone in collection_df[\"phone\"].unique():\n",
        "            phone_df = collection_df[collection_df[\"phone\"] == phone]\n",
        "            phone_df[\"t_latDeg_pro\"] = phone_df[\"t_latDeg\"].shift(-1)\n",
        "            phone_df[\"t_lngDeg_pro\"] = phone_df[\"t_lngDeg\"].shift(-1)\n",
        "            for lat, lng, lat_pre, lng_pre in zip(\n",
        "                phone_df[\"t_latDeg\"].to_numpy(),\n",
        "                phone_df[\"t_lngDeg\"].to_numpy(),\n",
        "                phone_df[\"t_latDeg_pro\"].to_numpy(),\n",
        "                phone_df[\"t_lngDeg_pro\"].to_numpy()\n",
        "            ):\n",
        "                lat_list.append(lat)\n",
        "                lng_list.append(lng)\n",
        "                lat_mean = (lat + lat_pre)/2\n",
        "                lng_mean = (lng + lng_pre)/2\n",
        "                lat_list.append(lat_mean)\n",
        "                lng_list.append(lng_mean)\n",
        "\n",
        "    points_list = []\n",
        "    for lat, lng in zip(\n",
        "        lat_list,\n",
        "        lng_list\n",
        "    ):\n",
        "        points_list.append([lat, lng])\n",
        "\n",
        "    nearest_points_list = []\n",
        "    for lat, lng in zip(\n",
        "        output_df[\"latDeg\"].to_numpy(),\n",
        "        output_df[\"lngDeg\"].to_numpy()\n",
        "    ):\n",
        "        nearest_points_list.append(nearest_point(lat, lng, points_list))\n",
        "\n",
        "    nearest_points_df = pd.DataFrame(nearest_points_list)\n",
        "    output_df[\"latDeg_from_gt\"] = nearest_points_df[0].values\n",
        "    output_df[\"lngDeg_from_gt\"] = nearest_points_df[1].values\n",
        "    \n",
        "    lat_gt_pre_list = []\n",
        "    lng_gt_pre_list = []\n",
        "    for collection in output_df[\"collectionName\"].unique():\n",
        "        collection_df = output_df[output_df[\"collectionName\"] == collection]\n",
        "        for phone in collection_df[\"phoneName\"].unique():\n",
        "            phone_df = collection_df[collection_df[\"phoneName\"] == phone]\n",
        "            phone_df[\"latDeg_from_gt_pre\"] = phone_df[\"latDeg_from_gt\"].shift(-1)\n",
        "            phone_df[\"lngDeg_from_gt_pre\"] = phone_df[\"lngDeg_from_gt\"].shift(-1)\n",
        "            for lat_gt_pre, lng_gt_pre in zip(\n",
        "                phone_df[\"latDeg_from_gt_pre\"].to_numpy(),\n",
        "                phone_df[\"lngDeg_from_gt_pre\"].to_numpy(),\n",
        "            ):\n",
        "                lat_gt_pre_list.append(lat_gt_pre)\n",
        "                lng_gt_pre_list.append(lng_gt_pre)    \n",
        "        \n",
        "        output_df[\"latDeg_from_gt_pre\"] = lat_gt_pre_list\n",
        "        output_df[\"lngDeg_from_gt_pre\"] = lng_gt_pre_list\n",
        "\n",
        "    output_df[\"meter\"] = output_df.apply(\n",
        "        lambda r:calc_haversine(\n",
        "            r.latDeg, r.lngDeg, r.latDeg_from_gt, r.lngDeg_from_gt\n",
        "        ),\n",
        "        axis=1\n",
        "    )\n",
        "    return output_df\n"
      ],
      "execution_count": 36,
      "outputs": []
    },
    {
      "cell_type": "code",
      "metadata": {
        "id": "RodqE4LAbBnU"
      },
      "source": [
        "def check_meter_from_truth(input_df):\n",
        "    output_df = input_df.copy()\n",
        "    lat_list = []\n",
        "    lng_list = []\n",
        "    for lat, lng, lat_gt, lng_gt, meter in zip(\n",
        "        output_df[\"latDeg\"].to_numpy(),\n",
        "        output_df[\"lngDeg\"].to_numpy(),\n",
        "        output_df[\"latDeg_from_gt\"].to_numpy(),\n",
        "        output_df[\"lngDeg_from_gt\"].to_numpy(),\n",
        "        output_df[\"meter\"].to_numpy(),\n",
        "    ):\n",
        "        if meter > 30:\n",
        "            lat = lat\n",
        "            lng = lng\n",
        "        elif meter > 10:\n",
        "            lat = ((((lat + lat_gt)/2 + lat_gt)/2 + lat_gt)/2 + lat_gt)/2\n",
        "            lng = ((((lng + lng_gt)/2 + lng_gt)/2 + lng_gt)/2 + lng_gt)/2\n",
        "        elif meter > 7.5:\n",
        "            lat = (((lat + lat_gt)/2 + lat_gt)/2 + lat_gt)/2\n",
        "            lng = (((lng + lng_gt)/2 + lng_gt)/2 + lng_gt)/2\n",
        "        elif meter > 5:\n",
        "            lat = ((lat + lat_gt)/2 + lat_gt)/2\n",
        "            lng = ((lng + lng_gt)/2 + lng_gt)/2\n",
        "        elif meter > 2.5:\n",
        "            lat = (lat + lat_gt)/2\n",
        "            lng = (lng + lng_gt)/2\n",
        "\n",
        "        lat_list.append(lat)\n",
        "        lng_list.append(lng)\n",
        "\n",
        "\n",
        "    output_df.iloc[:, 2] = lat_list\n",
        "    output_df.iloc[:, 3] = lng_list\n",
        "    return output_df"
      ],
      "execution_count": 37,
      "outputs": []
    },
    {
      "cell_type": "code",
      "metadata": {
        "id": "-B8-f_ntx2pi"
      },
      "source": [
        "def move_closer_truth_train(input_df):\n",
        "    train_SJC_list = [\"2021-04-22-US-SJC-1\", \"2021-04-28-US-SJC-1\", \"2021-04-29-US-SJC-2\"]\n",
        "    train_dfs = []\n",
        "    for collection in input_df[\"collectionName\"].unique():\n",
        "        if collection in train_SJC_list:\n",
        "            phones_dfs = []\n",
        "            collection_df = input_df[input_df[\"collectionName\"] == collection]\n",
        "            for phone in collection_df[\"phone\"].unique():\n",
        "                phone_df = collection_df[collection_df[\"phone\"] == phone]\n",
        "                phone_df = create_dataset_truth_train(phone_df)\n",
        "                phone_df = check_meter_from_truth(phone_df)\n",
        "                phones_dfs.append(phone_df)\n",
        "            collection_df = pd.concat(phones_dfs)\n",
        "            train_dfs.append(collection_df)\n",
        "        else:\n",
        "            train_dfs.append(input_df[input_df[\"collectionName\"] == collection])\n",
        "    output_df = pd.concat(train_dfs)\n",
        "\n",
        "    return output_df"
      ],
      "execution_count": 38,
      "outputs": []
    },
    {
      "cell_type": "code",
      "metadata": {
        "id": "2LHOYs4fkyel"
      },
      "source": [
        "def move_closer_truth(input_df):\n",
        "    test_SJC_list = [\"2021-04-22-US-SJC-2\", \"2021-04-29-US-SJC-3\"]\n",
        "    test_dfs = []\n",
        "    for collection in input_df[\"collectionName\"].unique():\n",
        "        if collection in test_SJC_list:\n",
        "            phones_dfs = []\n",
        "            collection_df = input_df[input_df[\"collectionName\"] == collection]\n",
        "            for phone in collection_df[\"phone\"].unique():\n",
        "                phone_df = collection_df[collection_df[\"phone\"] == phone]\n",
        "                phone_df = create_dataset_truth_train(phone_df)\n",
        "                phone_df = check_meter_from_truth(phone_df)\n",
        "                phones_dfs.append(phone_df)\n",
        "            collection_df = pd.concat(phones_dfs)\n",
        "            test_dfs.append(collection_df)\n",
        "        else:\n",
        "            test_dfs.append(input_df[input_df[\"collectionName\"] == collection])\n",
        "    output_df = pd.concat(test_dfs)\n",
        "\n",
        "    return output_df"
      ],
      "execution_count": 39,
      "outputs": []
    },
    {
      "cell_type": "markdown",
      "metadata": {
        "id": "9o_Sn68eOwSK"
      },
      "source": [
        "#cheke CV"
      ]
    },
    {
      "cell_type": "code",
      "metadata": {
        "id": "cvl-zr9bhiYp"
      },
      "source": [
        "def check_score(input_df: pd.DataFrame) -> pd.DataFrame:\n",
        "    output_df = input_df.copy()\n",
        "    \n",
        "    output_df['meter'] = input_df.apply(\n",
        "        lambda r: calc_haversine(\n",
        "            r.latDeg, r.lngDeg, r.t_latDeg, r.t_lngDeg\n",
        "        ),\n",
        "        axis=1\n",
        "    )\n",
        "\n",
        "    meter_score = output_df['meter'].mean()\n",
        "    print(f'error meter: {meter_score}')\n",
        "\n",
        "    scores = []\n",
        "    for phone in output_df['phone'].unique():\n",
        "        _index = output_df['phone']==phone\n",
        "        p_50 = np.percentile(output_df.loc[_index, 'meter'], 50)\n",
        "        p_95 = np.percentile(output_df.loc[_index, 'meter'], 95)\n",
        "        scores.append(p_50)\n",
        "        scores.append(p_95)\n",
        "\n",
        "    score = sum(scores) / len(scores)\n",
        "    print(f'score: {score}')\n",
        "    \n",
        "    return output_df"
      ],
      "execution_count": 40,
      "outputs": []
    },
    {
      "cell_type": "code",
      "metadata": {
        "colab": {
          "base_uri": "https://localhost:8080/",
          "height": 457
        },
        "id": "RMmU1hfWb7un",
        "outputId": "b63b2920-c4b8-4e33-b1b8-d30ca54a1e11"
      },
      "source": [
        "#make triangle 1\n",
        "CV1 = make_triangle(train_base)\n",
        "for i in range(100):\n",
        "    CV1 = make_triangle(CV1)\n",
        "print('<<<triangle_1>>>')\n",
        "CV1 = check_score(CV1)\n",
        "print('--------------------')\n",
        "\n",
        "outlier\n",
        "CV2 = outlier_train(CV1)\n",
        "print('<<<outlier>>>')\n",
        "CV2 = check_score(CV2)\n",
        "print('--------------------')\n",
        "\n",
        "#make triangle 2\n",
        "CV3 = make_triangle(CV1)\n",
        "for i in range(100):\n",
        "    CV3 = make_triangle(CV3)\n",
        "print('<<<triangle_2>>>')\n",
        "CV3 = check_score(CV3)\n",
        "print('--------------------')\n",
        "\n",
        "#phonse mean\n",
        "CV4 = mean_prediction_train(CV1)\n",
        "print('<<<phones_mean>>>')\n",
        "CV4 = check_score(CV4)\n",
        "print('--------------------')\n",
        "\n",
        "#make triangle 3\n",
        "CV5 = make_triangle(CV4)\n",
        "for i in range(100):\n",
        "    CV5 = make_triangle(CV5)\n",
        "print('<<<triangle_3>>>')\n",
        "CV5 = check_score(CV5)\n",
        "print('--------------------')\n",
        "\n",
        "#remove device\n",
        "CV6 = remove_device(CV5)\n",
        "print('<<<remove_device>>>')\n",
        "CV6 = check_score(CV6)\n",
        "print('--------------------')\n",
        "\n",
        "#make triangle 4\n",
        "CV7 = make_triangle(CV6)\n",
        "for i in range(100):\n",
        "    CV7 = make_triangle(CV7)\n",
        "print('<<<triangle_4>>>')\n",
        "CV7 = check_score(CV7)\n",
        "print('--------------------')\n",
        "\n",
        "#position shift\n",
        "CV8 = position_shift_train(CV7)\n",
        "print('<<<position_shift>>>')\n",
        "CV8 = check_score(CV8)\n",
        "print('--------------------')\n",
        "\n",
        "#make triangle 5\n",
        "CV9 = make_triangle(CV8)\n",
        "for i in range(100):\n",
        "    CV9 = make_triangle(CV9)\n",
        "print('<<<triangle_5>>>')\n",
        "CV9 = check_score(CV9)\n",
        "print('--------------------')\n"
      ],
      "execution_count": null,
      "outputs": [
        {
          "output_type": "stream",
          "text": [
            "/usr/local/lib/python3.7/dist-packages/ipykernel_launcher.py:37: RuntimeWarning:\n",
            "\n",
            "invalid value encountered in double_scalars\n",
            "\n"
          ],
          "name": "stderr"
        },
        {
          "output_type": "error",
          "ename": "KeyboardInterrupt",
          "evalue": "ignored",
          "traceback": [
            "\u001b[0;31m---------------------------------------------------------------------------\u001b[0m",
            "\u001b[0;31mKeyboardInterrupt\u001b[0m                         Traceback (most recent call last)",
            "\u001b[0;32m<ipython-input-35-a49340652634>\u001b[0m in \u001b[0;36m<module>\u001b[0;34m()\u001b[0m\n\u001b[1;32m      2\u001b[0m \u001b[0mCV1\u001b[0m \u001b[0;34m=\u001b[0m \u001b[0mmake_triangle\u001b[0m\u001b[0;34m(\u001b[0m\u001b[0mtrain_base\u001b[0m\u001b[0;34m)\u001b[0m\u001b[0;34m\u001b[0m\u001b[0;34m\u001b[0m\u001b[0m\n\u001b[1;32m      3\u001b[0m \u001b[0;32mfor\u001b[0m \u001b[0mi\u001b[0m \u001b[0;32min\u001b[0m \u001b[0mrange\u001b[0m\u001b[0;34m(\u001b[0m\u001b[0;36m100\u001b[0m\u001b[0;34m)\u001b[0m\u001b[0;34m:\u001b[0m\u001b[0;34m\u001b[0m\u001b[0;34m\u001b[0m\u001b[0m\n\u001b[0;32m----> 4\u001b[0;31m     \u001b[0mCV1\u001b[0m \u001b[0;34m=\u001b[0m \u001b[0mmake_triangle\u001b[0m\u001b[0;34m(\u001b[0m\u001b[0mCV1\u001b[0m\u001b[0;34m)\u001b[0m\u001b[0;34m\u001b[0m\u001b[0;34m\u001b[0m\u001b[0m\n\u001b[0m\u001b[1;32m      5\u001b[0m \u001b[0mprint\u001b[0m\u001b[0;34m(\u001b[0m\u001b[0;34m'<<<triangle_1>>>'\u001b[0m\u001b[0;34m)\u001b[0m\u001b[0;34m\u001b[0m\u001b[0;34m\u001b[0m\u001b[0m\n\u001b[1;32m      6\u001b[0m \u001b[0mCV1\u001b[0m \u001b[0;34m=\u001b[0m \u001b[0mcheck_score\u001b[0m\u001b[0;34m(\u001b[0m\u001b[0mCV1\u001b[0m\u001b[0;34m)\u001b[0m\u001b[0;34m\u001b[0m\u001b[0;34m\u001b[0m\u001b[0m\n",
            "\u001b[0;32m<ipython-input-10-6fb22daca5b2>\u001b[0m in \u001b[0;36mmake_triangle\u001b[0;34m(input_df)\u001b[0m\n\u001b[1;32m     11\u001b[0m             \u001b[0;32mfor\u001b[0m \u001b[0mphone\u001b[0m \u001b[0;32min\u001b[0m \u001b[0mcollection_df\u001b[0m\u001b[0;34m[\u001b[0m\u001b[0;34m\"phoneName\"\u001b[0m\u001b[0;34m]\u001b[0m\u001b[0;34m.\u001b[0m\u001b[0munique\u001b[0m\u001b[0;34m(\u001b[0m\u001b[0;34m)\u001b[0m\u001b[0;34m:\u001b[0m\u001b[0;34m\u001b[0m\u001b[0;34m\u001b[0m\u001b[0m\n\u001b[1;32m     12\u001b[0m                 \u001b[0mphone_df\u001b[0m \u001b[0;34m=\u001b[0m \u001b[0mcollection_df\u001b[0m\u001b[0;34m[\u001b[0m\u001b[0mcollection_df\u001b[0m\u001b[0;34m[\u001b[0m\u001b[0;34m\"phoneName\"\u001b[0m\u001b[0;34m]\u001b[0m \u001b[0;34m==\u001b[0m \u001b[0mphone\u001b[0m\u001b[0;34m]\u001b[0m\u001b[0;34m\u001b[0m\u001b[0;34m\u001b[0m\u001b[0m\n\u001b[0;32m---> 13\u001b[0;31m                 \u001b[0mtriangle_df\u001b[0m \u001b[0;34m=\u001b[0m \u001b[0madd_triangle_features\u001b[0m\u001b[0;34m(\u001b[0m\u001b[0mphone_df\u001b[0m\u001b[0;34m)\u001b[0m\u001b[0;34m\u001b[0m\u001b[0;34m\u001b[0m\u001b[0m\n\u001b[0m\u001b[1;32m     14\u001b[0m                 for lat, lng, lat_mp, lng_mp, deg in zip(\n\u001b[1;32m     15\u001b[0m                     \u001b[0mtriangle_df\u001b[0m\u001b[0;34m[\u001b[0m\u001b[0;34m\"latDeg\"\u001b[0m\u001b[0;34m]\u001b[0m\u001b[0;34m.\u001b[0m\u001b[0mto_numpy\u001b[0m\u001b[0;34m(\u001b[0m\u001b[0;34m)\u001b[0m\u001b[0;34m,\u001b[0m\u001b[0;34m\u001b[0m\u001b[0;34m\u001b[0m\u001b[0m\n",
            "\u001b[0;32m<ipython-input-9-86fe7dfdf9b2>\u001b[0m in \u001b[0;36madd_triangle_features\u001b[0;34m(input_df)\u001b[0m\n\u001b[1;32m     26\u001b[0m         \u001b[0moutput_df\u001b[0m\u001b[0;34m[\u001b[0m\u001b[0;34m\"lngDeg_pro_2\"\u001b[0m\u001b[0;34m]\u001b[0m\u001b[0;34m.\u001b[0m\u001b[0mto_numpy\u001b[0m\u001b[0;34m(\u001b[0m\u001b[0;34m)\u001b[0m\u001b[0;34m\u001b[0m\u001b[0;34m\u001b[0m\u001b[0m\n\u001b[1;32m     27\u001b[0m     ):\n\u001b[0;32m---> 28\u001b[0;31m         \u001b[0mp0\u001b[0m \u001b[0;34m=\u001b[0m \u001b[0mnp\u001b[0m\u001b[0;34m.\u001b[0m\u001b[0marray\u001b[0m\u001b[0;34m(\u001b[0m\u001b[0;34m[\u001b[0m\u001b[0mlat\u001b[0m\u001b[0;34m,\u001b[0m \u001b[0mlng\u001b[0m\u001b[0;34m]\u001b[0m\u001b[0;34m)\u001b[0m\u001b[0;34m\u001b[0m\u001b[0;34m\u001b[0m\u001b[0m\n\u001b[0m\u001b[1;32m     29\u001b[0m         \u001b[0mp1\u001b[0m \u001b[0;34m=\u001b[0m \u001b[0mnp\u001b[0m\u001b[0;34m.\u001b[0m\u001b[0marray\u001b[0m\u001b[0;34m(\u001b[0m\u001b[0;34m[\u001b[0m\u001b[0mlat_1\u001b[0m\u001b[0;34m,\u001b[0m \u001b[0mlng_1\u001b[0m\u001b[0;34m]\u001b[0m\u001b[0;34m)\u001b[0m\u001b[0;34m\u001b[0m\u001b[0;34m\u001b[0m\u001b[0m\n\u001b[1;32m     30\u001b[0m         \u001b[0mp2\u001b[0m \u001b[0;34m=\u001b[0m \u001b[0mnp\u001b[0m\u001b[0;34m.\u001b[0m\u001b[0marray\u001b[0m\u001b[0;34m(\u001b[0m\u001b[0;34m[\u001b[0m\u001b[0mlat_2\u001b[0m\u001b[0;34m,\u001b[0m \u001b[0mlng_2\u001b[0m\u001b[0;34m]\u001b[0m\u001b[0;34m)\u001b[0m\u001b[0;34m\u001b[0m\u001b[0;34m\u001b[0m\u001b[0m\n",
            "\u001b[0;31mKeyboardInterrupt\u001b[0m: "
          ]
        }
      ]
    },
    {
      "cell_type": "code",
      "metadata": {
        "id": "ixAVyW3bs8Lf",
        "colab": {
          "base_uri": "https://localhost:8080/",
          "height": 1000,
          "referenced_widgets": [
            "0bd00c10787a4b4d9a253e16bcb48164",
            "7a4c28718d684c2ebd9294386748246e",
            "cde84b45f93e46f5865b029cfa24efd0",
            "45c4b483bf25493fa67c883b4f8bba11",
            "225bc919885840519da2e1a976a6d7c4",
            "79e07ed376c345f2827a97c1736e0df9",
            "1ed498afdbd54679a19915cfe1508e13",
            "1297446d4b3848a18cf4f7f614fee994"
          ]
        },
        "outputId": "6682a8ca-7307-48c0-bcb4-bcc444d2453e"
      },
      "source": [
        "#make triangle 1\n",
        "CV1 = make_triangle(train_base)\n",
        "for i in range(100):\n",
        "    CV1 = make_triangle(CV1)\n",
        "print('<<<triangle_1>>>')\n",
        "CV1 = check_score(CV1)\n",
        "print('--------------------')\n",
        "\n",
        "outlier\n",
        "CV2 = outlier_train(CV1)\n",
        "print('<<<outlier>>>')\n",
        "CV2 = check_score(CV2)\n",
        "print('--------------------')\n",
        "\n",
        "#make triangle 2\n",
        "CV3 = make_triangle(CV1)\n",
        "for i in range(100):\n",
        "    CV3 = make_triangle(CV3)\n",
        "print('<<<triangle_2>>>')\n",
        "CV3 = check_score(CV3)\n",
        "print('--------------------')\n",
        "\n",
        "#phonse mean\n",
        "CV4 = mean_prediction_train(CV1)\n",
        "print('<<<phones_mean>>>')\n",
        "CV4 = check_score(CV4)\n",
        "print('--------------------')\n",
        "\n",
        "#make triangle 3\n",
        "CV5 = make_triangle(CV4)\n",
        "for i in range(100):\n",
        "    CV5 = make_triangle(CV5)\n",
        "print('<<<triangle_3>>>')\n",
        "CV5 = check_score(CV5)\n",
        "print('--------------------')\n",
        "\n",
        "#remove device\n",
        "CV6 = remove_device(CV5)\n",
        "print('<<<remove_device>>>')\n",
        "CV6 = check_score(CV6)\n",
        "print('--------------------')\n",
        "\n",
        "#make triangle 4\n",
        "CV7 = make_triangle(CV6)\n",
        "for i in range(100):\n",
        "    CV7 = make_triangle(CV7)\n",
        "print('<<<triangle_4>>>')\n",
        "CV7 = check_score(CV7)\n",
        "print('--------------------')\n",
        "\n",
        "#position shift\n",
        "CV8 = position_shift_train(CV7)\n",
        "print('<<<position_shift>>>')\n",
        "CV8 = check_score(CV8)\n",
        "print('--------------------')\n",
        "\n",
        "#make triangle 5\n",
        "CV9 = make_triangle(CV8)\n",
        "for i in range(100):\n",
        "    CV9 = make_triangle(CV9)\n",
        "print('<<<triangle_5>>>')\n",
        "CV9 = check_score(CV9)\n",
        "print('--------------------')\n"
      ],
      "execution_count": null,
      "outputs": [
        {
          "output_type": "stream",
          "text": [
            "/usr/local/lib/python3.7/dist-packages/ipykernel_launcher.py:37: RuntimeWarning:\n",
            "\n",
            "invalid value encountered in double_scalars\n",
            "\n",
            "/usr/local/lib/python3.7/dist-packages/ipykernel_launcher.py:37: RuntimeWarning:\n",
            "\n",
            "invalid value encountered in arccos\n",
            "\n"
          ],
          "name": "stderr"
        },
        {
          "output_type": "stream",
          "text": [
            "<<<triangle_1>>>\n",
            "error meter: 3.3579582394393928\n",
            "score: 4.753446293953488\n",
            "--------------------\n",
            "<<<outlier>>>\n",
            "error meter: 3.357550751702286\n",
            "score: 4.753387012675808\n",
            "--------------------\n"
          ],
          "name": "stdout"
        },
        {
          "output_type": "stream",
          "text": [
            "/usr/local/lib/python3.7/dist-packages/ipykernel_launcher.py:37: RuntimeWarning:\n",
            "\n",
            "invalid value encountered in double_scalars\n",
            "\n"
          ],
          "name": "stderr"
        },
        {
          "output_type": "stream",
          "text": [
            "<<<triangle_2>>>\n",
            "error meter: 3.345099090946541\n",
            "score: 4.74999834268959\n",
            "--------------------\n"
          ],
          "name": "stdout"
        },
        {
          "output_type": "display_data",
          "data": {
            "application/vnd.jupyter.widget-view+json": {
              "model_id": "0bd00c10787a4b4d9a253e16bcb48164",
              "version_minor": 0,
              "version_major": 2
            },
            "text/plain": [
              "HBox(children=(FloatProgress(value=0.0, max=73.0), HTML(value='')))"
            ]
          },
          "metadata": {
            "tags": []
          }
        },
        {
          "output_type": "stream",
          "text": [
            "\n",
            "<<<phones_mean>>>\n",
            "error meter: 2.9007008123380005\n",
            "score: 3.981980123726002\n",
            "--------------------\n"
          ],
          "name": "stdout"
        },
        {
          "output_type": "stream",
          "text": [
            "/usr/local/lib/python3.7/dist-packages/ipykernel_launcher.py:37: RuntimeWarning:\n",
            "\n",
            "invalid value encountered in double_scalars\n",
            "\n"
          ],
          "name": "stderr"
        },
        {
          "output_type": "error",
          "ename": "KeyboardInterrupt",
          "evalue": "ignored",
          "traceback": [
            "\u001b[0;31m---------------------------------------------------------------------------\u001b[0m",
            "\u001b[0;31mKeyError\u001b[0m                                  Traceback (most recent call last)",
            "\u001b[0;32m/usr/local/lib/python3.7/dist-packages/pandas/core/indexes/base.py\u001b[0m in \u001b[0;36mget_loc\u001b[0;34m(self, key, method, tolerance)\u001b[0m\n\u001b[1;32m   2897\u001b[0m             \u001b[0;32mtry\u001b[0m\u001b[0;34m:\u001b[0m\u001b[0;34m\u001b[0m\u001b[0;34m\u001b[0m\u001b[0m\n\u001b[0;32m-> 2898\u001b[0;31m                 \u001b[0;32mreturn\u001b[0m \u001b[0mself\u001b[0m\u001b[0;34m.\u001b[0m\u001b[0m_engine\u001b[0m\u001b[0;34m.\u001b[0m\u001b[0mget_loc\u001b[0m\u001b[0;34m(\u001b[0m\u001b[0mcasted_key\u001b[0m\u001b[0;34m)\u001b[0m\u001b[0;34m\u001b[0m\u001b[0;34m\u001b[0m\u001b[0m\n\u001b[0m\u001b[1;32m   2899\u001b[0m             \u001b[0;32mexcept\u001b[0m \u001b[0mKeyError\u001b[0m \u001b[0;32mas\u001b[0m \u001b[0merr\u001b[0m\u001b[0;34m:\u001b[0m\u001b[0;34m\u001b[0m\u001b[0;34m\u001b[0m\u001b[0m\n",
            "\u001b[0;32mpandas/_libs/index.pyx\u001b[0m in \u001b[0;36mpandas._libs.index.IndexEngine.get_loc\u001b[0;34m()\u001b[0m\n",
            "\u001b[0;32mpandas/_libs/index.pyx\u001b[0m in \u001b[0;36mpandas._libs.index.IndexEngine.get_loc\u001b[0;34m()\u001b[0m\n",
            "\u001b[0;32mpandas/_libs/hashtable_class_helper.pxi\u001b[0m in \u001b[0;36mpandas._libs.hashtable.PyObjectHashTable.get_item\u001b[0;34m()\u001b[0m\n",
            "\u001b[0;32mpandas/_libs/hashtable_class_helper.pxi\u001b[0m in \u001b[0;36mpandas._libs.hashtable.PyObjectHashTable.get_item\u001b[0;34m()\u001b[0m\n",
            "\u001b[0;31mKeyError\u001b[0m: 'latDeg_mean_point'",
            "\nThe above exception was the direct cause of the following exception:\n",
            "\u001b[0;31mKeyError\u001b[0m                                  Traceback (most recent call last)",
            "\u001b[0;32m/usr/local/lib/python3.7/dist-packages/pandas/core/generic.py\u001b[0m in \u001b[0;36m_set_item\u001b[0;34m(self, key, value)\u001b[0m\n\u001b[1;32m   3575\u001b[0m         \u001b[0;32mtry\u001b[0m\u001b[0;34m:\u001b[0m\u001b[0;34m\u001b[0m\u001b[0;34m\u001b[0m\u001b[0m\n\u001b[0;32m-> 3576\u001b[0;31m             \u001b[0mloc\u001b[0m \u001b[0;34m=\u001b[0m \u001b[0mself\u001b[0m\u001b[0;34m.\u001b[0m\u001b[0m_info_axis\u001b[0m\u001b[0;34m.\u001b[0m\u001b[0mget_loc\u001b[0m\u001b[0;34m(\u001b[0m\u001b[0mkey\u001b[0m\u001b[0;34m)\u001b[0m\u001b[0;34m\u001b[0m\u001b[0;34m\u001b[0m\u001b[0m\n\u001b[0m\u001b[1;32m   3577\u001b[0m         \u001b[0;32mexcept\u001b[0m \u001b[0mKeyError\u001b[0m\u001b[0;34m:\u001b[0m\u001b[0;34m\u001b[0m\u001b[0;34m\u001b[0m\u001b[0m\n",
            "\u001b[0;32m/usr/local/lib/python3.7/dist-packages/pandas/core/indexes/base.py\u001b[0m in \u001b[0;36mget_loc\u001b[0;34m(self, key, method, tolerance)\u001b[0m\n\u001b[1;32m   2899\u001b[0m             \u001b[0;32mexcept\u001b[0m \u001b[0mKeyError\u001b[0m \u001b[0;32mas\u001b[0m \u001b[0merr\u001b[0m\u001b[0;34m:\u001b[0m\u001b[0;34m\u001b[0m\u001b[0;34m\u001b[0m\u001b[0m\n\u001b[0;32m-> 2900\u001b[0;31m                 \u001b[0;32mraise\u001b[0m \u001b[0mKeyError\u001b[0m\u001b[0;34m(\u001b[0m\u001b[0mkey\u001b[0m\u001b[0;34m)\u001b[0m \u001b[0;32mfrom\u001b[0m \u001b[0merr\u001b[0m\u001b[0;34m\u001b[0m\u001b[0;34m\u001b[0m\u001b[0m\n\u001b[0m\u001b[1;32m   2901\u001b[0m \u001b[0;34m\u001b[0m\u001b[0m\n",
            "\u001b[0;31mKeyError\u001b[0m: 'latDeg_mean_point'",
            "\nDuring handling of the above exception, another exception occurred:\n",
            "\u001b[0;31mKeyboardInterrupt\u001b[0m                         Traceback (most recent call last)",
            "\u001b[0;32m<ipython-input-80-a9a85084b7c2>\u001b[0m in \u001b[0;36m<module>\u001b[0;34m()\u001b[0m\n\u001b[1;32m     30\u001b[0m \u001b[0mCV5\u001b[0m \u001b[0;34m=\u001b[0m \u001b[0mmake_triangle\u001b[0m\u001b[0;34m(\u001b[0m\u001b[0mCV4\u001b[0m\u001b[0;34m)\u001b[0m\u001b[0;34m\u001b[0m\u001b[0;34m\u001b[0m\u001b[0m\n\u001b[1;32m     31\u001b[0m \u001b[0;32mfor\u001b[0m \u001b[0mi\u001b[0m \u001b[0;32min\u001b[0m \u001b[0mrange\u001b[0m\u001b[0;34m(\u001b[0m\u001b[0;36m100\u001b[0m\u001b[0;34m)\u001b[0m\u001b[0;34m:\u001b[0m\u001b[0;34m\u001b[0m\u001b[0;34m\u001b[0m\u001b[0m\n\u001b[0;32m---> 32\u001b[0;31m     \u001b[0mCV5\u001b[0m \u001b[0;34m=\u001b[0m \u001b[0mmake_triangle\u001b[0m\u001b[0;34m(\u001b[0m\u001b[0mCV5\u001b[0m\u001b[0;34m)\u001b[0m\u001b[0;34m\u001b[0m\u001b[0;34m\u001b[0m\u001b[0m\n\u001b[0m\u001b[1;32m     33\u001b[0m \u001b[0mprint\u001b[0m\u001b[0;34m(\u001b[0m\u001b[0;34m'<<<triangle_3>>>'\u001b[0m\u001b[0;34m)\u001b[0m\u001b[0;34m\u001b[0m\u001b[0;34m\u001b[0m\u001b[0m\n\u001b[1;32m     34\u001b[0m \u001b[0mCV5\u001b[0m \u001b[0;34m=\u001b[0m \u001b[0mcheck_score\u001b[0m\u001b[0;34m(\u001b[0m\u001b[0mCV5\u001b[0m\u001b[0;34m)\u001b[0m\u001b[0;34m\u001b[0m\u001b[0;34m\u001b[0m\u001b[0m\n",
            "\u001b[0;32m<ipython-input-43-cbe59a315a36>\u001b[0m in \u001b[0;36mmake_triangle\u001b[0;34m(input_df)\u001b[0m\n\u001b[1;32m     11\u001b[0m             \u001b[0;32mfor\u001b[0m \u001b[0mphone\u001b[0m \u001b[0;32min\u001b[0m \u001b[0mcollection_df\u001b[0m\u001b[0;34m[\u001b[0m\u001b[0;34m\"phoneName\"\u001b[0m\u001b[0;34m]\u001b[0m\u001b[0;34m.\u001b[0m\u001b[0munique\u001b[0m\u001b[0;34m(\u001b[0m\u001b[0;34m)\u001b[0m\u001b[0;34m:\u001b[0m\u001b[0;34m\u001b[0m\u001b[0;34m\u001b[0m\u001b[0m\n\u001b[1;32m     12\u001b[0m                 \u001b[0mphone_df\u001b[0m \u001b[0;34m=\u001b[0m \u001b[0mcollection_df\u001b[0m\u001b[0;34m[\u001b[0m\u001b[0mcollection_df\u001b[0m\u001b[0;34m[\u001b[0m\u001b[0;34m\"phoneName\"\u001b[0m\u001b[0;34m]\u001b[0m \u001b[0;34m==\u001b[0m \u001b[0mphone\u001b[0m\u001b[0;34m]\u001b[0m\u001b[0;34m\u001b[0m\u001b[0;34m\u001b[0m\u001b[0m\n\u001b[0;32m---> 13\u001b[0;31m                 \u001b[0mtriangle_df\u001b[0m \u001b[0;34m=\u001b[0m \u001b[0madd_triangle_features\u001b[0m\u001b[0;34m(\u001b[0m\u001b[0mphone_df\u001b[0m\u001b[0;34m)\u001b[0m\u001b[0;34m\u001b[0m\u001b[0;34m\u001b[0m\u001b[0m\n\u001b[0m\u001b[1;32m     14\u001b[0m                 for lat, lng, lat_mp, lng_mp, deg in zip(\n\u001b[1;32m     15\u001b[0m                     \u001b[0mtriangle_df\u001b[0m\u001b[0;34m[\u001b[0m\u001b[0;34m\"latDeg\"\u001b[0m\u001b[0;34m]\u001b[0m\u001b[0;34m.\u001b[0m\u001b[0mto_numpy\u001b[0m\u001b[0;34m(\u001b[0m\u001b[0;34m)\u001b[0m\u001b[0;34m,\u001b[0m\u001b[0;34m\u001b[0m\u001b[0;34m\u001b[0m\u001b[0m\n",
            "\u001b[0;32m<ipython-input-9-86fe7dfdf9b2>\u001b[0m in \u001b[0;36madd_triangle_features\u001b[0;34m(input_df)\u001b[0m\n\u001b[1;32m     10\u001b[0m     output_df[\"latDeg_mean_point\"] = (output_df[\"latDeg\"] + ((output_df[\"latDeg_pro_2\"] - output_df[\"latDeg\"]) * \n\u001b[1;32m     11\u001b[0m                                                             ((output_df[\"millisSinceGpsEpoch_pro_1\"] - output_df[\"millisSinceGpsEpoch\"]) /\n\u001b[0;32m---> 12\u001b[0;31m                                                             (output_df[\"millisSinceGpsEpoch_pro_2\"] - output_df[\"millisSinceGpsEpoch\"])))).shift(1)\n\u001b[0m\u001b[1;32m     13\u001b[0m \u001b[0;34m\u001b[0m\u001b[0m\n\u001b[1;32m     14\u001b[0m     output_df[\"lngDeg_mean_point\"] = (output_df[\"lngDeg\"] + ((output_df[\"lngDeg_pro_2\"] - output_df[\"lngDeg\"]) * \n",
            "\u001b[0;32m/usr/local/lib/python3.7/dist-packages/pandas/core/frame.py\u001b[0m in \u001b[0;36m__setitem__\u001b[0;34m(self, key, value)\u001b[0m\n\u001b[1;32m   3042\u001b[0m         \u001b[0;32melse\u001b[0m\u001b[0;34m:\u001b[0m\u001b[0;34m\u001b[0m\u001b[0;34m\u001b[0m\u001b[0m\n\u001b[1;32m   3043\u001b[0m             \u001b[0;31m# set column\u001b[0m\u001b[0;34m\u001b[0m\u001b[0;34m\u001b[0m\u001b[0;34m\u001b[0m\u001b[0m\n\u001b[0;32m-> 3044\u001b[0;31m             \u001b[0mself\u001b[0m\u001b[0;34m.\u001b[0m\u001b[0m_set_item\u001b[0m\u001b[0;34m(\u001b[0m\u001b[0mkey\u001b[0m\u001b[0;34m,\u001b[0m \u001b[0mvalue\u001b[0m\u001b[0;34m)\u001b[0m\u001b[0;34m\u001b[0m\u001b[0;34m\u001b[0m\u001b[0m\n\u001b[0m\u001b[1;32m   3045\u001b[0m \u001b[0;34m\u001b[0m\u001b[0m\n\u001b[1;32m   3046\u001b[0m     \u001b[0;32mdef\u001b[0m \u001b[0m_setitem_slice\u001b[0m\u001b[0;34m(\u001b[0m\u001b[0mself\u001b[0m\u001b[0;34m,\u001b[0m \u001b[0mkey\u001b[0m\u001b[0;34m:\u001b[0m \u001b[0mslice\u001b[0m\u001b[0;34m,\u001b[0m \u001b[0mvalue\u001b[0m\u001b[0;34m)\u001b[0m\u001b[0;34m:\u001b[0m\u001b[0;34m\u001b[0m\u001b[0;34m\u001b[0m\u001b[0m\n",
            "\u001b[0;32m/usr/local/lib/python3.7/dist-packages/pandas/core/frame.py\u001b[0m in \u001b[0;36m_set_item\u001b[0;34m(self, key, value)\u001b[0m\n\u001b[1;32m   3119\u001b[0m         \u001b[0mself\u001b[0m\u001b[0;34m.\u001b[0m\u001b[0m_ensure_valid_index\u001b[0m\u001b[0;34m(\u001b[0m\u001b[0mvalue\u001b[0m\u001b[0;34m)\u001b[0m\u001b[0;34m\u001b[0m\u001b[0;34m\u001b[0m\u001b[0m\n\u001b[1;32m   3120\u001b[0m         \u001b[0mvalue\u001b[0m \u001b[0;34m=\u001b[0m \u001b[0mself\u001b[0m\u001b[0;34m.\u001b[0m\u001b[0m_sanitize_column\u001b[0m\u001b[0;34m(\u001b[0m\u001b[0mkey\u001b[0m\u001b[0;34m,\u001b[0m \u001b[0mvalue\u001b[0m\u001b[0;34m)\u001b[0m\u001b[0;34m\u001b[0m\u001b[0;34m\u001b[0m\u001b[0m\n\u001b[0;32m-> 3121\u001b[0;31m         \u001b[0mNDFrame\u001b[0m\u001b[0;34m.\u001b[0m\u001b[0m_set_item\u001b[0m\u001b[0;34m(\u001b[0m\u001b[0mself\u001b[0m\u001b[0;34m,\u001b[0m \u001b[0mkey\u001b[0m\u001b[0;34m,\u001b[0m \u001b[0mvalue\u001b[0m\u001b[0;34m)\u001b[0m\u001b[0;34m\u001b[0m\u001b[0;34m\u001b[0m\u001b[0m\n\u001b[0m\u001b[1;32m   3122\u001b[0m \u001b[0;34m\u001b[0m\u001b[0m\n\u001b[1;32m   3123\u001b[0m         \u001b[0;31m# check if we are modifying a copy\u001b[0m\u001b[0;34m\u001b[0m\u001b[0;34m\u001b[0m\u001b[0;34m\u001b[0m\u001b[0m\n",
            "\u001b[0;32m/usr/local/lib/python3.7/dist-packages/pandas/core/generic.py\u001b[0m in \u001b[0;36m_set_item\u001b[0;34m(self, key, value)\u001b[0m\n\u001b[1;32m   3577\u001b[0m         \u001b[0;32mexcept\u001b[0m \u001b[0mKeyError\u001b[0m\u001b[0;34m:\u001b[0m\u001b[0;34m\u001b[0m\u001b[0;34m\u001b[0m\u001b[0m\n\u001b[1;32m   3578\u001b[0m             \u001b[0;31m# This item wasn't present, just insert at end\u001b[0m\u001b[0;34m\u001b[0m\u001b[0;34m\u001b[0m\u001b[0;34m\u001b[0m\u001b[0m\n\u001b[0;32m-> 3579\u001b[0;31m             \u001b[0mself\u001b[0m\u001b[0;34m.\u001b[0m\u001b[0m_mgr\u001b[0m\u001b[0;34m.\u001b[0m\u001b[0minsert\u001b[0m\u001b[0;34m(\u001b[0m\u001b[0mlen\u001b[0m\u001b[0;34m(\u001b[0m\u001b[0mself\u001b[0m\u001b[0;34m.\u001b[0m\u001b[0m_info_axis\u001b[0m\u001b[0;34m)\u001b[0m\u001b[0;34m,\u001b[0m \u001b[0mkey\u001b[0m\u001b[0;34m,\u001b[0m \u001b[0mvalue\u001b[0m\u001b[0;34m)\u001b[0m\u001b[0;34m\u001b[0m\u001b[0;34m\u001b[0m\u001b[0m\n\u001b[0m\u001b[1;32m   3580\u001b[0m             \u001b[0;32mreturn\u001b[0m\u001b[0;34m\u001b[0m\u001b[0;34m\u001b[0m\u001b[0m\n\u001b[1;32m   3581\u001b[0m \u001b[0;34m\u001b[0m\u001b[0m\n",
            "\u001b[0;32m/usr/local/lib/python3.7/dist-packages/pandas/core/internals/managers.py\u001b[0m in \u001b[0;36minsert\u001b[0;34m(self, loc, item, value, allow_duplicates)\u001b[0m\n\u001b[1;32m   1196\u001b[0m             \u001b[0mvalue\u001b[0m \u001b[0;34m=\u001b[0m \u001b[0m_safe_reshape\u001b[0m\u001b[0;34m(\u001b[0m\u001b[0mvalue\u001b[0m\u001b[0;34m,\u001b[0m \u001b[0;34m(\u001b[0m\u001b[0;36m1\u001b[0m\u001b[0;34m,\u001b[0m\u001b[0;34m)\u001b[0m \u001b[0;34m+\u001b[0m \u001b[0mvalue\u001b[0m\u001b[0;34m.\u001b[0m\u001b[0mshape\u001b[0m\u001b[0;34m)\u001b[0m\u001b[0;34m\u001b[0m\u001b[0;34m\u001b[0m\u001b[0m\n\u001b[1;32m   1197\u001b[0m \u001b[0;34m\u001b[0m\u001b[0m\n\u001b[0;32m-> 1198\u001b[0;31m         \u001b[0mblock\u001b[0m \u001b[0;34m=\u001b[0m \u001b[0mmake_block\u001b[0m\u001b[0;34m(\u001b[0m\u001b[0mvalues\u001b[0m\u001b[0;34m=\u001b[0m\u001b[0mvalue\u001b[0m\u001b[0;34m,\u001b[0m \u001b[0mndim\u001b[0m\u001b[0;34m=\u001b[0m\u001b[0mself\u001b[0m\u001b[0;34m.\u001b[0m\u001b[0mndim\u001b[0m\u001b[0;34m,\u001b[0m \u001b[0mplacement\u001b[0m\u001b[0;34m=\u001b[0m\u001b[0mslice\u001b[0m\u001b[0;34m(\u001b[0m\u001b[0mloc\u001b[0m\u001b[0;34m,\u001b[0m \u001b[0mloc\u001b[0m \u001b[0;34m+\u001b[0m \u001b[0;36m1\u001b[0m\u001b[0;34m)\u001b[0m\u001b[0;34m)\u001b[0m\u001b[0;34m\u001b[0m\u001b[0;34m\u001b[0m\u001b[0m\n\u001b[0m\u001b[1;32m   1199\u001b[0m \u001b[0;34m\u001b[0m\u001b[0m\n\u001b[1;32m   1200\u001b[0m         \u001b[0;32mfor\u001b[0m \u001b[0mblkno\u001b[0m\u001b[0;34m,\u001b[0m \u001b[0mcount\u001b[0m \u001b[0;32min\u001b[0m \u001b[0m_fast_count_smallints\u001b[0m\u001b[0;34m(\u001b[0m\u001b[0mself\u001b[0m\u001b[0;34m.\u001b[0m\u001b[0mblknos\u001b[0m\u001b[0;34m[\u001b[0m\u001b[0mloc\u001b[0m\u001b[0;34m:\u001b[0m\u001b[0;34m]\u001b[0m\u001b[0;34m)\u001b[0m\u001b[0;34m:\u001b[0m\u001b[0;34m\u001b[0m\u001b[0;34m\u001b[0m\u001b[0m\n",
            "\u001b[0;32m/usr/local/lib/python3.7/dist-packages/pandas/core/internals/blocks.py\u001b[0m in \u001b[0;36mmake_block\u001b[0;34m(values, placement, klass, ndim, dtype)\u001b[0m\n\u001b[1;32m   2742\u001b[0m         \u001b[0mvalues\u001b[0m \u001b[0;34m=\u001b[0m \u001b[0mDatetimeArray\u001b[0m\u001b[0;34m.\u001b[0m\u001b[0m_simple_new\u001b[0m\u001b[0;34m(\u001b[0m\u001b[0mvalues\u001b[0m\u001b[0;34m,\u001b[0m \u001b[0mdtype\u001b[0m\u001b[0;34m=\u001b[0m\u001b[0mdtype\u001b[0m\u001b[0;34m)\u001b[0m\u001b[0;34m\u001b[0m\u001b[0;34m\u001b[0m\u001b[0m\n\u001b[1;32m   2743\u001b[0m \u001b[0;34m\u001b[0m\u001b[0m\n\u001b[0;32m-> 2744\u001b[0;31m     \u001b[0;32mreturn\u001b[0m \u001b[0mklass\u001b[0m\u001b[0;34m(\u001b[0m\u001b[0mvalues\u001b[0m\u001b[0;34m,\u001b[0m \u001b[0mndim\u001b[0m\u001b[0;34m=\u001b[0m\u001b[0mndim\u001b[0m\u001b[0;34m,\u001b[0m \u001b[0mplacement\u001b[0m\u001b[0;34m=\u001b[0m\u001b[0mplacement\u001b[0m\u001b[0;34m)\u001b[0m\u001b[0;34m\u001b[0m\u001b[0;34m\u001b[0m\u001b[0m\n\u001b[0m\u001b[1;32m   2745\u001b[0m \u001b[0;34m\u001b[0m\u001b[0m\n\u001b[1;32m   2746\u001b[0m \u001b[0;34m\u001b[0m\u001b[0m\n",
            "\u001b[0;32m/usr/local/lib/python3.7/dist-packages/pandas/core/internals/blocks.py\u001b[0m in \u001b[0;36m__init__\u001b[0;34m(self, values, placement, ndim)\u001b[0m\n\u001b[1;32m    123\u001b[0m \u001b[0;34m\u001b[0m\u001b[0m\n\u001b[1;32m    124\u001b[0m     \u001b[0;32mdef\u001b[0m \u001b[0m__init__\u001b[0m\u001b[0;34m(\u001b[0m\u001b[0mself\u001b[0m\u001b[0;34m,\u001b[0m \u001b[0mvalues\u001b[0m\u001b[0;34m,\u001b[0m \u001b[0mplacement\u001b[0m\u001b[0;34m,\u001b[0m \u001b[0mndim\u001b[0m\u001b[0;34m=\u001b[0m\u001b[0;32mNone\u001b[0m\u001b[0;34m)\u001b[0m\u001b[0;34m:\u001b[0m\u001b[0;34m\u001b[0m\u001b[0;34m\u001b[0m\u001b[0m\n\u001b[0;32m--> 125\u001b[0;31m         \u001b[0mself\u001b[0m\u001b[0;34m.\u001b[0m\u001b[0mndim\u001b[0m \u001b[0;34m=\u001b[0m \u001b[0mself\u001b[0m\u001b[0;34m.\u001b[0m\u001b[0m_check_ndim\u001b[0m\u001b[0;34m(\u001b[0m\u001b[0mvalues\u001b[0m\u001b[0;34m,\u001b[0m \u001b[0mndim\u001b[0m\u001b[0;34m)\u001b[0m\u001b[0;34m\u001b[0m\u001b[0;34m\u001b[0m\u001b[0m\n\u001b[0m\u001b[1;32m    126\u001b[0m         \u001b[0mself\u001b[0m\u001b[0;34m.\u001b[0m\u001b[0mmgr_locs\u001b[0m \u001b[0;34m=\u001b[0m \u001b[0mplacement\u001b[0m\u001b[0;34m\u001b[0m\u001b[0;34m\u001b[0m\u001b[0m\n\u001b[1;32m    127\u001b[0m         \u001b[0mself\u001b[0m\u001b[0;34m.\u001b[0m\u001b[0mvalues\u001b[0m \u001b[0;34m=\u001b[0m \u001b[0mvalues\u001b[0m\u001b[0;34m\u001b[0m\u001b[0;34m\u001b[0m\u001b[0m\n",
            "\u001b[0;32m/usr/local/lib/python3.7/dist-packages/pandas/core/internals/blocks.py\u001b[0m in \u001b[0;36m_check_ndim\u001b[0;34m(self, values, ndim)\u001b[0m\n\u001b[1;32m    154\u001b[0m         \u001b[0mValueError\u001b[0m \u001b[0;34m:\u001b[0m \u001b[0mthe\u001b[0m \u001b[0mnumber\u001b[0m \u001b[0mof\u001b[0m \u001b[0mdimensions\u001b[0m \u001b[0mdo\u001b[0m \u001b[0;32mnot\u001b[0m \u001b[0mmatch\u001b[0m\u001b[0;34m\u001b[0m\u001b[0;34m\u001b[0m\u001b[0m\n\u001b[1;32m    155\u001b[0m         \"\"\"\n\u001b[0;32m--> 156\u001b[0;31m         \u001b[0;32mif\u001b[0m \u001b[0mndim\u001b[0m \u001b[0;32mis\u001b[0m \u001b[0;32mNone\u001b[0m\u001b[0;34m:\u001b[0m\u001b[0;34m\u001b[0m\u001b[0;34m\u001b[0m\u001b[0m\n\u001b[0m\u001b[1;32m    157\u001b[0m             \u001b[0mndim\u001b[0m \u001b[0;34m=\u001b[0m \u001b[0mvalues\u001b[0m\u001b[0;34m.\u001b[0m\u001b[0mndim\u001b[0m\u001b[0;34m\u001b[0m\u001b[0;34m\u001b[0m\u001b[0m\n\u001b[1;32m    158\u001b[0m \u001b[0;34m\u001b[0m\u001b[0m\n",
            "\u001b[0;31mKeyboardInterrupt\u001b[0m: "
          ]
        }
      ]
    },
    {
      "cell_type": "code",
      "metadata": {
        "colab": {
          "base_uri": "https://localhost:8080/",
          "height": 667
        },
        "id": "iqSjwSEYA9GJ",
        "outputId": "79e8f740-aa8f-46e3-8136-7e1198af54e5"
      },
      "source": [
        "#make triangle 3\n",
        "CV5 = make_triangle(CV4)\n",
        "for i in range(100):\n",
        "    CV5 = make_triangle(CV5)\n",
        "print('<<<triangle_3>>>')\n",
        "CV5 = check_score(CV5)\n",
        "print('--------------------')\n",
        "\n",
        "#remove device\n",
        "CV6 = remove_device(CV5)\n",
        "print('<<<remove_device>>>')\n",
        "CV6 = check_score(CV6)\n",
        "print('--------------------')\n",
        "\n",
        "#make triangle 4\n",
        "CV7 = make_triangle(CV6)\n",
        "for i in range(100):\n",
        "    CV7 = make_triangle(CV7)\n",
        "print('<<<triangle_4>>>')\n",
        "CV7 = check_score(CV7)\n",
        "print('--------------------')\n",
        "\n",
        "#position shift\n",
        "CV8 = position_shift_train(CV7)\n",
        "print('<<<position_shift>>>')\n",
        "CV8 = check_score(CV8)\n",
        "print('--------------------')\n",
        "\n",
        "#make triangle 5\n",
        "CV9 = make_triangle(CV8)\n",
        "for i in range(100):\n",
        "    CV9 = make_triangle(CV9)\n",
        "print('<<<triangle_5>>>')\n",
        "CV9 = check_score(CV9)\n",
        "print('--------------------')"
      ],
      "execution_count": null,
      "outputs": [
        {
          "output_type": "stream",
          "text": [
            "/usr/local/lib/python3.7/dist-packages/ipykernel_launcher.py:37: RuntimeWarning:\n",
            "\n",
            "invalid value encountered in double_scalars\n",
            "\n"
          ],
          "name": "stderr"
        },
        {
          "output_type": "stream",
          "text": [
            "<<<triangle_3>>>\n",
            "error meter: 2.8872760220798033\n",
            "score: 3.9663206629532684\n",
            "--------------------\n",
            "<<<remove_device>>>\n",
            "error meter: 2.8016813590135117\n",
            "score: 3.8280556672332895\n",
            "--------------------\n"
          ],
          "name": "stdout"
        },
        {
          "output_type": "stream",
          "text": [
            "/usr/local/lib/python3.7/dist-packages/ipykernel_launcher.py:37: RuntimeWarning:\n",
            "\n",
            "invalid value encountered in arccos\n",
            "\n"
          ],
          "name": "stderr"
        },
        {
          "output_type": "error",
          "ename": "KeyboardInterrupt",
          "evalue": "ignored",
          "traceback": [
            "\u001b[0;31m---------------------------------------------------------------------------\u001b[0m",
            "\u001b[0;31mKeyboardInterrupt\u001b[0m                         Traceback (most recent call last)",
            "\u001b[0;32m<ipython-input-81-38f9a6c958bc>\u001b[0m in \u001b[0;36m<module>\u001b[0;34m()\u001b[0m\n\u001b[1;32m     16\u001b[0m \u001b[0mCV7\u001b[0m \u001b[0;34m=\u001b[0m \u001b[0mmake_triangle\u001b[0m\u001b[0;34m(\u001b[0m\u001b[0mCV6\u001b[0m\u001b[0;34m)\u001b[0m\u001b[0;34m\u001b[0m\u001b[0;34m\u001b[0m\u001b[0m\n\u001b[1;32m     17\u001b[0m \u001b[0;32mfor\u001b[0m \u001b[0mi\u001b[0m \u001b[0;32min\u001b[0m \u001b[0mrange\u001b[0m\u001b[0;34m(\u001b[0m\u001b[0;36m100\u001b[0m\u001b[0;34m)\u001b[0m\u001b[0;34m:\u001b[0m\u001b[0;34m\u001b[0m\u001b[0;34m\u001b[0m\u001b[0m\n\u001b[0;32m---> 18\u001b[0;31m     \u001b[0mCV7\u001b[0m \u001b[0;34m=\u001b[0m \u001b[0mmake_triangle\u001b[0m\u001b[0;34m(\u001b[0m\u001b[0mCV7\u001b[0m\u001b[0;34m)\u001b[0m\u001b[0;34m\u001b[0m\u001b[0;34m\u001b[0m\u001b[0m\n\u001b[0m\u001b[1;32m     19\u001b[0m \u001b[0mprint\u001b[0m\u001b[0;34m(\u001b[0m\u001b[0;34m'<<<triangle_4>>>'\u001b[0m\u001b[0;34m)\u001b[0m\u001b[0;34m\u001b[0m\u001b[0;34m\u001b[0m\u001b[0m\n\u001b[1;32m     20\u001b[0m \u001b[0mCV7\u001b[0m \u001b[0;34m=\u001b[0m \u001b[0mcheck_score\u001b[0m\u001b[0;34m(\u001b[0m\u001b[0mCV7\u001b[0m\u001b[0;34m)\u001b[0m\u001b[0;34m\u001b[0m\u001b[0;34m\u001b[0m\u001b[0m\n",
            "\u001b[0;32m<ipython-input-43-cbe59a315a36>\u001b[0m in \u001b[0;36mmake_triangle\u001b[0;34m(input_df)\u001b[0m\n\u001b[1;32m      7\u001b[0m \u001b[0;34m\u001b[0m\u001b[0m\n\u001b[1;32m      8\u001b[0m     \u001b[0;32mfor\u001b[0m \u001b[0mcollection\u001b[0m \u001b[0;32min\u001b[0m \u001b[0moutput_df\u001b[0m\u001b[0;34m[\u001b[0m\u001b[0;34m\"collectionName\"\u001b[0m\u001b[0;34m]\u001b[0m\u001b[0;34m.\u001b[0m\u001b[0munique\u001b[0m\u001b[0;34m(\u001b[0m\u001b[0;34m)\u001b[0m\u001b[0;34m:\u001b[0m\u001b[0;34m\u001b[0m\u001b[0;34m\u001b[0m\u001b[0m\n\u001b[0;32m----> 9\u001b[0;31m         \u001b[0mcollection_df\u001b[0m \u001b[0;34m=\u001b[0m \u001b[0moutput_df\u001b[0m\u001b[0;34m[\u001b[0m\u001b[0moutput_df\u001b[0m\u001b[0;34m[\u001b[0m\u001b[0;34m\"collectionName\"\u001b[0m\u001b[0;34m]\u001b[0m \u001b[0;34m==\u001b[0m \u001b[0mcollection\u001b[0m\u001b[0;34m]\u001b[0m\u001b[0;34m\u001b[0m\u001b[0;34m\u001b[0m\u001b[0m\n\u001b[0m\u001b[1;32m     10\u001b[0m         \u001b[0;32mif\u001b[0m \u001b[0mcollection\u001b[0m \u001b[0;32min\u001b[0m \u001b[0moutput_df\u001b[0m\u001b[0;34m[\u001b[0m\u001b[0;34m\"collectionName\"\u001b[0m\u001b[0;34m]\u001b[0m\u001b[0;34m.\u001b[0m\u001b[0munique\u001b[0m\u001b[0;34m(\u001b[0m\u001b[0;34m)\u001b[0m\u001b[0;34m:\u001b[0m\u001b[0;34m\u001b[0m\u001b[0;34m\u001b[0m\u001b[0m\n\u001b[1;32m     11\u001b[0m             \u001b[0;32mfor\u001b[0m \u001b[0mphone\u001b[0m \u001b[0;32min\u001b[0m \u001b[0mcollection_df\u001b[0m\u001b[0;34m[\u001b[0m\u001b[0;34m\"phoneName\"\u001b[0m\u001b[0;34m]\u001b[0m\u001b[0;34m.\u001b[0m\u001b[0munique\u001b[0m\u001b[0;34m(\u001b[0m\u001b[0;34m)\u001b[0m\u001b[0;34m:\u001b[0m\u001b[0;34m\u001b[0m\u001b[0;34m\u001b[0m\u001b[0m\n",
            "\u001b[0;32m/usr/local/lib/python3.7/dist-packages/pandas/core/ops/common.py\u001b[0m in \u001b[0;36mnew_method\u001b[0;34m(self, other)\u001b[0m\n\u001b[1;32m     63\u001b[0m         \u001b[0mother\u001b[0m \u001b[0;34m=\u001b[0m \u001b[0mitem_from_zerodim\u001b[0m\u001b[0;34m(\u001b[0m\u001b[0mother\u001b[0m\u001b[0;34m)\u001b[0m\u001b[0;34m\u001b[0m\u001b[0;34m\u001b[0m\u001b[0m\n\u001b[1;32m     64\u001b[0m \u001b[0;34m\u001b[0m\u001b[0m\n\u001b[0;32m---> 65\u001b[0;31m         \u001b[0;32mreturn\u001b[0m \u001b[0mmethod\u001b[0m\u001b[0;34m(\u001b[0m\u001b[0mself\u001b[0m\u001b[0;34m,\u001b[0m \u001b[0mother\u001b[0m\u001b[0;34m)\u001b[0m\u001b[0;34m\u001b[0m\u001b[0;34m\u001b[0m\u001b[0m\n\u001b[0m\u001b[1;32m     66\u001b[0m \u001b[0;34m\u001b[0m\u001b[0m\n\u001b[1;32m     67\u001b[0m     \u001b[0;32mreturn\u001b[0m \u001b[0mnew_method\u001b[0m\u001b[0;34m\u001b[0m\u001b[0;34m\u001b[0m\u001b[0m\n",
            "\u001b[0;32m/usr/local/lib/python3.7/dist-packages/pandas/core/ops/__init__.py\u001b[0m in \u001b[0;36mwrapper\u001b[0;34m(self, other)\u001b[0m\n\u001b[1;32m    368\u001b[0m         \u001b[0mrvalues\u001b[0m \u001b[0;34m=\u001b[0m \u001b[0mextract_array\u001b[0m\u001b[0;34m(\u001b[0m\u001b[0mother\u001b[0m\u001b[0;34m,\u001b[0m \u001b[0mextract_numpy\u001b[0m\u001b[0;34m=\u001b[0m\u001b[0;32mTrue\u001b[0m\u001b[0;34m)\u001b[0m\u001b[0;34m\u001b[0m\u001b[0;34m\u001b[0m\u001b[0m\n\u001b[1;32m    369\u001b[0m \u001b[0;34m\u001b[0m\u001b[0m\n\u001b[0;32m--> 370\u001b[0;31m         \u001b[0mres_values\u001b[0m \u001b[0;34m=\u001b[0m \u001b[0mcomparison_op\u001b[0m\u001b[0;34m(\u001b[0m\u001b[0mlvalues\u001b[0m\u001b[0;34m,\u001b[0m \u001b[0mrvalues\u001b[0m\u001b[0;34m,\u001b[0m \u001b[0mop\u001b[0m\u001b[0;34m)\u001b[0m\u001b[0;34m\u001b[0m\u001b[0;34m\u001b[0m\u001b[0m\n\u001b[0m\u001b[1;32m    371\u001b[0m \u001b[0;34m\u001b[0m\u001b[0m\n\u001b[1;32m    372\u001b[0m         \u001b[0;32mreturn\u001b[0m \u001b[0mself\u001b[0m\u001b[0;34m.\u001b[0m\u001b[0m_construct_result\u001b[0m\u001b[0;34m(\u001b[0m\u001b[0mres_values\u001b[0m\u001b[0;34m,\u001b[0m \u001b[0mname\u001b[0m\u001b[0;34m=\u001b[0m\u001b[0mres_name\u001b[0m\u001b[0;34m)\u001b[0m\u001b[0;34m\u001b[0m\u001b[0;34m\u001b[0m\u001b[0m\n",
            "\u001b[0;32m/usr/local/lib/python3.7/dist-packages/pandas/core/ops/array_ops.py\u001b[0m in \u001b[0;36mcomparison_op\u001b[0;34m(left, right, op)\u001b[0m\n\u001b[1;32m    242\u001b[0m \u001b[0;34m\u001b[0m\u001b[0m\n\u001b[1;32m    243\u001b[0m     \u001b[0;32melif\u001b[0m \u001b[0mis_object_dtype\u001b[0m\u001b[0;34m(\u001b[0m\u001b[0mlvalues\u001b[0m\u001b[0;34m.\u001b[0m\u001b[0mdtype\u001b[0m\u001b[0;34m)\u001b[0m\u001b[0;34m:\u001b[0m\u001b[0;34m\u001b[0m\u001b[0;34m\u001b[0m\u001b[0m\n\u001b[0;32m--> 244\u001b[0;31m         \u001b[0mres_values\u001b[0m \u001b[0;34m=\u001b[0m \u001b[0mcomp_method_OBJECT_ARRAY\u001b[0m\u001b[0;34m(\u001b[0m\u001b[0mop\u001b[0m\u001b[0;34m,\u001b[0m \u001b[0mlvalues\u001b[0m\u001b[0;34m,\u001b[0m \u001b[0mrvalues\u001b[0m\u001b[0;34m)\u001b[0m\u001b[0;34m\u001b[0m\u001b[0;34m\u001b[0m\u001b[0m\n\u001b[0m\u001b[1;32m    245\u001b[0m \u001b[0;34m\u001b[0m\u001b[0m\n\u001b[1;32m    246\u001b[0m     \u001b[0;32melse\u001b[0m\u001b[0;34m:\u001b[0m\u001b[0;34m\u001b[0m\u001b[0;34m\u001b[0m\u001b[0m\n",
            "\u001b[0;32m/usr/local/lib/python3.7/dist-packages/pandas/core/ops/array_ops.py\u001b[0m in \u001b[0;36mcomp_method_OBJECT_ARRAY\u001b[0;34m(op, x, y)\u001b[0m\n\u001b[1;32m     54\u001b[0m         \u001b[0mresult\u001b[0m \u001b[0;34m=\u001b[0m \u001b[0mlibops\u001b[0m\u001b[0;34m.\u001b[0m\u001b[0mvec_compare\u001b[0m\u001b[0;34m(\u001b[0m\u001b[0mx\u001b[0m\u001b[0;34m.\u001b[0m\u001b[0mravel\u001b[0m\u001b[0;34m(\u001b[0m\u001b[0;34m)\u001b[0m\u001b[0;34m,\u001b[0m \u001b[0my\u001b[0m\u001b[0;34m.\u001b[0m\u001b[0mravel\u001b[0m\u001b[0;34m(\u001b[0m\u001b[0;34m)\u001b[0m\u001b[0;34m,\u001b[0m \u001b[0mop\u001b[0m\u001b[0;34m)\u001b[0m\u001b[0;34m\u001b[0m\u001b[0;34m\u001b[0m\u001b[0m\n\u001b[1;32m     55\u001b[0m     \u001b[0;32melse\u001b[0m\u001b[0;34m:\u001b[0m\u001b[0;34m\u001b[0m\u001b[0;34m\u001b[0m\u001b[0m\n\u001b[0;32m---> 56\u001b[0;31m         \u001b[0mresult\u001b[0m \u001b[0;34m=\u001b[0m \u001b[0mlibops\u001b[0m\u001b[0;34m.\u001b[0m\u001b[0mscalar_compare\u001b[0m\u001b[0;34m(\u001b[0m\u001b[0mx\u001b[0m\u001b[0;34m.\u001b[0m\u001b[0mravel\u001b[0m\u001b[0;34m(\u001b[0m\u001b[0;34m)\u001b[0m\u001b[0;34m,\u001b[0m \u001b[0my\u001b[0m\u001b[0;34m,\u001b[0m \u001b[0mop\u001b[0m\u001b[0;34m)\u001b[0m\u001b[0;34m\u001b[0m\u001b[0;34m\u001b[0m\u001b[0m\n\u001b[0m\u001b[1;32m     57\u001b[0m     \u001b[0;32mreturn\u001b[0m \u001b[0mresult\u001b[0m\u001b[0;34m.\u001b[0m\u001b[0mreshape\u001b[0m\u001b[0;34m(\u001b[0m\u001b[0mx\u001b[0m\u001b[0;34m.\u001b[0m\u001b[0mshape\u001b[0m\u001b[0;34m)\u001b[0m\u001b[0;34m\u001b[0m\u001b[0;34m\u001b[0m\u001b[0m\n\u001b[1;32m     58\u001b[0m \u001b[0;34m\u001b[0m\u001b[0m\n",
            "\u001b[0;31mKeyboardInterrupt\u001b[0m: "
          ]
        }
      ]
    },
    {
      "cell_type": "code",
      "metadata": {
        "colab": {
          "base_uri": "https://localhost:8080/"
        },
        "id": "BAJq3KicDc87",
        "outputId": "dff7002b-5cb4-404d-b057-cc57a1d871ad"
      },
      "source": [
        "CV5 = make_triangle(CV4)\n",
        "for i in range(100):\n",
        "    CV5 = make_triangle(CV5)\n",
        "print('<<<triangle_3>>>')\n",
        "CV5 = check_score(CV5)\n",
        "print('--------------------')\n",
        "\n",
        "#remove device\n",
        "CV6 = remove_device(CV5)\n",
        "print('<<<remove_device>>>')\n",
        "CV6 = check_score(CV6)\n",
        "print('--------------------')\n",
        "\n",
        "#make triangle 4\n",
        "CV7 = make_triangle(CV6)\n",
        "for i in range(100):\n",
        "    CV7 = make_triangle(CV7)\n",
        "print('<<<triangle_4>>>')\n",
        "CV7 = check_score(CV7)\n",
        "print('--------------------')\n",
        "\n",
        "#position shift\n",
        "CV8 = position_shift_train(CV7)\n",
        "print('<<<position_shift>>>')\n",
        "CV8 = check_score(CV8)\n",
        "print('--------------------')\n",
        "\n",
        "#make triangle 5\n",
        "CV9 = make_triangle(CV8)\n",
        "for i in range(100):\n",
        "    CV9 = make_triangle(CV9)\n",
        "print('<<<triangle_5>>>')\n",
        "CV9 = check_score(CV9)\n",
        "print('--------------------')\n"
      ],
      "execution_count": null,
      "outputs": [
        {
          "output_type": "stream",
          "text": [
            "/usr/local/lib/python3.7/dist-packages/ipykernel_launcher.py:37: RuntimeWarning:\n",
            "\n",
            "invalid value encountered in double_scalars\n",
            "\n"
          ],
          "name": "stderr"
        },
        {
          "output_type": "stream",
          "text": [
            "<<<triangle_3>>>\n",
            "error meter: 2.8872760220798033\n",
            "score: 3.9663206629532684\n",
            "--------------------\n",
            "<<<remove_device>>>\n",
            "error meter: 2.8016813590135117\n",
            "score: 3.8280556672332895\n",
            "--------------------\n"
          ],
          "name": "stdout"
        },
        {
          "output_type": "stream",
          "text": [
            "/usr/local/lib/python3.7/dist-packages/ipykernel_launcher.py:37: RuntimeWarning:\n",
            "\n",
            "invalid value encountered in arccos\n",
            "\n"
          ],
          "name": "stderr"
        },
        {
          "output_type": "stream",
          "text": [
            "<<<triangle_4>>>\n",
            "error meter: 2.798629756223295\n",
            "score: 3.8188926375636387\n",
            "--------------------\n"
          ],
          "name": "stdout"
        },
        {
          "output_type": "stream",
          "text": [
            "\u001b[32m[I 2021-07-27 13:16:24,488]\u001b[0m A new study created in memory with name: no-name-538cc2f8-d0c2-4066-a5a7-dfb2dec2dc79\u001b[0m\n",
            "\u001b[32m[I 2021-07-27 13:16:30,603]\u001b[0m Trial 0 finished with value: 5.199411117131468 and parameters: {'a': 0.39871402388982413}. Best is trial 0 with value: 5.199411117131468.\u001b[0m\n",
            "\u001b[32m[I 2021-07-27 13:16:36,920]\u001b[0m Trial 1 finished with value: 5.589611340299202 and parameters: {'a': -0.7105143249124917}. Best is trial 0 with value: 5.199411117131468.\u001b[0m\n",
            "\u001b[32m[I 2021-07-27 13:16:43,065]\u001b[0m Trial 2 finished with value: 5.2390746606111485 and parameters: {'a': 0.18262596065619374}. Best is trial 0 with value: 5.199411117131468.\u001b[0m\n",
            "\u001b[32m[I 2021-07-27 13:16:49,304]\u001b[0m Trial 3 finished with value: 5.1920706260870695 and parameters: {'a': 0.5006693314624016}. Best is trial 3 with value: 5.1920706260870695.\u001b[0m\n",
            "\u001b[32m[I 2021-07-27 13:16:55,519]\u001b[0m Trial 4 finished with value: 5.415305081495459 and parameters: {'a': -0.3552979753930845}. Best is trial 3 with value: 5.1920706260870695.\u001b[0m\n",
            "\u001b[32m[I 2021-07-27 13:17:01,670]\u001b[0m Trial 5 finished with value: 5.197777775841726 and parameters: {'a': 0.832183707913914}. Best is trial 3 with value: 5.1920706260870695.\u001b[0m\n",
            "\u001b[32m[I 2021-07-27 13:17:07,955]\u001b[0m Trial 6 finished with value: 5.587622721633346 and parameters: {'a': -0.7067528342915343}. Best is trial 3 with value: 5.1920706260870695.\u001b[0m\n",
            "\u001b[32m[I 2021-07-27 13:17:14,150]\u001b[0m Trial 7 finished with value: 5.194475687183939 and parameters: {'a': 0.7758769927461384}. Best is trial 3 with value: 5.1920706260870695.\u001b[0m\n",
            "\u001b[32m[I 2021-07-27 13:17:20,387]\u001b[0m Trial 8 finished with value: 5.452051230085054 and parameters: {'a': -0.438649245686616}. Best is trial 3 with value: 5.1920706260870695.\u001b[0m\n",
            "\u001b[32m[I 2021-07-27 13:17:26,536]\u001b[0m Trial 9 finished with value: 5.5454097587828155 and parameters: {'a': -0.6266978356354631}. Best is trial 3 with value: 5.1920706260870695.\u001b[0m\n",
            "\u001b[32m[I 2021-07-27 13:17:32,805]\u001b[0m Trial 10 finished with value: 5.192832997329529 and parameters: {'a': 0.4866330706604716}. Best is trial 3 with value: 5.1920706260870695.\u001b[0m\n",
            "\u001b[32m[I 2021-07-27 13:17:39,091]\u001b[0m Trial 11 finished with value: 5.194764088342815 and parameters: {'a': 0.4562369834748458}. Best is trial 3 with value: 5.1920706260870695.\u001b[0m\n",
            "\u001b[32m[I 2021-07-27 13:17:45,282]\u001b[0m Trial 12 finished with value: 5.297399581244434 and parameters: {'a': -0.02763972874381998}. Best is trial 3 with value: 5.1920706260870695.\u001b[0m\n",
            "\u001b[32m[I 2021-07-27 13:17:51,508]\u001b[0m Trial 13 finished with value: 5.210891174569188 and parameters: {'a': 0.9719370569332666}. Best is trial 3 with value: 5.1920706260870695.\u001b[0m\n",
            "\u001b[32m[I 2021-07-27 13:17:57,648]\u001b[0m Trial 14 finished with value: 5.191746136328942 and parameters: {'a': 0.5287217521087149}. Best is trial 14 with value: 5.191746136328942.\u001b[0m\n",
            "\u001b[32m[I 2021-07-27 13:18:03,924]\u001b[0m Trial 15 finished with value: 5.189064812350876 and parameters: {'a': 0.6951966464195524}. Best is trial 15 with value: 5.189064812350876.\u001b[0m\n",
            "\u001b[32m[I 2021-07-27 13:18:10,125]\u001b[0m Trial 16 finished with value: 5.274623669348345 and parameters: {'a': 0.04554630927434311}. Best is trial 15 with value: 5.189064812350876.\u001b[0m\n",
            "\u001b[32m[I 2021-07-27 13:18:16,379]\u001b[0m Trial 17 finished with value: 5.190999562090888 and parameters: {'a': 0.7209154183459628}. Best is trial 15 with value: 5.189064812350876.\u001b[0m\n",
            "\u001b[32m[I 2021-07-27 13:18:22,494]\u001b[0m Trial 18 finished with value: 5.195127594001248 and parameters: {'a': 0.7849198322724181}. Best is trial 15 with value: 5.189064812350876.\u001b[0m\n",
            "\u001b[32m[I 2021-07-27 13:18:28,728]\u001b[0m Trial 19 finished with value: 5.21357436168582 and parameters: {'a': 0.9920945004154105}. Best is trial 15 with value: 5.189064812350876.\u001b[0m\n",
            "\u001b[32m[I 2021-07-27 13:18:34,862]\u001b[0m Trial 20 finished with value: 5.22849658433025 and parameters: {'a': 0.22769678924740797}. Best is trial 15 with value: 5.189064812350876.\u001b[0m\n",
            "\u001b[32m[I 2021-07-27 13:18:41,156]\u001b[0m Trial 21 finished with value: 5.1883586103841 and parameters: {'a': 0.6276974210298021}. Best is trial 21 with value: 5.1883586103841.\u001b[0m\n",
            "\u001b[32m[I 2021-07-27 13:18:47,242]\u001b[0m Trial 22 finished with value: 5.190196153455782 and parameters: {'a': 0.712107206978016}. Best is trial 21 with value: 5.1883586103841.\u001b[0m\n",
            "\u001b[32m[I 2021-07-27 13:18:53,468]\u001b[0m Trial 23 finished with value: 5.188635032581736 and parameters: {'a': 0.6893905101111371}. Best is trial 21 with value: 5.1883586103841.\u001b[0m\n",
            "\u001b[32m[I 2021-07-27 13:18:59,538]\u001b[0m Trial 24 finished with value: 5.189480301249122 and parameters: {'a': 0.6096613029521699}. Best is trial 21 with value: 5.1883586103841.\u001b[0m\n",
            "\u001b[32m[I 2021-07-27 13:19:05,798]\u001b[0m Trial 25 finished with value: 5.210859398097415 and parameters: {'a': 0.9715307987893862}. Best is trial 21 with value: 5.1883586103841.\u001b[0m\n",
            "\u001b[32m[I 2021-07-27 13:19:12,100]\u001b[0m Trial 26 finished with value: 5.2119768511638105 and parameters: {'a': 0.32105291058903446}. Best is trial 21 with value: 5.1883586103841.\u001b[0m\n",
            "\u001b[32m[I 2021-07-27 13:19:18,271]\u001b[0m Trial 27 finished with value: 5.2011828117168 and parameters: {'a': 0.8867914099088993}. Best is trial 21 with value: 5.1883586103841.\u001b[0m\n",
            "\u001b[32m[I 2021-07-27 13:19:24,522]\u001b[0m Trial 28 finished with value: 5.332471601862226 and parameters: {'a': -0.1417508490788506}. Best is trial 21 with value: 5.1883586103841.\u001b[0m\n",
            "\u001b[32m[I 2021-07-27 13:19:30,645]\u001b[0m Trial 29 finished with value: 5.216288709184655 and parameters: {'a': 0.29406417657633177}. Best is trial 21 with value: 5.1883586103841.\u001b[0m\n"
          ],
          "name": "stderr"
        },
        {
          "output_type": "stream",
          "text": [
            "<<<position_shift>>>\n",
            "error meter: 2.754160689425094\n",
            "score: 3.762888258191012\n",
            "--------------------\n",
            "<<<triangle_5>>>\n",
            "error meter: 2.7477588856801645\n",
            "score: 3.749044614809234\n",
            "--------------------\n"
          ],
          "name": "stdout"
        }
      ]
    },
    {
      "cell_type": "code",
      "metadata": {
        "id": "G3qCk_JazSRc",
        "colab": {
          "base_uri": "https://localhost:8080/"
        },
        "outputId": "f1430eea-c633-42b7-c635-ac589cb0bfa1"
      },
      "source": [
        "#guass filter\n",
        "CV10 = gauss_filter(CV9)\n",
        "print('<<<guass_filter>>>')\n",
        "CV10 = check_score(CV10)\n",
        "print('--------------------')"
      ],
      "execution_count": null,
      "outputs": [
        {
          "output_type": "stream",
          "text": [
            "<<<guass_filter>>>\n",
            "error meter: 2.5985962795542012\n",
            "score: 3.598853566179588\n",
            "--------------------\n"
          ],
          "name": "stdout"
        }
      ]
    },
    {
      "cell_type": "code",
      "metadata": {
        "id": "CZNOzOMbzKnt",
        "colab": {
          "base_uri": "https://localhost:8080/"
        },
        "outputId": "9360848d-cbb9-4298-88af-73c1dce474c2"
      },
      "source": [
        "CV11 = move_closer_center_train(CV10)\n",
        "CV11 = check_score(CV11)"
      ],
      "execution_count": null,
      "outputs": [
        {
          "output_type": "stream",
          "text": [
            "now : 1/1\n",
            "2021-04-22-US-SJC-1\n"
          ],
          "name": "stdout"
        },
        {
          "output_type": "stream",
          "text": [
            "/usr/local/lib/python3.7/dist-packages/momepy/utils.py:418: UserWarning:\n",
            "\n",
            "Approach is not set. Defaulting to 'primal'.\n",
            "\n",
            "/usr/local/lib/python3.7/dist-packages/ipykernel_launcher.py:35: UserWarning:\n",
            "\n",
            "Geometry is in a geographic CRS. Results from 'distance' are likely incorrect. Use 'GeoSeries.to_crs()' to re-project geometries to a projected CRS before this operation.\n",
            "\n",
            "\n",
            "/usr/local/lib/python3.7/dist-packages/ipykernel_launcher.py:35: UserWarning:\n",
            "\n",
            "CRS mismatch between the CRS of left geometries and the CRS of right geometries.\n",
            "Use `to_crs()` to reproject one of the input geometries to match the CRS of the other.\n",
            "\n",
            "Left CRS: EPSG:4326\n",
            "Right CRS: None\n",
            "\n",
            "\n"
          ],
          "name": "stderr"
        },
        {
          "output_type": "stream",
          "text": [
            "25000\n",
            "now : 1/1\n",
            "2021-04-22-US-SJC-1\n"
          ],
          "name": "stdout"
        },
        {
          "output_type": "stream",
          "text": [
            "/usr/local/lib/python3.7/dist-packages/momepy/utils.py:418: UserWarning:\n",
            "\n",
            "Approach is not set. Defaulting to 'primal'.\n",
            "\n",
            "/usr/local/lib/python3.7/dist-packages/ipykernel_launcher.py:35: UserWarning:\n",
            "\n",
            "Geometry is in a geographic CRS. Results from 'distance' are likely incorrect. Use 'GeoSeries.to_crs()' to re-project geometries to a projected CRS before this operation.\n",
            "\n",
            "\n",
            "/usr/local/lib/python3.7/dist-packages/ipykernel_launcher.py:35: UserWarning:\n",
            "\n",
            "CRS mismatch between the CRS of left geometries and the CRS of right geometries.\n",
            "Use `to_crs()` to reproject one of the input geometries to match the CRS of the other.\n",
            "\n",
            "Left CRS: EPSG:4326\n",
            "Right CRS: None\n",
            "\n",
            "\n"
          ],
          "name": "stderr"
        },
        {
          "output_type": "stream",
          "text": [
            "24800\n"
          ],
          "name": "stdout"
        },
        {
          "output_type": "stream",
          "text": [
            "/usr/local/lib/python3.7/dist-packages/ipykernel_launcher.py:35: RuntimeWarning:\n",
            "\n",
            "invalid value encountered in true_divide\n",
            "\n"
          ],
          "name": "stderr"
        },
        {
          "output_type": "stream",
          "text": [
            "now : 1/1\n",
            "2021-04-28-US-SJC-1\n"
          ],
          "name": "stdout"
        },
        {
          "output_type": "stream",
          "text": [
            "/usr/local/lib/python3.7/dist-packages/momepy/utils.py:418: UserWarning:\n",
            "\n",
            "Approach is not set. Defaulting to 'primal'.\n",
            "\n",
            "/usr/local/lib/python3.7/dist-packages/ipykernel_launcher.py:35: UserWarning:\n",
            "\n",
            "Geometry is in a geographic CRS. Results from 'distance' are likely incorrect. Use 'GeoSeries.to_crs()' to re-project geometries to a projected CRS before this operation.\n",
            "\n",
            "\n",
            "/usr/local/lib/python3.7/dist-packages/ipykernel_launcher.py:35: UserWarning:\n",
            "\n",
            "CRS mismatch between the CRS of left geometries and the CRS of right geometries.\n",
            "Use `to_crs()` to reproject one of the input geometries to match the CRS of the other.\n",
            "\n",
            "Left CRS: EPSG:4326\n",
            "Right CRS: None\n",
            "\n",
            "\n"
          ],
          "name": "stderr"
        },
        {
          "output_type": "stream",
          "text": [
            "23000\n",
            "now : 1/1\n",
            "2021-04-28-US-SJC-1\n"
          ],
          "name": "stdout"
        },
        {
          "output_type": "stream",
          "text": [
            "/usr/local/lib/python3.7/dist-packages/momepy/utils.py:418: UserWarning:\n",
            "\n",
            "Approach is not set. Defaulting to 'primal'.\n",
            "\n",
            "/usr/local/lib/python3.7/dist-packages/ipykernel_launcher.py:35: UserWarning:\n",
            "\n",
            "Geometry is in a geographic CRS. Results from 'distance' are likely incorrect. Use 'GeoSeries.to_crs()' to re-project geometries to a projected CRS before this operation.\n",
            "\n",
            "\n",
            "/usr/local/lib/python3.7/dist-packages/ipykernel_launcher.py:35: UserWarning:\n",
            "\n",
            "CRS mismatch between the CRS of left geometries and the CRS of right geometries.\n",
            "Use `to_crs()` to reproject one of the input geometries to match the CRS of the other.\n",
            "\n",
            "Left CRS: EPSG:4326\n",
            "Right CRS: None\n",
            "\n",
            "\n"
          ],
          "name": "stderr"
        },
        {
          "output_type": "stream",
          "text": [
            "22200\n"
          ],
          "name": "stdout"
        },
        {
          "output_type": "stream",
          "text": [
            "/usr/local/lib/python3.7/dist-packages/ipykernel_launcher.py:35: RuntimeWarning:\n",
            "\n",
            "invalid value encountered in true_divide\n",
            "\n"
          ],
          "name": "stderr"
        },
        {
          "output_type": "stream",
          "text": [
            "now : 1/1\n",
            "2021-04-29-US-SJC-2\n"
          ],
          "name": "stdout"
        },
        {
          "output_type": "stream",
          "text": [
            "/usr/local/lib/python3.7/dist-packages/momepy/utils.py:418: UserWarning:\n",
            "\n",
            "Approach is not set. Defaulting to 'primal'.\n",
            "\n",
            "/usr/local/lib/python3.7/dist-packages/ipykernel_launcher.py:35: UserWarning:\n",
            "\n",
            "Geometry is in a geographic CRS. Results from 'distance' are likely incorrect. Use 'GeoSeries.to_crs()' to re-project geometries to a projected CRS before this operation.\n",
            "\n",
            "\n",
            "/usr/local/lib/python3.7/dist-packages/ipykernel_launcher.py:35: UserWarning:\n",
            "\n",
            "CRS mismatch between the CRS of left geometries and the CRS of right geometries.\n",
            "Use `to_crs()` to reproject one of the input geometries to match the CRS of the other.\n",
            "\n",
            "Left CRS: EPSG:4326\n",
            "Right CRS: None\n",
            "\n",
            "\n"
          ],
          "name": "stderr"
        },
        {
          "output_type": "stream",
          "text": [
            "23000\n",
            "now : 1/1\n",
            "2021-04-29-US-SJC-2\n"
          ],
          "name": "stdout"
        },
        {
          "output_type": "stream",
          "text": [
            "/usr/local/lib/python3.7/dist-packages/momepy/utils.py:418: UserWarning:\n",
            "\n",
            "Approach is not set. Defaulting to 'primal'.\n",
            "\n",
            "/usr/local/lib/python3.7/dist-packages/ipykernel_launcher.py:35: UserWarning:\n",
            "\n",
            "Geometry is in a geographic CRS. Results from 'distance' are likely incorrect. Use 'GeoSeries.to_crs()' to re-project geometries to a projected CRS before this operation.\n",
            "\n",
            "\n",
            "/usr/local/lib/python3.7/dist-packages/ipykernel_launcher.py:35: UserWarning:\n",
            "\n",
            "CRS mismatch between the CRS of left geometries and the CRS of right geometries.\n",
            "Use `to_crs()` to reproject one of the input geometries to match the CRS of the other.\n",
            "\n",
            "Left CRS: EPSG:4326\n",
            "Right CRS: None\n",
            "\n",
            "\n"
          ],
          "name": "stderr"
        },
        {
          "output_type": "stream",
          "text": [
            "24200\n"
          ],
          "name": "stdout"
        },
        {
          "output_type": "stream",
          "text": [
            "/usr/local/lib/python3.7/dist-packages/ipykernel_launcher.py:35: RuntimeWarning:\n",
            "\n",
            "invalid value encountered in true_divide\n",
            "\n"
          ],
          "name": "stderr"
        },
        {
          "output_type": "stream",
          "text": [
            "error meter: 2.5490919113806565\n",
            "score: 3.5357929140313216\n"
          ],
          "name": "stdout"
        }
      ]
    },
    {
      "cell_type": "code",
      "metadata": {
        "colab": {
          "base_uri": "https://localhost:8080/"
        },
        "id": "RWXF5zrjnyVK",
        "outputId": "fec52c97-1e98-455a-d151-0e39752224d7"
      },
      "source": [
        "CV11 = move_closer_center_train(CV10)\n",
        "CV11 = check_score(CV11)"
      ],
      "execution_count": null,
      "outputs": [
        {
          "output_type": "stream",
          "text": [
            "now : 1/1\n",
            "2021-04-22-US-SJC-1\n"
          ],
          "name": "stdout"
        },
        {
          "output_type": "stream",
          "text": [
            "/usr/local/lib/python3.7/dist-packages/momepy/utils.py:418: UserWarning:\n",
            "\n",
            "Approach is not set. Defaulting to 'primal'.\n",
            "\n",
            "/usr/local/lib/python3.7/dist-packages/ipykernel_launcher.py:35: UserWarning:\n",
            "\n",
            "Geometry is in a geographic CRS. Results from 'distance' are likely incorrect. Use 'GeoSeries.to_crs()' to re-project geometries to a projected CRS before this operation.\n",
            "\n",
            "\n",
            "/usr/local/lib/python3.7/dist-packages/ipykernel_launcher.py:35: UserWarning:\n",
            "\n",
            "CRS mismatch between the CRS of left geometries and the CRS of right geometries.\n",
            "Use `to_crs()` to reproject one of the input geometries to match the CRS of the other.\n",
            "\n",
            "Left CRS: EPSG:4326\n",
            "Right CRS: None\n",
            "\n",
            "\n"
          ],
          "name": "stderr"
        },
        {
          "output_type": "stream",
          "text": [
            "25000\n",
            "now : 1/1\n",
            "2021-04-22-US-SJC-1\n"
          ],
          "name": "stdout"
        },
        {
          "output_type": "stream",
          "text": [
            "/usr/local/lib/python3.7/dist-packages/momepy/utils.py:418: UserWarning:\n",
            "\n",
            "Approach is not set. Defaulting to 'primal'.\n",
            "\n",
            "/usr/local/lib/python3.7/dist-packages/ipykernel_launcher.py:35: UserWarning:\n",
            "\n",
            "Geometry is in a geographic CRS. Results from 'distance' are likely incorrect. Use 'GeoSeries.to_crs()' to re-project geometries to a projected CRS before this operation.\n",
            "\n",
            "\n",
            "/usr/local/lib/python3.7/dist-packages/ipykernel_launcher.py:35: UserWarning:\n",
            "\n",
            "CRS mismatch between the CRS of left geometries and the CRS of right geometries.\n",
            "Use `to_crs()` to reproject one of the input geometries to match the CRS of the other.\n",
            "\n",
            "Left CRS: EPSG:4326\n",
            "Right CRS: None\n",
            "\n",
            "\n"
          ],
          "name": "stderr"
        },
        {
          "output_type": "stream",
          "text": [
            "24800\n"
          ],
          "name": "stdout"
        },
        {
          "output_type": "stream",
          "text": [
            "/usr/local/lib/python3.7/dist-packages/ipykernel_launcher.py:35: RuntimeWarning:\n",
            "\n",
            "invalid value encountered in true_divide\n",
            "\n"
          ],
          "name": "stderr"
        },
        {
          "output_type": "stream",
          "text": [
            "now : 1/1\n",
            "2021-04-28-US-SJC-1\n"
          ],
          "name": "stdout"
        },
        {
          "output_type": "stream",
          "text": [
            "/usr/local/lib/python3.7/dist-packages/momepy/utils.py:418: UserWarning:\n",
            "\n",
            "Approach is not set. Defaulting to 'primal'.\n",
            "\n",
            "/usr/local/lib/python3.7/dist-packages/ipykernel_launcher.py:35: UserWarning:\n",
            "\n",
            "Geometry is in a geographic CRS. Results from 'distance' are likely incorrect. Use 'GeoSeries.to_crs()' to re-project geometries to a projected CRS before this operation.\n",
            "\n",
            "\n",
            "/usr/local/lib/python3.7/dist-packages/ipykernel_launcher.py:35: UserWarning:\n",
            "\n",
            "CRS mismatch between the CRS of left geometries and the CRS of right geometries.\n",
            "Use `to_crs()` to reproject one of the input geometries to match the CRS of the other.\n",
            "\n",
            "Left CRS: EPSG:4326\n",
            "Right CRS: None\n",
            "\n",
            "\n"
          ],
          "name": "stderr"
        },
        {
          "output_type": "stream",
          "text": [
            "23000\n",
            "now : 1/1\n",
            "2021-04-28-US-SJC-1\n"
          ],
          "name": "stdout"
        },
        {
          "output_type": "stream",
          "text": [
            "/usr/local/lib/python3.7/dist-packages/momepy/utils.py:418: UserWarning:\n",
            "\n",
            "Approach is not set. Defaulting to 'primal'.\n",
            "\n",
            "/usr/local/lib/python3.7/dist-packages/ipykernel_launcher.py:35: UserWarning:\n",
            "\n",
            "Geometry is in a geographic CRS. Results from 'distance' are likely incorrect. Use 'GeoSeries.to_crs()' to re-project geometries to a projected CRS before this operation.\n",
            "\n",
            "\n",
            "/usr/local/lib/python3.7/dist-packages/ipykernel_launcher.py:35: UserWarning:\n",
            "\n",
            "CRS mismatch between the CRS of left geometries and the CRS of right geometries.\n",
            "Use `to_crs()` to reproject one of the input geometries to match the CRS of the other.\n",
            "\n",
            "Left CRS: EPSG:4326\n",
            "Right CRS: None\n",
            "\n",
            "\n"
          ],
          "name": "stderr"
        },
        {
          "output_type": "stream",
          "text": [
            "22200\n"
          ],
          "name": "stdout"
        },
        {
          "output_type": "stream",
          "text": [
            "/usr/local/lib/python3.7/dist-packages/ipykernel_launcher.py:35: RuntimeWarning:\n",
            "\n",
            "invalid value encountered in true_divide\n",
            "\n"
          ],
          "name": "stderr"
        },
        {
          "output_type": "stream",
          "text": [
            "now : 1/1\n",
            "2021-04-29-US-SJC-2\n"
          ],
          "name": "stdout"
        },
        {
          "output_type": "stream",
          "text": [
            "/usr/local/lib/python3.7/dist-packages/momepy/utils.py:418: UserWarning:\n",
            "\n",
            "Approach is not set. Defaulting to 'primal'.\n",
            "\n",
            "/usr/local/lib/python3.7/dist-packages/ipykernel_launcher.py:35: UserWarning:\n",
            "\n",
            "Geometry is in a geographic CRS. Results from 'distance' are likely incorrect. Use 'GeoSeries.to_crs()' to re-project geometries to a projected CRS before this operation.\n",
            "\n",
            "\n",
            "/usr/local/lib/python3.7/dist-packages/ipykernel_launcher.py:35: UserWarning:\n",
            "\n",
            "CRS mismatch between the CRS of left geometries and the CRS of right geometries.\n",
            "Use `to_crs()` to reproject one of the input geometries to match the CRS of the other.\n",
            "\n",
            "Left CRS: EPSG:4326\n",
            "Right CRS: None\n",
            "\n",
            "\n"
          ],
          "name": "stderr"
        },
        {
          "output_type": "stream",
          "text": [
            "23000\n",
            "now : 1/1\n",
            "2021-04-29-US-SJC-2\n"
          ],
          "name": "stdout"
        },
        {
          "output_type": "stream",
          "text": [
            "/usr/local/lib/python3.7/dist-packages/momepy/utils.py:418: UserWarning:\n",
            "\n",
            "Approach is not set. Defaulting to 'primal'.\n",
            "\n",
            "/usr/local/lib/python3.7/dist-packages/ipykernel_launcher.py:35: UserWarning:\n",
            "\n",
            "Geometry is in a geographic CRS. Results from 'distance' are likely incorrect. Use 'GeoSeries.to_crs()' to re-project geometries to a projected CRS before this operation.\n",
            "\n",
            "\n",
            "/usr/local/lib/python3.7/dist-packages/ipykernel_launcher.py:35: UserWarning:\n",
            "\n",
            "CRS mismatch between the CRS of left geometries and the CRS of right geometries.\n",
            "Use `to_crs()` to reproject one of the input geometries to match the CRS of the other.\n",
            "\n",
            "Left CRS: EPSG:4326\n",
            "Right CRS: None\n",
            "\n",
            "\n"
          ],
          "name": "stderr"
        },
        {
          "output_type": "stream",
          "text": [
            "24200\n"
          ],
          "name": "stdout"
        },
        {
          "output_type": "stream",
          "text": [
            "/usr/local/lib/python3.7/dist-packages/ipykernel_launcher.py:35: RuntimeWarning:\n",
            "\n",
            "invalid value encountered in true_divide\n",
            "\n"
          ],
          "name": "stderr"
        },
        {
          "output_type": "stream",
          "text": [
            "error meter: 2.577580379005616\n",
            "score: 3.5374070421514436\n"
          ],
          "name": "stdout"
        }
      ]
    },
    {
      "cell_type": "code",
      "metadata": {
        "colab": {
          "base_uri": "https://localhost:8080/"
        },
        "id": "DZsUOPiaYl3-",
        "outputId": "17904e36-7dc7-45e8-dd8d-3353c7561949"
      },
      "source": [
        "CV11 = move_closer_center_train(CV10)\n",
        "CV11 = check_score(CV11)"
      ],
      "execution_count": null,
      "outputs": [
        {
          "output_type": "stream",
          "text": [
            "now : 1/1\n",
            "2021-04-22-US-SJC-1\n"
          ],
          "name": "stdout"
        },
        {
          "output_type": "stream",
          "text": [
            "/usr/local/lib/python3.7/dist-packages/momepy/utils.py:418: UserWarning:\n",
            "\n",
            "Approach is not set. Defaulting to 'primal'.\n",
            "\n",
            "/usr/local/lib/python3.7/dist-packages/ipykernel_launcher.py:35: UserWarning:\n",
            "\n",
            "Geometry is in a geographic CRS. Results from 'distance' are likely incorrect. Use 'GeoSeries.to_crs()' to re-project geometries to a projected CRS before this operation.\n",
            "\n",
            "\n",
            "/usr/local/lib/python3.7/dist-packages/ipykernel_launcher.py:35: UserWarning:\n",
            "\n",
            "CRS mismatch between the CRS of left geometries and the CRS of right geometries.\n",
            "Use `to_crs()` to reproject one of the input geometries to match the CRS of the other.\n",
            "\n",
            "Left CRS: EPSG:4326\n",
            "Right CRS: None\n",
            "\n",
            "\n"
          ],
          "name": "stderr"
        },
        {
          "output_type": "stream",
          "text": [
            "25000\n",
            "now : 1/1\n",
            "2021-04-22-US-SJC-1\n"
          ],
          "name": "stdout"
        },
        {
          "output_type": "stream",
          "text": [
            "/usr/local/lib/python3.7/dist-packages/momepy/utils.py:418: UserWarning:\n",
            "\n",
            "Approach is not set. Defaulting to 'primal'.\n",
            "\n",
            "/usr/local/lib/python3.7/dist-packages/ipykernel_launcher.py:35: UserWarning:\n",
            "\n",
            "Geometry is in a geographic CRS. Results from 'distance' are likely incorrect. Use 'GeoSeries.to_crs()' to re-project geometries to a projected CRS before this operation.\n",
            "\n",
            "\n",
            "/usr/local/lib/python3.7/dist-packages/ipykernel_launcher.py:35: UserWarning:\n",
            "\n",
            "CRS mismatch between the CRS of left geometries and the CRS of right geometries.\n",
            "Use `to_crs()` to reproject one of the input geometries to match the CRS of the other.\n",
            "\n",
            "Left CRS: EPSG:4326\n",
            "Right CRS: None\n",
            "\n",
            "\n"
          ],
          "name": "stderr"
        },
        {
          "output_type": "stream",
          "text": [
            "24800\n",
            "now : 1/1\n",
            "2021-04-28-US-SJC-1\n"
          ],
          "name": "stdout"
        },
        {
          "output_type": "stream",
          "text": [
            "/usr/local/lib/python3.7/dist-packages/momepy/utils.py:418: UserWarning:\n",
            "\n",
            "Approach is not set. Defaulting to 'primal'.\n",
            "\n",
            "/usr/local/lib/python3.7/dist-packages/ipykernel_launcher.py:35: UserWarning:\n",
            "\n",
            "Geometry is in a geographic CRS. Results from 'distance' are likely incorrect. Use 'GeoSeries.to_crs()' to re-project geometries to a projected CRS before this operation.\n",
            "\n",
            "\n",
            "/usr/local/lib/python3.7/dist-packages/ipykernel_launcher.py:35: UserWarning:\n",
            "\n",
            "CRS mismatch between the CRS of left geometries and the CRS of right geometries.\n",
            "Use `to_crs()` to reproject one of the input geometries to match the CRS of the other.\n",
            "\n",
            "Left CRS: EPSG:4326\n",
            "Right CRS: None\n",
            "\n",
            "\n"
          ],
          "name": "stderr"
        },
        {
          "output_type": "stream",
          "text": [
            "23000\n",
            "now : 1/1\n",
            "2021-04-28-US-SJC-1\n"
          ],
          "name": "stdout"
        },
        {
          "output_type": "stream",
          "text": [
            "/usr/local/lib/python3.7/dist-packages/momepy/utils.py:418: UserWarning:\n",
            "\n",
            "Approach is not set. Defaulting to 'primal'.\n",
            "\n",
            "/usr/local/lib/python3.7/dist-packages/ipykernel_launcher.py:35: UserWarning:\n",
            "\n",
            "Geometry is in a geographic CRS. Results from 'distance' are likely incorrect. Use 'GeoSeries.to_crs()' to re-project geometries to a projected CRS before this operation.\n",
            "\n",
            "\n",
            "/usr/local/lib/python3.7/dist-packages/ipykernel_launcher.py:35: UserWarning:\n",
            "\n",
            "CRS mismatch between the CRS of left geometries and the CRS of right geometries.\n",
            "Use `to_crs()` to reproject one of the input geometries to match the CRS of the other.\n",
            "\n",
            "Left CRS: EPSG:4326\n",
            "Right CRS: None\n",
            "\n",
            "\n"
          ],
          "name": "stderr"
        },
        {
          "output_type": "stream",
          "text": [
            "22200\n",
            "now : 1/1\n",
            "2021-04-29-US-SJC-2\n"
          ],
          "name": "stdout"
        },
        {
          "output_type": "stream",
          "text": [
            "/usr/local/lib/python3.7/dist-packages/momepy/utils.py:418: UserWarning:\n",
            "\n",
            "Approach is not set. Defaulting to 'primal'.\n",
            "\n",
            "/usr/local/lib/python3.7/dist-packages/ipykernel_launcher.py:35: UserWarning:\n",
            "\n",
            "Geometry is in a geographic CRS. Results from 'distance' are likely incorrect. Use 'GeoSeries.to_crs()' to re-project geometries to a projected CRS before this operation.\n",
            "\n",
            "\n",
            "/usr/local/lib/python3.7/dist-packages/ipykernel_launcher.py:35: UserWarning:\n",
            "\n",
            "CRS mismatch between the CRS of left geometries and the CRS of right geometries.\n",
            "Use `to_crs()` to reproject one of the input geometries to match the CRS of the other.\n",
            "\n",
            "Left CRS: EPSG:4326\n",
            "Right CRS: None\n",
            "\n",
            "\n"
          ],
          "name": "stderr"
        },
        {
          "output_type": "stream",
          "text": [
            "23000\n",
            "now : 1/1\n",
            "2021-04-29-US-SJC-2\n"
          ],
          "name": "stdout"
        },
        {
          "output_type": "stream",
          "text": [
            "/usr/local/lib/python3.7/dist-packages/momepy/utils.py:418: UserWarning:\n",
            "\n",
            "Approach is not set. Defaulting to 'primal'.\n",
            "\n",
            "/usr/local/lib/python3.7/dist-packages/ipykernel_launcher.py:35: UserWarning:\n",
            "\n",
            "Geometry is in a geographic CRS. Results from 'distance' are likely incorrect. Use 'GeoSeries.to_crs()' to re-project geometries to a projected CRS before this operation.\n",
            "\n",
            "\n",
            "/usr/local/lib/python3.7/dist-packages/ipykernel_launcher.py:35: UserWarning:\n",
            "\n",
            "CRS mismatch between the CRS of left geometries and the CRS of right geometries.\n",
            "Use `to_crs()` to reproject one of the input geometries to match the CRS of the other.\n",
            "\n",
            "Left CRS: EPSG:4326\n",
            "Right CRS: None\n",
            "\n",
            "\n"
          ],
          "name": "stderr"
        },
        {
          "output_type": "stream",
          "text": [
            "24200\n",
            "error meter: 2.5466649511533928\n",
            "score: 3.5382805889340365\n"
          ],
          "name": "stdout"
        }
      ]
    },
    {
      "cell_type": "code",
      "metadata": {
        "id": "XUlKmA8tI2x4",
        "colab": {
          "base_uri": "https://localhost:8080/"
        },
        "outputId": "92291f0d-c51e-4982-e806-ce1ec1453097"
      },
      "source": [
        "CV12 = move_closer_truth_train(CV11)\n",
        "CV12 = check_score(CV12)"
      ],
      "execution_count": null,
      "outputs": [
        {
          "output_type": "stream",
          "text": [
            "/usr/local/lib/python3.7/dist-packages/ipykernel_launcher.py:15: SettingWithCopyWarning:\n",
            "\n",
            "\n",
            "A value is trying to be set on a copy of a slice from a DataFrame.\n",
            "Try using .loc[row_indexer,col_indexer] = value instead\n",
            "\n",
            "See the caveats in the documentation: https://pandas.pydata.org/pandas-docs/stable/user_guide/indexing.html#returning-a-view-versus-a-copy\n",
            "\n",
            "/usr/local/lib/python3.7/dist-packages/ipykernel_launcher.py:16: SettingWithCopyWarning:\n",
            "\n",
            "\n",
            "A value is trying to be set on a copy of a slice from a DataFrame.\n",
            "Try using .loc[row_indexer,col_indexer] = value instead\n",
            "\n",
            "See the caveats in the documentation: https://pandas.pydata.org/pandas-docs/stable/user_guide/indexing.html#returning-a-view-versus-a-copy\n",
            "\n"
          ],
          "name": "stderr"
        },
        {
          "output_type": "stream",
          "text": [
            "error meter: 2.5130143003659313\n",
            "score: 3.417382799496186\n"
          ],
          "name": "stdout"
        }
      ]
    },
    {
      "cell_type": "code",
      "metadata": {
        "colab": {
          "base_uri": "https://localhost:8080/"
        },
        "id": "-rhfqJn3jBYs",
        "outputId": "408a8924-a9a2-4447-8d22-2438437fad47"
      },
      "source": [
        "CV12 = move_closer_truth_train(CV11)\n",
        "CV12 = check_score(CV12)"
      ],
      "execution_count": null,
      "outputs": [
        {
          "output_type": "stream",
          "text": [
            "/usr/local/lib/python3.7/dist-packages/ipykernel_launcher.py:15: SettingWithCopyWarning:\n",
            "\n",
            "\n",
            "A value is trying to be set on a copy of a slice from a DataFrame.\n",
            "Try using .loc[row_indexer,col_indexer] = value instead\n",
            "\n",
            "See the caveats in the documentation: https://pandas.pydata.org/pandas-docs/stable/user_guide/indexing.html#returning-a-view-versus-a-copy\n",
            "\n",
            "/usr/local/lib/python3.7/dist-packages/ipykernel_launcher.py:16: SettingWithCopyWarning:\n",
            "\n",
            "\n",
            "A value is trying to be set on a copy of a slice from a DataFrame.\n",
            "Try using .loc[row_indexer,col_indexer] = value instead\n",
            "\n",
            "See the caveats in the documentation: https://pandas.pydata.org/pandas-docs/stable/user_guide/indexing.html#returning-a-view-versus-a-copy\n",
            "\n",
            "/usr/local/lib/python3.7/dist-packages/ipykernel_launcher.py:35: RuntimeWarning:\n",
            "\n",
            "invalid value encountered in true_divide\n",
            "\n"
          ],
          "name": "stderr"
        },
        {
          "output_type": "stream",
          "text": [
            "error meter: 2.535602280112725\n",
            "score: 3.445855476852887\n"
          ],
          "name": "stdout"
        }
      ]
    },
    {
      "cell_type": "markdown",
      "metadata": {
        "id": "6UWt5P7zQwxP"
      },
      "source": [
        "#submission"
      ]
    },
    {
      "cell_type": "code",
      "metadata": {
        "colab": {
          "base_uri": "https://localhost:8080/"
        },
        "id": "U-qhbrlXOXA4",
        "outputId": "6b9908ce-b702-4a99-8494-081ee89951df"
      },
      "source": [
        "#make triangle 1\n",
        "sub1 = make_triangle(test_base)\n",
        "for i in range(300):\n",
        "    sub1 = make_triangle(sub1)\n",
        "print('<<<triangle_1>>>')\n",
        "\n",
        "#outlier\n",
        "sub2 = outlier(sub1)\n",
        "print('<<<outlier>>>')\n",
        "\n",
        "#make triangle 2\n",
        "sub3 = make_triangle(sub2)\n",
        "for i in range(300):\n",
        "    sub3 = make_triangle(sub3)\n",
        "print('<<<triangle_2>>>')\n",
        "\n",
        "#phonse mean\n",
        "sub4 = mean_prediction(sub3)\n",
        "print('<<<phones_mean>>>')\n",
        "\n",
        "#make triangle 3\n",
        "sub5 = make_triangle(sub4)\n",
        "for i in range(300):\n",
        "    sub5 = make_triangle(sub5)\n",
        "print('<<<triangle_3>>>')\n",
        "\n",
        "#remove device\n",
        "sub6 = remove_device_by_score(sub5)\n",
        "print('<<<remove_device>>>')\n",
        "\n",
        "#make triangle 4\n",
        "sub7 = make_triangle(sub6)\n",
        "for i in range(300):\n",
        "    sub7 = make_triangle(sub7)\n",
        "print('<<<triangle_4>>>')\n",
        "\n",
        "#position shift\n",
        "sub8 = position_shift(sub7)\n",
        "print('<<<position_shift>>>')\n",
        "\n",
        "#make triangle 5\n",
        "sub9 = make_triangle(sub8)\n",
        "for i in range(300):\n",
        "    sub9 = make_triangle(sub9)\n",
        "print('<<<triangle_5>>>')\n",
        "\n",
        "#guass filter\n",
        "sub10 = gauss_filter(sub9)\n",
        "print('<<<guass_filter>>>')\n",
        "\n",
        "#move closer center\n",
        "sub11 = move_closer_center(sub10)\n",
        "print('<<<move_closer_center>>>')\n",
        "\n",
        "#move closer truth\n",
        "sub12 = move_closer_truth(sub11)\n",
        "print('<<<move_closer_truth>>>')\n"
      ],
      "execution_count": null,
      "outputs": [
        {
          "output_type": "stream",
          "text": [
            "/usr/local/lib/python3.7/dist-packages/ipykernel_launcher.py:37: RuntimeWarning:\n",
            "\n",
            "invalid value encountered in double_scalars\n",
            "\n"
          ],
          "name": "stderr"
        }
      ]
    },
    {
      "cell_type": "code",
      "metadata": {
        "id": "f7gndYYANy7_"
      },
      "source": [
        "sub12[sub.columns].to_csv(\"submission_69.csv\", index=False)"
      ],
      "execution_count": null,
      "outputs": []
    },
    {
      "cell_type": "code",
      "metadata": {
        "id": "uFq1lTdHS_au",
        "colab": {
          "base_uri": "https://localhost:8080/",
          "height": 694
        },
        "outputId": "03933550-a021-43f3-bf7d-5ae769c30d47"
      },
      "source": [
        "sub1"
      ],
      "execution_count": null,
      "outputs": [
        {
          "output_type": "execute_result",
          "data": {
            "text/html": [
              "<div>\n",
              "<style scoped>\n",
              "    .dataframe tbody tr th:only-of-type {\n",
              "        vertical-align: middle;\n",
              "    }\n",
              "\n",
              "    .dataframe tbody tr th {\n",
              "        vertical-align: top;\n",
              "    }\n",
              "\n",
              "    .dataframe thead th {\n",
              "        text-align: right;\n",
              "    }\n",
              "</style>\n",
              "<table border=\"1\" class=\"dataframe\">\n",
              "  <thead>\n",
              "    <tr style=\"text-align: right;\">\n",
              "      <th></th>\n",
              "      <th>phone</th>\n",
              "      <th>millisSinceGpsEpoch</th>\n",
              "      <th>latDeg</th>\n",
              "      <th>lngDeg</th>\n",
              "      <th>phoneName</th>\n",
              "      <th>collectionName</th>\n",
              "      <th>latDeg_from_gt</th>\n",
              "      <th>lngDeg_from_gt</th>\n",
              "      <th>latDeg_from_gt_pre</th>\n",
              "      <th>lngDeg_from_gt_pre</th>\n",
              "      <th>meter</th>\n",
              "    </tr>\n",
              "  </thead>\n",
              "  <tbody>\n",
              "    <tr>\n",
              "      <th>0</th>\n",
              "      <td>2020-05-15-US-MTV-1_Pixel4</td>\n",
              "      <td>1273608785432</td>\n",
              "      <td>37.416580</td>\n",
              "      <td>-122.082048</td>\n",
              "      <td>Pixel4</td>\n",
              "      <td>2020-05-15-US-MTV-1</td>\n",
              "      <td>NaN</td>\n",
              "      <td>NaN</td>\n",
              "      <td>NaN</td>\n",
              "      <td>NaN</td>\n",
              "      <td>NaN</td>\n",
              "    </tr>\n",
              "    <tr>\n",
              "      <th>1</th>\n",
              "      <td>2020-05-15-US-MTV-1_Pixel4</td>\n",
              "      <td>1273608786432</td>\n",
              "      <td>37.416588</td>\n",
              "      <td>-122.082053</td>\n",
              "      <td>Pixel4</td>\n",
              "      <td>2020-05-15-US-MTV-1</td>\n",
              "      <td>NaN</td>\n",
              "      <td>NaN</td>\n",
              "      <td>NaN</td>\n",
              "      <td>NaN</td>\n",
              "      <td>NaN</td>\n",
              "    </tr>\n",
              "    <tr>\n",
              "      <th>2</th>\n",
              "      <td>2020-05-15-US-MTV-1_Pixel4</td>\n",
              "      <td>1273608787432</td>\n",
              "      <td>37.416595</td>\n",
              "      <td>-122.082058</td>\n",
              "      <td>Pixel4</td>\n",
              "      <td>2020-05-15-US-MTV-1</td>\n",
              "      <td>NaN</td>\n",
              "      <td>NaN</td>\n",
              "      <td>NaN</td>\n",
              "      <td>NaN</td>\n",
              "      <td>NaN</td>\n",
              "    </tr>\n",
              "    <tr>\n",
              "      <th>3</th>\n",
              "      <td>2020-05-15-US-MTV-1_Pixel4</td>\n",
              "      <td>1273608788432</td>\n",
              "      <td>37.416599</td>\n",
              "      <td>-122.082061</td>\n",
              "      <td>Pixel4</td>\n",
              "      <td>2020-05-15-US-MTV-1</td>\n",
              "      <td>NaN</td>\n",
              "      <td>NaN</td>\n",
              "      <td>NaN</td>\n",
              "      <td>NaN</td>\n",
              "      <td>NaN</td>\n",
              "    </tr>\n",
              "    <tr>\n",
              "      <th>4</th>\n",
              "      <td>2020-05-15-US-MTV-1_Pixel4</td>\n",
              "      <td>1273608789432</td>\n",
              "      <td>37.416600</td>\n",
              "      <td>-122.082061</td>\n",
              "      <td>Pixel4</td>\n",
              "      <td>2020-05-15-US-MTV-1</td>\n",
              "      <td>NaN</td>\n",
              "      <td>NaN</td>\n",
              "      <td>NaN</td>\n",
              "      <td>NaN</td>\n",
              "      <td>NaN</td>\n",
              "    </tr>\n",
              "    <tr>\n",
              "      <th>...</th>\n",
              "      <td>...</td>\n",
              "      <td>...</td>\n",
              "      <td>...</td>\n",
              "      <td>...</td>\n",
              "      <td>...</td>\n",
              "      <td>...</td>\n",
              "      <td>...</td>\n",
              "      <td>...</td>\n",
              "      <td>...</td>\n",
              "      <td>...</td>\n",
              "      <td>...</td>\n",
              "    </tr>\n",
              "    <tr>\n",
              "      <th>91481</th>\n",
              "      <td>2021-04-29-US-SJC-3_SamsungS20Ultra</td>\n",
              "      <td>1303763185000</td>\n",
              "      <td>37.334544</td>\n",
              "      <td>-121.899475</td>\n",
              "      <td>SamsungS20Ultra</td>\n",
              "      <td>2021-04-29-US-SJC-3</td>\n",
              "      <td>37.334559</td>\n",
              "      <td>-121.899468</td>\n",
              "      <td>37.334559</td>\n",
              "      <td>-121.899468</td>\n",
              "      <td>1.838625</td>\n",
              "    </tr>\n",
              "    <tr>\n",
              "      <th>91482</th>\n",
              "      <td>2021-04-29-US-SJC-3_SamsungS20Ultra</td>\n",
              "      <td>1303763186000</td>\n",
              "      <td>37.334547</td>\n",
              "      <td>-121.899466</td>\n",
              "      <td>SamsungS20Ultra</td>\n",
              "      <td>2021-04-29-US-SJC-3</td>\n",
              "      <td>37.334559</td>\n",
              "      <td>-121.899468</td>\n",
              "      <td>37.334559</td>\n",
              "      <td>-121.899468</td>\n",
              "      <td>1.384773</td>\n",
              "    </tr>\n",
              "    <tr>\n",
              "      <th>91483</th>\n",
              "      <td>2021-04-29-US-SJC-3_SamsungS20Ultra</td>\n",
              "      <td>1303763187000</td>\n",
              "      <td>37.334549</td>\n",
              "      <td>-121.899457</td>\n",
              "      <td>SamsungS20Ultra</td>\n",
              "      <td>2021-04-29-US-SJC-3</td>\n",
              "      <td>37.334559</td>\n",
              "      <td>-121.899468</td>\n",
              "      <td>37.334559</td>\n",
              "      <td>-121.899468</td>\n",
              "      <td>1.475623</td>\n",
              "    </tr>\n",
              "    <tr>\n",
              "      <th>91484</th>\n",
              "      <td>2021-04-29-US-SJC-3_SamsungS20Ultra</td>\n",
              "      <td>1303763188000</td>\n",
              "      <td>37.334551</td>\n",
              "      <td>-121.899450</td>\n",
              "      <td>SamsungS20Ultra</td>\n",
              "      <td>2021-04-29-US-SJC-3</td>\n",
              "      <td>37.334559</td>\n",
              "      <td>-121.899468</td>\n",
              "      <td>37.334559</td>\n",
              "      <td>-121.899468</td>\n",
              "      <td>1.863298</td>\n",
              "    </tr>\n",
              "    <tr>\n",
              "      <th>91485</th>\n",
              "      <td>2021-04-29-US-SJC-3_SamsungS20Ultra</td>\n",
              "      <td>1303763189000</td>\n",
              "      <td>37.334550</td>\n",
              "      <td>-121.899453</td>\n",
              "      <td>SamsungS20Ultra</td>\n",
              "      <td>2021-04-29-US-SJC-3</td>\n",
              "      <td>37.334559</td>\n",
              "      <td>-121.899468</td>\n",
              "      <td>NaN</td>\n",
              "      <td>NaN</td>\n",
              "      <td>1.665423</td>\n",
              "    </tr>\n",
              "  </tbody>\n",
              "</table>\n",
              "<p>91486 rows × 11 columns</p>\n",
              "</div>"
            ],
            "text/plain": [
              "                                     phone  ...     meter\n",
              "0               2020-05-15-US-MTV-1_Pixel4  ...       NaN\n",
              "1               2020-05-15-US-MTV-1_Pixel4  ...       NaN\n",
              "2               2020-05-15-US-MTV-1_Pixel4  ...       NaN\n",
              "3               2020-05-15-US-MTV-1_Pixel4  ...       NaN\n",
              "4               2020-05-15-US-MTV-1_Pixel4  ...       NaN\n",
              "...                                    ...  ...       ...\n",
              "91481  2021-04-29-US-SJC-3_SamsungS20Ultra  ...  1.838625\n",
              "91482  2021-04-29-US-SJC-3_SamsungS20Ultra  ...  1.384773\n",
              "91483  2021-04-29-US-SJC-3_SamsungS20Ultra  ...  1.475623\n",
              "91484  2021-04-29-US-SJC-3_SamsungS20Ultra  ...  1.863298\n",
              "91485  2021-04-29-US-SJC-3_SamsungS20Ultra  ...  1.665423\n",
              "\n",
              "[91486 rows x 11 columns]"
            ]
          },
          "metadata": {
            "tags": []
          },
          "execution_count": 70
        }
      ]
    },
    {
      "cell_type": "code",
      "metadata": {
        "id": "uhHX84dD2g5E"
      },
      "source": [
        ""
      ],
      "execution_count": null,
      "outputs": []
    }
  ]
}