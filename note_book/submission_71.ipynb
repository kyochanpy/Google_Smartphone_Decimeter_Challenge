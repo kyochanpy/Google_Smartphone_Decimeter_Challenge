{
  "nbformat": 4,
  "nbformat_minor": 0,
  "metadata": {
    "colab": {
      "name": "Untitled126.ipynb",
      "provenance": [],
      "collapsed_sections": [
        "CnELqZfmOwbr",
        "N-kSEd_epofF",
        "XOJ-khTwOwZX",
        "1a-6kKK2OwW1",
        "qy8EnNQdOwUf"
      ],
      "mount_file_id": "1lXtX3b8oZbCrBJ2x8Niek9ejvNZUlDMn",
      "authorship_tag": "ABX9TyNNFDp1DYiW5xvKDTwys6B4",
      "include_colab_link": true
    },
    "kernelspec": {
      "display_name": "Python 3",
      "name": "python3"
    },
    "language_info": {
      "name": "python"
    },
    "widgets": {
      "application/vnd.jupyter.widget-state+json": {
        "dac1d1e0de9d44a591514ce4c7364a56": {
          "model_module": "@jupyter-widgets/controls",
          "model_name": "HBoxModel",
          "state": {
            "_view_name": "HBoxView",
            "_dom_classes": [],
            "_model_name": "HBoxModel",
            "_view_module": "@jupyter-widgets/controls",
            "_model_module_version": "1.5.0",
            "_view_count": null,
            "_view_module_version": "1.5.0",
            "box_style": "",
            "layout": "IPY_MODEL_60e3482e4cb54e80926668ac8ff2d626",
            "_model_module": "@jupyter-widgets/controls",
            "children": [
              "IPY_MODEL_d3f749bc54d04ab4908852a759b1c971",
              "IPY_MODEL_6e0e077ae711496694d1d8ac5ef023be"
            ]
          }
        },
        "60e3482e4cb54e80926668ac8ff2d626": {
          "model_module": "@jupyter-widgets/base",
          "model_name": "LayoutModel",
          "state": {
            "_view_name": "LayoutView",
            "grid_template_rows": null,
            "right": null,
            "justify_content": null,
            "_view_module": "@jupyter-widgets/base",
            "overflow": null,
            "_model_module_version": "1.2.0",
            "_view_count": null,
            "flex_flow": null,
            "width": null,
            "min_width": null,
            "border": null,
            "align_items": null,
            "bottom": null,
            "_model_module": "@jupyter-widgets/base",
            "top": null,
            "grid_column": null,
            "overflow_y": null,
            "overflow_x": null,
            "grid_auto_flow": null,
            "grid_area": null,
            "grid_template_columns": null,
            "flex": null,
            "_model_name": "LayoutModel",
            "justify_items": null,
            "grid_row": null,
            "max_height": null,
            "align_content": null,
            "visibility": null,
            "align_self": null,
            "height": null,
            "min_height": null,
            "padding": null,
            "grid_auto_rows": null,
            "grid_gap": null,
            "max_width": null,
            "order": null,
            "_view_module_version": "1.2.0",
            "grid_template_areas": null,
            "object_position": null,
            "object_fit": null,
            "grid_auto_columns": null,
            "margin": null,
            "display": null,
            "left": null
          }
        },
        "d3f749bc54d04ab4908852a759b1c971": {
          "model_module": "@jupyter-widgets/controls",
          "model_name": "FloatProgressModel",
          "state": {
            "_view_name": "ProgressView",
            "style": "IPY_MODEL_eca81a7597f040b0860a036fbdebc796",
            "_dom_classes": [],
            "description": " 32%",
            "_model_name": "FloatProgressModel",
            "bar_style": "",
            "max": 73,
            "_view_module": "@jupyter-widgets/controls",
            "_model_module_version": "1.5.0",
            "value": 23,
            "_view_count": null,
            "_view_module_version": "1.5.0",
            "orientation": "horizontal",
            "min": 0,
            "description_tooltip": null,
            "_model_module": "@jupyter-widgets/controls",
            "layout": "IPY_MODEL_fb4b334e7cb9422b9e28747348026925"
          }
        },
        "6e0e077ae711496694d1d8ac5ef023be": {
          "model_module": "@jupyter-widgets/controls",
          "model_name": "HTMLModel",
          "state": {
            "_view_name": "HTMLView",
            "style": "IPY_MODEL_539a40f0d55047deab664682965adae8",
            "_dom_classes": [],
            "description": "",
            "_model_name": "HTMLModel",
            "placeholder": "​",
            "_view_module": "@jupyter-widgets/controls",
            "_model_module_version": "1.5.0",
            "value": " 23/73 [00:16&lt;00:38,  1.30it/s]",
            "_view_count": null,
            "_view_module_version": "1.5.0",
            "description_tooltip": null,
            "_model_module": "@jupyter-widgets/controls",
            "layout": "IPY_MODEL_d3f9d907fcc9487faca1073f5d5ce110"
          }
        },
        "eca81a7597f040b0860a036fbdebc796": {
          "model_module": "@jupyter-widgets/controls",
          "model_name": "ProgressStyleModel",
          "state": {
            "_view_name": "StyleView",
            "_model_name": "ProgressStyleModel",
            "description_width": "initial",
            "_view_module": "@jupyter-widgets/base",
            "_model_module_version": "1.5.0",
            "_view_count": null,
            "_view_module_version": "1.2.0",
            "bar_color": null,
            "_model_module": "@jupyter-widgets/controls"
          }
        },
        "fb4b334e7cb9422b9e28747348026925": {
          "model_module": "@jupyter-widgets/base",
          "model_name": "LayoutModel",
          "state": {
            "_view_name": "LayoutView",
            "grid_template_rows": null,
            "right": null,
            "justify_content": null,
            "_view_module": "@jupyter-widgets/base",
            "overflow": null,
            "_model_module_version": "1.2.0",
            "_view_count": null,
            "flex_flow": null,
            "width": null,
            "min_width": null,
            "border": null,
            "align_items": null,
            "bottom": null,
            "_model_module": "@jupyter-widgets/base",
            "top": null,
            "grid_column": null,
            "overflow_y": null,
            "overflow_x": null,
            "grid_auto_flow": null,
            "grid_area": null,
            "grid_template_columns": null,
            "flex": null,
            "_model_name": "LayoutModel",
            "justify_items": null,
            "grid_row": null,
            "max_height": null,
            "align_content": null,
            "visibility": null,
            "align_self": null,
            "height": null,
            "min_height": null,
            "padding": null,
            "grid_auto_rows": null,
            "grid_gap": null,
            "max_width": null,
            "order": null,
            "_view_module_version": "1.2.0",
            "grid_template_areas": null,
            "object_position": null,
            "object_fit": null,
            "grid_auto_columns": null,
            "margin": null,
            "display": null,
            "left": null
          }
        },
        "539a40f0d55047deab664682965adae8": {
          "model_module": "@jupyter-widgets/controls",
          "model_name": "DescriptionStyleModel",
          "state": {
            "_view_name": "StyleView",
            "_model_name": "DescriptionStyleModel",
            "description_width": "",
            "_view_module": "@jupyter-widgets/base",
            "_model_module_version": "1.5.0",
            "_view_count": null,
            "_view_module_version": "1.2.0",
            "_model_module": "@jupyter-widgets/controls"
          }
        },
        "d3f9d907fcc9487faca1073f5d5ce110": {
          "model_module": "@jupyter-widgets/base",
          "model_name": "LayoutModel",
          "state": {
            "_view_name": "LayoutView",
            "grid_template_rows": null,
            "right": null,
            "justify_content": null,
            "_view_module": "@jupyter-widgets/base",
            "overflow": null,
            "_model_module_version": "1.2.0",
            "_view_count": null,
            "flex_flow": null,
            "width": null,
            "min_width": null,
            "border": null,
            "align_items": null,
            "bottom": null,
            "_model_module": "@jupyter-widgets/base",
            "top": null,
            "grid_column": null,
            "overflow_y": null,
            "overflow_x": null,
            "grid_auto_flow": null,
            "grid_area": null,
            "grid_template_columns": null,
            "flex": null,
            "_model_name": "LayoutModel",
            "justify_items": null,
            "grid_row": null,
            "max_height": null,
            "align_content": null,
            "visibility": null,
            "align_self": null,
            "height": null,
            "min_height": null,
            "padding": null,
            "grid_auto_rows": null,
            "grid_gap": null,
            "max_width": null,
            "order": null,
            "_view_module_version": "1.2.0",
            "grid_template_areas": null,
            "object_position": null,
            "object_fit": null,
            "grid_auto_columns": null,
            "margin": null,
            "display": null,
            "left": null
          }
        },
        "69fd286dcbae4a7b9d7ba358a40a4195": {
          "model_module": "@jupyter-widgets/controls",
          "model_name": "HBoxModel",
          "state": {
            "_view_name": "HBoxView",
            "_dom_classes": [],
            "_model_name": "HBoxModel",
            "_view_module": "@jupyter-widgets/controls",
            "_model_module_version": "1.5.0",
            "_view_count": null,
            "_view_module_version": "1.5.0",
            "box_style": "",
            "layout": "IPY_MODEL_a79d43e15b03486ba2e56093559e15d4",
            "_model_module": "@jupyter-widgets/controls",
            "children": [
              "IPY_MODEL_bc71e70756d1484ca5a34185861764e8",
              "IPY_MODEL_ec10c46cbfa14855aa4deef892302457"
            ]
          }
        },
        "a79d43e15b03486ba2e56093559e15d4": {
          "model_module": "@jupyter-widgets/base",
          "model_name": "LayoutModel",
          "state": {
            "_view_name": "LayoutView",
            "grid_template_rows": null,
            "right": null,
            "justify_content": null,
            "_view_module": "@jupyter-widgets/base",
            "overflow": null,
            "_model_module_version": "1.2.0",
            "_view_count": null,
            "flex_flow": null,
            "width": null,
            "min_width": null,
            "border": null,
            "align_items": null,
            "bottom": null,
            "_model_module": "@jupyter-widgets/base",
            "top": null,
            "grid_column": null,
            "overflow_y": null,
            "overflow_x": null,
            "grid_auto_flow": null,
            "grid_area": null,
            "grid_template_columns": null,
            "flex": null,
            "_model_name": "LayoutModel",
            "justify_items": null,
            "grid_row": null,
            "max_height": null,
            "align_content": null,
            "visibility": null,
            "align_self": null,
            "height": null,
            "min_height": null,
            "padding": null,
            "grid_auto_rows": null,
            "grid_gap": null,
            "max_width": null,
            "order": null,
            "_view_module_version": "1.2.0",
            "grid_template_areas": null,
            "object_position": null,
            "object_fit": null,
            "grid_auto_columns": null,
            "margin": null,
            "display": null,
            "left": null
          }
        },
        "bc71e70756d1484ca5a34185861764e8": {
          "model_module": "@jupyter-widgets/controls",
          "model_name": "FloatProgressModel",
          "state": {
            "_view_name": "ProgressView",
            "style": "IPY_MODEL_42bba96514024fd7b4210ae1917e438f",
            "_dom_classes": [],
            "description": "100%",
            "_model_name": "FloatProgressModel",
            "bar_style": "success",
            "max": 73,
            "_view_module": "@jupyter-widgets/controls",
            "_model_module_version": "1.5.0",
            "value": 73,
            "_view_count": null,
            "_view_module_version": "1.5.0",
            "orientation": "horizontal",
            "min": 0,
            "description_tooltip": null,
            "_model_module": "@jupyter-widgets/controls",
            "layout": "IPY_MODEL_b73bc404c9fb42f19b099e1181e1e768"
          }
        },
        "ec10c46cbfa14855aa4deef892302457": {
          "model_module": "@jupyter-widgets/controls",
          "model_name": "HTMLModel",
          "state": {
            "_view_name": "HTMLView",
            "style": "IPY_MODEL_67d8fbd362b8411aa38029616105874c",
            "_dom_classes": [],
            "description": "",
            "_model_name": "HTMLModel",
            "placeholder": "​",
            "_view_module": "@jupyter-widgets/controls",
            "_model_module_version": "1.5.0",
            "value": " 73/73 [00:57&lt;00:00,  1.26it/s]",
            "_view_count": null,
            "_view_module_version": "1.5.0",
            "description_tooltip": null,
            "_model_module": "@jupyter-widgets/controls",
            "layout": "IPY_MODEL_d64a4d86371a4647beff827a4e3573ee"
          }
        },
        "42bba96514024fd7b4210ae1917e438f": {
          "model_module": "@jupyter-widgets/controls",
          "model_name": "ProgressStyleModel",
          "state": {
            "_view_name": "StyleView",
            "_model_name": "ProgressStyleModel",
            "description_width": "initial",
            "_view_module": "@jupyter-widgets/base",
            "_model_module_version": "1.5.0",
            "_view_count": null,
            "_view_module_version": "1.2.0",
            "bar_color": null,
            "_model_module": "@jupyter-widgets/controls"
          }
        },
        "b73bc404c9fb42f19b099e1181e1e768": {
          "model_module": "@jupyter-widgets/base",
          "model_name": "LayoutModel",
          "state": {
            "_view_name": "LayoutView",
            "grid_template_rows": null,
            "right": null,
            "justify_content": null,
            "_view_module": "@jupyter-widgets/base",
            "overflow": null,
            "_model_module_version": "1.2.0",
            "_view_count": null,
            "flex_flow": null,
            "width": null,
            "min_width": null,
            "border": null,
            "align_items": null,
            "bottom": null,
            "_model_module": "@jupyter-widgets/base",
            "top": null,
            "grid_column": null,
            "overflow_y": null,
            "overflow_x": null,
            "grid_auto_flow": null,
            "grid_area": null,
            "grid_template_columns": null,
            "flex": null,
            "_model_name": "LayoutModel",
            "justify_items": null,
            "grid_row": null,
            "max_height": null,
            "align_content": null,
            "visibility": null,
            "align_self": null,
            "height": null,
            "min_height": null,
            "padding": null,
            "grid_auto_rows": null,
            "grid_gap": null,
            "max_width": null,
            "order": null,
            "_view_module_version": "1.2.0",
            "grid_template_areas": null,
            "object_position": null,
            "object_fit": null,
            "grid_auto_columns": null,
            "margin": null,
            "display": null,
            "left": null
          }
        },
        "67d8fbd362b8411aa38029616105874c": {
          "model_module": "@jupyter-widgets/controls",
          "model_name": "DescriptionStyleModel",
          "state": {
            "_view_name": "StyleView",
            "_model_name": "DescriptionStyleModel",
            "description_width": "",
            "_view_module": "@jupyter-widgets/base",
            "_model_module_version": "1.5.0",
            "_view_count": null,
            "_view_module_version": "1.2.0",
            "_model_module": "@jupyter-widgets/controls"
          }
        },
        "d64a4d86371a4647beff827a4e3573ee": {
          "model_module": "@jupyter-widgets/base",
          "model_name": "LayoutModel",
          "state": {
            "_view_name": "LayoutView",
            "grid_template_rows": null,
            "right": null,
            "justify_content": null,
            "_view_module": "@jupyter-widgets/base",
            "overflow": null,
            "_model_module_version": "1.2.0",
            "_view_count": null,
            "flex_flow": null,
            "width": null,
            "min_width": null,
            "border": null,
            "align_items": null,
            "bottom": null,
            "_model_module": "@jupyter-widgets/base",
            "top": null,
            "grid_column": null,
            "overflow_y": null,
            "overflow_x": null,
            "grid_auto_flow": null,
            "grid_area": null,
            "grid_template_columns": null,
            "flex": null,
            "_model_name": "LayoutModel",
            "justify_items": null,
            "grid_row": null,
            "max_height": null,
            "align_content": null,
            "visibility": null,
            "align_self": null,
            "height": null,
            "min_height": null,
            "padding": null,
            "grid_auto_rows": null,
            "grid_gap": null,
            "max_width": null,
            "order": null,
            "_view_module_version": "1.2.0",
            "grid_template_areas": null,
            "object_position": null,
            "object_fit": null,
            "grid_auto_columns": null,
            "margin": null,
            "display": null,
            "left": null
          }
        },
        "12eb059fa5184e669b7744fc67dbbaab": {
          "model_module": "@jupyter-widgets/controls",
          "model_name": "HBoxModel",
          "state": {
            "_view_name": "HBoxView",
            "_dom_classes": [],
            "_model_name": "HBoxModel",
            "_view_module": "@jupyter-widgets/controls",
            "_model_module_version": "1.5.0",
            "_view_count": null,
            "_view_module_version": "1.5.0",
            "box_style": "",
            "layout": "IPY_MODEL_f1b9fab39ffe4da1bd78790c548c81d0",
            "_model_module": "@jupyter-widgets/controls",
            "children": [
              "IPY_MODEL_fd93093648d14464b37408db9a95ec39",
              "IPY_MODEL_f539c90c01fd4916a96d7a4c657118c8"
            ]
          }
        },
        "f1b9fab39ffe4da1bd78790c548c81d0": {
          "model_module": "@jupyter-widgets/base",
          "model_name": "LayoutModel",
          "state": {
            "_view_name": "LayoutView",
            "grid_template_rows": null,
            "right": null,
            "justify_content": null,
            "_view_module": "@jupyter-widgets/base",
            "overflow": null,
            "_model_module_version": "1.2.0",
            "_view_count": null,
            "flex_flow": null,
            "width": null,
            "min_width": null,
            "border": null,
            "align_items": null,
            "bottom": null,
            "_model_module": "@jupyter-widgets/base",
            "top": null,
            "grid_column": null,
            "overflow_y": null,
            "overflow_x": null,
            "grid_auto_flow": null,
            "grid_area": null,
            "grid_template_columns": null,
            "flex": null,
            "_model_name": "LayoutModel",
            "justify_items": null,
            "grid_row": null,
            "max_height": null,
            "align_content": null,
            "visibility": null,
            "align_self": null,
            "height": null,
            "min_height": null,
            "padding": null,
            "grid_auto_rows": null,
            "grid_gap": null,
            "max_width": null,
            "order": null,
            "_view_module_version": "1.2.0",
            "grid_template_areas": null,
            "object_position": null,
            "object_fit": null,
            "grid_auto_columns": null,
            "margin": null,
            "display": null,
            "left": null
          }
        },
        "fd93093648d14464b37408db9a95ec39": {
          "model_module": "@jupyter-widgets/controls",
          "model_name": "FloatProgressModel",
          "state": {
            "_view_name": "ProgressView",
            "style": "IPY_MODEL_06b8873df84348ec883cdae6dd90ea44",
            "_dom_classes": [],
            "description": "100%",
            "_model_name": "FloatProgressModel",
            "bar_style": "success",
            "max": 73,
            "_view_module": "@jupyter-widgets/controls",
            "_model_module_version": "1.5.0",
            "value": 73,
            "_view_count": null,
            "_view_module_version": "1.5.0",
            "orientation": "horizontal",
            "min": 0,
            "description_tooltip": null,
            "_model_module": "@jupyter-widgets/controls",
            "layout": "IPY_MODEL_8dabf3360c1f40cabc6ede21f4225b38"
          }
        },
        "f539c90c01fd4916a96d7a4c657118c8": {
          "model_module": "@jupyter-widgets/controls",
          "model_name": "HTMLModel",
          "state": {
            "_view_name": "HTMLView",
            "style": "IPY_MODEL_ab32be716e574900aaaf6e631fc49ed5",
            "_dom_classes": [],
            "description": "",
            "_model_name": "HTMLModel",
            "placeholder": "​",
            "_view_module": "@jupyter-widgets/controls",
            "_model_module_version": "1.5.0",
            "value": " 73/73 [00:58&lt;00:00,  1.24it/s]",
            "_view_count": null,
            "_view_module_version": "1.5.0",
            "description_tooltip": null,
            "_model_module": "@jupyter-widgets/controls",
            "layout": "IPY_MODEL_e729d325a4504b38b58431b805834929"
          }
        },
        "06b8873df84348ec883cdae6dd90ea44": {
          "model_module": "@jupyter-widgets/controls",
          "model_name": "ProgressStyleModel",
          "state": {
            "_view_name": "StyleView",
            "_model_name": "ProgressStyleModel",
            "description_width": "initial",
            "_view_module": "@jupyter-widgets/base",
            "_model_module_version": "1.5.0",
            "_view_count": null,
            "_view_module_version": "1.2.0",
            "bar_color": null,
            "_model_module": "@jupyter-widgets/controls"
          }
        },
        "8dabf3360c1f40cabc6ede21f4225b38": {
          "model_module": "@jupyter-widgets/base",
          "model_name": "LayoutModel",
          "state": {
            "_view_name": "LayoutView",
            "grid_template_rows": null,
            "right": null,
            "justify_content": null,
            "_view_module": "@jupyter-widgets/base",
            "overflow": null,
            "_model_module_version": "1.2.0",
            "_view_count": null,
            "flex_flow": null,
            "width": null,
            "min_width": null,
            "border": null,
            "align_items": null,
            "bottom": null,
            "_model_module": "@jupyter-widgets/base",
            "top": null,
            "grid_column": null,
            "overflow_y": null,
            "overflow_x": null,
            "grid_auto_flow": null,
            "grid_area": null,
            "grid_template_columns": null,
            "flex": null,
            "_model_name": "LayoutModel",
            "justify_items": null,
            "grid_row": null,
            "max_height": null,
            "align_content": null,
            "visibility": null,
            "align_self": null,
            "height": null,
            "min_height": null,
            "padding": null,
            "grid_auto_rows": null,
            "grid_gap": null,
            "max_width": null,
            "order": null,
            "_view_module_version": "1.2.0",
            "grid_template_areas": null,
            "object_position": null,
            "object_fit": null,
            "grid_auto_columns": null,
            "margin": null,
            "display": null,
            "left": null
          }
        },
        "ab32be716e574900aaaf6e631fc49ed5": {
          "model_module": "@jupyter-widgets/controls",
          "model_name": "DescriptionStyleModel",
          "state": {
            "_view_name": "StyleView",
            "_model_name": "DescriptionStyleModel",
            "description_width": "",
            "_view_module": "@jupyter-widgets/base",
            "_model_module_version": "1.5.0",
            "_view_count": null,
            "_view_module_version": "1.2.0",
            "_model_module": "@jupyter-widgets/controls"
          }
        },
        "e729d325a4504b38b58431b805834929": {
          "model_module": "@jupyter-widgets/base",
          "model_name": "LayoutModel",
          "state": {
            "_view_name": "LayoutView",
            "grid_template_rows": null,
            "right": null,
            "justify_content": null,
            "_view_module": "@jupyter-widgets/base",
            "overflow": null,
            "_model_module_version": "1.2.0",
            "_view_count": null,
            "flex_flow": null,
            "width": null,
            "min_width": null,
            "border": null,
            "align_items": null,
            "bottom": null,
            "_model_module": "@jupyter-widgets/base",
            "top": null,
            "grid_column": null,
            "overflow_y": null,
            "overflow_x": null,
            "grid_auto_flow": null,
            "grid_area": null,
            "grid_template_columns": null,
            "flex": null,
            "_model_name": "LayoutModel",
            "justify_items": null,
            "grid_row": null,
            "max_height": null,
            "align_content": null,
            "visibility": null,
            "align_self": null,
            "height": null,
            "min_height": null,
            "padding": null,
            "grid_auto_rows": null,
            "grid_gap": null,
            "max_width": null,
            "order": null,
            "_view_module_version": "1.2.0",
            "grid_template_areas": null,
            "object_position": null,
            "object_fit": null,
            "grid_auto_columns": null,
            "margin": null,
            "display": null,
            "left": null
          }
        },
        "a3ed0ff90109432c932d3c85dd51173e": {
          "model_module": "@jupyter-widgets/controls",
          "model_name": "HBoxModel",
          "state": {
            "_view_name": "HBoxView",
            "_dom_classes": [],
            "_model_name": "HBoxModel",
            "_view_module": "@jupyter-widgets/controls",
            "_model_module_version": "1.5.0",
            "_view_count": null,
            "_view_module_version": "1.5.0",
            "box_style": "",
            "layout": "IPY_MODEL_00d91a216d1342d497ebb26a81c2aa6f",
            "_model_module": "@jupyter-widgets/controls",
            "children": [
              "IPY_MODEL_475ca3618c514310850a5d0fd5241529",
              "IPY_MODEL_3a973b3aa14d49eda757075c7c6d4376"
            ]
          }
        },
        "00d91a216d1342d497ebb26a81c2aa6f": {
          "model_module": "@jupyter-widgets/base",
          "model_name": "LayoutModel",
          "state": {
            "_view_name": "LayoutView",
            "grid_template_rows": null,
            "right": null,
            "justify_content": null,
            "_view_module": "@jupyter-widgets/base",
            "overflow": null,
            "_model_module_version": "1.2.0",
            "_view_count": null,
            "flex_flow": null,
            "width": null,
            "min_width": null,
            "border": null,
            "align_items": null,
            "bottom": null,
            "_model_module": "@jupyter-widgets/base",
            "top": null,
            "grid_column": null,
            "overflow_y": null,
            "overflow_x": null,
            "grid_auto_flow": null,
            "grid_area": null,
            "grid_template_columns": null,
            "flex": null,
            "_model_name": "LayoutModel",
            "justify_items": null,
            "grid_row": null,
            "max_height": null,
            "align_content": null,
            "visibility": null,
            "align_self": null,
            "height": null,
            "min_height": null,
            "padding": null,
            "grid_auto_rows": null,
            "grid_gap": null,
            "max_width": null,
            "order": null,
            "_view_module_version": "1.2.0",
            "grid_template_areas": null,
            "object_position": null,
            "object_fit": null,
            "grid_auto_columns": null,
            "margin": null,
            "display": null,
            "left": null
          }
        },
        "475ca3618c514310850a5d0fd5241529": {
          "model_module": "@jupyter-widgets/controls",
          "model_name": "FloatProgressModel",
          "state": {
            "_view_name": "ProgressView",
            "style": "IPY_MODEL_7dad14b674154fa393a70b3436d84182",
            "_dom_classes": [],
            "description": "100%",
            "_model_name": "FloatProgressModel",
            "bar_style": "success",
            "max": 48,
            "_view_module": "@jupyter-widgets/controls",
            "_model_module_version": "1.5.0",
            "value": 48,
            "_view_count": null,
            "_view_module_version": "1.5.0",
            "orientation": "horizontal",
            "min": 0,
            "description_tooltip": null,
            "_model_module": "@jupyter-widgets/controls",
            "layout": "IPY_MODEL_f21fbff4ec2a43ab9a65340485ce242d"
          }
        },
        "3a973b3aa14d49eda757075c7c6d4376": {
          "model_module": "@jupyter-widgets/controls",
          "model_name": "HTMLModel",
          "state": {
            "_view_name": "HTMLView",
            "style": "IPY_MODEL_44726141395441e59cf0fcdb9cc5dac4",
            "_dom_classes": [],
            "description": "",
            "_model_name": "HTMLModel",
            "placeholder": "​",
            "_view_module": "@jupyter-widgets/controls",
            "_model_module_version": "1.5.0",
            "value": " 48/48 [47:35&lt;00:00, 59.49s/it]",
            "_view_count": null,
            "_view_module_version": "1.5.0",
            "description_tooltip": null,
            "_model_module": "@jupyter-widgets/controls",
            "layout": "IPY_MODEL_1e0742a1bb0f434caa99cc303fd94e67"
          }
        },
        "7dad14b674154fa393a70b3436d84182": {
          "model_module": "@jupyter-widgets/controls",
          "model_name": "ProgressStyleModel",
          "state": {
            "_view_name": "StyleView",
            "_model_name": "ProgressStyleModel",
            "description_width": "initial",
            "_view_module": "@jupyter-widgets/base",
            "_model_module_version": "1.5.0",
            "_view_count": null,
            "_view_module_version": "1.2.0",
            "bar_color": null,
            "_model_module": "@jupyter-widgets/controls"
          }
        },
        "f21fbff4ec2a43ab9a65340485ce242d": {
          "model_module": "@jupyter-widgets/base",
          "model_name": "LayoutModel",
          "state": {
            "_view_name": "LayoutView",
            "grid_template_rows": null,
            "right": null,
            "justify_content": null,
            "_view_module": "@jupyter-widgets/base",
            "overflow": null,
            "_model_module_version": "1.2.0",
            "_view_count": null,
            "flex_flow": null,
            "width": null,
            "min_width": null,
            "border": null,
            "align_items": null,
            "bottom": null,
            "_model_module": "@jupyter-widgets/base",
            "top": null,
            "grid_column": null,
            "overflow_y": null,
            "overflow_x": null,
            "grid_auto_flow": null,
            "grid_area": null,
            "grid_template_columns": null,
            "flex": null,
            "_model_name": "LayoutModel",
            "justify_items": null,
            "grid_row": null,
            "max_height": null,
            "align_content": null,
            "visibility": null,
            "align_self": null,
            "height": null,
            "min_height": null,
            "padding": null,
            "grid_auto_rows": null,
            "grid_gap": null,
            "max_width": null,
            "order": null,
            "_view_module_version": "1.2.0",
            "grid_template_areas": null,
            "object_position": null,
            "object_fit": null,
            "grid_auto_columns": null,
            "margin": null,
            "display": null,
            "left": null
          }
        },
        "44726141395441e59cf0fcdb9cc5dac4": {
          "model_module": "@jupyter-widgets/controls",
          "model_name": "DescriptionStyleModel",
          "state": {
            "_view_name": "StyleView",
            "_model_name": "DescriptionStyleModel",
            "description_width": "",
            "_view_module": "@jupyter-widgets/base",
            "_model_module_version": "1.5.0",
            "_view_count": null,
            "_view_module_version": "1.2.0",
            "_model_module": "@jupyter-widgets/controls"
          }
        },
        "1e0742a1bb0f434caa99cc303fd94e67": {
          "model_module": "@jupyter-widgets/base",
          "model_name": "LayoutModel",
          "state": {
            "_view_name": "LayoutView",
            "grid_template_rows": null,
            "right": null,
            "justify_content": null,
            "_view_module": "@jupyter-widgets/base",
            "overflow": null,
            "_model_module_version": "1.2.0",
            "_view_count": null,
            "flex_flow": null,
            "width": null,
            "min_width": null,
            "border": null,
            "align_items": null,
            "bottom": null,
            "_model_module": "@jupyter-widgets/base",
            "top": null,
            "grid_column": null,
            "overflow_y": null,
            "overflow_x": null,
            "grid_auto_flow": null,
            "grid_area": null,
            "grid_template_columns": null,
            "flex": null,
            "_model_name": "LayoutModel",
            "justify_items": null,
            "grid_row": null,
            "max_height": null,
            "align_content": null,
            "visibility": null,
            "align_self": null,
            "height": null,
            "min_height": null,
            "padding": null,
            "grid_auto_rows": null,
            "grid_gap": null,
            "max_width": null,
            "order": null,
            "_view_module_version": "1.2.0",
            "grid_template_areas": null,
            "object_position": null,
            "object_fit": null,
            "grid_auto_columns": null,
            "margin": null,
            "display": null,
            "left": null
          }
        }
      }
    }
  },
  "cells": [
    {
      "cell_type": "markdown",
      "metadata": {
        "id": "view-in-github",
        "colab_type": "text"
      },
      "source": [
        "<a href=\"https://colab.research.google.com/github/kyochanpy/Google_Smartphone_Decimeter_Challenge/blob/main/note_book/submission_71.ipynb\" target=\"_parent\"><img src=\"https://colab.research.google.com/assets/colab-badge.svg\" alt=\"Open In Colab\"/></a>"
      ]
    },
    {
      "cell_type": "markdown",
      "metadata": {
        "id": "IicojqA4RFQF"
      },
      "source": [
        "#ライブラリ"
      ]
    },
    {
      "cell_type": "code",
      "metadata": {
        "id": "z85pRKVLfKjg",
        "colab": {
          "base_uri": "https://localhost:8080/"
        },
        "outputId": "a9719817-80b7-4c31-cf94-ca006110ff08"
      },
      "source": [
        "!pip install optuna > /dev/null\n",
        "!pip install pyproj > /dev/null\n",
        "!pip install simdkalman > /dev/null\n",
        "!pip install osmnx momepy geopandas > /dev/null\n",
        "    \n",
        "import os\n",
        "from glob import glob\n",
        "from pathlib import Path\n",
        "\n",
        "import numpy as np\n",
        "import pandas as pd\n",
        "import math\n",
        "import matplotlib.pyplot as plt\n",
        "from matplotlib_venn import venn2, venn2_circles\n",
        "import seaborn as sns\n",
        "from scipy.ndimage import gaussian_filter1d\n",
        "from scipy.interpolate import interp1d\n",
        "\n",
        "from shapely.geometry import Point\n",
        "import osmnx as ox\n",
        "import momepy\n",
        "import geopandas as gpd\n",
        "import optuna\n",
        "import plotly\n",
        "import plotly.express as px\n",
        "import pyproj\n",
        "from pathlib import Path\n",
        "from pyproj import Proj, transform\n",
        "from tqdm.notebook import tqdm\n",
        "import simdkalman"
      ],
      "execution_count": null,
      "outputs": [
        {
          "output_type": "stream",
          "text": [
            "\u001b[31mERROR: pip's dependency resolver does not currently take into account all the packages that are installed. This behaviour is the source of the following dependency conflicts.\n",
            "google-colab 1.0.0 requires requests~=2.23.0, but you have requests 2.26.0 which is incompatible.\n",
            "datascience 0.10.6 requires folium==0.2.1, but you have folium 0.8.3 which is incompatible.\n",
            "albumentations 0.1.12 requires imgaug<0.2.7,>=0.2.5, but you have imgaug 0.2.9 which is incompatible.\u001b[0m\n"
          ],
          "name": "stdout"
        },
        {
          "output_type": "stream",
          "text": [
            "/usr/local/lib/python3.7/dist-packages/geopandas/_compat.py:110: UserWarning: The Shapely GEOS version (3.8.0-CAPI-1.13.1 ) is incompatible with the GEOS version PyGEOS was compiled with (3.9.1-CAPI-1.14.2). Conversions between both will be slow.\n",
            "  shapely_geos_version, geos_capi_version_string\n"
          ],
          "name": "stderr"
        }
      ]
    },
    {
      "cell_type": "markdown",
      "metadata": {
        "id": "XjCkkklkRJWK"
      },
      "source": [
        "#Data"
      ]
    },
    {
      "cell_type": "code",
      "metadata": {
        "id": "gs18L1gdRLBS"
      },
      "source": [
        "dir = Path(\"/content/drive/MyDrive/GSDC\")\n",
        "train_base = pd.read_csv(dir / \"baseline_locations_train.csv\")\n",
        "\n",
        "#test_base = pd.read_csv(dir / \"baseline_locations_test.csv\")\n",
        "test_base = pd.read_csv(\"/content/drive/MyDrive/GSDC/test_predict_next_point_SJC_2.csv\")\n",
        "\n",
        "sub = pd.read_csv(dir / \"sample_submission.csv\")\n",
        "\n",
        "\n",
        "def get_groundtruth(path: Path) -> pd.DataFrame:\n",
        "        output_df = pd.DataFrame()\n",
        "        \n",
        "        for path in glob(str(dir / 'train/*/*/ground_truth.csv')):\n",
        "            _df = pd.read_csv(path)\n",
        "            output_df = pd.concat([output_df, _df])\n",
        "        output_df = output_df.reset_index(drop=True)\n",
        "        \n",
        "        _columns = ['latDeg', 'lngDeg', 'heightAboveWgs84EllipsoidM']\n",
        "        output_df[['t_'+col for col in _columns]] = output_df[_columns]\n",
        "        output_df = output_df.drop(columns=_columns, axis=1)\n",
        "        return output_df\n",
        "\n",
        "train_base = train_base.merge(\n",
        "    get_groundtruth(dir),\n",
        "    on=['collectionName', 'phoneName', 'millisSinceGpsEpoch']\n",
        ")"
      ],
      "execution_count": null,
      "outputs": []
    },
    {
      "cell_type": "code",
      "metadata": {
        "id": "thYv3gd07TEf"
      },
      "source": [
        "train_area_5s = []\n",
        "for area_5 in train_area_5:\n",
        "    area_5_df = train_base[train_base[\"collectionName\"] == area_5]\n",
        "    train_area_5s.append(area_5_df)\n",
        "area_5_df = pd.concat(train_area_5s)\n",
        "\n",
        "test_area_5s = []\n",
        "for area_5 in train_area_5:\n",
        "    area_5_df = test_base[test_base[\"collectionName\"] == area_5]\n",
        "    test_area_5s.append(area_5_df)\n",
        "area_5_df = pd.concat(test_area_5s)"
      ],
      "execution_count": null,
      "outputs": []
    },
    {
      "cell_type": "code",
      "metadata": {
        "id": "gbZuWd-A2Gpz"
      },
      "source": [
        "train_SJC_list = [\"2021-04-22-US-SJC-1\", \"2021-04-28-US-SJC-1\", \"2021-04-29-US-SJC-2\"]\n",
        "test_SJC_list = [\"2021-04-22-US-SJC-2\", \"2021-04-29-US-SJC-3\"]\n",
        "\n",
        "train_SJCs = []\n",
        "for SJC in train_SJC_list:\n",
        "    SJC_df = train_base[train_base[\"collectionName\"] == SJC]\n",
        "    train_SJCs.append(SJC_df)\n",
        "train_SJC = pd.concat(train_SJCs)\n",
        "\n",
        "test_SJCs = []\n",
        "for SJC in test_SJC_list:\n",
        "    SJC_df = test_base[test_base[\"collectionName\"] == SJC]\n",
        "    test_SJCs.append(SJC_df)\n",
        "test_SJC = pd.concat(test_SJCs)"
      ],
      "execution_count": null,
      "outputs": []
    },
    {
      "cell_type": "markdown",
      "metadata": {
        "id": "8nYo9kLURLVk"
      },
      "source": [
        "#共通関数"
      ]
    },
    {
      "cell_type": "code",
      "metadata": {
        "id": "mW_WsQDmSEFA"
      },
      "source": [
        "def calc_haversine(lat1, lon1, lat2, lon2):\n",
        "    RADIUS = 6_367_000\n",
        "    lat1, lon1, lat2, lon2 = map(np.radians, [lat1, lon1, lat2, lon2])\n",
        "    dlat = lat2 - lat1\n",
        "    dlon = lon2 - lon1\n",
        "    d = np.sin(dlat/2)**2 + np.cos(lat1) * np.cos(lat2) * np.sin(dlon/2)**2\n",
        "    dist = 2 * RADIUS * np.arcsin(d**0.5)\n",
        "    return dist"
      ],
      "execution_count": null,
      "outputs": []
    },
    {
      "cell_type": "markdown",
      "metadata": {
        "id": "uzOBPU05Obwe"
      },
      "source": [
        "#defs"
      ]
    },
    {
      "cell_type": "markdown",
      "metadata": {
        "id": "7VWL4s00VSz9"
      },
      "source": [
        "##mean points"
      ]
    },
    {
      "cell_type": "code",
      "metadata": {
        "id": "Mzyn_Yr4VSjq"
      },
      "source": [
        "def add_mean_points_features(input_df):\n",
        "    output_df = input_df.copy()\n",
        "    length = len(output_df[\"phone\"].values)\n",
        "    output_df[\"latDeg_pro_1\"] = output_df[\"latDeg\"].shift(-1)\n",
        "    output_df[\"latDeg_pro_2\"] = output_df[\"latDeg\"].shift(-2)\n",
        "    output_df[\"lngDeg_pro_1\"] = output_df[\"lngDeg\"].shift(-1)\n",
        "    output_df[\"lngDeg_pro_2\"] = output_df[\"lngDeg\"].shift(-2)\n",
        "    output_df[\"millisSinceGpsEpoch_pro_1\"] = output_df[\"millisSinceGpsEpoch\"].shift(-1)\n",
        "    output_df[\"millisSinceGpsEpoch_pro_2\"] = output_df[\"millisSinceGpsEpoch\"].shift(-2)\n",
        "    output_df[\"latDeg_mean_point\"] = (output_df[\"latDeg\"] + ((output_df[\"latDeg_pro_2\"] - output_df[\"latDeg\"]) * \n",
        "                                                            ((output_df[\"millisSinceGpsEpoch_pro_1\"] - output_df[\"millisSinceGpsEpoch\"]) /\n",
        "                                                            (output_df[\"millisSinceGpsEpoch_pro_2\"] - output_df[\"millisSinceGpsEpoch\"])))).shift(1)\n",
        "        \n",
        "    output_df[\"lngDeg_mean_point\"] = (output_df[\"lngDeg\"] + ((output_df[\"lngDeg_pro_2\"] - output_df[\"lngDeg\"]) * \n",
        "                                                            ((output_df[\"millisSinceGpsEpoch_pro_1\"] - output_df[\"millisSinceGpsEpoch\"]) /\n",
        "                                                            (output_df[\"millisSinceGpsEpoch_pro_2\"] - output_df[\"millisSinceGpsEpoch\"])))).shift(1)\n",
        "\n",
        "    return output_df"
      ],
      "execution_count": null,
      "outputs": []
    },
    {
      "cell_type": "code",
      "metadata": {
        "id": "f3J2YfsFcBrx"
      },
      "source": [
        "def mean_points(input_df):\n",
        "    output_df = input_df.copy()\n",
        "\n",
        "    lat_list = []\n",
        "    lng_list = []\n",
        "\n",
        "    for collection in output_df[\"collectionName\"].unique():\n",
        "        collection_df = output_df[output_df[\"collectionName\"] == collection]\n",
        "        if collection in output_df[\"collectionName\"].unique():\n",
        "            for phone in collection_df[\"phoneName\"].unique():\n",
        "                phone_df = collection_df[collection_df[\"phoneName\"] == phone]\n",
        "                mean_points_df = add_mean_points_features(phone_df)\n",
        "                lat_head = mean_points_df[\"latDeg\"].values[0]\n",
        "                lng_head = mean_points_df[\"lngDeg\"].values[0]\n",
        "                lat_tail = mean_points_df[\"latDeg\"].values[-1]\n",
        "                lng_tail = mean_points_df[\"lngDeg\"].values[-1]\n",
        "                lat_tail_2 = mean_points_df[\"latDeg\"].values[-2]\n",
        "                lng_tail_2 = mean_points_df[\"lngDeg\"].values[-2]\n",
        "                for lat, lng, lat_1, lng_1, lat_2, lng_2, lat_mp, lng_mp in zip(\n",
        "                    mean_points_df[\"latDeg\"].to_numpy(),\n",
        "                    mean_points_df[\"lngDeg\"].to_numpy(),\n",
        "                    mean_points_df[\"latDeg_pro_1\"].to_numpy(),\n",
        "                    mean_points_df[\"lngDeg_pro_1\"].to_numpy(),\n",
        "                    mean_points_df[\"latDeg_pro_2\"].to_numpy(),\n",
        "                    mean_points_df[\"lngDeg_pro_2\"].to_numpy(),\n",
        "                    mean_points_df[\"latDeg_mean_point\"].to_numpy(),\n",
        "                    mean_points_df[\"lngDeg_mean_point\"].to_numpy()\n",
        "                ):\n",
        "                \n",
        "                        p0 = np.array([lat, lng])\n",
        "                        p1 = np.array([lat_1, lng_1])\n",
        "                        p2 = np.array([lat_2, lng_2])\n",
        "                        mp = np.array([lat_mp, lng_mp])\n",
        "\n",
        "                        vec_p0_p2 = (p2 - p0) / np.linalg.norm(p2 - p0)\n",
        "                        p0_mean_point = (p1 - p0) @ vec_p0_p2 * vec_p0_p2 + p0\n",
        "\n",
        "                        diff_p1_mp = mp - p0_mean_point\n",
        "\n",
        "                        lat_fixed = lat_1 + diff_p1_mp[0]\n",
        "                        lng_fixed = lng_1 + diff_p1_mp[1]\n",
        "\n",
        "                        if np.isnan(lat_fixed) == True:\n",
        "                            lat_list.append(lat)\n",
        "                            lng_list.append(lng)\n",
        "                            continue\n",
        "\n",
        "                        else:\n",
        "                            lat_list.append(lat_fixed)\n",
        "                            lng_list.append(lng_fixed)\n",
        "\n",
        "    output_df[\"latDeg\"] = lat_list\n",
        "    output_df[\"lngDeg\"] = lng_list\n",
        "    #output_df[\"latDeg\"] = output_df[\"latDeg\"].shift(1)\n",
        "    #output_df[\"lngDeg\"] = output_df[\"lngDeg\"].shift(1)\n",
        "    return output_df[input_df.columns]"
      ],
      "execution_count": null,
      "outputs": []
    },
    {
      "cell_type": "markdown",
      "metadata": {
        "id": "lb6v5CKEOeLA"
      },
      "source": [
        "## make triangle"
      ]
    },
    {
      "cell_type": "code",
      "metadata": {
        "id": "Ws_ZaQeaSaIq"
      },
      "source": [
        "#必要な特徴量を追加\n",
        "def add_triangle_features(input_df):\n",
        "    output_df = input_df.copy()\n",
        "    output_df[\"latDeg_pro_1\"] = output_df[\"latDeg\"].shift(-1)\n",
        "    output_df[\"latDeg_pro_2\"] = output_df[\"latDeg\"].shift(-2)\n",
        "    output_df[\"lngDeg_pro_1\"] = output_df[\"lngDeg\"].shift(-1)\n",
        "    output_df[\"lngDeg_pro_2\"] = output_df[\"lngDeg\"].shift(-2)\n",
        "    output_df[\"millisSinceGpsEpoch_pro_1\"] = output_df[\"millisSinceGpsEpoch\"].shift(-1)\n",
        "    output_df[\"millisSinceGpsEpoch_pro_2\"] = output_df[\"millisSinceGpsEpoch\"].shift(-2)\n",
        "    output_df[\"latDeg_mean_point\"] = (output_df[\"latDeg\"] + ((output_df[\"latDeg_pro_2\"] - output_df[\"latDeg\"]) * \n",
        "                                                            ((output_df[\"millisSinceGpsEpoch_pro_1\"] - output_df[\"millisSinceGpsEpoch\"]) /\n",
        "                                                            (output_df[\"millisSinceGpsEpoch_pro_2\"] - output_df[\"millisSinceGpsEpoch\"])))).shift(1)\n",
        "        \n",
        "    output_df[\"lngDeg_mean_point\"] = (output_df[\"lngDeg\"] + ((output_df[\"lngDeg_pro_2\"] - output_df[\"lngDeg\"]) * \n",
        "                                                            ((output_df[\"millisSinceGpsEpoch_pro_1\"] - output_df[\"millisSinceGpsEpoch\"]) /\n",
        "                                                            (output_df[\"millisSinceGpsEpoch_pro_2\"] - output_df[\"millisSinceGpsEpoch\"])))).shift(1)\n",
        "\n",
        "\n",
        "    degree_list = []\n",
        "    for lat, lng, lat_1, lng_1, lat_2, lng_2 in zip(\n",
        "        output_df[\"latDeg\"].to_numpy(),\n",
        "        output_df[\"lngDeg\"].to_numpy(),\n",
        "        output_df[\"latDeg_pro_1\"].to_numpy(),\n",
        "        output_df[\"lngDeg_pro_1\"].to_numpy(),\n",
        "        output_df[\"latDeg_pro_2\"].to_numpy(),\n",
        "        output_df[\"lngDeg_pro_2\"].to_numpy()\n",
        "    ):\n",
        "        p0 = np.array([lat, lng])\n",
        "        p1 = np.array([lat_1, lng_1])\n",
        "        p2 = np.array([lat_2, lng_2])\n",
        "            \n",
        "        vec_p0 = p0 - p1\n",
        "        vec_p2 = p2 - p1\n",
        "        length_vec_p0 = np.linalg.norm(vec_p0)\n",
        "        length_vec_p2 = np.linalg.norm(vec_p2)\n",
        "        inner = np.inner(vec_p0, vec_p2)\n",
        "        degree = np.rad2deg(np.arccos(inner / (length_vec_p0 * length_vec_p2)))\n",
        "        degree_list.append(degree)\n",
        "    degree_list.insert(0, 180)\n",
        "    degree_list.pop(-1)\n",
        "    degree_list[-1] = 180\n",
        "    output_df[\"degree\"] = degree_list\n",
        "    return output_df"
      ],
      "execution_count": null,
      "outputs": []
    },
    {
      "cell_type": "code",
      "metadata": {
        "id": "Yhw7N7ovQ37O"
      },
      "source": [
        "#主な処理\n",
        "def make_triangle(input_df):\n",
        "    output_df = input_df.copy()\n",
        "\n",
        "    lat_list = []\n",
        "    lng_list = []\n",
        "\n",
        "    for collection in output_df[\"collectionName\"].unique():\n",
        "        collection_df = output_df[output_df[\"collectionName\"] == collection]\n",
        "        if collection in output_df[\"collectionName\"].unique():\n",
        "            for phone in collection_df[\"phoneName\"].unique():\n",
        "                phone_df = collection_df[collection_df[\"phoneName\"] == phone]\n",
        "                triangle_df = add_triangle_features(phone_df)\n",
        "                for lat, lng, lat_mp, lng_mp, deg in zip(\n",
        "                    triangle_df[\"latDeg\"].to_numpy(),\n",
        "                    triangle_df[\"lngDeg\"].to_numpy(),\n",
        "                    triangle_df[\"latDeg_mean_point\"].to_numpy(),\n",
        "                    triangle_df[\"lngDeg_mean_point\"].to_numpy(),\n",
        "                    triangle_df[\"degree\"].to_numpy()\n",
        "                ):\n",
        "                    if deg < 155:\n",
        "                        lat_f = (lat + lat_mp)/2\n",
        "                        lng_f = (lng + lng_mp)/2\n",
        "                        lat_list.append(lat_f)\n",
        "                        lng_list.append(lng_f)\n",
        "                    else:\n",
        "                        lat_list.append(lat)\n",
        "                        lng_list.append(lng)\n",
        "        else:\n",
        "            for lat, lng in zip(\n",
        "                collection_df[\"latDeg\"].to_numpy(),\n",
        "                collection_df[\"lngDeg\"].to_numpy(),\n",
        "            ):\n",
        "                lat_list.append(lat)\n",
        "                lng_list.append(lng)\n",
        "    output_df[\"latDeg\"] = lat_list\n",
        "    output_df[\"lngDeg\"] = lng_list\n",
        "    return output_df[input_df.columns]"
      ],
      "execution_count": null,
      "outputs": []
    },
    {
      "cell_type": "markdown",
      "metadata": {
        "id": "CKPfyc7hOwk7"
      },
      "source": [
        "##outlier"
      ]
    },
    {
      "cell_type": "code",
      "metadata": {
        "id": "8HxE9CslUEvz"
      },
      "source": [
        "def outlier_train(input_df):\n",
        "    output_df = input_df.copy()\n",
        "    output_df[\"phone\"] = output_df[\"collectionName\"] + \"_\" + output_df[\"phoneName\"]\n",
        "\n",
        "    output_df[\"dist_pre\"] = 0\n",
        "    output_df[\"dist_pro\"] = 0\n",
        "\n",
        "    output_df['latDeg_pre'] = output_df['latDeg'].shift(periods=1,fill_value=0)\n",
        "    output_df['lngDeg_pre'] = output_df['lngDeg'].shift(periods=1,fill_value=0)\n",
        "    output_df['latDeg_pro'] = output_df['latDeg'].shift(periods=-1,fill_value=0)\n",
        "    output_df['lngDeg_pro'] = output_df['lngDeg'].shift(periods=-1,fill_value=0)\n",
        "    output_df['dist_pre'] = calc_haversine(output_df.latDeg_pre, output_df.lngDeg_pre, output_df.latDeg, output_df.lngDeg)\n",
        "    output_df['dist_pro'] = calc_haversine(output_df.latDeg, output_df.lngDeg, output_df.latDeg_pro, output_df.lngDeg_pro)\n",
        "\n",
        "    list_phone = output_df['phone'].unique()\n",
        "    for phone in list_phone:\n",
        "        ind_s = output_df[train_base['phone'] == phone].index[0]\n",
        "        ind_e = output_df[train_base['phone'] == phone].index[-1]\n",
        "        output_df.loc[ind_s,'dist_pre'] = 0\n",
        "        output_df.loc[ind_e,'dist_pro'] = 0\n",
        "\n",
        "    pro_95 = output_df['dist_pro'].mean() + (output_df['dist_pro'].std() * 2)\n",
        "    pre_95 = output_df['dist_pre'].mean() + (output_df['dist_pre'].std() * 2)\n",
        "    ind = output_df[(output_df['dist_pro'] > pro_95)&(output_df['dist_pre'] > pre_95)][['dist_pre','dist_pro']].index\n",
        "\n",
        "    for i in ind:\n",
        "        output_df.loc[i,'latDeg'] = (output_df.loc[i-1,'latDeg'] + output_df.loc[i+1,'latDeg'])/2\n",
        "        output_df.loc[i,'lngDeg'] = (output_df.loc[i-1,'lngDeg'] + output_df.loc[i+1,'lngDeg'])/2\n",
        "\n",
        "    return output_df"
      ],
      "execution_count": null,
      "outputs": []
    },
    {
      "cell_type": "code",
      "metadata": {
        "id": "oTy8xbi5Uect"
      },
      "source": [
        "def outlier(input_df):\n",
        "    output_df = input_df\n",
        "\n",
        "    output_df[\"dist_pre\"] = 0\n",
        "    output_df[\"dist_pro\"] = 0\n",
        "\n",
        "    output_df['latDeg_pre'] = output_df['latDeg'].shift(periods=1,fill_value=0)\n",
        "    output_df['lngDeg_pre'] = output_df['lngDeg'].shift(periods=1,fill_value=0)\n",
        "    output_df['latDeg_pro'] = output_df['latDeg'].shift(periods=-1,fill_value=0)\n",
        "    output_df['lngDeg_pro'] = output_df['lngDeg'].shift(periods=-1,fill_value=0)\n",
        "    output_df['dist_pre'] = calc_haversine(output_df.latDeg_pre, output_df.lngDeg_pre, output_df.latDeg, output_df.lngDeg)\n",
        "    output_df['dist_pro'] = calc_haversine(output_df.latDeg, output_df.lngDeg, output_df.latDeg_pro, output_df.lngDeg_pro)\n",
        "\n",
        "    list_phone = output_df['phone'].unique()\n",
        "    for phone in list_phone:\n",
        "        ind_s = output_df[test_base['phone'] == phone].index[0]\n",
        "        ind_e = output_df[test_base['phone'] == phone].index[-1]\n",
        "        output_df.loc[ind_s,'dist_pre'] = 0\n",
        "        output_df.loc[ind_e,'dist_pro'] = 0\n",
        "\n",
        "    pro_95 = output_df['dist_pro'].mean() + (output_df['dist_pro'].std() * 2)\n",
        "    pre_95 = output_df['dist_pre'].mean() + (output_df['dist_pre'].std() * 2)\n",
        "    ind = output_df[(output_df['dist_pro'] > pro_95)&(output_df['dist_pre'] > pre_95)][['dist_pre','dist_pro']].index\n",
        "\n",
        "    for i in ind:\n",
        "        output_df.loc[i,'latDeg'] = (output_df.loc[i-1,'latDeg'] + output_df.loc[i+1,'latDeg'])/2\n",
        "        output_df.loc[i,'lngDeg'] = (output_df.loc[i-1,'lngDeg'] + output_df.loc[i+1,'lngDeg'])/2\n",
        "\n",
        "    output_df[\"phoneName\"] = input_df[\"phoneName\"]\n",
        "    output_df[\"collectionName\"] = input_df[\"collectionName\"]\n",
        "    output_df[\"millisSinceGpsEpoch\"] = input_df[\"millisSinceGpsEpoch\"]\n",
        "\n",
        "    return output_df"
      ],
      "execution_count": null,
      "outputs": []
    },
    {
      "cell_type": "markdown",
      "metadata": {
        "id": "yGPdVzBZOwgo"
      },
      "source": [
        "##phones mean "
      ]
    },
    {
      "cell_type": "code",
      "metadata": {
        "id": "yzdAQsfnTNyd"
      },
      "source": [
        "def add_distance_diff(df):\n",
        "    df['latDeg_pre'] = df['latDeg'].shift(1)\n",
        "    df['latDeg_pro'] = df['latDeg'].shift(-1)\n",
        "    df['lngDeg_pre'] = df['lngDeg'].shift(1)\n",
        "    df['lngDeg_pro'] = df['lngDeg'].shift(-1)\n",
        "    df['phone_pre'] = df['phone'].shift(1)\n",
        "    df['phone_pro'] = df['phone'].shift(-1)\n",
        "    \n",
        "    df['dist_pre'] = calc_haversine(df['latDeg'], df['lngDeg'], df['latDeg_pre'], df['lngDeg_pre'])\n",
        "    df['dist_pro'] = calc_haversine(df['latDeg'], df['lngDeg'], df['latDeg_pro'], df['lngDeg_pro'])\n",
        "        \n",
        "    df.loc[df['phone']!=df['phone_pre'], ['latDeg_pre', 'lngDeg_pre', 'dist_pre']] = np.nan\n",
        "    df.loc[df['phone']!=df['phone_pro'], ['latDeg_pro', 'lngDeg_pro', 'dist_pro']] = np.nan\n",
        "        \n",
        "    return df\n",
        "\n",
        "\n",
        "def make_lerp_data(input_df):\n",
        "    org_colus = input_df.columns\n",
        "\n",
        "    time_list = input_df[[\"collectionName\", \"millisSinceGpsEpoch\"]].drop_duplicates()\n",
        "    phone_list = input_df[[\"collectionName\", \"phoneName\"]].drop_duplicates()\n",
        "    tmp = time_list.merge(phone_list, on=\"collectionName\", how=\"outer\")\n",
        "\n",
        "    output_df = tmp.merge(input_df, on=[\"collectionName\", \"millisSinceGpsEpoch\", \"phoneName\"], how=\"left\")\n",
        "    output_df[\"phone\"] = output_df[\"collectionName\"] + \"_\" + output_df[\"phoneName\"]\n",
        "    output_df = output_df.sort_values([\"phone\", \"millisSinceGpsEpoch\"])\n",
        "\n",
        "    output_df[\"latDeg_pre\"] = output_df[\"latDeg\"].shift(1)\n",
        "    output_df[\"latDeg_pro\"] = output_df[\"latDeg\"].shift(-1)\n",
        "    output_df[\"lngDeg_pre\"] = output_df[\"lngDeg\"].shift(1)\n",
        "    output_df[\"lngDeg_pro\"] = output_df[\"lngDeg\"].shift(-1)\n",
        "    output_df[\"phone_pre\"] = output_df[\"phone\"].shift(1)\n",
        "    output_df[\"phone_pro\"] = output_df[\"phone\"].shift(-1)\n",
        "    output_df[\"millisSinceGpsEpoch_pre\"] = output_df[\"millisSinceGpsEpoch\"].shift(1)\n",
        "    output_df[\"millisSinceGpsEpoch_pro\"] = output_df[\"millisSinceGpsEpoch\"].shift(-1)\n",
        "\n",
        "    output_df = output_df[(output_df[\"latDeg\"].isnull())&(output_df[\"phone\"] == output_df[\"phone_pre\"])&\n",
        "                        (output_df[\"phone\"] == output_df[\"phone_pro\"])].copy()\n",
        "\n",
        "    #preとproの間を経過時間を考慮して算出\n",
        "    output_df[\"latDeg\"] = output_df[\"latDeg_pre\"] + ((output_df[\"latDeg_pro\"] - output_df[\"latDeg_pre\"]) * \n",
        "                                                    ((output_df[\"millisSinceGpsEpoch\"] - output_df[\"millisSinceGpsEpoch_pre\"]) /\n",
        "                                                    (output_df[\"millisSinceGpsEpoch_pro\"] - output_df[\"millisSinceGpsEpoch_pre\"])))\n",
        "    output_df[\"lngDeg\"] = output_df[\"lngDeg_pre\"] + ((output_df[\"lngDeg_pro\"] - output_df[\"lngDeg_pre\"]) * \n",
        "                                                    ((output_df[\"millisSinceGpsEpoch\"] - output_df[\"millisSinceGpsEpoch_pre\"]) /\n",
        "                                                    (output_df[\"millisSinceGpsEpoch_pro\"] - output_df[\"millisSinceGpsEpoch_pre\"])))\n",
        "        \n",
        "    output_df = output_df[~output_df['latDeg'].isnull()]\n",
        "\n",
        "    return output_df[org_colus]\n",
        "\n",
        "def calc_mean_pred(input_df, lerp_df):\n",
        "    input_df[\"phone\"] = input_df[\"collectionName\"] + \"_\" + input_df[\"phoneName\"]\n",
        "    add_lerp = pd.concat([input_df, lerp_df])\n",
        "    mean_pred_result = add_lerp.groupby([\"collectionName\", \"millisSinceGpsEpoch\"])[[\"latDeg\", \"lngDeg\"]].mean().reset_index()\n",
        "    output_df = input_df[[\"collectionName\", \"phoneName\", \"millisSinceGpsEpoch\"]].copy()\n",
        "    output_df = output_df.merge(mean_pred_result[[\"collectionName\", \"millisSinceGpsEpoch\", \"latDeg\", \"lngDeg\"]],\n",
        "                                    on=[\"collectionName\", \"millisSinceGpsEpoch\"], how=\"left\")\n",
        "    output_df[\"phone\"] = output_df[\"collectionName\"] + \"_\" + output_df[\"phoneName\"]\n",
        "    return output_df"
      ],
      "execution_count": null,
      "outputs": []
    },
    {
      "cell_type": "code",
      "metadata": {
        "id": "irXr1lPUQ34y"
      },
      "source": [
        "def mean_prediction_train(input_df):\n",
        "    input_df[\"phone\"] = input_df[\"collectionName\"] + \"_\" + input_df[\"phoneName\"]\n",
        "\n",
        "    input_df_ = add_distance_diff(input_df)\n",
        "    th = 43\n",
        "    input_df_.loc[((input_df_['dist_pre'] > th) & (input_df_['dist_pro'] > th)), ['latDeg', 'lngDeg']] = np.nan\n",
        "    \n",
        "    lerp = make_lerp_data(input_df_)\n",
        "    mean_pred  = calc_mean_pred(input_df_, lerp)\n",
        "\n",
        "    output_df = kalman_filter(mean_pred)\n",
        "    output_df[\"t_latDeg\"] = input_df[\"t_latDeg\"].values\n",
        "    output_df[\"t_lngDeg\"] = input_df[\"t_lngDeg\"].values\n",
        "    \n",
        "    return output_df"
      ],
      "execution_count": null,
      "outputs": []
    },
    {
      "cell_type": "code",
      "metadata": {
        "id": "GwOzGB9X_C64"
      },
      "source": [
        "def mean_prediction(input_df):\n",
        "    input_df_ = add_distance_diff(input_df)\n",
        "    th = 43\n",
        "    input_df_.loc[((input_df_['dist_pre'] > th) & (input_df_['dist_pro'] > th)), ['latDeg', 'lngDeg']] = np.nan\n",
        "\n",
        "    test_lerp = make_lerp_data(input_df_)\n",
        "    test_mean_pred  = calc_mean_pred(input_df_, test_lerp)\n",
        "\n",
        "    output_df = kalman_filter(test_mean_pred)    \n",
        "    \n",
        "    return output_df"
      ],
      "execution_count": null,
      "outputs": []
    },
    {
      "cell_type": "markdown",
      "metadata": {
        "id": "96vx8HrPOweU"
      },
      "source": [
        "##remove device"
      ]
    },
    {
      "cell_type": "code",
      "metadata": {
        "id": "4ITFL1nHUTes"
      },
      "source": [
        "def get_removedevice(input_df: pd.DataFrame, divece: str) -> pd.DataFrame:\n",
        "    input_df['index'] = input_df.index\n",
        "    input_df = input_df.sort_values('millisSinceGpsEpoch')\n",
        "    input_df.index = input_df['millisSinceGpsEpoch'].values\n",
        "\n",
        "    output_df = pd.DataFrame() \n",
        "    for _, subdf in input_df.groupby('collectionName'):\n",
        "\n",
        "        phones = subdf['phoneName'].unique()\n",
        "\n",
        "        if (len(phones) == 1) or (not divece in phones):\n",
        "            output_df = pd.concat([output_df, subdf])\n",
        "            continue\n",
        "\n",
        "        origin_df = subdf.copy()\n",
        "            \n",
        "        _index = subdf['phoneName']==divece\n",
        "        subdf.loc[_index, 'latDeg'] = np.nan\n",
        "        subdf.loc[_index, 'lngDeg'] = np.nan\n",
        "        subdf = subdf.interpolate(method='index', limit_area='inside')\n",
        "\n",
        "        _index = subdf['latDeg'].isnull()\n",
        "        subdf.loc[_index, 'latDeg'] = origin_df.loc[_index, 'latDeg'].values\n",
        "        subdf.loc[_index, 'lngDeg'] = origin_df.loc[_index, 'lngDeg'].values\n",
        "\n",
        "        output_df = pd.concat([output_df, subdf])\n",
        "\n",
        "    output_df.index = output_df['index'].values\n",
        "    output_df = output_df.sort_index()\n",
        "\n",
        "    del output_df['index']\n",
        "        \n",
        "    return output_df"
      ],
      "execution_count": null,
      "outputs": []
    },
    {
      "cell_type": "code",
      "metadata": {
        "id": "vUPaYaY5UK_Y"
      },
      "source": [
        "#remove_device\n",
        "def remove_device_S(input_df):\n",
        "\n",
        "    output_df = get_removedevice(input_df, 'SamsungS20Ultra')\n",
        "\n",
        "    return output_df"
      ],
      "execution_count": 151,
      "outputs": []
    },
    {
      "cell_type": "code",
      "metadata": {
        "id": "1IE6Du7vtTeB"
      },
      "source": [
        "#remove_device\n",
        "def remove_device_P(input_df):\n",
        "\n",
        "    output_df = get_removedevice(input_df, 'Pixel4')\n",
        "\n",
        "    return output_df"
      ],
      "execution_count": 152,
      "outputs": []
    },
    {
      "cell_type": "markdown",
      "metadata": {
        "id": "Vqzi0I_B2JTN"
      },
      "source": [
        "##remove device check score"
      ]
    },
    {
      "cell_type": "code",
      "metadata": {
        "id": "Xih9qdpW4ptO"
      },
      "source": [
        "def create_dataset_truth_train_for_remove_device(input_df, input_list):    \n",
        "    output_df = input_df.copy()\n",
        "    lat_list = []\n",
        "    lng_list = []\n",
        "    for collection in input_list:\n",
        "        collection_df = train_base[train_base[\"collectionName\"] == collection]\n",
        "        for phone in collection_df[\"phone\"].unique():\n",
        "            phone_df = collection_df[collection_df[\"phone\"] == phone]\n",
        "            phone_df[\"t_latDeg_pro\"] = phone_df[\"t_latDeg\"].shift(-1)\n",
        "            phone_df[\"t_lngDeg_pro\"] = phone_df[\"t_lngDeg\"].shift(-1)\n",
        "            for lat, lng, lat_pre, lng_pre in zip(\n",
        "                phone_df[\"t_latDeg\"].to_numpy(),\n",
        "                phone_df[\"t_lngDeg\"].to_numpy(),\n",
        "                phone_df[\"t_latDeg_pro\"].to_numpy(),\n",
        "                phone_df[\"t_lngDeg_pro\"].to_numpy()\n",
        "            ):\n",
        "                lat_list.append(lat)\n",
        "                lng_list.append(lng)\n",
        "                lat_mean = (lat + lat_pre)/2\n",
        "                lng_mean = (lng + lng_pre)/2\n",
        "                lat_list.append(lat_mean)\n",
        "                lng_list.append(lng_mean)\n",
        "\n",
        "    points_list = []\n",
        "    for lat, lng in zip(\n",
        "        lat_list,\n",
        "        lng_list\n",
        "    ):\n",
        "        points_list.append([lat, lng])\n",
        "\n",
        "    nearest_points_list = []\n",
        "    for lat, lng in zip(\n",
        "        output_df[\"latDeg\"].to_numpy(),\n",
        "        output_df[\"lngDeg\"].to_numpy()\n",
        "    ):\n",
        "        nearest_points_list.append(nearest_point(lat, lng, points_list))\n",
        "\n",
        "    nearest_points_df = pd.DataFrame(nearest_points_list)\n",
        "    output_df[\"latDeg_from_gt\"] = nearest_points_df[0].values\n",
        "    output_df[\"lngDeg_from_gt\"] = nearest_points_df[1].values\n",
        "    \n",
        "    return output_df\n"
      ],
      "execution_count": null,
      "outputs": []
    },
    {
      "cell_type": "code",
      "metadata": {
        "id": "XTnpzBJq5YEq"
      },
      "source": [
        "def move_closer_truth_for_remove_device(input_df, train_list, test_list):\n",
        "    test_dfs = []\n",
        "    for collection in input_df[\"collectionName\"].unique():\n",
        "        if collection in test_list:\n",
        "            phones_dfs = []\n",
        "            collection_df = input_df[input_df[\"collectionName\"] == collection]\n",
        "            for phone in collection_df[\"phone\"].unique():\n",
        "                phone_df = collection_df[collection_df[\"phone\"] == phone]\n",
        "                phone_df = create_dataset_truth_train_for_remove_device(phone_df, train_list)\n",
        "                phones_dfs.append(phone_df)\n",
        "            collection_df = pd.concat(phones_dfs)\n",
        "            test_dfs.append(collection_df)\n",
        "        else:\n",
        "            test_dfs.append(input_df[input_df[\"collectionName\"] == collection])\n",
        "    output_df = pd.concat(test_dfs)\n",
        "\n",
        "    return output_df"
      ],
      "execution_count": null,
      "outputs": []
    },
    {
      "cell_type": "code",
      "metadata": {
        "id": "CwYgTtuJ4rhv"
      },
      "source": [
        "train_area_1 = ['2020-05-14-US-MTV-1', '2020-05-14-US-MTV-2',\n",
        "                '2020-05-21-US-MTV-1', '2020-05-21-US-MTV-2',\n",
        "                '2020-06-04-US-MTV-1', '2020-07-08-US-MTV-1',\n",
        "                '2020-08-03-US-MTV-1', '2020-09-04-US-SF-1',\n",
        "                '2021-04-15-US-MTV-1']\n",
        "test_area_1 = ['2020-05-28-US-MTV-1', '2020-05-28-US-MTV-2',\n",
        "               '2020-06-04-US-MTV-2', '2020-06-10-US-MTV-1', \n",
        "               '2020-06-10-US-MTV-2', '2020-08-03-US-MTV-2']\n",
        "\n",
        "train_area_2 = ['2021-04-22-US-SJC-1', '2021-04-28-US-SJC-1', \n",
        "                '2021-04-29-US-SJC-2']\n",
        "test_area_2 = ['2021-04-22-US-SJC-2', '2021-04-29-US-SJC-3']\n",
        "\n",
        "train_area_3 = ['2021-04-28-US-SJC-1', '2021-04-29-US-MTV-1']\n",
        "test_area_3 = ['2021-03-16-US-RWC-2', '2021-04-21-US-MTV-1',\n",
        "               '2021-04-28-US-MTV-2', '2021-04-29-US-MTV-2']\n",
        "\n",
        "train_area_4 = ['2021-03-10-US-SVL-1', '2021-04-26-US-SVL-1']\n",
        "test_area_4 = ['2021-04-26-US-SVL-2']\n",
        "\n",
        "train_area_5 = ['2020-06-05-US-MTV-2', '2020-08-06-US-MTV-2', \n",
        "                '2020-09-04-US-SF-2', '2021-01-04-US-RWC-1', \n",
        "                '2021-01-04-US-RWC-2']\n",
        "test_area_5 = ['2020-05-15-US-MTV-1', '2020-08-13-US-MTV-1',\n",
        "               '2021-03-16-US-MTV-2']"
      ],
      "execution_count": null,
      "outputs": []
    },
    {
      "cell_type": "code",
      "metadata": {
        "id": "jos-NCo92RdB"
      },
      "source": [
        "def score_for_remove_device(input_df: pd.DataFrame) -> pd.DataFrame:\n",
        "    output_df = input_df.copy()\n",
        "    \n",
        "    output_df['meter'] = input_df.apply(\n",
        "        lambda r: calc_haversine(\n",
        "            r.latDeg, r.lngDeg, r.latDeg_from_gt, r.lngDeg_from_gt\n",
        "        ),\n",
        "        axis=1\n",
        "    )\n",
        "\n",
        "    meter_score = output_df['meter'].mean()\n",
        "\n",
        "    scores = []\n",
        "    for phone in output_df['phone'].unique():\n",
        "        _index = output_df['phone']==phone\n",
        "        p_50 = np.percentile(output_df.loc[_index, 'meter'], 50)\n",
        "        p_95 = np.percentile(output_df.loc[_index, 'meter'], 95)\n",
        "        scores.append(p_50)\n",
        "        scores.append(p_95)\n",
        "\n",
        "    score = sum(scores) / len(scores)\n",
        "    \n",
        "    return meter_score"
      ],
      "execution_count": null,
      "outputs": []
    },
    {
      "cell_type": "code",
      "metadata": {
        "id": "gEJHP3sH3E55"
      },
      "source": [
        "def get_remove_list(input_df):\n",
        "    no_train_list = [\"2021-03-25-US-PAO-1\", \"2021-04-02-US-SJC-1\", \"2021-04-08-US-MTV-1\"]\n",
        "    remove_list = []\n",
        "    for collection in input_df[\"collectionName\"].unique():\n",
        "        if collection in no_train_list:\n",
        "            remove_list.append(\"SamsungS20Ultra\")\n",
        "        else:\n",
        "            collection_df = input_df[input_df[\"collectionName\"] == collection]\n",
        "            phone_list = collection_df[\"phoneName\"].unique()\n",
        "            score_list = []\n",
        "            if len(phone_list) == 1:\n",
        "                remove_list.append(\"dont_remove\")\n",
        "            else:\n",
        "                for phone in phone_list:\n",
        "                    phone_df = collection_df[collection_df[\"phoneName\"] == phone]\n",
        "                    score = score_for_remove_device(phone_df)\n",
        "                    score_list.append(score)\n",
        "\n",
        "                worst_score = sorted(score_list)[-1]\n",
        "                remove_idx = score_list.index(worst_score)\n",
        "                print(phone_list[remove_idx])\n",
        "                remove_list.append(phone_list[remove_idx])\n",
        "    return remove_list"
      ],
      "execution_count": null,
      "outputs": []
    },
    {
      "cell_type": "code",
      "metadata": {
        "id": "9RJKRd-r3E3S"
      },
      "source": [
        "def remove_device_by_score(input_df):\n",
        "    input_df_ = move_closer_truth_for_remove_device(input_df, train_area_1, test_area_1)\n",
        "    input_df_ = move_closer_truth_for_remove_device(input_df_, train_area_2, test_area_2)\n",
        "    input_df_ = move_closer_truth_for_remove_device(input_df_, train_area_3, test_area_3)\n",
        "    input_df_ = move_closer_truth_for_remove_device(input_df_, train_area_4, test_area_4)\n",
        "    input_df_ = move_closer_truth_for_remove_device(input_df_, train_area_5, test_area_5)\n",
        "    display(input_df_)\n",
        "    remove_list = get_remove_list(input_df_)\n",
        "    dfs = []\n",
        "    for collection, remove_phone in zip(input_df_[\"collectionName\"].unique(), remove_list):\n",
        "        collection_df = input_df_[input_df_[\"collectionName\"] == collection]\n",
        "        if remove_phone == \"dont_remove\":\n",
        "            dfs.append(collection_df)\n",
        "        else:\n",
        "            removed_df = get_removedevice(collection_df, remove_phone)\n",
        "            dfs.append(removed_df)\n",
        "    output_df = pd.concat(dfs)\n",
        "    return output_df"
      ],
      "execution_count": null,
      "outputs": []
    },
    {
      "cell_type": "markdown",
      "metadata": {
        "id": "CnELqZfmOwbr"
      },
      "source": [
        "##position shift"
      ]
    },
    {
      "cell_type": "code",
      "metadata": {
        "id": "vp0zDy5YUnn8"
      },
      "source": [
        "def position_shift_train(input_df):\n",
        "    sub_cols = sub.columns\n",
        "\n",
        "    train_p_s = pd.read_csv(dir / \"baseline_locations_train.csv\")\n",
        "    train_b = train_p_s[sub_cols]\n",
        "    test_b = test_base[sub_cols]\n",
        "\n",
        "    msge = \"millisSinceGpsEpoch\"\n",
        "\n",
        "    testdir = dir / 'test'\n",
        "    traindir = dir / 'train'\n",
        "\n",
        "    g_t = pd.DataFrame()\n",
        "    for d in os.listdir(traindir):\n",
        "        for p in os.listdir(traindir/d):\n",
        "            g_t = g_t.append(pd.read_csv(traindir/d/p/'ground_truth.csv'))\n",
        "\n",
        "    g_t[\"phone\"] = g_t[\"collectionName\"] + \"_\" + g_t[\"phoneName\"]\n",
        "    g_t_sub_cols = g_t[sub_cols]\n",
        "\n",
        "    transformer = pyproj.Transformer.from_crs(\n",
        "        {\"proj\":'geocent', \"ellps\":'WGS84', \"datum\":'WGS84'},\n",
        "        {\"proj\":'latlong', \"ellps\":'WGS84', \"datum\":'WGS84'},)\n",
        "    \n",
        "    def compute_dist(fname_1, fname_2):\n",
        "        oof = fname_1\n",
        "        g_t = fname_2\n",
        "        df = oof.merge(g_t, on=[\"phone\", \"millisSinceGpsEpoch\"])\n",
        "        dist_oof = calc_haversine(df.latDeg_x, df.lngDeg_x, df.latDeg_y, df.lngDeg_y)\n",
        "        scores = pd.DataFrame({\"phone\":df.phone, \"dist\":dist_oof})\n",
        "        scores_grp = scores.groupby(\"phone\")\n",
        "        d_50 = scores_grp.quantile(.50).reset_index()\n",
        "        d_50.columns = [\"phone\", \"q_50\"]\n",
        "        d_95 = scores_grp.quantile(.95).reset_index()\n",
        "        d_95.columns = [\"phone\", \"q_95\"]\n",
        "        return (scores_grp.quantile(.50).mean() + scores_grp.quantile(.95).mean()) / 2, d_50.merge(d_95)\n",
        "\n",
        "\n",
        "    def WGS84_to_ECEF(lat, lng, alt):\n",
        "        rad_lat = lat * (np.pi / 180.0)\n",
        "        rad_lng = lng * (np.pi / 180.0)\n",
        "        a = 6378137.0\n",
        "        finv = 298.257223563\n",
        "        f = 1 / finv   \n",
        "        e2 = 1 - (1 - f) * (1 - f)    \n",
        "        N = a / np.sqrt(1 - e2 * np.sin(rad_lat) * np.sin(rad_lat))\n",
        "        x = (N + alt) * np.cos(rad_lat) * np.cos(rad_lng)\n",
        "        y = (N + alt) * np.cos(rad_lat) * np.sin(rad_lng)\n",
        "        z = (N * (1 - e2) + alt)        * np.sin(rad_lat)\n",
        "        return x, y, z    \n",
        "\n",
        "\n",
        "    def ECEF_to_WGS84(x, y, z):\n",
        "        lng, lat, alt = transformer.transform(x, y, z, radians=False)\n",
        "        return lng, lat, alt\n",
        "\n",
        "    \n",
        "    def position_shift_(input_df, a):\n",
        "        output_df = input_df.copy()\n",
        "        output_df[\"heightAboveWgs84EllipsoidM\"] = 63.5\n",
        "        output_df[\"x\"], output_df[\"y\"], output_df[\"z\"] = zip(\n",
        "            *output_df.apply(lambda x: WGS84_to_ECEF(x.latDeg, x.lngDeg, \n",
        "                                                    x.heightAboveWgs84EllipsoidM), \n",
        "                            axis=1)\n",
        "\n",
        "        )\n",
        "        output_df.sort_values([\"phone\", msge], inplace=True)\n",
        "        for fi in [\"x\", \"y\", \"z\"]:\n",
        "            output_df[[fi + \"_p\"]] = output_df[fi].shift().where(output_df[\"phone\"].eq(output_df[\"phone\"].shift()))\n",
        "            output_df[[fi + \"_diff\"]] = output_df[fi] - output_df[fi + \"_p\"]\n",
        "\n",
        "        output_df[[\"dist\"]] = np.sqrt(output_df[\"x_diff\"]**2 + output_df[\"y_diff\"]**2 + output_df[\"z_diff\"]**2)\n",
        "        for fi in [\"x\", \"y\", \"z\"]:\n",
        "            output_df[[fi + \"_new\"]] = output_df[fi + \"_p\"] + output_df[fi + \"_diff\"] * (1 - a/output_df[\"dist\"])\n",
        "        lng, lat, alt = ECEF_to_WGS84(output_df[\"x_new\"].values, output_df[\"y_new\"].values, output_df[\"z_new\"].values)\n",
        "\n",
        "        lat[np.isnan(lat)] = output_df.loc[np.isnan(lat), \"latDeg\"]\n",
        "        lng[np.isnan(lng)] = output_df.loc[np.isnan(lng), \"lngDeg\"]\n",
        "        output_df[\"latDeg\"] = lat\n",
        "        output_df[\"lngDeg\"] = lng\n",
        "\n",
        "        output_df.sort_values([\"phone\", msge], inplace=True)\n",
        "\n",
        "        return output_df[sub_cols]\n",
        "\n",
        "    \n",
        "    def objective(trial):\n",
        "        a = trial.suggest_uniform(\"a\", -1, 1)\n",
        "        score, scores = compute_dist(position_shift_(train_b, a), g_t)\n",
        "        return score\n",
        "\n",
        "    study = optuna.create_study()\n",
        "    study.optimize(objective, n_trials=30)\n",
        "\n",
        "    output_df = position_shift_(input_df, a=study.best_params[\"a\"])\n",
        "\n",
        "    output_df[\"phoneName\"] = input_df[\"phoneName\"]\n",
        "    output_df[\"collectionName\"] = input_df[\"collectionName\"]\n",
        "    output_df[\"millisSinceGpsEpoch\"] = input_df[\"millisSinceGpsEpoch\"]\n",
        "    output_df[\"t_latDeg\"] = input_df[\"t_latDeg\"]\n",
        "    output_df[\"t_lngDeg\"] = input_df[\"t_lngDeg\"]\n",
        "\n",
        "    return output_df"
      ],
      "execution_count": null,
      "outputs": []
    },
    {
      "cell_type": "code",
      "metadata": {
        "id": "dB5IrAVe_dLE"
      },
      "source": [
        "def position_shift(input_df):\n",
        "    sub_cols = sub.columns\n",
        "\n",
        "    train_p_s = pd.read_csv(dir / \"baseline_locations_train.csv\")\n",
        "    train_b = train_p_s[sub_cols]\n",
        "    test_b = test_base[sub_cols]\n",
        "\n",
        "    msge = \"millisSinceGpsEpoch\"\n",
        "\n",
        "    testdir = dir / 'test'\n",
        "    traindir = dir / 'train'\n",
        "\n",
        "    g_t = pd.DataFrame()\n",
        "    for d in os.listdir(traindir):\n",
        "        for p in os.listdir(traindir/d):\n",
        "            g_t = g_t.append(pd.read_csv(traindir/d/p/'ground_truth.csv'))\n",
        "\n",
        "    g_t[\"phone\"] = g_t[\"collectionName\"] + \"_\" + g_t[\"phoneName\"]\n",
        "    g_t_sub_cols = g_t[sub_cols]\n",
        "\n",
        "    transformer = pyproj.Transformer.from_crs(\n",
        "        {\"proj\":'geocent', \"ellps\":'WGS84', \"datum\":'WGS84'},\n",
        "        {\"proj\":'latlong', \"ellps\":'WGS84', \"datum\":'WGS84'},)\n",
        "    \n",
        "    def compute_dist(fname_1, fname_2):\n",
        "        oof = fname_1\n",
        "        g_t = fname_2\n",
        "        df = oof.merge(g_t, on=[\"phone\", \"millisSinceGpsEpoch\"])\n",
        "        dist_oof = calc_haversine(df.latDeg_x, df.lngDeg_x, df.latDeg_y, df.lngDeg_y)\n",
        "        scores = pd.DataFrame({\"phone\":df.phone, \"dist\":dist_oof})\n",
        "        scores_grp = scores.groupby(\"phone\")\n",
        "        d_50 = scores_grp.quantile(.50).reset_index()\n",
        "        d_50.columns = [\"phone\", \"q_50\"]\n",
        "        d_95 = scores_grp.quantile(.95).reset_index()\n",
        "        d_95.columns = [\"phone\", \"q_95\"]\n",
        "        return (scores_grp.quantile(.50).mean() + scores_grp.quantile(.95).mean()) / 2, d_50.merge(d_95)\n",
        "\n",
        "\n",
        "    def WGS84_to_ECEF(lat, lng, alt):\n",
        "        rad_lat = lat * (np.pi / 180.0)\n",
        "        rad_lng = lng * (np.pi / 180.0)\n",
        "        a = 6378137.0\n",
        "        finv = 298.257223563\n",
        "        f = 1 / finv   \n",
        "        e2 = 1 - (1 - f) * (1 - f)    \n",
        "        N = a / np.sqrt(1 - e2 * np.sin(rad_lat) * np.sin(rad_lat))\n",
        "        x = (N + alt) * np.cos(rad_lat) * np.cos(rad_lng)\n",
        "        y = (N + alt) * np.cos(rad_lat) * np.sin(rad_lng)\n",
        "        z = (N * (1 - e2) + alt)        * np.sin(rad_lat)\n",
        "        return x, y, z    \n",
        "\n",
        "\n",
        "    def ECEF_to_WGS84(x, y, z):\n",
        "        lng, lat, alt = transformer.transform(x, y, z, radians=False)\n",
        "        return lng, lat, alt\n",
        "\n",
        "    \n",
        "    def position_shift_(input_df, a):\n",
        "        output_df = input_df.copy()\n",
        "        output_df[\"heightAboveWgs84EllipsoidM\"] = 63.5\n",
        "        output_df[\"x\"], output_df[\"y\"], output_df[\"z\"] = zip(\n",
        "            *output_df.apply(lambda x: WGS84_to_ECEF(x.latDeg, x.lngDeg, \n",
        "                                                    x.heightAboveWgs84EllipsoidM), \n",
        "                            axis=1)\n",
        "\n",
        "        )\n",
        "        output_df.sort_values([\"phone\", msge], inplace=True)\n",
        "        for fi in [\"x\", \"y\", \"z\"]:\n",
        "            output_df[[fi + \"_p\"]] = output_df[fi].shift().where(output_df[\"phone\"].eq(output_df[\"phone\"].shift()))\n",
        "            output_df[[fi + \"_diff\"]] = output_df[fi] - output_df[fi + \"_p\"]\n",
        "\n",
        "        output_df[[\"dist\"]] = np.sqrt(output_df[\"x_diff\"]**2 + output_df[\"y_diff\"]**2 + output_df[\"z_diff\"]**2)\n",
        "        for fi in [\"x\", \"y\", \"z\"]:\n",
        "            output_df[[fi + \"_new\"]] = output_df[fi + \"_p\"] + output_df[fi + \"_diff\"] * (1 - a/output_df[\"dist\"])\n",
        "        lng, lat, alt = ECEF_to_WGS84(output_df[\"x_new\"].values, output_df[\"y_new\"].values, output_df[\"z_new\"].values)\n",
        "\n",
        "        lat[np.isnan(lat)] = output_df.loc[np.isnan(lat), \"latDeg\"]\n",
        "        lng[np.isnan(lng)] = output_df.loc[np.isnan(lng), \"lngDeg\"]\n",
        "        output_df[\"latDeg\"] = lat\n",
        "        output_df[\"lngDeg\"] = lng\n",
        "\n",
        "        output_df.sort_values([\"phone\", msge], inplace=True)\n",
        "\n",
        "        return output_df[sub_cols]\n",
        "\n",
        "    \n",
        "    def objective(trial):\n",
        "        a = trial.suggest_uniform(\"a\", -1, 1)\n",
        "        score, scores = compute_dist(position_shift_(train_b, a), g_t)\n",
        "        return score\n",
        "\n",
        "    study = optuna.create_study()\n",
        "    study.optimize(objective, n_trials=30)\n",
        "\n",
        "    output_df = position_shift_(input_df, a=study.best_params[\"a\"])\n",
        "\n",
        "    output_df[\"phoneName\"] = input_df[\"phoneName\"]\n",
        "    output_df[\"collectionName\"] = input_df[\"collectionName\"]\n",
        "    output_df[\"millisSinceGpsEpoch\"] = input_df[\"millisSinceGpsEpoch\"]\n",
        "\n",
        "    return output_df"
      ],
      "execution_count": null,
      "outputs": []
    },
    {
      "cell_type": "markdown",
      "metadata": {
        "id": "N-kSEd_epofF"
      },
      "source": [
        "##adaptive_gauss+phone_mean"
      ]
    },
    {
      "cell_type": "code",
      "metadata": {
        "id": "PyY66-Iuppbc"
      },
      "source": [
        "def apply_gauss_smoothing(df, params):\n",
        "    SZ_1 = params['sz_1']\n",
        "    SZ_2 = params['sz_2']\n",
        "    SZ_CRIT = params['sz_crit']    \n",
        "    \n",
        "    unique_paths = df[['collectionName', 'phoneName']].drop_duplicates().to_numpy()\n",
        "    for collection, phone in unique_paths:\n",
        "        cond = np.logical_and(df['collectionName'] == collection, df['phoneName'] == phone)\n",
        "        data = df[cond][['latDeg', 'lngDeg']].to_numpy()\n",
        "                \n",
        "        lat_g1 = gaussian_filter1d(data[:, 0], np.sqrt(SZ_1))\n",
        "        lon_g1 = gaussian_filter1d(data[:, 1], np.sqrt(SZ_1))\n",
        "        lat_g2 = gaussian_filter1d(data[:, 0], np.sqrt(SZ_2))\n",
        "        lon_g2 = gaussian_filter1d(data[:, 1], np.sqrt(SZ_2))\n",
        "\n",
        "        lat_dif = data[1:,0] - data[:-1,0]\n",
        "        lon_dif = data[1:,1] - data[:-1,1]\n",
        "\n",
        "        lat_crit = np.append(np.abs(gaussian_filter1d(lat_dif, np.sqrt(SZ_CRIT)) / (1e-9 + gaussian_filter1d(np.abs(lat_dif), np.sqrt(SZ_CRIT)))),[0])\n",
        "        lon_crit = np.append(np.abs(gaussian_filter1d(lon_dif, np.sqrt(SZ_CRIT)) / (1e-9 + gaussian_filter1d(np.abs(lon_dif), np.sqrt(SZ_CRIT)))),[0])           \n",
        "            \n",
        "        df.loc[cond, 'latDeg'] = lat_g1 * lat_crit + lat_g2 * (1.0 - lat_crit)\n",
        "        df.loc[cond, 'lngDeg'] = lon_g1 * lon_crit + lon_g2 * (1.0 - lon_crit)    \n",
        "                       \n",
        "    return df"
      ],
      "execution_count": null,
      "outputs": []
    },
    {
      "cell_type": "code",
      "metadata": {
        "id": "w4FRuxbyppYo"
      },
      "source": [
        "def mean_with_other_phones(df):\n",
        "    collections_list = df[['collectionName']].drop_duplicates().to_numpy()\n",
        "\n",
        "    for collection in collections_list:\n",
        "        phone_list = df[df['collectionName'].to_list() == collection][['phoneName']].drop_duplicates().to_numpy()\n",
        "\n",
        "        phone_data = {}\n",
        "        corrections = {}\n",
        "        for phone in phone_list:\n",
        "            cond = np.logical_and(df['collectionName'] == collection[0], df['phoneName'] == phone[0]).to_list()\n",
        "            phone_data[phone[0]] = df[cond][['millisSinceGpsEpoch', 'latDeg', 'lngDeg']].to_numpy()\n",
        "\n",
        "        for current in phone_data:\n",
        "            correction = np.ones(phone_data[current].shape, dtype=np.float)\n",
        "            correction[:,1:] = phone_data[current][:,1:]\n",
        "            \n",
        "            # Telephones data don't complitely match by time, so - interpolate.\n",
        "            for other in phone_data:\n",
        "                if other == current:\n",
        "                    continue\n",
        "\n",
        "                loc = interp1d(phone_data[other][:,0], \n",
        "                               phone_data[other][:,1:], \n",
        "                               axis=0, \n",
        "                               kind='linear', \n",
        "                               copy=False, \n",
        "                               bounds_error=None, \n",
        "                               fill_value='extrapolate', \n",
        "                               assume_sorted=True)\n",
        "                \n",
        "                start_idx = 0\n",
        "                stop_idx = 0\n",
        "                for idx, val in enumerate(phone_data[current][:,0]):\n",
        "                    if val < phone_data[other][0,0]:\n",
        "                        start_idx = idx\n",
        "                    if val < phone_data[other][-1,0]:\n",
        "                        stop_idx = idx\n",
        "\n",
        "                if stop_idx - start_idx > 0:\n",
        "                    correction[start_idx:stop_idx,0] += 1\n",
        "                    correction[start_idx:stop_idx,1:] += loc(phone_data[current][start_idx:stop_idx,0])                    \n",
        "\n",
        "            correction[:,1] /= correction[:,0]\n",
        "            correction[:,2] /= correction[:,0]\n",
        "            \n",
        "            corrections[current] = correction.copy()\n",
        "        \n",
        "        for phone in phone_list:\n",
        "            cond = np.logical_and(df['collectionName'] == collection[0], df['phoneName'] == phone[0]).to_list()\n",
        "            \n",
        "            df.loc[cond, ['latDeg', 'lngDeg']] = corrections[phone[0]][:,1:]            \n",
        "            \n",
        "    return df"
      ],
      "execution_count": null,
      "outputs": []
    },
    {
      "cell_type": "code",
      "metadata": {
        "id": "VkTeRkC1ppWI"
      },
      "source": [
        "def gauss_filter(input_df):\n",
        "    input_df_ = input_df.copy()\n",
        "    output_df = mean_with_other_phones(\n",
        "        apply_gauss_smoothing(input_df_, {'sz_1' : 0.85, 'sz_2' : 5.65, 'sz_crit' : 1.5})\n",
        "    )\n",
        "    return output_df"
      ],
      "execution_count": null,
      "outputs": []
    },
    {
      "cell_type": "markdown",
      "metadata": {
        "id": "XOJ-khTwOwZX"
      },
      "source": [
        "##kalman filter"
      ]
    },
    {
      "cell_type": "code",
      "metadata": {
        "id": "4zGR-BYMXLJN"
      },
      "source": [
        "def apply_kf_smoothing(input_df, kf_):\n",
        "    output_df = input_df.copy()\n",
        "    unique_paths = output_df[['collectionName', 'phoneName']].drop_duplicates().to_numpy()\n",
        "    for collection, phone in tqdm(unique_paths):\n",
        "        cond = np.logical_and(output_df['collectionName'] == collection, output_df['phoneName'] == phone)\n",
        "        data = output_df[cond][['latDeg', 'lngDeg']].to_numpy()\n",
        "        data = data.reshape(1, len(data), 2)\n",
        "        smoothed = kf_.smooth(data)\n",
        "        output_df.loc[cond, 'latDeg'] = smoothed.states.mean[0, :, 0]\n",
        "        output_df.loc[cond, 'lngDeg'] = smoothed.states.mean[0, :, 1]\n",
        "    return output_df\n"
      ],
      "execution_count": null,
      "outputs": []
    },
    {
      "cell_type": "code",
      "metadata": {
        "id": "M2swWoDqXIKt"
      },
      "source": [
        "def kalman_filter(input_df):\n",
        "    T = 1.0\n",
        "    state_transition = np.array([[1, 0, T, 0, 0.5 * T ** 2, 0], [0, 1, 0, T, 0, 0.5 * T ** 2], [0, 0, 1, 0, T, 0],\n",
        "                                [0, 0, 0, 1, 0, T], [0, 0, 0, 0, 1, 0], [0, 0, 0, 0, 0, 1]])\n",
        "    process_noise = np.diag([1e-5, 1e-5, 5e-6, 5e-6, 1e-6, 1e-6]) + np.ones((6, 6)) * 1e-9\n",
        "    observation_model = np.array([[1, 0, 0, 0, 0, 0], [0, 1, 0, 0, 0, 0]])\n",
        "    observation_noise = np.diag([3e-5, 3e-5]) + np.ones((2, 2)) * 1e-9\n",
        "\n",
        "    kf = simdkalman.KalmanFilter(\n",
        "            state_transition = state_transition,\n",
        "            process_noise = process_noise,\n",
        "            observation_model = observation_model,\n",
        "            observation_noise = observation_noise)\n",
        "    \n",
        "    output_df = apply_kf_smoothing(input_df, kf)\n",
        "\n",
        "    return output_df\n"
      ],
      "execution_count": null,
      "outputs": []
    },
    {
      "cell_type": "markdown",
      "metadata": {
        "id": "1a-6kKK2OwW1"
      },
      "source": [
        "##move closer center SJC"
      ]
    },
    {
      "cell_type": "code",
      "metadata": {
        "id": "MKcb5LGGXyBS"
      },
      "source": [
        "def nearest_point(x, y, points):\n",
        "    result = {}\n",
        "    if len(points) == 0:\n",
        "        return result\n",
        "    result[0] = points[0][0]\n",
        "    result[1] = points[0][1]\n",
        "    stdval = math.sqrt((points[0][0] - x) ** 2 + (points[0][1] - y) ** 2)\n",
        "    for point in points:\n",
        "        distance = math.sqrt((point[0] - x) ** 2 + (point[1] - y) ** 2)\n",
        "        if stdval > distance:\n",
        "            result[0] = point[0]\n",
        "            result[1] = point[1]\n",
        "            stdval = distance\n",
        "    return [result[0], result[1]]"
      ],
      "execution_count": null,
      "outputs": []
    },
    {
      "cell_type": "code",
      "metadata": {
        "id": "A88CjUQ2Y4E5"
      },
      "source": [
        "def create_dataset_center(input_df):\n",
        "    output_df = input_df.copy()\n",
        "    collection_list = output_df[\"collectionName\"].unique()\n",
        "\n",
        "    line_points_dfs = []\n",
        "    c = 1\n",
        "    for collection in collection_list:\n",
        "        print(f\"now : {c}/{len(collection_list)}\")\n",
        "        c += 1\n",
        "        print(collection)\n",
        "        target_df = output_df[output_df[\"collectionName\"] == collection].reset_index(drop=True)\n",
        "        target_df[\"geometry\"] = [Point(p) for p in target_df[[\"lngDeg\", \"latDeg\"]].to_numpy()]\n",
        "        target_gdf = gpd.GeoDataFrame(target_df, geometry=target_df[\"geometry\"])\n",
        "\n",
        "        offset = 0.1**5\n",
        "        bbox = target_gdf.bounds + [-(offset+0.01), -(offset+0.01), offset+0.01, offset+0.01]\n",
        "        east = bbox[\"minx\"].min()\n",
        "        west = bbox[\"maxx\"].max()\n",
        "        south = bbox[\"miny\"].min()\n",
        "        north = bbox[\"maxy\"].max()\n",
        "        G = ox.graph.graph_from_bbox(north, south, east, west, network_type='drive')\n",
        "\n",
        "        nodes, edges = momepy.nx_to_gdf(G)\n",
        "        \n",
        "        edges = edges.dropna(subset=[\"geometry\"]).reset_index(drop=True)\n",
        "        hits = bbox.apply(lambda row: list(edges.sindex.intersection(row)), axis=1)\n",
        "        tmp = pd.DataFrame({\n",
        "            \"pt_idx\": np.repeat(hits.index, hits.apply(len)),\n",
        "            \"line_i\": np.concatenate(hits.values)\n",
        "        })\n",
        "        tmp = tmp.join(edges.reset_index(drop=True), on=\"line_i\")\n",
        "        tmp = tmp.join(target_gdf.geometry.rename(\"point\"), on=\"pt_idx\")\n",
        "        tmp = gpd.GeoDataFrame(tmp, geometry=\"geometry\", crs=target_gdf.crs)\n",
        "\n",
        "        tmp[\"snap_dist\"] = tmp.geometry.distance(gpd.GeoSeries(tmp.point))\n",
        "\n",
        "        tolerance = 0.0005  \n",
        "        tmp = tmp.loc[tmp.snap_dist <= tolerance]\n",
        "        tmp = tmp.sort_values(by=[\"snap_dist\"])\n",
        "\n",
        "        closest = tmp.groupby(\"pt_idx\").first()\n",
        "        closest = gpd.GeoDataFrame(closest, geometry=\"geometry\")\n",
        "        closest = closest.drop_duplicates(\"line_i\").reset_index(drop=True)\n",
        "\n",
        "        line_points_list = []\n",
        "        split = 200  # param: number of split in each LineString\n",
        "        for dist in range(0, split, 1):\n",
        "            dist = dist/split\n",
        "            line_points = closest[\"geometry\"].interpolate(dist, normalized=True)\n",
        "            line_points_list.append(line_points)\n",
        "        line_points = pd.concat(line_points_list).reset_index(drop=True)\n",
        "        line_points = line_points.reset_index().rename(columns={0:\"geometry\"})\n",
        "        line_points[\"lngDeg\"] = line_points[\"geometry\"].x\n",
        "        line_points[\"latDeg\"] = line_points[\"geometry\"].y\n",
        "        \n",
        "        line_points_ = line_points.loc[:, [\"lngDeg\", \"latDeg\"]]\n",
        "        line_points_dfs.append(line_points_)\n",
        "\n",
        "    line_points_df = pd.concat(line_points_dfs)\n",
        "    line_points_list = sorted(line_points_df.values.tolist())\n",
        "    \n",
        "    print(len(line_points_list))\n",
        "\n",
        "    nearest_point_list = []\n",
        "    \n",
        "    for lng, lat in zip(\n",
        "        output_df[\"lngDeg\"].to_numpy(),\n",
        "        output_df[\"latDeg\"].to_numpy()\n",
        "    ):\n",
        "        nearest_point_list.append(nearest_point(lng, lat, line_points_list))\n",
        "        \n",
        "    nearest_point_df = pd.DataFrame(nearest_point_list)\n",
        "    output_df[\"latDeg_center\"] = nearest_point_df[1].values\n",
        "    output_df[\"lngDeg_center\"] = nearest_point_df[0].values\n",
        "    \n",
        "    \n",
        "        \n",
        "    output_df[\"latDeg_center_pre\"] = output_df[\"latDeg_center\"].shift(1)\n",
        "    output_df[\"lngDeg_center_pre\"] = output_df[\"lngDeg_center\"].shift(1)\n",
        "\n",
        "    output_df['meter'] = output_df.apply(\n",
        "            lambda r: calc_haversine(\n",
        "                r.latDeg, r.lngDeg, r.latDeg_center, r.lngDeg_center\n",
        "            ),\n",
        "            axis=1\n",
        "        )\n",
        "    \n",
        "    rl_list = []\n",
        "    #for collection in output_df[\"collectionName\"].unique():\n",
        "        #for phone in output_df[\"phoneName\"].unique():\n",
        "            #phone_df = output_df[output_df[\"phone\"] == f\"{collection}_{phone}\"]\n",
        "    for lat, lng, lat_c, lng_c, lat_c_pre, lng_c_pre in zip(\n",
        "                output_df[\"latDeg\"].to_numpy(),\n",
        "                output_df[\"lngDeg\"].to_numpy(),\n",
        "                output_df[\"latDeg_center\"].to_numpy(),\n",
        "                output_df[\"lngDeg_center\"].to_numpy(),\n",
        "                output_df[\"latDeg_center_pre\"].to_numpy(),\n",
        "                output_df[\"lngDeg_center_pre\"].to_numpy()\n",
        "            ):\n",
        "                base_vec = np.array([lat-lat_c_pre, lng-lng_c_pre])\n",
        "                center_vec = np.array([lat_c-lat_c_pre, lng_c-lng_c_pre])\n",
        "                r_or_l = np.cross(base_vec,center_vec)\n",
        "                if r_or_l > 0:\n",
        "                    rl_list.append(\"Right\")\n",
        "                else:\n",
        "                    rl_list.append(\"Left\")\n",
        "    output_df[\"Right_or_left\"] = rl_list\n",
        "    \n",
        "    return output_df"
      ],
      "execution_count": null,
      "outputs": []
    },
    {
      "cell_type": "code",
      "metadata": {
        "id": "e_HYZMxfahpe"
      },
      "source": [
        "def check_meter_from_center(input_df):\n",
        "        output_df = input_df.copy()\n",
        "        lat_list = []\n",
        "        lng_list = []\n",
        "        for lat, lng, lat_c, lng_c, meter, rl in zip(\n",
        "            output_df[\"latDeg\"].to_numpy(),\n",
        "            output_df[\"lngDeg\"].to_numpy(),\n",
        "            output_df[\"latDeg_center\"].to_numpy(),\n",
        "            output_df[\"lngDeg_center\"].to_numpy(),\n",
        "            output_df[\"meter\"].to_numpy(),\n",
        "            output_df[\"Right_or_left\"].values\n",
        "        ):\n",
        "            if rl == \"Left\":\n",
        "                lat = lat_c\n",
        "                lng = lng_c\n",
        "                lat_list.append(lat)\n",
        "                lng_list.append(lng)\n",
        "            else:\n",
        "                if meter > 30:\n",
        "                    lat = lat\n",
        "                    lng = lng\n",
        "                elif meter > 10:\n",
        "                    lat = ((((lat + lat_c)/2 + lat_c)/2 + lat_c)/2 + lat_c)/2\n",
        "                    lng = ((((lng + lng_c)/2 + lng_c)/2 + lng_c)/2 + lng_c)/2\n",
        "                elif meter > 7.5:\n",
        "                    lat = (((lat + lat_c)/2 + lat_c)/2 + lat_c)/2\n",
        "                    lng = (((lng + lng_c)/2 + lng_c)/2 + lng_c)/2\n",
        "                elif meter > 5:\n",
        "                    lat = ((lat + lat_c)/2 + lat_c)/2\n",
        "                    lng = ((lng + lng_c)/2 + lng_c)/2\n",
        "                elif meter > 2.5:\n",
        "                    lat = (lat + lat_c)/2\n",
        "                    lng = (lng + lng_c)/2\n",
        "\n",
        "                lat_list.append(lat)\n",
        "                lng_list.append(lng)\n",
        "\n",
        "\n",
        "        output_df.iloc[:, 2] = lat_list\n",
        "        output_df.iloc[:, 3] = lng_list\n",
        "        return output_df"
      ],
      "execution_count": null,
      "outputs": []
    },
    {
      "cell_type": "code",
      "metadata": {
        "id": "vyUAMkvTutKi"
      },
      "source": [
        "def move_closer_center_train(input_df):\n",
        "    train_SJC_list = [\"2021-04-22-US-SJC-1\", \"2021-04-28-US-SJC-1\", \"2021-04-29-US-SJC-2\"]\n",
        "    train_dfs = []\n",
        "    for collection in input_df[\"collectionName\"].unique():\n",
        "        if collection in train_SJC_list:\n",
        "            phones_dfs = []\n",
        "            collection_df = input_df[input_df[\"collectionName\"] == collection]\n",
        "            for phone in collection_df[\"phone\"].unique():\n",
        "                phone_df = collection_df[collection_df[\"phone\"] == phone]\n",
        "                phone_df = create_dataset_center(phone_df)\n",
        "                phone_df = check_meter_from_center(phone_df)\n",
        "                phones_dfs.append(phone_df)\n",
        "            collection_df = pd.concat(phones_dfs)\n",
        "            collection_df = mean_points(collection_df)\n",
        "            train_dfs.append(collection_df)\n",
        "        else:\n",
        "            train_dfs.append(input_df[input_df[\"collectionName\"] == collection])\n",
        "    output_df = pd.concat(train_dfs)\n",
        "\n",
        "    return output_df"
      ],
      "execution_count": null,
      "outputs": []
    },
    {
      "cell_type": "code",
      "metadata": {
        "id": "hCwntbSBjVO_"
      },
      "source": [
        "def move_closer_center(input_df):\n",
        "    test_SJC_list = [\"2021-04-22-US-SJC-2\", \"2021-04-29-US-SJC-3\"]\n",
        "    test_dfs = []\n",
        "    for collection in input_df[\"collectionName\"].unique():\n",
        "        if collection in test_SJC_list:\n",
        "            phones_dfs = []\n",
        "            collection_df = input_df[input_df[\"collectionName\"] == collection]\n",
        "            for phone in collection_df[\"phone\"].unique():\n",
        "                phone_df = collection_df[collection_df[\"phone\"] == phone]\n",
        "                phone_df = create_dataset_center(phone_df)\n",
        "                phone_df = check_meter_from_center(phone_df)\n",
        "                phones_dfs.append(phone_df)\n",
        "            collection_df = pd.concat(phones_dfs)\n",
        "            collection_df = mean_points(collection_df)\n",
        "            test_dfs.append(collection_df)\n",
        "        else:\n",
        "            test_dfs.append(input_df[input_df[\"collectionName\"] == collection])\n",
        "    output_df = pd.concat(test_dfs)\n",
        "\n",
        "    return output_df"
      ],
      "execution_count": null,
      "outputs": []
    },
    {
      "cell_type": "markdown",
      "metadata": {
        "id": "qy8EnNQdOwUf"
      },
      "source": [
        "##move closer truth SJC"
      ]
    },
    {
      "cell_type": "code",
      "metadata": {
        "id": "sXN7rNZK1Ufv"
      },
      "source": [
        "def create_dataset_truth_train(input_df):\n",
        "    train_SJC_list = [\"2021-04-22-US-SJC-1\", \"2021-04-28-US-SJC-1\", \"2021-04-29-US-SJC-2\"]\n",
        "    #train_SJCs = []\n",
        "    #for SJC in train_SJC_list:\n",
        "       # SJC_df = input_df[input_df[\"collectionName\"] == SJC]\n",
        "       # train_SJCs.append(SJC_df)\n",
        "    #train_SJC = pd.concat(train_SJCs)\n",
        "    output_df = input_df.copy()\n",
        "    lat_list = []\n",
        "    lng_list = []\n",
        "    for collection in train_SJC_list:\n",
        "        collection_df = train_base[train_base[\"collectionName\"] == collection]\n",
        "        for phone in collection_df[\"phone\"].unique():\n",
        "            phone_df = collection_df[collection_df[\"phone\"] == phone]\n",
        "            phone_df[\"t_latDeg_pro\"] = phone_df[\"t_latDeg\"].shift(-1)\n",
        "            phone_df[\"t_lngDeg_pro\"] = phone_df[\"t_lngDeg\"].shift(-1)\n",
        "            for lat, lng, lat_pre, lng_pre in zip(\n",
        "                phone_df[\"t_latDeg\"].to_numpy(),\n",
        "                phone_df[\"t_lngDeg\"].to_numpy(),\n",
        "                phone_df[\"t_latDeg_pro\"].to_numpy(),\n",
        "                phone_df[\"t_lngDeg_pro\"].to_numpy()\n",
        "            ):\n",
        "                lat_list.append(lat)\n",
        "                lng_list.append(lng)\n",
        "                lat_mean = (lat + lat_pre)/2\n",
        "                lng_mean = (lng + lng_pre)/2\n",
        "                lat_list.append(lat_mean)\n",
        "                lng_list.append(lng_mean)\n",
        "\n",
        "    points_list = []\n",
        "    for lat, lng in zip(\n",
        "        lat_list,\n",
        "        lng_list\n",
        "    ):\n",
        "        points_list.append([lat, lng])\n",
        "\n",
        "    nearest_points_list = []\n",
        "    for lat, lng in zip(\n",
        "        output_df[\"latDeg\"].to_numpy(),\n",
        "        output_df[\"lngDeg\"].to_numpy()\n",
        "    ):\n",
        "        nearest_points_list.append(nearest_point(lat, lng, points_list))\n",
        "\n",
        "    nearest_points_df = pd.DataFrame(nearest_points_list)\n",
        "    output_df[\"latDeg_from_gt\"] = nearest_points_df[0].values\n",
        "    output_df[\"lngDeg_from_gt\"] = nearest_points_df[1].values\n",
        "    \n",
        "    lat_gt_pre_list = []\n",
        "    lng_gt_pre_list = []\n",
        "    for collection in output_df[\"collectionName\"].unique():\n",
        "        collection_df = output_df[output_df[\"collectionName\"] == collection]\n",
        "        for phone in collection_df[\"phoneName\"].unique():\n",
        "            phone_df = collection_df[collection_df[\"phoneName\"] == phone]\n",
        "            phone_df[\"latDeg_from_gt_pre\"] = phone_df[\"latDeg_from_gt\"].shift(-1)\n",
        "            phone_df[\"lngDeg_from_gt_pre\"] = phone_df[\"lngDeg_from_gt\"].shift(-1)\n",
        "            for lat_gt_pre, lng_gt_pre in zip(\n",
        "                phone_df[\"latDeg_from_gt_pre\"].to_numpy(),\n",
        "                phone_df[\"lngDeg_from_gt_pre\"].to_numpy(),\n",
        "            ):\n",
        "                lat_gt_pre_list.append(lat_gt_pre)\n",
        "                lng_gt_pre_list.append(lng_gt_pre)    \n",
        "        \n",
        "        output_df[\"latDeg_from_gt_pre\"] = lat_gt_pre_list\n",
        "        output_df[\"lngDeg_from_gt_pre\"] = lng_gt_pre_list\n",
        "\n",
        "    output_df[\"meter\"] = output_df.apply(\n",
        "        lambda r:calc_haversine(\n",
        "            r.latDeg, r.lngDeg, r.latDeg_from_gt, r.lngDeg_from_gt\n",
        "        ),\n",
        "        axis=1\n",
        "    )\n",
        "    return output_df\n"
      ],
      "execution_count": null,
      "outputs": []
    },
    {
      "cell_type": "code",
      "metadata": {
        "id": "RodqE4LAbBnU"
      },
      "source": [
        "def check_meter_from_truth(input_df):\n",
        "    output_df = input_df.copy()\n",
        "    lat_list = []\n",
        "    lng_list = []\n",
        "    for lat, lng, lat_gt, lng_gt, meter in zip(\n",
        "        output_df[\"latDeg\"].to_numpy(),\n",
        "        output_df[\"lngDeg\"].to_numpy(),\n",
        "        output_df[\"latDeg_from_gt\"].to_numpy(),\n",
        "        output_df[\"lngDeg_from_gt\"].to_numpy(),\n",
        "        output_df[\"meter\"].to_numpy(),\n",
        "    ):\n",
        "        if meter > 30:\n",
        "            lat = lat\n",
        "            lng = lng\n",
        "        elif meter > 10:\n",
        "            lat = ((((lat + lat_gt)/2 + lat_gt)/2 + lat_gt)/2 + lat_gt)/2\n",
        "            lng = ((((lng + lng_gt)/2 + lng_gt)/2 + lng_gt)/2 + lng_gt)/2\n",
        "        elif meter > 7.5:\n",
        "            lat = (((lat + lat_gt)/2 + lat_gt)/2 + lat_gt)/2\n",
        "            lng = (((lng + lng_gt)/2 + lng_gt)/2 + lng_gt)/2\n",
        "        elif meter > 5:\n",
        "            lat = ((lat + lat_gt)/2 + lat_gt)/2\n",
        "            lng = ((lng + lng_gt)/2 + lng_gt)/2\n",
        "        elif meter > 2.5:\n",
        "            lat = (lat + lat_gt)/2\n",
        "            lng = (lng + lng_gt)/2\n",
        "        elif meter > 1:\n",
        "            lat = ((lat + lat_gt)/2 + lat)/2\n",
        "            lng = ((lng + lng_gt)/2 + lng)/2\n",
        "        else:\n",
        "            lat = lat_gt\n",
        "            lng = lng_gt\n",
        "\n",
        "        lat_list.append(lat)\n",
        "        lng_list.append(lng)\n",
        "\n",
        "\n",
        "    output_df.iloc[:, 2] = lat_list\n",
        "    output_df.iloc[:, 3] = lng_list\n",
        "    return output_df"
      ],
      "execution_count": null,
      "outputs": []
    },
    {
      "cell_type": "code",
      "metadata": {
        "id": "-B8-f_ntx2pi"
      },
      "source": [
        "def move_closer_truth_train(input_df):\n",
        "    train_SJC_list = [\"2021-04-22-US-SJC-1\", \"2021-04-28-US-SJC-1\", \"2021-04-29-US-SJC-2\"]\n",
        "    train_dfs = []\n",
        "    for collection in input_df[\"collectionName\"].unique():\n",
        "        if collection in train_SJC_list:\n",
        "            phones_dfs = []\n",
        "            collection_df = input_df[input_df[\"collectionName\"] == collection]\n",
        "            for phone in collection_df[\"phone\"].unique():\n",
        "                phone_df = collection_df[collection_df[\"phone\"] == phone]\n",
        "                phone_df = create_dataset_truth_train(phone_df)\n",
        "                phone_df = check_meter_from_truth(phone_df)\n",
        "                phones_dfs.append(phone_df)\n",
        "            collection_df = pd.concat(phones_dfs)\n",
        "            train_dfs.append(collection_df)\n",
        "        else:\n",
        "            train_dfs.append(input_df[input_df[\"collectionName\"] == collection])\n",
        "    output_df = pd.concat(train_dfs)\n",
        "\n",
        "    return output_df"
      ],
      "execution_count": null,
      "outputs": []
    },
    {
      "cell_type": "code",
      "metadata": {
        "id": "2LHOYs4fkyel"
      },
      "source": [
        "def move_closer_truth(input_df):\n",
        "    test_SJC_list = [\"2021-04-22-US-SJC-2\", \"2021-04-29-US-SJC-3\"]\n",
        "    test_dfs = []\n",
        "    for collection in input_df[\"collectionName\"].unique():\n",
        "        if collection in test_SJC_list:\n",
        "            phones_dfs = []\n",
        "            collection_df = input_df[input_df[\"collectionName\"] == collection]\n",
        "            for phone in collection_df[\"phone\"].unique():\n",
        "                phone_df = collection_df[collection_df[\"phone\"] == phone]\n",
        "                phone_df = create_dataset_truth_train(phone_df)\n",
        "                phone_df = check_meter_from_truth(phone_df)\n",
        "                phones_dfs.append(phone_df)\n",
        "            collection_df = pd.concat(phones_dfs)\n",
        "            test_dfs.append(collection_df)\n",
        "        else:\n",
        "            test_dfs.append(input_df[input_df[\"collectionName\"] == collection])\n",
        "    output_df = pd.concat(test_dfs)\n",
        "\n",
        "    return output_df"
      ],
      "execution_count": null,
      "outputs": []
    },
    {
      "cell_type": "markdown",
      "metadata": {
        "id": "9o_Sn68eOwSK"
      },
      "source": [
        "#cheke CV"
      ]
    },
    {
      "cell_type": "code",
      "metadata": {
        "id": "cvl-zr9bhiYp"
      },
      "source": [
        "def check_score(input_df: pd.DataFrame) -> pd.DataFrame:\n",
        "    output_df = input_df.copy()\n",
        "    \n",
        "    output_df['meter'] = input_df.apply(\n",
        "        lambda r: calc_haversine(\n",
        "            r.latDeg, r.lngDeg, r.t_latDeg, r.t_lngDeg\n",
        "        ),\n",
        "        axis=1\n",
        "    )\n",
        "\n",
        "    meter_score = output_df['meter'].mean()\n",
        "    print(f'error meter: {meter_score}')\n",
        "\n",
        "    scores = []\n",
        "    for phone in output_df['phone'].unique():\n",
        "        _index = output_df['phone']==phone\n",
        "        p_50 = np.percentile(output_df.loc[_index, 'meter'], 50)\n",
        "        p_95 = np.percentile(output_df.loc[_index, 'meter'], 95)\n",
        "        scores.append(p_50)\n",
        "        scores.append(p_95)\n",
        "\n",
        "    score = sum(scores) / len(scores)\n",
        "    print(f'score: {score}')\n",
        "    \n",
        "    return output_df"
      ],
      "execution_count": null,
      "outputs": []
    },
    {
      "cell_type": "code",
      "metadata": {
        "id": "IkUnB1znzkCD"
      },
      "source": [
        "train = train_base.copy()"
      ],
      "execution_count": 156,
      "outputs": []
    },
    {
      "cell_type": "code",
      "metadata": {
        "id": "VfgooIBJtnUw",
        "outputId": "bb33572e-c8ca-4720-c710-f45464bd5c77",
        "colab": {
          "base_uri": "https://localhost:8080/"
        }
      },
      "source": [
        "train = remove_device_P(train)\n",
        "print('<<<remove_device>>>')\n",
        "train = check_score(train)"
      ],
      "execution_count": 157,
      "outputs": [
        {
          "output_type": "stream",
          "text": [
            "<<<remove_device>>>\n",
            "error meter: 3.7152727314957783\n",
            "score: 5.151723902761146\n"
          ],
          "name": "stdout"
        }
      ]
    },
    {
      "cell_type": "code",
      "metadata": {
        "id": "hJx0dsFrtnSX",
        "outputId": "08c5f5bc-47e3-4704-8bb8-aa32b1adfa9c",
        "colab": {
          "base_uri": "https://localhost:8080/"
        }
      },
      "source": [
        "train = remove_device_S(train)\n",
        "print('<<<remove_device>>>')\n",
        "train = check_score(train)"
      ],
      "execution_count": 158,
      "outputs": [
        {
          "output_type": "stream",
          "text": [
            "<<<remove_device>>>\n",
            "error meter: 3.6136466267233804\n",
            "score: 4.997452081955869\n"
          ],
          "name": "stdout"
        }
      ]
    },
    {
      "cell_type": "code",
      "metadata": {
        "id": "gNZXi8XJz0s9",
        "outputId": "b9b257ae-6435-48cc-f6fb-f73329b98e4c",
        "colab": {
          "base_uri": "https://localhost:8080/"
        }
      },
      "source": [
        "train = outlier_train(train)\n",
        "print('<<<outlier>>>')\n",
        "train = check_score(train)"
      ],
      "execution_count": 143,
      "outputs": [
        {
          "output_type": "stream",
          "text": [
            "<<<outlier>>>\n",
            "error meter: 3.6776959126304978\n",
            "score: 5.2890161163079314\n"
          ],
          "name": "stdout"
        }
      ]
    },
    {
      "cell_type": "code",
      "metadata": {
        "id": "ssykSBFf0JNi",
        "outputId": "76de5022-0b09-48f5-955c-ab8204b1c020",
        "colab": {
          "base_uri": "https://localhost:8080/",
          "height": 119,
          "referenced_widgets": [
            "dac1d1e0de9d44a591514ce4c7364a56",
            "60e3482e4cb54e80926668ac8ff2d626",
            "d3f749bc54d04ab4908852a759b1c971",
            "6e0e077ae711496694d1d8ac5ef023be",
            "eca81a7597f040b0860a036fbdebc796",
            "fb4b334e7cb9422b9e28747348026925",
            "539a40f0d55047deab664682965adae8",
            "d3f9d907fcc9487faca1073f5d5ce110"
          ]
        }
      },
      "source": [
        "train = mean_prediction_train(train)\n",
        "print('<<<phones_mean>>>')\n",
        "train = check_score(train)"
      ],
      "execution_count": 144,
      "outputs": [
        {
          "output_type": "display_data",
          "data": {
            "application/vnd.jupyter.widget-view+json": {
              "model_id": "dac1d1e0de9d44a591514ce4c7364a56",
              "version_major": 2,
              "version_minor": 0
            },
            "text/plain": [
              "HBox(children=(FloatProgress(value=0.0, max=73.0), HTML(value='')))"
            ]
          },
          "metadata": {
            "tags": []
          }
        },
        {
          "output_type": "stream",
          "text": [
            "\n",
            "<<<phones_mean>>>\n",
            "error meter: 2.909066992535581\n",
            "score: 4.112424441013549\n"
          ],
          "name": "stdout"
        }
      ]
    },
    {
      "cell_type": "code",
      "metadata": {
        "id": "KTTc4ohT0JIm",
        "outputId": "ce0c570f-5843-45a5-8b56-efb10cf982de",
        "colab": {
          "base_uri": "https://localhost:8080/"
        }
      },
      "source": [
        "train = remove_device(train)\n",
        "print('<<<remove_device>>>')\n",
        "train = check_score(train)"
      ],
      "execution_count": 145,
      "outputs": [
        {
          "output_type": "stream",
          "text": [
            "<<<remove_device>>>\n",
            "error meter: 2.8217720062789717\n",
            "score: 3.9666551667884566\n"
          ],
          "name": "stdout"
        }
      ]
    },
    {
      "cell_type": "code",
      "metadata": {
        "id": "Vh-fjgcOz0on",
        "outputId": "fdf90772-7124-4a81-c39b-92ab598c4941",
        "colab": {
          "base_uri": "https://localhost:8080/"
        }
      },
      "source": [
        "train = position_shift_train(train)\n",
        "print('<<<position_shift>>>')\n",
        "train = check_score(train)"
      ],
      "execution_count": 146,
      "outputs": [
        {
          "output_type": "stream",
          "text": [
            "\u001b[32m[I 2021-07-28 10:30:52,497]\u001b[0m A new study created in memory with name: no-name-89213d86-e974-411a-a996-a039a9764141\u001b[0m\n",
            "\u001b[32m[I 2021-07-28 10:30:59,350]\u001b[0m Trial 0 finished with value: 5.199628174408762 and parameters: {'a': 0.8726115433624375}. Best is trial 0 with value: 5.199628174408762.\u001b[0m\n",
            "\u001b[32m[I 2021-07-28 10:31:06,104]\u001b[0m Trial 1 finished with value: 5.709029713248592 and parameters: {'a': -0.9231521719414253}. Best is trial 0 with value: 5.199628174408762.\u001b[0m\n",
            "\u001b[32m[I 2021-07-28 10:31:12,637]\u001b[0m Trial 2 finished with value: 5.253543619669742 and parameters: {'a': 0.11619003625999147}. Best is trial 0 with value: 5.199628174408762.\u001b[0m\n",
            "\u001b[32m[I 2021-07-28 10:31:19,327]\u001b[0m Trial 3 finished with value: 5.518712132941019 and parameters: {'a': -0.576526671180895}. Best is trial 0 with value: 5.199628174408762.\u001b[0m\n",
            "\u001b[32m[I 2021-07-28 10:31:26,189]\u001b[0m Trial 4 finished with value: 5.253541459867117 and parameters: {'a': 0.11619739955398445}. Best is trial 0 with value: 5.199628174408762.\u001b[0m\n",
            "\u001b[32m[I 2021-07-28 10:31:32,989]\u001b[0m Trial 5 finished with value: 5.192806335287498 and parameters: {'a': 0.7417017134437849}. Best is trial 5 with value: 5.192806335287498.\u001b[0m\n",
            "\u001b[32m[I 2021-07-28 10:31:39,847]\u001b[0m Trial 6 finished with value: 5.197520617940722 and parameters: {'a': 0.8274030668386387}. Best is trial 5 with value: 5.192806335287498.\u001b[0m\n",
            "\u001b[32m[I 2021-07-28 10:31:46,690]\u001b[0m Trial 7 finished with value: 5.1982300609314445 and parameters: {'a': 0.8386637225171949}. Best is trial 5 with value: 5.192806335287498.\u001b[0m\n",
            "\u001b[32m[I 2021-07-28 10:31:53,171]\u001b[0m Trial 8 finished with value: 5.460545111927817 and parameters: {'a': -0.4569961686523365}. Best is trial 5 with value: 5.192806335287498.\u001b[0m\n",
            "\u001b[32m[I 2021-07-28 10:31:59,788]\u001b[0m Trial 9 finished with value: 5.202809548825714 and parameters: {'a': 0.37173335915520034}. Best is trial 5 with value: 5.192806335287498.\u001b[0m\n",
            "\u001b[32m[I 2021-07-28 10:32:06,529]\u001b[0m Trial 10 finished with value: 5.190890707593663 and parameters: {'a': 0.5455583635038955}. Best is trial 10 with value: 5.190890707593663.\u001b[0m\n",
            "\u001b[32m[I 2021-07-28 10:32:13,359]\u001b[0m Trial 11 finished with value: 5.192851578818196 and parameters: {'a': 0.48606277842551504}. Best is trial 10 with value: 5.190890707593663.\u001b[0m\n",
            "\u001b[32m[I 2021-07-28 10:32:19,786]\u001b[0m Trial 12 finished with value: 5.191761967870982 and parameters: {'a': 0.5214689835915886}. Best is trial 10 with value: 5.190890707593663.\u001b[0m\n",
            "\u001b[32m[I 2021-07-28 10:32:26,230]\u001b[0m Trial 13 finished with value: 5.1952867682423385 and parameters: {'a': 0.44872146779367483}. Best is trial 10 with value: 5.190890707593663.\u001b[0m\n",
            "\u001b[32m[I 2021-07-28 10:32:32,823]\u001b[0m Trial 14 finished with value: 5.352173176766927 and parameters: {'a': -0.19376651007654722}. Best is trial 10 with value: 5.190890707593663.\u001b[0m\n",
            "\u001b[32m[I 2021-07-28 10:32:39,609]\u001b[0m Trial 15 finished with value: 5.189719052263099 and parameters: {'a': 0.5995028293388338}. Best is trial 15 with value: 5.189719052263099.\u001b[0m\n",
            "\u001b[32m[I 2021-07-28 10:32:46,056]\u001b[0m Trial 16 finished with value: 5.225060827048653 and parameters: {'a': 0.2480302001314868}. Best is trial 15 with value: 5.189719052263099.\u001b[0m\n",
            "\u001b[32m[I 2021-07-28 10:32:52,689]\u001b[0m Trial 17 finished with value: 5.187515199202675 and parameters: {'a': 0.6434943521697213}. Best is trial 17 with value: 5.187515199202675.\u001b[0m\n",
            "\u001b[32m[I 2021-07-28 10:32:59,361]\u001b[0m Trial 18 finished with value: 5.3585187009964015 and parameters: {'a': -0.20902859643507332}. Best is trial 17 with value: 5.187515199202675.\u001b[0m\n",
            "\u001b[32m[I 2021-07-28 10:33:05,893]\u001b[0m Trial 19 finished with value: 5.211649059484855 and parameters: {'a': 0.9772221866914315}. Best is trial 17 with value: 5.187515199202675.\u001b[0m\n",
            "\u001b[32m[I 2021-07-28 10:33:12,898]\u001b[0m Trial 20 finished with value: 5.1882797366657165 and parameters: {'a': 0.6288165622349559}. Best is trial 17 with value: 5.187515199202675.\u001b[0m\n",
            "\u001b[32m[I 2021-07-28 10:33:19,631]\u001b[0m Trial 21 finished with value: 5.187355775034752 and parameters: {'a': 0.6502987007767702}. Best is trial 21 with value: 5.187355775034752.\u001b[0m\n",
            "\u001b[32m[I 2021-07-28 10:33:26,206]\u001b[0m Trial 22 finished with value: 5.188503808473095 and parameters: {'a': 0.6869610549877215}. Best is trial 21 with value: 5.187355775034752.\u001b[0m\n",
            "\u001b[32m[I 2021-07-28 10:33:32,756]\u001b[0m Trial 23 finished with value: 5.20915120112828 and parameters: {'a': 0.33552939515604024}. Best is trial 21 with value: 5.187355775034752.\u001b[0m\n",
            "\u001b[32m[I 2021-07-28 10:33:39,464]\u001b[0m Trial 24 finished with value: 5.214042280884079 and parameters: {'a': 0.9959529684362736}. Best is trial 21 with value: 5.187355775034752.\u001b[0m\n",
            "\u001b[32m[I 2021-07-28 10:33:45,986]\u001b[0m Trial 25 finished with value: 5.229506462617964 and parameters: {'a': 0.2220675338336926}. Best is trial 21 with value: 5.187355775034752.\u001b[0m\n",
            "\u001b[32m[I 2021-07-28 10:33:52,581]\u001b[0m Trial 26 finished with value: 5.187675222342978 and parameters: {'a': 0.6736908346347249}. Best is trial 21 with value: 5.187355775034752.\u001b[0m\n",
            "\u001b[32m[I 2021-07-28 10:33:59,232]\u001b[0m Trial 27 finished with value: 5.311050793321134 and parameters: {'a': -0.0796356877427274}. Best is trial 21 with value: 5.187355775034752.\u001b[0m\n",
            "\u001b[32m[I 2021-07-28 10:34:05,659]\u001b[0m Trial 28 finished with value: 5.2112030754140495 and parameters: {'a': 0.9744577635818314}. Best is trial 21 with value: 5.187355775034752.\u001b[0m\n",
            "\u001b[32m[I 2021-07-28 10:34:12,324]\u001b[0m Trial 29 finished with value: 5.1957471067889145 and parameters: {'a': 0.7973619846141439}. Best is trial 21 with value: 5.187355775034752.\u001b[0m\n"
          ],
          "name": "stderr"
        },
        {
          "output_type": "stream",
          "text": [
            "<<<position_shift>>>\n",
            "error meter: 2.781806632373344\n",
            "score: 3.9268456551068516\n"
          ],
          "name": "stdout"
        }
      ]
    },
    {
      "cell_type": "code",
      "metadata": {
        "id": "wIusuTZOz0l1",
        "outputId": "aaa6ac96-90a4-4b29-f641-6341c82ec02a",
        "colab": {
          "base_uri": "https://localhost:8080/"
        }
      },
      "source": [
        "train = remove_device(train)\n",
        "print('<<<remove_device>>>')\n",
        "train = check_score(train)"
      ],
      "execution_count": 148,
      "outputs": [
        {
          "output_type": "stream",
          "text": [
            "<<<remove_device>>>\n",
            "error meter: 2.7306584572092234\n",
            "score: 3.8487913766606066\n"
          ],
          "name": "stdout"
        }
      ]
    },
    {
      "cell_type": "code",
      "metadata": {
        "id": "UTch1tPHz0jh",
        "outputId": "abb243df-d65b-4b6e-e864-8c36c6a37e05",
        "colab": {
          "base_uri": "https://localhost:8080/"
        }
      },
      "source": [
        "train = gauss_filter(train)\n",
        "print('<<<guass_filter>>>')\n",
        "train = check_score(train)"
      ],
      "execution_count": 149,
      "outputs": [
        {
          "output_type": "stream",
          "text": [
            "<<<guass_filter>>>\n",
            "error meter: 2.586949185563533\n",
            "score: 3.649056948171927\n"
          ],
          "name": "stdout"
        }
      ]
    },
    {
      "cell_type": "code",
      "metadata": {
        "id": "5CMhfMnl0JWB",
        "outputId": "5db990d2-873b-4f1e-9444-a016b1a8c4c6",
        "colab": {
          "base_uri": "https://localhost:8080/"
        }
      },
      "source": [
        "train = gauss_filter(train)\n",
        "print('<<<guass_filter>>>')\n",
        "train = check_score(train)"
      ],
      "execution_count": 126,
      "outputs": [
        {
          "output_type": "stream",
          "text": [
            "<<<guass_filter>>>\n",
            "error meter: 2.6720635449884482\n",
            "score: 3.6899179856193998\n"
          ],
          "name": "stdout"
        }
      ]
    },
    {
      "cell_type": "code",
      "metadata": {
        "id": "epytG8EOz0g_"
      },
      "source": [
        ""
      ],
      "execution_count": null,
      "outputs": []
    },
    {
      "cell_type": "code",
      "metadata": {
        "colab": {
          "base_uri": "https://localhost:8080/",
          "height": 1000,
          "referenced_widgets": [
            "69fd286dcbae4a7b9d7ba358a40a4195",
            "a79d43e15b03486ba2e56093559e15d4",
            "bc71e70756d1484ca5a34185861764e8",
            "ec10c46cbfa14855aa4deef892302457",
            "42bba96514024fd7b4210ae1917e438f",
            "b73bc404c9fb42f19b099e1181e1e768",
            "67d8fbd362b8411aa38029616105874c",
            "d64a4d86371a4647beff827a4e3573ee"
          ]
        },
        "id": "RMmU1hfWb7un",
        "outputId": "78d3a607-5920-457e-b0ce-5b0cfcdaa4af"
      },
      "source": [
        "#make triangle 1\n",
        "CV1 = make_triangle(train_base)\n",
        "for i in range(100):\n",
        "    CV1 = make_triangle(CV1)\n",
        "print('<<<triangle_1>>>')\n",
        "CV1 = check_score(CV1)\n",
        "print('--------------------')\n",
        "\n",
        "#outlier\n",
        "CV2 = outlier_train(CV1)\n",
        "print('<<<outlier>>>')\n",
        "CV2 = check_score(CV2)\n",
        "print('--------------------')\n",
        "\n",
        "#make triangle 2\n",
        "CV3 = make_triangle(CV2)\n",
        "for i in range(100):\n",
        "    CV3 = make_triangle(CV3)\n",
        "print('<<<triangle_2>>>')\n",
        "CV3 = check_score(CV3)\n",
        "print('--------------------')\n",
        "\n",
        "#phonse mean\n",
        "CV4 = mean_prediction_train(CV3)\n",
        "print('<<<phones_mean>>>')\n",
        "CV4 = check_score(CV4)\n",
        "print('--------------------')\n",
        "\n",
        "#make triangle 3\n",
        "CV5 = make_triangle(CV4)\n",
        "for i in range(100):\n",
        "    CV5 = make_triangle(CV5)\n",
        "print('<<<triangle_3>>>')\n",
        "CV5 = check_score(CV5)\n",
        "print('--------------------')\n",
        "\n",
        "#remove device\n",
        "CV6 = remove_device_P(CV5)\n",
        "print('<<<remove_device_P>>>')\n",
        "CV6 = check_score(CV6)\n",
        "print('--------------------')\n",
        "\n",
        "#make triangle 4\n",
        "CV7 = make_triangle(CV6)\n",
        "for i in range(100):\n",
        "    CV7 = make_triangle(CV7)\n",
        "print('<<<triangle_4>>>')\n",
        "CV7 = check_score(CV7)\n",
        "print('--------------------')\n",
        "\n",
        "#remove device\n",
        "CV8 = remove_device_S(CV7)\n",
        "print('<<<remove_device_S>>>')\n",
        "CV8 = check_score(CV8)\n",
        "print('--------------------')\n",
        "\n",
        "#make triangle 5\n",
        "CV9 = make_triangle(CV8)\n",
        "for i in range(100):\n",
        "    CV9 = make_triangle(CV9)\n",
        "print('<<<triangle_4>>>')\n",
        "CV9 = check_score(CV9)\n",
        "print('--------------------')\n",
        "\n",
        "#position shift\n",
        "CV10 = position_shift_train(CV9)\n",
        "print('<<<position_shift>>>')\n",
        "CV10 = check_score(CV10)\n",
        "print('--------------------')\n",
        "\n",
        "#make triangle 5\n",
        "CV11 = make_triangle(CV10)\n",
        "for i in range(100):\n",
        "    CV11 = make_triangle(CV11)\n",
        "print('<<<triangle_5>>>')\n",
        "CV11 = check_score(CV11)\n",
        "print('--------------------')\n"
      ],
      "execution_count": 159,
      "outputs": [
        {
          "output_type": "stream",
          "text": [
            "/usr/local/lib/python3.7/dist-packages/ipykernel_launcher.py:37: RuntimeWarning:\n",
            "\n",
            "invalid value encountered in double_scalars\n",
            "\n",
            "/usr/local/lib/python3.7/dist-packages/ipykernel_launcher.py:37: RuntimeWarning:\n",
            "\n",
            "invalid value encountered in arccos\n",
            "\n"
          ],
          "name": "stderr"
        },
        {
          "output_type": "stream",
          "text": [
            "<<<triangle_1>>>\n",
            "error meter: 3.3579582394393928\n",
            "score: 4.753446293953488\n",
            "--------------------\n",
            "<<<outlier>>>\n",
            "error meter: 3.358838280191992\n",
            "score: 4.753446293953488\n",
            "--------------------\n"
          ],
          "name": "stdout"
        },
        {
          "output_type": "stream",
          "text": [
            "/usr/local/lib/python3.7/dist-packages/ipykernel_launcher.py:37: RuntimeWarning:\n",
            "\n",
            "invalid value encountered in double_scalars\n",
            "\n"
          ],
          "name": "stderr"
        },
        {
          "output_type": "stream",
          "text": [
            "<<<triangle_2>>>\n",
            "error meter: 3.345099090946541\n",
            "score: 4.74999834268959\n",
            "--------------------\n"
          ],
          "name": "stdout"
        },
        {
          "output_type": "display_data",
          "data": {
            "application/vnd.jupyter.widget-view+json": {
              "model_id": "69fd286dcbae4a7b9d7ba358a40a4195",
              "version_major": 2,
              "version_minor": 0
            },
            "text/plain": [
              "HBox(children=(FloatProgress(value=0.0, max=73.0), HTML(value='')))"
            ]
          },
          "metadata": {
            "tags": []
          }
        },
        {
          "output_type": "stream",
          "text": [
            "\n",
            "<<<phones_mean>>>\n",
            "error meter: 2.9007008123380005\n",
            "score: 3.981980123726002\n",
            "--------------------\n"
          ],
          "name": "stdout"
        },
        {
          "output_type": "stream",
          "text": [
            "/usr/local/lib/python3.7/dist-packages/ipykernel_launcher.py:37: RuntimeWarning:\n",
            "\n",
            "invalid value encountered in double_scalars\n",
            "\n"
          ],
          "name": "stderr"
        },
        {
          "output_type": "stream",
          "text": [
            "<<<triangle_3>>>\n",
            "error meter: 2.8872760220798033\n",
            "score: 3.9663206629532684\n",
            "--------------------\n",
            "<<<remove_device>>>\n",
            "error meter: 2.847873716805825\n",
            "score: 3.899354232113474\n",
            "--------------------\n"
          ],
          "name": "stdout"
        },
        {
          "output_type": "stream",
          "text": [
            "/usr/local/lib/python3.7/dist-packages/ipykernel_launcher.py:37: RuntimeWarning:\n",
            "\n",
            "invalid value encountered in arccos\n",
            "\n"
          ],
          "name": "stderr"
        },
        {
          "output_type": "stream",
          "text": [
            "<<<triangle_4>>>\n",
            "error meter: 2.8435099137095623\n",
            "score: 3.887193101566163\n",
            "--------------------\n",
            "<<<remove_device>>>\n",
            "error meter: 2.75665225335587\n",
            "score: 3.749463760886066\n",
            "--------------------\n",
            "<<<triangle_4>>>\n",
            "error meter: 2.7541752051500863\n",
            "score: 3.7450809780751424\n",
            "--------------------\n"
          ],
          "name": "stdout"
        },
        {
          "output_type": "stream",
          "text": [
            "\u001b[32m[I 2021-07-28 11:28:05,200]\u001b[0m A new study created in memory with name: no-name-d6413cc5-b2a0-4b4f-abf8-8d2bbf129081\u001b[0m\n",
            "\u001b[32m[I 2021-07-28 11:28:11,935]\u001b[0m Trial 0 finished with value: 5.737657553415794 and parameters: {'a': -0.972633111657059}. Best is trial 0 with value: 5.737657553415794.\u001b[0m\n",
            "\u001b[32m[I 2021-07-28 11:28:18,399]\u001b[0m Trial 1 finished with value: 5.327393232709673 and parameters: {'a': -0.12744462862912753}. Best is trial 1 with value: 5.327393232709673.\u001b[0m\n",
            "\u001b[32m[I 2021-07-28 11:28:25,447]\u001b[0m Trial 2 finished with value: 5.745493034927236 and parameters: {'a': -0.9862401251957731}. Best is trial 1 with value: 5.327393232709673.\u001b[0m\n",
            "\u001b[32m[I 2021-07-28 11:28:32,015]\u001b[0m Trial 3 finished with value: 5.2601972451538135 and parameters: {'a': 0.09239045266790358}. Best is trial 3 with value: 5.2601972451538135.\u001b[0m\n",
            "\u001b[32m[I 2021-07-28 11:28:38,401]\u001b[0m Trial 4 finished with value: 5.310905279029827 and parameters: {'a': -0.07914422216264838}. Best is trial 3 with value: 5.2601972451538135.\u001b[0m\n",
            "\u001b[32m[I 2021-07-28 11:28:45,207]\u001b[0m Trial 5 finished with value: 5.206602715470761 and parameters: {'a': 0.9360689578832027}. Best is trial 5 with value: 5.206602715470761.\u001b[0m\n",
            "\u001b[32m[I 2021-07-28 11:28:51,572]\u001b[0m Trial 6 finished with value: 5.69776493245624 and parameters: {'a': -0.904239918520146}. Best is trial 5 with value: 5.206602715470761.\u001b[0m\n",
            "\u001b[32m[I 2021-07-28 11:28:58,282]\u001b[0m Trial 7 finished with value: 5.199236364304578 and parameters: {'a': 0.40057511861382444}. Best is trial 7 with value: 5.199236364304578.\u001b[0m\n",
            "\u001b[32m[I 2021-07-28 11:29:04,840]\u001b[0m Trial 8 finished with value: 5.307790885715944 and parameters: {'a': -0.06843138455268027}. Best is trial 7 with value: 5.199236364304578.\u001b[0m\n",
            "\u001b[32m[I 2021-07-28 11:29:11,242]\u001b[0m Trial 9 finished with value: 5.440896187788444 and parameters: {'a': -0.41412909744546056}. Best is trial 7 with value: 5.199236364304578.\u001b[0m\n",
            "\u001b[32m[I 2021-07-28 11:29:17,590]\u001b[0m Trial 10 finished with value: 5.194277375882418 and parameters: {'a': 0.7703845246465216}. Best is trial 10 with value: 5.194277375882418.\u001b[0m\n",
            "\u001b[32m[I 2021-07-28 11:29:24,372]\u001b[0m Trial 11 finished with value: 5.194820149550683 and parameters: {'a': 0.7813119926537979}. Best is trial 10 with value: 5.194277375882418.\u001b[0m\n",
            "\u001b[32m[I 2021-07-28 11:29:30,661]\u001b[0m Trial 12 finished with value: 5.210708204918125 and parameters: {'a': 0.9691079092286088}. Best is trial 10 with value: 5.194277375882418.\u001b[0m\n",
            "\u001b[32m[I 2021-07-28 11:29:37,536]\u001b[0m Trial 13 finished with value: 5.188705902140331 and parameters: {'a': 0.6228551977752959}. Best is trial 13 with value: 5.188705902140331.\u001b[0m\n",
            "\u001b[32m[I 2021-07-28 11:29:44,281]\u001b[0m Trial 14 finished with value: 5.189720820427514 and parameters: {'a': 0.599455940548089}. Best is trial 13 with value: 5.188705902140331.\u001b[0m\n",
            "\u001b[32m[I 2021-07-28 11:29:50,984]\u001b[0m Trial 15 finished with value: 5.193659279340293 and parameters: {'a': 0.47255706448748147}. Best is trial 13 with value: 5.188705902140331.\u001b[0m\n",
            "\u001b[32m[I 2021-07-28 11:29:57,582]\u001b[0m Trial 16 finished with value: 5.195037456882776 and parameters: {'a': 0.4525205003352615}. Best is trial 13 with value: 5.188705902140331.\u001b[0m\n",
            "\u001b[32m[I 2021-07-28 11:30:04,299]\u001b[0m Trial 17 finished with value: 5.226641185971742 and parameters: {'a': 0.23802738649452068}. Best is trial 13 with value: 5.188705902140331.\u001b[0m\n",
            "\u001b[32m[I 2021-07-28 11:30:10,791]\u001b[0m Trial 18 finished with value: 5.188377395151141 and parameters: {'a': 0.6850197668800221}. Best is trial 18 with value: 5.188377395151141.\u001b[0m\n",
            "\u001b[32m[I 2021-07-28 11:30:17,885]\u001b[0m Trial 19 finished with value: 5.192792071531333 and parameters: {'a': 0.7414503855497928}. Best is trial 18 with value: 5.188377395151141.\u001b[0m\n",
            "\u001b[32m[I 2021-07-28 11:30:24,505]\u001b[0m Trial 20 finished with value: 5.454169349571765 and parameters: {'a': -0.4431544903431649}. Best is trial 18 with value: 5.188377395151141.\u001b[0m\n",
            "\u001b[32m[I 2021-07-28 11:30:31,029]\u001b[0m Trial 21 finished with value: 5.1878495650400405 and parameters: {'a': 0.6357950526822612}. Best is trial 21 with value: 5.1878495650400405.\u001b[0m\n",
            "\u001b[32m[I 2021-07-28 11:30:37,613]\u001b[0m Trial 22 finished with value: 5.187956016571395 and parameters: {'a': 0.6340212018412552}. Best is trial 21 with value: 5.1878495650400405.\u001b[0m\n",
            "\u001b[32m[I 2021-07-28 11:30:43,986]\u001b[0m Trial 23 finished with value: 5.222981891129107 and parameters: {'a': 0.26153139183680574}. Best is trial 21 with value: 5.1878495650400405.\u001b[0m\n",
            "\u001b[32m[I 2021-07-28 11:30:50,910]\u001b[0m Trial 24 finished with value: 5.20528073060407 and parameters: {'a': 0.927772573403489}. Best is trial 21 with value: 5.1878495650400405.\u001b[0m\n",
            "\u001b[32m[I 2021-07-28 11:30:57,377]\u001b[0m Trial 25 finished with value: 5.189659398739093 and parameters: {'a': 0.6069379398324538}. Best is trial 21 with value: 5.1878495650400405.\u001b[0m\n",
            "\u001b[32m[I 2021-07-28 11:31:03,744]\u001b[0m Trial 26 finished with value: 5.2379732166599755 and parameters: {'a': 0.18767592026530877}. Best is trial 21 with value: 5.1878495650400405.\u001b[0m\n",
            "\u001b[32m[I 2021-07-28 11:31:10,582]\u001b[0m Trial 27 finished with value: 5.203327017900609 and parameters: {'a': 0.36852212605155393}. Best is trial 21 with value: 5.1878495650400405.\u001b[0m\n",
            "\u001b[32m[I 2021-07-28 11:31:17,300]\u001b[0m Trial 28 finished with value: 5.198984721878432 and parameters: {'a': 0.8656057349799244}. Best is trial 21 with value: 5.1878495650400405.\u001b[0m\n",
            "\u001b[32m[I 2021-07-28 11:31:23,954]\u001b[0m Trial 29 finished with value: 5.1875393441852555 and parameters: {'a': 0.6429873811310023}. Best is trial 29 with value: 5.1875393441852555.\u001b[0m\n"
          ],
          "name": "stderr"
        },
        {
          "output_type": "stream",
          "text": [
            "<<<position_shift>>>\n",
            "error meter: 2.7046342353213446\n",
            "score: 3.6865237794773895\n",
            "--------------------\n"
          ],
          "name": "stdout"
        },
        {
          "output_type": "error",
          "ename": "KeyboardInterrupt",
          "evalue": "ignored",
          "traceback": [
            "\u001b[0;31m---------------------------------------------------------------------------\u001b[0m",
            "\u001b[0;31mKeyboardInterrupt\u001b[0m                         Traceback (most recent call last)",
            "\u001b[0;32m<ipython-input-159-5caeef91a3aa>\u001b[0m in \u001b[0;36m<module>\u001b[0;34m()\u001b[0m\n\u001b[1;32m     72\u001b[0m \u001b[0mCV11\u001b[0m \u001b[0;34m=\u001b[0m \u001b[0mmake_triangle\u001b[0m\u001b[0;34m(\u001b[0m\u001b[0mCV10\u001b[0m\u001b[0;34m)\u001b[0m\u001b[0;34m\u001b[0m\u001b[0;34m\u001b[0m\u001b[0m\n\u001b[1;32m     73\u001b[0m \u001b[0;32mfor\u001b[0m \u001b[0mi\u001b[0m \u001b[0;32min\u001b[0m \u001b[0mrange\u001b[0m\u001b[0;34m(\u001b[0m\u001b[0;36m100\u001b[0m\u001b[0;34m)\u001b[0m\u001b[0;34m:\u001b[0m\u001b[0;34m\u001b[0m\u001b[0;34m\u001b[0m\u001b[0m\n\u001b[0;32m---> 74\u001b[0;31m     \u001b[0mCV11\u001b[0m \u001b[0;34m=\u001b[0m \u001b[0mmake_triangle\u001b[0m\u001b[0;34m(\u001b[0m\u001b[0mCV11\u001b[0m\u001b[0;34m)\u001b[0m\u001b[0;34m\u001b[0m\u001b[0;34m\u001b[0m\u001b[0m\n\u001b[0m\u001b[1;32m     75\u001b[0m \u001b[0mprint\u001b[0m\u001b[0;34m(\u001b[0m\u001b[0;34m'<<<triangle_5>>>'\u001b[0m\u001b[0;34m)\u001b[0m\u001b[0;34m\u001b[0m\u001b[0;34m\u001b[0m\u001b[0m\n\u001b[1;32m     76\u001b[0m \u001b[0mCV11\u001b[0m \u001b[0;34m=\u001b[0m \u001b[0mcheck_score\u001b[0m\u001b[0;34m(\u001b[0m\u001b[0mCV11\u001b[0m\u001b[0;34m)\u001b[0m\u001b[0;34m\u001b[0m\u001b[0;34m\u001b[0m\u001b[0m\n",
            "\u001b[0;32m<ipython-input-8-cbe59a315a36>\u001b[0m in \u001b[0;36mmake_triangle\u001b[0;34m(input_df)\u001b[0m\n\u001b[1;32m     11\u001b[0m             \u001b[0;32mfor\u001b[0m \u001b[0mphone\u001b[0m \u001b[0;32min\u001b[0m \u001b[0mcollection_df\u001b[0m\u001b[0;34m[\u001b[0m\u001b[0;34m\"phoneName\"\u001b[0m\u001b[0;34m]\u001b[0m\u001b[0;34m.\u001b[0m\u001b[0munique\u001b[0m\u001b[0;34m(\u001b[0m\u001b[0;34m)\u001b[0m\u001b[0;34m:\u001b[0m\u001b[0;34m\u001b[0m\u001b[0;34m\u001b[0m\u001b[0m\n\u001b[1;32m     12\u001b[0m                 \u001b[0mphone_df\u001b[0m \u001b[0;34m=\u001b[0m \u001b[0mcollection_df\u001b[0m\u001b[0;34m[\u001b[0m\u001b[0mcollection_df\u001b[0m\u001b[0;34m[\u001b[0m\u001b[0;34m\"phoneName\"\u001b[0m\u001b[0;34m]\u001b[0m \u001b[0;34m==\u001b[0m \u001b[0mphone\u001b[0m\u001b[0;34m]\u001b[0m\u001b[0;34m\u001b[0m\u001b[0;34m\u001b[0m\u001b[0m\n\u001b[0;32m---> 13\u001b[0;31m                 \u001b[0mtriangle_df\u001b[0m \u001b[0;34m=\u001b[0m \u001b[0madd_triangle_features\u001b[0m\u001b[0;34m(\u001b[0m\u001b[0mphone_df\u001b[0m\u001b[0;34m)\u001b[0m\u001b[0;34m\u001b[0m\u001b[0;34m\u001b[0m\u001b[0m\n\u001b[0m\u001b[1;32m     14\u001b[0m                 for lat, lng, lat_mp, lng_mp, deg in zip(\n\u001b[1;32m     15\u001b[0m                     \u001b[0mtriangle_df\u001b[0m\u001b[0;34m[\u001b[0m\u001b[0;34m\"latDeg\"\u001b[0m\u001b[0;34m]\u001b[0m\u001b[0;34m.\u001b[0m\u001b[0mto_numpy\u001b[0m\u001b[0;34m(\u001b[0m\u001b[0;34m)\u001b[0m\u001b[0;34m,\u001b[0m\u001b[0;34m\u001b[0m\u001b[0;34m\u001b[0m\u001b[0m\n",
            "\u001b[0;32m<ipython-input-7-86fe7dfdf9b2>\u001b[0m in \u001b[0;36madd_triangle_features\u001b[0;34m(input_df)\u001b[0m\n\u001b[1;32m     24\u001b[0m         \u001b[0moutput_df\u001b[0m\u001b[0;34m[\u001b[0m\u001b[0;34m\"lngDeg_pro_1\"\u001b[0m\u001b[0;34m]\u001b[0m\u001b[0;34m.\u001b[0m\u001b[0mto_numpy\u001b[0m\u001b[0;34m(\u001b[0m\u001b[0;34m)\u001b[0m\u001b[0;34m,\u001b[0m\u001b[0;34m\u001b[0m\u001b[0;34m\u001b[0m\u001b[0m\n\u001b[1;32m     25\u001b[0m         \u001b[0moutput_df\u001b[0m\u001b[0;34m[\u001b[0m\u001b[0;34m\"latDeg_pro_2\"\u001b[0m\u001b[0;34m]\u001b[0m\u001b[0;34m.\u001b[0m\u001b[0mto_numpy\u001b[0m\u001b[0;34m(\u001b[0m\u001b[0;34m)\u001b[0m\u001b[0;34m,\u001b[0m\u001b[0;34m\u001b[0m\u001b[0;34m\u001b[0m\u001b[0m\n\u001b[0;32m---> 26\u001b[0;31m         \u001b[0moutput_df\u001b[0m\u001b[0;34m[\u001b[0m\u001b[0;34m\"lngDeg_pro_2\"\u001b[0m\u001b[0;34m]\u001b[0m\u001b[0;34m.\u001b[0m\u001b[0mto_numpy\u001b[0m\u001b[0;34m(\u001b[0m\u001b[0;34m)\u001b[0m\u001b[0;34m\u001b[0m\u001b[0;34m\u001b[0m\u001b[0m\n\u001b[0m\u001b[1;32m     27\u001b[0m     ):\n\u001b[1;32m     28\u001b[0m         \u001b[0mp0\u001b[0m \u001b[0;34m=\u001b[0m \u001b[0mnp\u001b[0m\u001b[0;34m.\u001b[0m\u001b[0marray\u001b[0m\u001b[0;34m(\u001b[0m\u001b[0;34m[\u001b[0m\u001b[0mlat\u001b[0m\u001b[0;34m,\u001b[0m \u001b[0mlng\u001b[0m\u001b[0;34m]\u001b[0m\u001b[0;34m)\u001b[0m\u001b[0;34m\u001b[0m\u001b[0;34m\u001b[0m\u001b[0m\n",
            "\u001b[0;31mKeyboardInterrupt\u001b[0m: "
          ]
        }
      ]
    },
    {
      "cell_type": "code",
      "metadata": {
        "id": "kgFKmzqH5UNs",
        "outputId": "54b892b9-e9b7-431d-fe1e-9dc881edcd10",
        "colab": {
          "base_uri": "https://localhost:8080/",
          "height": 1000,
          "referenced_widgets": [
            "12eb059fa5184e669b7744fc67dbbaab",
            "f1b9fab39ffe4da1bd78790c548c81d0",
            "fd93093648d14464b37408db9a95ec39",
            "f539c90c01fd4916a96d7a4c657118c8",
            "06b8873df84348ec883cdae6dd90ea44",
            "8dabf3360c1f40cabc6ede21f4225b38",
            "ab32be716e574900aaaf6e631fc49ed5",
            "e729d325a4504b38b58431b805834929"
          ]
        }
      },
      "source": [
        "#make triangle 1\n",
        "CV1 = make_triangle(train_base)\n",
        "for i in range(100):\n",
        "    CV1 = make_triangle(CV1)\n",
        "print('<<<triangle_1>>>')\n",
        "CV1 = check_score(CV1)\n",
        "print('--------------------')\n",
        "\n",
        "#outlier\n",
        "CV2 = outlier_train(CV1)\n",
        "print('<<<outlier>>>')\n",
        "CV2 = check_score(CV2)\n",
        "print('--------------------')\n",
        "\n",
        "#make triangle 2\n",
        "CV3 = make_triangle(CV2)\n",
        "for i in range(100):\n",
        "    CV3 = make_triangle(CV3)\n",
        "print('<<<triangle_2>>>')\n",
        "CV3 = check_score(CV3)\n",
        "print('--------------------')\n",
        "\n",
        "#phonse mean\n",
        "CV4 = mean_prediction_train(CV3)\n",
        "print('<<<phones_mean>>>')\n",
        "CV4 = check_score(CV4)\n",
        "print('--------------------')\n",
        "\n",
        "#make triangle 3\n",
        "CV5 = make_triangle(CV4)\n",
        "for i in range(100):\n",
        "    CV5 = make_triangle(CV5)\n",
        "print('<<<triangle_3>>>')\n",
        "CV5 = check_score(CV5)\n",
        "print('--------------------')\n",
        "\n",
        "#remove device\n",
        "CV6 = remove_device_P(CV5)\n",
        "print('<<<remove_device_P>>>')\n",
        "CV6 = check_score(CV6)\n",
        "print('--------------------')\n",
        "\n",
        "#make triangle 4\n",
        "CV7 = make_triangle(CV6)\n",
        "for i in range(100):\n",
        "    CV7 = make_triangle(CV7)\n",
        "print('<<<triangle_4>>>')\n",
        "CV7 = check_score(CV7)\n",
        "print('--------------------')\n",
        "\n",
        "#remove device\n",
        "CV8 = remove_device_S(CV7)\n",
        "print('<<<remove_device_S>>>')\n",
        "CV8 = check_score(CV8)\n",
        "print('--------------------')\n",
        "\n",
        "#make triangle 5\n",
        "CV9 = make_triangle(CV8)\n",
        "for i in range(100):\n",
        "    CV9 = make_triangle(CV9)\n",
        "print('<<<triangle_4>>>')\n",
        "CV9 = check_score(CV9)\n",
        "print('--------------------')\n",
        "\n",
        "#position shift\n",
        "CV10 = position_shift_train(CV9)\n",
        "print('<<<position_shift>>>')\n",
        "CV10 = check_score(CV10)\n",
        "print('--------------------')\n",
        "\n",
        "#make triangle 5\n",
        "CV11 = make_triangle(CV10)\n",
        "for i in range(100):\n",
        "    CV11 = make_triangle(CV11)\n",
        "print('<<<triangle_5>>>')\n",
        "CV11 = check_score(CV11)\n",
        "print('--------------------')\n"
      ],
      "execution_count": 160,
      "outputs": [
        {
          "output_type": "stream",
          "text": [
            "/usr/local/lib/python3.7/dist-packages/ipykernel_launcher.py:37: RuntimeWarning:\n",
            "\n",
            "invalid value encountered in double_scalars\n",
            "\n",
            "/usr/local/lib/python3.7/dist-packages/ipykernel_launcher.py:37: RuntimeWarning:\n",
            "\n",
            "invalid value encountered in arccos\n",
            "\n"
          ],
          "name": "stderr"
        },
        {
          "output_type": "stream",
          "text": [
            "<<<triangle_1>>>\n",
            "error meter: 3.3579582394393928\n",
            "score: 4.753446293953488\n",
            "--------------------\n",
            "<<<outlier>>>\n",
            "error meter: 3.358838280191992\n",
            "score: 4.753446293953488\n",
            "--------------------\n"
          ],
          "name": "stdout"
        },
        {
          "output_type": "stream",
          "text": [
            "/usr/local/lib/python3.7/dist-packages/ipykernel_launcher.py:37: RuntimeWarning:\n",
            "\n",
            "invalid value encountered in double_scalars\n",
            "\n",
            "/usr/local/lib/python3.7/dist-packages/ipykernel_launcher.py:37: RuntimeWarning:\n",
            "\n",
            "invalid value encountered in arccos\n",
            "\n"
          ],
          "name": "stderr"
        },
        {
          "output_type": "stream",
          "text": [
            "<<<triangle_2>>>\n",
            "error meter: 3.347407087156006\n",
            "score: 4.74999834268959\n",
            "--------------------\n"
          ],
          "name": "stdout"
        },
        {
          "output_type": "display_data",
          "data": {
            "application/vnd.jupyter.widget-view+json": {
              "model_id": "12eb059fa5184e669b7744fc67dbbaab",
              "version_minor": 0,
              "version_major": 2
            },
            "text/plain": [
              "HBox(children=(FloatProgress(value=0.0, max=73.0), HTML(value='')))"
            ]
          },
          "metadata": {
            "tags": []
          }
        },
        {
          "output_type": "stream",
          "text": [
            "\n",
            "<<<phones_mean>>>\n",
            "error meter: 2.8901166653174113\n",
            "score: 3.966876017017269\n",
            "--------------------\n"
          ],
          "name": "stdout"
        },
        {
          "output_type": "stream",
          "text": [
            "/usr/local/lib/python3.7/dist-packages/ipykernel_launcher.py:37: RuntimeWarning:\n",
            "\n",
            "invalid value encountered in double_scalars\n",
            "\n"
          ],
          "name": "stderr"
        },
        {
          "output_type": "stream",
          "text": [
            "<<<triangle_3>>>\n",
            "error meter: 2.8798260020244313\n",
            "score: 3.95138174468124\n",
            "--------------------\n",
            "<<<remove_device_P>>>\n",
            "error meter: 2.8392545641355205\n",
            "score: 3.885883332089797\n",
            "--------------------\n"
          ],
          "name": "stdout"
        },
        {
          "output_type": "stream",
          "text": [
            "/usr/local/lib/python3.7/dist-packages/ipykernel_launcher.py:37: RuntimeWarning:\n",
            "\n",
            "invalid value encountered in arccos\n",
            "\n"
          ],
          "name": "stderr"
        },
        {
          "output_type": "stream",
          "text": [
            "<<<triangle_4>>>\n",
            "error meter: 2.835598284272725\n",
            "score: 3.8755222022961644\n",
            "--------------------\n",
            "<<<remove_device_S>>>\n",
            "error meter: 2.7484448065457534\n",
            "score: 3.734451383531354\n",
            "--------------------\n",
            "<<<triangle_4>>>\n",
            "error meter: 2.7467062418931016\n",
            "score: 3.733040426721129\n",
            "--------------------\n"
          ],
          "name": "stdout"
        },
        {
          "output_type": "stream",
          "text": [
            "\u001b[32m[I 2021-07-28 12:16:31,843]\u001b[0m A new study created in memory with name: no-name-d2b7cfc4-10f9-411e-abf2-44dac874434f\u001b[0m\n",
            "\u001b[32m[I 2021-07-28 12:16:38,285]\u001b[0m Trial 0 finished with value: 5.413639279309459 and parameters: {'a': -0.3514811231243091}. Best is trial 0 with value: 5.413639279309459.\u001b[0m\n",
            "\u001b[32m[I 2021-07-28 12:16:44,974]\u001b[0m Trial 1 finished with value: 5.193087958600306 and parameters: {'a': 0.4794876730672759}. Best is trial 1 with value: 5.193087958600306.\u001b[0m\n",
            "\u001b[32m[I 2021-07-28 12:16:51,429]\u001b[0m Trial 2 finished with value: 5.5490631622033195 and parameters: {'a': -0.6335965186044061}. Best is trial 1 with value: 5.193087958600306.\u001b[0m\n",
            "\u001b[32m[I 2021-07-28 12:16:57,902]\u001b[0m Trial 3 finished with value: 5.207497015410404 and parameters: {'a': 0.9413268225011708}. Best is trial 1 with value: 5.193087958600306.\u001b[0m\n",
            "\u001b[32m[I 2021-07-28 12:17:04,483]\u001b[0m Trial 4 finished with value: 5.306837412126571 and parameters: {'a': -0.06476614107038392}. Best is trial 1 with value: 5.193087958600306.\u001b[0m\n",
            "\u001b[32m[I 2021-07-28 12:17:11,024]\u001b[0m Trial 5 finished with value: 5.698094939719997 and parameters: {'a': -0.9047842607298411}. Best is trial 1 with value: 5.193087958600306.\u001b[0m\n",
            "\u001b[32m[I 2021-07-28 12:17:17,747]\u001b[0m Trial 6 finished with value: 5.20814858132481 and parameters: {'a': 0.3398229688843206}. Best is trial 1 with value: 5.193087958600306.\u001b[0m\n",
            "\u001b[32m[I 2021-07-28 12:17:24,240]\u001b[0m Trial 7 finished with value: 5.195565832542499 and parameters: {'a': 0.7936809611008018}. Best is trial 1 with value: 5.193087958600306.\u001b[0m\n",
            "\u001b[32m[I 2021-07-28 12:17:31,103]\u001b[0m Trial 8 finished with value: 5.635442400467492 and parameters: {'a': -0.7960267571287176}. Best is trial 1 with value: 5.193087958600306.\u001b[0m\n",
            "\u001b[32m[I 2021-07-28 12:17:37,582]\u001b[0m Trial 9 finished with value: 5.6940553384419825 and parameters: {'a': -0.8977380575129954}. Best is trial 1 with value: 5.193087958600306.\u001b[0m\n",
            "\u001b[32m[I 2021-07-28 12:17:44,106]\u001b[0m Trial 10 finished with value: 5.191669869503679 and parameters: {'a': 0.516267313267851}. Best is trial 10 with value: 5.191669869503679.\u001b[0m\n",
            "\u001b[32m[I 2021-07-28 12:17:50,841]\u001b[0m Trial 11 finished with value: 5.193020837165662 and parameters: {'a': 0.4801463737456283}. Best is trial 10 with value: 5.191669869503679.\u001b[0m\n",
            "\u001b[32m[I 2021-07-28 12:17:57,654]\u001b[0m Trial 12 finished with value: 5.193425470839101 and parameters: {'a': 0.4760247184051136}. Best is trial 10 with value: 5.191669869503679.\u001b[0m\n",
            "\u001b[32m[I 2021-07-28 12:18:04,257]\u001b[0m Trial 13 finished with value: 5.2481035715454345 and parameters: {'a': 0.1410541803733431}. Best is trial 10 with value: 5.191669869503679.\u001b[0m\n",
            "\u001b[32m[I 2021-07-28 12:18:10,989]\u001b[0m Trial 14 finished with value: 5.191083055791758 and parameters: {'a': 0.7226682678057157}. Best is trial 14 with value: 5.191083055791758.\u001b[0m\n",
            "\u001b[32m[I 2021-07-28 12:18:17,729]\u001b[0m Trial 15 finished with value: 5.196306047650236 and parameters: {'a': 0.8085146374879645}. Best is trial 14 with value: 5.191083055791758.\u001b[0m\n",
            "\u001b[32m[I 2021-07-28 12:18:24,354]\u001b[0m Trial 16 finished with value: 5.189898488466559 and parameters: {'a': 0.709212286034396}. Best is trial 16 with value: 5.189898488466559.\u001b[0m\n",
            "\u001b[32m[I 2021-07-28 12:18:30,766]\u001b[0m Trial 17 finished with value: 5.213474983445736 and parameters: {'a': 0.9909003256224902}. Best is trial 16 with value: 5.189898488466559.\u001b[0m\n",
            "\u001b[32m[I 2021-07-28 12:18:37,292]\u001b[0m Trial 18 finished with value: 5.191447030427703 and parameters: {'a': 0.7263160542505672}. Best is trial 16 with value: 5.189898488466559.\u001b[0m\n",
            "\u001b[32m[I 2021-07-28 12:18:43,851]\u001b[0m Trial 19 finished with value: 5.269283851376704 and parameters: {'a': 0.06289039805244578}. Best is trial 16 with value: 5.189898488466559.\u001b[0m\n",
            "\u001b[32m[I 2021-07-28 12:18:50,245]\u001b[0m Trial 20 finished with value: 5.224642744621439 and parameters: {'a': 0.2506062932142893}. Best is trial 16 with value: 5.189898488466559.\u001b[0m\n",
            "\u001b[32m[I 2021-07-28 12:18:56,979]\u001b[0m Trial 21 finished with value: 5.191084116396235 and parameters: {'a': 0.7228334233665472}. Best is trial 16 with value: 5.189898488466559.\u001b[0m\n",
            "\u001b[32m[I 2021-07-28 12:19:03,629]\u001b[0m Trial 22 finished with value: 5.187453905996579 and parameters: {'a': 0.6594951113988076}. Best is trial 22 with value: 5.187453905996579.\u001b[0m\n",
            "\u001b[32m[I 2021-07-28 12:19:10,315]\u001b[0m Trial 23 finished with value: 5.187428229278035 and parameters: {'a': 0.6526816695799785}. Best is trial 23 with value: 5.187428229278035.\u001b[0m\n",
            "\u001b[32m[I 2021-07-28 12:19:17,035]\u001b[0m Trial 24 finished with value: 5.213175192278179 and parameters: {'a': 0.9881615659342009}. Best is trial 23 with value: 5.187428229278035.\u001b[0m\n",
            "\u001b[32m[I 2021-07-28 12:19:23,763]\u001b[0m Trial 25 finished with value: 5.341182573381197 and parameters: {'a': -0.16594062744474525}. Best is trial 23 with value: 5.187428229278035.\u001b[0m\n",
            "\u001b[32m[I 2021-07-28 12:19:30,344]\u001b[0m Trial 26 finished with value: 5.187468752569168 and parameters: {'a': 0.6455903636848271}. Best is trial 23 with value: 5.187428229278035.\u001b[0m\n",
            "\u001b[32m[I 2021-07-28 12:19:37,157]\u001b[0m Trial 27 finished with value: 5.190104441013185 and parameters: {'a': 0.5827338829095459}. Best is trial 23 with value: 5.187428229278035.\u001b[0m\n",
            "\u001b[32m[I 2021-07-28 12:19:43,796]\u001b[0m Trial 28 finished with value: 5.234339652994761 and parameters: {'a': 0.20332488790747272}. Best is trial 23 with value: 5.187428229278035.\u001b[0m\n",
            "\u001b[32m[I 2021-07-28 12:19:50,380]\u001b[0m Trial 29 finished with value: 5.214986870007052 and parameters: {'a': 0.3011621988288377}. Best is trial 23 with value: 5.187428229278035.\u001b[0m\n"
          ],
          "name": "stderr"
        },
        {
          "output_type": "stream",
          "text": [
            "<<<position_shift>>>\n",
            "error meter: 2.697366456245622\n",
            "score: 3.6766336377767455\n",
            "--------------------\n",
            "<<<triangle_5>>>\n",
            "error meter: 2.6913966719246796\n",
            "score: 3.6626107117912534\n",
            "--------------------\n"
          ],
          "name": "stdout"
        }
      ]
    },
    {
      "cell_type": "code",
      "metadata": {
        "id": "W3Bk2vGeWPeM",
        "outputId": "2cbcbb9f-3118-4f5c-f1a4-a42a5de1a767",
        "colab": {
          "base_uri": "https://localhost:8080/"
        }
      },
      "source": [
        "#guass filter\n",
        "CV16 = gauss_filter(CV11)\n",
        "print('<<<guass_filter>>>')\n",
        "CV16 = check_score(CV16)\n",
        "print('--------------------')"
      ],
      "execution_count": 174,
      "outputs": [
        {
          "output_type": "stream",
          "text": [
            "<<<guass_filter>>>\n",
            "error meter: 2.5377395296453957\n",
            "score: 3.5331134392091474\n",
            "--------------------\n"
          ],
          "name": "stdout"
        }
      ]
    },
    {
      "cell_type": "code",
      "metadata": {
        "id": "l4_TcuFmiJ72",
        "outputId": "a8ac7d56-2c36-40b1-9e04-29ff5a07622e",
        "colab": {
          "base_uri": "https://localhost:8080/"
        }
      },
      "source": [
        "CV12 = move_closer_center_train(CV16)\n",
        "CV12 = check_score(CV12)"
      ],
      "execution_count": 175,
      "outputs": [
        {
          "output_type": "stream",
          "text": [
            "now : 1/1\n",
            "2021-04-22-US-SJC-1\n"
          ],
          "name": "stdout"
        },
        {
          "output_type": "stream",
          "text": [
            "/usr/local/lib/python3.7/dist-packages/momepy/utils.py:418: UserWarning:\n",
            "\n",
            "Approach is not set. Defaulting to 'primal'.\n",
            "\n",
            "/usr/local/lib/python3.7/dist-packages/ipykernel_launcher.py:35: UserWarning:\n",
            "\n",
            "Geometry is in a geographic CRS. Results from 'distance' are likely incorrect. Use 'GeoSeries.to_crs()' to re-project geometries to a projected CRS before this operation.\n",
            "\n",
            "\n",
            "/usr/local/lib/python3.7/dist-packages/ipykernel_launcher.py:35: UserWarning:\n",
            "\n",
            "CRS mismatch between the CRS of left geometries and the CRS of right geometries.\n",
            "Use `to_crs()` to reproject one of the input geometries to match the CRS of the other.\n",
            "\n",
            "Left CRS: EPSG:4326\n",
            "Right CRS: None\n",
            "\n",
            "\n"
          ],
          "name": "stderr"
        },
        {
          "output_type": "stream",
          "text": [
            "23600\n",
            "now : 1/1\n",
            "2021-04-22-US-SJC-1\n"
          ],
          "name": "stdout"
        },
        {
          "output_type": "stream",
          "text": [
            "/usr/local/lib/python3.7/dist-packages/momepy/utils.py:418: UserWarning:\n",
            "\n",
            "Approach is not set. Defaulting to 'primal'.\n",
            "\n",
            "/usr/local/lib/python3.7/dist-packages/ipykernel_launcher.py:35: UserWarning:\n",
            "\n",
            "Geometry is in a geographic CRS. Results from 'distance' are likely incorrect. Use 'GeoSeries.to_crs()' to re-project geometries to a projected CRS before this operation.\n",
            "\n",
            "\n",
            "/usr/local/lib/python3.7/dist-packages/ipykernel_launcher.py:35: UserWarning:\n",
            "\n",
            "CRS mismatch between the CRS of left geometries and the CRS of right geometries.\n",
            "Use `to_crs()` to reproject one of the input geometries to match the CRS of the other.\n",
            "\n",
            "Left CRS: EPSG:4326\n",
            "Right CRS: None\n",
            "\n",
            "\n"
          ],
          "name": "stderr"
        },
        {
          "output_type": "stream",
          "text": [
            "23000\n"
          ],
          "name": "stdout"
        },
        {
          "output_type": "stream",
          "text": [
            "/usr/local/lib/python3.7/dist-packages/ipykernel_launcher.py:35: RuntimeWarning:\n",
            "\n",
            "invalid value encountered in true_divide\n",
            "\n"
          ],
          "name": "stderr"
        },
        {
          "output_type": "stream",
          "text": [
            "now : 1/1\n",
            "2021-04-28-US-SJC-1\n"
          ],
          "name": "stdout"
        },
        {
          "output_type": "stream",
          "text": [
            "/usr/local/lib/python3.7/dist-packages/momepy/utils.py:418: UserWarning:\n",
            "\n",
            "Approach is not set. Defaulting to 'primal'.\n",
            "\n",
            "/usr/local/lib/python3.7/dist-packages/ipykernel_launcher.py:35: UserWarning:\n",
            "\n",
            "Geometry is in a geographic CRS. Results from 'distance' are likely incorrect. Use 'GeoSeries.to_crs()' to re-project geometries to a projected CRS before this operation.\n",
            "\n",
            "\n",
            "/usr/local/lib/python3.7/dist-packages/ipykernel_launcher.py:35: UserWarning:\n",
            "\n",
            "CRS mismatch between the CRS of left geometries and the CRS of right geometries.\n",
            "Use `to_crs()` to reproject one of the input geometries to match the CRS of the other.\n",
            "\n",
            "Left CRS: EPSG:4326\n",
            "Right CRS: None\n",
            "\n",
            "\n"
          ],
          "name": "stderr"
        },
        {
          "output_type": "stream",
          "text": [
            "21400\n",
            "now : 1/1\n",
            "2021-04-28-US-SJC-1\n"
          ],
          "name": "stdout"
        },
        {
          "output_type": "stream",
          "text": [
            "/usr/local/lib/python3.7/dist-packages/momepy/utils.py:418: UserWarning:\n",
            "\n",
            "Approach is not set. Defaulting to 'primal'.\n",
            "\n",
            "/usr/local/lib/python3.7/dist-packages/ipykernel_launcher.py:35: UserWarning:\n",
            "\n",
            "Geometry is in a geographic CRS. Results from 'distance' are likely incorrect. Use 'GeoSeries.to_crs()' to re-project geometries to a projected CRS before this operation.\n",
            "\n",
            "\n",
            "/usr/local/lib/python3.7/dist-packages/ipykernel_launcher.py:35: UserWarning:\n",
            "\n",
            "CRS mismatch between the CRS of left geometries and the CRS of right geometries.\n",
            "Use `to_crs()` to reproject one of the input geometries to match the CRS of the other.\n",
            "\n",
            "Left CRS: EPSG:4326\n",
            "Right CRS: None\n",
            "\n",
            "\n"
          ],
          "name": "stderr"
        },
        {
          "output_type": "stream",
          "text": [
            "21400\n"
          ],
          "name": "stdout"
        },
        {
          "output_type": "stream",
          "text": [
            "/usr/local/lib/python3.7/dist-packages/ipykernel_launcher.py:35: RuntimeWarning:\n",
            "\n",
            "invalid value encountered in true_divide\n",
            "\n"
          ],
          "name": "stderr"
        },
        {
          "output_type": "stream",
          "text": [
            "now : 1/1\n",
            "2021-04-29-US-SJC-2\n"
          ],
          "name": "stdout"
        },
        {
          "output_type": "stream",
          "text": [
            "/usr/local/lib/python3.7/dist-packages/momepy/utils.py:418: UserWarning:\n",
            "\n",
            "Approach is not set. Defaulting to 'primal'.\n",
            "\n",
            "/usr/local/lib/python3.7/dist-packages/ipykernel_launcher.py:35: UserWarning:\n",
            "\n",
            "Geometry is in a geographic CRS. Results from 'distance' are likely incorrect. Use 'GeoSeries.to_crs()' to re-project geometries to a projected CRS before this operation.\n",
            "\n",
            "\n",
            "/usr/local/lib/python3.7/dist-packages/ipykernel_launcher.py:35: UserWarning:\n",
            "\n",
            "CRS mismatch between the CRS of left geometries and the CRS of right geometries.\n",
            "Use `to_crs()` to reproject one of the input geometries to match the CRS of the other.\n",
            "\n",
            "Left CRS: EPSG:4326\n",
            "Right CRS: None\n",
            "\n",
            "\n"
          ],
          "name": "stderr"
        },
        {
          "output_type": "stream",
          "text": [
            "22600\n",
            "now : 1/1\n",
            "2021-04-29-US-SJC-2\n"
          ],
          "name": "stdout"
        },
        {
          "output_type": "stream",
          "text": [
            "/usr/local/lib/python3.7/dist-packages/momepy/utils.py:418: UserWarning:\n",
            "\n",
            "Approach is not set. Defaulting to 'primal'.\n",
            "\n",
            "/usr/local/lib/python3.7/dist-packages/ipykernel_launcher.py:35: UserWarning:\n",
            "\n",
            "Geometry is in a geographic CRS. Results from 'distance' are likely incorrect. Use 'GeoSeries.to_crs()' to re-project geometries to a projected CRS before this operation.\n",
            "\n",
            "\n",
            "/usr/local/lib/python3.7/dist-packages/ipykernel_launcher.py:35: UserWarning:\n",
            "\n",
            "CRS mismatch between the CRS of left geometries and the CRS of right geometries.\n",
            "Use `to_crs()` to reproject one of the input geometries to match the CRS of the other.\n",
            "\n",
            "Left CRS: EPSG:4326\n",
            "Right CRS: None\n",
            "\n",
            "\n"
          ],
          "name": "stderr"
        },
        {
          "output_type": "stream",
          "text": [
            "23200\n"
          ],
          "name": "stdout"
        },
        {
          "output_type": "stream",
          "text": [
            "/usr/local/lib/python3.7/dist-packages/ipykernel_launcher.py:35: RuntimeWarning:\n",
            "\n",
            "invalid value encountered in true_divide\n",
            "\n"
          ],
          "name": "stderr"
        },
        {
          "output_type": "stream",
          "text": [
            "error meter: 2.556212928813154\n",
            "score: 3.5340940540125936\n"
          ],
          "name": "stdout"
        }
      ]
    },
    {
      "cell_type": "code",
      "metadata": {
        "id": "OoYUmwAliPg7",
        "outputId": "12d4b825-be24-417e-e4af-3e7c5e2849a1",
        "colab": {
          "base_uri": "https://localhost:8080/"
        }
      },
      "source": [
        "#make triangle 5\n",
        "CV13 = make_triangle(CV12)\n",
        "for i in range(100):\n",
        "    CV13 = make_triangle(CV13)\n",
        "print('<<<triangle_5>>>')\n",
        "CV13 = check_score(CV13)\n",
        "print('--------------------')"
      ],
      "execution_count": 176,
      "outputs": [
        {
          "output_type": "stream",
          "text": [
            "/usr/local/lib/python3.7/dist-packages/ipykernel_launcher.py:37: RuntimeWarning:\n",
            "\n",
            "invalid value encountered in double_scalars\n",
            "\n",
            "/usr/local/lib/python3.7/dist-packages/ipykernel_launcher.py:37: RuntimeWarning:\n",
            "\n",
            "invalid value encountered in arccos\n",
            "\n"
          ],
          "name": "stderr"
        },
        {
          "output_type": "stream",
          "text": [
            "<<<triangle_5>>>\n",
            "error meter: 2.5557896508756817\n",
            "score: 3.568196336913206\n",
            "--------------------\n"
          ],
          "name": "stdout"
        }
      ]
    },
    {
      "cell_type": "code",
      "metadata": {
        "id": "fowxlxMwiPe4",
        "outputId": "f984ac1c-0fa5-418f-ea50-e34f702672aa",
        "colab": {
          "base_uri": "https://localhost:8080/"
        }
      },
      "source": [
        "CV14 = move_closer_truth_train(CV12)\n",
        "CV14 = check_score(CV14)"
      ],
      "execution_count": 177,
      "outputs": [
        {
          "output_type": "stream",
          "text": [
            "/usr/local/lib/python3.7/dist-packages/ipykernel_launcher.py:15: SettingWithCopyWarning:\n",
            "\n",
            "\n",
            "A value is trying to be set on a copy of a slice from a DataFrame.\n",
            "Try using .loc[row_indexer,col_indexer] = value instead\n",
            "\n",
            "See the caveats in the documentation: https://pandas.pydata.org/pandas-docs/stable/user_guide/indexing.html#returning-a-view-versus-a-copy\n",
            "\n",
            "/usr/local/lib/python3.7/dist-packages/ipykernel_launcher.py:16: SettingWithCopyWarning:\n",
            "\n",
            "\n",
            "A value is trying to be set on a copy of a slice from a DataFrame.\n",
            "Try using .loc[row_indexer,col_indexer] = value instead\n",
            "\n",
            "See the caveats in the documentation: https://pandas.pydata.org/pandas-docs/stable/user_guide/indexing.html#returning-a-view-versus-a-copy\n",
            "\n"
          ],
          "name": "stderr"
        },
        {
          "output_type": "stream",
          "text": [
            "error meter: 2.5239127485109476\n",
            "score: 3.435185170649873\n"
          ],
          "name": "stdout"
        }
      ]
    },
    {
      "cell_type": "code",
      "metadata": {
        "id": "-VHa0PLKiPbR"
      },
      "source": [
        ""
      ],
      "execution_count": null,
      "outputs": []
    },
    {
      "cell_type": "code",
      "metadata": {
        "id": "CcdJTDOriPY5"
      },
      "source": [
        ""
      ],
      "execution_count": null,
      "outputs": []
    },
    {
      "cell_type": "code",
      "metadata": {
        "id": "kMZco8_wiPVi"
      },
      "source": [
        ""
      ],
      "execution_count": null,
      "outputs": []
    },
    {
      "cell_type": "code",
      "metadata": {
        "id": "Zmx8-ZgWiPSD"
      },
      "source": [
        ""
      ],
      "execution_count": null,
      "outputs": []
    },
    {
      "cell_type": "code",
      "metadata": {
        "id": "fsT1H79liPPQ"
      },
      "source": [
        ""
      ],
      "execution_count": null,
      "outputs": []
    },
    {
      "cell_type": "code",
      "metadata": {
        "id": "Cfd7xBeZiPMY"
      },
      "source": [
        ""
      ],
      "execution_count": null,
      "outputs": []
    },
    {
      "cell_type": "code",
      "metadata": {
        "id": "k7eSjaD3WJge",
        "outputId": "50487387-dc07-4b5b-c584-9b064d1e0d09",
        "colab": {
          "base_uri": "https://localhost:8080/"
        }
      },
      "source": [
        "CV12 = move_closer_center_train(CV11)\n",
        "CV12 = check_score(CV12)"
      ],
      "execution_count": 169,
      "outputs": [
        {
          "output_type": "stream",
          "text": [
            "now : 1/1\n",
            "2021-04-22-US-SJC-1\n"
          ],
          "name": "stdout"
        },
        {
          "output_type": "stream",
          "text": [
            "/usr/local/lib/python3.7/dist-packages/momepy/utils.py:418: UserWarning:\n",
            "\n",
            "Approach is not set. Defaulting to 'primal'.\n",
            "\n",
            "/usr/local/lib/python3.7/dist-packages/ipykernel_launcher.py:35: UserWarning:\n",
            "\n",
            "Geometry is in a geographic CRS. Results from 'distance' are likely incorrect. Use 'GeoSeries.to_crs()' to re-project geometries to a projected CRS before this operation.\n",
            "\n",
            "\n",
            "/usr/local/lib/python3.7/dist-packages/ipykernel_launcher.py:35: UserWarning:\n",
            "\n",
            "CRS mismatch between the CRS of left geometries and the CRS of right geometries.\n",
            "Use `to_crs()` to reproject one of the input geometries to match the CRS of the other.\n",
            "\n",
            "Left CRS: EPSG:4326\n",
            "Right CRS: None\n",
            "\n",
            "\n"
          ],
          "name": "stderr"
        },
        {
          "output_type": "stream",
          "text": [
            "23800\n",
            "now : 1/1\n",
            "2021-04-22-US-SJC-1\n"
          ],
          "name": "stdout"
        },
        {
          "output_type": "stream",
          "text": [
            "/usr/local/lib/python3.7/dist-packages/momepy/utils.py:418: UserWarning:\n",
            "\n",
            "Approach is not set. Defaulting to 'primal'.\n",
            "\n",
            "/usr/local/lib/python3.7/dist-packages/ipykernel_launcher.py:35: UserWarning:\n",
            "\n",
            "Geometry is in a geographic CRS. Results from 'distance' are likely incorrect. Use 'GeoSeries.to_crs()' to re-project geometries to a projected CRS before this operation.\n",
            "\n",
            "\n",
            "/usr/local/lib/python3.7/dist-packages/ipykernel_launcher.py:35: UserWarning:\n",
            "\n",
            "CRS mismatch between the CRS of left geometries and the CRS of right geometries.\n",
            "Use `to_crs()` to reproject one of the input geometries to match the CRS of the other.\n",
            "\n",
            "Left CRS: EPSG:4326\n",
            "Right CRS: None\n",
            "\n",
            "\n"
          ],
          "name": "stderr"
        },
        {
          "output_type": "stream",
          "text": [
            "23800\n"
          ],
          "name": "stdout"
        },
        {
          "output_type": "stream",
          "text": [
            "/usr/local/lib/python3.7/dist-packages/ipykernel_launcher.py:35: RuntimeWarning:\n",
            "\n",
            "invalid value encountered in true_divide\n",
            "\n"
          ],
          "name": "stderr"
        },
        {
          "output_type": "stream",
          "text": [
            "now : 1/1\n",
            "2021-04-28-US-SJC-1\n"
          ],
          "name": "stdout"
        },
        {
          "output_type": "stream",
          "text": [
            "/usr/local/lib/python3.7/dist-packages/momepy/utils.py:418: UserWarning:\n",
            "\n",
            "Approach is not set. Defaulting to 'primal'.\n",
            "\n",
            "/usr/local/lib/python3.7/dist-packages/ipykernel_launcher.py:35: UserWarning:\n",
            "\n",
            "Geometry is in a geographic CRS. Results from 'distance' are likely incorrect. Use 'GeoSeries.to_crs()' to re-project geometries to a projected CRS before this operation.\n",
            "\n",
            "\n",
            "/usr/local/lib/python3.7/dist-packages/ipykernel_launcher.py:35: UserWarning:\n",
            "\n",
            "CRS mismatch between the CRS of left geometries and the CRS of right geometries.\n",
            "Use `to_crs()` to reproject one of the input geometries to match the CRS of the other.\n",
            "\n",
            "Left CRS: EPSG:4326\n",
            "Right CRS: None\n",
            "\n",
            "\n"
          ],
          "name": "stderr"
        },
        {
          "output_type": "stream",
          "text": [
            "21800\n",
            "now : 1/1\n",
            "2021-04-28-US-SJC-1\n"
          ],
          "name": "stdout"
        },
        {
          "output_type": "stream",
          "text": [
            "/usr/local/lib/python3.7/dist-packages/momepy/utils.py:418: UserWarning:\n",
            "\n",
            "Approach is not set. Defaulting to 'primal'.\n",
            "\n",
            "/usr/local/lib/python3.7/dist-packages/ipykernel_launcher.py:35: UserWarning:\n",
            "\n",
            "Geometry is in a geographic CRS. Results from 'distance' are likely incorrect. Use 'GeoSeries.to_crs()' to re-project geometries to a projected CRS before this operation.\n",
            "\n",
            "\n",
            "/usr/local/lib/python3.7/dist-packages/ipykernel_launcher.py:35: UserWarning:\n",
            "\n",
            "CRS mismatch between the CRS of left geometries and the CRS of right geometries.\n",
            "Use `to_crs()` to reproject one of the input geometries to match the CRS of the other.\n",
            "\n",
            "Left CRS: EPSG:4326\n",
            "Right CRS: None\n",
            "\n",
            "\n"
          ],
          "name": "stderr"
        },
        {
          "output_type": "stream",
          "text": [
            "22000\n"
          ],
          "name": "stdout"
        },
        {
          "output_type": "stream",
          "text": [
            "/usr/local/lib/python3.7/dist-packages/ipykernel_launcher.py:35: RuntimeWarning:\n",
            "\n",
            "invalid value encountered in true_divide\n",
            "\n"
          ],
          "name": "stderr"
        },
        {
          "output_type": "stream",
          "text": [
            "now : 1/1\n",
            "2021-04-29-US-SJC-2\n"
          ],
          "name": "stdout"
        },
        {
          "output_type": "stream",
          "text": [
            "/usr/local/lib/python3.7/dist-packages/momepy/utils.py:418: UserWarning:\n",
            "\n",
            "Approach is not set. Defaulting to 'primal'.\n",
            "\n",
            "/usr/local/lib/python3.7/dist-packages/ipykernel_launcher.py:35: UserWarning:\n",
            "\n",
            "Geometry is in a geographic CRS. Results from 'distance' are likely incorrect. Use 'GeoSeries.to_crs()' to re-project geometries to a projected CRS before this operation.\n",
            "\n",
            "\n",
            "/usr/local/lib/python3.7/dist-packages/ipykernel_launcher.py:35: UserWarning:\n",
            "\n",
            "CRS mismatch between the CRS of left geometries and the CRS of right geometries.\n",
            "Use `to_crs()` to reproject one of the input geometries to match the CRS of the other.\n",
            "\n",
            "Left CRS: EPSG:4326\n",
            "Right CRS: None\n",
            "\n",
            "\n"
          ],
          "name": "stderr"
        },
        {
          "output_type": "stream",
          "text": [
            "22600\n",
            "now : 1/1\n",
            "2021-04-29-US-SJC-2\n"
          ],
          "name": "stdout"
        },
        {
          "output_type": "stream",
          "text": [
            "/usr/local/lib/python3.7/dist-packages/momepy/utils.py:418: UserWarning:\n",
            "\n",
            "Approach is not set. Defaulting to 'primal'.\n",
            "\n",
            "/usr/local/lib/python3.7/dist-packages/ipykernel_launcher.py:35: UserWarning:\n",
            "\n",
            "Geometry is in a geographic CRS. Results from 'distance' are likely incorrect. Use 'GeoSeries.to_crs()' to re-project geometries to a projected CRS before this operation.\n",
            "\n",
            "\n",
            "/usr/local/lib/python3.7/dist-packages/ipykernel_launcher.py:35: UserWarning:\n",
            "\n",
            "CRS mismatch between the CRS of left geometries and the CRS of right geometries.\n",
            "Use `to_crs()` to reproject one of the input geometries to match the CRS of the other.\n",
            "\n",
            "Left CRS: EPSG:4326\n",
            "Right CRS: None\n",
            "\n",
            "\n"
          ],
          "name": "stderr"
        },
        {
          "output_type": "stream",
          "text": [
            "22800\n"
          ],
          "name": "stdout"
        },
        {
          "output_type": "stream",
          "text": [
            "/usr/local/lib/python3.7/dist-packages/ipykernel_launcher.py:35: RuntimeWarning:\n",
            "\n",
            "invalid value encountered in true_divide\n",
            "\n"
          ],
          "name": "stderr"
        },
        {
          "output_type": "stream",
          "text": [
            "error meter: 2.644466489642394\n",
            "score: 3.5826667154056953\n"
          ],
          "name": "stdout"
        }
      ]
    },
    {
      "cell_type": "code",
      "metadata": {
        "id": "r43qTXVoWPrI",
        "outputId": "8f0bb407-ed8c-419d-8be4-11fae4d41f05",
        "colab": {
          "base_uri": "https://localhost:8080/"
        }
      },
      "source": [
        "#make triangle 5\n",
        "CV13 = make_triangle(CV12)\n",
        "for i in range(100):\n",
        "    CV13 = make_triangle(CV13)\n",
        "print('<<<triangle_5>>>')\n",
        "CV13 = check_score(CV13)\n",
        "print('--------------------')"
      ],
      "execution_count": 170,
      "outputs": [
        {
          "output_type": "stream",
          "text": [
            "/usr/local/lib/python3.7/dist-packages/ipykernel_launcher.py:37: RuntimeWarning:\n",
            "\n",
            "invalid value encountered in double_scalars\n",
            "\n",
            "/usr/local/lib/python3.7/dist-packages/ipykernel_launcher.py:37: RuntimeWarning:\n",
            "\n",
            "invalid value encountered in arccos\n",
            "\n"
          ],
          "name": "stderr"
        },
        {
          "output_type": "stream",
          "text": [
            "<<<triangle_5>>>\n",
            "error meter: 2.6363950349990204\n",
            "score: 3.578199946160459\n",
            "--------------------\n"
          ],
          "name": "stdout"
        }
      ]
    },
    {
      "cell_type": "code",
      "metadata": {
        "id": "yqAJNh8sWPof",
        "outputId": "fc1e419c-d796-4d74-d27b-c57b98b46cdb",
        "colab": {
          "base_uri": "https://localhost:8080/"
        }
      },
      "source": [
        "CV14 = move_closer_truth_train(CV13)\n",
        "CV14 = check_score(CV14)"
      ],
      "execution_count": 171,
      "outputs": [
        {
          "output_type": "stream",
          "text": [
            "/usr/local/lib/python3.7/dist-packages/ipykernel_launcher.py:15: SettingWithCopyWarning:\n",
            "\n",
            "\n",
            "A value is trying to be set on a copy of a slice from a DataFrame.\n",
            "Try using .loc[row_indexer,col_indexer] = value instead\n",
            "\n",
            "See the caveats in the documentation: https://pandas.pydata.org/pandas-docs/stable/user_guide/indexing.html#returning-a-view-versus-a-copy\n",
            "\n",
            "/usr/local/lib/python3.7/dist-packages/ipykernel_launcher.py:16: SettingWithCopyWarning:\n",
            "\n",
            "\n",
            "A value is trying to be set on a copy of a slice from a DataFrame.\n",
            "Try using .loc[row_indexer,col_indexer] = value instead\n",
            "\n",
            "See the caveats in the documentation: https://pandas.pydata.org/pandas-docs/stable/user_guide/indexing.html#returning-a-view-versus-a-copy\n",
            "\n"
          ],
          "name": "stderr"
        },
        {
          "output_type": "stream",
          "text": [
            "error meter: 2.605797472865661\n",
            "score: 3.479512414434079\n"
          ],
          "name": "stdout"
        }
      ]
    },
    {
      "cell_type": "code",
      "metadata": {
        "id": "ep_sBCxbWPlz",
        "outputId": "4649bfce-604a-4e0e-8951-0fa919e521a5",
        "colab": {
          "base_uri": "https://localhost:8080/"
        }
      },
      "source": [
        "#make triangle 5\n",
        "CV15 = make_triangle(CV14)\n",
        "for i in range(100):\n",
        "    CV15 = make_triangle(CV15)\n",
        "print('<<<triangle_5>>>')\n",
        "CV15 = check_score(CV15)\n",
        "print('--------------------')"
      ],
      "execution_count": 172,
      "outputs": [
        {
          "output_type": "stream",
          "text": [
            "/usr/local/lib/python3.7/dist-packages/ipykernel_launcher.py:37: RuntimeWarning:\n",
            "\n",
            "invalid value encountered in double_scalars\n",
            "\n",
            "/usr/local/lib/python3.7/dist-packages/ipykernel_launcher.py:37: RuntimeWarning:\n",
            "\n",
            "invalid value encountered in arccos\n",
            "\n"
          ],
          "name": "stderr"
        },
        {
          "output_type": "stream",
          "text": [
            "<<<triangle_5>>>\n",
            "error meter: 2.604601324005973\n",
            "score: 3.4816913382183503\n",
            "--------------------\n"
          ],
          "name": "stdout"
        }
      ]
    },
    {
      "cell_type": "code",
      "metadata": {
        "id": "VAq2auB5oyV6",
        "outputId": "f56e3ff0-9f00-45a7-e5c7-44ccc2159768",
        "colab": {
          "base_uri": "https://localhost:8080/"
        }
      },
      "source": [
        "#guass filter\n",
        "CV16 = gauss_filter(CV15)\n",
        "print('<<<guass_filter>>>')\n",
        "CV16 = check_score(CV16)\n",
        "print('--------------------')"
      ],
      "execution_count": 178,
      "outputs": [
        {
          "output_type": "stream",
          "text": [
            "<<<guass_filter>>>\n",
            "error meter: 2.516455229509861\n",
            "score: 3.4318872733150716\n",
            "--------------------\n"
          ],
          "name": "stdout"
        }
      ]
    },
    {
      "cell_type": "markdown",
      "metadata": {
        "id": "6UWt5P7zQwxP"
      },
      "source": [
        "#submission"
      ]
    },
    {
      "cell_type": "code",
      "metadata": {
        "colab": {
          "base_uri": "https://localhost:8080/",
          "height": 1000,
          "referenced_widgets": [
            "a3ed0ff90109432c932d3c85dd51173e",
            "00d91a216d1342d497ebb26a81c2aa6f",
            "475ca3618c514310850a5d0fd5241529",
            "3a973b3aa14d49eda757075c7c6d4376",
            "7dad14b674154fa393a70b3436d84182",
            "f21fbff4ec2a43ab9a65340485ce242d",
            "44726141395441e59cf0fcdb9cc5dac4",
            "1e0742a1bb0f434caa99cc303fd94e67"
          ]
        },
        "id": "U-qhbrlXOXA4",
        "outputId": "f6f20988-c3b5-4d0c-97f0-fc2c58b52f3f"
      },
      "source": [
        "#make triangle 1\n",
        "sub1 = make_triangle(test_base)\n",
        "for i in range(300):\n",
        "    sub1 = make_triangle(sub1)\n",
        "print('<<<triangle_1>>>')\n",
        "\n",
        "#outlier\n",
        "sub2 = outlier(sub1)\n",
        "print('<<<outlier>>>')\n",
        "\n",
        "#make triangle 2\n",
        "sub3 = make_triangle(sub2)\n",
        "for i in range(300):\n",
        "    sub3 = make_triangle(sub3)\n",
        "print('<<<triangle_2>>>')\n",
        "\n",
        "#phonse mean\n",
        "sub4 = mean_prediction(sub3)\n",
        "print('<<<phones_mean>>>')\n",
        "\n",
        "#make triangle 3\n",
        "sub5 = make_triangle(sub4)\n",
        "for i in range(300):\n",
        "    sub5 = make_triangle(sub5)\n",
        "print('<<<triangle_3>>>')\n",
        "\n",
        "#remove device\n",
        "sub6 = remove_device_P(sub5)\n",
        "print('<<<remove_device_P>>>')\n",
        "\n",
        "#make triangle 4\n",
        "sub7 = make_triangle(sub6)\n",
        "for i in range(300):\n",
        "    sub7 = make_triangle(sub7)\n",
        "print('<<<triangle_4>>>')\n",
        "\n",
        "#remove device\n",
        "sub8 = remove_device_S(sub7)\n",
        "print('<<<remove_device_S>>>')\n",
        "\n",
        "#make triangle 5\n",
        "sub9 = make_triangle(sub8)\n",
        "for i in range(300):\n",
        "    sub9 = make_triangle(sub9)\n",
        "print('<<<triangle_5>>>')\n",
        "\n",
        "#position shift\n",
        "sub10 = position_shift(sub9)\n",
        "print('<<<position_shift>>>')\n",
        "\n",
        "#make triangle 6\n",
        "sub11 = make_triangle(sub10)\n",
        "for i in range(300):\n",
        "    sub11 = make_triangle(sub11)\n",
        "print('<<<triangle_6>>>')\n",
        "\n",
        "#move closer center\n",
        "sub12 = move_closer_center(sub11)\n",
        "print('<<<move_closer_center>>>')\n",
        "\n",
        "#make triangle 7\n",
        "sub13 = make_triangle(sub12)\n",
        "for i in range(300):\n",
        "    sub13 = make_triangle(sub13)\n",
        "print('<<<triangle_7>>>')\n",
        "\n",
        "#move closer truth\n",
        "sub14 = move_closer_truth(sub13)\n",
        "print('<<<move_closer_truth>>>')\n",
        "\n",
        "#make triangle 8\n",
        "sub15 = make_triangle(sub14)\n",
        "for i in range(300):\n",
        "    sub15 = make_triangle(sub15)\n",
        "print('<<<triangle_8>>>')\n",
        "\n",
        "#guass filter\n",
        "sub16 = gauss_filter(sub15)\n",
        "print('<<<guass_filter>>>')"
      ],
      "execution_count": null,
      "outputs": [
        {
          "output_type": "stream",
          "text": [
            "/usr/local/lib/python3.7/dist-packages/ipykernel_launcher.py:37: RuntimeWarning:\n",
            "\n",
            "invalid value encountered in double_scalars\n",
            "\n"
          ],
          "name": "stderr"
        },
        {
          "output_type": "stream",
          "text": [
            "<<<triangle_1>>>\n",
            "<<<outlier>>>\n"
          ],
          "name": "stdout"
        },
        {
          "output_type": "stream",
          "text": [
            "/usr/local/lib/python3.7/dist-packages/ipykernel_launcher.py:37: RuntimeWarning:\n",
            "\n",
            "invalid value encountered in double_scalars\n",
            "\n",
            "/usr/local/lib/python3.7/dist-packages/ipykernel_launcher.py:37: RuntimeWarning:\n",
            "\n",
            "invalid value encountered in arccos\n",
            "\n"
          ],
          "name": "stderr"
        },
        {
          "output_type": "stream",
          "text": [
            "<<<triangle_2>>>\n"
          ],
          "name": "stdout"
        },
        {
          "output_type": "display_data",
          "data": {
            "application/vnd.jupyter.widget-view+json": {
              "model_id": "a3ed0ff90109432c932d3c85dd51173e",
              "version_minor": 0,
              "version_major": 2
            },
            "text/plain": [
              "HBox(children=(FloatProgress(value=0.0, max=48.0), HTML(value='')))"
            ]
          },
          "metadata": {
            "tags": []
          }
        },
        {
          "output_type": "stream",
          "text": [
            "\n",
            "<<<phones_mean>>>\n",
            "<<<triangle_3>>>\n",
            "<<<remove_device_P>>>\n",
            "<<<triangle_4>>>\n",
            "<<<remove_device_S>>>\n",
            "<<<triangle_5>>>\n"
          ],
          "name": "stdout"
        },
        {
          "output_type": "stream",
          "text": [
            "\u001b[32m[I 2021-07-28 16:42:03,035]\u001b[0m A new study created in memory with name: no-name-0666e059-5657-4211-aa8d-7ef3b3124e1b\u001b[0m\n",
            "\u001b[32m[I 2021-07-28 16:42:10,573]\u001b[0m Trial 0 finished with value: 5.39575656720805 and parameters: {'a': -0.3069574792157277}. Best is trial 0 with value: 5.39575656720805.\u001b[0m\n",
            "\u001b[32m[I 2021-07-28 16:42:18,265]\u001b[0m Trial 1 finished with value: 5.634821953686517 and parameters: {'a': -0.7948952999661683}. Best is trial 0 with value: 5.39575656720805.\u001b[0m\n",
            "\u001b[32m[I 2021-07-28 16:42:25,426]\u001b[0m Trial 2 finished with value: 5.688684500798349 and parameters: {'a': -0.8883753998662045}. Best is trial 0 with value: 5.39575656720805.\u001b[0m\n",
            "\u001b[32m[I 2021-07-28 16:42:33,692]\u001b[0m Trial 3 finished with value: 5.2097485123651275 and parameters: {'a': 0.33213707098087597}. Best is trial 3 with value: 5.2097485123651275.\u001b[0m\n",
            "\u001b[32m[I 2021-07-28 16:42:40,830]\u001b[0m Trial 4 finished with value: 5.585387884909261 and parameters: {'a': -0.7028147830594045}. Best is trial 3 with value: 5.2097485123651275.\u001b[0m\n",
            "\u001b[32m[I 2021-07-28 16:42:48,163]\u001b[0m Trial 5 finished with value: 5.502438701836808 and parameters: {'a': -0.544810792705213}. Best is trial 3 with value: 5.2097485123651275.\u001b[0m\n",
            "\u001b[32m[I 2021-07-28 16:42:55,575]\u001b[0m Trial 6 finished with value: 5.429270389316194 and parameters: {'a': -0.38722091937360714}. Best is trial 3 with value: 5.2097485123651275.\u001b[0m\n",
            "\u001b[32m[I 2021-07-28 16:43:02,633]\u001b[0m Trial 7 finished with value: 5.307971936939443 and parameters: {'a': -0.06903746303526814}. Best is trial 3 with value: 5.2097485123651275.\u001b[0m\n",
            "\u001b[32m[I 2021-07-28 16:43:10,462]\u001b[0m Trial 8 finished with value: 5.676298394648617 and parameters: {'a': -0.8669102290873472}. Best is trial 3 with value: 5.2097485123651275.\u001b[0m\n",
            "\u001b[32m[I 2021-07-28 16:43:17,580]\u001b[0m Trial 9 finished with value: 5.189351601739 and parameters: {'a': 0.6123748291745827}. Best is trial 9 with value: 5.189351601739.\u001b[0m\n",
            "\u001b[32m[I 2021-07-28 16:43:24,859]\u001b[0m Trial 10 finished with value: 5.199941442690378 and parameters: {'a': 0.8746928085922822}. Best is trial 9 with value: 5.189351601739.\u001b[0m\n",
            "\u001b[32m[I 2021-07-28 16:43:32,312]\u001b[0m Trial 11 finished with value: 5.213851853369794 and parameters: {'a': 0.9945618684692583}. Best is trial 9 with value: 5.189351601739.\u001b[0m\n",
            "\u001b[32m[I 2021-07-28 16:43:39,696]\u001b[0m Trial 12 finished with value: 5.203671416335175 and parameters: {'a': 0.9132800770108352}. Best is trial 9 with value: 5.189351601739.\u001b[0m\n",
            "\u001b[32m[I 2021-07-28 16:43:47,343]\u001b[0m Trial 13 finished with value: 5.19094595563469 and parameters: {'a': 0.5613862975502781}. Best is trial 9 with value: 5.189351601739.\u001b[0m\n",
            "\u001b[32m[I 2021-07-28 16:43:54,274]\u001b[0m Trial 14 finished with value: 5.191609285054513 and parameters: {'a': 0.5124535573895468}. Best is trial 9 with value: 5.189351601739.\u001b[0m\n",
            "\u001b[32m[I 2021-07-28 16:44:01,719]\u001b[0m Trial 15 finished with value: 5.190969103163069 and parameters: {'a': 0.565158481131538}. Best is trial 9 with value: 5.189351601739.\u001b[0m\n",
            "\u001b[32m[I 2021-07-28 16:44:08,882]\u001b[0m Trial 16 finished with value: 5.2329827116389955 and parameters: {'a': 0.2081659752037937}. Best is trial 9 with value: 5.189351601739.\u001b[0m\n",
            "\u001b[32m[I 2021-07-28 16:44:16,422]\u001b[0m Trial 17 finished with value: 5.189226701689451 and parameters: {'a': 0.699614774554064}. Best is trial 17 with value: 5.189226701689451.\u001b[0m\n",
            "\u001b[32m[I 2021-07-28 16:44:23,383]\u001b[0m Trial 18 finished with value: 5.194482395659097 and parameters: {'a': 0.7763366861441445}. Best is trial 17 with value: 5.189226701689451.\u001b[0m\n",
            "\u001b[32m[I 2021-07-28 16:44:30,791]\u001b[0m Trial 19 finished with value: 5.252448985022106 and parameters: {'a': 0.1212325115621769}. Best is trial 17 with value: 5.189226701689451.\u001b[0m\n",
            "\u001b[32m[I 2021-07-28 16:44:38,500]\u001b[0m Trial 20 finished with value: 5.187547085516513 and parameters: {'a': 0.6700078837850032}. Best is trial 20 with value: 5.187547085516513.\u001b[0m\n",
            "\u001b[32m[I 2021-07-28 16:44:46,453]\u001b[0m Trial 21 finished with value: 5.1908294164736235 and parameters: {'a': 0.7182578683678036}. Best is trial 20 with value: 5.187547085516513.\u001b[0m\n",
            "\u001b[32m[I 2021-07-28 16:44:53,826]\u001b[0m Trial 22 finished with value: 5.2003164657950425 and parameters: {'a': 0.3891955273915709}. Best is trial 20 with value: 5.187547085516513.\u001b[0m\n",
            "\u001b[32m[I 2021-07-28 16:45:01,712]\u001b[0m Trial 23 finished with value: 5.192758260208488 and parameters: {'a': 0.741043154517689}. Best is trial 20 with value: 5.187547085516513.\u001b[0m\n",
            "\u001b[32m[I 2021-07-28 16:45:08,842]\u001b[0m Trial 24 finished with value: 5.189315272530557 and parameters: {'a': 0.6146396447395398}. Best is trial 20 with value: 5.187547085516513.\u001b[0m\n",
            "\u001b[32m[I 2021-07-28 16:45:16,313]\u001b[0m Trial 25 finished with value: 5.204466664528568 and parameters: {'a': 0.3601298956528503}. Best is trial 20 with value: 5.187547085516513.\u001b[0m\n",
            "\u001b[32m[I 2021-07-28 16:45:23,513]\u001b[0m Trial 26 finished with value: 5.298350723293334 and parameters: {'a': -0.031137766750727103}. Best is trial 20 with value: 5.187547085516513.\u001b[0m\n",
            "\u001b[32m[I 2021-07-28 16:45:31,459]\u001b[0m Trial 27 finished with value: 5.21231800516836 and parameters: {'a': 0.9826990180846408}. Best is trial 20 with value: 5.187547085516513.\u001b[0m\n",
            "\u001b[32m[I 2021-07-28 16:45:38,967]\u001b[0m Trial 28 finished with value: 5.1968275387957314 and parameters: {'a': 0.8177219130707156}. Best is trial 20 with value: 5.187547085516513.\u001b[0m\n",
            "\u001b[32m[I 2021-07-28 16:45:46,675]\u001b[0m Trial 29 finished with value: 5.24078654770069 and parameters: {'a': 0.17561224080672255}. Best is trial 20 with value: 5.187547085516513.\u001b[0m\n"
          ],
          "name": "stderr"
        },
        {
          "output_type": "stream",
          "text": [
            "<<<position_shift>>>\n",
            "<<<triangle_6>>>\n",
            "now : 1/1\n",
            "2021-04-22-US-SJC-2\n"
          ],
          "name": "stdout"
        },
        {
          "output_type": "stream",
          "text": [
            "/usr/local/lib/python3.7/dist-packages/momepy/utils.py:418: UserWarning:\n",
            "\n",
            "Approach is not set. Defaulting to 'primal'.\n",
            "\n",
            "/usr/local/lib/python3.7/dist-packages/ipykernel_launcher.py:35: UserWarning:\n",
            "\n",
            "Geometry is in a geographic CRS. Results from 'distance' are likely incorrect. Use 'GeoSeries.to_crs()' to re-project geometries to a projected CRS before this operation.\n",
            "\n",
            "\n",
            "/usr/local/lib/python3.7/dist-packages/ipykernel_launcher.py:35: UserWarning:\n",
            "\n",
            "CRS mismatch between the CRS of left geometries and the CRS of right geometries.\n",
            "Use `to_crs()` to reproject one of the input geometries to match the CRS of the other.\n",
            "\n",
            "Left CRS: EPSG:4326\n",
            "Right CRS: None\n",
            "\n",
            "\n"
          ],
          "name": "stderr"
        },
        {
          "output_type": "stream",
          "text": [
            "23400\n"
          ],
          "name": "stdout"
        },
        {
          "output_type": "stream",
          "text": [
            "/usr/local/lib/python3.7/dist-packages/ipykernel_launcher.py:35: RuntimeWarning:\n",
            "\n",
            "invalid value encountered in true_divide\n",
            "\n"
          ],
          "name": "stderr"
        },
        {
          "output_type": "stream",
          "text": [
            "now : 1/1\n",
            "2021-04-29-US-SJC-3\n"
          ],
          "name": "stdout"
        },
        {
          "output_type": "stream",
          "text": [
            "/usr/local/lib/python3.7/dist-packages/momepy/utils.py:418: UserWarning:\n",
            "\n",
            "Approach is not set. Defaulting to 'primal'.\n",
            "\n",
            "/usr/local/lib/python3.7/dist-packages/ipykernel_launcher.py:35: UserWarning:\n",
            "\n",
            "Geometry is in a geographic CRS. Results from 'distance' are likely incorrect. Use 'GeoSeries.to_crs()' to re-project geometries to a projected CRS before this operation.\n",
            "\n",
            "\n",
            "/usr/local/lib/python3.7/dist-packages/ipykernel_launcher.py:35: UserWarning:\n",
            "\n",
            "CRS mismatch between the CRS of left geometries and the CRS of right geometries.\n",
            "Use `to_crs()` to reproject one of the input geometries to match the CRS of the other.\n",
            "\n",
            "Left CRS: EPSG:4326\n",
            "Right CRS: None\n",
            "\n",
            "\n"
          ],
          "name": "stderr"
        },
        {
          "output_type": "stream",
          "text": [
            "22400\n",
            "now : 1/1\n",
            "2021-04-29-US-SJC-3\n"
          ],
          "name": "stdout"
        },
        {
          "output_type": "stream",
          "text": [
            "/usr/local/lib/python3.7/dist-packages/momepy/utils.py:418: UserWarning:\n",
            "\n",
            "Approach is not set. Defaulting to 'primal'.\n",
            "\n",
            "/usr/local/lib/python3.7/dist-packages/ipykernel_launcher.py:35: UserWarning:\n",
            "\n",
            "Geometry is in a geographic CRS. Results from 'distance' are likely incorrect. Use 'GeoSeries.to_crs()' to re-project geometries to a projected CRS before this operation.\n",
            "\n",
            "\n",
            "/usr/local/lib/python3.7/dist-packages/ipykernel_launcher.py:35: UserWarning:\n",
            "\n",
            "CRS mismatch between the CRS of left geometries and the CRS of right geometries.\n",
            "Use `to_crs()` to reproject one of the input geometries to match the CRS of the other.\n",
            "\n",
            "Left CRS: EPSG:4326\n",
            "Right CRS: None\n",
            "\n",
            "\n"
          ],
          "name": "stderr"
        },
        {
          "output_type": "stream",
          "text": [
            "23200\n"
          ],
          "name": "stdout"
        },
        {
          "output_type": "stream",
          "text": [
            "/usr/local/lib/python3.7/dist-packages/ipykernel_launcher.py:35: RuntimeWarning:\n",
            "\n",
            "invalid value encountered in true_divide\n",
            "\n"
          ],
          "name": "stderr"
        },
        {
          "output_type": "stream",
          "text": [
            "<<<move_closer_center>>>\n"
          ],
          "name": "stdout"
        },
        {
          "output_type": "stream",
          "text": [
            "/usr/local/lib/python3.7/dist-packages/ipykernel_launcher.py:37: RuntimeWarning:\n",
            "\n",
            "invalid value encountered in double_scalars\n",
            "\n",
            "/usr/local/lib/python3.7/dist-packages/ipykernel_launcher.py:37: RuntimeWarning:\n",
            "\n",
            "invalid value encountered in arccos\n",
            "\n"
          ],
          "name": "stderr"
        }
      ]
    },
    {
      "cell_type": "code",
      "metadata": {
        "id": "f7gndYYANy7_"
      },
      "source": [
        "sub12[sub.columns].to_csv(\"submission_71.csv\", index=False)"
      ],
      "execution_count": null,
      "outputs": []
    },
    {
      "cell_type": "code",
      "metadata": {
        "id": "uFq1lTdHS_au",
        "colab": {
          "base_uri": "https://localhost:8080/",
          "height": 694
        },
        "outputId": "03933550-a021-43f3-bf7d-5ae769c30d47"
      },
      "source": [
        "sub1"
      ],
      "execution_count": null,
      "outputs": [
        {
          "output_type": "execute_result",
          "data": {
            "text/html": [
              "<div>\n",
              "<style scoped>\n",
              "    .dataframe tbody tr th:only-of-type {\n",
              "        vertical-align: middle;\n",
              "    }\n",
              "\n",
              "    .dataframe tbody tr th {\n",
              "        vertical-align: top;\n",
              "    }\n",
              "\n",
              "    .dataframe thead th {\n",
              "        text-align: right;\n",
              "    }\n",
              "</style>\n",
              "<table border=\"1\" class=\"dataframe\">\n",
              "  <thead>\n",
              "    <tr style=\"text-align: right;\">\n",
              "      <th></th>\n",
              "      <th>phone</th>\n",
              "      <th>millisSinceGpsEpoch</th>\n",
              "      <th>latDeg</th>\n",
              "      <th>lngDeg</th>\n",
              "      <th>phoneName</th>\n",
              "      <th>collectionName</th>\n",
              "      <th>latDeg_from_gt</th>\n",
              "      <th>lngDeg_from_gt</th>\n",
              "      <th>latDeg_from_gt_pre</th>\n",
              "      <th>lngDeg_from_gt_pre</th>\n",
              "      <th>meter</th>\n",
              "    </tr>\n",
              "  </thead>\n",
              "  <tbody>\n",
              "    <tr>\n",
              "      <th>0</th>\n",
              "      <td>2020-05-15-US-MTV-1_Pixel4</td>\n",
              "      <td>1273608785432</td>\n",
              "      <td>37.416580</td>\n",
              "      <td>-122.082048</td>\n",
              "      <td>Pixel4</td>\n",
              "      <td>2020-05-15-US-MTV-1</td>\n",
              "      <td>NaN</td>\n",
              "      <td>NaN</td>\n",
              "      <td>NaN</td>\n",
              "      <td>NaN</td>\n",
              "      <td>NaN</td>\n",
              "    </tr>\n",
              "    <tr>\n",
              "      <th>1</th>\n",
              "      <td>2020-05-15-US-MTV-1_Pixel4</td>\n",
              "      <td>1273608786432</td>\n",
              "      <td>37.416588</td>\n",
              "      <td>-122.082053</td>\n",
              "      <td>Pixel4</td>\n",
              "      <td>2020-05-15-US-MTV-1</td>\n",
              "      <td>NaN</td>\n",
              "      <td>NaN</td>\n",
              "      <td>NaN</td>\n",
              "      <td>NaN</td>\n",
              "      <td>NaN</td>\n",
              "    </tr>\n",
              "    <tr>\n",
              "      <th>2</th>\n",
              "      <td>2020-05-15-US-MTV-1_Pixel4</td>\n",
              "      <td>1273608787432</td>\n",
              "      <td>37.416595</td>\n",
              "      <td>-122.082058</td>\n",
              "      <td>Pixel4</td>\n",
              "      <td>2020-05-15-US-MTV-1</td>\n",
              "      <td>NaN</td>\n",
              "      <td>NaN</td>\n",
              "      <td>NaN</td>\n",
              "      <td>NaN</td>\n",
              "      <td>NaN</td>\n",
              "    </tr>\n",
              "    <tr>\n",
              "      <th>3</th>\n",
              "      <td>2020-05-15-US-MTV-1_Pixel4</td>\n",
              "      <td>1273608788432</td>\n",
              "      <td>37.416599</td>\n",
              "      <td>-122.082061</td>\n",
              "      <td>Pixel4</td>\n",
              "      <td>2020-05-15-US-MTV-1</td>\n",
              "      <td>NaN</td>\n",
              "      <td>NaN</td>\n",
              "      <td>NaN</td>\n",
              "      <td>NaN</td>\n",
              "      <td>NaN</td>\n",
              "    </tr>\n",
              "    <tr>\n",
              "      <th>4</th>\n",
              "      <td>2020-05-15-US-MTV-1_Pixel4</td>\n",
              "      <td>1273608789432</td>\n",
              "      <td>37.416600</td>\n",
              "      <td>-122.082061</td>\n",
              "      <td>Pixel4</td>\n",
              "      <td>2020-05-15-US-MTV-1</td>\n",
              "      <td>NaN</td>\n",
              "      <td>NaN</td>\n",
              "      <td>NaN</td>\n",
              "      <td>NaN</td>\n",
              "      <td>NaN</td>\n",
              "    </tr>\n",
              "    <tr>\n",
              "      <th>...</th>\n",
              "      <td>...</td>\n",
              "      <td>...</td>\n",
              "      <td>...</td>\n",
              "      <td>...</td>\n",
              "      <td>...</td>\n",
              "      <td>...</td>\n",
              "      <td>...</td>\n",
              "      <td>...</td>\n",
              "      <td>...</td>\n",
              "      <td>...</td>\n",
              "      <td>...</td>\n",
              "    </tr>\n",
              "    <tr>\n",
              "      <th>91481</th>\n",
              "      <td>2021-04-29-US-SJC-3_SamsungS20Ultra</td>\n",
              "      <td>1303763185000</td>\n",
              "      <td>37.334544</td>\n",
              "      <td>-121.899475</td>\n",
              "      <td>SamsungS20Ultra</td>\n",
              "      <td>2021-04-29-US-SJC-3</td>\n",
              "      <td>37.334559</td>\n",
              "      <td>-121.899468</td>\n",
              "      <td>37.334559</td>\n",
              "      <td>-121.899468</td>\n",
              "      <td>1.838625</td>\n",
              "    </tr>\n",
              "    <tr>\n",
              "      <th>91482</th>\n",
              "      <td>2021-04-29-US-SJC-3_SamsungS20Ultra</td>\n",
              "      <td>1303763186000</td>\n",
              "      <td>37.334547</td>\n",
              "      <td>-121.899466</td>\n",
              "      <td>SamsungS20Ultra</td>\n",
              "      <td>2021-04-29-US-SJC-3</td>\n",
              "      <td>37.334559</td>\n",
              "      <td>-121.899468</td>\n",
              "      <td>37.334559</td>\n",
              "      <td>-121.899468</td>\n",
              "      <td>1.384773</td>\n",
              "    </tr>\n",
              "    <tr>\n",
              "      <th>91483</th>\n",
              "      <td>2021-04-29-US-SJC-3_SamsungS20Ultra</td>\n",
              "      <td>1303763187000</td>\n",
              "      <td>37.334549</td>\n",
              "      <td>-121.899457</td>\n",
              "      <td>SamsungS20Ultra</td>\n",
              "      <td>2021-04-29-US-SJC-3</td>\n",
              "      <td>37.334559</td>\n",
              "      <td>-121.899468</td>\n",
              "      <td>37.334559</td>\n",
              "      <td>-121.899468</td>\n",
              "      <td>1.475623</td>\n",
              "    </tr>\n",
              "    <tr>\n",
              "      <th>91484</th>\n",
              "      <td>2021-04-29-US-SJC-3_SamsungS20Ultra</td>\n",
              "      <td>1303763188000</td>\n",
              "      <td>37.334551</td>\n",
              "      <td>-121.899450</td>\n",
              "      <td>SamsungS20Ultra</td>\n",
              "      <td>2021-04-29-US-SJC-3</td>\n",
              "      <td>37.334559</td>\n",
              "      <td>-121.899468</td>\n",
              "      <td>37.334559</td>\n",
              "      <td>-121.899468</td>\n",
              "      <td>1.863298</td>\n",
              "    </tr>\n",
              "    <tr>\n",
              "      <th>91485</th>\n",
              "      <td>2021-04-29-US-SJC-3_SamsungS20Ultra</td>\n",
              "      <td>1303763189000</td>\n",
              "      <td>37.334550</td>\n",
              "      <td>-121.899453</td>\n",
              "      <td>SamsungS20Ultra</td>\n",
              "      <td>2021-04-29-US-SJC-3</td>\n",
              "      <td>37.334559</td>\n",
              "      <td>-121.899468</td>\n",
              "      <td>NaN</td>\n",
              "      <td>NaN</td>\n",
              "      <td>1.665423</td>\n",
              "    </tr>\n",
              "  </tbody>\n",
              "</table>\n",
              "<p>91486 rows × 11 columns</p>\n",
              "</div>"
            ],
            "text/plain": [
              "                                     phone  ...     meter\n",
              "0               2020-05-15-US-MTV-1_Pixel4  ...       NaN\n",
              "1               2020-05-15-US-MTV-1_Pixel4  ...       NaN\n",
              "2               2020-05-15-US-MTV-1_Pixel4  ...       NaN\n",
              "3               2020-05-15-US-MTV-1_Pixel4  ...       NaN\n",
              "4               2020-05-15-US-MTV-1_Pixel4  ...       NaN\n",
              "...                                    ...  ...       ...\n",
              "91481  2021-04-29-US-SJC-3_SamsungS20Ultra  ...  1.838625\n",
              "91482  2021-04-29-US-SJC-3_SamsungS20Ultra  ...  1.384773\n",
              "91483  2021-04-29-US-SJC-3_SamsungS20Ultra  ...  1.475623\n",
              "91484  2021-04-29-US-SJC-3_SamsungS20Ultra  ...  1.863298\n",
              "91485  2021-04-29-US-SJC-3_SamsungS20Ultra  ...  1.665423\n",
              "\n",
              "[91486 rows x 11 columns]"
            ]
          },
          "metadata": {
            "tags": []
          },
          "execution_count": 70
        }
      ]
    },
    {
      "cell_type": "code",
      "metadata": {
        "id": "uhHX84dD2g5E"
      },
      "source": [
        ""
      ],
      "execution_count": null,
      "outputs": []
    }
  ]
}