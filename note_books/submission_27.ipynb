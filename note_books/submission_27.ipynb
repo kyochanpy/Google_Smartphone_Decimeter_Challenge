{
  "nbformat": 4,
  "nbformat_minor": 0,
  "metadata": {
    "colab": {
      "name": "Untitled118.ipynb",
      "provenance": [],
      "mount_file_id": "1CNCHXR6Da8fn0u48KNGjXqTHP4oY6Voj",
      "authorship_tag": "ABX9TyOaoxBP64HpSGZoUkFhFqnq",
      "include_colab_link": true
    },
    "kernelspec": {
      "name": "python3",
      "display_name": "Python 3"
    },
    "language_info": {
      "name": "python"
    }
  },
  "cells": [
    {
      "cell_type": "markdown",
      "metadata": {
        "id": "view-in-github",
        "colab_type": "text"
      },
      "source": [
        "<a href=\"https://colab.research.google.com/github/kyochanpy/Google_Smartphone_Decimeter_Challenge/blob/main/note_books/submission_27.ipynb\" target=\"_parent\"><img src=\"https://colab.research.google.com/assets/colab-badge.svg\" alt=\"Open In Colab\"/></a>"
      ]
    },
    {
      "cell_type": "code",
      "metadata": {
        "id": "rtCd5x_vOT_1"
      },
      "source": [
        "!pip install pyproj > /dev/null"
      ],
      "execution_count": 1,
      "outputs": []
    },
    {
      "cell_type": "code",
      "metadata": {
        "id": "ePIYyd3bOK-N"
      },
      "source": [
        "import math\n",
        "import numpy as np\n",
        "from cv2 import Rodrigues\n",
        "from math import sin, cos, atan2, sqrt\n",
        "import pandas as pd\n",
        "from pathlib import Path\n",
        "import pyproj\n",
        "from pyproj import Proj, transform\n",
        "import matplotlib.pyplot as plt\n",
        "import plotly.express as px\n",
        "from sklearn.preprocessing import LabelEncoder\n",
        "from sklearn.model_selection import KFold, TimeSeriesSplit\n",
        "from sklearn.metrics import accuracy_score\n",
        "import lightgbm as lgb\n",
        "from tqdm import tqdm\n",
        "import warnings\n",
        "warnings.filterwarnings(\"ignore\", category=Warning)"
      ],
      "execution_count": 2,
      "outputs": []
    },
    {
      "cell_type": "code",
      "metadata": {
        "id": "_qRqTyN1OSkj"
      },
      "source": [
        "path = Path(\"/content/drive/MyDrive/GSDC\")\n",
        "train_base = pd.read_csv(path / \"baseline_locations_train.csv\")\n",
        "test_base = pd.read_csv(path / \"baseline_locations_test.csv\")\n",
        "sub = pd.read_csv(path / \"sample_submission.csv\")"
      ],
      "execution_count": 3,
      "outputs": []
    },
    {
      "cell_type": "code",
      "metadata": {
        "id": "FELHeDi0Omxw"
      },
      "source": [
        "def an2v(y_delta, z_delta, x_delta):\n",
        "    # yaw: z\n",
        "    Rz_Matrix = np.matrix([\n",
        "    [math.cos(z_delta), -math.sin(z_delta), 0],\n",
        "    [math.sin(z_delta), math.cos(z_delta), 0],\n",
        "    [0, 0, 1]\n",
        "    ])\n",
        "    \n",
        "    # pitch: y\n",
        "    Ry_Matrix = np.matrix([\n",
        "    [math.cos(y_delta), 0, math.sin(y_delta)],\n",
        "    [0, 1, 0],\n",
        "    [-math.sin(y_delta), 0, math.cos(y_delta)]\n",
        "    ])\n",
        "    \n",
        "    # roll: x\n",
        "    Rx_Matrix = np.matrix([\n",
        "    [1, 0, 0],\n",
        "    [0, math.cos(x_delta), -math.sin(x_delta)],\n",
        "    [0, math.sin(x_delta), math.cos(x_delta)]\n",
        "    ])\n",
        "\n",
        "    R = Rz_Matrix * Ry_Matrix * Rx_Matrix\n",
        "\n",
        "    theta = math.acos(((R[0, 0] + R[1, 1] + R[2, 2]) - 1) / 2)\n",
        "    multi = 1 / (2 * math.sin(theta))\n",
        "\n",
        "    rx = multi * (R[2, 1] - R[1, 2]) * theta\n",
        "    ry = multi * (R[0, 2] - R[2, 0]) * theta\n",
        "    rz = multi * (R[1, 0] - R[0, 1]) * theta\n",
        "\n",
        "    return rx, ry, rz"
      ],
      "execution_count": 4,
      "outputs": []
    },
    {
      "cell_type": "code",
      "metadata": {
        "id": "XmY9o3uoPaXR"
      },
      "source": [
        "def v2a(rotation_v):\n",
        "    # Rotation Vector -> Rotation Matrix\n",
        "    R = Rodrigues(rotation_v)[0]\n",
        "\n",
        "    sq = sqrt(R[2,1] ** 2 +  R[2,2] ** 2)\n",
        "\n",
        "    if  not (sq < 1e-6) :\n",
        "        x_delta = atan2(R[2,1] , R[2,2])\n",
        "        y_delta = atan2(-R[2,0], sq)\n",
        "        z_delta = atan2(R[1,0], R[0,0])\n",
        "    else :\n",
        "        x_delta = atan2(-R[1,2], R[1,1])\n",
        "        y_delta = atan2(-R[2,0], sq)\n",
        "        z_delta = 0\n",
        "\n",
        "    return y_delta, z_delta, x_delta"
      ],
      "execution_count": 5,
      "outputs": []
    },
    {
      "cell_type": "code",
      "metadata": {
        "id": "hAPz2saHPeXS"
      },
      "source": [
        "def gnss_log_to_dataframes(path):\n",
        "    '''Load GNSS Log'''\n",
        "    print('Loading ' + path, flush = True)\n",
        "    gnss_section_names = {'Raw', 'UncalAccel', 'UncalGyro', 'UncalMag', 'Fix', 'Status', 'OrientationDeg', 'OrientationDe', 'Orientatio'}\n",
        "    with open(path) as f_open:\n",
        "        datalines = f_open.readlines()\n",
        "\n",
        "    datas = {k: [] for k in gnss_section_names}\n",
        "    gnss_map = {k: [] for k in gnss_section_names}\n",
        "    for dataline in datalines:\n",
        "        is_header = dataline.startswith('#')\n",
        "        dataline = dataline.strip('#').strip().split(',')\n",
        "        # skip over notes, version numbers, etc\n",
        "        if is_header and dataline[0] in gnss_section_names:\n",
        "            gnss_map[dataline[0]] = dataline[1:]\n",
        "        elif not is_header:\n",
        "            datas[dataline[0]].append(dataline[1:])\n",
        "\n",
        "    results = dict()\n",
        "    for k, v in datas.items():\n",
        "        results[k] = pd.DataFrame(v, columns=gnss_map[k])\n",
        "    # pandas doesn't properly infer types from these lists by default\n",
        "    for k, df in results.items():\n",
        "        for col in df.columns:\n",
        "            if col == 'CodeType':\n",
        "                continue\n",
        "            results[k][col] = pd.to_numeric(results[k][col])\n",
        "\n",
        "    return results"
      ],
      "execution_count": 6,
      "outputs": []
    },
    {
      "cell_type": "code",
      "metadata": {
        "id": "y7XFny0-PjwH"
      },
      "source": [
        "def UTC2GpsEpoch(df):\n",
        "    dt_offset = pd.to_datetime('1980-01-06 00:00:00') \n",
        "    dt_offset_in_ms = int(dt_offset.value / 1e6)\n",
        "    df['millisSinceGpsEpoch'] = df['utcTimeMillis'] - dt_offset_in_ms + 18000\n",
        "    return df"
      ],
      "execution_count": 7,
      "outputs": []
    },
    {
      "cell_type": "code",
      "metadata": {
        "id": "GUE_7q4jPnf3"
      },
      "source": [
        "def prepare_imu_data(path, dataset_name, cname, pname, bl_df):\n",
        "    # load GNSS log\n",
        "    gnss_df = gnss_log_to_dataframes(str(path / dataset_name / cname / pname / f'{pname}_GnssLog.txt'))\n",
        "    print('sub-dataset shape：')\n",
        "    print('Raw:', gnss_df['Raw'].shape)\n",
        "    print('Status:', gnss_df['Status'].shape)\n",
        "    print('UncalAccel:', gnss_df['UncalAccel'].shape)\n",
        "    print('UncalGyro:', gnss_df['UncalGyro'].shape)\n",
        "    print('UncalMag:', gnss_df['UncalMag'].shape)\n",
        "    print('OrientationDeg:', gnss_df['OrientationDeg'].shape)\n",
        "    print('OrientationDe:', gnss_df['OrientationDe'].shape)\n",
        "    print('Orientatio:', gnss_df['Orientatio'].shape)\n",
        "    print('Fix:', gnss_df['Fix'].shape)\n",
        "\n",
        "    # merge sub-datasets\n",
        "    # accel + gyro\n",
        "    imu_df = pd.merge_asof(gnss_df['UncalAccel'].sort_values('utcTimeMillis'),\n",
        "                           gnss_df['UncalGyro'].drop('elapsedRealtimeNanos', axis=1).sort_values('utcTimeMillis'),\n",
        "                           on = 'utcTimeMillis',\n",
        "                           direction='nearest')\n",
        "    # (accel + gyro) + mag\n",
        "    imu_df = pd.merge_asof(imu_df.sort_values('utcTimeMillis'),\n",
        "                           gnss_df['UncalMag'].drop('elapsedRealtimeNanos', axis=1).sort_values('utcTimeMillis'),\n",
        "                           on = 'utcTimeMillis',\n",
        "                           direction='nearest')\n",
        "    # ((accel + gyro) + mag) + OrientationDeg\n",
        "    imu_df = pd.merge_asof(imu_df.sort_values('utcTimeMillis'),\n",
        "                           gnss_df['OrientationDeg'].drop('elapsedRealtimeNanos', axis=1).sort_values('utcTimeMillis'),\n",
        "                           on = 'utcTimeMillis',\n",
        "                           direction='nearest')\n",
        "   \n",
        "    # UTC->GpsEpoch\n",
        "    imu_df = UTC2GpsEpoch(imu_df)\n",
        "\n",
        "    # print IMU time\n",
        "    dt_offset = pd.to_datetime('1980-01-06 00:00:00')\n",
        "    dt_offset_in_ms = int(dt_offset.value / 1e6)\n",
        "    tmp_datetime = pd.to_datetime(imu_df['millisSinceGpsEpoch'] + dt_offset_in_ms, unit='ms')\n",
        "    print(f\"imu_df time scope: {tmp_datetime.min()} - {tmp_datetime.max()}\")\n",
        "\n",
        "\n",
        "    if dataset_name == 'train':\n",
        "        # read GT dataset\n",
        "        gt_path = path / dataset_name / cname / pname / 'ground_truth.csv'\n",
        "        gt_df = pd.read_csv(gt_path, usecols = ['collectionName', 'phoneName', 'millisSinceGpsEpoch', 'latDeg', 'lngDeg'])\n",
        "\n",
        "        # print GT time\n",
        "        tmp_datetime = pd.to_datetime(gt_df['millisSinceGpsEpoch'] + dt_offset_in_ms, unit='ms')\n",
        "        print(f\"gt_df time scope: {tmp_datetime.min()} - {tmp_datetime.max()}\")\n",
        "\n",
        "        # merge GT dataset\n",
        "        imu_df = pd.merge_asof(gt_df.sort_values('millisSinceGpsEpoch'),\n",
        "                               imu_df.drop(['elapsedRealtimeNanos'], axis=1).sort_values('millisSinceGpsEpoch'),\n",
        "                               on = 'millisSinceGpsEpoch',\n",
        "                               direction='nearest')\n",
        "    elif dataset_name == 'test':\n",
        "        # merge smaple_df\n",
        "        imu_df = pd.merge_asof(sub.sort_values('millisSinceGpsEpoch'),\n",
        "                           imu_df.drop(['elapsedRealtimeNanos'], axis=1).sort_values('millisSinceGpsEpoch'),\n",
        "                           on = 'millisSinceGpsEpoch',\n",
        "                           direction='nearest')\n",
        "\n",
        "    # OrientationDeg -> Rotation Vector\n",
        "    rxs = []\n",
        "    rys = []\n",
        "    rzs = []\n",
        "    for i in range(len(imu_df)):\n",
        "        y_delta = imu_df['rollDeg'].iloc[i]\n",
        "        z_delta = imu_df['yawDeg'].iloc[i]\n",
        "        x_delta = imu_df['pitchDeg'].iloc[i]\n",
        "        rx, ry, rz = an2v(y_delta, z_delta, x_delta)\n",
        "        rxs.append(rx)\n",
        "        rys.append(ry)\n",
        "        rzs.append(rz)\n",
        "\n",
        "    imu_df['ahrsX'] = rxs\n",
        "    imu_df['ahrsY'] = rys\n",
        "    imu_df['ahrsZ'] = rzs\n",
        "\n",
        "    # calibrate sensors' reading\n",
        "    for axis in ['X', 'Y', 'Z']:\n",
        "        imu_df['Accel{}Mps2'.format(axis)] = imu_df['UncalAccel{}Mps2'.format(axis)] - imu_df['Bias{}Mps2'.format(axis)]\n",
        "        imu_df['Gyro{}RadPerSec'.format(axis)] = imu_df['UncalGyro{}RadPerSec'.format(axis)] - imu_df['Drift{}RadPerSec'.format(axis)]\n",
        "        imu_df['Mag{}MicroT'.format(axis)] = imu_df['UncalMag{}MicroT'.format(axis)] - imu_df['Bias{}MicroT'.format(axis)]\n",
        "\n",
        "        # clearn bias features\n",
        "        imu_df.drop(['Bias{}Mps2'.format(axis), 'Drift{}RadPerSec'.format(axis), 'Bias{}MicroT'.format(axis)], axis = 1, inplace = True) \n",
        "\n",
        "    if dataset_name == 'train':\n",
        "        # merge Baseline dataset：imu_df + bl_df = (GT + IMU) + Baseline\n",
        "        df_all = pd.merge(imu_df.rename(columns={'latDeg':'latDeg_gt', 'lngDeg':'lngDeg_gt'}),\n",
        "                      bl_df.drop(['phone'], axis=1).rename(columns={'latDeg':'latDeg_bl','lngDeg':'lngDeg_bl'}),\n",
        "                      on = ['collectionName', 'phoneName', 'millisSinceGpsEpoch'])\n",
        "    elif dataset_name == 'test':\n",
        "        df_all = pd.merge(imu_df,\n",
        "              bl_df[(bl_df['collectionName']==cname) & (bl_df['phoneName']==pname)].drop(['phone'], axis=1).rename(columns={'latDeg':'latDeg_bl','lngDeg':'lngDeg_bl'}),\n",
        "              on = ['millisSinceGpsEpoch'])\n",
        "        df_all.drop(['phone'], axis=1, inplace=True)\n",
        "        \n",
        "    return df_all"
      ],
      "execution_count": 8,
      "outputs": []
    },
    {
      "cell_type": "code",
      "metadata": {
        "id": "ZyLBIkLWPs75"
      },
      "source": [
        "def WGS84_to_ECEF(lat, lon, alt):\n",
        "    # convert to radians\n",
        "    rad_lat = lat * (np.pi / 180.0)\n",
        "    rad_lon = lon * (np.pi / 180.0)\n",
        "    a    = 6378137.0\n",
        "    # f is the flattening factor\n",
        "    finv = 298.257223563\n",
        "    f = 1 / finv   \n",
        "    # e is the eccentricity\n",
        "    e2 = 1 - (1 - f) * (1 - f)    \n",
        "    # N is the radius of curvature in the prime vertical\n",
        "    N = a / np.sqrt(1 - e2 * np.sin(rad_lat) * np.sin(rad_lat))\n",
        "    x = (N + alt) * np.cos(rad_lat) * np.cos(rad_lon)\n",
        "    y = (N + alt) * np.cos(rad_lat) * np.sin(rad_lon)\n",
        "    z = (N * (1 - e2) + alt)        * np.sin(rad_lat)\n",
        "    return x, y, z\n",
        "\n",
        "transformer = pyproj.Transformer.from_crs(\n",
        "    {\"proj\":'geocent', \"ellps\":'WGS84', \"datum\":'WGS84'},\n",
        "    {\"proj\":'latlong', \"ellps\":'WGS84', \"datum\":'WGS84'},)\n",
        "def ECEF_to_WGS84(x,y,z):\n",
        "    lon, lat, alt = transformer.transform(x,y,z,radians=False)\n",
        "    return lon, lat, alt"
      ],
      "execution_count": 9,
      "outputs": []
    },
    {
      "cell_type": "code",
      "metadata": {
        "id": "kOzSdMQMPv_J"
      },
      "source": [
        "def get_xyz(df_all, dataset_name):\n",
        "    # baseline: lat/lngDeg -> x/y/z\n",
        "    df_all['Xbl'], df_all['Ybl'], df_all['Zbl'] = zip(*df_all.apply(lambda x: WGS84_to_ECEF(x.latDeg_bl, x.lngDeg_bl, x.heightAboveWgs84EllipsoidM), axis=1))\n",
        "    \n",
        "    if dataset_name == 'train':\n",
        "        # gt: lat/lngDeg -> x/y/z\n",
        "        df_all['Xgt'], df_all['Ygt'], df_all['Zgt'] = zip(*df_all.apply(lambda x: WGS84_to_ECEF(x.latDeg_gt, x.lngDeg_gt, x.heightAboveWgs84EllipsoidM), axis=1))\n",
        "        # copy lat/lngDeg\n",
        "        lat_lng_df = df_all[['latDeg_gt','lngDeg_gt', 'latDeg_bl', 'lngDeg_bl']]\n",
        "        df_all.drop(['latDeg_gt','lngDeg_gt', 'latDeg_bl', 'lngDeg_bl'], axis = 1, inplace = True)\n",
        "    elif dataset_name == 'test':\n",
        "        # copy lat/lngDeg\n",
        "        lat_lng_df = df_all[['latDeg_bl', 'lngDeg_bl']]\n",
        "        df_all.drop(['latDeg_bl', 'lngDeg_bl', 'latDeg','lngDeg',], axis = 1, inplace = True)     \n",
        "        \n",
        "    return lat_lng_df, df_all"
      ],
      "execution_count": 10,
      "outputs": []
    },
    {
      "cell_type": "code",
      "metadata": {
        "id": "XwZRW1x1PyNl"
      },
      "source": [
        "def prepare_df_train(df_all_train, window_size):\n",
        "    '''prepare training dataset with all aixses'''\n",
        "    tgt_df = df_all_train.copy()\n",
        "    total_len = len(tgt_df) \n",
        "    moving_times = total_len - window_size \n",
        "    \n",
        "    tgt_df.rename(columns = {'yawDeg':'yawZDeg', 'rollDeg':'rollYDeg', 'pitchDeg':'pitchXDeg'}, inplace = True)\n",
        "\n",
        "    feature_cols = [f for f in list(tgt_df) if f not in ['Xgt', 'Ygt', 'Zgt']]\n",
        "\n",
        "    # Historical Feature names\n",
        "    hist_feats = []\n",
        "    for time_flag in range(1, window_size + 1):\n",
        "        for fn in feature_cols:\n",
        "            hist_feats.append(fn + '_' + str(time_flag))\n",
        "\n",
        "    # Window Sliding\n",
        "    # t1 t2 t3 t4 t5 -> t6\n",
        "    # t2 t3 t4 t5 t6 -> t7\n",
        "\n",
        "    # Add historical data \n",
        "    df_train = pd.DataFrame()\n",
        "    features = []\n",
        "    xs = []\n",
        "    ys = []\n",
        "    zs = []\n",
        "\n",
        "    for start_idx in range(moving_times):\n",
        "        feature_list = list()\n",
        "        x_list = list()\n",
        "        y_list = list()\n",
        "        z_list = list()\n",
        "\n",
        "        for window_idx in range(window_size):\n",
        "            feature_list.extend(tgt_df[feature_cols].iloc[start_idx + window_idx,:].to_list())\n",
        "        x_list.append(tgt_df['Xgt'].iloc[start_idx + window_size])\n",
        "        y_list.append(tgt_df['Ygt'].iloc[start_idx + window_size])\n",
        "        z_list.append(tgt_df['Zgt'].iloc[start_idx + window_size])\n",
        "\n",
        "        features.append(feature_list)\n",
        "        xs.extend(x_list)\n",
        "        ys.extend(y_list)\n",
        "        zs.extend(z_list)\n",
        "\n",
        "    df_train = pd.DataFrame(features, columns = hist_feats)\n",
        "    df_train['Xgt'] = xs\n",
        "    df_train['Ygt'] = ys\n",
        "    df_train['Zgt'] = zs\n",
        "    \n",
        "    # clean single-value feature: collectionName_[1-5]\\phoneName_[1-5]\n",
        "    tmp_feats = []\n",
        "    for fn in list(df_train):\n",
        "        if (fn.startswith('collectionName_') == False) and (fn.startswith('phoneName_') == False):\n",
        "            tmp_feats.append(fn)\n",
        "    df_train = df_train[tmp_feats]\n",
        "\n",
        "    # clean time feature\n",
        "    tmp_drop_feats = []\n",
        "    for f in list(df_train):\n",
        "        if (f.startswith('millisSinceGpsEpoch') == True) or (f.startswith('timeSinceFirstFixSeconds') == True) or (f.startswith('utcTimeMillis') == True):\n",
        "            tmp_drop_feats.append(f)\n",
        "    df_train.drop(tmp_drop_feats, axis = 1, inplace = True)\n",
        "    \n",
        "    return df_train"
      ],
      "execution_count": 11,
      "outputs": []
    },
    {
      "cell_type": "code",
      "metadata": {
        "id": "Pv8s6zXjQaNy"
      },
      "source": [
        "def prepare_df_test(df_all_test, window_size):\n",
        "    '''prepare testing dataset with all aixses'''\n",
        "    tgt_df = df_all_test.copy()\n",
        "    total_len = len(tgt_df) \n",
        "    moving_times = total_len - window_size \n",
        "    \n",
        "    tgt_df.rename(columns = {'yawDeg':'yawZDeg', 'rollDeg':'rollYDeg', 'pitchDeg':'pitchXDeg'}, inplace = True)\n",
        "\n",
        "    feature_cols = [f for f in list(tgt_df) if f not in ['Xgt', 'Ygt', 'Zgt']] \n",
        "    \n",
        "    hist_feats = []\n",
        "    for time_flag in range(1, window_size + 1):\n",
        "        for fn in feature_cols:\n",
        "            hist_feats.append(fn + '_' + str(time_flag))\n",
        "\n",
        "    # t1 t2 t3 t4 t5 -> t6\n",
        "    # t2 t3 t4 t5 t6 -> t7\n",
        "    df_test = pd.DataFrame()\n",
        "    features = []\n",
        "\n",
        "    for start_idx in range(moving_times):\n",
        "        feature_list = list()\n",
        "\n",
        "        for window_idx in range(window_size):\n",
        "            feature_list.extend(tgt_df[feature_cols].iloc[start_idx + window_idx,:].to_list())\n",
        "        features.append(feature_list)\n",
        "\n",
        "    df_test = pd.DataFrame(features, columns = hist_feats)\n",
        "\n",
        "    tmp_feats = []\n",
        "    for fn in list(df_test):\n",
        "        if (fn.startswith('collectionName_') == False) and (fn.startswith('phoneName_') == False):\n",
        "            tmp_feats.append(fn)\n",
        "    df_test = df_test[tmp_feats]\n",
        "\n",
        "    tmp_drop_feats = []\n",
        "    for f in list(df_test):\n",
        "        if (f.startswith('millisSinceGpsEpoch') == True) or (f.startswith('timeSinceFirstFixSeconds') == True) or (f.startswith('utcTimeMillis') == True) or (f.startswith('elapsedRealtimeNanos') == True):\n",
        "            tmp_drop_feats.append(f)\n",
        "    df_test.drop(tmp_drop_feats, axis = 1, inplace = True)\n",
        "    \n",
        "    return df_test"
      ],
      "execution_count": 12,
      "outputs": []
    },
    {
      "cell_type": "code",
      "metadata": {
        "id": "5rrCn8nsQc3R"
      },
      "source": [
        "def remove_other_axis_feats(df_all, tgt_axis):\n",
        "    '''unrelated-aixs features and uncalibrated features'''\n",
        "    # Clean unrelated-aixs features\n",
        "    all_imu_feats = ['UncalAccelXMps2', 'UncalAccelYMps2', 'UncalAccelZMps2',\n",
        "                     'UncalGyroXRadPerSec', 'UncalGyroYRadPerSec', 'UncalGyroZRadPerSec',\n",
        "                     'UncalMagXMicroT', 'UncalMagYMicroT', 'UncalMagZMicroT',\n",
        "                     'ahrsX', 'ahrsY', 'ahrsZ',\n",
        "                     'AccelXMps2', 'AccelYMps2', 'AccelZMps2',\n",
        "                     'GyroXRadPerSec', 'GyroZRadPerSec', 'GyroYRadPerSec',\n",
        "                     'MagXMicroT', 'MagYMicroT', 'MagZMicroT',\n",
        "                     'yawZDeg', 'rollYDeg', 'pitchXDeg',\n",
        "                     'Xbl', 'Ybl', 'Zbl']\n",
        "    tgt_imu_feats = []\n",
        "    for axis in ['X', 'Y', 'Z']:\n",
        "        if axis != tgt_axis:\n",
        "            for f in all_imu_feats:\n",
        "                if f.find(axis) >= 0:\n",
        "                    tgt_imu_feats.append(f)\n",
        "            \n",
        "    tmp_drop_feats = []\n",
        "    for f in list(df_all):\n",
        "        if f.split('_')[0] in tgt_imu_feats:\n",
        "            tmp_drop_feats.append(f)\n",
        "\n",
        "    tgt_df = df_all.drop(tmp_drop_feats, axis = 1)\n",
        "    \n",
        "    # Clean uncalibrated features\n",
        "    uncal_feats = [f for f in list(tgt_df) if f.startswith('Uncal') == True]\n",
        "    tgt_df = tgt_df.drop(uncal_feats, axis = 1)\n",
        "    \n",
        "    return tgt_df"
      ],
      "execution_count": 13,
      "outputs": []
    },
    {
      "cell_type": "code",
      "metadata": {
        "id": "VQzumhcYQfKI"
      },
      "source": [
        "def add_stat_feats(data, tgt_axis):\n",
        "    for f in ['yawZDeg', 'rollYDeg', 'pitchXDeg']:\n",
        "        if f.find(tgt_axis) >= 0:\n",
        "            ori_feat = f\n",
        "            break\n",
        "            \n",
        "    cont_feats = ['heightAboveWgs84EllipsoidM', 'ahrs{}'.format(tgt_axis),\n",
        "           'Accel{}Mps2'.format(tgt_axis), 'Gyro{}RadPerSec'.format(tgt_axis), 'Mag{}MicroT'.format(tgt_axis),\n",
        "            '{}bl'.format(tgt_axis)] + [ori_feat]\n",
        "    \n",
        "    for f in cont_feats:\n",
        "        data[f + '_' + str(window_size) + '_mean'] = data[[f + f'_{i}' for i in range(1,window_size)]].mean(axis=1)\n",
        "        data[f + '_' + str(window_size) + '_std'] = data[[f + f'_{i}' for i in range(1,window_size)]].std(axis=1)\n",
        "        data[f + '_' + str(window_size) + '_max'] = data[[f + f'_{i}' for i in range(1,window_size)]].max(axis=1)\n",
        "        data[f + '_' + str(window_size) + '_min'] = data[[f + f'_{i}' for i in range(1,window_size)]].min(axis=1)\n",
        "        data[f + '_' + str(window_size) + '_median'] = data[[f + f'_{i}' for i in range(1,window_size)]].median(axis=1)\n",
        "    return data"
      ],
      "execution_count": 14,
      "outputs": []
    },
    {
      "cell_type": "code",
      "metadata": {
        "id": "a78A-qMgQhOZ"
      },
      "source": [
        "# LightGBM\n",
        "params = {\n",
        "    'metric':'mse',\n",
        "    'objective':'regression',\n",
        "    'seed':2021,\n",
        "    'boosting_type':'gbdt',\n",
        "    'early_stopping_rounds':10,\n",
        "    'subsample':0.7,\n",
        "    'feature_fraction':0.7,\n",
        "    'bagging_fraction': 0.7,\n",
        "    'reg_lambda': 10\n",
        "}\n",
        "window_size = 30\n",
        "verbose_flag = True\n",
        "folds = 5"
      ],
      "execution_count": 17,
      "outputs": []
    },
    {
      "cell_type": "code",
      "metadata": {
        "colab": {
          "base_uri": "https://localhost:8080/",
          "height": 1000
        },
        "id": "kwGTxus6Qo7I",
        "outputId": "158f2760-74c8-40d7-eed8-c9455e2c9b6e"
      },
      "source": [
        "# Example: I use SJC's dataset for training \n",
        "tgt_cns = ['2021-04-22-US-SJC-1', '2021-04-28-US-SJC-1', '2021-04-29-US-SJC-2']\n",
        "cn2pn_df = train_base[['collectionName', 'phoneName']].drop_duplicates()\n",
        "\n",
        "df_trains = []\n",
        "lat_lng_df_trains = []\n",
        "for tgt_cn in tqdm(tgt_cns):\n",
        "    pns = list(cn2pn_df[cn2pn_df['collectionName'] == tgt_cn]['phoneName'].values)\n",
        "    for tgt_pn in pns:\n",
        "        print('Prepare Training Dataset：', tgt_cn + '_' + tgt_pn)  \n",
        "        df_all_train = prepare_imu_data(path, 'train', tgt_cn, tgt_pn, train_base)\n",
        "        display(df_all_train.head(1))\n",
        "        lat_lng_df_train, df_all_train = get_xyz(df_all_train, 'train')\n",
        "        df_train = prepare_df_train(df_all_train,  window_size) # 所有轴的数据\n",
        "        df_trains.append(df_train)\n",
        "        lat_lng_df_trains.append(lat_lng_df_train)\n",
        "        print('_'*20)\n",
        "        \n",
        "df_train = pd.concat(df_trains, axis = 0)\n",
        "lat_lng_df_train = pd.concat(lat_lng_df_trains, axis = 0)\n",
        "print('Final Dataset shape：', df_train.shape)"
      ],
      "execution_count": 18,
      "outputs": [
        {
          "output_type": "stream",
          "text": [
            "\n",
            "  0%|          | 0/3 [00:00<?, ?it/s]\u001b[A"
          ],
          "name": "stderr"
        },
        {
          "output_type": "stream",
          "text": [
            "Prepare Training Dataset： 2021-04-22-US-SJC-1_Pixel4\n",
            "Loading /content/drive/MyDrive/GSDC/train/2021-04-22-US-SJC-1/Pixel4/Pixel4_GnssLog.txt\n",
            "sub-dataset shape：\n",
            "Raw: (69759, 36)\n",
            "Status: (105134, 13)\n",
            "UncalAccel: (300038, 8)\n",
            "UncalGyro: (300038, 8)\n",
            "UncalMag: (289948, 8)\n",
            "OrientationDeg: (180408, 5)\n",
            "OrientationDe: (0, 0)\n",
            "Orientatio: (0, 0)\n",
            "Fix: (0, 11)\n",
            "imu_df time scope: 2021-04-22 21:02:55.866000 - 2021-04-22 21:51:07.442000\n",
            "gt_df time scope: 2021-04-22 21:02:55.446000 - 2021-04-22 21:51:06.446000\n"
          ],
          "name": "stdout"
        },
        {
          "output_type": "display_data",
          "data": {
            "text/html": [
              "<div>\n",
              "<style scoped>\n",
              "    .dataframe tbody tr th:only-of-type {\n",
              "        vertical-align: middle;\n",
              "    }\n",
              "\n",
              "    .dataframe tbody tr th {\n",
              "        vertical-align: top;\n",
              "    }\n",
              "\n",
              "    .dataframe thead th {\n",
              "        text-align: right;\n",
              "    }\n",
              "</style>\n",
              "<table border=\"1\" class=\"dataframe\">\n",
              "  <thead>\n",
              "    <tr style=\"text-align: right;\">\n",
              "      <th></th>\n",
              "      <th>collectionName</th>\n",
              "      <th>phoneName</th>\n",
              "      <th>millisSinceGpsEpoch</th>\n",
              "      <th>latDeg_gt</th>\n",
              "      <th>lngDeg_gt</th>\n",
              "      <th>utcTimeMillis</th>\n",
              "      <th>UncalAccelXMps2</th>\n",
              "      <th>UncalAccelYMps2</th>\n",
              "      <th>UncalAccelZMps2</th>\n",
              "      <th>UncalGyroXRadPerSec</th>\n",
              "      <th>UncalGyroYRadPerSec</th>\n",
              "      <th>UncalGyroZRadPerSec</th>\n",
              "      <th>UncalMagXMicroT</th>\n",
              "      <th>UncalMagYMicroT</th>\n",
              "      <th>UncalMagZMicroT</th>\n",
              "      <th>yawDeg</th>\n",
              "      <th>rollDeg</th>\n",
              "      <th>pitchDeg</th>\n",
              "      <th>ahrsX</th>\n",
              "      <th>ahrsY</th>\n",
              "      <th>ahrsZ</th>\n",
              "      <th>AccelXMps2</th>\n",
              "      <th>GyroXRadPerSec</th>\n",
              "      <th>MagXMicroT</th>\n",
              "      <th>AccelYMps2</th>\n",
              "      <th>GyroYRadPerSec</th>\n",
              "      <th>MagYMicroT</th>\n",
              "      <th>AccelZMps2</th>\n",
              "      <th>GyroZRadPerSec</th>\n",
              "      <th>MagZMicroT</th>\n",
              "      <th>latDeg_bl</th>\n",
              "      <th>lngDeg_bl</th>\n",
              "      <th>heightAboveWgs84EllipsoidM</th>\n",
              "    </tr>\n",
              "  </thead>\n",
              "  <tbody>\n",
              "    <tr>\n",
              "      <th>0</th>\n",
              "      <td>2021-04-22-US-SJC-1</td>\n",
              "      <td>Pixel4</td>\n",
              "      <td>1303160575446</td>\n",
              "      <td>37.334581</td>\n",
              "      <td>-121.899447</td>\n",
              "      <td>1619125357866</td>\n",
              "      <td>-1.211366</td>\n",
              "      <td>9.678967</td>\n",
              "      <td>-0.855434</td>\n",
              "      <td>-0.011301</td>\n",
              "      <td>-0.003054</td>\n",
              "      <td>-0.005498</td>\n",
              "      <td>32.08125</td>\n",
              "      <td>-70.44375</td>\n",
              "      <td>-74.362495</td>\n",
              "      <td>106</td>\n",
              "      <td>128</td>\n",
              "      <td>-81</td>\n",
              "      <td>1.28383</td>\n",
              "      <td>2.061713</td>\n",
              "      <td>-1.186817</td>\n",
              "      <td>-1.211366</td>\n",
              "      <td>-0.01122</td>\n",
              "      <td>26.446653</td>\n",
              "      <td>9.678967</td>\n",
              "      <td>-0.002877</td>\n",
              "      <td>-52.221582</td>\n",
              "      <td>-0.855434</td>\n",
              "      <td>-0.004449</td>\n",
              "      <td>-36.499535</td>\n",
              "      <td>37.334582</td>\n",
              "      <td>-121.899408</td>\n",
              "      <td>-10.66</td>\n",
              "    </tr>\n",
              "  </tbody>\n",
              "</table>\n",
              "</div>"
            ],
            "text/plain": [
              "        collectionName phoneName  ...   lngDeg_bl  heightAboveWgs84EllipsoidM\n",
              "0  2021-04-22-US-SJC-1    Pixel4  ... -121.899408                      -10.66\n",
              "\n",
              "[1 rows x 33 columns]"
            ]
          },
          "metadata": {
            "tags": []
          }
        },
        {
          "output_type": "stream",
          "text": [
            "____________________\n",
            "Prepare Training Dataset： 2021-04-22-US-SJC-1_SamsungS20Ultra\n",
            "Loading /content/drive/MyDrive/GSDC/train/2021-04-22-US-SJC-1/SamsungS20Ultra/SamsungS20Ultra_GnssLog.txt\n",
            "sub-dataset shape：\n",
            "Raw: (103693, 36)\n",
            "Status: (39416, 13)\n",
            "UncalAccel: (282622, 8)\n",
            "UncalGyro: (282622, 8)\n",
            "UncalMag: (282622, 8)\n",
            "OrientationDeg: (282623, 5)\n",
            "OrientationDe: (0, 0)\n",
            "Orientatio: (0, 0)\n",
            "Fix: (0, 11)\n",
            "imu_df time scope: 2021-04-22 21:02:57.127000 - 2021-04-22 21:50:03.236000\n",
            "gt_df time scope: 2021-04-22 21:02:57 - 2021-04-22 21:50:02\n"
          ],
          "name": "stdout"
        },
        {
          "output_type": "display_data",
          "data": {
            "text/html": [
              "<div>\n",
              "<style scoped>\n",
              "    .dataframe tbody tr th:only-of-type {\n",
              "        vertical-align: middle;\n",
              "    }\n",
              "\n",
              "    .dataframe tbody tr th {\n",
              "        vertical-align: top;\n",
              "    }\n",
              "\n",
              "    .dataframe thead th {\n",
              "        text-align: right;\n",
              "    }\n",
              "</style>\n",
              "<table border=\"1\" class=\"dataframe\">\n",
              "  <thead>\n",
              "    <tr style=\"text-align: right;\">\n",
              "      <th></th>\n",
              "      <th>collectionName</th>\n",
              "      <th>phoneName</th>\n",
              "      <th>millisSinceGpsEpoch</th>\n",
              "      <th>latDeg_gt</th>\n",
              "      <th>lngDeg_gt</th>\n",
              "      <th>utcTimeMillis</th>\n",
              "      <th>UncalAccelXMps2</th>\n",
              "      <th>UncalAccelYMps2</th>\n",
              "      <th>UncalAccelZMps2</th>\n",
              "      <th>UncalGyroXRadPerSec</th>\n",
              "      <th>UncalGyroYRadPerSec</th>\n",
              "      <th>UncalGyroZRadPerSec</th>\n",
              "      <th>UncalMagXMicroT</th>\n",
              "      <th>UncalMagYMicroT</th>\n",
              "      <th>UncalMagZMicroT</th>\n",
              "      <th>yawDeg</th>\n",
              "      <th>rollDeg</th>\n",
              "      <th>pitchDeg</th>\n",
              "      <th>ahrsX</th>\n",
              "      <th>ahrsY</th>\n",
              "      <th>ahrsZ</th>\n",
              "      <th>AccelXMps2</th>\n",
              "      <th>GyroXRadPerSec</th>\n",
              "      <th>MagXMicroT</th>\n",
              "      <th>AccelYMps2</th>\n",
              "      <th>GyroYRadPerSec</th>\n",
              "      <th>MagYMicroT</th>\n",
              "      <th>AccelZMps2</th>\n",
              "      <th>GyroZRadPerSec</th>\n",
              "      <th>MagZMicroT</th>\n",
              "      <th>latDeg_bl</th>\n",
              "      <th>lngDeg_bl</th>\n",
              "      <th>heightAboveWgs84EllipsoidM</th>\n",
              "    </tr>\n",
              "  </thead>\n",
              "  <tbody>\n",
              "    <tr>\n",
              "      <th>0</th>\n",
              "      <td>2021-04-22-US-SJC-1</td>\n",
              "      <td>SamsungS20Ultra</td>\n",
              "      <td>1303160577000</td>\n",
              "      <td>37.334582</td>\n",
              "      <td>-121.899444</td>\n",
              "      <td>1619125359127</td>\n",
              "      <td>-1.271321</td>\n",
              "      <td>9.725547</td>\n",
              "      <td>-1.326388</td>\n",
              "      <td>-0.02138</td>\n",
              "      <td>0.012217</td>\n",
              "      <td>0.009163</td>\n",
              "      <td>3.24</td>\n",
              "      <td>-68.58</td>\n",
              "      <td>-15.54</td>\n",
              "      <td>54</td>\n",
              "      <td>136.0</td>\n",
              "      <td>-79.0</td>\n",
              "      <td>-0.14802</td>\n",
              "      <td>-0.983886</td>\n",
              "      <td>0.333922</td>\n",
              "      <td>-1.271321</td>\n",
              "      <td>-0.01749</td>\n",
              "      <td>27.179999</td>\n",
              "      <td>9.725547</td>\n",
              "      <td>-0.003202</td>\n",
              "      <td>-48.720001</td>\n",
              "      <td>-1.323994</td>\n",
              "      <td>-0.002215</td>\n",
              "      <td>5.1</td>\n",
              "      <td>37.334587</td>\n",
              "      <td>-121.899431</td>\n",
              "      <td>-4.1</td>\n",
              "    </tr>\n",
              "  </tbody>\n",
              "</table>\n",
              "</div>"
            ],
            "text/plain": [
              "        collectionName        phoneName  ...   lngDeg_bl  heightAboveWgs84EllipsoidM\n",
              "0  2021-04-22-US-SJC-1  SamsungS20Ultra  ... -121.899431                        -4.1\n",
              "\n",
              "[1 rows x 33 columns]"
            ]
          },
          "metadata": {
            "tags": []
          }
        },
        {
          "output_type": "stream",
          "text": [
            "\n",
            " 33%|███▎      | 1/3 [04:12<08:24, 252.23s/it]\u001b[A"
          ],
          "name": "stderr"
        },
        {
          "output_type": "stream",
          "text": [
            "____________________\n",
            "Prepare Training Dataset： 2021-04-28-US-SJC-1_Pixel4\n",
            "Loading /content/drive/MyDrive/GSDC/train/2021-04-28-US-SJC-1/Pixel4/Pixel4_GnssLog.txt\n",
            "sub-dataset shape：\n",
            "Raw: (58202, 36)\n",
            "Status: (82169, 13)\n",
            "UncalAccel: (209435, 8)\n",
            "UncalGyro: (209435, 8)\n",
            "UncalMag: (201994, 8)\n",
            "OrientationDeg: (126160, 5)\n",
            "OrientationDe: (0, 0)\n",
            "Orientatio: (0, 0)\n",
            "Fix: (0, 11)\n",
            "imu_df time scope: 2021-04-28 19:59:34.375000 - 2021-04-28 20:33:12.928000\n",
            "gt_df time scope: 2021-04-28 19:59:34.438000 - 2021-04-28 20:33:12.438000\n"
          ],
          "name": "stdout"
        },
        {
          "output_type": "display_data",
          "data": {
            "text/html": [
              "<div>\n",
              "<style scoped>\n",
              "    .dataframe tbody tr th:only-of-type {\n",
              "        vertical-align: middle;\n",
              "    }\n",
              "\n",
              "    .dataframe tbody tr th {\n",
              "        vertical-align: top;\n",
              "    }\n",
              "\n",
              "    .dataframe thead th {\n",
              "        text-align: right;\n",
              "    }\n",
              "</style>\n",
              "<table border=\"1\" class=\"dataframe\">\n",
              "  <thead>\n",
              "    <tr style=\"text-align: right;\">\n",
              "      <th></th>\n",
              "      <th>collectionName</th>\n",
              "      <th>phoneName</th>\n",
              "      <th>millisSinceGpsEpoch</th>\n",
              "      <th>latDeg_gt</th>\n",
              "      <th>lngDeg_gt</th>\n",
              "      <th>utcTimeMillis</th>\n",
              "      <th>UncalAccelXMps2</th>\n",
              "      <th>UncalAccelYMps2</th>\n",
              "      <th>UncalAccelZMps2</th>\n",
              "      <th>UncalGyroXRadPerSec</th>\n",
              "      <th>UncalGyroYRadPerSec</th>\n",
              "      <th>UncalGyroZRadPerSec</th>\n",
              "      <th>UncalMagXMicroT</th>\n",
              "      <th>UncalMagYMicroT</th>\n",
              "      <th>UncalMagZMicroT</th>\n",
              "      <th>yawDeg</th>\n",
              "      <th>rollDeg</th>\n",
              "      <th>pitchDeg</th>\n",
              "      <th>ahrsX</th>\n",
              "      <th>ahrsY</th>\n",
              "      <th>ahrsZ</th>\n",
              "      <th>AccelXMps2</th>\n",
              "      <th>GyroXRadPerSec</th>\n",
              "      <th>MagXMicroT</th>\n",
              "      <th>AccelYMps2</th>\n",
              "      <th>GyroYRadPerSec</th>\n",
              "      <th>MagYMicroT</th>\n",
              "      <th>AccelZMps2</th>\n",
              "      <th>GyroZRadPerSec</th>\n",
              "      <th>MagZMicroT</th>\n",
              "      <th>latDeg_bl</th>\n",
              "      <th>lngDeg_bl</th>\n",
              "      <th>heightAboveWgs84EllipsoidM</th>\n",
              "    </tr>\n",
              "  </thead>\n",
              "  <tbody>\n",
              "    <tr>\n",
              "      <th>0</th>\n",
              "      <td>2021-04-28-US-SJC-1</td>\n",
              "      <td>Pixel4</td>\n",
              "      <td>1303675174438</td>\n",
              "      <td>37.334153</td>\n",
              "      <td>-121.90026</td>\n",
              "      <td>1619639956442</td>\n",
              "      <td>-0.735793</td>\n",
              "      <td>9.826126</td>\n",
              "      <td>-0.872184</td>\n",
              "      <td>0.011606</td>\n",
              "      <td>0.003818</td>\n",
              "      <td>-0.000305</td>\n",
              "      <td>22.89375</td>\n",
              "      <td>-60.0</td>\n",
              "      <td>-74.90625</td>\n",
              "      <td>97</td>\n",
              "      <td>137</td>\n",
              "      <td>-83</td>\n",
              "      <td>0.858679</td>\n",
              "      <td>-1.418035</td>\n",
              "      <td>1.383556</td>\n",
              "      <td>-0.735793</td>\n",
              "      <td>0.011997</td>\n",
              "      <td>21.556401</td>\n",
              "      <td>9.826126</td>\n",
              "      <td>0.003989</td>\n",
              "      <td>-45.201324</td>\n",
              "      <td>-0.872184</td>\n",
              "      <td>0.001114</td>\n",
              "      <td>-15.00326</td>\n",
              "      <td>37.334151</td>\n",
              "      <td>-121.900248</td>\n",
              "      <td>-6.66</td>\n",
              "    </tr>\n",
              "  </tbody>\n",
              "</table>\n",
              "</div>"
            ],
            "text/plain": [
              "        collectionName phoneName  ...   lngDeg_bl  heightAboveWgs84EllipsoidM\n",
              "0  2021-04-28-US-SJC-1    Pixel4  ... -121.900248                       -6.66\n",
              "\n",
              "[1 rows x 33 columns]"
            ]
          },
          "metadata": {
            "tags": []
          }
        },
        {
          "output_type": "stream",
          "text": [
            "____________________\n",
            "Prepare Training Dataset： 2021-04-28-US-SJC-1_SamsungS20Ultra\n",
            "Loading /content/drive/MyDrive/GSDC/train/2021-04-28-US-SJC-1/SamsungS20Ultra/SamsungS20Ultra_GnssLog.txt\n",
            "sub-dataset shape：\n",
            "Raw: (83566, 36)\n",
            "Status: (44529, 13)\n",
            "UncalAccel: (208424, 8)\n",
            "UncalGyro: (208424, 8)\n",
            "UncalMag: (208424, 8)\n",
            "OrientationDeg: (208425, 5)\n",
            "OrientationDe: (0, 0)\n",
            "Orientatio: (0, 0)\n",
            "Fix: (0, 11)\n",
            "imu_df time scope: 2021-04-28 19:59:33.164000 - 2021-04-28 20:34:16.989000\n",
            "gt_df time scope: 2021-04-28 19:59:34 - 2021-04-28 20:34:16\n"
          ],
          "name": "stdout"
        },
        {
          "output_type": "display_data",
          "data": {
            "text/html": [
              "<div>\n",
              "<style scoped>\n",
              "    .dataframe tbody tr th:only-of-type {\n",
              "        vertical-align: middle;\n",
              "    }\n",
              "\n",
              "    .dataframe tbody tr th {\n",
              "        vertical-align: top;\n",
              "    }\n",
              "\n",
              "    .dataframe thead th {\n",
              "        text-align: right;\n",
              "    }\n",
              "</style>\n",
              "<table border=\"1\" class=\"dataframe\">\n",
              "  <thead>\n",
              "    <tr style=\"text-align: right;\">\n",
              "      <th></th>\n",
              "      <th>collectionName</th>\n",
              "      <th>phoneName</th>\n",
              "      <th>millisSinceGpsEpoch</th>\n",
              "      <th>latDeg_gt</th>\n",
              "      <th>lngDeg_gt</th>\n",
              "      <th>utcTimeMillis</th>\n",
              "      <th>UncalAccelXMps2</th>\n",
              "      <th>UncalAccelYMps2</th>\n",
              "      <th>UncalAccelZMps2</th>\n",
              "      <th>UncalGyroXRadPerSec</th>\n",
              "      <th>UncalGyroYRadPerSec</th>\n",
              "      <th>UncalGyroZRadPerSec</th>\n",
              "      <th>UncalMagXMicroT</th>\n",
              "      <th>UncalMagYMicroT</th>\n",
              "      <th>UncalMagZMicroT</th>\n",
              "      <th>yawDeg</th>\n",
              "      <th>rollDeg</th>\n",
              "      <th>pitchDeg</th>\n",
              "      <th>ahrsX</th>\n",
              "      <th>ahrsY</th>\n",
              "      <th>ahrsZ</th>\n",
              "      <th>AccelXMps2</th>\n",
              "      <th>GyroXRadPerSec</th>\n",
              "      <th>MagXMicroT</th>\n",
              "      <th>AccelYMps2</th>\n",
              "      <th>GyroYRadPerSec</th>\n",
              "      <th>MagYMicroT</th>\n",
              "      <th>AccelZMps2</th>\n",
              "      <th>GyroZRadPerSec</th>\n",
              "      <th>MagZMicroT</th>\n",
              "      <th>latDeg_bl</th>\n",
              "      <th>lngDeg_bl</th>\n",
              "      <th>heightAboveWgs84EllipsoidM</th>\n",
              "    </tr>\n",
              "  </thead>\n",
              "  <tbody>\n",
              "    <tr>\n",
              "      <th>0</th>\n",
              "      <td>2021-04-28-US-SJC-1</td>\n",
              "      <td>SamsungS20Ultra</td>\n",
              "      <td>1303675174000</td>\n",
              "      <td>37.334152</td>\n",
              "      <td>-121.900258</td>\n",
              "      <td>1619639956004</td>\n",
              "      <td>-0.878672</td>\n",
              "      <td>9.589077</td>\n",
              "      <td>-1.252167</td>\n",
              "      <td>0.009163</td>\n",
              "      <td>0.012217</td>\n",
              "      <td>0.014661</td>\n",
              "      <td>-21.359999</td>\n",
              "      <td>-48.239998</td>\n",
              "      <td>5.34</td>\n",
              "      <td>180</td>\n",
              "      <td>-180</td>\n",
              "      <td>0</td>\n",
              "      <td>2.233208</td>\n",
              "      <td>1.11929</td>\n",
              "      <td>-1.11929</td>\n",
              "      <td>-0.878672</td>\n",
              "      <td>0.006486</td>\n",
              "      <td>3.240001</td>\n",
              "      <td>9.589077</td>\n",
              "      <td>0.002229</td>\n",
              "      <td>-115.559998</td>\n",
              "      <td>-1.249773</td>\n",
              "      <td>0.001896</td>\n",
              "      <td>19.74</td>\n",
              "      <td>37.334131</td>\n",
              "      <td>-121.900276</td>\n",
              "      <td>11.16</td>\n",
              "    </tr>\n",
              "  </tbody>\n",
              "</table>\n",
              "</div>"
            ],
            "text/plain": [
              "        collectionName        phoneName  ...   lngDeg_bl  heightAboveWgs84EllipsoidM\n",
              "0  2021-04-28-US-SJC-1  SamsungS20Ultra  ... -121.900276                       11.16\n",
              "\n",
              "[1 rows x 33 columns]"
            ]
          },
          "metadata": {
            "tags": []
          }
        },
        {
          "output_type": "stream",
          "text": [
            "\n",
            " 67%|██████▋   | 2/3 [07:05<03:48, 228.43s/it]\u001b[A"
          ],
          "name": "stderr"
        },
        {
          "output_type": "stream",
          "text": [
            "____________________\n",
            "Prepare Training Dataset： 2021-04-29-US-SJC-2_Pixel4\n",
            "Loading /content/drive/MyDrive/GSDC/train/2021-04-29-US-SJC-2/Pixel4/Pixel4_GnssLog.txt\n",
            "sub-dataset shape：\n",
            "Raw: (75693, 36)\n",
            "Status: (114063, 13)\n",
            "UncalAccel: (241840, 8)\n",
            "UncalGyro: (241841, 8)\n",
            "UncalMag: (232787, 8)\n",
            "OrientationDeg: (145695, 5)\n",
            "OrientationDe: (0, 0)\n",
            "Orientatio: (0, 0)\n",
            "Fix: (0, 11)\n",
            "imu_df time scope: 2021-04-29 18:59:06.468000 - 2021-04-29 19:37:57.577000\n",
            "gt_df time scope: 2021-04-29 18:59:06.435000 - 2021-04-29 19:37:56.435000\n"
          ],
          "name": "stdout"
        },
        {
          "output_type": "display_data",
          "data": {
            "text/html": [
              "<div>\n",
              "<style scoped>\n",
              "    .dataframe tbody tr th:only-of-type {\n",
              "        vertical-align: middle;\n",
              "    }\n",
              "\n",
              "    .dataframe tbody tr th {\n",
              "        vertical-align: top;\n",
              "    }\n",
              "\n",
              "    .dataframe thead th {\n",
              "        text-align: right;\n",
              "    }\n",
              "</style>\n",
              "<table border=\"1\" class=\"dataframe\">\n",
              "  <thead>\n",
              "    <tr style=\"text-align: right;\">\n",
              "      <th></th>\n",
              "      <th>collectionName</th>\n",
              "      <th>phoneName</th>\n",
              "      <th>millisSinceGpsEpoch</th>\n",
              "      <th>latDeg_gt</th>\n",
              "      <th>lngDeg_gt</th>\n",
              "      <th>utcTimeMillis</th>\n",
              "      <th>UncalAccelXMps2</th>\n",
              "      <th>UncalAccelYMps2</th>\n",
              "      <th>UncalAccelZMps2</th>\n",
              "      <th>UncalGyroXRadPerSec</th>\n",
              "      <th>UncalGyroYRadPerSec</th>\n",
              "      <th>UncalGyroZRadPerSec</th>\n",
              "      <th>UncalMagXMicroT</th>\n",
              "      <th>UncalMagYMicroT</th>\n",
              "      <th>UncalMagZMicroT</th>\n",
              "      <th>yawDeg</th>\n",
              "      <th>rollDeg</th>\n",
              "      <th>pitchDeg</th>\n",
              "      <th>ahrsX</th>\n",
              "      <th>ahrsY</th>\n",
              "      <th>ahrsZ</th>\n",
              "      <th>AccelXMps2</th>\n",
              "      <th>GyroXRadPerSec</th>\n",
              "      <th>MagXMicroT</th>\n",
              "      <th>AccelYMps2</th>\n",
              "      <th>GyroYRadPerSec</th>\n",
              "      <th>MagYMicroT</th>\n",
              "      <th>AccelZMps2</th>\n",
              "      <th>GyroZRadPerSec</th>\n",
              "      <th>MagZMicroT</th>\n",
              "      <th>latDeg_bl</th>\n",
              "      <th>lngDeg_bl</th>\n",
              "      <th>heightAboveWgs84EllipsoidM</th>\n",
              "    </tr>\n",
              "  </thead>\n",
              "  <tbody>\n",
              "    <tr>\n",
              "      <th>0</th>\n",
              "      <td>2021-04-29-US-SJC-2</td>\n",
              "      <td>Pixel4</td>\n",
              "      <td>1303757946435</td>\n",
              "      <td>37.334479</td>\n",
              "      <td>-121.899598</td>\n",
              "      <td>1619722728468</td>\n",
              "      <td>-1.410569</td>\n",
              "      <td>9.847063</td>\n",
              "      <td>-1.429113</td>\n",
              "      <td>-0.014355</td>\n",
              "      <td>-0.001985</td>\n",
              "      <td>-0.001374</td>\n",
              "      <td>45.16875</td>\n",
              "      <td>-63.01875</td>\n",
              "      <td>-56.868748</td>\n",
              "      <td>54</td>\n",
              "      <td>130</td>\n",
              "      <td>-79</td>\n",
              "      <td>-0.043558</td>\n",
              "      <td>-1.238227</td>\n",
              "      <td>0.240662</td>\n",
              "      <td>-1.410569</td>\n",
              "      <td>-0.013964</td>\n",
              "      <td>31.912175</td>\n",
              "      <td>9.847063</td>\n",
              "      <td>-0.001688</td>\n",
              "      <td>-45.663628</td>\n",
              "      <td>-1.429113</td>\n",
              "      <td>0.00039</td>\n",
              "      <td>-0.728451</td>\n",
              "      <td>37.334493</td>\n",
              "      <td>-121.899602</td>\n",
              "      <td>-9.15</td>\n",
              "    </tr>\n",
              "  </tbody>\n",
              "</table>\n",
              "</div>"
            ],
            "text/plain": [
              "        collectionName phoneName  ...   lngDeg_bl  heightAboveWgs84EllipsoidM\n",
              "0  2021-04-29-US-SJC-2    Pixel4  ... -121.899602                       -9.15\n",
              "\n",
              "[1 rows x 33 columns]"
            ]
          },
          "metadata": {
            "tags": []
          }
        },
        {
          "output_type": "stream",
          "text": [
            "____________________\n",
            "Prepare Training Dataset： 2021-04-29-US-SJC-2_SamsungS20Ultra\n",
            "Loading /content/drive/MyDrive/GSDC/train/2021-04-29-US-SJC-2/SamsungS20Ultra/SamsungS20Ultra_GnssLog.txt\n",
            "sub-dataset shape：\n",
            "Raw: (98538, 36)\n",
            "Status: (39835, 13)\n",
            "UncalAccel: (237139, 8)\n",
            "UncalGyro: (237139, 8)\n",
            "UncalMag: (237139, 8)\n",
            "OrientationDeg: (237140, 5)\n",
            "OrientationDe: (0, 0)\n",
            "Orientatio: (0, 0)\n",
            "Fix: (0, 11)\n",
            "imu_df time scope: 2021-04-29 18:59:08.892000 - 2021-04-29 19:38:39.990000\n",
            "gt_df time scope: 2021-04-29 18:59:10 - 2021-04-29 19:38:39\n"
          ],
          "name": "stdout"
        },
        {
          "output_type": "display_data",
          "data": {
            "text/html": [
              "<div>\n",
              "<style scoped>\n",
              "    .dataframe tbody tr th:only-of-type {\n",
              "        vertical-align: middle;\n",
              "    }\n",
              "\n",
              "    .dataframe tbody tr th {\n",
              "        vertical-align: top;\n",
              "    }\n",
              "\n",
              "    .dataframe thead th {\n",
              "        text-align: right;\n",
              "    }\n",
              "</style>\n",
              "<table border=\"1\" class=\"dataframe\">\n",
              "  <thead>\n",
              "    <tr style=\"text-align: right;\">\n",
              "      <th></th>\n",
              "      <th>collectionName</th>\n",
              "      <th>phoneName</th>\n",
              "      <th>millisSinceGpsEpoch</th>\n",
              "      <th>latDeg_gt</th>\n",
              "      <th>lngDeg_gt</th>\n",
              "      <th>utcTimeMillis</th>\n",
              "      <th>UncalAccelXMps2</th>\n",
              "      <th>UncalAccelYMps2</th>\n",
              "      <th>UncalAccelZMps2</th>\n",
              "      <th>UncalGyroXRadPerSec</th>\n",
              "      <th>UncalGyroYRadPerSec</th>\n",
              "      <th>UncalGyroZRadPerSec</th>\n",
              "      <th>UncalMagXMicroT</th>\n",
              "      <th>UncalMagYMicroT</th>\n",
              "      <th>UncalMagZMicroT</th>\n",
              "      <th>yawDeg</th>\n",
              "      <th>rollDeg</th>\n",
              "      <th>pitchDeg</th>\n",
              "      <th>ahrsX</th>\n",
              "      <th>ahrsY</th>\n",
              "      <th>ahrsZ</th>\n",
              "      <th>AccelXMps2</th>\n",
              "      <th>GyroXRadPerSec</th>\n",
              "      <th>MagXMicroT</th>\n",
              "      <th>AccelYMps2</th>\n",
              "      <th>GyroYRadPerSec</th>\n",
              "      <th>MagYMicroT</th>\n",
              "      <th>AccelZMps2</th>\n",
              "      <th>GyroZRadPerSec</th>\n",
              "      <th>MagZMicroT</th>\n",
              "      <th>latDeg_bl</th>\n",
              "      <th>lngDeg_bl</th>\n",
              "      <th>heightAboveWgs84EllipsoidM</th>\n",
              "    </tr>\n",
              "  </thead>\n",
              "  <tbody>\n",
              "    <tr>\n",
              "      <th>0</th>\n",
              "      <td>2021-04-29-US-SJC-2</td>\n",
              "      <td>SamsungS20Ultra</td>\n",
              "      <td>1303757950000</td>\n",
              "      <td>37.334481</td>\n",
              "      <td>-121.8996</td>\n",
              "      <td>1619722732003</td>\n",
              "      <td>-1.522712</td>\n",
              "      <td>9.589077</td>\n",
              "      <td>-1.608904</td>\n",
              "      <td>0.012828</td>\n",
              "      <td>0.008552</td>\n",
              "      <td>0.012217</td>\n",
              "      <td>-14.82</td>\n",
              "      <td>-63.84</td>\n",
              "      <td>10.38</td>\n",
              "      <td>180</td>\n",
              "      <td>-180</td>\n",
              "      <td>0</td>\n",
              "      <td>2.233208</td>\n",
              "      <td>1.11929</td>\n",
              "      <td>-1.11929</td>\n",
              "      <td>-1.522712</td>\n",
              "      <td>0.008547</td>\n",
              "      <td>-9.48</td>\n",
              "      <td>9.589077</td>\n",
              "      <td>-0.001324</td>\n",
              "      <td>-20.4</td>\n",
              "      <td>-1.606509</td>\n",
              "      <td>-0.00089</td>\n",
              "      <td>-6.6</td>\n",
              "      <td>37.33447</td>\n",
              "      <td>-121.899636</td>\n",
              "      <td>-4.86</td>\n",
              "    </tr>\n",
              "  </tbody>\n",
              "</table>\n",
              "</div>"
            ],
            "text/plain": [
              "        collectionName        phoneName  ...   lngDeg_bl  heightAboveWgs84EllipsoidM\n",
              "0  2021-04-29-US-SJC-2  SamsungS20Ultra  ... -121.899636                       -4.86\n",
              "\n",
              "[1 rows x 33 columns]"
            ]
          },
          "metadata": {
            "tags": []
          }
        },
        {
          "output_type": "stream",
          "text": [
            "\n",
            "100%|██████████| 3/3 [10:27<00:00, 209.25s/it]"
          ],
          "name": "stderr"
        },
        {
          "output_type": "stream",
          "text": [
            "____________________\n",
            "Final Dataset shape： (14333, 843)\n"
          ],
          "name": "stdout"
        },
        {
          "output_type": "stream",
          "text": [
            "\n"
          ],
          "name": "stderr"
        }
      ]
    },
    {
      "cell_type": "code",
      "metadata": {
        "colab": {
          "base_uri": "https://localhost:8080/"
        },
        "id": "lbgPHzRyDefE",
        "outputId": "653b22aa-68f9-4a95-b16d-edf84d310040"
      },
      "source": [
        "test_base[\"collectionName\"].unique()"
      ],
      "execution_count": null,
      "outputs": [
        {
          "output_type": "execute_result",
          "data": {
            "text/plain": [
              "array(['2020-05-15-US-MTV-1', '2020-05-28-US-MTV-1',\n",
              "       '2020-05-28-US-MTV-2', '2020-06-04-US-MTV-2',\n",
              "       '2020-06-10-US-MTV-1', '2020-06-10-US-MTV-2',\n",
              "       '2020-08-03-US-MTV-2', '2020-08-13-US-MTV-1',\n",
              "       '2021-03-16-US-MTV-2', '2021-03-16-US-RWC-2',\n",
              "       '2021-03-25-US-PAO-1', '2021-04-02-US-SJC-1',\n",
              "       '2021-04-08-US-MTV-1', '2021-04-21-US-MTV-1',\n",
              "       '2021-04-22-US-SJC-2', '2021-04-26-US-SVL-2',\n",
              "       '2021-04-28-US-MTV-2', '2021-04-29-US-MTV-2',\n",
              "       '2021-04-29-US-SJC-3'], dtype=object)"
            ]
          },
          "metadata": {
            "tags": []
          },
          "execution_count": 89
        }
      ]
    },
    {
      "cell_type": "code",
      "metadata": {
        "colab": {
          "base_uri": "https://localhost:8080/"
        },
        "id": "HknJosNAi6Dw",
        "outputId": "05e046b8-96ab-49aa-ac64-3f4737a2d9f1"
      },
      "source": [
        "tgt_cns_test = ['2021-04-22-US-SJC-2', '2021-04-29-US-SJC-3']\n",
        "cn2pn_test_df = test_base[['collectionName', 'phoneName']].drop_duplicates()\n",
        "\n",
        "df_tests = []\n",
        "lat_lng_df_tests = []\n",
        "\n",
        "for tgt_cn in tqdm(tgt_cns_test):\n",
        "    pns = list(cn2pn_test_df[cn2pn_test_df['collectionName'] == tgt_cn]['phoneName'].values)\n",
        "    for tgt_pn in pns:\n",
        "        print('Prepare Training Dataset：', tgt_cn + '_' + tgt_pn)  \n",
        "        df_all_test = prepare_imu_data(path, 'test', tgt_cn, tgt_pn, test_base)\n",
        "        lat_lng_df_test, df_all_test = get_xyz(df_all_test, 'test')\n",
        "        df_test = prepare_df_test(df_all_test,  window_size)\n",
        "        df_tests.append(df_test)\n",
        "        lat_lng_df_tests.append(lat_lng_df_test)\n",
        "\n",
        "df_test = pd.concat(df_tests, axis = 0)\n",
        "lat_lng_df_test = pd.concat(lat_lng_df_tests, axis = 0)\n",
        "        \n",
        "print('df_test:', df_test.shape)\n",
        "print('df_test.columns:', df_test.columns)"
      ],
      "execution_count": 19,
      "outputs": [
        {
          "output_type": "stream",
          "text": [
            "\n",
            "  0%|          | 0/2 [00:00<?, ?it/s]\u001b[A"
          ],
          "name": "stderr"
        },
        {
          "output_type": "stream",
          "text": [
            "Prepare Training Dataset： 2021-04-22-US-SJC-2_SamsungS20Ultra\n",
            "Loading /content/drive/MyDrive/GSDC/test/2021-04-22-US-SJC-2/SamsungS20Ultra/SamsungS20Ultra_GnssLog.txt\n",
            "sub-dataset shape：\n",
            "Raw: (89737, 36)\n",
            "Status: (40793, 13)\n",
            "UncalAccel: (232389, 8)\n",
            "UncalGyro: (232389, 8)\n",
            "UncalMag: (232389, 8)\n",
            "OrientationDeg: (232342, 5)\n",
            "OrientationDe: (0, 0)\n",
            "Orientatio: (0, 0)\n",
            "Fix: (0, 11)\n",
            "imu_df time scope: 2021-04-22 22:01:14.226000 - 2021-04-22 22:39:57.997000\n"
          ],
          "name": "stdout"
        },
        {
          "output_type": "stream",
          "text": [
            "\n",
            " 50%|█████     | 1/2 [01:55<01:55, 115.37s/it]\u001b[A"
          ],
          "name": "stderr"
        },
        {
          "output_type": "stream",
          "text": [
            "Prepare Training Dataset： 2021-04-29-US-SJC-3_Pixel4\n",
            "Loading /content/drive/MyDrive/GSDC/test/2021-04-29-US-SJC-3/Pixel4/Pixel4_GnssLog.txt\n",
            "sub-dataset shape：\n",
            "Raw: (54937, 36)\n",
            "Status: (83035, 13)\n",
            "UncalAccel: (205625, 8)\n",
            "UncalGyro: (205626, 8)\n",
            "UncalMag: (197761, 8)\n",
            "OrientationDeg: (123877, 5)\n",
            "OrientationDe: (0, 0)\n",
            "Orientatio: (0, 0)\n",
            "Fix: (0, 11)\n",
            "imu_df time scope: 2021-04-29 19:52:06.364000 - 2021-04-29 20:25:08.405000\n",
            "Prepare Training Dataset： 2021-04-29-US-SJC-3_SamsungS20Ultra\n",
            "Loading /content/drive/MyDrive/GSDC/test/2021-04-29-US-SJC-3/SamsungS20Ultra/SamsungS20Ultra_GnssLog.txt\n",
            "sub-dataset shape：\n",
            "Raw: (78662, 36)\n",
            "Status: (40565, 13)\n",
            "UncalAccel: (206266, 8)\n",
            "UncalGyro: (206266, 8)\n",
            "UncalMag: (206266, 8)\n",
            "OrientationDeg: (206266, 5)\n",
            "OrientationDe: (0, 0)\n",
            "Orientatio: (0, 0)\n",
            "Fix: (0, 11)\n",
            "imu_df time scope: 2021-04-29 19:52:07.506000 - 2021-04-29 20:26:29.991000\n"
          ],
          "name": "stdout"
        },
        {
          "output_type": "stream",
          "text": [
            "\n",
            "100%|██████████| 2/2 [05:09<00:00, 154.96s/it]"
          ],
          "name": "stderr"
        },
        {
          "output_type": "stream",
          "text": [
            "df_test: (6274, 840)\n",
            "df_test.columns: Index(['UncalAccelXMps2_1', 'UncalAccelYMps2_1', 'UncalAccelZMps2_1',\n",
            "       'UncalGyroXRadPerSec_1', 'UncalGyroYRadPerSec_1',\n",
            "       'UncalGyroZRadPerSec_1', 'UncalMagXMicroT_1', 'UncalMagYMicroT_1',\n",
            "       'UncalMagZMicroT_1', 'yawZDeg_1',\n",
            "       ...\n",
            "       'AccelYMps2_30', 'GyroYRadPerSec_30', 'MagYMicroT_30', 'AccelZMps2_30',\n",
            "       'GyroZRadPerSec_30', 'MagZMicroT_30', 'heightAboveWgs84EllipsoidM_30',\n",
            "       'Xbl_30', 'Ybl_30', 'Zbl_30'],\n",
            "      dtype='object', length=840)\n"
          ],
          "name": "stdout"
        },
        {
          "output_type": "stream",
          "text": [
            "\n"
          ],
          "name": "stderr"
        }
      ]
    },
    {
      "cell_type": "code",
      "metadata": {
        "id": "vp0slKXbFZvB"
      },
      "source": [
        "def training(df_train, df_test, tgt_axis, window_size):\n",
        "    '''For the given axis target to train the model. Also, it has validation and prediciton.'''\n",
        "    df_train = remove_other_axis_feats(df_train, tgt_axis)\n",
        "    df_train = add_stat_feats(df_train, tgt_axis)\n",
        "    df_test = remove_other_axis_feats(df_test, tgt_axis)\n",
        "    df_test = add_stat_feats(df_test, tgt_axis)\n",
        "    \n",
        "    feature_names = [f for f in list(df_train) if f not in ['Xgt', 'Ygt', 'Zgt']]\n",
        "    target = '{}gt'.format(tgt_axis)\n",
        "\n",
        "    kfold = KFold(n_splits=folds, shuffle=True, random_state=params['seed'])\n",
        "\n",
        "    pred_valid = np.zeros((len(df_train),)) \n",
        "    pred_test = np.zeros((len(df_test),)) \n",
        "    scores = []\n",
        "    for fold_id, (trn_idx, val_idx) in enumerate(kfold.split(df_train, df_train[target])):\n",
        "        X_train = df_train.iloc[trn_idx][feature_names]\n",
        "        Y_train = df_train.iloc[trn_idx][target]\n",
        "        X_val = df_train.iloc[val_idx][feature_names]\n",
        "        Y_val = df_train.iloc[val_idx][target]\n",
        "\n",
        "        model = lgb.LGBMRegressor(**params)\n",
        "        lgb_model = model.fit(X_train, \n",
        "                              Y_train,\n",
        "                              eval_names=['train', 'valid'],\n",
        "                              eval_set=[(X_train, Y_train), (X_val, Y_val)],\n",
        "                              verbose=0,\n",
        "                              eval_metric=params['metric'],\n",
        "                              early_stopping_rounds=params['early_stopping_rounds'])\n",
        "\n",
        "        pred_valid[val_idx] = lgb_model.predict(X_val, num_iteration =  lgb_model.best_iteration_)\n",
        "        pred_test += lgb_model.predict(df_test[feature_names], num_iteration =  lgb_model.best_iteration_)\n",
        "\n",
        "        scores.append(lgb_model.best_score_['valid']['l2'])\n",
        "    \n",
        "    pred_test = pred_test /  kfold.n_splits\n",
        "    \n",
        "    if verbose_flag == True:\n",
        "        print(\"Each Fold's MSE：{}, Average MSE：{:.4f}\".format([np.round(v,2) for v in scores], np.mean(scores)))\n",
        "        print(\"-\"*60)\n",
        "    return df_train, df_test, pred_valid, pred_test"
      ],
      "execution_count": 20,
      "outputs": []
    },
    {
      "cell_type": "code",
      "metadata": {
        "colab": {
          "base_uri": "https://localhost:8080/"
        },
        "id": "VhEqmy4YWj0B",
        "outputId": "1e42bfd1-8c67-4576-a5c9-a9e73d411beb"
      },
      "source": [
        "df_train_x, df_test_x, pred_valid_x, pred_test_x = training(df_train, df_test, 'X', window_size)\n",
        "df_train_y, df_test_y, pred_valid_y, pred_test_y = training(df_train, df_test, 'Y', window_size)\n",
        "df_train_z, df_test_z, pred_valid_z, pred_test_z = training(df_train, df_test, 'Z', window_size)"
      ],
      "execution_count": 21,
      "outputs": [
        {
          "output_type": "stream",
          "text": [
            "Each Fold's MSE：[92.47, 119.83, 187.87, 101.97, 95.95], Average MSE：119.6173\n",
            "------------------------------------------------------------\n",
            "Each Fold's MSE：[191.07, 203.43, 377.38, 179.12, 148.73], Average MSE：219.9449\n",
            "------------------------------------------------------------\n",
            "Each Fold's MSE：[147.65, 160.86, 432.0, 161.76, 123.47], Average MSE：205.1483\n",
            "------------------------------------------------------------\n"
          ],
          "name": "stdout"
        }
      ]
    },
    {
      "cell_type": "code",
      "metadata": {
        "id": "ZXQQPeWmWkWL"
      },
      "source": [
        "val_compare_df = pd.DataFrame({'Xgt':df_train_x['Xgt'].values, 'Xpred':pred_valid_x,\n",
        "                               'Ygt':df_train_y['Ygt'].values, 'Ypred':pred_valid_y,\n",
        "                                'Zgt':df_train_z['Zgt'].values, 'Zpred':pred_valid_z})"
      ],
      "execution_count": 22,
      "outputs": []
    },
    {
      "cell_type": "code",
      "metadata": {
        "colab": {
          "base_uri": "https://localhost:8080/",
          "height": 486
        },
        "id": "wPIT3lRhW49r",
        "outputId": "270694eb-2c72-46c5-a0d4-fd988039994b"
      },
      "source": [
        "val_compare_df[['Zgt', 'Zpred']].plot(figsize=(16,8))"
      ],
      "execution_count": 23,
      "outputs": [
        {
          "output_type": "execute_result",
          "data": {
            "text/plain": [
              "<matplotlib.axes._subplots.AxesSubplot at 0x7f190a5b9a50>"
            ]
          },
          "metadata": {
            "tags": []
          },
          "execution_count": 23
        },
        {
          "output_type": "display_data",
          "data": {
            "image/png": "[encoded data removed]",
            "text/plain": [
              "<Figure size 1152x576 with 1 Axes>"
            ]
          },
          "metadata": {
            "tags": [],
            "needs_background": "light"
          }
        }
      ]
    },
    {
      "cell_type": "code",
      "metadata": {
        "colab": {
          "base_uri": "https://localhost:8080/",
          "height": 481
        },
        "id": "UvqOB-reW8VK",
        "outputId": "8b6cda94-4597-43d3-ece8-186fc61adf74"
      },
      "source": [
        "val_compare_df[['Ygt', 'Ypred']].plot(figsize=(16,8))\n"
      ],
      "execution_count": 24,
      "outputs": [
        {
          "output_type": "execute_result",
          "data": {
            "text/plain": [
              "<matplotlib.axes._subplots.AxesSubplot at 0x7f1905312f10>"
            ]
          },
          "metadata": {
            "tags": []
          },
          "execution_count": 24
        },
        {
          "output_type": "display_data",
          "data": {
            "image/png": "[encoded data removed]",
            "text/plain": [
              "<Figure size 1152x576 with 1 Axes>"
            ]
          },
          "metadata": {
            "tags": [],
            "needs_background": "light"
          }
        }
      ]
    },
    {
      "cell_type": "code",
      "metadata": {
        "id": "TVccga3-XBTa"
      },
      "source": [
        "lng_gt, lat_gt, _ = ECEF_to_WGS84(val_compare_df['Xgt'].values,val_compare_df['Ygt'].values,val_compare_df['Zgt'].values)\n",
        "lng_pred, lat_pred, _ = ECEF_to_WGS84(val_compare_df['Xpred'].values,val_compare_df['Ypred'].values,val_compare_df['Zpred'].values)\n",
        "lng_test_pred, lat_test_pred, _ = ECEF_to_WGS84(pred_test_x, pred_test_y, pred_test_z)\n",
        "\n",
        "    \n",
        "val_compare_df['latDeg_gt'] = lat_gt\n",
        "val_compare_df['lngDeg_gt'] = lng_gt\n",
        "val_compare_df['latDeg_pred'] = lat_pred\n",
        "val_compare_df['lngDeg_pred'] = lng_pred\n",
        "test_pred_df = pd.DataFrame({'latDeg':lat_test_pred, 'lngDeg':lng_test_pred})"
      ],
      "execution_count": 25,
      "outputs": []
    },
    {
      "cell_type": "code",
      "metadata": {
        "id": "-V2Swb0WXFui"
      },
      "source": [
        "def calc_haversine(lat1, lon1, lat2, lon2):\n",
        "    \"\"\"Calculates the great circle distance between two points\n",
        "    on the earth. Inputs are array-like and specified in decimal degrees.\n",
        "    \"\"\"\n",
        "    lat1, lon1, lat2, lon2 = map(np.radians, [lat1, lon1, lat2, lon2])\n",
        "    dlat = lat2 - lat1\n",
        "    dlon = lon2 - lon1\n",
        "    a = np.sin(dlat/2.0)**2 + np.cos(lat1) * np.cos(lat2) * np.sin(dlon/2.0)**2\n",
        "\n",
        "    c = 2 * np.arcsin(a**0.5)\n",
        "    dist = 6_367_000 * c\n",
        "    return dist"
      ],
      "execution_count": 26,
      "outputs": []
    },
    {
      "cell_type": "code",
      "metadata": {
        "colab": {
          "base_uri": "https://localhost:8080/"
        },
        "id": "uvtBKEHzXIJC",
        "outputId": "2cb9b596-0574-4f19-bbe4-9f9d79a12033"
      },
      "source": [
        "lat_lng_df_train['dist'] = calc_haversine(lat_lng_df_train.latDeg_gt, lat_lng_df_train.lngDeg_gt, \n",
        "                                lat_lng_df_train.latDeg_bl, lat_lng_df_train.lngDeg_bl)\n",
        "print('dist_50:',np.percentile(lat_lng_df_train['dist'],50) )\n",
        "print('dist_95:',np.percentile(lat_lng_df_train['dist'],95) )\n",
        "print('avg_dist_50_95:',(np.percentile(lat_lng_df_train['dist'],50) + np.percentile(lat_lng_df_train['dist'],95))/2)\n",
        "print('avg_dist:', lat_lng_df_train['dist'].mean())"
      ],
      "execution_count": 27,
      "outputs": [
        {
          "output_type": "stream",
          "text": [
            "dist_50: 6.129357526334204\n",
            "dist_95: 33.83701581185293\n",
            "avg_dist_50_95: 19.983186669093566\n",
            "avg_dist: 10.5084494053175\n"
          ],
          "name": "stdout"
        }
      ]
    },
    {
      "cell_type": "code",
      "metadata": {
        "colab": {
          "base_uri": "https://localhost:8080/"
        },
        "id": "WmRMEpEFXKHj",
        "outputId": "dac16e91-5642-4eb7-8971-366682e4f3bb"
      },
      "source": [
        "val_compare_df['dist'] = calc_haversine(val_compare_df.latDeg_gt, val_compare_df.lngDeg_gt, \n",
        "                                val_compare_df.latDeg_pred, val_compare_df.lngDeg_pred)\n",
        "# IMU预测vsGT（多collection）\n",
        "print('dist_50:',np.percentile(val_compare_df['dist'],50) )\n",
        "print('dist_95:',np.percentile(val_compare_df['dist'],95) )\n",
        "print('avg_dist_50_95:',(np.percentile(val_compare_df['dist'],50) + np.percentile(val_compare_df['dist'],95))/2)\n",
        "print('avg_dist:', val_compare_df['dist'].mean())"
      ],
      "execution_count": 28,
      "outputs": [
        {
          "output_type": "stream",
          "text": [
            "dist_50: 6.7433170042171975\n",
            "dist_95: 19.431369398760978\n",
            "avg_dist_50_95: 13.087343201489087\n",
            "avg_dist: 8.34333618701736\n"
          ],
          "name": "stdout"
        }
      ]
    },
    {
      "cell_type": "code",
      "metadata": {
        "id": "iAyY1ycjXguq"
      },
      "source": [
        "test_base[test_base[\"phone\"] == \"2021-04-22-US-SJC-2_SamsungS20Ultra\"][\"latDeg\"] = test_pred_df[\"latDeg\"].iloc[0:2324]\n",
        "test_base[test_base[\"phone\"] == \"2021-04-22-US-SJC-2_SamsungS20Ultra\"][\"lngDeg\"] = test_pred_df[\"lngDeg\"].iloc[0:2324]"
      ],
      "execution_count": 41,
      "outputs": []
    },
    {
      "cell_type": "code",
      "metadata": {
        "id": "kJ0BQ9UFsY9q"
      },
      "source": [
        "test_base[test_base[\"collectionName\"] == \"2021-04-29-US-SJC-3\"][\"latDeg\"] = test_pred_df[\"latDeg\"].iloc[2325:6274]\n",
        "test_base[test_base[\"collectionName\"] == \"2021-04-29-US-SJC-3\"][\"lngDeg\"] = test_pred_df[\"lngDeg\"].iloc[2325:6274]"
      ],
      "execution_count": 42,
      "outputs": []
    },
    {
      "cell_type": "code",
      "metadata": {
        "id": "_vTn0650ZVOx"
      },
      "source": [
        "test_base.to_csv(\"submission_27.csv\", index=False)"
      ],
      "execution_count": 43,
      "outputs": []
    },
    {
      "cell_type": "code",
      "metadata": {
        "id": "u_iTqlKatQ3j"
      },
      "source": [
        ""
      ],
      "execution_count": null,
      "outputs": []
    }
  ]
}